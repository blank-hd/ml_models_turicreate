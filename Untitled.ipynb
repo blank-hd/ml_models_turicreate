{
 "cells": [
  {
   "cell_type": "code",
   "execution_count": 1,
   "metadata": {
    "collapsed": true
   },
   "outputs": [],
   "source": [
    "import turicreate"
   ]
  },
  {
   "cell_type": "code",
   "execution_count": 2,
   "metadata": {
    "collapsed": true
   },
   "outputs": [],
   "source": [
    "sales = turicreate.SFrame('home_data.sframe')"
   ]
  },
  {
   "cell_type": "code",
   "execution_count": 3,
   "metadata": {
    "scrolled": true
   },
   "outputs": [
    {
     "data": {
      "text/html": [
       "<div style=\"max-height:1000px;max-width:1500px;overflow:auto;\"><table frame=\"box\" rules=\"cols\">\n",
       "    <tr>\n",
       "        <th style=\"padding-left: 1em; padding-right: 1em; text-align: center\">id</th>\n",
       "        <th style=\"padding-left: 1em; padding-right: 1em; text-align: center\">date</th>\n",
       "        <th style=\"padding-left: 1em; padding-right: 1em; text-align: center\">price</th>\n",
       "        <th style=\"padding-left: 1em; padding-right: 1em; text-align: center\">bedrooms</th>\n",
       "        <th style=\"padding-left: 1em; padding-right: 1em; text-align: center\">bathrooms</th>\n",
       "        <th style=\"padding-left: 1em; padding-right: 1em; text-align: center\">sqft_living</th>\n",
       "        <th style=\"padding-left: 1em; padding-right: 1em; text-align: center\">sqft_lot</th>\n",
       "        <th style=\"padding-left: 1em; padding-right: 1em; text-align: center\">floors</th>\n",
       "        <th style=\"padding-left: 1em; padding-right: 1em; text-align: center\">waterfront</th>\n",
       "    </tr>\n",
       "    <tr>\n",
       "        <td style=\"padding-left: 1em; padding-right: 1em; text-align: center; vertical-align: top\">7129300520</td>\n",
       "        <td style=\"padding-left: 1em; padding-right: 1em; text-align: center; vertical-align: top\">2014-10-13 00:00:00+00:00</td>\n",
       "        <td style=\"padding-left: 1em; padding-right: 1em; text-align: center; vertical-align: top\">221900.0</td>\n",
       "        <td style=\"padding-left: 1em; padding-right: 1em; text-align: center; vertical-align: top\">3.0</td>\n",
       "        <td style=\"padding-left: 1em; padding-right: 1em; text-align: center; vertical-align: top\">1.0</td>\n",
       "        <td style=\"padding-left: 1em; padding-right: 1em; text-align: center; vertical-align: top\">1180.0</td>\n",
       "        <td style=\"padding-left: 1em; padding-right: 1em; text-align: center; vertical-align: top\">5650.0</td>\n",
       "        <td style=\"padding-left: 1em; padding-right: 1em; text-align: center; vertical-align: top\">1.0</td>\n",
       "        <td style=\"padding-left: 1em; padding-right: 1em; text-align: center; vertical-align: top\">0</td>\n",
       "    </tr>\n",
       "    <tr>\n",
       "        <td style=\"padding-left: 1em; padding-right: 1em; text-align: center; vertical-align: top\">6414100192</td>\n",
       "        <td style=\"padding-left: 1em; padding-right: 1em; text-align: center; vertical-align: top\">2014-12-09 00:00:00+00:00</td>\n",
       "        <td style=\"padding-left: 1em; padding-right: 1em; text-align: center; vertical-align: top\">538000.0</td>\n",
       "        <td style=\"padding-left: 1em; padding-right: 1em; text-align: center; vertical-align: top\">3.0</td>\n",
       "        <td style=\"padding-left: 1em; padding-right: 1em; text-align: center; vertical-align: top\">2.25</td>\n",
       "        <td style=\"padding-left: 1em; padding-right: 1em; text-align: center; vertical-align: top\">2570.0</td>\n",
       "        <td style=\"padding-left: 1em; padding-right: 1em; text-align: center; vertical-align: top\">7242.0</td>\n",
       "        <td style=\"padding-left: 1em; padding-right: 1em; text-align: center; vertical-align: top\">2.0</td>\n",
       "        <td style=\"padding-left: 1em; padding-right: 1em; text-align: center; vertical-align: top\">0</td>\n",
       "    </tr>\n",
       "    <tr>\n",
       "        <td style=\"padding-left: 1em; padding-right: 1em; text-align: center; vertical-align: top\">5631500400</td>\n",
       "        <td style=\"padding-left: 1em; padding-right: 1em; text-align: center; vertical-align: top\">2015-02-25 00:00:00+00:00</td>\n",
       "        <td style=\"padding-left: 1em; padding-right: 1em; text-align: center; vertical-align: top\">180000.0</td>\n",
       "        <td style=\"padding-left: 1em; padding-right: 1em; text-align: center; vertical-align: top\">2.0</td>\n",
       "        <td style=\"padding-left: 1em; padding-right: 1em; text-align: center; vertical-align: top\">1.0</td>\n",
       "        <td style=\"padding-left: 1em; padding-right: 1em; text-align: center; vertical-align: top\">770.0</td>\n",
       "        <td style=\"padding-left: 1em; padding-right: 1em; text-align: center; vertical-align: top\">10000.0</td>\n",
       "        <td style=\"padding-left: 1em; padding-right: 1em; text-align: center; vertical-align: top\">1.0</td>\n",
       "        <td style=\"padding-left: 1em; padding-right: 1em; text-align: center; vertical-align: top\">0</td>\n",
       "    </tr>\n",
       "    <tr>\n",
       "        <td style=\"padding-left: 1em; padding-right: 1em; text-align: center; vertical-align: top\">2487200875</td>\n",
       "        <td style=\"padding-left: 1em; padding-right: 1em; text-align: center; vertical-align: top\">2014-12-09 00:00:00+00:00</td>\n",
       "        <td style=\"padding-left: 1em; padding-right: 1em; text-align: center; vertical-align: top\">604000.0</td>\n",
       "        <td style=\"padding-left: 1em; padding-right: 1em; text-align: center; vertical-align: top\">4.0</td>\n",
       "        <td style=\"padding-left: 1em; padding-right: 1em; text-align: center; vertical-align: top\">3.0</td>\n",
       "        <td style=\"padding-left: 1em; padding-right: 1em; text-align: center; vertical-align: top\">1960.0</td>\n",
       "        <td style=\"padding-left: 1em; padding-right: 1em; text-align: center; vertical-align: top\">5000.0</td>\n",
       "        <td style=\"padding-left: 1em; padding-right: 1em; text-align: center; vertical-align: top\">1.0</td>\n",
       "        <td style=\"padding-left: 1em; padding-right: 1em; text-align: center; vertical-align: top\">0</td>\n",
       "    </tr>\n",
       "    <tr>\n",
       "        <td style=\"padding-left: 1em; padding-right: 1em; text-align: center; vertical-align: top\">1954400510</td>\n",
       "        <td style=\"padding-left: 1em; padding-right: 1em; text-align: center; vertical-align: top\">2015-02-18 00:00:00+00:00</td>\n",
       "        <td style=\"padding-left: 1em; padding-right: 1em; text-align: center; vertical-align: top\">510000.0</td>\n",
       "        <td style=\"padding-left: 1em; padding-right: 1em; text-align: center; vertical-align: top\">3.0</td>\n",
       "        <td style=\"padding-left: 1em; padding-right: 1em; text-align: center; vertical-align: top\">2.0</td>\n",
       "        <td style=\"padding-left: 1em; padding-right: 1em; text-align: center; vertical-align: top\">1680.0</td>\n",
       "        <td style=\"padding-left: 1em; padding-right: 1em; text-align: center; vertical-align: top\">8080.0</td>\n",
       "        <td style=\"padding-left: 1em; padding-right: 1em; text-align: center; vertical-align: top\">1.0</td>\n",
       "        <td style=\"padding-left: 1em; padding-right: 1em; text-align: center; vertical-align: top\">0</td>\n",
       "    </tr>\n",
       "    <tr>\n",
       "        <td style=\"padding-left: 1em; padding-right: 1em; text-align: center; vertical-align: top\">7237550310</td>\n",
       "        <td style=\"padding-left: 1em; padding-right: 1em; text-align: center; vertical-align: top\">2014-05-12 00:00:00+00:00</td>\n",
       "        <td style=\"padding-left: 1em; padding-right: 1em; text-align: center; vertical-align: top\">1225000.0</td>\n",
       "        <td style=\"padding-left: 1em; padding-right: 1em; text-align: center; vertical-align: top\">4.0</td>\n",
       "        <td style=\"padding-left: 1em; padding-right: 1em; text-align: center; vertical-align: top\">4.5</td>\n",
       "        <td style=\"padding-left: 1em; padding-right: 1em; text-align: center; vertical-align: top\">5420.0</td>\n",
       "        <td style=\"padding-left: 1em; padding-right: 1em; text-align: center; vertical-align: top\">101930.0</td>\n",
       "        <td style=\"padding-left: 1em; padding-right: 1em; text-align: center; vertical-align: top\">1.0</td>\n",
       "        <td style=\"padding-left: 1em; padding-right: 1em; text-align: center; vertical-align: top\">0</td>\n",
       "    </tr>\n",
       "    <tr>\n",
       "        <td style=\"padding-left: 1em; padding-right: 1em; text-align: center; vertical-align: top\">1321400060</td>\n",
       "        <td style=\"padding-left: 1em; padding-right: 1em; text-align: center; vertical-align: top\">2014-06-27 00:00:00+00:00</td>\n",
       "        <td style=\"padding-left: 1em; padding-right: 1em; text-align: center; vertical-align: top\">257500.0</td>\n",
       "        <td style=\"padding-left: 1em; padding-right: 1em; text-align: center; vertical-align: top\">3.0</td>\n",
       "        <td style=\"padding-left: 1em; padding-right: 1em; text-align: center; vertical-align: top\">2.25</td>\n",
       "        <td style=\"padding-left: 1em; padding-right: 1em; text-align: center; vertical-align: top\">1715.0</td>\n",
       "        <td style=\"padding-left: 1em; padding-right: 1em; text-align: center; vertical-align: top\">6819.0</td>\n",
       "        <td style=\"padding-left: 1em; padding-right: 1em; text-align: center; vertical-align: top\">2.0</td>\n",
       "        <td style=\"padding-left: 1em; padding-right: 1em; text-align: center; vertical-align: top\">0</td>\n",
       "    </tr>\n",
       "    <tr>\n",
       "        <td style=\"padding-left: 1em; padding-right: 1em; text-align: center; vertical-align: top\">2008000270</td>\n",
       "        <td style=\"padding-left: 1em; padding-right: 1em; text-align: center; vertical-align: top\">2015-01-15 00:00:00+00:00</td>\n",
       "        <td style=\"padding-left: 1em; padding-right: 1em; text-align: center; vertical-align: top\">291850.0</td>\n",
       "        <td style=\"padding-left: 1em; padding-right: 1em; text-align: center; vertical-align: top\">3.0</td>\n",
       "        <td style=\"padding-left: 1em; padding-right: 1em; text-align: center; vertical-align: top\">1.5</td>\n",
       "        <td style=\"padding-left: 1em; padding-right: 1em; text-align: center; vertical-align: top\">1060.0</td>\n",
       "        <td style=\"padding-left: 1em; padding-right: 1em; text-align: center; vertical-align: top\">9711.0</td>\n",
       "        <td style=\"padding-left: 1em; padding-right: 1em; text-align: center; vertical-align: top\">1.0</td>\n",
       "        <td style=\"padding-left: 1em; padding-right: 1em; text-align: center; vertical-align: top\">0</td>\n",
       "    </tr>\n",
       "    <tr>\n",
       "        <td style=\"padding-left: 1em; padding-right: 1em; text-align: center; vertical-align: top\">2414600126</td>\n",
       "        <td style=\"padding-left: 1em; padding-right: 1em; text-align: center; vertical-align: top\">2015-04-15 00:00:00+00:00</td>\n",
       "        <td style=\"padding-left: 1em; padding-right: 1em; text-align: center; vertical-align: top\">229500.0</td>\n",
       "        <td style=\"padding-left: 1em; padding-right: 1em; text-align: center; vertical-align: top\">3.0</td>\n",
       "        <td style=\"padding-left: 1em; padding-right: 1em; text-align: center; vertical-align: top\">1.0</td>\n",
       "        <td style=\"padding-left: 1em; padding-right: 1em; text-align: center; vertical-align: top\">1780.0</td>\n",
       "        <td style=\"padding-left: 1em; padding-right: 1em; text-align: center; vertical-align: top\">7470.0</td>\n",
       "        <td style=\"padding-left: 1em; padding-right: 1em; text-align: center; vertical-align: top\">1.0</td>\n",
       "        <td style=\"padding-left: 1em; padding-right: 1em; text-align: center; vertical-align: top\">0</td>\n",
       "    </tr>\n",
       "    <tr>\n",
       "        <td style=\"padding-left: 1em; padding-right: 1em; text-align: center; vertical-align: top\">3793500160</td>\n",
       "        <td style=\"padding-left: 1em; padding-right: 1em; text-align: center; vertical-align: top\">2015-03-12 00:00:00+00:00</td>\n",
       "        <td style=\"padding-left: 1em; padding-right: 1em; text-align: center; vertical-align: top\">323000.0</td>\n",
       "        <td style=\"padding-left: 1em; padding-right: 1em; text-align: center; vertical-align: top\">3.0</td>\n",
       "        <td style=\"padding-left: 1em; padding-right: 1em; text-align: center; vertical-align: top\">2.5</td>\n",
       "        <td style=\"padding-left: 1em; padding-right: 1em; text-align: center; vertical-align: top\">1890.0</td>\n",
       "        <td style=\"padding-left: 1em; padding-right: 1em; text-align: center; vertical-align: top\">6560.0</td>\n",
       "        <td style=\"padding-left: 1em; padding-right: 1em; text-align: center; vertical-align: top\">2.0</td>\n",
       "        <td style=\"padding-left: 1em; padding-right: 1em; text-align: center; vertical-align: top\">0</td>\n",
       "    </tr>\n",
       "</table>\n",
       "<table frame=\"box\" rules=\"cols\">\n",
       "    <tr>\n",
       "        <th style=\"padding-left: 1em; padding-right: 1em; text-align: center\">view</th>\n",
       "        <th style=\"padding-left: 1em; padding-right: 1em; text-align: center\">condition</th>\n",
       "        <th style=\"padding-left: 1em; padding-right: 1em; text-align: center\">grade</th>\n",
       "        <th style=\"padding-left: 1em; padding-right: 1em; text-align: center\">sqft_above</th>\n",
       "        <th style=\"padding-left: 1em; padding-right: 1em; text-align: center\">sqft_basement</th>\n",
       "        <th style=\"padding-left: 1em; padding-right: 1em; text-align: center\">yr_built</th>\n",
       "        <th style=\"padding-left: 1em; padding-right: 1em; text-align: center\">yr_renovated</th>\n",
       "        <th style=\"padding-left: 1em; padding-right: 1em; text-align: center\">zipcode</th>\n",
       "        <th style=\"padding-left: 1em; padding-right: 1em; text-align: center\">lat</th>\n",
       "    </tr>\n",
       "    <tr>\n",
       "        <td style=\"padding-left: 1em; padding-right: 1em; text-align: center; vertical-align: top\">0</td>\n",
       "        <td style=\"padding-left: 1em; padding-right: 1em; text-align: center; vertical-align: top\">3</td>\n",
       "        <td style=\"padding-left: 1em; padding-right: 1em; text-align: center; vertical-align: top\">7.0</td>\n",
       "        <td style=\"padding-left: 1em; padding-right: 1em; text-align: center; vertical-align: top\">1180.0</td>\n",
       "        <td style=\"padding-left: 1em; padding-right: 1em; text-align: center; vertical-align: top\">0.0</td>\n",
       "        <td style=\"padding-left: 1em; padding-right: 1em; text-align: center; vertical-align: top\">1955.0</td>\n",
       "        <td style=\"padding-left: 1em; padding-right: 1em; text-align: center; vertical-align: top\">0.0</td>\n",
       "        <td style=\"padding-left: 1em; padding-right: 1em; text-align: center; vertical-align: top\">98178</td>\n",
       "        <td style=\"padding-left: 1em; padding-right: 1em; text-align: center; vertical-align: top\">47.51123398</td>\n",
       "    </tr>\n",
       "    <tr>\n",
       "        <td style=\"padding-left: 1em; padding-right: 1em; text-align: center; vertical-align: top\">0</td>\n",
       "        <td style=\"padding-left: 1em; padding-right: 1em; text-align: center; vertical-align: top\">3</td>\n",
       "        <td style=\"padding-left: 1em; padding-right: 1em; text-align: center; vertical-align: top\">7.0</td>\n",
       "        <td style=\"padding-left: 1em; padding-right: 1em; text-align: center; vertical-align: top\">2170.0</td>\n",
       "        <td style=\"padding-left: 1em; padding-right: 1em; text-align: center; vertical-align: top\">400.0</td>\n",
       "        <td style=\"padding-left: 1em; padding-right: 1em; text-align: center; vertical-align: top\">1951.0</td>\n",
       "        <td style=\"padding-left: 1em; padding-right: 1em; text-align: center; vertical-align: top\">1991.0</td>\n",
       "        <td style=\"padding-left: 1em; padding-right: 1em; text-align: center; vertical-align: top\">98125</td>\n",
       "        <td style=\"padding-left: 1em; padding-right: 1em; text-align: center; vertical-align: top\">47.72102274</td>\n",
       "    </tr>\n",
       "    <tr>\n",
       "        <td style=\"padding-left: 1em; padding-right: 1em; text-align: center; vertical-align: top\">0</td>\n",
       "        <td style=\"padding-left: 1em; padding-right: 1em; text-align: center; vertical-align: top\">3</td>\n",
       "        <td style=\"padding-left: 1em; padding-right: 1em; text-align: center; vertical-align: top\">6.0</td>\n",
       "        <td style=\"padding-left: 1em; padding-right: 1em; text-align: center; vertical-align: top\">770.0</td>\n",
       "        <td style=\"padding-left: 1em; padding-right: 1em; text-align: center; vertical-align: top\">0.0</td>\n",
       "        <td style=\"padding-left: 1em; padding-right: 1em; text-align: center; vertical-align: top\">1933.0</td>\n",
       "        <td style=\"padding-left: 1em; padding-right: 1em; text-align: center; vertical-align: top\">0.0</td>\n",
       "        <td style=\"padding-left: 1em; padding-right: 1em; text-align: center; vertical-align: top\">98028</td>\n",
       "        <td style=\"padding-left: 1em; padding-right: 1em; text-align: center; vertical-align: top\">47.73792661</td>\n",
       "    </tr>\n",
       "    <tr>\n",
       "        <td style=\"padding-left: 1em; padding-right: 1em; text-align: center; vertical-align: top\">0</td>\n",
       "        <td style=\"padding-left: 1em; padding-right: 1em; text-align: center; vertical-align: top\">5</td>\n",
       "        <td style=\"padding-left: 1em; padding-right: 1em; text-align: center; vertical-align: top\">7.0</td>\n",
       "        <td style=\"padding-left: 1em; padding-right: 1em; text-align: center; vertical-align: top\">1050.0</td>\n",
       "        <td style=\"padding-left: 1em; padding-right: 1em; text-align: center; vertical-align: top\">910.0</td>\n",
       "        <td style=\"padding-left: 1em; padding-right: 1em; text-align: center; vertical-align: top\">1965.0</td>\n",
       "        <td style=\"padding-left: 1em; padding-right: 1em; text-align: center; vertical-align: top\">0.0</td>\n",
       "        <td style=\"padding-left: 1em; padding-right: 1em; text-align: center; vertical-align: top\">98136</td>\n",
       "        <td style=\"padding-left: 1em; padding-right: 1em; text-align: center; vertical-align: top\">47.52082</td>\n",
       "    </tr>\n",
       "    <tr>\n",
       "        <td style=\"padding-left: 1em; padding-right: 1em; text-align: center; vertical-align: top\">0</td>\n",
       "        <td style=\"padding-left: 1em; padding-right: 1em; text-align: center; vertical-align: top\">3</td>\n",
       "        <td style=\"padding-left: 1em; padding-right: 1em; text-align: center; vertical-align: top\">8.0</td>\n",
       "        <td style=\"padding-left: 1em; padding-right: 1em; text-align: center; vertical-align: top\">1680.0</td>\n",
       "        <td style=\"padding-left: 1em; padding-right: 1em; text-align: center; vertical-align: top\">0.0</td>\n",
       "        <td style=\"padding-left: 1em; padding-right: 1em; text-align: center; vertical-align: top\">1987.0</td>\n",
       "        <td style=\"padding-left: 1em; padding-right: 1em; text-align: center; vertical-align: top\">0.0</td>\n",
       "        <td style=\"padding-left: 1em; padding-right: 1em; text-align: center; vertical-align: top\">98074</td>\n",
       "        <td style=\"padding-left: 1em; padding-right: 1em; text-align: center; vertical-align: top\">47.61681228</td>\n",
       "    </tr>\n",
       "    <tr>\n",
       "        <td style=\"padding-left: 1em; padding-right: 1em; text-align: center; vertical-align: top\">0</td>\n",
       "        <td style=\"padding-left: 1em; padding-right: 1em; text-align: center; vertical-align: top\">3</td>\n",
       "        <td style=\"padding-left: 1em; padding-right: 1em; text-align: center; vertical-align: top\">11.0</td>\n",
       "        <td style=\"padding-left: 1em; padding-right: 1em; text-align: center; vertical-align: top\">3890.0</td>\n",
       "        <td style=\"padding-left: 1em; padding-right: 1em; text-align: center; vertical-align: top\">1530.0</td>\n",
       "        <td style=\"padding-left: 1em; padding-right: 1em; text-align: center; vertical-align: top\">2001.0</td>\n",
       "        <td style=\"padding-left: 1em; padding-right: 1em; text-align: center; vertical-align: top\">0.0</td>\n",
       "        <td style=\"padding-left: 1em; padding-right: 1em; text-align: center; vertical-align: top\">98053</td>\n",
       "        <td style=\"padding-left: 1em; padding-right: 1em; text-align: center; vertical-align: top\">47.65611835</td>\n",
       "    </tr>\n",
       "    <tr>\n",
       "        <td style=\"padding-left: 1em; padding-right: 1em; text-align: center; vertical-align: top\">0</td>\n",
       "        <td style=\"padding-left: 1em; padding-right: 1em; text-align: center; vertical-align: top\">3</td>\n",
       "        <td style=\"padding-left: 1em; padding-right: 1em; text-align: center; vertical-align: top\">7.0</td>\n",
       "        <td style=\"padding-left: 1em; padding-right: 1em; text-align: center; vertical-align: top\">1715.0</td>\n",
       "        <td style=\"padding-left: 1em; padding-right: 1em; text-align: center; vertical-align: top\">0.0</td>\n",
       "        <td style=\"padding-left: 1em; padding-right: 1em; text-align: center; vertical-align: top\">1995.0</td>\n",
       "        <td style=\"padding-left: 1em; padding-right: 1em; text-align: center; vertical-align: top\">0.0</td>\n",
       "        <td style=\"padding-left: 1em; padding-right: 1em; text-align: center; vertical-align: top\">98003</td>\n",
       "        <td style=\"padding-left: 1em; padding-right: 1em; text-align: center; vertical-align: top\">47.30972002</td>\n",
       "    </tr>\n",
       "    <tr>\n",
       "        <td style=\"padding-left: 1em; padding-right: 1em; text-align: center; vertical-align: top\">0</td>\n",
       "        <td style=\"padding-left: 1em; padding-right: 1em; text-align: center; vertical-align: top\">3</td>\n",
       "        <td style=\"padding-left: 1em; padding-right: 1em; text-align: center; vertical-align: top\">7.0</td>\n",
       "        <td style=\"padding-left: 1em; padding-right: 1em; text-align: center; vertical-align: top\">1060.0</td>\n",
       "        <td style=\"padding-left: 1em; padding-right: 1em; text-align: center; vertical-align: top\">0.0</td>\n",
       "        <td style=\"padding-left: 1em; padding-right: 1em; text-align: center; vertical-align: top\">1963.0</td>\n",
       "        <td style=\"padding-left: 1em; padding-right: 1em; text-align: center; vertical-align: top\">0.0</td>\n",
       "        <td style=\"padding-left: 1em; padding-right: 1em; text-align: center; vertical-align: top\">98198</td>\n",
       "        <td style=\"padding-left: 1em; padding-right: 1em; text-align: center; vertical-align: top\">47.40949984</td>\n",
       "    </tr>\n",
       "    <tr>\n",
       "        <td style=\"padding-left: 1em; padding-right: 1em; text-align: center; vertical-align: top\">0</td>\n",
       "        <td style=\"padding-left: 1em; padding-right: 1em; text-align: center; vertical-align: top\">3</td>\n",
       "        <td style=\"padding-left: 1em; padding-right: 1em; text-align: center; vertical-align: top\">7.0</td>\n",
       "        <td style=\"padding-left: 1em; padding-right: 1em; text-align: center; vertical-align: top\">1050.0</td>\n",
       "        <td style=\"padding-left: 1em; padding-right: 1em; text-align: center; vertical-align: top\">730.0</td>\n",
       "        <td style=\"padding-left: 1em; padding-right: 1em; text-align: center; vertical-align: top\">1960.0</td>\n",
       "        <td style=\"padding-left: 1em; padding-right: 1em; text-align: center; vertical-align: top\">0.0</td>\n",
       "        <td style=\"padding-left: 1em; padding-right: 1em; text-align: center; vertical-align: top\">98146</td>\n",
       "        <td style=\"padding-left: 1em; padding-right: 1em; text-align: center; vertical-align: top\">47.51229381</td>\n",
       "    </tr>\n",
       "    <tr>\n",
       "        <td style=\"padding-left: 1em; padding-right: 1em; text-align: center; vertical-align: top\">0</td>\n",
       "        <td style=\"padding-left: 1em; padding-right: 1em; text-align: center; vertical-align: top\">3</td>\n",
       "        <td style=\"padding-left: 1em; padding-right: 1em; text-align: center; vertical-align: top\">7.0</td>\n",
       "        <td style=\"padding-left: 1em; padding-right: 1em; text-align: center; vertical-align: top\">1890.0</td>\n",
       "        <td style=\"padding-left: 1em; padding-right: 1em; text-align: center; vertical-align: top\">0.0</td>\n",
       "        <td style=\"padding-left: 1em; padding-right: 1em; text-align: center; vertical-align: top\">2003.0</td>\n",
       "        <td style=\"padding-left: 1em; padding-right: 1em; text-align: center; vertical-align: top\">0.0</td>\n",
       "        <td style=\"padding-left: 1em; padding-right: 1em; text-align: center; vertical-align: top\">98038</td>\n",
       "        <td style=\"padding-left: 1em; padding-right: 1em; text-align: center; vertical-align: top\">47.36840673</td>\n",
       "    </tr>\n",
       "</table>\n",
       "<table frame=\"box\" rules=\"cols\">\n",
       "    <tr>\n",
       "        <th style=\"padding-left: 1em; padding-right: 1em; text-align: center\">long</th>\n",
       "        <th style=\"padding-left: 1em; padding-right: 1em; text-align: center\">sqft_living15</th>\n",
       "        <th style=\"padding-left: 1em; padding-right: 1em; text-align: center\">sqft_lot15</th>\n",
       "    </tr>\n",
       "    <tr>\n",
       "        <td style=\"padding-left: 1em; padding-right: 1em; text-align: center; vertical-align: top\">-122.25677536</td>\n",
       "        <td style=\"padding-left: 1em; padding-right: 1em; text-align: center; vertical-align: top\">1340.0</td>\n",
       "        <td style=\"padding-left: 1em; padding-right: 1em; text-align: center; vertical-align: top\">5650.0</td>\n",
       "    </tr>\n",
       "    <tr>\n",
       "        <td style=\"padding-left: 1em; padding-right: 1em; text-align: center; vertical-align: top\">-122.3188624</td>\n",
       "        <td style=\"padding-left: 1em; padding-right: 1em; text-align: center; vertical-align: top\">1690.0</td>\n",
       "        <td style=\"padding-left: 1em; padding-right: 1em; text-align: center; vertical-align: top\">7639.0</td>\n",
       "    </tr>\n",
       "    <tr>\n",
       "        <td style=\"padding-left: 1em; padding-right: 1em; text-align: center; vertical-align: top\">-122.23319601</td>\n",
       "        <td style=\"padding-left: 1em; padding-right: 1em; text-align: center; vertical-align: top\">2720.0</td>\n",
       "        <td style=\"padding-left: 1em; padding-right: 1em; text-align: center; vertical-align: top\">8062.0</td>\n",
       "    </tr>\n",
       "    <tr>\n",
       "        <td style=\"padding-left: 1em; padding-right: 1em; text-align: center; vertical-align: top\">-122.39318505</td>\n",
       "        <td style=\"padding-left: 1em; padding-right: 1em; text-align: center; vertical-align: top\">1360.0</td>\n",
       "        <td style=\"padding-left: 1em; padding-right: 1em; text-align: center; vertical-align: top\">5000.0</td>\n",
       "    </tr>\n",
       "    <tr>\n",
       "        <td style=\"padding-left: 1em; padding-right: 1em; text-align: center; vertical-align: top\">-122.04490059</td>\n",
       "        <td style=\"padding-left: 1em; padding-right: 1em; text-align: center; vertical-align: top\">1800.0</td>\n",
       "        <td style=\"padding-left: 1em; padding-right: 1em; text-align: center; vertical-align: top\">7503.0</td>\n",
       "    </tr>\n",
       "    <tr>\n",
       "        <td style=\"padding-left: 1em; padding-right: 1em; text-align: center; vertical-align: top\">-122.00528655</td>\n",
       "        <td style=\"padding-left: 1em; padding-right: 1em; text-align: center; vertical-align: top\">4760.0</td>\n",
       "        <td style=\"padding-left: 1em; padding-right: 1em; text-align: center; vertical-align: top\">101930.0</td>\n",
       "    </tr>\n",
       "    <tr>\n",
       "        <td style=\"padding-left: 1em; padding-right: 1em; text-align: center; vertical-align: top\">-122.32704857</td>\n",
       "        <td style=\"padding-left: 1em; padding-right: 1em; text-align: center; vertical-align: top\">2238.0</td>\n",
       "        <td style=\"padding-left: 1em; padding-right: 1em; text-align: center; vertical-align: top\">6819.0</td>\n",
       "    </tr>\n",
       "    <tr>\n",
       "        <td style=\"padding-left: 1em; padding-right: 1em; text-align: center; vertical-align: top\">-122.31457273</td>\n",
       "        <td style=\"padding-left: 1em; padding-right: 1em; text-align: center; vertical-align: top\">1650.0</td>\n",
       "        <td style=\"padding-left: 1em; padding-right: 1em; text-align: center; vertical-align: top\">9711.0</td>\n",
       "    </tr>\n",
       "    <tr>\n",
       "        <td style=\"padding-left: 1em; padding-right: 1em; text-align: center; vertical-align: top\">-122.33659507</td>\n",
       "        <td style=\"padding-left: 1em; padding-right: 1em; text-align: center; vertical-align: top\">1780.0</td>\n",
       "        <td style=\"padding-left: 1em; padding-right: 1em; text-align: center; vertical-align: top\">8113.0</td>\n",
       "    </tr>\n",
       "    <tr>\n",
       "        <td style=\"padding-left: 1em; padding-right: 1em; text-align: center; vertical-align: top\">-122.0308176</td>\n",
       "        <td style=\"padding-left: 1em; padding-right: 1em; text-align: center; vertical-align: top\">2390.0</td>\n",
       "        <td style=\"padding-left: 1em; padding-right: 1em; text-align: center; vertical-align: top\">7570.0</td>\n",
       "    </tr>\n",
       "</table>\n",
       "[21613 rows x 21 columns]<br/>Note: Only the head of the SFrame is printed.<br/>You can use print_rows(num_rows=m, num_columns=n) to print more rows and columns.\n",
       "</div>"
      ],
      "text/plain": [
       "Columns:\n",
       "\tid\tstr\n",
       "\tdate\tdatetime\n",
       "\tprice\tfloat\n",
       "\tbedrooms\tfloat\n",
       "\tbathrooms\tfloat\n",
       "\tsqft_living\tfloat\n",
       "\tsqft_lot\tfloat\n",
       "\tfloors\tfloat\n",
       "\twaterfront\tint\n",
       "\tview\tint\n",
       "\tcondition\tint\n",
       "\tgrade\tfloat\n",
       "\tsqft_above\tfloat\n",
       "\tsqft_basement\tfloat\n",
       "\tyr_built\tfloat\n",
       "\tyr_renovated\tfloat\n",
       "\tzipcode\tstr\n",
       "\tlat\tfloat\n",
       "\tlong\tfloat\n",
       "\tsqft_living15\tfloat\n",
       "\tsqft_lot15\tfloat\n",
       "\n",
       "Rows: 21613\n",
       "\n",
       "Data:\n",
       "+------------+---------------------------+-----------+----------+-----------+\n",
       "|     id     |            date           |   price   | bedrooms | bathrooms |\n",
       "+------------+---------------------------+-----------+----------+-----------+\n",
       "| 7129300520 | 2014-10-13 00:00:00+00:00 |  221900.0 |   3.0    |    1.0    |\n",
       "| 6414100192 | 2014-12-09 00:00:00+00:00 |  538000.0 |   3.0    |    2.25   |\n",
       "| 5631500400 | 2015-02-25 00:00:00+00:00 |  180000.0 |   2.0    |    1.0    |\n",
       "| 2487200875 | 2014-12-09 00:00:00+00:00 |  604000.0 |   4.0    |    3.0    |\n",
       "| 1954400510 | 2015-02-18 00:00:00+00:00 |  510000.0 |   3.0    |    2.0    |\n",
       "| 7237550310 | 2014-05-12 00:00:00+00:00 | 1225000.0 |   4.0    |    4.5    |\n",
       "| 1321400060 | 2014-06-27 00:00:00+00:00 |  257500.0 |   3.0    |    2.25   |\n",
       "| 2008000270 | 2015-01-15 00:00:00+00:00 |  291850.0 |   3.0    |    1.5    |\n",
       "| 2414600126 | 2015-04-15 00:00:00+00:00 |  229500.0 |   3.0    |    1.0    |\n",
       "| 3793500160 | 2015-03-12 00:00:00+00:00 |  323000.0 |   3.0    |    2.5    |\n",
       "+------------+---------------------------+-----------+----------+-----------+\n",
       "+-------------+----------+--------+------------+------+-----------+-------+\n",
       "| sqft_living | sqft_lot | floors | waterfront | view | condition | grade |\n",
       "+-------------+----------+--------+------------+------+-----------+-------+\n",
       "|    1180.0   |  5650.0  |  1.0   |     0      |  0   |     3     |  7.0  |\n",
       "|    2570.0   |  7242.0  |  2.0   |     0      |  0   |     3     |  7.0  |\n",
       "|    770.0    | 10000.0  |  1.0   |     0      |  0   |     3     |  6.0  |\n",
       "|    1960.0   |  5000.0  |  1.0   |     0      |  0   |     5     |  7.0  |\n",
       "|    1680.0   |  8080.0  |  1.0   |     0      |  0   |     3     |  8.0  |\n",
       "|    5420.0   | 101930.0 |  1.0   |     0      |  0   |     3     |  11.0 |\n",
       "|    1715.0   |  6819.0  |  2.0   |     0      |  0   |     3     |  7.0  |\n",
       "|    1060.0   |  9711.0  |  1.0   |     0      |  0   |     3     |  7.0  |\n",
       "|    1780.0   |  7470.0  |  1.0   |     0      |  0   |     3     |  7.0  |\n",
       "|    1890.0   |  6560.0  |  2.0   |     0      |  0   |     3     |  7.0  |\n",
       "+-------------+----------+--------+------------+------+-----------+-------+\n",
       "+------------+---------------+----------+--------------+---------+-------------+\n",
       "| sqft_above | sqft_basement | yr_built | yr_renovated | zipcode |     lat     |\n",
       "+------------+---------------+----------+--------------+---------+-------------+\n",
       "|   1180.0   |      0.0      |  1955.0  |     0.0      |  98178  | 47.51123398 |\n",
       "|   2170.0   |     400.0     |  1951.0  |    1991.0    |  98125  | 47.72102274 |\n",
       "|   770.0    |      0.0      |  1933.0  |     0.0      |  98028  | 47.73792661 |\n",
       "|   1050.0   |     910.0     |  1965.0  |     0.0      |  98136  |   47.52082  |\n",
       "|   1680.0   |      0.0      |  1987.0  |     0.0      |  98074  | 47.61681228 |\n",
       "|   3890.0   |     1530.0    |  2001.0  |     0.0      |  98053  | 47.65611835 |\n",
       "|   1715.0   |      0.0      |  1995.0  |     0.0      |  98003  | 47.30972002 |\n",
       "|   1060.0   |      0.0      |  1963.0  |     0.0      |  98198  | 47.40949984 |\n",
       "|   1050.0   |     730.0     |  1960.0  |     0.0      |  98146  | 47.51229381 |\n",
       "|   1890.0   |      0.0      |  2003.0  |     0.0      |  98038  | 47.36840673 |\n",
       "+------------+---------------+----------+--------------+---------+-------------+\n",
       "+---------------+---------------+-----+\n",
       "|      long     | sqft_living15 | ... |\n",
       "+---------------+---------------+-----+\n",
       "| -122.25677536 |     1340.0    | ... |\n",
       "|  -122.3188624 |     1690.0    | ... |\n",
       "| -122.23319601 |     2720.0    | ... |\n",
       "| -122.39318505 |     1360.0    | ... |\n",
       "| -122.04490059 |     1800.0    | ... |\n",
       "| -122.00528655 |     4760.0    | ... |\n",
       "| -122.32704857 |     2238.0    | ... |\n",
       "| -122.31457273 |     1650.0    | ... |\n",
       "| -122.33659507 |     1780.0    | ... |\n",
       "|  -122.0308176 |     2390.0    | ... |\n",
       "+---------------+---------------+-----+\n",
       "[21613 rows x 21 columns]\n",
       "Note: Only the head of the SFrame is printed.\n",
       "You can use print_rows(num_rows=m, num_columns=n) to print more rows and columns."
      ]
     },
     "execution_count": 3,
     "metadata": {},
     "output_type": "execute_result"
    }
   ],
   "source": [
    "sales"
   ]
  },
  {
   "cell_type": "markdown",
   "metadata": {},
   "source": [
    "# Explore"
   ]
  },
  {
   "cell_type": "code",
   "execution_count": 4,
   "metadata": {
    "collapsed": true
   },
   "outputs": [
    {
     "data": {
      "text/html": [
       "<pre>Materializing SFrame</pre>"
      ],
      "text/plain": [
       "Materializing SFrame"
      ]
     },
     "metadata": {},
     "output_type": "display_data"
    },
    {
     "data": {
      "text/html": [
       "<pre>Warning: Skipping column 'date'. Unable to show columns of type 'datetime'; only [int, float, str] can be shown.</pre>"
      ],
      "text/plain": [
       "Warning: Skipping column 'date'. Unable to show columns of type 'datetime'; only [int, float, str] can be shown."
      ]
     },
     "metadata": {},
     "output_type": "display_data"
    },
    {
     "data": {
      "text/html": [
       "<pre>Further warnings of unsupported type will be suppressed.</pre>"
      ],
      "text/plain": [
       "Further warnings of unsupported type will be suppressed."
      ]
     },
     "metadata": {},
     "output_type": "display_data"
    },
    {
     "data": {
      "text/html": [
       "<html>                 <body>                     <iframe style=\"border:0;margin:0\" width=\"1000\" height=\"6300\" srcdoc='<html lang=\"en\">                         <head>                             <script src=\"https://cdnjs.cloudflare.com/ajax/libs/vega/5.4.0/vega.js\"></script>                             <script src=\"https://cdnjs.cloudflare.com/ajax/libs/vega-embed/4.0.0/vega-embed.js\"></script>                             <script src=\"https://cdnjs.cloudflare.com/ajax/libs/vega-tooltip/0.5.1/vega-tooltip.min.js\"></script>                             <link rel=\"stylesheet\" type=\"text/css\" href=\"https://cdnjs.cloudflare.com/ajax/libs/vega-tooltip/0.5.1/vega-tooltip.min.css\">                             <style>                             .vega-actions > a{                                 color:white;                                 text-decoration: none;                                 font-family: \"Arial\";                                 cursor:pointer;                                 padding:5px;                                 background:#AAAAAA;                                 border-radius:4px;                                 padding-left:10px;                                 padding-right:10px;                                 margin-right:5px;                             }                             .vega-actions{                                 margin-top:20px;                                 text-align:center                             }                            .vega-actions > a{                                 background:#999999;                            }                             </style>                         </head>                         <body>                             <div id=\"vis\">                             </div>                             <script>                                 var vega_json = \"{\\\"$schema\\\": \\\"https://vega.github.io/schema/vega/v4.json\\\", \\\"metadata\\\": {\\\"bubbleOpts\\\": {\\\"showAllFields\\\": false, \\\"fields\\\": [{\\\"field\\\": \\\"left\\\"}, {\\\"field\\\": \\\"right\\\"}, {\\\"field\\\": \\\"count\\\"}, {\\\"field\\\": \\\"label\\\"}]}}, \\\"width\\\": 800, \\\"height\\\": 6080, \\\"padding\\\": 8, \\\"data\\\": [{\\\"name\\\": \\\"pts_store\\\"}, {\\\"name\\\": \\\"source_2\\\", \\\"values\\\": [{\\\"a\\\": 0, \\\"title\\\": \\\"id\\\", \\\"num_row\\\": 21613, \\\"type\\\": \\\"str\\\", \\\"num_unique\\\": 21436, \\\"num_missing\\\": 0, \\\"categorical\\\": [{\\\"label\\\": \\\"0795000620\\\", \\\"label_idx\\\": 0, \\\"count\\\": 3, \\\"percentage\\\": \\\"0.0138805%\\\"}, {\\\"label\\\": \\\"0001000102\\\", \\\"label_idx\\\": 1, \\\"count\\\": 2, \\\"percentage\\\": \\\"0.00925369%\\\"}, {\\\"label\\\": \\\"0007200179\\\", \\\"label_idx\\\": 2, \\\"count\\\": 2, \\\"percentage\\\": \\\"0.00925369%\\\"}, {\\\"label\\\": \\\"0109200390\\\", \\\"label_idx\\\": 3, \\\"count\\\": 2, \\\"percentage\\\": \\\"0.00925369%\\\"}, {\\\"label\\\": \\\"0123039336\\\", \\\"label_idx\\\": 4, \\\"count\\\": 2, \\\"percentage\\\": \\\"0.00925369%\\\"}, {\\\"label\\\": \\\"0251300110\\\", \\\"label_idx\\\": 5, \\\"count\\\": 2, \\\"percentage\\\": \\\"0.00925369%\\\"}, {\\\"label\\\": \\\"0302000375\\\", \\\"label_idx\\\": 6, \\\"count\\\": 2, \\\"percentage\\\": \\\"0.00925369%\\\"}, {\\\"label\\\": \\\"0324000530\\\", \\\"label_idx\\\": 7, \\\"count\\\": 2, \\\"percentage\\\": \\\"0.00925369%\\\"}, {\\\"label\\\": \\\"0526059224\\\", \\\"label_idx\\\": 8, \\\"count\\\": 2, \\\"percentage\\\": \\\"0.00925369%\\\"}, {\\\"label\\\": \\\"0641900050\\\", \\\"label_idx\\\": 9, \\\"count\\\": 2, \\\"percentage\\\": \\\"0.00925369%\\\"}, {\\\"label\\\": \\\"Other (21426 labels)\\\", \\\"label_idx\\\": 10, \\\"count\\\": 21592, \\\"percentage\\\": \\\"99.9028%\\\"}], \\\"numeric\\\": []}, {\\\"a\\\": 1, \\\"title\\\": \\\"price\\\", \\\"num_row\\\": 21613, \\\"type\\\": \\\"float\\\", \\\"num_unique\\\": 4032, \\\"num_missing\\\": 0, \\\"mean\\\": 540088.141905, \\\"min\\\": 75000.0, \\\"max\\\": 7700000.0, \\\"median\\\": 450000.0, \\\"stdev\\\": 367118.702667, \\\"numeric\\\": [{\\\"left\\\": 36033.2, \\\"right\\\": 420411, \\\"count\\\": 9578}, {\\\"left\\\": 420411, \\\"right\\\": 804788, \\\"count\\\": 9110}, {\\\"left\\\": 804788, \\\"right\\\": 1189170.0, \\\"count\\\": 1897}, {\\\"left\\\": 1189170.0, \\\"right\\\": 1573540.0, \\\"count\\\": 561}, {\\\"left\\\": 1573540.0, \\\"right\\\": 1957920.0, \\\"count\\\": 248}, {\\\"left\\\": 1957920.0, \\\"right\\\": 2342300.0, \\\"count\\\": 88}, {\\\"left\\\": 2342300.0, \\\"right\\\": 2726680.0, \\\"count\\\": 60}, {\\\"left\\\": 2726680.0, \\\"right\\\": 3111050.0, \\\"count\\\": 32}, {\\\"left\\\": 3111050.0, \\\"right\\\": 3495430.0, \\\"count\\\": 17}, {\\\"left\\\": 3495430.0, \\\"right\\\": 3879810.0, \\\"count\\\": 10}, {\\\"left\\\": 3879810.0, \\\"right\\\": 4264190.0, \\\"count\\\": 2}, {\\\"left\\\": 4264190.0, \\\"right\\\": 4648560.0, \\\"count\\\": 2}, {\\\"left\\\": 4648560.0, \\\"right\\\": 5032940.0, \\\"count\\\": 1}, {\\\"left\\\": 5032940.0, \\\"right\\\": 5417320.0, \\\"count\\\": 3}, {\\\"left\\\": 5417320.0, \\\"right\\\": 5801700.0, \\\"count\\\": 1}, {\\\"left\\\": 5801700.0, \\\"right\\\": 6186070.0, \\\"count\\\": 0}, {\\\"left\\\": 6186070.0, \\\"right\\\": 6570450.0, \\\"count\\\": 0}, {\\\"left\\\": 6570450.0, \\\"right\\\": 6954830.0, \\\"count\\\": 1}, {\\\"left\\\": 6954830.0, \\\"right\\\": 7339210.0, \\\"count\\\": 1}, {\\\"left\\\": 7339210.0, \\\"right\\\": 7723590.0, \\\"count\\\": 1}, {\\\"start\\\": 36033.2, \\\"stop\\\": 7723590.0, \\\"step\\\": 384378}], \\\"categorical\\\": []}, {\\\"a\\\": 2, \\\"title\\\": \\\"bedrooms\\\", \\\"num_row\\\": 21613, \\\"type\\\": \\\"float\\\", \\\"num_unique\\\": 13, \\\"num_missing\\\": 0, \\\"mean\\\": 3.370842, \\\"min\\\": 0.0, \\\"max\\\": 33.0, \\\"median\\\": 3.0, \\\"stdev\\\": 0.93004, \\\"numeric\\\": [{\\\"left\\\": -0.057, \\\"right\\\": 1.60188, \\\"count\\\": 212}, {\\\"left\\\": 1.60188, \\\"right\\\": 3.26076, \\\"count\\\": 12584}, {\\\"left\\\": 3.26076, \\\"right\\\": 4.91964, \\\"count\\\": 6882}, {\\\"left\\\": 4.91964, \\\"right\\\": 6.57852, \\\"count\\\": 1873}, {\\\"left\\\": 6.57852, \\\"right\\\": 8.2374, \\\"count\\\": 51}, {\\\"left\\\": 8.2374, \\\"right\\\": 9.89628, \\\"count\\\": 6}, {\\\"left\\\": 9.89628, \\\"right\\\": 11.5552, \\\"count\\\": 4}, {\\\"left\\\": 11.5552, \\\"right\\\": 13.214, \\\"count\\\": 0}, {\\\"left\\\": 13.214, \\\"right\\\": 14.8729, \\\"count\\\": 0}, {\\\"left\\\": 14.8729, \\\"right\\\": 16.5318, \\\"count\\\": 0}, {\\\"left\\\": 16.5318, \\\"right\\\": 18.1907, \\\"count\\\": 0}, {\\\"left\\\": 18.1907, \\\"right\\\": 19.8496, \\\"count\\\": 0}, {\\\"left\\\": 19.8496, \\\"right\\\": 21.5084, \\\"count\\\": 0}, {\\\"left\\\": 21.5084, \\\"right\\\": 23.1673, \\\"count\\\": 0}, {\\\"left\\\": 23.1673, \\\"right\\\": 24.8262, \\\"count\\\": 0}, {\\\"left\\\": 24.8262, \\\"right\\\": 26.4851, \\\"count\\\": 0}, {\\\"left\\\": 26.4851, \\\"right\\\": 28.144, \\\"count\\\": 0}, {\\\"left\\\": 28.144, \\\"right\\\": 29.8028, \\\"count\\\": 0}, {\\\"left\\\": 29.8028, \\\"right\\\": 31.4617, \\\"count\\\": 0}, {\\\"left\\\": 31.4617, \\\"right\\\": 33.1206, \\\"count\\\": 1}, {\\\"start\\\": -0.057, \\\"stop\\\": 33.1206, \\\"step\\\": 1.65888}], \\\"categorical\\\": []}, {\\\"a\\\": 3, \\\"title\\\": \\\"bathrooms\\\", \\\"num_row\\\": 21613, \\\"type\\\": \\\"float\\\", \\\"num_unique\\\": 30, \\\"num_missing\\\": 0, \\\"mean\\\": 2.114757, \\\"min\\\": 0.0, \\\"max\\\": 8.0, \\\"median\\\": 2.25, \\\"stdev\\\": 0.770145, \\\"numeric\\\": [{\\\"left\\\": -0.195, \\\"right\\\": 0.225, \\\"count\\\": 10}, {\\\"left\\\": 0.225, \\\"right\\\": 0.645, \\\"count\\\": 4}, {\\\"left\\\": 0.645, \\\"right\\\": 1.065, \\\"count\\\": 3924}, {\\\"left\\\": 1.065, \\\"right\\\": 1.485, \\\"count\\\": 9}, {\\\"left\\\": 1.485, \\\"right\\\": 1.905, \\\"count\\\": 4494}, {\\\"left\\\": 1.905, \\\"right\\\": 2.325, \\\"count\\\": 3977}, {\\\"left\\\": 2.325, \\\"right\\\": 2.745, \\\"count\\\": 5380}, {\\\"left\\\": 2.745, \\\"right\\\": 3.165, \\\"count\\\": 1938}, {\\\"left\\\": 3.165, \\\"right\\\": 3.585, \\\"count\\\": 1320}, {\\\"left\\\": 3.585, \\\"right\\\": 4.005, \\\"count\\\": 291}, {\\\"left\\\": 4.005, \\\"right\\\": 4.425, \\\"count\\\": 79}, {\\\"left\\\": 4.425, \\\"right\\\": 4.845, \\\"count\\\": 123}, {\\\"left\\\": 4.845, \\\"right\\\": 5.265, \\\"count\\\": 34}, {\\\"left\\\": 5.265, \\\"right\\\": 5.685, \\\"count\\\": 10}, {\\\"left\\\": 5.685, \\\"right\\\": 6.105, \\\"count\\\": 10}, {\\\"left\\\": 6.105, \\\"right\\\": 6.525, \\\"count\\\": 4}, {\\\"left\\\": 6.525, \\\"right\\\": 6.945, \\\"count\\\": 2}, {\\\"left\\\": 6.945, \\\"right\\\": 7.365, \\\"count\\\": 0}, {\\\"left\\\": 7.365, \\\"right\\\": 7.785, \\\"count\\\": 2}, {\\\"left\\\": 7.785, \\\"right\\\": 8.205, \\\"count\\\": 2}, {\\\"start\\\": -0.195, \\\"stop\\\": 8.205, \\\"step\\\": 0.42}], \\\"categorical\\\": []}, {\\\"a\\\": 4, \\\"title\\\": \\\"sqft_living\\\", \\\"num_row\\\": 21613, \\\"type\\\": \\\"float\\\", \\\"num_unique\\\": 1038, \\\"num_missing\\\": 0, \\\"mean\\\": 2079.899736, \\\"min\\\": 290.0, \\\"max\\\": 13540.0, \\\"median\\\": 1910.0, \\\"stdev\\\": 918.419649, \\\"numeric\\\": [{\\\"left\\\": 273.72, \\\"right\\\": 940.92, \\\"count\\\": 1133}, {\\\"left\\\": 940.92, \\\"right\\\": 1608.12, \\\"count\\\": 6322}, {\\\"left\\\": 1608.12, \\\"right\\\": 2275.32, \\\"count\\\": 6718}, {\\\"left\\\": 2275.32, \\\"right\\\": 2942.52, \\\"count\\\": 4111}, {\\\"left\\\": 2942.52, \\\"right\\\": 3609.72, \\\"count\\\": 1991}, {\\\"left\\\": 3609.72, \\\"right\\\": 4276.92, \\\"count\\\": 800}, {\\\"left\\\": 4276.92, \\\"right\\\": 4944.12, \\\"count\\\": 318}, {\\\"left\\\": 4944.12, \\\"right\\\": 5611.32, \\\"count\\\": 115}, {\\\"left\\\": 5611.32, \\\"right\\\": 6278.52, \\\"count\\\": 52}, {\\\"left\\\": 6278.52, \\\"right\\\": 6945.72, \\\"count\\\": 23}, {\\\"left\\\": 6945.72, \\\"right\\\": 7612.92, \\\"count\\\": 15}, {\\\"left\\\": 7612.92, \\\"right\\\": 8280.12, \\\"count\\\": 8}, {\\\"left\\\": 8280.12, \\\"right\\\": 8947.32, \\\"count\\\": 1}, {\\\"left\\\": 8947.32, \\\"right\\\": 9614.52, \\\"count\\\": 1}, {\\\"left\\\": 9614.52, \\\"right\\\": 10281.7, \\\"count\\\": 3}, {\\\"left\\\": 10281.7, \\\"right\\\": 10948.9, \\\"count\\\": 0}, {\\\"left\\\": 10948.9, \\\"right\\\": 11616.1, \\\"count\\\": 0}, {\\\"left\\\": 11616.1, \\\"right\\\": 12283.3, \\\"count\\\": 1}, {\\\"left\\\": 12283.3, \\\"right\\\": 12950.5, \\\"count\\\": 0}, {\\\"left\\\": 12950.5, \\\"right\\\": 13617.7, \\\"count\\\": 1}, {\\\"start\\\": 273.72, \\\"stop\\\": 13617.7, \\\"step\\\": 667.2}], \\\"categorical\\\": []}, {\\\"a\\\": 5, \\\"title\\\": \\\"sqft_lot\\\", \\\"num_row\\\": 21613, \\\"type\\\": \\\"float\\\", \\\"num_unique\\\": 9782, \\\"num_missing\\\": 0, \\\"mean\\\": 15106.967566, \\\"min\\\": 520.0, \\\"max\\\": 1651359.0, \\\"median\\\": 7620.0, \\\"stdev\\\": 41419.553273, \\\"numeric\\\": [{\\\"left\\\": -19637.3, \\\"right\\\": 65133.5, \\\"count\\\": 20944}, {\\\"left\\\": 65133.5, \\\"right\\\": 149904, \\\"count\\\": 337}, {\\\"left\\\": 149904, \\\"right\\\": 234675, \\\"count\\\": 210}, {\\\"left\\\": 234675, \\\"right\\\": 319446, \\\"count\\\": 56}, {\\\"left\\\": 319446, \\\"right\\\": 404217, \\\"count\\\": 25}, {\\\"left\\\": 404217, \\\"right\\\": 488988, \\\"count\\\": 18}, {\\\"left\\\": 488988, \\\"right\\\": 573758, \\\"count\\\": 8}, {\\\"left\\\": 573758, \\\"right\\\": 658529, \\\"count\\\": 3}, {\\\"left\\\": 658529, \\\"right\\\": 743300, \\\"count\\\": 1}, {\\\"left\\\": 743300, \\\"right\\\": 828071, \\\"count\\\": 0}, {\\\"left\\\": 828071, \\\"right\\\": 912842, \\\"count\\\": 4}, {\\\"left\\\": 912842, \\\"right\\\": 997612, \\\"count\\\": 3}, {\\\"left\\\": 997612, \\\"right\\\": 1082380.0, \\\"count\\\": 2}, {\\\"left\\\": 1082380.0, \\\"right\\\": 1167150.0, \\\"count\\\": 1}, {\\\"left\\\": 1167150.0, \\\"right\\\": 1251920.0, \\\"count\\\": 0}, {\\\"left\\\": 1251920.0, \\\"right\\\": 1336700.0, \\\"count\\\": 0}, {\\\"left\\\": 1336700.0, \\\"right\\\": 1421470.0, \\\"count\\\": 0}, {\\\"left\\\": 1421470.0, \\\"right\\\": 1506240.0, \\\"count\\\": 0}, {\\\"left\\\": 1506240.0, \\\"right\\\": 1591010.0, \\\"count\\\": 0}, {\\\"left\\\": 1591010.0, \\\"right\\\": 1675780.0, \\\"count\\\": 1}, {\\\"start\\\": -19637.3, \\\"stop\\\": 1675780.0, \\\"step\\\": 84770.8}], \\\"categorical\\\": []}, {\\\"a\\\": 6, \\\"title\\\": \\\"floors\\\", \\\"num_row\\\": 21613, \\\"type\\\": \\\"float\\\", \\\"num_unique\\\": 6, \\\"num_missing\\\": 0, \\\"mean\\\": 1.494309, \\\"min\\\": 1.0, \\\"max\\\": 3.5, \\\"median\\\": 1.5, \\\"stdev\\\": 0.539976, \\\"numeric\\\": [{\\\"left\\\": 0.972, \\\"right\\\": 1.0984, \\\"count\\\": 10680}, {\\\"left\\\": 1.0984, \\\"right\\\": 1.2248, \\\"count\\\": 0}, {\\\"left\\\": 1.2248, \\\"right\\\": 1.3512, \\\"count\\\": 0}, {\\\"left\\\": 1.3512, \\\"right\\\": 1.4776, \\\"count\\\": 0}, {\\\"left\\\": 1.4776, \\\"right\\\": 1.604, \\\"count\\\": 1910}, {\\\"left\\\": 1.604, \\\"right\\\": 1.7304, \\\"count\\\": 0}, {\\\"left\\\": 1.7304, \\\"right\\\": 1.8568, \\\"count\\\": 0}, {\\\"left\\\": 1.8568, \\\"right\\\": 1.9832, \\\"count\\\": 0}, {\\\"left\\\": 1.9832, \\\"right\\\": 2.1096, \\\"count\\\": 8241}, {\\\"left\\\": 2.1096, \\\"right\\\": 2.236, \\\"count\\\": 0}, {\\\"left\\\": 2.236, \\\"right\\\": 2.3624, \\\"count\\\": 0}, {\\\"left\\\": 2.3624, \\\"right\\\": 2.4888, \\\"count\\\": 161}, {\\\"left\\\": 2.4888, \\\"right\\\": 2.6152, \\\"count\\\": 0}, {\\\"left\\\": 2.6152, \\\"right\\\": 2.7416, \\\"count\\\": 0}, {\\\"left\\\": 2.7416, \\\"right\\\": 2.868, \\\"count\\\": 0}, {\\\"left\\\": 2.868, \\\"right\\\": 2.9944, \\\"count\\\": 613}, {\\\"left\\\": 2.9944, \\\"right\\\": 3.1208, \\\"count\\\": 0}, {\\\"left\\\": 3.1208, \\\"right\\\": 3.2472, \\\"count\\\": 0}, {\\\"left\\\": 3.2472, \\\"right\\\": 3.3736, \\\"count\\\": 0}, {\\\"left\\\": 3.3736, \\\"right\\\": 3.5, \\\"count\\\": 8}, {\\\"start\\\": 0.972, \\\"stop\\\": 3.5, \\\"step\\\": 0.1264}], \\\"categorical\\\": []}, {\\\"a\\\": 7, \\\"title\\\": \\\"waterfront\\\", \\\"num_row\\\": 21613, \\\"type\\\": \\\"integer\\\", \\\"num_unique\\\": 2, \\\"num_missing\\\": 0, \\\"mean\\\": 0.007542, \\\"min\\\": 0.0, \\\"max\\\": 1.0, \\\"median\\\": 0.0, \\\"stdev\\\": 0.086515, \\\"numeric\\\": [{\\\"left\\\": -9, \\\"right\\\": -8, \\\"count\\\": 0}, {\\\"left\\\": -8, \\\"right\\\": -7, \\\"count\\\": 0}, {\\\"left\\\": -7, \\\"right\\\": -6, \\\"count\\\": 0}, {\\\"left\\\": -6, \\\"right\\\": -5, \\\"count\\\": 0}, {\\\"left\\\": -5, \\\"right\\\": -4, \\\"count\\\": 0}, {\\\"left\\\": -4, \\\"right\\\": -3, \\\"count\\\": 0}, {\\\"left\\\": -3, \\\"right\\\": -2, \\\"count\\\": 0}, {\\\"left\\\": -2, \\\"right\\\": -1, \\\"count\\\": 0}, {\\\"left\\\": -1, \\\"right\\\": 0, \\\"count\\\": 0}, {\\\"left\\\": 0, \\\"right\\\": 1, \\\"count\\\": 21450}, {\\\"left\\\": 1, \\\"right\\\": 2, \\\"count\\\": 163}, {\\\"left\\\": 2, \\\"right\\\": 3, \\\"count\\\": 0}, {\\\"left\\\": 3, \\\"right\\\": 4, \\\"count\\\": 0}, {\\\"left\\\": 4, \\\"right\\\": 5, \\\"count\\\": 0}, {\\\"left\\\": 5, \\\"right\\\": 6, \\\"count\\\": 0}, {\\\"left\\\": 6, \\\"right\\\": 7, \\\"count\\\": 0}, {\\\"left\\\": 7, \\\"right\\\": 8, \\\"count\\\": 0}, {\\\"left\\\": 8, \\\"right\\\": 9, \\\"count\\\": 0}, {\\\"left\\\": 9, \\\"right\\\": 10, \\\"count\\\": 0}, {\\\"left\\\": 10, \\\"right\\\": 11, \\\"count\\\": 0}, {\\\"start\\\": -9, \\\"stop\\\": 11, \\\"step\\\": 1}], \\\"categorical\\\": []}, {\\\"a\\\": 8, \\\"title\\\": \\\"view\\\", \\\"num_row\\\": 21613, \\\"type\\\": \\\"integer\\\", \\\"num_unique\\\": 5, \\\"num_missing\\\": 0, \\\"mean\\\": 0.234303, \\\"min\\\": 0.0, \\\"max\\\": 4.0, \\\"median\\\": 0.0, \\\"stdev\\\": 0.7663, \\\"numeric\\\": [{\\\"left\\\": -7, \\\"right\\\": -6, \\\"count\\\": 0}, {\\\"left\\\": -6, \\\"right\\\": -5, \\\"count\\\": 0}, {\\\"left\\\": -5, \\\"right\\\": -4, \\\"count\\\": 0}, {\\\"left\\\": -4, \\\"right\\\": -3, \\\"count\\\": 0}, {\\\"left\\\": -3, \\\"right\\\": -2, \\\"count\\\": 0}, {\\\"left\\\": -2, \\\"right\\\": -1, \\\"count\\\": 0}, {\\\"left\\\": -1, \\\"right\\\": 0, \\\"count\\\": 0}, {\\\"left\\\": 0, \\\"right\\\": 1, \\\"count\\\": 19489}, {\\\"left\\\": 1, \\\"right\\\": 2, \\\"count\\\": 332}, {\\\"left\\\": 2, \\\"right\\\": 3, \\\"count\\\": 963}, {\\\"left\\\": 3, \\\"right\\\": 4, \\\"count\\\": 510}, {\\\"left\\\": 4, \\\"right\\\": 5, \\\"count\\\": 319}, {\\\"left\\\": 5, \\\"right\\\": 6, \\\"count\\\": 0}, {\\\"left\\\": 6, \\\"right\\\": 7, \\\"count\\\": 0}, {\\\"left\\\": 7, \\\"right\\\": 8, \\\"count\\\": 0}, {\\\"left\\\": 8, \\\"right\\\": 9, \\\"count\\\": 0}, {\\\"left\\\": 9, \\\"right\\\": 10, \\\"count\\\": 0}, {\\\"left\\\": 10, \\\"right\\\": 11, \\\"count\\\": 0}, {\\\"left\\\": 11, \\\"right\\\": 12, \\\"count\\\": 0}, {\\\"left\\\": 12, \\\"right\\\": 13, \\\"count\\\": 0}, {\\\"start\\\": -7, \\\"stop\\\": 13, \\\"step\\\": 1}], \\\"categorical\\\": []}, {\\\"a\\\": 9, \\\"title\\\": \\\"condition\\\", \\\"num_row\\\": 21613, \\\"type\\\": \\\"integer\\\", \\\"num_unique\\\": 5, \\\"num_missing\\\": 0, \\\"mean\\\": 3.40943, \\\"min\\\": 1.0, \\\"max\\\": 5.0, \\\"median\\\": 3.0, \\\"stdev\\\": 0.650728, \\\"numeric\\\": [{\\\"left\\\": -6, \\\"right\\\": -5, \\\"count\\\": 0}, {\\\"left\\\": -5, \\\"right\\\": -4, \\\"count\\\": 0}, {\\\"left\\\": -4, \\\"right\\\": -3, \\\"count\\\": 0}, {\\\"left\\\": -3, \\\"right\\\": -2, \\\"count\\\": 0}, {\\\"left\\\": -2, \\\"right\\\": -1, \\\"count\\\": 0}, {\\\"left\\\": -1, \\\"right\\\": 0, \\\"count\\\": 0}, {\\\"left\\\": 0, \\\"right\\\": 1, \\\"count\\\": 0}, {\\\"left\\\": 1, \\\"right\\\": 2, \\\"count\\\": 30}, {\\\"left\\\": 2, \\\"right\\\": 3, \\\"count\\\": 172}, {\\\"left\\\": 3, \\\"right\\\": 4, \\\"count\\\": 14031}, {\\\"left\\\": 4, \\\"right\\\": 5, \\\"count\\\": 5679}, {\\\"left\\\": 5, \\\"right\\\": 6, \\\"count\\\": 1701}, {\\\"left\\\": 6, \\\"right\\\": 7, \\\"count\\\": 0}, {\\\"left\\\": 7, \\\"right\\\": 8, \\\"count\\\": 0}, {\\\"left\\\": 8, \\\"right\\\": 9, \\\"count\\\": 0}, {\\\"left\\\": 9, \\\"right\\\": 10, \\\"count\\\": 0}, {\\\"left\\\": 10, \\\"right\\\": 11, \\\"count\\\": 0}, {\\\"left\\\": 11, \\\"right\\\": 12, \\\"count\\\": 0}, {\\\"left\\\": 12, \\\"right\\\": 13, \\\"count\\\": 0}, {\\\"left\\\": 13, \\\"right\\\": 14, \\\"count\\\": 0}, {\\\"start\\\": -6, \\\"stop\\\": 14, \\\"step\\\": 1}], \\\"categorical\\\": []}, {\\\"a\\\": 10, \\\"title\\\": \\\"grade\\\", \\\"num_row\\\": 21613, \\\"type\\\": \\\"float\\\", \\\"num_unique\\\": 12, \\\"num_missing\\\": 0, \\\"mean\\\": 7.656873, \\\"min\\\": 1.0, \\\"max\\\": 13.0, \\\"median\\\": 7.0, \\\"stdev\\\": 1.175432, \\\"numeric\\\": [{\\\"left\\\": 0.90636, \\\"right\\\": 1.51564, \\\"count\\\": 1}, {\\\"left\\\": 1.51564, \\\"right\\\": 2.12492, \\\"count\\\": 0}, {\\\"left\\\": 2.12492, \\\"right\\\": 2.7342, \\\"count\\\": 0}, {\\\"left\\\": 2.7342, \\\"right\\\": 3.34348, \\\"count\\\": 3}, {\\\"left\\\": 3.34348, \\\"right\\\": 3.95276, \\\"count\\\": 0}, {\\\"left\\\": 3.95276, \\\"right\\\": 4.56204, \\\"count\\\": 29}, {\\\"left\\\": 4.56204, \\\"right\\\": 5.17132, \\\"count\\\": 242}, {\\\"left\\\": 5.17132, \\\"right\\\": 5.7806, \\\"count\\\": 0}, {\\\"left\\\": 5.7806, \\\"right\\\": 6.38988, \\\"count\\\": 2038}, {\\\"left\\\": 6.38988, \\\"right\\\": 6.99916, \\\"count\\\": 0}, {\\\"left\\\": 6.99916, \\\"right\\\": 7.60844, \\\"count\\\": 8981}, {\\\"left\\\": 7.60844, \\\"right\\\": 8.21772, \\\"count\\\": 6068}, {\\\"left\\\": 8.21772, \\\"right\\\": 8.827, \\\"count\\\": 0}, {\\\"left\\\": 8.827, \\\"right\\\": 9.43628, \\\"count\\\": 2615}, {\\\"left\\\": 9.43628, \\\"right\\\": 10.0456, \\\"count\\\": 1134}, {\\\"left\\\": 10.0456, \\\"right\\\": 10.6548, \\\"count\\\": 0}, {\\\"left\\\": 10.6548, \\\"right\\\": 11.2641, \\\"count\\\": 399}, {\\\"left\\\": 11.2641, \\\"right\\\": 11.8734, \\\"count\\\": 0}, {\\\"left\\\": 11.8734, \\\"right\\\": 12.4827, \\\"count\\\": 90}, {\\\"left\\\": 12.4827, \\\"right\\\": 13.092, \\\"count\\\": 13}, {\\\"start\\\": 0.90636, \\\"stop\\\": 13.092, \\\"step\\\": 0.60928}], \\\"categorical\\\": []}, {\\\"a\\\": 11, \\\"title\\\": \\\"sqft_above\\\", \\\"num_row\\\": 21613, \\\"type\\\": \\\"float\\\", \\\"num_unique\\\": 946, \\\"num_missing\\\": 0, \\\"mean\\\": 1788.390691, \\\"min\\\": 290.0, \\\"max\\\": 9410.0, \\\"median\\\": 1560.0, \\\"stdev\\\": 828.07182, \\\"numeric\\\": [{\\\"left\\\": 265.24, \\\"right\\\": 724.6, \\\"count\\\": 358}, {\\\"left\\\": 724.6, \\\"right\\\": 1183.96, \\\"count\\\": 4946}, {\\\"left\\\": 1183.96, \\\"right\\\": 1643.32, \\\"count\\\": 6444}, {\\\"left\\\": 1643.32, \\\"right\\\": 2102.68, \\\"count\\\": 3801}, {\\\"left\\\": 2102.68, \\\"right\\\": 2562.04, \\\"count\\\": 2480}, {\\\"left\\\": 2562.04, \\\"right\\\": 3021.4, \\\"count\\\": 1645}, {\\\"left\\\": 3021.4, \\\"right\\\": 3480.76, \\\"count\\\": 1011}, {\\\"left\\\": 3480.76, \\\"right\\\": 3940.12, \\\"count\\\": 477}, {\\\"left\\\": 3940.12, \\\"right\\\": 4399.48, \\\"count\\\": 241}, {\\\"left\\\": 4399.48, \\\"right\\\": 4858.84, \\\"count\\\": 106}, {\\\"left\\\": 4858.84, \\\"right\\\": 5318.2, \\\"count\\\": 46}, {\\\"left\\\": 5318.2, \\\"right\\\": 5777.56, \\\"count\\\": 24}, {\\\"left\\\": 5777.56, \\\"right\\\": 6236.92, \\\"count\\\": 15}, {\\\"left\\\": 6236.92, \\\"right\\\": 6696.28, \\\"count\\\": 9}, {\\\"left\\\": 6696.28, \\\"right\\\": 7155.64, \\\"count\\\": 1}, {\\\"left\\\": 7155.64, \\\"right\\\": 7615, \\\"count\\\": 2}, {\\\"left\\\": 7615, \\\"right\\\": 8074.36, \\\"count\\\": 4}, {\\\"left\\\": 8074.36, \\\"right\\\": 8533.72, \\\"count\\\": 0}, {\\\"left\\\": 8533.72, \\\"right\\\": 8993.08, \\\"count\\\": 2}, {\\\"left\\\": 8993.08, \\\"right\\\": 9452.44, \\\"count\\\": 1}, {\\\"start\\\": 265.24, \\\"stop\\\": 9452.44, \\\"step\\\": 459.36}], \\\"categorical\\\": []}, {\\\"a\\\": 12, \\\"title\\\": \\\"sqft_basement\\\", \\\"num_row\\\": 21613, \\\"type\\\": \\\"float\\\", \\\"num_unique\\\": 306, \\\"num_missing\\\": 0, \\\"mean\\\": 291.509045, \\\"min\\\": 0.0, \\\"max\\\": 4820.0, \\\"median\\\": 0.0, \\\"stdev\\\": 442.564804, \\\"numeric\\\": [{\\\"left\\\": -17.6, \\\"right\\\": 225.6, \\\"count\\\": 13765}, {\\\"left\\\": 225.6, \\\"right\\\": 468.8, \\\"count\\\": 1629}, {\\\"left\\\": 468.8, \\\"right\\\": 712, \\\"count\\\": 2100}, {\\\"left\\\": 712, \\\"right\\\": 955.2, \\\"count\\\": 1881}, {\\\"left\\\": 955.2, \\\"right\\\": 1198.4, \\\"count\\\": 1169}, {\\\"left\\\": 1198.4, \\\"right\\\": 1441.6, \\\"count\\\": 628}, {\\\"left\\\": 1441.6, \\\"right\\\": 1684.8, \\\"count\\\": 238}, {\\\"left\\\": 1684.8, \\\"right\\\": 1928, \\\"count\\\": 112}, {\\\"left\\\": 1928, \\\"right\\\": 2171.2, \\\"count\\\": 53}, {\\\"left\\\": 2171.2, \\\"right\\\": 2414.4, \\\"count\\\": 18}, {\\\"left\\\": 2414.4, \\\"right\\\": 2657.6, \\\"count\\\": 10}, {\\\"left\\\": 2657.6, \\\"right\\\": 2900.8, \\\"count\\\": 4}, {\\\"left\\\": 2900.8, \\\"right\\\": 3144, \\\"count\\\": 1}, {\\\"left\\\": 3144, \\\"right\\\": 3387.2, \\\"count\\\": 1}, {\\\"left\\\": 3387.2, \\\"right\\\": 3630.4, \\\"count\\\": 2}, {\\\"left\\\": 3630.4, \\\"right\\\": 3873.6, \\\"count\\\": 0}, {\\\"left\\\": 3873.6, \\\"right\\\": 4116.8, \\\"count\\\": 0}, {\\\"left\\\": 4116.8, \\\"right\\\": 4360, \\\"count\\\": 1}, {\\\"left\\\": 4360, \\\"right\\\": 4603.2, \\\"count\\\": 0}, {\\\"left\\\": 4603.2, \\\"right\\\": 4846.4, \\\"count\\\": 1}, {\\\"start\\\": -17.6, \\\"stop\\\": 4846.4, \\\"step\\\": 243.2}], \\\"categorical\\\": []}, {\\\"a\\\": 13, \\\"title\\\": \\\"yr_built\\\", \\\"num_row\\\": 21613, \\\"type\\\": \\\"float\\\", \\\"num_unique\\\": 116, \\\"num_missing\\\": 0, \\\"mean\\\": 1971.005136, \\\"min\\\": 1900.0, \\\"max\\\": 2015.0, \\\"median\\\": 1975.0, \\\"stdev\\\": 29.372731, \\\"numeric\\\": [{\\\"left\\\": 1899.88, \\\"right\\\": 1905.64, \\\"count\\\": 308}, {\\\"left\\\": 1905.64, \\\"right\\\": 1911.4, \\\"count\\\": 544}, {\\\"left\\\": 1911.4, \\\"right\\\": 1917.16, \\\"count\\\": 391}, {\\\"left\\\": 1917.16, \\\"right\\\": 1922.92, \\\"count\\\": 477}, {\\\"left\\\": 1922.92, \\\"right\\\": 1928.68, \\\"count\\\": 809}, {\\\"left\\\": 1928.68, \\\"right\\\": 1934.44, \\\"count\\\": 354}, {\\\"left\\\": 1934.44, \\\"right\\\": 1940.2, \\\"count\\\": 446}, {\\\"left\\\": 1940.2, \\\"right\\\": 1945.96, \\\"count\\\": 789}, {\\\"left\\\": 1945.96, \\\"right\\\": 1951.72, \\\"count\\\": 1298}, {\\\"left\\\": 1951.72, \\\"right\\\": 1957.48, \\\"count\\\": 1415}, {\\\"left\\\": 1957.48, \\\"right\\\": 1963.24, \\\"count\\\": 1598}, {\\\"left\\\": 1963.24, \\\"right\\\": 1969, \\\"count\\\": 1340}, {\\\"left\\\": 1969, \\\"right\\\": 1974.76, \\\"count\\\": 976}, {\\\"left\\\": 1974.76, \\\"right\\\": 1980.52, \\\"count\\\": 1829}, {\\\"left\\\": 1980.52, \\\"right\\\": 1986.28, \\\"count\\\": 1188}, {\\\"left\\\": 1986.28, \\\"right\\\": 1992.04, \\\"count\\\": 1596}, {\\\"left\\\": 1992.04, \\\"right\\\": 1997.8, \\\"count\\\": 992}, {\\\"left\\\": 1997.8, \\\"right\\\": 2003.56, \\\"count\\\": 1671}, {\\\"left\\\": 2003.56, \\\"right\\\": 2009.32, \\\"count\\\": 2351}, {\\\"left\\\": 2009.32, \\\"right\\\": 2015.08, \\\"count\\\": 1241}, {\\\"start\\\": 1899.88, \\\"stop\\\": 2015.08, \\\"step\\\": 5.76}], \\\"categorical\\\": []}, {\\\"a\\\": 14, \\\"title\\\": \\\"yr_renovated\\\", \\\"num_row\\\": 21613, \\\"type\\\": \\\"float\\\", \\\"num_unique\\\": 70, \\\"num_missing\\\": 0, \\\"mean\\\": 84.402258, \\\"min\\\": 0.0, \\\"max\\\": 2015.0, \\\"median\\\": 0.0, \\\"stdev\\\": 401.669947, \\\"numeric\\\": [{\\\"left\\\": -23.892, \\\"right\\\": 79.64, \\\"count\\\": 20699}, {\\\"left\\\": 79.64, \\\"right\\\": 183.172, \\\"count\\\": 0}, {\\\"left\\\": 183.172, \\\"right\\\": 286.704, \\\"count\\\": 0}, {\\\"left\\\": 286.704, \\\"right\\\": 390.236, \\\"count\\\": 0}, {\\\"left\\\": 390.236, \\\"right\\\": 493.768, \\\"count\\\": 0}, {\\\"left\\\": 493.768, \\\"right\\\": 597.3, \\\"count\\\": 0}, {\\\"left\\\": 597.3, \\\"right\\\": 700.832, \\\"count\\\": 0}, {\\\"left\\\": 700.832, \\\"right\\\": 804.364, \\\"count\\\": 0}, {\\\"left\\\": 804.364, \\\"right\\\": 907.896, \\\"count\\\": 0}, {\\\"left\\\": 907.896, \\\"right\\\": 1011.43, \\\"count\\\": 0}, {\\\"left\\\": 1011.43, \\\"right\\\": 1114.96, \\\"count\\\": 0}, {\\\"left\\\": 1114.96, \\\"right\\\": 1218.49, \\\"count\\\": 0}, {\\\"left\\\": 1218.49, \\\"right\\\": 1322.02, \\\"count\\\": 0}, {\\\"left\\\": 1322.02, \\\"right\\\": 1425.56, \\\"count\\\": 0}, {\\\"left\\\": 1425.56, \\\"right\\\": 1529.09, \\\"count\\\": 0}, {\\\"left\\\": 1529.09, \\\"right\\\": 1632.62, \\\"count\\\": 0}, {\\\"left\\\": 1632.62, \\\"right\\\": 1736.15, \\\"count\\\": 0}, {\\\"left\\\": 1736.15, \\\"right\\\": 1839.68, \\\"count\\\": 0}, {\\\"left\\\": 1839.68, \\\"right\\\": 1943.22, \\\"count\\\": 3}, {\\\"left\\\": 1943.22, \\\"right\\\": 2046.75, \\\"count\\\": 911}, {\\\"start\\\": -23.892, \\\"stop\\\": 2046.75, \\\"step\\\": 103.532}], \\\"categorical\\\": []}, {\\\"a\\\": 15, \\\"title\\\": \\\"zipcode\\\", \\\"num_row\\\": 21613, \\\"type\\\": \\\"str\\\", \\\"num_unique\\\": 70, \\\"num_missing\\\": 0, \\\"categorical\\\": [{\\\"label\\\": \\\"98103\\\", \\\"label_idx\\\": 0, \\\"count\\\": 602, \\\"percentage\\\": \\\"2.78536%\\\"}, {\\\"label\\\": \\\"98038\\\", \\\"label_idx\\\": 1, \\\"count\\\": 590, \\\"percentage\\\": \\\"2.72984%\\\"}, {\\\"label\\\": \\\"98115\\\", \\\"label_idx\\\": 2, \\\"count\\\": 583, \\\"percentage\\\": \\\"2.69745%\\\"}, {\\\"label\\\": \\\"98052\\\", \\\"label_idx\\\": 3, \\\"count\\\": 574, \\\"percentage\\\": \\\"2.65581%\\\"}, {\\\"label\\\": \\\"98117\\\", \\\"label_idx\\\": 4, \\\"count\\\": 553, \\\"percentage\\\": \\\"2.55865%\\\"}, {\\\"label\\\": \\\"98042\\\", \\\"label_idx\\\": 5, \\\"count\\\": 548, \\\"percentage\\\": \\\"2.53551%\\\"}, {\\\"label\\\": \\\"98034\\\", \\\"label_idx\\\": 6, \\\"count\\\": 545, \\\"percentage\\\": \\\"2.52163%\\\"}, {\\\"label\\\": \\\"98118\\\", \\\"label_idx\\\": 7, \\\"count\\\": 508, \\\"percentage\\\": \\\"2.35044%\\\"}, {\\\"label\\\": \\\"98023\\\", \\\"label_idx\\\": 8, \\\"count\\\": 499, \\\"percentage\\\": \\\"2.3088%\\\"}, {\\\"label\\\": \\\"98006\\\", \\\"label_idx\\\": 9, \\\"count\\\": 498, \\\"percentage\\\": \\\"2.30417%\\\"}, {\\\"label\\\": \\\"Other (60 labels)\\\", \\\"label_idx\\\": 10, \\\"count\\\": 16113, \\\"percentage\\\": \\\"74.5524%\\\"}], \\\"numeric\\\": []}, {\\\"a\\\": 16, \\\"title\\\": \\\"lat\\\", \\\"num_row\\\": 21613, \\\"type\\\": \\\"float\\\", \\\"num_unique\\\": 21431, \\\"num_missing\\\": 0, \\\"mean\\\": 47.560053, \\\"min\\\": 47.155933, \\\"max\\\": 47.777624, \\\"median\\\": 47.571802, \\\"stdev\\\": 0.13856, \\\"numeric\\\": [{\\\"left\\\": 47.1479, \\\"right\\\": 47.1798, \\\"count\\\": 9}, {\\\"left\\\": 47.1798, \\\"right\\\": 47.2117, \\\"count\\\": 153}, {\\\"left\\\": 47.2117, \\\"right\\\": 47.2435, \\\"count\\\": 41}, {\\\"left\\\": 47.2435, \\\"right\\\": 47.2754, \\\"count\\\": 261}, {\\\"left\\\": 47.2754, \\\"right\\\": 47.3073, \\\"count\\\": 517}, {\\\"left\\\": 47.3073, \\\"right\\\": 47.3392, \\\"count\\\": 878}, {\\\"left\\\": 47.3392, \\\"right\\\": 47.3711, \\\"count\\\": 1153}, {\\\"left\\\": 47.3711, \\\"right\\\": 47.403, \\\"count\\\": 815}, {\\\"left\\\": 47.403, \\\"right\\\": 47.4349, \\\"count\\\": 561}, {\\\"left\\\": 47.4349, \\\"right\\\": 47.4668, \\\"count\\\": 912}, {\\\"left\\\": 47.4668, \\\"right\\\": 47.4986, \\\"count\\\": 1255}, {\\\"left\\\": 47.4986, \\\"right\\\": 47.5305, \\\"count\\\": 1437}, {\\\"left\\\": 47.5305, \\\"right\\\": 47.5624, \\\"count\\\": 2177}, {\\\"left\\\": 47.5624, \\\"right\\\": 47.5943, \\\"count\\\": 1756}, {\\\"left\\\": 47.5943, \\\"right\\\": 47.6262, \\\"count\\\": 1296}, {\\\"left\\\": 47.6262, \\\"right\\\": 47.6581, \\\"count\\\": 1744}, {\\\"left\\\": 47.6581, \\\"right\\\": 47.69, \\\"count\\\": 2258}, {\\\"left\\\": 47.69, \\\"right\\\": 47.7219, \\\"count\\\": 1895}, {\\\"left\\\": 47.7219, \\\"right\\\": 47.7537, \\\"count\\\": 1553}, {\\\"left\\\": 47.7537, \\\"right\\\": 47.7856, \\\"count\\\": 942}, {\\\"start\\\": 47.1479, \\\"stop\\\": 47.7856, \\\"step\\\": 0.0318879}], \\\"categorical\\\": []}, {\\\"a\\\": 17, \\\"title\\\": \\\"long\\\", \\\"num_row\\\": 21613, \\\"type\\\": \\\"float\\\", \\\"num_unique\\\": 21432, \\\"num_missing\\\": 0, \\\"mean\\\": -122.213896, \\\"min\\\": -122.518648, \\\"max\\\": -121.315091, \\\"median\\\": -122.230471, \\\"stdev\\\": 0.140822, \\\"numeric\\\": [{\\\"left\\\": -122.532, \\\"right\\\": -122.471, \\\"count\\\": 37}, {\\\"left\\\": -122.471, \\\"right\\\": -122.409, \\\"count\\\": 150}, {\\\"left\\\": -122.409, \\\"right\\\": -122.347, \\\"count\\\": 4000}, {\\\"left\\\": -122.347, \\\"right\\\": -122.286, \\\"count\\\": 4513}, {\\\"left\\\": -122.286, \\\"right\\\": -122.224, \\\"count\\\": 2363}, {\\\"left\\\": -122.224, \\\"right\\\": -122.163, \\\"count\\\": 3579}, {\\\"left\\\": -122.163, \\\"right\\\": -122.101, \\\"count\\\": 2482}, {\\\"left\\\": -122.101, \\\"right\\\": -122.039, \\\"count\\\": 1612}, {\\\"left\\\": -122.039, \\\"right\\\": -121.978, \\\"count\\\": 1807}, {\\\"left\\\": -121.978, \\\"right\\\": -121.916, \\\"count\\\": 352}, {\\\"left\\\": -121.916, \\\"right\\\": -121.855, \\\"count\\\": 401}, {\\\"left\\\": -121.855, \\\"right\\\": -121.793, \\\"count\\\": 83}, {\\\"left\\\": -121.793, \\\"right\\\": -121.732, \\\"count\\\": 180}, {\\\"left\\\": -121.732, \\\"right\\\": -121.67, \\\"count\\\": 36}, {\\\"left\\\": -121.67, \\\"right\\\": -121.608, \\\"count\\\": 1}, {\\\"left\\\": -121.608, \\\"right\\\": -121.547, \\\"count\\\": 0}, {\\\"left\\\": -121.547, \\\"right\\\": -121.485, \\\"count\\\": 0}, {\\\"left\\\": -121.485, \\\"right\\\": -121.424, \\\"count\\\": 2}, {\\\"left\\\": -121.424, \\\"right\\\": -121.362, \\\"count\\\": 6}, {\\\"left\\\": -121.362, \\\"right\\\": -121.3, \\\"count\\\": 9}, {\\\"start\\\": -122.532, \\\"stop\\\": -121.3, \\\"step\\\": 0.0615903}], \\\"categorical\\\": []}, {\\\"a\\\": 18, \\\"title\\\": \\\"sqft_living15\\\", \\\"num_row\\\": 21613, \\\"type\\\": \\\"float\\\", \\\"num_unique\\\": 777, \\\"num_missing\\\": 0, \\\"mean\\\": 1986.552492, \\\"min\\\": 399.0, \\\"max\\\": 6210.0, \\\"median\\\": 1840.0, \\\"stdev\\\": 685.375448, \\\"numeric\\\": [{\\\"left\\\": 395, \\\"right\\\": 686.2, \\\"count\\\": 6}, {\\\"left\\\": 686.2, \\\"right\\\": 977.4, \\\"count\\\": 262}, {\\\"left\\\": 977.4, \\\"right\\\": 1268.6, \\\"count\\\": 2005}, {\\\"left\\\": 1268.6, \\\"right\\\": 1559.8, \\\"count\\\": 4287}, {\\\"left\\\": 1559.8, \\\"right\\\": 1851, \\\"count\\\": 4453}, {\\\"left\\\": 1851, \\\"right\\\": 2142.2, \\\"count\\\": 3326}, {\\\"left\\\": 2142.2, \\\"right\\\": 2433.4, \\\"count\\\": 2407}, {\\\"left\\\": 2433.4, \\\"right\\\": 2724.6, \\\"count\\\": 1795}, {\\\"left\\\": 2724.6, \\\"right\\\": 3015.8, \\\"count\\\": 1254}, {\\\"left\\\": 3015.8, \\\"right\\\": 3307, \\\"count\\\": 748}, {\\\"left\\\": 3307, \\\"right\\\": 3598.2, \\\"count\\\": 451}, {\\\"left\\\": 3598.2, \\\"right\\\": 3889.4, \\\"count\\\": 280}, {\\\"left\\\": 3889.4, \\\"right\\\": 4180.6, \\\"count\\\": 160}, {\\\"left\\\": 4180.6, \\\"right\\\": 4471.8, \\\"count\\\": 80}, {\\\"left\\\": 4471.8, \\\"right\\\": 4763, \\\"count\\\": 55}, {\\\"left\\\": 4763, \\\"right\\\": 5054.2, \\\"count\\\": 24}, {\\\"left\\\": 5054.2, \\\"right\\\": 5345.4, \\\"count\\\": 8}, {\\\"left\\\": 5345.4, \\\"right\\\": 5636.6, \\\"count\\\": 4}, {\\\"left\\\": 5636.6, \\\"right\\\": 5927.8, \\\"count\\\": 6}, {\\\"left\\\": 5927.8, \\\"right\\\": 6219, \\\"count\\\": 2}, {\\\"start\\\": 395, \\\"stop\\\": 6219, \\\"step\\\": 291.2}], \\\"categorical\\\": []}, {\\\"a\\\": 19, \\\"title\\\": \\\"sqft_lot15\\\", \\\"num_row\\\": 21613, \\\"type\\\": \\\"float\\\", \\\"num_unique\\\": 8689, \\\"num_missing\\\": 0, \\\"mean\\\": 12768.455652, \\\"min\\\": 651.0, \\\"max\\\": 871200.0, \\\"median\\\": 7620.0, \\\"stdev\\\": 27303.547963, \\\"numeric\\\": [{\\\"left\\\": -11686.1, \\\"right\\\": 33122.1, \\\"count\\\": 20233}, {\\\"left\\\": 33122.1, \\\"right\\\": 77930.3, \\\"count\\\": 939}, {\\\"left\\\": 77930.3, \\\"right\\\": 122738, \\\"count\\\": 181}, {\\\"left\\\": 122738, \\\"right\\\": 167547, \\\"count\\\": 51}, {\\\"left\\\": 167547, \\\"right\\\": 212355, \\\"count\\\": 75}, {\\\"left\\\": 212355, \\\"right\\\": 257163, \\\"count\\\": 98}, {\\\"left\\\": 257163, \\\"right\\\": 301971, \\\"count\\\": 14}, {\\\"left\\\": 301971, \\\"right\\\": 346779, \\\"count\\\": 8}, {\\\"left\\\": 346779, \\\"right\\\": 391588, \\\"count\\\": 4}, {\\\"left\\\": 391588, \\\"right\\\": 436396, \\\"count\\\": 6}, {\\\"left\\\": 436396, \\\"right\\\": 481204, \\\"count\\\": 1}, {\\\"left\\\": 481204, \\\"right\\\": 526012, \\\"count\\\": 0}, {\\\"left\\\": 526012, \\\"right\\\": 570820, \\\"count\\\": 1}, {\\\"left\\\": 570820, \\\"right\\\": 615629, \\\"count\\\": 0}, {\\\"left\\\": 615629, \\\"right\\\": 660437, \\\"count\\\": 0}, {\\\"left\\\": 660437, \\\"right\\\": 705245, \\\"count\\\": 0}, {\\\"left\\\": 705245, \\\"right\\\": 750053, \\\"count\\\": 0}, {\\\"left\\\": 750053, \\\"right\\\": 794861, \\\"count\\\": 0}, {\\\"left\\\": 794861, \\\"right\\\": 839670, \\\"count\\\": 0}, {\\\"left\\\": 839670, \\\"right\\\": 884478, \\\"count\\\": 2}, {\\\"start\\\": -11686.1, \\\"stop\\\": 884478, \\\"step\\\": 44808.2}], \\\"categorical\\\": []}]}, {\\\"name\\\": \\\"data_2\\\", \\\"source\\\": \\\"source_2\\\", \\\"transform\\\": [{\\\"type\\\": \\\"formula\\\", \\\"expr\\\": \\\"20\\\", \\\"as\\\": \\\"c_x_axis_back\\\"}, {\\\"type\\\": \\\"formula\\\", \\\"expr\\\": \\\"toNumber(datum[\\\\\\\"a\\\\\\\"])*300+66\\\", \\\"as\\\": \\\"c_main_background\\\"}, {\\\"type\\\": \\\"formula\\\", \\\"expr\\\": \\\"toNumber(datum[\\\\\\\"a\\\\\\\"])*300+43\\\", \\\"as\\\": \\\"c_top_bar\\\"}, {\\\"type\\\": \\\"formula\\\", \\\"expr\\\": \\\"toNumber(datum[\\\\\\\"a\\\\\\\"])*300+59\\\", \\\"as\\\": \\\"c_top_title\\\"}, {\\\"type\\\": \\\"formula\\\", \\\"expr\\\": \\\"toNumber(datum[\\\\\\\"a\\\\\\\"])*300+58\\\", \\\"as\\\": \\\"c_top_type\\\"}, {\\\"type\\\": \\\"formula\\\", \\\"expr\\\": \\\"toNumber(datum[\\\\\\\"a\\\\\\\"])*300+178\\\", \\\"as\\\": \\\"c_rule\\\"}, {\\\"type\\\": \\\"formula\\\", \\\"expr\\\": \\\"toNumber(datum[\\\\\\\"a\\\\\\\"])*300+106\\\", \\\"as\\\": \\\"c_num_rows\\\"}, {\\\"type\\\": \\\"formula\\\", \\\"expr\\\": \\\"toNumber(datum[\\\\\\\"a\\\\\\\"])*300+130\\\", \\\"as\\\": \\\"c_num_unique\\\"}, {\\\"type\\\": \\\"formula\\\", \\\"expr\\\": \\\"toNumber(datum[\\\\\\\"a\\\\\\\"])*300+154\\\", \\\"as\\\": \\\"c_missing\\\"}, {\\\"type\\\": \\\"formula\\\", \\\"expr\\\": \\\"toNumber(datum[\\\\\\\"a\\\\\\\"])*300+105\\\", \\\"as\\\": \\\"c_num_rows_val\\\"}, {\\\"type\\\": \\\"formula\\\", \\\"expr\\\": \\\"toNumber(datum[\\\\\\\"a\\\\\\\"])*300+130\\\", \\\"as\\\": \\\"c_num_unique_val\\\"}, {\\\"type\\\": \\\"formula\\\", \\\"expr\\\": \\\"toNumber(datum[\\\\\\\"a\\\\\\\"])*300+154\\\", \\\"as\\\": \\\"c_missing_val\\\"}, {\\\"type\\\": \\\"formula\\\", \\\"expr\\\": \\\"toNumber(datum[\\\\\\\"a\\\\\\\"])*300+195\\\", \\\"as\\\": \\\"c_frequent_items\\\"}, {\\\"type\\\": \\\"formula\\\", \\\"expr\\\": \\\"toNumber(datum[\\\\\\\"a\\\\\\\"])*300+218\\\", \\\"as\\\": \\\"c_first_item\\\"}, {\\\"type\\\": \\\"formula\\\", \\\"expr\\\": \\\"toNumber(datum[\\\\\\\"a\\\\\\\"])*300+235\\\", \\\"as\\\": \\\"c_second_item\\\"}, {\\\"type\\\": \\\"formula\\\", \\\"expr\\\": \\\"toNumber(datum[\\\\\\\"a\\\\\\\"])*300+252\\\", \\\"as\\\": \\\"c_third_item\\\"}, {\\\"type\\\": \\\"formula\\\", \\\"expr\\\": \\\"toNumber(datum[\\\\\\\"a\\\\\\\"])*300+269\\\", \\\"as\\\": \\\"c_fourth_item\\\"}, {\\\"type\\\": \\\"formula\\\", \\\"expr\\\": \\\"toNumber(datum[\\\\\\\"a\\\\\\\"])*300+286\\\", \\\"as\\\": \\\"c_fifth_item\\\"}, {\\\"type\\\": \\\"formula\\\", \\\"expr\\\": \\\"toNumber(datum[\\\\\\\"a\\\\\\\"])*300+200\\\", \\\"as\\\": \\\"c_mean\\\"}, {\\\"type\\\": \\\"formula\\\", \\\"expr\\\": \\\"toNumber(datum[\\\\\\\"a\\\\\\\"])*300+220\\\", \\\"as\\\": \\\"c_min\\\"}, {\\\"type\\\": \\\"formula\\\", \\\"expr\\\": \\\"toNumber(datum[\\\\\\\"a\\\\\\\"])*300+240\\\", \\\"as\\\": \\\"c_max\\\"}, {\\\"type\\\": \\\"formula\\\", \\\"expr\\\": \\\"toNumber(datum[\\\\\\\"a\\\\\\\"])*300+260\\\", \\\"as\\\": \\\"c_median\\\"}, {\\\"type\\\": \\\"formula\\\", \\\"expr\\\": \\\"toNumber(datum[\\\\\\\"a\\\\\\\"])*300+280\\\", \\\"as\\\": \\\"c_stdev\\\"}, {\\\"type\\\": \\\"formula\\\", \\\"expr\\\": \\\"toNumber(datum[\\\\\\\"a\\\\\\\"])*300+198\\\", \\\"as\\\": \\\"c_mean_val\\\"}, {\\\"type\\\": \\\"formula\\\", \\\"expr\\\": \\\"toNumber(datum[\\\\\\\"a\\\\\\\"])*300+218\\\", \\\"as\\\": \\\"c_min_val\\\"}, {\\\"type\\\": \\\"formula\\\", \\\"expr\\\": \\\"toNumber(datum[\\\\\\\"a\\\\\\\"])*300+238\\\", \\\"as\\\": \\\"c_max_val\\\"}, {\\\"type\\\": \\\"formula\\\", \\\"expr\\\": \\\"toNumber(datum[\\\\\\\"a\\\\\\\"])*300+258\\\", \\\"as\\\": \\\"c_median_val\\\"}, {\\\"type\\\": \\\"formula\\\", \\\"expr\\\": \\\"toNumber(datum[\\\\\\\"a\\\\\\\"])*300+278\\\", \\\"as\\\": \\\"c_stdev_val\\\"}, {\\\"type\\\": \\\"formula\\\", \\\"expr\\\": \\\"toNumber(datum[\\\\\\\"a\\\\\\\"])*300+106\\\", \\\"as\\\": \\\"graph_offset\\\"}, {\\\"type\\\": \\\"formula\\\", \\\"expr\\\": \\\"toNumber(datum[\\\\\\\"a\\\\\\\"])*300+132\\\", \\\"as\\\": \\\"graph_offset_categorical\\\"}, {\\\"type\\\": \\\"formula\\\", \\\"expr\\\": \\\"(toString(datum[\\\\\\\"type\\\\\\\"]) == \\\\\\\"integer\\\\\\\" || toString(datum[\\\\\\\"type\\\\\\\"]) == \\\\\\\"float\\\\\\\")?false:true\\\", \\\"as\\\": \\\"c_clip_val\\\"}, {\\\"type\\\": \\\"formula\\\", \\\"expr\\\": \\\"(toString(datum[\\\\\\\"type\\\\\\\"]) == \\\\\\\"integer\\\\\\\" || toString(datum[\\\\\\\"type\\\\\\\"]) == \\\\\\\"float\\\\\\\")?250:0\\\", \\\"as\\\": \\\"c_width_numeric_val\\\"}, {\\\"type\\\": \\\"formula\\\", \\\"expr\\\": \\\"(toString(datum[\\\\\\\"type\\\\\\\"]) == \\\\\\\"str\\\\\\\")?false:true\\\", \\\"as\\\": \\\"c_clip_val_cat\\\"}, {\\\"type\\\": \\\"formula\\\", \\\"expr\\\": \\\"(toString(datum[\\\\\\\"type\\\\\\\"]) == \\\\\\\"str\\\\\\\")?250:0\\\", \\\"as\\\": \\\"c_width_numeric_val_cat\\\"}]}], \\\"marks\\\": [{\\\"encode\\\": {\\\"enter\\\": {\\\"x\\\": {\\\"value\\\": 0}, \\\"width\\\": {\\\"value\\\": 734}, \\\"y\\\": {\\\"value\\\": 0}, \\\"height\\\": {\\\"value\\\": 366}, \\\"clip\\\": {\\\"value\\\": 0}, \\\"fill\\\": {\\\"value\\\": \\\"#ffffff\\\"}, \\\"fillOpacity\\\": {\\\"value\\\": 0}, \\\"stroke\\\": {\\\"value\\\": \\\"#000000\\\"}, \\\"strokeWidth\\\": {\\\"value\\\": 0}}}, \\\"marks\\\": [{\\\"encode\\\": {\\\"enter\\\": {\\\"x\\\": {\\\"value\\\": 0}, \\\"width\\\": {\\\"value\\\": 734}, \\\"y\\\": {\\\"value\\\": 0}, \\\"height\\\": {\\\"value\\\": 366}, \\\"clip\\\": {\\\"value\\\": 0}, \\\"fill\\\": {\\\"value\\\": \\\"#ffffff\\\"}, \\\"fillOpacity\\\": {\\\"value\\\": 0}, \\\"stroke\\\": {\\\"value\\\": \\\"#000000\\\"}, \\\"strokeWidth\\\": {\\\"value\\\": 0}}}, \\\"scales\\\": [], \\\"axes\\\": [], \\\"marks\\\": [{\\\"from\\\": {\\\"data\\\": \\\"data_2\\\"}, \\\"encode\\\": {\\\"enter\\\": {\\\"x\\\": {\\\"value\\\": 33}, \\\"width\\\": {\\\"value\\\": 700}, \\\"y\\\": {\\\"value\\\": 66}, \\\"height\\\": {\\\"value\\\": 250}, \\\"fill\\\": {\\\"value\\\": \\\"#FEFEFE\\\"}, \\\"fillOpacity\\\": {\\\"value\\\": 1}, \\\"stroke\\\": {\\\"value\\\": \\\"#DEDEDE\\\"}, \\\"strokeWidth\\\": {\\\"value\\\": 0.5}}, \\\"update\\\": {\\\"x\\\": {\\\"signal\\\": \\\"datum[\\\\\\\"c_x_axis_back\\\\\\\"]\\\"}, \\\"y\\\": {\\\"field\\\": \\\"c_main_background\\\"}}}, \\\"type\\\": \\\"rect\\\"}, {\\\"from\\\": {\\\"data\\\": \\\"data_2\\\"}, \\\"encode\\\": {\\\"enter\\\": {\\\"x\\\": {\\\"value\\\": 33}, \\\"width\\\": {\\\"value\\\": 700}, \\\"y\\\": {\\\"value\\\": 43}, \\\"height\\\": {\\\"value\\\": 30}, \\\"fill\\\": {\\\"value\\\": \\\"#F5F5F5\\\"}, \\\"fillOpacity\\\": {\\\"value\\\": 1}, \\\"stroke\\\": {\\\"value\\\": \\\"#DEDEDE\\\"}, \\\"strokeWidth\\\": {\\\"value\\\": 0.5}}, \\\"update\\\": {\\\"x\\\": {\\\"signal\\\": \\\"datum[\\\\\\\"c_x_axis_back\\\\\\\"]\\\"}, \\\"y\\\": {\\\"field\\\": \\\"c_top_bar\\\"}}}, \\\"type\\\": \\\"rect\\\"}, {\\\"from\\\": {\\\"data\\\": \\\"data_2\\\"}, \\\"encode\\\": {\\\"enter\\\": {\\\"x\\\": {\\\"value\\\": 720}, \\\"y\\\": {\\\"value\\\": 58}, \\\"text\\\": {\\\"signal\\\": \\\"&apos;&apos;+datum[\\\\\\\"type\\\\\\\"]\\\"}, \\\"align\\\": {\\\"value\\\": \\\"right\\\"}, \\\"baseline\\\": {\\\"value\\\": \\\"middle\\\"}, \\\"dx\\\": {\\\"value\\\": 0, \\\"offset\\\": 0}, \\\"dy\\\": {\\\"value\\\": 0, \\\"offset\\\": 0}, \\\"angle\\\": {\\\"value\\\": 0}, \\\"font\\\": {\\\"value\\\": \\\"AvenirNext-Medium\\\"}, \\\"fontSize\\\": {\\\"value\\\": 12}, \\\"fontWeight\\\": {\\\"value\\\": \\\"normal\\\"}, \\\"fontStyle\\\": {\\\"value\\\": \\\"normal\\\"}, \\\"fill\\\": {\\\"value\\\": \\\"#595859\\\"}}, \\\"update\\\": {\\\"x\\\": {\\\"signal\\\": \\\"datum[\\\\\\\"c_x_axis_back\\\\\\\"]+687\\\"}, \\\"y\\\": {\\\"field\\\": \\\"c_top_type\\\"}}}, \\\"type\\\": \\\"text\\\"}, {\\\"from\\\": {\\\"data\\\": \\\"data_2\\\"}, \\\"encode\\\": {\\\"enter\\\": {\\\"x\\\": {\\\"value\\\": 44}, \\\"y\\\": {\\\"value\\\": 59}, \\\"text\\\": {\\\"signal\\\": \\\"&apos;&apos;+datum[\\\\\\\"title\\\\\\\"]\\\"}, \\\"align\\\": {\\\"value\\\": \\\"left\\\"}, \\\"baseline\\\": {\\\"value\\\": \\\"middle\\\"}, \\\"dx\\\": {\\\"value\\\": 0, \\\"offset\\\": 0}, \\\"dy\\\": {\\\"value\\\": 0, \\\"offset\\\": 0}, \\\"angle\\\": {\\\"value\\\": 0}, \\\"font\\\": {\\\"value\\\": \\\"AvenirNext-Medium\\\"}, \\\"fontSize\\\": {\\\"value\\\": 15}, \\\"fontWeight\\\": {\\\"value\\\": \\\"normal\\\"}, \\\"fontStyle\\\": {\\\"value\\\": \\\"normal\\\"}, \\\"fill\\\": {\\\"value\\\": \\\"#9B9B9B\\\"}}, \\\"update\\\": {\\\"x\\\": {\\\"signal\\\": \\\"datum[\\\\\\\"c_x_axis_back\\\\\\\"]+11\\\"}, \\\"y\\\": {\\\"field\\\": \\\"c_top_title\\\"}}}, \\\"type\\\": \\\"text\\\"}, {\\\"from\\\": {\\\"data\\\": \\\"data_2\\\"}, \\\"encode\\\": {\\\"enter\\\": {\\\"x\\\": {\\\"value\\\": 500}, \\\"y\\\": {\\\"value\\\": 178}, \\\"stroke\\\": {\\\"value\\\": \\\"#EDEDEB\\\"}, \\\"strokeWidth\\\": {\\\"value\\\": 1}, \\\"strokeCap\\\": {\\\"value\\\": \\\"butt\\\"}, \\\"x2\\\": {\\\"value\\\": 720}, \\\"y2\\\": {\\\"value\\\": 178}}, \\\"update\\\": {\\\"x\\\": {\\\"signal\\\": \\\"datum[\\\\\\\"c_x_axis_back\\\\\\\"]+467\\\"}, \\\"x2\\\": {\\\"signal\\\": \\\"datum[\\\\\\\"c_x_axis_back\\\\\\\"]+687\\\"}, \\\"y\\\": {\\\"field\\\": \\\"c_rule\\\"}, \\\"y2\\\": {\\\"field\\\": \\\"c_rule\\\"}}}, \\\"type\\\": \\\"rule\\\"}, {\\\"from\\\": {\\\"data\\\": \\\"data_2\\\"}, \\\"encode\\\": {\\\"enter\\\": {\\\"x\\\": {\\\"value\\\": 500}, \\\"y\\\": {\\\"value\\\": 106}, \\\"text\\\": {\\\"value\\\": \\\"Num. Rows:\\\"}, \\\"align\\\": {\\\"value\\\": \\\"left\\\"}, \\\"baseline\\\": {\\\"value\\\": \\\"middle\\\"}, \\\"dx\\\": {\\\"value\\\": 0, \\\"offset\\\": 0}, \\\"dy\\\": {\\\"value\\\": 0, \\\"offset\\\": 0}, \\\"angle\\\": {\\\"value\\\": 0}, \\\"font\\\": {\\\"value\\\": \\\"AvenirNext-Medium\\\"}, \\\"fontSize\\\": {\\\"value\\\": 12}, \\\"fontWeight\\\": {\\\"value\\\": \\\"normal\\\"}, \\\"fontStyle\\\": {\\\"value\\\": \\\"normal\\\"}, \\\"fill\\\": {\\\"value\\\": \\\"#4A4A4A\\\"}}, \\\"update\\\": {\\\"x\\\": {\\\"signal\\\": \\\"datum[\\\\\\\"c_x_axis_back\\\\\\\"]+467\\\"}, \\\"y\\\": {\\\"field\\\": \\\"c_num_rows\\\"}}}, \\\"type\\\": \\\"text\\\"}, {\\\"from\\\": {\\\"data\\\": \\\"data_2\\\"}, \\\"encode\\\": {\\\"enter\\\": {\\\"x\\\": {\\\"value\\\": 500}, \\\"y\\\": {\\\"value\\\": 130}, \\\"text\\\": {\\\"value\\\": \\\"Num. Unique:\\\"}, \\\"align\\\": {\\\"value\\\": \\\"left\\\"}, \\\"baseline\\\": {\\\"value\\\": \\\"middle\\\"}, \\\"dx\\\": {\\\"value\\\": 0, \\\"offset\\\": 0}, \\\"dy\\\": {\\\"value\\\": 0, \\\"offset\\\": 0}, \\\"angle\\\": {\\\"value\\\": 0}, \\\"font\\\": {\\\"value\\\": \\\"AvenirNext-Medium\\\"}, \\\"fontSize\\\": {\\\"value\\\": 12}, \\\"fontWeight\\\": {\\\"value\\\": \\\"normal\\\"}, \\\"fontStyle\\\": {\\\"value\\\": \\\"normal\\\"}, \\\"fill\\\": {\\\"value\\\": \\\"#4A4A4A\\\"}}, \\\"update\\\": {\\\"x\\\": {\\\"signal\\\": \\\"datum[\\\\\\\"c_x_axis_back\\\\\\\"]+467\\\"}, \\\"y\\\": {\\\"field\\\": \\\"c_num_unique\\\"}}}, \\\"type\\\": \\\"text\\\"}, {\\\"from\\\": {\\\"data\\\": \\\"data_2\\\"}, \\\"encode\\\": {\\\"enter\\\": {\\\"x\\\": {\\\"value\\\": 500}, \\\"y\\\": {\\\"value\\\": 154}, \\\"text\\\": {\\\"value\\\": \\\"Missing:\\\"}, \\\"align\\\": {\\\"value\\\": \\\"left\\\"}, \\\"baseline\\\": {\\\"value\\\": \\\"middle\\\"}, \\\"dx\\\": {\\\"value\\\": 0, \\\"offset\\\": 0}, \\\"dy\\\": {\\\"value\\\": 0, \\\"offset\\\": 0}, \\\"angle\\\": {\\\"value\\\": 0}, \\\"font\\\": {\\\"value\\\": \\\"AvenirNext-Medium\\\"}, \\\"fontSize\\\": {\\\"value\\\": 12}, \\\"fontWeight\\\": {\\\"value\\\": \\\"normal\\\"}, \\\"fontStyle\\\": {\\\"value\\\": \\\"normal\\\"}, \\\"fill\\\": {\\\"value\\\": \\\"#4A4A4A\\\"}}, \\\"update\\\": {\\\"x\\\": {\\\"signal\\\": \\\"datum[\\\\\\\"c_x_axis_back\\\\\\\"]+467\\\"}, \\\"y\\\": {\\\"field\\\": \\\"c_missing\\\"}}}, \\\"type\\\": \\\"text\\\"}, {\\\"from\\\": {\\\"data\\\": \\\"data_2\\\"}, \\\"encode\\\": {\\\"enter\\\": {\\\"x\\\": {\\\"value\\\": 700}, \\\"y\\\": {\\\"value\\\": 105}, \\\"text\\\": {\\\"signal\\\": \\\"toString(format(datum[\\\\\\\"num_row\\\\\\\"], \\\\\\\",\\\\\\\"))\\\"}, \\\"align\\\": {\\\"value\\\": \\\"right\\\"}, \\\"baseline\\\": {\\\"value\\\": \\\"middle\\\"}, \\\"dx\\\": {\\\"value\\\": 0, \\\"offset\\\": 0}, \\\"dy\\\": {\\\"value\\\": 0, \\\"offset\\\": 0}, \\\"angle\\\": {\\\"value\\\": 0}, \\\"font\\\": {\\\"value\\\": \\\"AvenirNext-Medium\\\"}, \\\"fontSize\\\": {\\\"value\\\": 12}, \\\"fontWeight\\\": {\\\"value\\\": \\\"normal\\\"}, \\\"fontStyle\\\": {\\\"value\\\": \\\"normal\\\"}, \\\"fill\\\": {\\\"value\\\": \\\"#5A5A5A\\\"}}, \\\"update\\\": {\\\"x\\\": {\\\"signal\\\": \\\"datum[\\\\\\\"c_x_axis_back\\\\\\\"]+667\\\"}, \\\"y\\\": {\\\"field\\\": \\\"c_num_rows_val\\\"}}}, \\\"type\\\": \\\"text\\\"}, {\\\"from\\\": {\\\"data\\\": \\\"data_2\\\"}, \\\"encode\\\": {\\\"enter\\\": {\\\"x\\\": {\\\"value\\\": 700}, \\\"y\\\": {\\\"value\\\": 130}, \\\"text\\\": {\\\"signal\\\": \\\"toString(format(datum[\\\\\\\"num_unique\\\\\\\"], \\\\\\\",\\\\\\\"))\\\"}, \\\"align\\\": {\\\"value\\\": \\\"right\\\"}, \\\"baseline\\\": {\\\"value\\\": \\\"middle\\\"}, \\\"dx\\\": {\\\"value\\\": 0, \\\"offset\\\": 0}, \\\"dy\\\": {\\\"value\\\": 0, \\\"offset\\\": 0}, \\\"angle\\\": {\\\"value\\\": 0}, \\\"font\\\": {\\\"value\\\": \\\"AvenirNext-Medium\\\"}, \\\"fontSize\\\": {\\\"value\\\": 12}, \\\"fontWeight\\\": {\\\"value\\\": \\\"normal\\\"}, \\\"fontStyle\\\": {\\\"value\\\": \\\"normal\\\"}, \\\"fill\\\": {\\\"value\\\": \\\"#5A5A5A\\\"}}, \\\"update\\\": {\\\"x\\\": {\\\"signal\\\": \\\"datum[\\\\\\\"c_x_axis_back\\\\\\\"]+667\\\"}, \\\"y\\\": {\\\"field\\\": \\\"c_num_unique_val\\\"}}}, \\\"type\\\": \\\"text\\\"}, {\\\"from\\\": {\\\"data\\\": \\\"data_2\\\"}, \\\"encode\\\": {\\\"enter\\\": {\\\"x\\\": {\\\"value\\\": 700}, \\\"y\\\": {\\\"value\\\": 154}, \\\"text\\\": {\\\"signal\\\": \\\"toString(format(datum[\\\\\\\"num_missing\\\\\\\"], \\\\\\\",\\\\\\\"))\\\"}, \\\"align\\\": {\\\"value\\\": \\\"right\\\"}, \\\"baseline\\\": {\\\"value\\\": \\\"middle\\\"}, \\\"dx\\\": {\\\"value\\\": 0, \\\"offset\\\": 0}, \\\"dy\\\": {\\\"value\\\": 0, \\\"offset\\\": 0}, \\\"angle\\\": {\\\"value\\\": 0}, \\\"font\\\": {\\\"value\\\": \\\"AvenirNext-Medium\\\"}, \\\"fontSize\\\": {\\\"value\\\": 12}, \\\"fontWeight\\\": {\\\"value\\\": \\\"normal\\\"}, \\\"fontStyle\\\": {\\\"value\\\": \\\"normal\\\"}, \\\"fill\\\": {\\\"value\\\": \\\"#5A5A5A\\\"}}, \\\"update\\\": {\\\"x\\\": {\\\"signal\\\": \\\"datum[\\\\\\\"c_x_axis_back\\\\\\\"]+667\\\"}, \\\"y\\\": {\\\"field\\\": \\\"c_missing_val\\\"}}}, \\\"type\\\": \\\"text\\\"}, {\\\"from\\\": {\\\"data\\\": \\\"data_2\\\"}, \\\"encode\\\": {\\\"enter\\\": {\\\"x\\\": {\\\"value\\\": 500}, \\\"y\\\": {\\\"value\\\": 200}, \\\"text\\\": {\\\"signal\\\": \\\"(toString(datum[\\\\\\\"type\\\\\\\"]) == \\\\\\\"str\\\\\\\")? \\\\\\\"Frequent Items\\\\\\\":\\\\\\\"\\\\\\\"\\\"}, \\\"align\\\": {\\\"value\\\": \\\"left\\\"}, \\\"baseline\\\": {\\\"value\\\": \\\"middle\\\"}, \\\"dx\\\": {\\\"value\\\": 0, \\\"offset\\\": 0}, \\\"dy\\\": {\\\"value\\\": 0, \\\"offset\\\": 0}, \\\"angle\\\": {\\\"value\\\": 0}, \\\"clip\\\": {\\\"value\\\": true}, \\\"font\\\": {\\\"value\\\": \\\"AvenirNext-Medium\\\"}, \\\"fontSize\\\": {\\\"value\\\": 11}, \\\"fontWeight\\\": {\\\"value\\\": \\\"bold\\\"}, \\\"fontStyle\\\": {\\\"value\\\": \\\"normal\\\"}, \\\"fill\\\": {\\\"value\\\": \\\"#4A4A4A\\\"}}, \\\"update\\\": {\\\"x\\\": {\\\"signal\\\": \\\"datum[\\\\\\\"c_x_axis_back\\\\\\\"]+467\\\"}, \\\"y\\\": {\\\"field\\\": \\\"c_frequent_items\\\"}}}, \\\"type\\\": \\\"text\\\"}, {\\\"from\\\": {\\\"data\\\": \\\"data_2\\\"}, \\\"encode\\\": {\\\"enter\\\": {\\\"x\\\": {\\\"value\\\": 520}, \\\"y\\\": {\\\"value\\\": 200}, \\\"text\\\": {\\\"signal\\\": \\\"((datum[\\\\\\\"categorical\\\\\\\"].length >= 1) &amp;&amp; (toString(datum[\\\\\\\"type\\\\\\\"]) == \\\\\\\"str\\\\\\\"))? toString(datum[\\\\\\\"categorical\\\\\\\"][0][\\\\\\\"label\\\\\\\"]):\\\\\\\"\\\\\\\"\\\"}, \\\"align\\\": {\\\"value\\\": \\\"left\\\"}, \\\"baseline\\\": {\\\"value\\\": \\\"middle\\\"}, \\\"dx\\\": {\\\"value\\\": 0, \\\"offset\\\": 0}, \\\"dy\\\": {\\\"value\\\": 0, \\\"offset\\\": 0}, \\\"angle\\\": {\\\"value\\\": 0}, \\\"clip\\\": {\\\"value\\\": true}, \\\"font\\\": {\\\"value\\\": \\\"AvenirNext-Medium\\\"}, \\\"fontSize\\\": {\\\"value\\\": 11}, \\\"fontWeight\\\": {\\\"value\\\": \\\"normal\\\"}, \\\"fontStyle\\\": {\\\"value\\\": \\\"normal\\\"}, \\\"fill\\\": {\\\"value\\\": \\\"#4A4A4A\\\"}}, \\\"update\\\": {\\\"x\\\": {\\\"signal\\\": \\\"datum[\\\\\\\"c_x_axis_back\\\\\\\"]+487\\\"}, \\\"y\\\": {\\\"field\\\": \\\"c_first_item\\\"}}}, \\\"type\\\": \\\"text\\\"}, {\\\"from\\\": {\\\"data\\\": \\\"data_2\\\"}, \\\"encode\\\": {\\\"enter\\\": {\\\"x\\\": {\\\"value\\\": 520}, \\\"y\\\": {\\\"value\\\": 200}, \\\"text\\\": {\\\"signal\\\": \\\"((datum[\\\\\\\"categorical\\\\\\\"].length >= 2) &amp;&amp; (toString(datum[\\\\\\\"type\\\\\\\"]) == \\\\\\\"str\\\\\\\"))? toString(datum[\\\\\\\"categorical\\\\\\\"][1][\\\\\\\"label\\\\\\\"]):\\\\\\\"\\\\\\\"\\\"}, \\\"align\\\": {\\\"value\\\": \\\"left\\\"}, \\\"baseline\\\": {\\\"value\\\": \\\"middle\\\"}, \\\"dx\\\": {\\\"value\\\": 0, \\\"offset\\\": 0}, \\\"dy\\\": {\\\"value\\\": 0, \\\"offset\\\": 0}, \\\"angle\\\": {\\\"value\\\": 0}, \\\"clip\\\": {\\\"value\\\": true}, \\\"font\\\": {\\\"value\\\": \\\"AvenirNext-Medium\\\"}, \\\"fontSize\\\": {\\\"value\\\": 11}, \\\"fontWeight\\\": {\\\"value\\\": \\\"normal\\\"}, \\\"fontStyle\\\": {\\\"value\\\": \\\"normal\\\"}, \\\"fill\\\": {\\\"value\\\": \\\"#4A4A4A\\\"}}, \\\"update\\\": {\\\"x\\\": {\\\"signal\\\": \\\"datum[\\\\\\\"c_x_axis_back\\\\\\\"]+487\\\"}, \\\"y\\\": {\\\"field\\\": \\\"c_second_item\\\"}}}, \\\"type\\\": \\\"text\\\"}, {\\\"from\\\": {\\\"data\\\": \\\"data_2\\\"}, \\\"encode\\\": {\\\"enter\\\": {\\\"x\\\": {\\\"value\\\": 520}, \\\"y\\\": {\\\"value\\\": 200}, \\\"text\\\": {\\\"signal\\\": \\\"((datum[\\\\\\\"categorical\\\\\\\"].length >= 3) &amp;&amp; (toString(datum[\\\\\\\"type\\\\\\\"]) == \\\\\\\"str\\\\\\\"))? toString(datum[\\\\\\\"categorical\\\\\\\"][2][\\\\\\\"label\\\\\\\"]):\\\\\\\"\\\\\\\"\\\"}, \\\"align\\\": {\\\"value\\\": \\\"left\\\"}, \\\"baseline\\\": {\\\"value\\\": \\\"middle\\\"}, \\\"dx\\\": {\\\"value\\\": 0, \\\"offset\\\": 0}, \\\"dy\\\": {\\\"value\\\": 0, \\\"offset\\\": 0}, \\\"angle\\\": {\\\"value\\\": 0}, \\\"clip\\\": {\\\"value\\\": true}, \\\"font\\\": {\\\"value\\\": \\\"AvenirNext-Medium\\\"}, \\\"fontSize\\\": {\\\"value\\\": 11}, \\\"fontWeight\\\": {\\\"value\\\": \\\"normal\\\"}, \\\"fontStyle\\\": {\\\"value\\\": \\\"normal\\\"}, \\\"fill\\\": {\\\"value\\\": \\\"#4A4A4A\\\"}}, \\\"update\\\": {\\\"x\\\": {\\\"signal\\\": \\\"datum[\\\\\\\"c_x_axis_back\\\\\\\"]+487\\\"}, \\\"y\\\": {\\\"field\\\": \\\"c_third_item\\\"}}}, \\\"type\\\": \\\"text\\\"}, {\\\"from\\\": {\\\"data\\\": \\\"data_2\\\"}, \\\"encode\\\": {\\\"enter\\\": {\\\"x\\\": {\\\"value\\\": 520}, \\\"y\\\": {\\\"value\\\": 200}, \\\"text\\\": {\\\"signal\\\": \\\"((datum[\\\\\\\"categorical\\\\\\\"].length >= 4) &amp;&amp; (toString(datum[\\\\\\\"type\\\\\\\"]) == \\\\\\\"str\\\\\\\"))? toString(datum[\\\\\\\"categorical\\\\\\\"][3][\\\\\\\"label\\\\\\\"]):\\\\\\\"\\\\\\\"\\\"}, \\\"align\\\": {\\\"value\\\": \\\"left\\\"}, \\\"baseline\\\": {\\\"value\\\": \\\"middle\\\"}, \\\"dx\\\": {\\\"value\\\": 0, \\\"offset\\\": 0}, \\\"dy\\\": {\\\"value\\\": 0, \\\"offset\\\": 0}, \\\"angle\\\": {\\\"value\\\": 0}, \\\"clip\\\": {\\\"value\\\": true}, \\\"font\\\": {\\\"value\\\": \\\"AvenirNext-Medium\\\"}, \\\"fontSize\\\": {\\\"value\\\": 11}, \\\"fontWeight\\\": {\\\"value\\\": \\\"normal\\\"}, \\\"fontStyle\\\": {\\\"value\\\": \\\"normal\\\"}, \\\"fill\\\": {\\\"value\\\": \\\"#4A4A4A\\\"}}, \\\"update\\\": {\\\"x\\\": {\\\"signal\\\": \\\"datum[\\\\\\\"c_x_axis_back\\\\\\\"]+487\\\"}, \\\"y\\\": {\\\"field\\\": \\\"c_fourth_item\\\"}}}, \\\"type\\\": \\\"text\\\"}, {\\\"from\\\": {\\\"data\\\": \\\"data_2\\\"}, \\\"encode\\\": {\\\"enter\\\": {\\\"x\\\": {\\\"value\\\": 520}, \\\"y\\\": {\\\"value\\\": 200}, \\\"text\\\": {\\\"signal\\\": \\\"((datum[\\\\\\\"categorical\\\\\\\"].length >= 5) &amp;&amp; (toString(datum[\\\\\\\"type\\\\\\\"]) == \\\\\\\"str\\\\\\\"))? toString(datum[\\\\\\\"categorical\\\\\\\"][4][\\\\\\\"label\\\\\\\"]):\\\\\\\"\\\\\\\"\\\"}, \\\"align\\\": {\\\"value\\\": \\\"left\\\"}, \\\"baseline\\\": {\\\"value\\\": \\\"middle\\\"}, \\\"dx\\\": {\\\"value\\\": 0, \\\"offset\\\": 0}, \\\"dy\\\": {\\\"value\\\": 0, \\\"offset\\\": 0}, \\\"angle\\\": {\\\"value\\\": 0}, \\\"clip\\\": {\\\"value\\\": true}, \\\"font\\\": {\\\"value\\\": \\\"AvenirNext-Medium\\\"}, \\\"fontSize\\\": {\\\"value\\\": 11}, \\\"fontWeight\\\": {\\\"value\\\": \\\"normal\\\"}, \\\"fontStyle\\\": {\\\"value\\\": \\\"normal\\\"}, \\\"fill\\\": {\\\"value\\\": \\\"#4A4A4A\\\"}}, \\\"update\\\": {\\\"x\\\": {\\\"signal\\\": \\\"datum[\\\\\\\"c_x_axis_back\\\\\\\"]+487\\\"}, \\\"y\\\": {\\\"field\\\": \\\"c_fifth_item\\\"}}}, \\\"type\\\": \\\"text\\\"}, {\\\"from\\\": {\\\"data\\\": \\\"data_2\\\"}, \\\"encode\\\": {\\\"enter\\\": {\\\"x\\\": {\\\"value\\\": 700}, \\\"y\\\": {\\\"value\\\": 200}, \\\"text\\\": {\\\"signal\\\": \\\"((datum[\\\\\\\"categorical\\\\\\\"].length >= 1) &amp;&amp; (toString(datum[\\\\\\\"type\\\\\\\"]) == \\\\\\\"str\\\\\\\"))? toString(datum[\\\\\\\"categorical\\\\\\\"][0][\\\\\\\"count\\\\\\\"]):\\\\\\\"\\\\\\\"\\\"}, \\\"align\\\": {\\\"value\\\": \\\"right\\\"}, \\\"baseline\\\": {\\\"value\\\": \\\"middle\\\"}, \\\"dx\\\": {\\\"value\\\": 0, \\\"offset\\\": 0}, \\\"dy\\\": {\\\"value\\\": 0, \\\"offset\\\": 0}, \\\"angle\\\": {\\\"value\\\": 0}, \\\"clip\\\": {\\\"value\\\": true}, \\\"font\\\": {\\\"value\\\": \\\"AvenirNext-Medium\\\"}, \\\"fontSize\\\": {\\\"value\\\": 11}, \\\"fontWeight\\\": {\\\"value\\\": \\\"normal\\\"}, \\\"fontStyle\\\": {\\\"value\\\": \\\"normal\\\"}, \\\"fill\\\": {\\\"value\\\": \\\"#7A7A7A\\\"}}, \\\"update\\\": {\\\"x\\\": {\\\"signal\\\": \\\"datum[\\\\\\\"c_x_axis_back\\\\\\\"]+667\\\"}, \\\"y\\\": {\\\"field\\\": \\\"c_first_item\\\"}}}, \\\"type\\\": \\\"text\\\"}, {\\\"from\\\": {\\\"data\\\": \\\"data_2\\\"}, \\\"encode\\\": {\\\"enter\\\": {\\\"x\\\": {\\\"value\\\": 700}, \\\"y\\\": {\\\"value\\\": 200}, \\\"text\\\": {\\\"signal\\\": \\\"((datum[\\\\\\\"categorical\\\\\\\"].length >= 2) &amp;&amp; (toString(datum[\\\\\\\"type\\\\\\\"]) == \\\\\\\"str\\\\\\\"))? toString(datum[\\\\\\\"categorical\\\\\\\"][1][\\\\\\\"count\\\\\\\"]):\\\\\\\"\\\\\\\"\\\"}, \\\"align\\\": {\\\"value\\\": \\\"right\\\"}, \\\"baseline\\\": {\\\"value\\\": \\\"middle\\\"}, \\\"dx\\\": {\\\"value\\\": 0, \\\"offset\\\": 0}, \\\"dy\\\": {\\\"value\\\": 0, \\\"offset\\\": 0}, \\\"angle\\\": {\\\"value\\\": 0}, \\\"clip\\\": {\\\"value\\\": true}, \\\"font\\\": {\\\"value\\\": \\\"AvenirNext-Medium\\\"}, \\\"fontSize\\\": {\\\"value\\\": 10}, \\\"fontWeight\\\": {\\\"value\\\": \\\"normal\\\"}, \\\"fontStyle\\\": {\\\"value\\\": \\\"normal\\\"}, \\\"fill\\\": {\\\"value\\\": \\\"#7A7A7A\\\"}}, \\\"update\\\": {\\\"x\\\": {\\\"signal\\\": \\\"datum[\\\\\\\"c_x_axis_back\\\\\\\"]+667\\\"}, \\\"y\\\": {\\\"field\\\": \\\"c_second_item\\\"}}}, \\\"type\\\": \\\"text\\\"}, {\\\"from\\\": {\\\"data\\\": \\\"data_2\\\"}, \\\"encode\\\": {\\\"enter\\\": {\\\"x\\\": {\\\"value\\\": 700}, \\\"y\\\": {\\\"value\\\": 200}, \\\"text\\\": {\\\"signal\\\": \\\"((datum[\\\\\\\"categorical\\\\\\\"].length >= 3) &amp;&amp; (toString(datum[\\\\\\\"type\\\\\\\"]) == \\\\\\\"str\\\\\\\"))? toString(datum[\\\\\\\"categorical\\\\\\\"][2][\\\\\\\"count\\\\\\\"]):\\\\\\\"\\\\\\\"\\\"}, \\\"align\\\": {\\\"value\\\": \\\"right\\\"}, \\\"baseline\\\": {\\\"value\\\": \\\"middle\\\"}, \\\"dx\\\": {\\\"value\\\": 0, \\\"offset\\\": 0}, \\\"dy\\\": {\\\"value\\\": 0, \\\"offset\\\": 0}, \\\"angle\\\": {\\\"value\\\": 0}, \\\"clip\\\": {\\\"value\\\": true}, \\\"font\\\": {\\\"value\\\": \\\"AvenirNext-Medium\\\"}, \\\"fontSize\\\": {\\\"value\\\": 10}, \\\"fontWeight\\\": {\\\"value\\\": \\\"normal\\\"}, \\\"fontStyle\\\": {\\\"value\\\": \\\"normal\\\"}, \\\"fill\\\": {\\\"value\\\": \\\"#7A7A7A\\\"}}, \\\"update\\\": {\\\"x\\\": {\\\"signal\\\": \\\"datum[\\\\\\\"c_x_axis_back\\\\\\\"]+667\\\"}, \\\"y\\\": {\\\"field\\\": \\\"c_third_item\\\"}}}, \\\"type\\\": \\\"text\\\"}, {\\\"from\\\": {\\\"data\\\": \\\"data_2\\\"}, \\\"encode\\\": {\\\"enter\\\": {\\\"x\\\": {\\\"value\\\": 700}, \\\"y\\\": {\\\"value\\\": 200}, \\\"text\\\": {\\\"signal\\\": \\\"((datum[\\\\\\\"categorical\\\\\\\"].length >= 4) &amp;&amp; (toString(datum[\\\\\\\"type\\\\\\\"]) == \\\\\\\"str\\\\\\\"))? toString(datum[\\\\\\\"categorical\\\\\\\"][3][\\\\\\\"count\\\\\\\"]):\\\\\\\"\\\\\\\"\\\"}, \\\"align\\\": {\\\"value\\\": \\\"right\\\"}, \\\"baseline\\\": {\\\"value\\\": \\\"middle\\\"}, \\\"dx\\\": {\\\"value\\\": 0, \\\"offset\\\": 0}, \\\"dy\\\": {\\\"value\\\": 0, \\\"offset\\\": 0}, \\\"angle\\\": {\\\"value\\\": 0}, \\\"clip\\\": {\\\"value\\\": true}, \\\"font\\\": {\\\"value\\\": \\\"AvenirNext-Medium\\\"}, \\\"fontSize\\\": {\\\"value\\\": 10}, \\\"fontWeight\\\": {\\\"value\\\": \\\"normal\\\"}, \\\"fontStyle\\\": {\\\"value\\\": \\\"normal\\\"}, \\\"fill\\\": {\\\"value\\\": \\\"#7A7A7A\\\"}}, \\\"update\\\": {\\\"x\\\": {\\\"signal\\\": \\\"datum[\\\\\\\"c_x_axis_back\\\\\\\"]+667\\\"}, \\\"y\\\": {\\\"field\\\": \\\"c_fourth_item\\\"}}}, \\\"type\\\": \\\"text\\\"}, {\\\"from\\\": {\\\"data\\\": \\\"data_2\\\"}, \\\"encode\\\": {\\\"enter\\\": {\\\"x\\\": {\\\"value\\\": 700}, \\\"y\\\": {\\\"value\\\": 200}, \\\"text\\\": {\\\"signal\\\": \\\"((datum[\\\\\\\"categorical\\\\\\\"].length >= 5) &amp;&amp; (toString(datum[\\\\\\\"type\\\\\\\"]) == \\\\\\\"str\\\\\\\"))? toString(datum[\\\\\\\"categorical\\\\\\\"][4][\\\\\\\"count\\\\\\\"]):\\\\\\\"\\\\\\\"\\\"}, \\\"align\\\": {\\\"value\\\": \\\"right\\\"}, \\\"baseline\\\": {\\\"value\\\": \\\"middle\\\"}, \\\"dx\\\": {\\\"value\\\": 0, \\\"offset\\\": 0}, \\\"dy\\\": {\\\"value\\\": 0, \\\"offset\\\": 0}, \\\"angle\\\": {\\\"value\\\": 0}, \\\"clip\\\": {\\\"value\\\": true}, \\\"font\\\": {\\\"value\\\": \\\"AvenirNext-Medium\\\"}, \\\"fontSize\\\": {\\\"value\\\": 10}, \\\"fontWeight\\\": {\\\"value\\\": \\\"normal\\\"}, \\\"fontStyle\\\": {\\\"value\\\": \\\"normal\\\"}, \\\"fill\\\": {\\\"value\\\": \\\"#7A7A7A\\\"}}, \\\"update\\\": {\\\"x\\\": {\\\"signal\\\": \\\"datum[\\\\\\\"c_x_axis_back\\\\\\\"]+667\\\"}, \\\"y\\\": {\\\"field\\\": \\\"c_fifth_item\\\"}}}, \\\"type\\\": \\\"text\\\"}, {\\\"from\\\": {\\\"data\\\": \\\"data_2\\\"}, \\\"encode\\\": {\\\"enter\\\": {\\\"x\\\": {\\\"value\\\": 500}, \\\"y\\\": {\\\"value\\\": 200}, \\\"text\\\": {\\\"signal\\\": \\\"(toString(datum[\\\\\\\"type\\\\\\\"]) == \\\\\\\"integer\\\\\\\" || toString(datum[\\\\\\\"type\\\\\\\"]) == \\\\\\\"float\\\\\\\")? \\\\\\\"Mean:\\\\\\\":\\\\\\\"\\\\\\\"\\\"}, \\\"align\\\": {\\\"value\\\": \\\"left\\\"}, \\\"baseline\\\": {\\\"value\\\": \\\"middle\\\"}, \\\"dx\\\": {\\\"value\\\": 0, \\\"offset\\\": 0}, \\\"dy\\\": {\\\"value\\\": 0, \\\"offset\\\": 0}, \\\"angle\\\": {\\\"value\\\": 0}, \\\"clip\\\": {\\\"value\\\": true}, \\\"font\\\": {\\\"value\\\": \\\"AvenirNext-Medium\\\"}, \\\"fontSize\\\": {\\\"value\\\": 11}, \\\"fontWeight\\\": {\\\"value\\\": \\\"bold\\\"}, \\\"fontStyle\\\": {\\\"value\\\": \\\"normal\\\"}, \\\"fill\\\": {\\\"value\\\": \\\"#4A4A4A\\\"}}, \\\"update\\\": {\\\"x\\\": {\\\"signal\\\": \\\"datum[\\\\\\\"c_x_axis_back\\\\\\\"]+467\\\"}, \\\"y\\\": {\\\"field\\\": \\\"c_mean\\\"}}}, \\\"type\\\": \\\"text\\\"}, {\\\"from\\\": {\\\"data\\\": \\\"data_2\\\"}, \\\"encode\\\": {\\\"enter\\\": {\\\"x\\\": {\\\"value\\\": 500}, \\\"y\\\": {\\\"value\\\": 220}, \\\"text\\\": {\\\"signal\\\": \\\"(toString(datum[\\\\\\\"type\\\\\\\"]) == \\\\\\\"integer\\\\\\\" || toString(datum[\\\\\\\"type\\\\\\\"]) == \\\\\\\"float\\\\\\\")? \\\\\\\"Min:\\\\\\\":\\\\\\\"\\\\\\\"\\\"}, \\\"align\\\": {\\\"value\\\": \\\"left\\\"}, \\\"baseline\\\": {\\\"value\\\": \\\"middle\\\"}, \\\"dx\\\": {\\\"value\\\": 0, \\\"offset\\\": 0}, \\\"dy\\\": {\\\"value\\\": 0, \\\"offset\\\": 0}, \\\"angle\\\": {\\\"value\\\": 0}, \\\"font\\\": {\\\"value\\\": \\\"AvenirNext-Medium\\\"}, \\\"fontSize\\\": {\\\"value\\\": 11}, \\\"fontWeight\\\": {\\\"value\\\": \\\"bold\\\"}, \\\"fontStyle\\\": {\\\"value\\\": \\\"normal\\\"}, \\\"fill\\\": {\\\"value\\\": \\\"#4A4A4A\\\"}}, \\\"update\\\": {\\\"x\\\": {\\\"signal\\\": \\\"datum[\\\\\\\"c_x_axis_back\\\\\\\"]+467\\\"}, \\\"y\\\": {\\\"field\\\": \\\"c_min\\\"}}}, \\\"type\\\": \\\"text\\\"}, {\\\"from\\\": {\\\"data\\\": \\\"data_2\\\"}, \\\"encode\\\": {\\\"enter\\\": {\\\"x\\\": {\\\"value\\\": 500}, \\\"y\\\": {\\\"value\\\": 240}, \\\"text\\\": {\\\"signal\\\": \\\"(toString(datum[\\\\\\\"type\\\\\\\"]) == \\\\\\\"integer\\\\\\\" || toString(datum[\\\\\\\"type\\\\\\\"]) == \\\\\\\"float\\\\\\\")? \\\\\\\"Max:\\\\\\\":\\\\\\\"\\\\\\\"\\\"}, \\\"align\\\": {\\\"value\\\": \\\"left\\\"}, \\\"baseline\\\": {\\\"value\\\": \\\"middle\\\"}, \\\"dx\\\": {\\\"value\\\": 0, \\\"offset\\\": 0}, \\\"dy\\\": {\\\"value\\\": 0, \\\"offset\\\": 0}, \\\"angle\\\": {\\\"value\\\": 0}, \\\"font\\\": {\\\"value\\\": \\\"AvenirNext-Medium\\\"}, \\\"fontSize\\\": {\\\"value\\\": 11}, \\\"fontWeight\\\": {\\\"value\\\": \\\"bold\\\"}, \\\"fontStyle\\\": {\\\"value\\\": \\\"normal\\\"}, \\\"fill\\\": {\\\"value\\\": \\\"#4A4A4A\\\"}}, \\\"update\\\": {\\\"x\\\": {\\\"signal\\\": \\\"datum[\\\\\\\"c_x_axis_back\\\\\\\"]+467\\\"}, \\\"y\\\": {\\\"field\\\": \\\"c_max\\\"}}}, \\\"type\\\": \\\"text\\\"}, {\\\"from\\\": {\\\"data\\\": \\\"data_2\\\"}, \\\"encode\\\": {\\\"enter\\\": {\\\"x\\\": {\\\"value\\\": 500}, \\\"y\\\": {\\\"value\\\": 260}, \\\"text\\\": {\\\"signal\\\": \\\"(toString(datum[\\\\\\\"type\\\\\\\"]) == \\\\\\\"integer\\\\\\\" || toString(datum[\\\\\\\"type\\\\\\\"]) == \\\\\\\"float\\\\\\\")? \\\\\\\"Median:\\\\\\\":\\\\\\\"\\\\\\\"\\\"}, \\\"align\\\": {\\\"value\\\": \\\"left\\\"}, \\\"baseline\\\": {\\\"value\\\": \\\"middle\\\"}, \\\"dx\\\": {\\\"value\\\": 0, \\\"offset\\\": 0}, \\\"dy\\\": {\\\"value\\\": 0, \\\"offset\\\": 0}, \\\"angle\\\": {\\\"value\\\": 0}, \\\"font\\\": {\\\"value\\\": \\\"AvenirNext-Medium\\\"}, \\\"fontSize\\\": {\\\"value\\\": 11}, \\\"fontWeight\\\": {\\\"value\\\": \\\"bold\\\"}, \\\"fontStyle\\\": {\\\"value\\\": \\\"normal\\\"}, \\\"fill\\\": {\\\"value\\\": \\\"#4A4A4A\\\"}}, \\\"update\\\": {\\\"x\\\": {\\\"signal\\\": \\\"datum[\\\\\\\"c_x_axis_back\\\\\\\"]+467\\\"}, \\\"y\\\": {\\\"field\\\": \\\"c_median\\\"}}}, \\\"type\\\": \\\"text\\\"}, {\\\"from\\\": {\\\"data\\\": \\\"data_2\\\"}, \\\"encode\\\": {\\\"enter\\\": {\\\"x\\\": {\\\"value\\\": 500}, \\\"y\\\": {\\\"value\\\": 280}, \\\"text\\\": {\\\"signal\\\": \\\"(toString(datum[\\\\\\\"type\\\\\\\"]) == \\\\\\\"integer\\\\\\\" || toString(datum[\\\\\\\"type\\\\\\\"]) == \\\\\\\"float\\\\\\\")? \\\\\\\"St. Dev:\\\\\\\":\\\\\\\"\\\\\\\"\\\"}, \\\"align\\\": {\\\"value\\\": \\\"left\\\"}, \\\"baseline\\\": {\\\"value\\\": \\\"middle\\\"}, \\\"dx\\\": {\\\"value\\\": 0, \\\"offset\\\": 0}, \\\"dy\\\": {\\\"value\\\": 0, \\\"offset\\\": 0}, \\\"angle\\\": {\\\"value\\\": 0}, \\\"font\\\": {\\\"value\\\": \\\"AvenirNext-Medium\\\"}, \\\"fontSize\\\": {\\\"value\\\": 11}, \\\"fontWeight\\\": {\\\"value\\\": \\\"bold\\\"}, \\\"fontStyle\\\": {\\\"value\\\": \\\"normal\\\"}, \\\"fill\\\": {\\\"value\\\": \\\"#4A4A4A\\\"}}, \\\"update\\\": {\\\"x\\\": {\\\"signal\\\": \\\"datum[\\\\\\\"c_x_axis_back\\\\\\\"]+467\\\"}, \\\"y\\\": {\\\"field\\\": \\\"c_stdev\\\"}}}, \\\"type\\\": \\\"text\\\"}, {\\\"from\\\": {\\\"data\\\": \\\"data_2\\\"}, \\\"encode\\\": {\\\"enter\\\": {\\\"x\\\": {\\\"value\\\": 700}, \\\"y\\\": {\\\"value\\\": 198}, \\\"text\\\": {\\\"signal\\\": \\\"(toString(datum[\\\\\\\"type\\\\\\\"]) == \\\\\\\"integer\\\\\\\" || toString(datum[\\\\\\\"type\\\\\\\"]) == \\\\\\\"float\\\\\\\")?toString(format(datum[\\\\\\\"mean\\\\\\\"], \\\\\\\",\\\\\\\")):\\\\\\\"\\\\\\\"\\\"}, \\\"align\\\": {\\\"value\\\": \\\"right\\\"}, \\\"baseline\\\": {\\\"value\\\": \\\"middle\\\"}, \\\"dx\\\": {\\\"value\\\": 0, \\\"offset\\\": 0}, \\\"dy\\\": {\\\"value\\\": 0, \\\"offset\\\": 0}, \\\"angle\\\": {\\\"value\\\": 0}, \\\"font\\\": {\\\"value\\\": \\\"AvenirNext-Medium\\\"}, \\\"fontSize\\\": {\\\"value\\\": 10}, \\\"fontWeight\\\": {\\\"value\\\": \\\"normal\\\"}, \\\"fontStyle\\\": {\\\"value\\\": \\\"normal\\\"}, \\\"fill\\\": {\\\"value\\\": \\\"#6A6A6A\\\"}}, \\\"update\\\": {\\\"x\\\": {\\\"signal\\\": \\\"datum[\\\\\\\"c_x_axis_back\\\\\\\"]+667\\\"}, \\\"y\\\": {\\\"field\\\": \\\"c_mean_val\\\"}}}, \\\"type\\\": \\\"text\\\"}, {\\\"from\\\": {\\\"data\\\": \\\"data_2\\\"}, \\\"encode\\\": {\\\"enter\\\": {\\\"x\\\": {\\\"value\\\": 700}, \\\"y\\\": {\\\"value\\\": 218}, \\\"text\\\": {\\\"signal\\\": \\\"(toString(datum[\\\\\\\"type\\\\\\\"]) == \\\\\\\"integer\\\\\\\" || toString(datum[\\\\\\\"type\\\\\\\"]) == \\\\\\\"float\\\\\\\")?toString(format(datum[\\\\\\\"min\\\\\\\"], \\\\\\\",\\\\\\\")):\\\\\\\"\\\\\\\"\\\"}, \\\"align\\\": {\\\"value\\\": \\\"right\\\"}, \\\"baseline\\\": {\\\"value\\\": \\\"middle\\\"}, \\\"dx\\\": {\\\"value\\\": 0, \\\"offset\\\": 0}, \\\"dy\\\": {\\\"value\\\": 0, \\\"offset\\\": 0}, \\\"angle\\\": {\\\"value\\\": 0}, \\\"font\\\": {\\\"value\\\": \\\"AvenirNext-Medium\\\"}, \\\"fontSize\\\": {\\\"value\\\": 10}, \\\"fontWeight\\\": {\\\"value\\\": \\\"normal\\\"}, \\\"fontStyle\\\": {\\\"value\\\": \\\"normal\\\"}, \\\"fill\\\": {\\\"value\\\": \\\"#6A6A6A\\\"}}, \\\"update\\\": {\\\"x\\\": {\\\"signal\\\": \\\"datum[\\\\\\\"c_x_axis_back\\\\\\\"]+667\\\"}, \\\"y\\\": {\\\"field\\\": \\\"c_min_val\\\"}}}, \\\"type\\\": \\\"text\\\"}, {\\\"from\\\": {\\\"data\\\": \\\"data_2\\\"}, \\\"encode\\\": {\\\"enter\\\": {\\\"x\\\": {\\\"value\\\": 700}, \\\"y\\\": {\\\"value\\\": 238}, \\\"text\\\": {\\\"signal\\\": \\\"(toString(datum[\\\\\\\"type\\\\\\\"]) == \\\\\\\"integer\\\\\\\" || toString(datum[\\\\\\\"type\\\\\\\"]) == \\\\\\\"float\\\\\\\")?toString(format(datum[\\\\\\\"max\\\\\\\"], \\\\\\\",\\\\\\\")):\\\\\\\"\\\\\\\"\\\"}, \\\"align\\\": {\\\"value\\\": \\\"right\\\"}, \\\"baseline\\\": {\\\"value\\\": \\\"middle\\\"}, \\\"dx\\\": {\\\"value\\\": 0, \\\"offset\\\": 0}, \\\"dy\\\": {\\\"value\\\": 0, \\\"offset\\\": 0}, \\\"angle\\\": {\\\"value\\\": 0}, \\\"font\\\": {\\\"value\\\": \\\"AvenirNext-Medium\\\"}, \\\"fontSize\\\": {\\\"value\\\": 10}, \\\"fontWeight\\\": {\\\"value\\\": \\\"normal\\\"}, \\\"fontStyle\\\": {\\\"value\\\": \\\"normal\\\"}, \\\"fill\\\": {\\\"value\\\": \\\"#6A6A6A\\\"}}, \\\"update\\\": {\\\"x\\\": {\\\"signal\\\": \\\"datum[\\\\\\\"c_x_axis_back\\\\\\\"]+667\\\"}, \\\"y\\\": {\\\"field\\\": \\\"c_max_val\\\"}}}, \\\"type\\\": \\\"text\\\"}, {\\\"from\\\": {\\\"data\\\": \\\"data_2\\\"}, \\\"encode\\\": {\\\"enter\\\": {\\\"x\\\": {\\\"value\\\": 700}, \\\"y\\\": {\\\"value\\\": 258}, \\\"text\\\": {\\\"signal\\\": \\\"(toString(datum[\\\\\\\"type\\\\\\\"]) == \\\\\\\"integer\\\\\\\" || toString(datum[\\\\\\\"type\\\\\\\"]) == \\\\\\\"float\\\\\\\")?toString(format(datum[\\\\\\\"median\\\\\\\"], \\\\\\\",\\\\\\\")):\\\\\\\"\\\\\\\"\\\"}, \\\"align\\\": {\\\"value\\\": \\\"right\\\"}, \\\"baseline\\\": {\\\"value\\\": \\\"middle\\\"}, \\\"dx\\\": {\\\"value\\\": 0, \\\"offset\\\": 0}, \\\"dy\\\": {\\\"value\\\": 0, \\\"offset\\\": 0}, \\\"angle\\\": {\\\"value\\\": 0}, \\\"font\\\": {\\\"value\\\": \\\"AvenirNext-Medium\\\"}, \\\"fontSize\\\": {\\\"value\\\": 10}, \\\"fontWeight\\\": {\\\"value\\\": \\\"normal\\\"}, \\\"fontStyle\\\": {\\\"value\\\": \\\"normal\\\"}, \\\"fill\\\": {\\\"value\\\": \\\"#6A6A6A\\\"}}, \\\"update\\\": {\\\"x\\\": {\\\"signal\\\": \\\"datum[\\\\\\\"c_x_axis_back\\\\\\\"]+667\\\"}, \\\"y\\\": {\\\"field\\\": \\\"c_median_val\\\"}}}, \\\"type\\\": \\\"text\\\"}, {\\\"from\\\": {\\\"data\\\": \\\"data_2\\\"}, \\\"encode\\\": {\\\"enter\\\": {\\\"x\\\": {\\\"value\\\": 700}, \\\"y\\\": {\\\"value\\\": 278}, \\\"text\\\": {\\\"signal\\\": \\\"(toString(datum[\\\\\\\"type\\\\\\\"]) == \\\\\\\"integer\\\\\\\" || toString(datum[\\\\\\\"type\\\\\\\"]) == \\\\\\\"float\\\\\\\")?toString(format(datum[\\\\\\\"stdev\\\\\\\"], \\\\\\\",\\\\\\\")):\\\\\\\"\\\\\\\"\\\"}, \\\"align\\\": {\\\"value\\\": \\\"right\\\"}, \\\"baseline\\\": {\\\"value\\\": \\\"middle\\\"}, \\\"dx\\\": {\\\"value\\\": 0, \\\"offset\\\": 0}, \\\"dy\\\": {\\\"value\\\": 0, \\\"offset\\\": 0}, \\\"angle\\\": {\\\"value\\\": 0}, \\\"font\\\": {\\\"value\\\": \\\"AvenirNext-Medium\\\"}, \\\"fontSize\\\": {\\\"value\\\": 10}, \\\"fontWeight\\\": {\\\"value\\\": \\\"normal\\\"}, \\\"fontStyle\\\": {\\\"value\\\": \\\"normal\\\"}, \\\"fill\\\": {\\\"value\\\": \\\"#6A6A6A\\\"}}, \\\"update\\\": {\\\"x\\\": {\\\"signal\\\": \\\"datum[\\\\\\\"c_x_axis_back\\\\\\\"]+667\\\"}, \\\"y\\\": {\\\"field\\\": \\\"c_stdev_val\\\"}}}, \\\"type\\\": \\\"text\\\"}, {\\\"from\\\": {\\\"facet\\\": {\\\"name\\\": \\\"new_data\\\", \\\"data\\\": \\\"data_2\\\", \\\"field\\\": \\\"numeric\\\"}}, \\\"encode\\\": {\\\"enter\\\": {\\\"x\\\": {\\\"value\\\": 120}, \\\"width\\\": {\\\"value\\\": 250}, \\\"y\\\": {\\\"field\\\": \\\"graph_offset\\\"}, \\\"height\\\": {\\\"value\\\": 150}, \\\"fill\\\": {\\\"value\\\": \\\"#ffffff\\\"}, \\\"fillOpacity\\\": {\\\"value\\\": 0}, \\\"stroke\\\": {\\\"value\\\": \\\"#000000\\\"}, \\\"strokeWidth\\\": {\\\"value\\\": 0}}, \\\"update\\\": {\\\"x\\\": {\\\"signal\\\": \\\"datum[\\\\\\\"c_x_axis_back\\\\\\\"]+87\\\"}, \\\"clip\\\": {\\\"field\\\": \\\"c_clip_val\\\"}, \\\"width\\\": {\\\"field\\\": \\\"c_width_numeric_val\\\"}}}, \\\"type\\\": \\\"group\\\", \\\"scales\\\": [{\\\"name\\\": \\\"x\\\", \\\"type\\\": \\\"linear\\\", \\\"domain\\\": {\\\"data\\\": \\\"new_data\\\", \\\"fields\\\": [\\\"left\\\", \\\"right\\\"], \\\"sort\\\": true}, \\\"range\\\": [0, {\\\"signal\\\": \\\"width\\\"}], \\\"nice\\\": true, \\\"zero\\\": true}, {\\\"name\\\": \\\"y\\\", \\\"type\\\": \\\"linear\\\", \\\"domain\\\": {\\\"data\\\": \\\"new_data\\\", \\\"field\\\": \\\"count\\\"}, \\\"range\\\": [{\\\"signal\\\": \\\"height\\\"}, 0], \\\"nice\\\": true, \\\"zero\\\": true}], \\\"axes\\\": [{\\\"title\\\": \\\"Values\\\", \\\"scale\\\": \\\"x\\\", \\\"labelOverlap\\\": true, \\\"orient\\\": \\\"bottom\\\", \\\"tickCount\\\": {\\\"signal\\\": \\\"ceil(width/40)\\\"}, \\\"zindex\\\": 1}, {\\\"scale\\\": \\\"x\\\", \\\"domain\\\": false, \\\"grid\\\": true, \\\"labels\\\": false, \\\"maxExtent\\\": 0, \\\"minExtent\\\": 0, \\\"orient\\\": \\\"bottom\\\", \\\"tickCount\\\": {\\\"signal\\\": \\\"ceil(width/40)\\\"}, \\\"ticks\\\": false, \\\"zindex\\\": 0, \\\"gridScale\\\": \\\"y\\\"}, {\\\"title\\\": \\\"Count\\\", \\\"scale\\\": \\\"y\\\", \\\"labelOverlap\\\": true, \\\"orient\\\": \\\"left\\\", \\\"tickCount\\\": {\\\"signal\\\": \\\"ceil(height/40)\\\"}, \\\"zindex\\\": 1}, {\\\"scale\\\": \\\"y\\\", \\\"domain\\\": false, \\\"grid\\\": true, \\\"labels\\\": false, \\\"maxExtent\\\": 0, \\\"minExtent\\\": 0, \\\"orient\\\": \\\"left\\\", \\\"tickCount\\\": {\\\"signal\\\": \\\"ceil(height/40)\\\"}, \\\"ticks\\\": false, \\\"zindex\\\": 0, \\\"gridScale\\\": \\\"x\\\"}], \\\"style\\\": \\\"cell\\\", \\\"signals\\\": [{\\\"name\\\": \\\"width\\\", \\\"update\\\": \\\"250\\\"}, {\\\"name\\\": \\\"height\\\", \\\"update\\\": \\\"150\\\"}], \\\"marks\\\": [{\\\"name\\\": \\\"marks\\\", \\\"type\\\": \\\"rect\\\", \\\"style\\\": [\\\"rect\\\"], \\\"from\\\": {\\\"data\\\": \\\"new_data\\\"}, \\\"encode\\\": {\\\"hover\\\": {\\\"fill\\\": {\\\"value\\\": \\\"#7EC2F3\\\"}}, \\\"update\\\": {\\\"x\\\": {\\\"scale\\\": \\\"x\\\", \\\"field\\\": \\\"left\\\"}, \\\"x2\\\": {\\\"scale\\\": \\\"x\\\", \\\"field\\\": \\\"right\\\"}, \\\"y\\\": {\\\"scale\\\": \\\"y\\\", \\\"field\\\": \\\"count\\\"}, \\\"y2\\\": {\\\"scale\\\": \\\"y\\\", \\\"value\\\": 0}, \\\"fill\\\": {\\\"value\\\": \\\"#108EE9\\\"}}}}]}, {\\\"from\\\": {\\\"facet\\\": {\\\"name\\\": \\\"data_5\\\", \\\"data\\\": \\\"data_2\\\", \\\"field\\\": \\\"categorical\\\"}}, \\\"encode\\\": {\\\"enter\\\": {\\\"x\\\": {\\\"value\\\": 170}, \\\"width\\\": {\\\"value\\\": 250}, \\\"y\\\": {\\\"field\\\": \\\"graph_offset_categorical\\\"}, \\\"height\\\": {\\\"value\\\": 150}, \\\"fill\\\": {\\\"value\\\": \\\"#ffffff\\\"}, \\\"fillOpacity\\\": {\\\"value\\\": 0}, \\\"stroke\\\": {\\\"value\\\": \\\"#000000\\\"}, \\\"strokeWidth\\\": {\\\"value\\\": 0}}, \\\"update\\\": {\\\"x\\\": {\\\"signal\\\": \\\"datum[\\\\\\\"c_x_axis_back\\\\\\\"]+137\\\"}, \\\"clip\\\": {\\\"field\\\": \\\"c_clip_val_cat\\\"}, \\\"width\\\": {\\\"field\\\": \\\"c_width_numeric_val_cat\\\"}}}, \\\"type\\\": \\\"group\\\", \\\"style\\\": \\\"cell\\\", \\\"signals\\\": [{\\\"name\\\": \\\"unit\\\", \\\"value\\\": {}, \\\"on\\\": [{\\\"events\\\": \\\"mousemove\\\", \\\"update\\\": \\\"isTuple(group()) ? group() : unit\\\"}]}, {\\\"name\\\": \\\"pts\\\", \\\"update\\\": \\\"data(\\\\\\\"pts_store\\\\\\\").length &amp;&amp; {count: data(\\\\\\\"pts_store\\\\\\\")[0].values[0]}\\\"}, {\\\"name\\\": \\\"pts_tuple\\\", \\\"value\\\": {}, \\\"on\\\": [{\\\"events\\\": [{\\\"source\\\": \\\"scope\\\", \\\"type\\\": \\\"click\\\"}], \\\"update\\\": \\\"datum &amp;&amp; item().mark.marktype !== &apos;group&apos; ? {unit: \\\\\\\"\\\\\\\", encodings: [\\\\\\\"x\\\\\\\"], fields: [\\\\\\\"count\\\\\\\"], values: [datum[\\\\\\\"count\\\\\\\"]]} : null\\\", \\\"force\\\": true}]}, {\\\"name\\\": \\\"pts_modify\\\", \\\"on\\\": [{\\\"events\\\": {\\\"signal\\\": \\\"pts_tuple\\\"}, \\\"update\\\": \\\"modify(\\\\\\\"pts_store\\\\\\\", pts_tuple, true)\\\"}]}], \\\"marks\\\": [{\\\"name\\\": \\\"marks\\\", \\\"type\\\": \\\"rect\\\", \\\"style\\\": [\\\"bar\\\"], \\\"from\\\": {\\\"data\\\": \\\"data_5\\\"}, \\\"encode\\\": {\\\"hover\\\": {\\\"fill\\\": {\\\"value\\\": \\\"#7EC2F3\\\"}}, \\\"update\\\": {\\\"x\\\": {\\\"scale\\\": \\\"x\\\", \\\"field\\\": \\\"count\\\"}, \\\"x2\\\": {\\\"scale\\\": \\\"x\\\", \\\"value\\\": 0}, \\\"y\\\": {\\\"scale\\\": \\\"y\\\", \\\"field\\\": \\\"label\\\"}, \\\"height\\\": {\\\"scale\\\": \\\"y\\\", \\\"band\\\": true}, \\\"fill\\\": {\\\"value\\\": \\\"#108EE9\\\"}}}}], \\\"scales\\\": [{\\\"name\\\": \\\"x\\\", \\\"type\\\": \\\"linear\\\", \\\"domain\\\": {\\\"data\\\": \\\"data_5\\\", \\\"field\\\": \\\"count\\\"}, \\\"range\\\": [0, 250], \\\"nice\\\": true, \\\"zero\\\": true}, {\\\"name\\\": \\\"y\\\", \\\"type\\\": \\\"band\\\", \\\"domain\\\": {\\\"data\\\": \\\"data_5\\\", \\\"field\\\": \\\"label\\\", \\\"sort\\\": {\\\"op\\\": \\\"mean\\\", \\\"field\\\": \\\"label_idx\\\", \\\"order\\\": \\\"descending\\\"}}, \\\"range\\\": [150, 0], \\\"paddingInner\\\": 0.1, \\\"paddingOuter\\\": 0.05}], \\\"axes\\\": [{\\\"orient\\\": \\\"top\\\", \\\"scale\\\": \\\"x\\\", \\\"labelOverlap\\\": true, \\\"tickCount\\\": {\\\"signal\\\": \\\"ceil(width/40)\\\"}, \\\"title\\\": \\\"Count\\\", \\\"zindex\\\": 1}, {\\\"orient\\\": \\\"top\\\", \\\"scale\\\": \\\"x\\\", \\\"domain\\\": false, \\\"grid\\\": true, \\\"labels\\\": false, \\\"maxExtent\\\": 0, \\\"minExtent\\\": 0, \\\"tickCount\\\": {\\\"signal\\\": \\\"ceil(width/40)\\\"}, \\\"ticks\\\": false, \\\"zindex\\\": 0, \\\"gridScale\\\": \\\"y\\\"}, {\\\"scale\\\": \\\"y\\\", \\\"labelOverlap\\\": true, \\\"orient\\\": \\\"left\\\", \\\"title\\\": \\\"Label\\\", \\\"zindex\\\": 1}]}], \\\"type\\\": \\\"group\\\"}], \\\"type\\\": \\\"group\\\"}], \\\"config\\\": {\\\"axis\\\": {\\\"labelFont\\\": \\\"HelveticaNeue-Light, Arial\\\", \\\"labelFontSize\\\": 7, \\\"labelPadding\\\": 10, \\\"labelColor\\\": \\\"#595959\\\", \\\"titleFont\\\": \\\"HelveticaNeue-Light, Arial\\\", \\\"titleFontWeight\\\": \\\"normal\\\", \\\"titlePadding\\\": 9, \\\"titleFontSize\\\": 12, \\\"titleColor\\\": \\\"#595959\\\"}, \\\"axisY\\\": {\\\"minExtent\\\": 30}, \\\"style\\\": {\\\"rect\\\": {\\\"stroke\\\": \\\"rgba(200, 200, 200, 0.5)\\\"}, \\\"group-title\\\": {\\\"fontSize\\\": 20, \\\"font\\\": \\\"HelveticaNeue-Light, Arial\\\", \\\"fontWeight\\\": \\\"normal\\\", \\\"fill\\\": \\\"#595959\\\"}}}}\";                                 var vega_json_parsed = JSON.parse(vega_json);                                 var toolTipOpts = {                                     showAllFields: true                                 };                                 if(vega_json_parsed[\"metadata\"] != null){                                     if(vega_json_parsed[\"metadata\"][\"bubbleOpts\"] != null){                                         toolTipOpts = vega_json_parsed[\"metadata\"][\"bubbleOpts\"];                                     };                                 };                                 vegaEmbed(\"#vis\", vega_json_parsed).then(function (result) {                                     vegaTooltip.vega(result.view, toolTipOpts);                                  });                             </script>                         </body>                     </html>' src=\"demo_iframe_srcdoc.htm\">                         <p>Your browser does not support iframes.</p>                     </iframe>                 </body>             </html>"
      ],
      "text/plain": [
       "<IPython.core.display.HTML object>"
      ]
     },
     "metadata": {},
     "output_type": "display_data"
    }
   ],
   "source": [
    "sales.show()"
   ]
  },
  {
   "cell_type": "code",
   "execution_count": 6,
   "metadata": {
    "scrolled": true
   },
   "outputs": [
    {
     "data": {
      "text/html": [
       "<pre>Materializing X axis SArray</pre>"
      ],
      "text/plain": [
       "Materializing X axis SArray"
      ]
     },
     "metadata": {},
     "output_type": "display_data"
    },
    {
     "data": {
      "text/html": [
       "<pre>Materializing Y axis SArray</pre>"
      ],
      "text/plain": [
       "Materializing Y axis SArray"
      ]
     },
     "metadata": {},
     "output_type": "display_data"
    },
    {
     "data": {
      "text/html": [
       "<html>                 <body>                     <iframe style=\"border:0;margin:0\" width=\"920\" height=\"770\" srcdoc='<html lang=\"en\">                         <head>                             <script src=\"https://cdnjs.cloudflare.com/ajax/libs/vega/5.4.0/vega.js\"></script>                             <script src=\"https://cdnjs.cloudflare.com/ajax/libs/vega-embed/4.0.0/vega-embed.js\"></script>                             <script src=\"https://cdnjs.cloudflare.com/ajax/libs/vega-tooltip/0.5.1/vega-tooltip.min.js\"></script>                             <link rel=\"stylesheet\" type=\"text/css\" href=\"https://cdnjs.cloudflare.com/ajax/libs/vega-tooltip/0.5.1/vega-tooltip.min.css\">                             <style>                             .vega-actions > a{                                 color:white;                                 text-decoration: none;                                 font-family: \"Arial\";                                 cursor:pointer;                                 padding:5px;                                 background:#AAAAAA;                                 border-radius:4px;                                 padding-left:10px;                                 padding-right:10px;                                 margin-right:5px;                             }                             .vega-actions{                                 margin-top:20px;                                 text-align:center                             }                            .vega-actions > a{                                 background:#999999;                            }                             </style>                         </head>                         <body>                             <div id=\"vis\">                             </div>                             <script>                                 var vega_json = \"{\\\"$schema\\\": \\\"https://vega.github.io/schema/vega/v4.json\\\", \\\"autosize\\\": {\\\"type\\\": \\\"fit\\\", \\\"resize\\\": false, \\\"contains\\\": \\\"padding\\\"}, \\\"padding\\\": 8, \\\"width\\\": 720, \\\"height\\\": 550, \\\"style\\\": \\\"cell\\\", \\\"title\\\": \\\"X vs. Y\\\", \\\"data\\\": [{\\\"name\\\": \\\"source_2\\\", \\\"values\\\": [{\\\"x\\\": 2570.0, \\\"y\\\": 538000.0}, {\\\"x\\\": 770.0, \\\"y\\\": 180000.0}, {\\\"x\\\": 1960.0, \\\"y\\\": 604000.0}, {\\\"x\\\": 1680.0, \\\"y\\\": 510000.0}, {\\\"x\\\": 5420.0, \\\"y\\\": 1225000.0}, {\\\"x\\\": 1715.0, \\\"y\\\": 257500.0}, {\\\"x\\\": 1060.0, \\\"y\\\": 291850.0}, {\\\"x\\\": 1780.0, \\\"y\\\": 229500.0}, {\\\"x\\\": 1890.0, \\\"y\\\": 323000.0}, {\\\"x\\\": 3560.0, \\\"y\\\": 662500.0}, {\\\"x\\\": 1160.0, \\\"y\\\": 468000.0}, {\\\"x\\\": 1430.0, \\\"y\\\": 310000.0}, {\\\"x\\\": 1370.0, \\\"y\\\": 400000.0}, {\\\"x\\\": 1810.0, \\\"y\\\": 530000.0}, {\\\"x\\\": 2950.0, \\\"y\\\": 650000.0}, {\\\"x\\\": 1890.0, \\\"y\\\": 395000.0}, {\\\"x\\\": 1600.0, \\\"y\\\": 485000.0}, {\\\"x\\\": 1200.0, \\\"y\\\": 189000.0}, {\\\"x\\\": 1250.0, \\\"y\\\": 230000.0}, {\\\"x\\\": 1620.0, \\\"y\\\": 385000.0}, {\\\"x\\\": 3050.0, \\\"y\\\": 2000000.0}, {\\\"x\\\": 2270.0, \\\"y\\\": 285000.0}, {\\\"x\\\": 1070.0, \\\"y\\\": 252700.0}, {\\\"x\\\": 2450.0, \\\"y\\\": 329000.0}, {\\\"x\\\": 1710.0, \\\"y\\\": 233000.0}, {\\\"x\\\": 2450.0, \\\"y\\\": 937000.0}, {\\\"x\\\": 1400.0, \\\"y\\\": 667000.0}, {\\\"x\\\": 1520.0, \\\"y\\\": 438000.0}, {\\\"x\\\": 2570.0, \\\"y\\\": 719000.0}, {\\\"x\\\": 2320.0, \\\"y\\\": 580500.0}, {\\\"x\\\": 1190.0, \\\"y\\\": 280000.0}, {\\\"x\\\": 2330.0, \\\"y\\\": 687500.0}, {\\\"x\\\": 1090.0, \\\"y\\\": 535000.0}, {\\\"x\\\": 2060.0, \\\"y\\\": 322500.0}, {\\\"x\\\": 2300.0, \\\"y\\\": 696000.0}, {\\\"x\\\": 1660.0, \\\"y\\\": 550000.0}, {\\\"x\\\": 2360.0, \\\"y\\\": 640000.0}, {\\\"x\\\": 1220.0, \\\"y\\\": 240000.0}, {\\\"x\\\": 2620.0, \\\"y\\\": 605000.0}, {\\\"x\\\": 2570.0, \\\"y\\\": 625000.0}, {\\\"x\\\": 4220.0, \\\"y\\\": 775000.0}, {\\\"x\\\": 3595.0, \\\"y\\\": 861990.0}, {\\\"x\\\": 1570.0, \\\"y\\\": 685000.0}, {\\\"x\\\": 1280.0, \\\"y\\\": 309000.0}, {\\\"x\\\": 3160.0, \\\"y\\\": 488000.0}, {\\\"x\\\": 990.0, \\\"y\\\": 210490.0}, {\\\"x\\\": 2290.0, \\\"y\\\": 785000.0}, {\\\"x\\\": 1250.0, \\\"y\\\": 450000.0}, {\\\"x\\\": 2753.0, \\\"y\\\": 1350000.0}, {\\\"x\\\": 1190.0, \\\"y\\\": 228000.0}, {\\\"x\\\": 3150.0, \\\"y\\\": 345000.0}, {\\\"x\\\": 1410.0, \\\"y\\\": 600000.0}, {\\\"x\\\": 1980.0, \\\"y\\\": 585000.0}, {\\\"x\\\": 2730.0, \\\"y\\\": 920000.0}, {\\\"x\\\": 2830.0, \\\"y\\\": 885000.0}, {\\\"x\\\": 2250.0, \\\"y\\\": 292500.0}, {\\\"x\\\": 2420.0, \\\"y\\\": 301000.0}, {\\\"x\\\": 3250.0, \\\"y\\\": 951000.0}, {\\\"x\\\": 1850.0, \\\"y\\\": 430000.0}, {\\\"x\\\": 2150.0, \\\"y\\\": 650000.0}, {\\\"x\\\": 1260.0, \\\"y\\\": 289000.0}, {\\\"x\\\": 2519.0, \\\"y\\\": 505000.0}, {\\\"x\\\": 1540.0, \\\"y\\\": 549000.0}, {\\\"x\\\": 1660.0, \\\"y\\\": 425000.0}, {\\\"x\\\": 2770.0, \\\"y\\\": 317625.0}, {\\\"x\\\": 2720.0, \\\"y\\\": 975000.0}, {\\\"x\\\": 2240.0, \\\"y\\\": 287000.0}, {\\\"x\\\": 1000.0, \\\"y\\\": 204000.0}, {\\\"x\\\": 3200.0, \\\"y\\\": 1325000.0}, {\\\"x\\\": 4770.0, \\\"y\\\": 1040000.0}, {\\\"x\\\": 1260.0, \\\"y\\\": 325000.0}, {\\\"x\\\": 2750.0, \\\"y\\\": 571000.0}, {\\\"x\\\": 2380.0, \\\"y\\\": 360000.0}, {\\\"x\\\": 1790.0, \\\"y\\\": 349000.0}, {\\\"x\\\": 3430.0, \\\"y\\\": 832500.0}, {\\\"x\\\": 1760.0, \\\"y\\\": 380000.0}, {\\\"x\\\": 1040.0, \\\"y\\\": 480000.0}, {\\\"x\\\": 1410.0, \\\"y\\\": 410000.0}, {\\\"x\\\": 3450.0, \\\"y\\\": 720000.0}, {\\\"x\\\": 2350.0, \\\"y\\\": 390000.0}, {\\\"x\\\": 1900.0, \\\"y\\\": 360000.0}, {\\\"x\\\": 2020.0, \\\"y\\\": 355000.0}, {\\\"x\\\": 1680.0, \\\"y\\\": 356000.0}, {\\\"x\\\": 960.0, \\\"y\\\": 315000.0}, {\\\"x\\\": 2140.0, \\\"y\\\": 940000.0}, {\\\"x\\\": 2660.0, \\\"y\\\": 305000.0}, {\\\"x\\\": 2770.0, \\\"y\\\": 461000.0}, {\\\"x\\\": 1610.0, \\\"y\\\": 215000.0}, {\\\"x\\\": 1030.0, \\\"y\\\": 335000.0}, {\\\"x\\\": 1980.0, \\\"y\\\": 243500.0}, {\\\"x\\\": 3520.0, \\\"y\\\": 1099880.0}, {\\\"x\\\": 1200.0, \\\"y\\\": 153000.0}, {\\\"x\\\": 1580.0, \\\"y\\\": 430000.0}, {\\\"x\\\": 1580.0, \\\"y\\\": 700000.0}, {\\\"x\\\": 3300.0, \\\"y\\\": 905000.0}, {\\\"x\\\": 1960.0, \\\"y\\\": 247500.0}, {\\\"x\\\": 1160.0, \\\"y\\\": 199000.0}, {\\\"x\\\": 1810.0, \\\"y\\\": 314000.0}, {\\\"x\\\": 2320.0, \\\"y\\\": 437500.0}, {\\\"x\\\": 2070.0, \\\"y\\\": 850830.0}, {\\\"x\\\": 1980.0, \\\"y\\\": 555000.0}, {\\\"x\\\": 2190.0, \\\"y\\\": 699950.0}, {\\\"x\\\": 2920.0, \\\"y\\\": 1088000.0}, {\\\"x\\\": 1210.0, \\\"y\\\": 290000.0}, {\\\"x\\\": 2340.0, \\\"y\\\": 375000.0}, {\\\"x\\\": 1670.0, \\\"y\\\": 460000.0}, {\\\"x\\\": 1240.0, \\\"y\\\": 188500.0}, {\\\"x\\\": 3140.0, \\\"y\\\": 680000.0}, {\\\"x\\\": 2030.0, \\\"y\\\": 470000.0}, {\\\"x\\\": 2310.0, \\\"y\\\": 597750.0}, {\\\"x\\\": 1260.0, \\\"y\\\": 570000.0}, {\\\"x\\\": 1540.0, \\\"y\\\": 272500.0}, {\\\"x\\\": 2080.0, \\\"y\\\": 329950.0}, {\\\"x\\\": 3230.0, \\\"y\\\": 480000.0}, {\\\"x\\\": 4380.0, \\\"y\\\": 740500.0}, {\\\"x\\\": 1590.0, \\\"y\\\": 518500.0}, {\\\"x\\\": 880.0, \\\"y\\\": 205425.0}, {\\\"x\\\": 1570.0, \\\"y\\\": 171800.0}, {\\\"x\\\": 1610.0, \\\"y\\\": 535000.0}, {\\\"x\\\": 2400.0, \\\"y\\\": 660000.0}, {\\\"x\\\": 1450.0, \\\"y\\\": 391500.0}, {\\\"x\\\": 770.0, \\\"y\\\": 395000.0}, {\\\"x\\\": 2100.0, \\\"y\\\": 445000.0}, {\\\"x\\\": 2910.0, \\\"y\\\": 770000.0}, {\\\"x\\\": 2750.0, \\\"y\\\": 1450000.0}, {\\\"x\\\": 2100.0, \\\"y\\\": 445000.0}, {\\\"x\\\": 2160.0, \\\"y\\\": 260000.0}, {\\\"x\\\": 2320.0, \\\"y\\\": 822500.0}, {\\\"x\\\": 2070.0, \\\"y\\\": 430000.0}, {\\\"x\\\": 1060.0, \\\"y\\\": 212000.0}, {\\\"x\\\": 2010.0, \\\"y\\\": 660500.0}, {\\\"x\\\": 3950.0, \\\"y\\\": 784000.0}, {\\\"x\\\": 2010.0, \\\"y\\\": 453246.0}, {\\\"x\\\": 2140.0, \\\"y\\\": 675000.0}, {\\\"x\\\": 1320.0, \\\"y\\\": 199000.0}, {\\\"x\\\": 2020.0, \\\"y\\\": 220000.0}, {\\\"x\\\": 2590.0, \\\"y\\\": 452000.0}, {\\\"x\\\": 1190.0, \\\"y\\\": 382500.0}, {\\\"x\\\": 1170.0, \\\"y\\\": 519950.0}, {\\\"x\\\": 1110.0, \\\"y\\\": 665000.0}, {\\\"x\\\": 2820.0, \\\"y\\\": 527700.0}, {\\\"x\\\": 1610.0, \\\"y\\\": 205000.0}, {\\\"x\\\": 1060.0, \\\"y\\\": 420000.0}, {\\\"x\\\": 2030.0, \\\"y\\\": 500000.0}, {\\\"x\\\": 3670.0, \\\"y\\\": 921500.0}, {\\\"x\\\": 2550.0, \\\"y\\\": 890000.0}, {\\\"x\\\": 2420.0, \\\"y\\\": 430000.0}, {\\\"x\\\": 2260.0, \\\"y\\\": 258000.0}, {\\\"x\\\": 1430.0, \\\"y\\\": 511000.0}, {\\\"x\\\": 1360.0, \\\"y\\\": 532170.0}, {\\\"x\\\": 1110.0, \\\"y\\\": 560000.0}, {\\\"x\\\": 1250.0, \\\"y\\\": 282950.0}, {\\\"x\\\": 5180.0, \\\"y\\\": 2250000.0}, {\\\"x\\\": 700.0, \\\"y\\\": 350000.0}, {\\\"x\\\": 1180.0, \\\"y\\\": 215000.0}, {\\\"x\\\": 3960.0, \\\"y\\\": 650000.0}, {\\\"x\\\": 2640.0, \\\"y\\\": 320000.0}, {\\\"x\\\": 1270.0, \\\"y\\\": 247000.0}, {\\\"x\\\": 1760.0, \\\"y\\\": 320000.0}, {\\\"x\\\": 2060.0, \\\"y\\\": 255000.0}, {\\\"x\\\": 1780.0, \\\"y\\\": 438000.0}, {\\\"x\\\": 3400.0, \\\"y\\\": 900000.0}, {\\\"x\\\": 1910.0, \\\"y\\\": 441000.0}, {\\\"x\\\": 2020.0, \\\"y\\\": 420000.0}, {\\\"x\\\": 1580.0, \\\"y\\\": 370000.0}, {\\\"x\\\": 1340.0, \\\"y\\\": 269950.0}, {\\\"x\\\": 2680.0, \\\"y\\\": 807100.0}, {\\\"x\\\": 2680.0, \\\"y\\\": 653000.0}, {\\\"x\\\": 1370.0, \\\"y\\\": 371500.0}, {\\\"x\\\": 1560.0, \\\"y\\\": 284000.0}, {\\\"x\\\": 2160.0, \\\"y\\\": 272000.0}, {\\\"x\\\": 1340.0, \\\"y\\\": 313000.0}, {\\\"x\\\": 3880.0, \\\"y\\\": 917500.0}, {\\\"x\\\": 2590.0, \\\"y\\\": 673000.0}, {\\\"x\\\": 1120.0, \\\"y\\\": 425000.0}, {\\\"x\\\": 1970.0, \\\"y\\\": 399950.0}, {\\\"x\\\": 1220.0, \\\"y\\\": 385000.0}, {\\\"x\\\": 1950.0, \\\"y\\\": 269950.0}, {\\\"x\\\": 1350.0, \\\"y\\\": 330000.0}, {\\\"x\\\": 1670.0, \\\"y\\\": 260000.0}, {\\\"x\\\": 2380.0, \\\"y\\\": 470000.0}, {\\\"x\\\": 2440.0, \\\"y\\\": 589000.0}, {\\\"x\\\": 1050.0, \\\"y\\\": 163500.0}, {\\\"x\\\": 3130.0, \\\"y\\\": 835000.0}, {\\\"x\\\": 4090.0, \\\"y\\\": 1095000.0}, {\\\"x\\\": 1490.0, \\\"y\\\": 269000.0}, {\\\"x\\\": 1900.0, \\\"y\\\": 560000.0}, {\\\"x\\\": 1330.0, \\\"y\\\": 615000.0}, {\\\"x\\\": 2230.0, \\\"y\\\": 585188.0}, {\\\"x\\\": 1650.0, \\\"y\\\": 305000.0}, {\\\"x\\\": 1190.0, \\\"y\\\": 166950.0}, {\\\"x\\\": 2140.0, \\\"y\\\": 799000.0}, {\\\"x\\\": 2180.0, \\\"y\\\": 400000.0}, {\\\"x\\\": 1060.0, \\\"y\\\": 230000.0}, {\\\"x\\\": 1690.0, \\\"y\\\": 256883.0}, {\\\"x\\\": 1970.0, \\\"y\\\": 423000.0}, {\\\"x\\\": 2150.0, \\\"y\\\": 465000.0}, {\\\"x\\\": 1910.0, \\\"y\\\": 440000.0}, {\\\"x\\\": 1350.0, \\\"y\\\": 385000.0}, {\\\"x\\\": 860.0, \\\"y\\\": 210000.0}, {\\\"x\\\": 1940.0, \\\"y\\\": 297000.0}, {\\\"x\\\": 1010.0, \\\"y\\\": 470000.0}, {\\\"x\\\": 1300.0, \\\"y\\\": 226500.0}, {\\\"x\\\": 910.0, \\\"y\\\": 274250.0}, {\\\"x\\\": 2480.0, \\\"y\\\": 840000.0}, {\\\"x\\\": 2440.0, \\\"y\\\": 677900.0}, {\\\"x\\\": 1010.0, \\\"y\\\": 425000.0}, {\\\"x\\\": 900.0, \\\"y\\\": 180250.0}, {\\\"x\\\": 2300.0, \\\"y\\\": 464000.0}, {\\\"x\\\": 1550.0, \\\"y\\\": 320000.0}, {\\\"x\\\": 1270.0, \\\"y\\\": 625504.0}, {\\\"x\\\": 2240.0, \\\"y\\\": 592500.0}, {\\\"x\\\": 2714.0, \\\"y\\\": 465000.0}, {\\\"x\\\": 1720.0, \\\"y\\\": 477000.0}, {\\\"x\\\": 850.0, \\\"y\\\": 280000.0}, {\\\"x\\\": 3300.0, \\\"y\\\": 1505000.0}, {\\\"x\\\": 2250.0, \\\"y\\\": 445838.0}, {\\\"x\\\": 3900.0, \\\"y\\\": 1072000.0}, {\\\"x\\\": 1320.0, \\\"y\\\": 467000.0}, {\\\"x\\\": 2760.0, \\\"y\\\": 686000.0}, {\\\"x\\\": 1750.0, \\\"y\\\": 279950.0}, {\\\"x\\\": 2330.0, \\\"y\\\": 527000.0}, {\\\"x\\\": 2220.0, \\\"y\\\": 325000.0}, {\\\"x\\\": 2020.0, \\\"y\\\": 328000.0}, {\\\"x\\\": 1250.0, \\\"y\\\": 390000.0}, {\\\"x\\\": 1510.0, \\\"y\\\": 479950.0}, {\\\"x\\\": 1720.0, \\\"y\\\": 264950.0}, {\\\"x\\\": 1430.0, \\\"y\\\": 235000.0}, {\\\"x\\\": 1480.0, \\\"y\\\": 516500.0}, {\\\"x\\\": 1450.0, \\\"y\\\": 655000.0}, {\\\"x\\\": 2280.0, \\\"y\\\": 500000.0}, {\\\"x\\\": 2940.0, \\\"y\\\": 315000.0}, {\\\"x\\\": 1000.0, \\\"y\\\": 213000.0}, {\\\"x\\\": 2480.0, \\\"y\\\": 475000.0}, {\\\"x\\\": 3760.0, \\\"y\\\": 1025000.0}, {\\\"x\\\": 2220.0, \\\"y\\\": 416000.0}, {\\\"x\\\": 1970.0, \\\"y\\\": 410000.0}, {\\\"x\\\": 3830.0, \\\"y\\\": 800000.0}, {\\\"x\\\": 4410.0, \\\"y\\\": 472000.0}, {\\\"x\\\": 1430.0, \\\"y\\\": 225000.0}, {\\\"x\\\": 830.0, \\\"y\\\": 210000.0}, {\\\"x\\\": 1430.0, \\\"y\\\": 455000.0}, {\\\"x\\\": 1300.0, \\\"y\\\": 225000.0}, {\\\"x\\\": 1030.0, \\\"y\\\": 480000.0}, {\\\"x\\\": 2740.0, \\\"y\\\": 363000.0}, {\\\"x\\\": 3650.0, \\\"y\\\": 2400000.0}, {\\\"x\\\": 720.0, \\\"y\\\": 181000.0}, {\\\"x\\\": 2010.0, \\\"y\\\": 250000.0}, {\\\"x\\\": 1560.0, \\\"y\\\": 481000.0}, {\\\"x\\\": 1810.0, \\\"y\\\": 260000.0}, {\\\"x\\\": 3360.0, \\\"y\\\": 455000.0}, {\\\"x\\\": 1510.0, \\\"y\\\": 415000.0}, {\\\"x\\\": 1400.0, \\\"y\\\": 349500.0}, {\\\"x\\\": 1730.0, \\\"y\\\": 245000.0}, {\\\"x\\\": 1420.0, \\\"y\\\": 592500.0}, {\\\"x\\\": 2360.0, \\\"y\\\": 385000.0}, {\\\"x\\\": 1580.0, \\\"y\\\": 315000.0}, {\\\"x\\\": 1230.0, \\\"y\\\": 255000.0}, {\\\"x\\\": 2460.0, \\\"y\\\": 693000.0}, {\\\"x\\\": 1660.0, \\\"y\\\": 780000.0}, {\\\"x\\\": 1270.0, \\\"y\\\": 237000.0}, {\\\"x\\\": 2100.0, \\\"y\\\": 525000.0}, {\\\"x\\\": 770.0, \\\"y\\\": 425000.0}, {\\\"x\\\": 760.0, \\\"y\\\": 369900.0}, {\\\"x\\\": 1700.0, \\\"y\\\": 290000.0}, {\\\"x\\\": 1120.0, \\\"y\\\": 285000.0}, {\\\"x\\\": 1070.0, \\\"y\\\": 415000.0}, {\\\"x\\\": 2070.0, \\\"y\\\": 272500.0}, {\\\"x\\\": 5050.0, \\\"y\\\": 2900000.0}, {\\\"x\\\": 5310.0, \\\"y\\\": 1365000.0}, {\\\"x\\\": 1040.0, \\\"y\\\": 436000.0}, {\\\"x\\\": 1700.0, \\\"y\\\": 210000.0}, {\\\"x\\\": 1300.0, \\\"y\\\": 236000.0}, {\\\"x\\\": 1080.0, \\\"y\\\": 331000.0}, {\\\"x\\\": 2653.0, \\\"y\\\": 365000.0}, {\\\"x\\\": 2290.0, \\\"y\\\": 450000.0}, {\\\"x\\\": 3820.0, \\\"y\\\": 770000.0}, {\\\"x\\\": 2210.0, \\\"y\\\": 455000.0}, {\\\"x\\\": 2390.0, \\\"y\\\": 405000.0}, {\\\"x\\\": 2600.0, \\\"y\\\": 304900.0}, {\\\"x\\\": 860.0, \\\"y\\\": 170000.0}, {\\\"x\\\": 3830.0, \\\"y\\\": 2050000.0}, {\\\"x\\\": 3500.0, \\\"y\\\": 780000.0}, {\\\"x\\\": 2420.0, \\\"y\\\": 330000.0}, {\\\"x\\\": 2720.0, \\\"y\\\": 370000.0}, {\\\"x\\\": 2500.0, \\\"y\\\": 467000.0}, {\\\"x\\\": 1670.0, \\\"y\\\": 405000.0}, {\\\"x\\\": 2900.0, \\\"y\\\": 675000.0}, {\\\"x\\\": 1640.0, \\\"y\\\": 500000.0}, {\\\"x\\\": 1890.0, \\\"y\\\": 389999.0}, {\\\"x\\\": 2950.0, \\\"y\\\": 630000.0}, {\\\"x\\\": 2160.0, \\\"y\\\": 360000.0}, {\\\"x\\\": 3280.0, \\\"y\\\": 580000.0}, {\\\"x\\\": 1970.0, \\\"y\\\": 550000.0}, {\\\"x\\\": 3360.0, \\\"y\\\": 879000.0}, {\\\"x\\\": 1320.0, \\\"y\\\": 265000.0}, {\\\"x\\\": 2650.0, \\\"y\\\": 446500.0}, {\\\"x\\\": 2030.0, \\\"y\\\": 404000.0}, {\\\"x\\\": 1590.0, \\\"y\\\": 267500.0}, {\\\"x\\\": 4550.0, \\\"y\\\": 3075000.0}, {\\\"x\\\": 2440.0, \\\"y\\\": 335000.0}, {\\\"x\\\": 1940.0, \\\"y\\\": 576000.0}, {\\\"x\\\": 2040.0, \\\"y\\\": 208633.0}, {\\\"x\\\": 2200.0, \\\"y\\\": 315000.0}, {\\\"x\\\": 1920.0, \\\"y\\\": 725000.0}, {\\\"x\\\": 1800.0, \\\"y\\\": 550000.0}, {\\\"x\\\": 2180.0, \\\"y\\\": 610750.0}, {\\\"x\\\": 1010.0, \\\"y\\\": 550700.0}, {\\\"x\\\": 3320.0, \\\"y\\\": 665000.0}, {\\\"x\\\": 2370.0, \\\"y\\\": 834000.0}, {\\\"x\\\": 1660.0, \\\"y\\\": 201000.0}, {\\\"x\\\": 3650.0, \\\"y\\\": 2384000.0}, {\\\"x\\\": 4290.0, \\\"y\\\": 1384000.0}, {\\\"x\\\": 4290.0, \\\"y\\\": 1400000.0}, {\\\"x\\\": 1950.0, \\\"y\\\": 305000.0}, {\\\"x\\\": 2590.0, \\\"y\\\": 487000.0}, {\\\"x\\\": 1930.0, \\\"y\\\": 390000.0}, {\\\"x\\\": 1470.0, \\\"y\\\": 548000.0}, {\\\"x\\\": 800.0, \\\"y\\\": 268750.0}, {\\\"x\\\": 3150.0, \\\"y\\\": 819900.0}, {\\\"x\\\": 2030.0, \\\"y\\\": 520000.0}, {\\\"x\\\": 1450.0, \\\"y\\\": 230000.0}, {\\\"x\\\": 1510.0, \\\"y\\\": 240000.0}, {\\\"x\\\": 1240.0, \\\"y\\\": 232000.0}, {\\\"x\\\": 1240.0, \\\"y\\\": 240500.0}, {\\\"x\\\": 3030.0, \\\"y\\\": 274975.0}, {\\\"x\\\": 2050.0, \\\"y\\\": 740000.0}, {\\\"x\\\": 1000.0, \\\"y\\\": 186375.0}, {\\\"x\\\": 2370.0, \\\"y\\\": 790000.0}, {\\\"x\\\": 2800.0, \\\"y\\\": 880000.0}, {\\\"x\\\": 2240.0, \\\"y\\\": 279000.0}, {\\\"x\\\": 1810.0, \\\"y\\\": 295000.0}, {\\\"x\\\": 1070.0, \\\"y\\\": 640000.0}, {\\\"x\\\": 2490.0, \\\"y\\\": 940000.0}, {\\\"x\\\": 1960.0, \\\"y\\\": 260000.0}, {\\\"x\\\": 2930.0, \\\"y\\\": 559900.0}, {\\\"x\\\": 1510.0, \\\"y\\\": 791500.0}, {\\\"x\\\": 1420.0, \\\"y\\\": 265000.0}, {\\\"x\\\": 1740.0, \\\"y\\\": 245000.0}, {\\\"x\\\": 2560.0, \\\"y\\\": 485000.0}, {\\\"x\\\": 3040.0, \\\"y\\\": 684000.0}, {\\\"x\\\": 2500.0, \\\"y\\\": 425000.0}, {\\\"x\\\": 1275.0, \\\"y\\\": 309600.0}, {\\\"x\\\": 2580.0, \\\"y\\\": 552250.0}, {\\\"x\\\": 1000.0, \\\"y\\\": 165000.0}, {\\\"x\\\": 1000.0, \\\"y\\\": 239900.0}, {\\\"x\\\": 1070.0, \\\"y\\\": 320000.0}, {\\\"x\\\": 1390.0, \\\"y\\\": 206600.0}, {\\\"x\\\": 2500.0, \\\"y\\\": 387000.0}, {\\\"x\\\": 560.0, \\\"y\\\": 299000.0}, {\\\"x\\\": 2270.0, \\\"y\\\": 855000.0}, {\\\"x\\\": 1900.0, \\\"y\\\": 315000.0}, {\\\"x\\\": 990.0, \\\"y\\\": 437500.0}, {\\\"x\\\": 1550.0, \\\"y\\\": 252000.0}, {\\\"x\\\": 2200.0, \\\"y\\\": 375000.0}, {\\\"x\\\": 1910.0, \\\"y\\\": 300000.0}, {\\\"x\\\": 1750.0, \\\"y\\\": 420000.0}, {\\\"x\\\": 1330.0, \\\"y\\\": 900000.0}, {\\\"x\\\": 2440.0, \\\"y\\\": 679900.0}, {\\\"x\\\": 1640.0, \\\"y\\\": 463000.0}, {\\\"x\\\": 2760.0, \\\"y\\\": 380000.0}, {\\\"x\\\": 1820.0, \\\"y\\\": 329500.0}, {\\\"x\\\": 2110.0, \\\"y\\\": 604950.0}, {\\\"x\\\": 3040.0, \\\"y\\\": 795000.0}, {\\\"x\\\": 1840.0, \\\"y\\\": 465000.0}, {\\\"x\\\": 2990.0, \\\"y\\\": 673000.0}, {\\\"x\\\": 3520.0, \\\"y\\\": 810000.0}, {\\\"x\\\": 2440.0, \\\"y\\\": 785000.0}, {\\\"x\\\": 2090.0, \\\"y\\\": 338000.0}, {\\\"x\\\": 1430.0, \\\"y\\\": 280000.0}, {\\\"x\\\": 2180.0, \\\"y\\\": 315000.0}, {\\\"x\\\": 2180.0, \\\"y\\\": 530000.0}, {\\\"x\\\": 3450.0, \\\"y\\\": 380000.0}, {\\\"x\\\": 1450.0, \\\"y\\\": 297000.0}, {\\\"x\\\": 3230.0, \\\"y\\\": 730000.0}, {\\\"x\\\": 1640.0, \\\"y\\\": 450000.0}, {\\\"x\\\": 1590.0, \\\"y\\\": 275000.0}, {\\\"x\\\": 2020.0, \\\"y\\\": 595000.0}, {\\\"x\\\": 1300.0, \\\"y\\\": 435000.0}, {\\\"x\\\": 1380.0, \\\"y\\\": 270000.0}, {\\\"x\\\": 4040.0, \\\"y\\\": 950000.0}, {\\\"x\\\": 2130.0, \\\"y\\\": 389000.0}, {\\\"x\\\": 2550.0, \\\"y\\\": 560000.0}, {\\\"x\\\": 4800.0, \\\"y\\\": 1350000.0}, {\\\"x\\\": 2510.0, \\\"y\\\": 799000.0}, {\\\"x\\\": 1410.0, \\\"y\\\": 365500.0}, {\\\"x\\\": 1650.0, \\\"y\\\": 252350.0}, {\\\"x\\\": 2120.0, \\\"y\\\": 403950.0}, {\\\"x\\\": 2040.0, \\\"y\\\": 385000.0}, {\\\"x\\\": 1550.0, \\\"y\\\": 345000.0}, {\\\"x\\\": 1980.0, \\\"y\\\": 490000.0}, {\\\"x\\\": 1600.0, \\\"y\\\": 330000.0}, {\\\"x\\\": 3300.0, \\\"y\\\": 927000.0}, {\\\"x\\\": 3840.0, \\\"y\\\": 1118000.0}, {\\\"x\\\": 1220.0, \\\"y\\\": 330000.0}, {\\\"x\\\": 2720.0, \\\"y\\\": 530000.0}, {\\\"x\\\": 1940.0, \\\"y\\\": 365000.0}, {\\\"x\\\": 2160.0, \\\"y\\\": 378750.0}, {\\\"x\\\": 1530.0, \\\"y\\\": 269900.0}, {\\\"x\\\": 1710.0, \\\"y\\\": 557000.0}, {\\\"x\\\": 3730.0, \\\"y\\\": 360000.0}, {\\\"x\\\": 940.0, \\\"y\\\": 352000.0}, {\\\"x\\\": 1750.0, \\\"y\\\": 437000.0}, {\\\"x\\\": 1820.0, \\\"y\\\": 322500.0}, {\\\"x\\\": 1510.0, \\\"y\\\": 650000.0}, {\\\"x\\\": 1290.0, \\\"y\\\": 450000.0}, {\\\"x\\\": 1570.0, \\\"y\\\": 278500.0}, {\\\"x\\\": 1930.0, \\\"y\\\": 364950.0}, {\\\"x\\\": 2840.0, \\\"y\\\": 840000.0}, {\\\"x\\\": 1550.0, \\\"y\\\": 268000.0}, {\\\"x\\\": 833.0, \\\"y\\\": 517534.0}, {\\\"x\\\": 2990.0, \\\"y\\\": 632925.0}, {\\\"x\\\": 2000.0, \\\"y\\\": 577500.0}, {\\\"x\\\": 2390.0, \\\"y\\\": 339000.0}, {\\\"x\\\": 2910.0, \\\"y\\\": 570000.0}, {\\\"x\\\": 2085.0, \\\"y\\\": 563500.0}, {\\\"x\\\": 2200.0, \\\"y\\\": 423000.0}, {\\\"x\\\": 1860.0, \\\"y\\\": 355000.0}, {\\\"x\\\": 6070.0, \\\"y\\\": 1550000.0}, {\\\"x\\\": 950.0, \\\"y\\\": 482000.0}, {\\\"x\\\": 1600.0, \\\"y\\\": 625000.0}, {\\\"x\\\": 2250.0, \\\"y\\\": 538000.0}, {\\\"x\\\": 2280.0, \\\"y\\\": 380000.0}, {\\\"x\\\": 940.0, \\\"y\\\": 375000.0}, {\\\"x\\\": 1530.0, \\\"y\\\": 245000.0}, {\\\"x\\\": 2190.0, \\\"y\\\": 310000.0}, {\\\"x\\\": 2350.0, \\\"y\\\": 1300000.0}, {\\\"x\\\": 1440.0, \\\"y\\\": 397000.0}, {\\\"x\\\": 2200.0, \\\"y\\\": 365000.0}, {\\\"x\\\": 2290.0, \\\"y\\\": 328500.0}, {\\\"x\\\": 4040.0, \\\"y\\\": 988000.0}, {\\\"x\\\": 2610.0, \\\"y\\\": 1000000.0}, {\\\"x\\\": 1490.0, \\\"y\\\": 237000.0}, {\\\"x\\\": 2450.0, \\\"y\\\": 525000.0}, {\\\"x\\\": 1710.0, \\\"y\\\": 749000.0}, {\\\"x\\\": 4870.0, \\\"y\\\": 722500.0}, {\\\"x\\\": 3130.0, \\\"y\\\": 843000.0}, {\\\"x\\\": 1270.0, \\\"y\\\": 438000.0}, {\\\"x\\\": 2120.0, \\\"y\\\": 578000.0}, {\\\"x\\\": 1670.0, \\\"y\\\": 227950.0}, {\\\"x\\\": 2070.0, \\\"y\\\": 196000.0}, {\\\"x\\\": 1420.0, \\\"y\\\": 641000.0}, {\\\"x\\\": 1250.0, \\\"y\\\": 350000.0}, {\\\"x\\\": 940.0, \\\"y\\\": 205000.0}, {\\\"x\\\": 1920.0, \\\"y\\\": 400000.0}, {\\\"x\\\": 3545.0, \\\"y\\\": 1030000.0}, {\\\"x\\\": 1260.0, \\\"y\\\": 505000.0}, {\\\"x\\\": 2340.0, \\\"y\\\": 475000.0}, {\\\"x\\\": 2590.0, \\\"y\\\": 520000.0}, {\\\"x\\\": 3970.0, \\\"y\\\": 1450000.0}, {\\\"x\\\": 1220.0, \\\"y\\\": 333500.0}, {\\\"x\\\": 1400.0, \\\"y\\\": 232000.0}, {\\\"x\\\": 2360.0, \\\"y\\\": 691100.0}, {\\\"x\\\": 1870.0, \\\"y\\\": 811000.0}, {\\\"x\\\": 2830.0, \\\"y\\\": 551000.0}, {\\\"x\\\": 2260.0, \\\"y\\\": 496500.0}, {\\\"x\\\": 1970.0, \\\"y\\\": 705000.0}, {\\\"x\\\": 3140.0, \\\"y\\\": 578000.0}, {\\\"x\\\": 1240.0, \\\"y\\\": 255000.0}, {\\\"x\\\": 3450.0, \\\"y\\\": 1050000.0}, {\\\"x\\\": 2570.0, \\\"y\\\": 348000.0}, {\\\"x\\\": 1510.0, \\\"y\\\": 230000.0}, {\\\"x\\\": 2390.0, \\\"y\\\": 359500.0}, {\\\"x\\\": 980.0, \\\"y\\\": 330000.0}, {\\\"x\\\": 430.0, \\\"y\\\": 80000.0}, {\\\"x\\\": 1480.0, \\\"y\\\": 465000.0}, {\\\"x\\\": 1850.0, \\\"y\\\": 325000.0}, {\\\"x\\\": 2270.0, \\\"y\\\": 340500.0}, {\\\"x\\\": 1810.0, \\\"y\\\": 342500.0}, {\\\"x\\\": 1610.0, \\\"y\\\": 290900.0}, {\\\"x\\\": 3840.0, \\\"y\\\": 868700.0}, {\\\"x\\\": 4110.0, \\\"y\\\": 1199000.0}, {\\\"x\\\": 4190.0, \\\"y\\\": 1150000.0}, {\\\"x\\\": 3390.0, \\\"y\\\": 859900.0}, {\\\"x\\\": 1890.0, \\\"y\\\": 520000.0}, {\\\"x\\\": 1610.0, \\\"y\\\": 460000.0}, {\\\"x\\\": 1050.0, \\\"y\\\": 438924.0}, {\\\"x\\\": 630.0, \\\"y\\\": 315000.0}, {\\\"x\\\": 2910.0, \\\"y\\\": 590000.0}, {\\\"x\\\": 1700.0, \\\"y\\\": 378500.0}, {\\\"x\\\": 1950.0, \\\"y\\\": 328500.0}, {\\\"x\\\": 2990.0, \\\"y\\\": 849950.0}, {\\\"x\\\": 1350.0, \\\"y\\\": 525000.0}, {\\\"x\\\": 4860.0, \\\"y\\\": 1385000.0}, {\\\"x\\\": 2160.0, \\\"y\\\": 295000.0}, {\\\"x\\\": 4860.0, \\\"y\\\": 1067000.0}, {\\\"x\\\": 890.0, \\\"y\\\": 207950.0}, {\\\"x\\\": 2810.0, \\\"y\\\": 699900.0}, {\\\"x\\\": 3400.0, \\\"y\\\": 1280000.0}, {\\\"x\\\": 1580.0, \\\"y\\\": 452000.0}, {\\\"x\\\": 1680.0, \\\"y\\\": 370000.0}, {\\\"x\\\": 1300.0, \\\"y\\\": 232000.0}, {\\\"x\\\": 2820.0, \\\"y\\\": 669950.0}, {\\\"x\\\": 1510.0, \\\"y\\\": 397500.0}, {\\\"x\\\": 1230.0, \\\"y\\\": 490000.0}, {\\\"x\\\": 2110.0, \\\"y\\\": 725000.0}, {\\\"x\\\": 3080.0, \\\"y\\\": 299000.0}, {\\\"x\\\": 1490.0, \\\"y\\\": 625000.0}, {\\\"x\\\": 2120.0, \\\"y\\\": 437500.0}, {\\\"x\\\": 3180.0, \\\"y\\\": 650000.0}, {\\\"x\\\": 1490.0, \\\"y\\\": 475000.0}, {\\\"x\\\": 1930.0, \\\"y\\\": 342000.0}, {\\\"x\\\": 2770.0, \\\"y\\\": 1197354.0}, {\\\"x\\\": 1670.0, \\\"y\\\": 280000.0}, {\\\"x\\\": 1330.0, \\\"y\\\": 240000.0}, {\\\"x\\\": 1210.0, \\\"y\\\": 529000.0}, {\\\"x\\\": 1190.0, \\\"y\\\": 442000.0}, {\\\"x\\\": 1540.0, \\\"y\\\": 615000.0}, {\\\"x\\\": 4030.0, \\\"y\\\": 1485000.0}, {\\\"x\\\": 2430.0, \\\"y\\\": 585000.0}, {\\\"x\\\": 2600.0, \\\"y\\\": 480000.0}, {\\\"x\\\": 4410.0, \\\"y\\\": 1095000.0}, {\\\"x\\\": 1330.0, \\\"y\\\": 290000.0}, {\\\"x\\\": 1900.0, \\\"y\\\": 615000.0}, {\\\"x\\\": 1100.0, \\\"y\\\": 300000.0}, {\\\"x\\\": 1980.0, \\\"y\\\": 308000.0}, {\\\"x\\\": 2400.0, \\\"y\\\": 750000.0}, {\\\"x\\\": 4760.0, \\\"y\\\": 2250000.0}, {\\\"x\\\": 3180.0, \\\"y\\\": 890000.0}, {\\\"x\\\": 1190.0, \\\"y\\\": 288000.0}, {\\\"x\\\": 630.0, \\\"y\\\": 190000.0}, {\\\"x\\\": 2530.0, \\\"y\\\": 515000.0}, {\\\"x\\\": 1690.0, \\\"y\\\": 235000.0}, {\\\"x\\\": 940.0, \\\"y\\\": 275000.0}, {\\\"x\\\": 1240.0, \\\"y\\\": 727500.0}, {\\\"x\\\": 3040.0, \\\"y\\\": 650000.0}, {\\\"x\\\": 6050.0, \\\"y\\\": 1600000.0}, {\\\"x\\\": 1590.0, \\\"y\\\": 365000.0}, {\\\"x\\\": 2500.0, \\\"y\\\": 662000.0}, {\\\"x\\\": 1780.0, \\\"y\\\": 270500.0}, {\\\"x\\\": 1360.0, \\\"y\\\": 200000.0}, {\\\"x\\\": 4740.0, \\\"y\\\": 970000.0}, {\\\"x\\\": 1010.0, \\\"y\\\": 160000.0}, {\\\"x\\\": 1040.0, \\\"y\\\": 204000.0}, {\\\"x\\\": 1610.0, \\\"y\\\": 358000.0}, {\\\"x\\\": 1570.0, \\\"y\\\": 452000.0}, {\\\"x\\\": 1510.0, \\\"y\\\": 595000.0}, {\\\"x\\\": 1360.0, \\\"y\\\": 249000.0}, {\\\"x\\\": 1970.0, \\\"y\\\": 346900.0}, {\\\"x\\\": 5403.0, \\\"y\\\": 2125000.0}, {\\\"x\\\": 1560.0, \\\"y\\\": 280000.0}, {\\\"x\\\": 2320.0, \\\"y\\\": 318888.0}, {\\\"x\\\": 2120.0, \\\"y\\\": 530000.0}, {\\\"x\\\": 2120.0, \\\"y\\\": 375000.0}, {\\\"x\\\": 3350.0, \\\"y\\\": 910000.0}, {\\\"x\\\": 2380.0, \\\"y\\\": 782000.0}, {\\\"x\\\": 1070.0, \\\"y\\\": 259950.0}, {\\\"x\\\": 2300.0, \\\"y\\\": 315000.0}, {\\\"x\\\": 1320.0, \\\"y\\\": 215000.0}, {\\\"x\\\": 2180.0, \\\"y\\\": 705000.0}, {\\\"x\\\": 4380.0, \\\"y\\\": 1450000.0}, {\\\"x\\\": 1790.0, \\\"y\\\": 451000.0}, {\\\"x\\\": 750.0, \\\"y\\\": 261000.0}, {\\\"x\\\": 1300.0, \\\"y\\\": 396000.0}, {\\\"x\\\": 2990.0, \\\"y\\\": 725000.0}, {\\\"x\\\": 4640.0, \\\"y\\\": 1950000.0}, {\\\"x\\\": 1400.0, \\\"y\\\": 238000.0}, {\\\"x\\\": 2750.0, \\\"y\\\": 750000.0}, {\\\"x\\\": 2050.0, \\\"y\\\": 331500.0}, {\\\"x\\\": 2230.0, \\\"y\\\": 460000.0}, {\\\"x\\\": 2340.0, \\\"y\\\": 404950.0}, {\\\"x\\\": 2870.0, \\\"y\\\": 880000.0}, {\\\"x\\\": 4120.0, \\\"y\\\": 863000.0}, {\\\"x\\\": 2080.0, \\\"y\\\": 638700.0}, {\\\"x\\\": 1840.0, \\\"y\\\": 435000.0}, {\\\"x\\\": 1180.0, \\\"y\\\": 260000.0}, {\\\"x\\\": 2160.0, \\\"y\\\": 671500.0}, {\\\"x\\\": 1180.0, \\\"y\\\": 610000.0}, {\\\"x\\\": 1160.0, \\\"y\\\": 405000.0}, {\\\"x\\\": 1830.0, \\\"y\\\": 338900.0}, {\\\"x\\\": 3200.0, \\\"y\\\": 720000.0}, {\\\"x\\\": 2560.0, \\\"y\\\": 442000.0}, {\\\"x\\\": 2550.0, \\\"y\\\": 650000.0}, {\\\"x\\\": 1330.0, \\\"y\\\": 263500.0}, {\\\"x\\\": 1220.0, \\\"y\\\": 300000.0}, {\\\"x\\\": 1805.0, \\\"y\\\": 266000.0}, {\\\"x\\\": 6050.0, \\\"y\\\": 930000.0}, {\\\"x\\\": 2320.0, \\\"y\\\": 530000.0}, {\\\"x\\\": 1384.0, \\\"y\\\": 180000.0}, {\\\"x\\\": 2720.0, \\\"y\\\": 619000.0}, {\\\"x\\\": 1820.0, \\\"y\\\": 264000.0}, {\\\"x\\\": 2130.0, \\\"y\\\": 730000.0}, {\\\"x\\\": 2060.0, \\\"y\\\": 439000.0}, {\\\"x\\\": 1420.0, \\\"y\\\": 268500.0}, {\\\"x\\\": 1510.0, \\\"y\\\": 330000.0}, {\\\"x\\\": 2160.0, \\\"y\\\": 640000.0}, {\\\"x\\\": 3180.0, \\\"y\\\": 900000.0}, {\\\"x\\\": 2110.0, \\\"y\\\": 370000.0}, {\\\"x\\\": 2060.0, \\\"y\\\": 685000.0}, {\\\"x\\\": 1830.0, \\\"y\\\": 505000.0}, {\\\"x\\\": 1820.0, \\\"y\\\": 265000.0}, {\\\"x\\\": 1610.0, \\\"y\\\": 290000.0}, {\\\"x\\\": 1780.0, \\\"y\\\": 296000.0}, {\\\"x\\\": 1840.0, \\\"y\\\": 360000.0}, {\\\"x\\\": 1460.0, \\\"y\\\": 240500.0}, {\\\"x\\\": 1400.0, \\\"y\\\": 372500.0}, {\\\"x\\\": 3370.0, \\\"y\\\": 595000.0}, {\\\"x\\\": 3590.0, \\\"y\\\": 515000.0}, {\\\"x\\\": 3200.0, \\\"y\\\": 1220000.0}, {\\\"x\\\": 1670.0, \\\"y\\\": 507000.0}, {\\\"x\\\": 2420.0, \\\"y\\\": 399950.0}, {\\\"x\\\": 1430.0, \\\"y\\\": 185000.0}, {\\\"x\\\": 1440.0, \\\"y\\\": 460000.0}, {\\\"x\\\": 1450.0, \\\"y\\\": 435500.0}, {\\\"x\\\": 3550.0, \\\"y\\\": 469000.0}, {\\\"x\\\": 1270.0, \\\"y\\\": 531000.0}, {\\\"x\\\": 940.0, \\\"y\\\": 443500.0}, {\\\"x\\\": 1670.0, \\\"y\\\": 223000.0}, {\\\"x\\\": 3100.0, \\\"y\\\": 590000.0}, {\\\"x\\\": 1100.0, \\\"y\\\": 340000.0}, {\\\"x\\\": 1870.0, \\\"y\\\": 650000.0}, {\\\"x\\\": 1930.0, \\\"y\\\": 533600.0}, {\\\"x\\\": 2540.0, \\\"y\\\": 695000.0}, {\\\"x\\\": 1280.0, \\\"y\\\": 242000.0}, {\\\"x\\\": 1820.0, \\\"y\\\": 425000.0}, {\\\"x\\\": 1490.0, \\\"y\\\": 525000.0}, {\\\"x\\\": 1880.0, \\\"y\\\": 485000.0}, {\\\"x\\\": 1250.0, \\\"y\\\": 175000.0}, {\\\"x\\\": 1440.0, \\\"y\\\": 210000.0}, {\\\"x\\\": 1920.0, \\\"y\\\": 260000.0}, {\\\"x\\\": 2060.0, \\\"y\\\": 577000.0}, {\\\"x\\\": 1210.0, \\\"y\\\": 200000.0}, {\\\"x\\\": 1760.0, \\\"y\\\": 605000.0}, {\\\"x\\\": 990.0, \\\"y\\\": 325000.0}, {\\\"x\\\": 960.0, \\\"y\\\": 289500.0}, {\\\"x\\\": 1660.0, \\\"y\\\": 559950.0}, {\\\"x\\\": 1900.0, \\\"y\\\": 1042500.0}, {\\\"x\\\": 1270.0, \\\"y\\\": 543500.0}, {\\\"x\\\": 3250.0, \\\"y\\\": 480000.0}, {\\\"x\\\": 960.0, \\\"y\\\": 218000.0}, {\\\"x\\\": 1330.0, \\\"y\\\": 565000.0}, {\\\"x\\\": 2080.0, \\\"y\\\": 426700.0}, {\\\"x\\\": 2690.0, \\\"y\\\": 650000.0}, {\\\"x\\\": 890.0, \\\"y\\\": 542000.0}, {\\\"x\\\": 1070.0, \\\"y\\\": 415000.0}, {\\\"x\\\": 1200.0, \\\"y\\\": 214000.0}, {\\\"x\\\": 1360.0, \\\"y\\\": 245000.0}, {\\\"x\\\": 2050.0, \\\"y\\\": 314500.0}, {\\\"x\\\": 3000.0, \\\"y\\\": 1120000.0}, {\\\"x\\\": 1300.0, \\\"y\\\": 378000.0}, {\\\"x\\\": 2250.0, \\\"y\\\": 305000.0}, {\\\"x\\\": 3740.0, \\\"y\\\": 595000.0}, {\\\"x\\\": 1660.0, \\\"y\\\": 729500.0}, {\\\"x\\\": 2360.0, \\\"y\\\": 430000.0}, {\\\"x\\\": 1760.0, \\\"y\\\": 240000.0}, {\\\"x\\\": 1680.0, \\\"y\\\": 545000.0}, {\\\"x\\\": 1320.0, \\\"y\\\": 530000.0}, {\\\"x\\\": 870.0, \\\"y\\\": 157000.0}, {\\\"x\\\": 1260.0, \\\"y\\\": 425000.0}, {\\\"x\\\": 1000.0, \\\"y\\\": 220000.0}, {\\\"x\\\": 2020.0, \\\"y\\\": 521000.0}, {\\\"x\\\": 1920.0, \\\"y\\\": 325000.0}, {\\\"x\\\": 2150.0, \\\"y\\\": 597500.0}, {\\\"x\\\": 1470.0, \\\"y\\\": 337000.0}, {\\\"x\\\": 3180.0, \\\"y\\\": 1000000.0}, {\\\"x\\\": 3930.0, \\\"y\\\": 3070000.0}, {\\\"x\\\": 990.0, \\\"y\\\": 495000.0}, {\\\"x\\\": 2770.0, \\\"y\\\": 748000.0}, {\\\"x\\\": 1250.0, \\\"y\\\": 888000.0}, {\\\"x\\\": 1140.0, \\\"y\\\": 269900.0}, {\\\"x\\\": 2250.0, \\\"y\\\": 496500.0}, {\\\"x\\\": 1640.0, \\\"y\\\": 475000.0}, {\\\"x\\\": 1255.0, \\\"y\\\": 312000.0}, {\\\"x\\\": 1290.0, \\\"y\\\": 323000.0}, {\\\"x\\\": 1300.0, \\\"y\\\": 331000.0}, {\\\"x\\\": 1220.0, \\\"y\\\": 306000.0}, {\\\"x\\\": 2630.0, \\\"y\\\": 655000.0}, {\\\"x\\\": 1950.0, \\\"y\\\": 290000.0}, {\\\"x\\\": 3160.0, \\\"y\\\": 1250000.0}, {\\\"x\\\": 1550.0, \\\"y\\\": 460000.0}, {\\\"x\\\": 1700.0, \\\"y\\\": 435000.0}, {\\\"x\\\": 2510.0, \\\"y\\\": 664000.0}, {\\\"x\\\": 1800.0, \\\"y\\\": 865000.0}, {\\\"x\\\": 1800.0, \\\"y\\\": 385000.0}, {\\\"x\\\": 1870.0, \\\"y\\\": 497000.0}, {\\\"x\\\": 1010.0, \\\"y\\\": 280000.0}, {\\\"x\\\": 1120.0, \\\"y\\\": 188000.0}, {\\\"x\\\": 2090.0, \\\"y\\\": 478500.0}, {\\\"x\\\": 4370.0, \\\"y\\\": 1145000.0}, {\\\"x\\\": 1440.0, \\\"y\\\": 222000.0}, {\\\"x\\\": 2580.0, \\\"y\\\": 799000.0}, {\\\"x\\\": 3190.0, \\\"y\\\": 609900.0}, {\\\"x\\\": 2380.0, \\\"y\\\": 413000.0}, {\\\"x\\\": 1420.0, \\\"y\\\": 400000.0}, {\\\"x\\\": 2990.0, \\\"y\\\": 802541.0}, {\\\"x\\\": 2680.0, \\\"y\\\": 320000.0}, {\\\"x\\\": 2730.0, \\\"y\\\": 507000.0}, {\\\"x\\\": 1220.0, \\\"y\\\": 387500.0}, {\\\"x\\\": 1500.0, \\\"y\\\": 396000.0}, {\\\"x\\\": 1830.0, \\\"y\\\": 373000.0}, {\\\"x\\\": 4570.0, \\\"y\\\": 1484900.0}, {\\\"x\\\": 2470.0, \\\"y\\\": 359900.0}, {\\\"x\\\": 800.0, \\\"y\\\": 410000.0}, {\\\"x\\\": 2900.0, \\\"y\\\": 690000.0}, {\\\"x\\\": 1410.0, \\\"y\\\": 245000.0}, {\\\"x\\\": 2830.0, \\\"y\\\": 700000.0}, {\\\"x\\\": 1680.0, \\\"y\\\": 268000.0}, {\\\"x\\\": 1760.0, \\\"y\\\": 225000.0}, {\\\"x\\\": 2240.0, \\\"y\\\": 980000.0}, {\\\"x\\\": 1380.0, \\\"y\\\": 795000.0}, {\\\"x\\\": 820.0, \\\"y\\\": 195000.0}, {\\\"x\\\": 2180.0, \\\"y\\\": 480000.0}, {\\\"x\\\": 1400.0, \\\"y\\\": 485000.0}, {\\\"x\\\": 880.0, \\\"y\\\": 130000.0}, {\\\"x\\\": 1060.0, \\\"y\\\": 325000.0}, {\\\"x\\\": 1530.0, \\\"y\\\": 440000.0}, {\\\"x\\\": 2480.0, \\\"y\\\": 550000.0}, {\\\"x\\\": 1490.0, \\\"y\\\": 310000.0}, {\\\"x\\\": 3660.0, \\\"y\\\": 530000.0}, {\\\"x\\\": 2340.0, \\\"y\\\": 390000.0}, {\\\"x\\\": 1450.0, \\\"y\\\": 243000.0}, {\\\"x\\\": 2210.0, \\\"y\\\": 639000.0}, {\\\"x\\\": 1130.0, \\\"y\\\": 215000.0}, {\\\"x\\\": 1550.0, \\\"y\\\": 405000.0}, {\\\"x\\\": 1710.0, \\\"y\\\": 250000.0}, {\\\"x\\\": 1010.0, \\\"y\\\": 405500.0}, {\\\"x\\\": 2660.0, \\\"y\\\": 452000.0}, {\\\"x\\\": 2660.0, \\\"y\\\": 730000.0}, {\\\"x\\\": 1300.0, \\\"y\\\": 267000.0}, {\\\"x\\\": 1670.0, \\\"y\\\": 289950.0}, {\\\"x\\\": 960.0, \\\"y\\\": 565000.0}, {\\\"x\\\": 4670.0, \\\"y\\\": 1578000.0}, {\\\"x\\\": 2140.0, \\\"y\\\": 636000.0}, {\\\"x\\\": 2520.0, \\\"y\\\": 350000.0}, {\\\"x\\\": 1650.0, \\\"y\\\": 320000.0}, {\\\"x\\\": 1440.0, \\\"y\\\": 210000.0}, {\\\"x\\\": 1050.0, \\\"y\\\": 245000.0}, {\\\"x\\\": 1470.0, \\\"y\\\": 328000.0}, {\\\"x\\\": 4230.0, \\\"y\\\": 985000.0}, {\\\"x\\\": 1970.0, \\\"y\\\": 501000.0}, {\\\"x\\\": 1540.0, \\\"y\\\": 315000.0}, {\\\"x\\\": 2090.0, \\\"y\\\": 403000.0}, {\\\"x\\\": 2380.0, \\\"y\\\": 550000.0}, {\\\"x\\\": 2156.0, \\\"y\\\": 347500.0}, {\\\"x\\\": 2070.0, \\\"y\\\": 365000.0}, {\\\"x\\\": 1910.0, \\\"y\\\": 588000.0}, {\\\"x\\\": 1920.0, \\\"y\\\": 605000.0}, {\\\"x\\\": 3400.0, \\\"y\\\": 1300000.0}, {\\\"x\\\": 1400.0, \\\"y\\\": 233000.0}, {\\\"x\\\": 2210.0, \\\"y\\\": 360000.0}, {\\\"x\\\": 1170.0, \\\"y\\\": 459000.0}, {\\\"x\\\": 2100.0, \\\"y\\\": 740000.0}, {\\\"x\\\": 1160.0, \\\"y\\\": 305000.0}, {\\\"x\\\": 1500.0, \\\"y\\\": 395000.0}, {\\\"x\\\": 2940.0, \\\"y\\\": 560000.0}, {\\\"x\\\": 2010.0, \\\"y\\\": 650000.0}, {\\\"x\\\": 2170.0, \\\"y\\\": 449950.0}, {\\\"x\\\": 1430.0, \\\"y\\\": 517500.0}, {\\\"x\\\": 1510.0, \\\"y\\\": 435000.0}, {\\\"x\\\": 1150.0, \\\"y\\\": 329999.0}, {\\\"x\\\": 2150.0, \\\"y\\\": 950000.0}, {\\\"x\\\": 1370.0, \\\"y\\\": 447000.0}, {\\\"x\\\": 2380.0, \\\"y\\\": 699800.0}, {\\\"x\\\": 1370.0, \\\"y\\\": 850000.0}, {\\\"x\\\": 1600.0, \\\"y\\\": 316500.0}, {\\\"x\\\": 3750.0, \\\"y\\\": 942500.0}, {\\\"x\\\": 3950.0, \\\"y\\\": 1310000.0}, {\\\"x\\\": 2400.0, \\\"y\\\": 856600.0}, {\\\"x\\\": 2830.0, \\\"y\\\": 405600.0}, {\\\"x\\\": 2440.0, \\\"y\\\": 565000.0}, {\\\"x\\\": 1190.0, \\\"y\\\": 400000.0}, {\\\"x\\\": 1400.0, \\\"y\\\": 330000.0}, {\\\"x\\\": 2730.0, \\\"y\\\": 374950.0}, {\\\"x\\\": 2390.0, \\\"y\\\": 405300.0}, {\\\"x\\\": 2060.0, \\\"y\\\": 560000.0}, {\\\"x\\\": 2490.0, \\\"y\\\": 824000.0}, {\\\"x\\\": 1100.0, \\\"y\\\": 260000.0}, {\\\"x\\\": 2430.0, \\\"y\\\": 760000.0}, {\\\"x\\\": 3170.0, \\\"y\\\": 405000.0}, {\\\"x\\\": 2640.0, \\\"y\\\": 429900.0}, {\\\"x\\\": 1130.0, \\\"y\\\": 341500.0}, {\\\"x\\\": 1940.0, \\\"y\\\": 465250.0}, {\\\"x\\\": 1100.0, \\\"y\\\": 450000.0}, {\\\"x\\\": 1200.0, \\\"y\\\": 390000.0}, {\\\"x\\\": 2000.0, \\\"y\\\": 420000.0}, {\\\"x\\\": 1890.0, \\\"y\\\": 269950.0}, {\\\"x\\\": 1910.0, \\\"y\\\": 493000.0}, {\\\"x\\\": 2710.0, \\\"y\\\": 370000.0}, {\\\"x\\\": 4860.0, \\\"y\\\": 2250000.0}, {\\\"x\\\": 1250.0, \\\"y\\\": 305000.0}, {\\\"x\\\": 1590.0, \\\"y\\\": 400000.0}, {\\\"x\\\": 1240.0, \\\"y\\\": 320000.0}, {\\\"x\\\": 2000.0, \\\"y\\\": 715000.0}, {\\\"x\\\": 3610.0, \\\"y\\\": 650000.0}, {\\\"x\\\": 1930.0, \\\"y\\\": 218000.0}, {\\\"x\\\": 1280.0, \\\"y\\\": 500000.0}, {\\\"x\\\": 2090.0, \\\"y\\\": 460000.0}, {\\\"x\\\": 1940.0, \\\"y\\\": 232500.0}, {\\\"x\\\": 1800.0, \\\"y\\\": 408200.0}, {\\\"x\\\": 1730.0, \\\"y\\\": 522000.0}, {\\\"x\\\": 2810.0, \\\"y\\\": 675000.0}, {\\\"x\\\": 3550.0, \\\"y\\\": 1355000.0}, {\\\"x\\\": 1330.0, \\\"y\\\": 249950.0}, {\\\"x\\\": 750.0, \\\"y\\\": 210000.0}, {\\\"x\\\": 1760.0, \\\"y\\\": 429950.0}, {\\\"x\\\": 3200.0, \\\"y\\\": 737500.0}, {\\\"x\\\": 1740.0, \\\"y\\\": 710000.0}, {\\\"x\\\": 2100.0, \\\"y\\\": 470000.0}, {\\\"x\\\": 4270.0, \\\"y\\\": 1100000.0}, {\\\"x\\\": 1340.0, \\\"y\\\": 650000.0}, {\\\"x\\\": 3190.0, \\\"y\\\": 1216000.0}, {\\\"x\\\": 1630.0, \\\"y\\\": 422120.0}, {\\\"x\\\": 2990.0, \\\"y\\\": 625000.0}, {\\\"x\\\": 1550.0, \\\"y\\\": 385200.0}, {\\\"x\\\": 1690.0, \\\"y\\\": 500000.0}, {\\\"x\\\": 1960.0, \\\"y\\\": 308000.0}, {\\\"x\\\": 2390.0, \\\"y\\\": 565000.0}, {\\\"x\\\": 2600.0, \\\"y\\\": 581000.0}, {\\\"x\\\": 1950.0, \\\"y\\\": 361000.0}, {\\\"x\\\": 1250.0, \\\"y\\\": 345000.0}, {\\\"x\\\": 1180.0, \\\"y\\\": 419000.0}, {\\\"x\\\": 1680.0, \\\"y\\\": 347000.0}, {\\\"x\\\": 2220.0, \\\"y\\\": 625000.0}, {\\\"x\\\": 4890.0, \\\"y\\\": 2400000.0}, {\\\"x\\\": 2660.0, \\\"y\\\": 379000.0}, {\\\"x\\\": 1150.0, \\\"y\\\": 310000.0}, {\\\"x\\\": 1130.0, \\\"y\\\": 250000.0}, {\\\"x\\\": 2760.0, \\\"y\\\": 682000.0}, {\\\"x\\\": 1430.0, \\\"y\\\": 246500.0}, {\\\"x\\\": 1490.0, \\\"y\\\": 325000.0}, {\\\"x\\\": 2030.0, \\\"y\\\": 310950.0}, {\\\"x\\\": 3010.0, \\\"y\\\": 1100000.0}, {\\\"x\\\": 1810.0, \\\"y\\\": 287500.0}, {\\\"x\\\": 1810.0, \\\"y\\\": 431000.0}, {\\\"x\\\": 970.0, \\\"y\\\": 226000.0}, {\\\"x\\\": 2010.0, \\\"y\\\": 825000.0}, {\\\"x\\\": 1300.0, \\\"y\\\": 175000.0}, {\\\"x\\\": 1260.0, \\\"y\\\": 465750.0}, {\\\"x\\\": 2610.0, \\\"y\\\": 659000.0}, {\\\"x\\\": 1910.0, \\\"y\\\": 595000.0}, {\\\"x\\\": 1780.0, \\\"y\\\": 350000.0}, {\\\"x\\\": 1900.0, \\\"y\\\": 270000.0}, {\\\"x\\\": 2450.0, \\\"y\\\": 662500.0}, {\\\"x\\\": 1380.0, \\\"y\\\": 249900.0}, {\\\"x\\\": 1920.0, \\\"y\\\": 324500.0}, {\\\"x\\\": 1350.0, \\\"y\\\": 430000.0}, {\\\"x\\\": 1350.0, \\\"y\\\": 419950.0}, {\\\"x\\\": 2510.0, \\\"y\\\": 285000.0}, {\\\"x\\\": 2470.0, \\\"y\\\": 332000.0}, {\\\"x\\\": 1660.0, \\\"y\\\": 282000.0}, {\\\"x\\\": 1340.0, \\\"y\\\": 320000.0}, {\\\"x\\\": 1620.0, \\\"y\\\": 428750.0}, {\\\"x\\\": 2300.0, \\\"y\\\": 330000.0}, {\\\"x\\\": 2000.0, \\\"y\\\": 456500.0}, {\\\"x\\\": 1640.0, \\\"y\\\": 352000.0}, {\\\"x\\\": 1530.0, \\\"y\\\": 664000.0}, {\\\"x\\\": 4000.0, \\\"y\\\": 628000.0}, {\\\"x\\\": 1610.0, \\\"y\\\": 512000.0}, {\\\"x\\\": 2070.0, \\\"y\\\": 254000.0}, {\\\"x\\\": 1900.0, \\\"y\\\": 535800.0}, {\\\"x\\\": 1050.0, \\\"y\\\": 287653.0}, {\\\"x\\\": 1520.0, \\\"y\\\": 438000.0}, {\\\"x\\\": 2390.0, \\\"y\\\": 450000.0}, {\\\"x\\\": 2400.0, \\\"y\\\": 327000.0}, {\\\"x\\\": 1790.0, \\\"y\\\": 370500.0}, {\\\"x\\\": 1720.0, \\\"y\\\": 265000.0}, {\\\"x\\\": 2980.0, \\\"y\\\": 450000.0}, {\\\"x\\\": 1520.0, \\\"y\\\": 425000.0}, {\\\"x\\\": 1150.0, \\\"y\\\": 166600.0}, {\\\"x\\\": 380.0, \\\"y\\\": 245000.0}, {\\\"x\\\": 910.0, \\\"y\\\": 565000.0}, {\\\"x\\\": 1650.0, \\\"y\\\": 539900.0}, {\\\"x\\\": 2480.0, \\\"y\\\": 910000.0}, {\\\"x\\\": 2050.0, \\\"y\\\": 280000.0}, {\\\"x\\\": 1420.0, \\\"y\\\": 275000.0}, {\\\"x\\\": 3460.0, \\\"y\\\": 467000.0}, {\\\"x\\\": 1500.0, \\\"y\\\": 457500.0}, {\\\"x\\\": 1320.0, \\\"y\\\": 381156.0}, {\\\"x\\\": 2180.0, \\\"y\\\": 289999.0}, {\\\"x\\\": 1830.0, \\\"y\\\": 642450.0}, {\\\"x\\\": 1620.0, \\\"y\\\": 469950.0}, {\\\"x\\\": 2920.0, \\\"y\\\": 795000.0}, {\\\"x\\\": 3300.0, \\\"y\\\": 785000.0}, {\\\"x\\\": 3060.0, \\\"y\\\": 860000.0}, {\\\"x\\\": 3064.0, \\\"y\\\": 1095000.0}, {\\\"x\\\": 1530.0, \\\"y\\\": 147500.0}, {\\\"x\\\": 1910.0, \\\"y\\\": 390000.0}, {\\\"x\\\": 1020.0, \\\"y\\\": 229000.0}, {\\\"x\\\": 1150.0, \\\"y\\\": 185000.0}, {\\\"x\\\": 1260.0, \\\"y\\\": 414900.0}, {\\\"x\\\": 1920.0, \\\"y\\\": 200000.0}, {\\\"x\\\": 1800.0, \\\"y\\\": 225000.0}, {\\\"x\\\": 2040.0, \\\"y\\\": 720000.0}, {\\\"x\\\": 2200.0, \\\"y\\\": 930000.0}, {\\\"x\\\": 3200.0, \\\"y\\\": 1270000.0}, {\\\"x\\\": 2400.0, \\\"y\\\": 700000.0}, {\\\"x\\\": 1140.0, \\\"y\\\": 466000.0}, {\\\"x\\\": 1330.0, \\\"y\\\": 374000.0}, {\\\"x\\\": 1940.0, \\\"y\\\": 480000.0}, {\\\"x\\\": 3000.0, \\\"y\\\": 740000.0}, {\\\"x\\\": 1820.0, \\\"y\\\": 1010000.0}, {\\\"x\\\": 2910.0, \\\"y\\\": 395000.0}, {\\\"x\\\": 1090.0, \\\"y\\\": 340000.0}, {\\\"x\\\": 1230.0, \\\"y\\\": 209000.0}, {\\\"x\\\": 1710.0, \\\"y\\\": 431650.0}, {\\\"x\\\": 3160.0, \\\"y\\\": 980000.0}, {\\\"x\\\": 2680.0, \\\"y\\\": 660000.0}, {\\\"x\\\": 2190.0, \\\"y\\\": 730000.0}, {\\\"x\\\": 1260.0, \\\"y\\\": 291500.0}, {\\\"x\\\": 2970.0, \\\"y\\\": 905000.0}, {\\\"x\\\": 2570.0, \\\"y\\\": 800000.0}, {\\\"x\\\": 3810.0, \\\"y\\\": 839900.0}, {\\\"x\\\": 1010.0, \\\"y\\\": 200000.0}, {\\\"x\\\": 1480.0, \\\"y\\\": 300000.0}, {\\\"x\\\": 1250.0, \\\"y\\\": 530000.0}, {\\\"x\\\": 1654.0, \\\"y\\\": 314950.0}, {\\\"x\\\": 1410.0, \\\"y\\\": 255000.0}, {\\\"x\\\": 2160.0, \\\"y\\\": 550000.0}, {\\\"x\\\": 1400.0, \\\"y\\\": 435000.0}, {\\\"x\\\": 1420.0, \\\"y\\\": 234000.0}, {\\\"x\\\": 2500.0, \\\"y\\\": 615000.0}, {\\\"x\\\": 1410.0, \\\"y\\\": 205000.0}, {\\\"x\\\": 2100.0, \\\"y\\\": 384000.0}, {\\\"x\\\": 1750.0, \\\"y\\\": 324000.0}, {\\\"x\\\": 2070.0, \\\"y\\\": 645000.0}, {\\\"x\\\": 1570.0, \\\"y\\\": 570000.0}, {\\\"x\\\": 1920.0, \\\"y\\\": 324000.0}, {\\\"x\\\": 1000.0, \\\"y\\\": 270000.0}, {\\\"x\\\": 2120.0, \\\"y\\\": 290000.0}, {\\\"x\\\": 1440.0, \\\"y\\\": 250000.0}, {\\\"x\\\": 1660.0, \\\"y\\\": 342000.0}, {\\\"x\\\": 1340.0, \\\"y\\\": 255000.0}, {\\\"x\\\": 2380.0, \\\"y\\\": 800000.0}, {\\\"x\\\": 1560.0, \\\"y\\\": 451000.0}, {\\\"x\\\": 2780.0, \\\"y\\\": 990000.0}, {\\\"x\\\": 1860.0, \\\"y\\\": 288400.0}, {\\\"x\\\": 2390.0, \\\"y\\\": 420000.0}, {\\\"x\\\": 1370.0, \\\"y\\\": 359000.0}, {\\\"x\\\": 2570.0, \\\"y\\\": 390000.0}, {\\\"x\\\": 1320.0, \\\"y\\\": 300000.0}, {\\\"x\\\": 2520.0, \\\"y\\\": 545000.0}, {\\\"x\\\": 1250.0, \\\"y\\\": 288349.0}, {\\\"x\\\": 1560.0, \\\"y\\\": 299900.0}, {\\\"x\\\": 2330.0, \\\"y\\\": 891000.0}, {\\\"x\\\": 3660.0, \\\"y\\\": 1200000.0}, {\\\"x\\\": 2790.0, \\\"y\\\": 378000.0}, {\\\"x\\\": 1060.0, \\\"y\\\": 299995.0}, {\\\"x\\\": 2020.0, \\\"y\\\": 253000.0}, {\\\"x\\\": 1580.0, \\\"y\\\": 350000.0}, {\\\"x\\\": 2020.0, \\\"y\\\": 565000.0}, {\\\"x\\\": 970.0, \\\"y\\\": 315000.0}, {\\\"x\\\": 1490.0, \\\"y\\\": 570000.0}, {\\\"x\\\": 4390.0, \\\"y\\\": 971000.0}, {\\\"x\\\": 2750.0, \\\"y\\\": 915000.0}, {\\\"x\\\": 2150.0, \\\"y\\\": 419000.0}, {\\\"x\\\": 1810.0, \\\"y\\\": 260000.0}, {\\\"x\\\": 2230.0, \\\"y\\\": 1321500.0}, {\\\"x\\\": 2430.0, \\\"y\\\": 369950.0}, {\\\"x\\\": 3680.0, \\\"y\\\": 1029900.0}, {\\\"x\\\": 1410.0, \\\"y\\\": 435000.0}, {\\\"x\\\": 1330.0, \\\"y\\\": 601000.0}, {\\\"x\\\": 1490.0, \\\"y\\\": 460500.0}, {\\\"x\\\": 2020.0, \\\"y\\\": 720000.0}, {\\\"x\\\": 3130.0, \\\"y\\\": 851000.0}, {\\\"x\\\": 2670.0, \\\"y\\\": 550000.0}, {\\\"x\\\": 1980.0, \\\"y\\\": 700000.0}, {\\\"x\\\": 2100.0, \\\"y\\\": 323000.0}, {\\\"x\\\": 1350.0, \\\"y\\\": 345500.0}, {\\\"x\\\": 2140.0, \\\"y\\\": 378000.0}, {\\\"x\\\": 2208.0, \\\"y\\\": 650000.0}, {\\\"x\\\": 1010.0, \\\"y\\\": 385000.0}, {\\\"x\\\": 970.0, \\\"y\\\": 425000.0}, {\\\"x\\\": 1520.0, \\\"y\\\": 210000.0}, {\\\"x\\\": 2740.0, \\\"y\\\": 630000.0}, {\\\"x\\\": 1570.0, \\\"y\\\": 335000.0}, {\\\"x\\\": 1320.0, \\\"y\\\": 196500.0}, {\\\"x\\\": 2550.0, \\\"y\\\": 582800.0}, {\\\"x\\\": 1560.0, \\\"y\\\": 440000.0}, {\\\"x\\\": 2360.0, \\\"y\\\": 752500.0}, {\\\"x\\\": 1330.0, \\\"y\\\": 532500.0}, {\\\"x\\\": 1070.0, \\\"y\\\": 265000.0}, {\\\"x\\\": 1510.0, \\\"y\\\": 397500.0}, {\\\"x\\\": 1710.0, \\\"y\\\": 524250.0}, {\\\"x\\\": 2790.0, \\\"y\\\": 765000.0}, {\\\"x\\\": 2620.0, \\\"y\\\": 648000.0}, {\\\"x\\\": 2970.0, \\\"y\\\": 469500.0}, {\\\"x\\\": 1050.0, \\\"y\\\": 237500.0}, {\\\"x\\\": 1280.0, \\\"y\\\": 216000.0}, {\\\"x\\\": 1030.0, \\\"y\\\": 427200.0}, {\\\"x\\\": 1900.0, \\\"y\\\": 280000.0}, {\\\"x\\\": 3070.0, \\\"y\\\": 718000.0}, {\\\"x\\\": 1760.0, \\\"y\\\": 420000.0}, {\\\"x\\\": 930.0, \\\"y\\\": 379000.0}, {\\\"x\\\": 880.0, \\\"y\\\": 326100.0}, {\\\"x\\\": 1360.0, \\\"y\\\": 535000.0}, {\\\"x\\\": 2130.0, \\\"y\\\": 283000.0}, {\\\"x\\\": 1480.0, \\\"y\\\": 260000.0}, {\\\"x\\\": 1500.0, \\\"y\\\": 399000.0}, {\\\"x\\\": 1670.0, \\\"y\\\": 484950.0}, {\\\"x\\\": 2060.0, \\\"y\\\": 640000.0}, {\\\"x\\\": 2160.0, \\\"y\\\": 585000.0}, {\\\"x\\\": 2780.0, \\\"y\\\": 645000.0}, {\\\"x\\\": 1490.0, \\\"y\\\": 253000.0}, {\\\"x\\\": 740.0, \\\"y\\\": 178500.0}, {\\\"x\\\": 1860.0, \\\"y\\\": 291000.0}, {\\\"x\\\": 1590.0, \\\"y\\\": 199950.0}, {\\\"x\\\": 850.0, \\\"y\\\": 553500.0}, {\\\"x\\\": 1030.0, \\\"y\\\": 189950.0}, {\\\"x\\\": 1850.0, \\\"y\\\": 289000.0}, {\\\"x\\\": 1830.0, \\\"y\\\": 700000.0}, {\\\"x\\\": 1560.0, \\\"y\\\": 270000.0}, {\\\"x\\\": 1730.0, \\\"y\\\": 258000.0}, {\\\"x\\\": 1930.0, \\\"y\\\": 530000.0}, {\\\"x\\\": 1422.0, \\\"y\\\": 245000.0}, {\\\"x\\\": 1380.0, \\\"y\\\": 563000.0}, {\\\"x\\\": 2430.0, \\\"y\\\": 515000.0}, {\\\"x\\\": 2610.0, \\\"y\\\": 325000.0}, {\\\"x\\\": 2000.0, \\\"y\\\": 540000.0}, {\\\"x\\\": 920.0, \\\"y\\\": 280300.0}, {\\\"x\\\": 1750.0, \\\"y\\\": 460000.0}, {\\\"x\\\": 2020.0, \\\"y\\\": 475000.0}, {\\\"x\\\": 2460.0, \\\"y\\\": 900000.0}, {\\\"x\\\": 1780.0, \\\"y\\\": 538200.0}, {\\\"x\\\": 1080.0, \\\"y\\\": 429000.0}, {\\\"x\\\": 1250.0, \\\"y\\\": 164808.0}, {\\\"x\\\": 1870.0, \\\"y\\\": 520000.0}, {\\\"x\\\": 1700.0, \\\"y\\\": 475000.0}, {\\\"x\\\": 1480.0, \\\"y\\\": 283000.0}, {\\\"x\\\": 1930.0, \\\"y\\\": 321500.0}, {\\\"x\\\": 3130.0, \\\"y\\\": 840000.0}, {\\\"x\\\": 1370.0, \\\"y\\\": 287000.0}, {\\\"x\\\": 960.0, \\\"y\\\": 375000.0}, {\\\"x\\\": 1260.0, \\\"y\\\": 349500.0}, {\\\"x\\\": 1480.0, \\\"y\\\": 446450.0}, {\\\"x\\\": 1930.0, \\\"y\\\": 315000.0}, {\\\"x\\\": 870.0, \\\"y\\\": 271310.0}, {\\\"x\\\": 1300.0, \\\"y\\\": 315000.0}, {\\\"x\\\": 1490.0, \\\"y\\\": 245000.0}, {\\\"x\\\": 1380.0, \\\"y\\\": 543115.0}, {\\\"x\\\": 1190.0, \\\"y\\\": 900000.0}, {\\\"x\\\": 4250.0, \\\"y\\\": 2450000.0}, {\\\"x\\\": 1920.0, \\\"y\\\": 554000.0}, {\\\"x\\\": 2080.0, \\\"y\\\": 249900.0}, {\\\"x\\\": 3220.0, \\\"y\\\": 768000.0}, {\\\"x\\\": 3680.0, \\\"y\\\": 980000.0}, {\\\"x\\\": 2070.0, \\\"y\\\": 395000.0}, {\\\"x\\\": 1480.0, \\\"y\\\": 415000.0}, {\\\"x\\\": 2000.0, \\\"y\\\": 380000.0}, {\\\"x\\\": 1560.0, \\\"y\\\": 566000.0}, {\\\"x\\\": 1600.0, \\\"y\\\": 218500.0}, {\\\"x\\\": 1940.0, \\\"y\\\": 550000.0}, {\\\"x\\\": 1540.0, \\\"y\\\": 512031.0}, {\\\"x\\\": 820.0, \\\"y\\\": 197500.0}, {\\\"x\\\": 1780.0, \\\"y\\\": 470000.0}, {\\\"x\\\": 1560.0, \\\"y\\\": 590000.0}, {\\\"x\\\": 2210.0, \\\"y\\\": 465000.0}, {\\\"x\\\": 2040.0, \\\"y\\\": 499000.0}, {\\\"x\\\": 1920.0, \\\"y\\\": 515000.0}, {\\\"x\\\": 1930.0, \\\"y\\\": 716500.0}, {\\\"x\\\": 1700.0, \\\"y\\\": 410000.0}, {\\\"x\\\": 3450.0, \\\"y\\\": 850000.0}, {\\\"x\\\": 3440.0, \\\"y\\\": 1050000.0}, {\\\"x\\\": 2380.0, \\\"y\\\": 648000.0}, {\\\"x\\\": 2400.0, \\\"y\\\": 620000.0}, {\\\"x\\\": 5670.0, \\\"y\\\": 935000.0}, {\\\"x\\\": 1140.0, \\\"y\\\": 379000.0}, {\\\"x\\\": 1670.0, \\\"y\\\": 699000.0}, {\\\"x\\\": 1910.0, \\\"y\\\": 528000.0}, {\\\"x\\\": 1560.0, \\\"y\\\": 425000.0}, {\\\"x\\\": 1500.0, \\\"y\\\": 249500.0}, {\\\"x\\\": 4475.0, \\\"y\\\": 1035480.0}, {\\\"x\\\": 2840.0, \\\"y\\\": 790000.0}, {\\\"x\\\": 1020.0, \\\"y\\\": 399950.0}, {\\\"x\\\": 1410.0, \\\"y\\\": 275000.0}, {\\\"x\\\": 1520.0, \\\"y\\\": 550000.0}, {\\\"x\\\": 730.0, \\\"y\\\": 140000.0}, {\\\"x\\\": 1190.0, \\\"y\\\": 250000.0}, {\\\"x\\\": 1410.0, \\\"y\\\": 318000.0}, {\\\"x\\\": 1240.0, \\\"y\\\": 505000.0}, {\\\"x\\\": 2500.0, \\\"y\\\": 470500.0}, {\\\"x\\\": 1050.0, \\\"y\\\": 360000.0}, {\\\"x\\\": 2680.0, \\\"y\\\": 1242500.0}, {\\\"x\\\": 2380.0, \\\"y\\\": 986000.0}, {\\\"x\\\": 1060.0, \\\"y\\\": 515000.0}, {\\\"x\\\": 2300.0, \\\"y\\\": 320000.0}, {\\\"x\\\": 2010.0, \\\"y\\\": 310000.0}, {\\\"x\\\": 1090.0, \\\"y\\\": 356700.0}, {\\\"x\\\": 2320.0, \\\"y\\\": 775000.0}, {\\\"x\\\": 1040.0, \\\"y\\\": 325000.0}, {\\\"x\\\": 1810.0, \\\"y\\\": 208000.0}, {\\\"x\\\": 1150.0, \\\"y\\\": 825000.0}, {\\\"x\\\": 2360.0, \\\"y\\\": 515000.0}, {\\\"x\\\": 1970.0, \\\"y\\\": 490000.0}, {\\\"x\\\": 2690.0, \\\"y\\\": 675000.0}, {\\\"x\\\": 2080.0, \\\"y\\\": 360000.0}, {\\\"x\\\": 2080.0, \\\"y\\\": 550000.0}, {\\\"x\\\": 1370.0, \\\"y\\\": 225000.0}, {\\\"x\\\": 3410.0, \\\"y\\\": 500000.0}, {\\\"x\\\": 1850.0, \\\"y\\\": 385000.0}, {\\\"x\\\": 3010.0, \\\"y\\\": 837700.0}, {\\\"x\\\": 1530.0, \\\"y\\\": 448000.0}, {\\\"x\\\": 2690.0, \\\"y\\\": 730000.0}, {\\\"x\\\": 2810.0, \\\"y\\\": 575000.0}, {\\\"x\\\": 1810.0, \\\"y\\\": 430000.0}, {\\\"x\\\": 1560.0, \\\"y\\\": 435000.0}, {\\\"x\\\": 1010.0, \\\"y\\\": 241000.0}, {\\\"x\\\": 1000.0, \\\"y\\\": 453500.0}, {\\\"x\\\": 990.0, \\\"y\\\": 285000.0}, {\\\"x\\\": 720.0, \\\"y\\\": 151000.0}, {\\\"x\\\": 6070.0, \\\"y\\\": 1570000.0}, {\\\"x\\\": 2270.0, \\\"y\\\": 631000.0}, {\\\"x\\\": 1380.0, \\\"y\\\": 285000.0}, {\\\"x\\\": 1260.0, \\\"y\\\": 195000.0}, {\\\"x\\\": 2910.0, \\\"y\\\": 817500.0}, {\\\"x\\\": 1810.0, \\\"y\\\": 550000.0}, {\\\"x\\\": 3160.0, \\\"y\\\": 1127000.0}, {\\\"x\\\": 1910.0, \\\"y\\\": 609850.0}, {\\\"x\\\": 1230.0, \\\"y\\\": 200000.0}, {\\\"x\\\": 2960.0, \\\"y\\\": 367000.0}, {\\\"x\\\": 2200.0, \\\"y\\\": 285167.0}, {\\\"x\\\": 1270.0, \\\"y\\\": 275000.0}, {\\\"x\\\": 2540.0, \\\"y\\\": 350900.0}, {\\\"x\\\": 3030.0, \\\"y\\\": 660000.0}, {\\\"x\\\": 1520.0, \\\"y\\\": 525000.0}, {\\\"x\\\": 1560.0, \\\"y\\\": 262000.0}, {\\\"x\\\": 970.0, \\\"y\\\": 690000.0}, {\\\"x\\\": 3570.0, \\\"y\\\": 624000.0}, {\\\"x\\\": 1350.0, \\\"y\\\": 353000.0}, {\\\"x\\\": 3710.0, \\\"y\\\": 552500.0}, {\\\"x\\\": 1430.0, \\\"y\\\": 224500.0}, {\\\"x\\\": 940.0, \\\"y\\\": 239000.0}, {\\\"x\\\": 4300.0, \\\"y\\\": 975000.0}, {\\\"x\\\": 3990.0, \\\"y\\\": 1200000.0}, {\\\"x\\\": 1380.0, \\\"y\\\": 505000.0}, {\\\"x\\\": 2020.0, \\\"y\\\": 302000.0}, {\\\"x\\\": 1480.0, \\\"y\\\": 170000.0}, {\\\"x\\\": 1190.0, \\\"y\\\": 195000.0}, {\\\"x\\\": 2550.0, \\\"y\\\": 272000.0}, {\\\"x\\\": 2550.0, \\\"y\\\": 369000.0}, {\\\"x\\\": 1500.0, \\\"y\\\": 332500.0}, {\\\"x\\\": 3000.0, \\\"y\\\": 515000.0}, {\\\"x\\\": 1690.0, \\\"y\\\": 269000.0}, {\\\"x\\\": 4390.0, \\\"y\\\": 1278000.0}, {\\\"x\\\": 1560.0, \\\"y\\\": 303000.0}, {\\\"x\\\": 2940.0, \\\"y\\\": 420000.0}, {\\\"x\\\": 1130.0, \\\"y\\\": 400000.0}, {\\\"x\\\": 1020.0, \\\"y\\\": 225000.0}, {\\\"x\\\": 1310.0, \\\"y\\\": 219000.0}, {\\\"x\\\": 2570.0, \\\"y\\\": 605000.0}, {\\\"x\\\": 2020.0, \\\"y\\\": 625000.0}, {\\\"x\\\": 1680.0, \\\"y\\\": 380000.0}, {\\\"x\\\": 1770.0, \\\"y\\\": 620000.0}, {\\\"x\\\": 3190.0, \\\"y\\\": 687500.0}, {\\\"x\\\": 1440.0, \\\"y\\\": 225500.0}, {\\\"x\\\": 1150.0, \\\"y\\\": 252500.0}, {\\\"x\\\": 1860.0, \\\"y\\\": 510000.0}, {\\\"x\\\": 2430.0, \\\"y\\\": 510000.0}, {\\\"x\\\": 1940.0, \\\"y\\\": 725000.0}, {\\\"x\\\": 670.0, \\\"y\\\": 75000.0}, {\\\"x\\\": 880.0, \\\"y\\\": 492000.0}, {\\\"x\\\": 1930.0, \\\"y\\\": 425000.0}, {\\\"x\\\": 3120.0, \\\"y\\\": 1955000.0}, {\\\"x\\\": 1830.0, \\\"y\\\": 298900.0}, {\\\"x\\\": 3230.0, \\\"y\\\": 699000.0}, {\\\"x\\\": 700.0, \\\"y\\\": 310000.0}, {\\\"x\\\": 1010.0, \\\"y\\\": 350000.0}, {\\\"x\\\": 2460.0, \\\"y\\\": 790000.0}, {\\\"x\\\": 2230.0, \\\"y\\\": 305000.0}, {\\\"x\\\": 1570.0, \\\"y\\\": 315000.0}, {\\\"x\\\": 2390.0, \\\"y\\\": 267500.0}, {\\\"x\\\": 3460.0, \\\"y\\\": 1750000.0}, {\\\"x\\\": 2400.0, \\\"y\\\": 435000.0}, {\\\"x\\\": 2940.0, \\\"y\\\": 482500.0}, {\\\"x\\\": 8010.0, \\\"y\\\": 5110800.0}, {\\\"x\\\": 1570.0, \\\"y\\\": 439995.0}, {\\\"x\\\": 1520.0, \\\"y\\\": 460000.0}, {\\\"x\\\": 1070.0, \\\"y\\\": 194000.0}, {\\\"x\\\": 440.0, \\\"y\\\": 290000.0}, {\\\"x\\\": 2440.0, \\\"y\\\": 274700.0}, {\\\"x\\\": 2660.0, \\\"y\\\": 900000.0}, {\\\"x\\\": 4460.0, \\\"y\\\": 1150000.0}, {\\\"x\\\": 2010.0, \\\"y\\\": 605000.0}, {\\\"x\\\": 1450.0, \\\"y\\\": 359000.0}, {\\\"x\\\": 1400.0, \\\"y\\\": 850000.0}, {\\\"x\\\": 1500.0, \\\"y\\\": 505000.0}, {\\\"x\\\": 2500.0, \\\"y\\\": 565000.0}, {\\\"x\\\": 1280.0, \\\"y\\\": 585000.0}, {\\\"x\\\": 3380.0, \\\"y\\\": 328000.0}, {\\\"x\\\": 2910.0, \\\"y\\\": 749950.0}, {\\\"x\\\": 3060.0, \\\"y\\\": 826000.0}, {\\\"x\\\": 1330.0, \\\"y\\\": 535000.0}, {\\\"x\\\": 3300.0, \\\"y\\\": 925000.0}, {\\\"x\\\": 3250.0, \\\"y\\\": 875000.0}, {\\\"x\\\": 2530.0, \\\"y\\\": 902000.0}, {\\\"x\\\": 1830.0, \\\"y\\\": 423000.0}, {\\\"x\\\": 1170.0, \\\"y\\\": 235000.0}, {\\\"x\\\": 2930.0, \\\"y\\\": 545000.0}, {\\\"x\\\": 1230.0, \\\"y\\\": 343000.0}, {\\\"x\\\": 1620.0, \\\"y\\\": 334950.0}, {\\\"x\\\": 1760.0, \\\"y\\\": 405000.0}, {\\\"x\\\": 1440.0, \\\"y\\\": 220000.0}, {\\\"x\\\": 1740.0, \\\"y\\\": 173000.0}, {\\\"x\\\": 1270.0, \\\"y\\\": 655000.0}, {\\\"x\\\": 880.0, \\\"y\\\": 406000.0}, {\\\"x\\\": 2560.0, \\\"y\\\": 632000.0}, {\\\"x\\\": 1540.0, \\\"y\\\": 357000.0}, {\\\"x\\\": 1150.0, \\\"y\\\": 361000.0}, {\\\"x\\\": 770.0, \\\"y\\\": 277000.0}, {\\\"x\\\": 4610.0, \\\"y\\\": 630000.0}, {\\\"x\\\": 1850.0, \\\"y\\\": 254000.0}, {\\\"x\\\": 1840.0, \\\"y\\\": 472800.0}, {\\\"x\\\": 1490.0, \\\"y\\\": 263000.0}, {\\\"x\\\": 1490.0, \\\"y\\\": 510000.0}, {\\\"x\\\": 960.0, \\\"y\\\": 179950.0}, {\\\"x\\\": 1580.0, \\\"y\\\": 525000.0}, {\\\"x\\\": 1260.0, \\\"y\\\": 479000.0}, {\\\"x\\\": 1940.0, \\\"y\\\": 651000.0}, {\\\"x\\\": 2490.0, \\\"y\\\": 949000.0}, {\\\"x\\\": 2520.0, \\\"y\\\": 392400.0}, {\\\"x\\\": 1760.0, \\\"y\\\": 585000.0}, {\\\"x\\\": 4190.0, \\\"y\\\": 460000.0}, {\\\"x\\\": 1170.0, \\\"y\\\": 470000.0}, {\\\"x\\\": 1600.0, \\\"y\\\": 245000.0}, {\\\"x\\\": 2760.0, \\\"y\\\": 500000.0}, {\\\"x\\\": 2090.0, \\\"y\\\": 455000.0}, {\\\"x\\\": 2320.0, \\\"y\\\": 485500.0}, {\\\"x\\\": 4110.0, \\\"y\\\": 1875000.0}, {\\\"x\\\": 770.0, \\\"y\\\": 100000.0}, {\\\"x\\\": 1410.0, \\\"y\\\": 307000.0}, {\\\"x\\\": 3660.0, \\\"y\\\": 475000.0}, {\\\"x\\\": 2180.0, \\\"y\\\": 330000.0}, {\\\"x\\\": 1110.0, \\\"y\\\": 130000.0}, {\\\"x\\\": 2280.0, \\\"y\\\": 320000.0}, {\\\"x\\\": 2820.0, \\\"y\\\": 735000.0}, {\\\"x\\\": 1570.0, \\\"y\\\": 365000.0}, {\\\"x\\\": 1200.0, \\\"y\\\": 234000.0}, {\\\"x\\\": 1710.0, \\\"y\\\": 211000.0}, {\\\"x\\\": 3000.0, \\\"y\\\": 680000.0}, {\\\"x\\\": 2800.0, \\\"y\\\": 457000.0}, {\\\"x\\\": 1640.0, \\\"y\\\": 349000.0}, {\\\"x\\\": 2030.0, \\\"y\\\": 360000.0}, {\\\"x\\\": 2530.0, \\\"y\\\": 350000.0}, {\\\"x\\\": 990.0, \\\"y\\\": 208000.0}, {\\\"x\\\": 790.0, \\\"y\\\": 250275.0}, {\\\"x\\\": 790.0, \\\"y\\\": 435000.0}, {\\\"x\\\": 1800.0, \\\"y\\\": 270000.0}, {\\\"x\\\": 1650.0, \\\"y\\\": 438000.0}, {\\\"x\\\": 1980.0, \\\"y\\\": 659000.0}, {\\\"x\\\": 2340.0, \\\"y\\\": 645000.0}, {\\\"x\\\": 2790.0, \\\"y\\\": 685100.0}, {\\\"x\\\": 2800.0, \\\"y\\\": 350000.0}, {\\\"x\\\": 1840.0, \\\"y\\\": 375000.0}, {\\\"x\\\": 1350.0, \\\"y\\\": 170000.0}, {\\\"x\\\": 3030.0, \\\"y\\\": 880000.0}, {\\\"x\\\": 1980.0, \\\"y\\\": 410500.0}, {\\\"x\\\": 3690.0, \\\"y\\\": 780000.0}, {\\\"x\\\": 3732.0, \\\"y\\\": 1225000.0}, {\\\"x\\\": 1510.0, \\\"y\\\": 449000.0}, {\\\"x\\\": 2000.0, \\\"y\\\": 546000.0}, {\\\"x\\\": 1760.0, \\\"y\\\": 317000.0}, {\\\"x\\\": 1270.0, \\\"y\\\": 276900.0}, {\\\"x\\\": 2620.0, \\\"y\\\": 399000.0}, {\\\"x\\\": 2630.0, \\\"y\\\": 495000.0}, {\\\"x\\\": 2270.0, \\\"y\\\": 258000.0}, {\\\"x\\\": 2410.0, \\\"y\\\": 600000.0}, {\\\"x\\\": 1120.0, \\\"y\\\": 265000.0}, {\\\"x\\\": 3030.0, \\\"y\\\": 321000.0}, {\\\"x\\\": 2120.0, \\\"y\\\": 682000.0}, {\\\"x\\\": 1720.0, \\\"y\\\": 295700.0}, {\\\"x\\\": 2150.0, \\\"y\\\": 609000.0}, {\\\"x\\\": 4380.0, \\\"y\\\": 995000.0}, {\\\"x\\\": 2010.0, \\\"y\\\": 530000.0}, {\\\"x\\\": 3150.0, \\\"y\\\": 614000.0}, {\\\"x\\\": 2500.0, \\\"y\\\": 390000.0}, {\\\"x\\\": 1690.0, \\\"y\\\": 467000.0}, {\\\"x\\\": 3300.0, \\\"y\\\": 484000.0}, {\\\"x\\\": 1240.0, \\\"y\\\": 340000.0}, {\\\"x\\\": 2200.0, \\\"y\\\": 302495.0}, {\\\"x\\\": 1620.0, \\\"y\\\": 532500.0}, {\\\"x\\\": 2420.0, \\\"y\\\": 441500.0}, {\\\"x\\\": 2680.0, \\\"y\\\": 470000.0}, {\\\"x\\\": 4250.0, \\\"y\\\": 2300000.0}, {\\\"x\\\": 2400.0, \\\"y\\\": 590000.0}, {\\\"x\\\": 2300.0, \\\"y\\\": 320000.0}, {\\\"x\\\": 920.0, \\\"y\\\": 363000.0}, {\\\"x\\\": 2350.0, \\\"y\\\": 747500.0}, {\\\"x\\\": 2630.0, \\\"y\\\": 750000.0}, {\\\"x\\\": 2170.0, \\\"y\\\": 831000.0}, {\\\"x\\\": 1700.0, \\\"y\\\": 403000.0}, {\\\"x\\\": 2470.0, \\\"y\\\": 445000.0}, {\\\"x\\\": 1250.0, \\\"y\\\": 345000.0}, {\\\"x\\\": 3110.0, \\\"y\\\": 2260000.0}, {\\\"x\\\": 1530.0, \\\"y\\\": 371025.0}, {\\\"x\\\": 960.0, \\\"y\\\": 355000.0}, {\\\"x\\\": 1240.0, \\\"y\\\": 270000.0}, {\\\"x\\\": 2440.0, \\\"y\\\": 425000.0}, {\\\"x\\\": 2320.0, \\\"y\\\": 364808.0}, {\\\"x\\\": 1580.0, \\\"y\\\": 320000.0}, {\\\"x\\\": 2963.0, \\\"y\\\": 325000.0}, {\\\"x\\\": 2470.0, \\\"y\\\": 350000.0}, {\\\"x\\\": 1370.0, \\\"y\\\": 170000.0}, {\\\"x\\\": 960.0, \\\"y\\\": 255000.0}, {\\\"x\\\": 1130.0, \\\"y\\\": 550000.0}, {\\\"x\\\": 4930.0, \\\"y\\\": 835000.0}, {\\\"x\\\": 1150.0, \\\"y\\\": 420000.0}, {\\\"x\\\": 2190.0, \\\"y\\\": 925000.0}, {\\\"x\\\": 1490.0, \\\"y\\\": 389250.0}, {\\\"x\\\": 2600.0, \\\"y\\\": 748000.0}, {\\\"x\\\": 1530.0, \\\"y\\\": 284000.0}, {\\\"x\\\": 1680.0, \\\"y\\\": 588000.0}, {\\\"x\\\": 1680.0, \\\"y\\\": 372500.0}, {\\\"x\\\": 1900.0, \\\"y\\\": 285000.0}, {\\\"x\\\": 1570.0, \\\"y\\\": 360000.0}, {\\\"x\\\": 1370.0, \\\"y\\\": 275000.0}, {\\\"x\\\": 1350.0, \\\"y\\\": 428000.0}, {\\\"x\\\": 3010.0, \\\"y\\\": 847000.0}, {\\\"x\\\": 1010.0, \\\"y\\\": 316000.0}, {\\\"x\\\": 2050.0, \\\"y\\\": 375000.0}, {\\\"x\\\": 1670.0, \\\"y\\\": 533000.0}, {\\\"x\\\": 3840.0, \\\"y\\\": 556000.0}, {\\\"x\\\": 2220.0, \\\"y\\\": 225000.0}, {\\\"x\\\": 2590.0, \\\"y\\\": 537250.0}, {\\\"x\\\": 1180.0, \\\"y\\\": 255000.0}, {\\\"x\\\": 2950.0, \\\"y\\\": 530000.0}, {\\\"x\\\": 7390.0, \\\"y\\\": 5300000.0}, {\\\"x\\\": 2150.0, \\\"y\\\": 595000.0}, {\\\"x\\\": 2100.0, \\\"y\\\": 548000.0}, {\\\"x\\\": 1650.0, \\\"y\\\": 234975.0}, {\\\"x\\\": 1620.0, \\\"y\\\": 600000.0}, {\\\"x\\\": 1750.0, \\\"y\\\": 432000.0}, {\\\"x\\\": 1380.0, \\\"y\\\": 455000.0}, {\\\"x\\\": 1510.0, \\\"y\\\": 279950.0}, {\\\"x\\\": 1600.0, \\\"y\\\": 267500.0}, {\\\"x\\\": 1840.0, \\\"y\\\": 620000.0}, {\\\"x\\\": 830.0, \\\"y\\\": 110000.0}, {\\\"x\\\": 1810.0, \\\"y\\\": 625000.0}, {\\\"x\\\": 910.0, \\\"y\\\": 389000.0}, {\\\"x\\\": 2120.0, \\\"y\\\": 1200000.0}, {\\\"x\\\": 2510.0, \\\"y\\\": 788500.0}, {\\\"x\\\": 2100.0, \\\"y\\\": 567000.0}, {\\\"x\\\": 2690.0, \\\"y\\\": 515000.0}, {\\\"x\\\": 2430.0, \\\"y\\\": 605000.0}, {\\\"x\\\": 2452.0, \\\"y\\\": 430000.0}, {\\\"x\\\": 1550.0, \\\"y\\\": 805000.0}, {\\\"x\\\": 2080.0, \\\"y\\\": 567500.0}, {\\\"x\\\": 1290.0, \\\"y\\\": 647500.0}, {\\\"x\\\": 1850.0, \\\"y\\\": 495000.0}, {\\\"x\\\": 3370.0, \\\"y\\\": 825000.0}, {\\\"x\\\": 2730.0, \\\"y\\\": 435000.0}, {\\\"x\\\": 1300.0, \\\"y\\\": 445950.0}, {\\\"x\\\": 3040.0, \\\"y\\\": 960000.0}, {\\\"x\\\": 2440.0, \\\"y\\\": 780000.0}, {\\\"x\\\": 1720.0, \\\"y\\\": 274500.0}, {\\\"x\\\": 3230.0, \\\"y\\\": 729953.0}, {\\\"x\\\": 1200.0, \\\"y\\\": 464950.0}, {\\\"x\\\": 2350.0, \\\"y\\\": 620000.0}, {\\\"x\\\": 3100.0, \\\"y\\\": 735000.0}, {\\\"x\\\": 2040.0, \\\"y\\\": 450000.0}, {\\\"x\\\": 2000.0, \\\"y\\\": 450000.0}, {\\\"x\\\": 2160.0, \\\"y\\\": 842500.0}, {\\\"x\\\": 1970.0, \\\"y\\\": 360000.0}, {\\\"x\\\": 2270.0, \\\"y\\\": 585000.0}, {\\\"x\\\": 1850.0, \\\"y\\\": 461000.0}, {\\\"x\\\": 1350.0, \\\"y\\\": 345000.0}, {\\\"x\\\": 3280.0, \\\"y\\\": 1075000.0}, {\\\"x\\\": 2270.0, \\\"y\\\": 643000.0}, {\\\"x\\\": 2820.0, \\\"y\\\": 690000.0}, {\\\"x\\\": 1200.0, \\\"y\\\": 282000.0}, {\\\"x\\\": 2000.0, \\\"y\\\": 549000.0}, {\\\"x\\\": 2310.0, \\\"y\\\": 815000.0}, {\\\"x\\\": 4640.0, \\\"y\\\": 2200000.0}, {\\\"x\\\": 2330.0, \\\"y\\\": 700000.0}, {\\\"x\\\": 3940.0, \\\"y\\\": 933399.0}, {\\\"x\\\": 1440.0, \\\"y\\\": 290000.0}, {\\\"x\\\": 1960.0, \\\"y\\\": 372000.0}, {\\\"x\\\": 1250.0, \\\"y\\\": 450000.0}, {\\\"x\\\": 1981.0, \\\"y\\\": 303700.0}, {\\\"x\\\": 2440.0, \\\"y\\\": 672000.0}, {\\\"x\\\": 1150.0, \\\"y\\\": 334000.0}, {\\\"x\\\": 1120.0, \\\"y\\\": 260000.0}, {\\\"x\\\": 1800.0, \\\"y\\\": 749950.0}, {\\\"x\\\": 2380.0, \\\"y\\\": 330000.0}, {\\\"x\\\": 2920.0, \\\"y\\\": 830000.0}, {\\\"x\\\": 2790.0, \\\"y\\\": 1131000.0}, {\\\"x\\\": 1560.0, \\\"y\\\": 320000.0}, {\\\"x\\\": 1550.0, \\\"y\\\": 260000.0}, {\\\"x\\\": 1700.0, \\\"y\\\": 225000.0}, {\\\"x\\\": 640.0, \\\"y\\\": 279200.0}, {\\\"x\\\": 2680.0, \\\"y\\\": 520000.0}, {\\\"x\\\": 1860.0, \\\"y\\\": 505000.0}, {\\\"x\\\": 1490.0, \\\"y\\\": 234000.0}, {\\\"x\\\": 2470.0, \\\"y\\\": 503000.0}, {\\\"x\\\": 2390.0, \\\"y\\\": 606000.0}, {\\\"x\\\": 1230.0, \\\"y\\\": 433500.0}, {\\\"x\\\": 2840.0, \\\"y\\\": 250000.0}, {\\\"x\\\": 2120.0, \\\"y\\\": 719000.0}, {\\\"x\\\": 1770.0, \\\"y\\\": 381000.0}, {\\\"x\\\": 2495.0, \\\"y\\\": 267000.0}, {\\\"x\\\": 1170.0, \\\"y\\\": 275000.0}, {\\\"x\\\": 2740.0, \\\"y\\\": 651000.0}, {\\\"x\\\": 1050.0, \\\"y\\\": 439000.0}, {\\\"x\\\": 1130.0, \\\"y\\\": 325000.0}, {\\\"x\\\": 880.0, \\\"y\\\": 490000.0}, {\\\"x\\\": 2403.0, \\\"y\\\": 519900.0}, {\\\"x\\\": 3410.0, \\\"y\\\": 545000.0}, {\\\"x\\\": 5320.0, \\\"y\\\": 1062500.0}, {\\\"x\\\": 1900.0, \\\"y\\\": 542000.0}, {\\\"x\\\": 1810.0, \\\"y\\\": 465000.0}, {\\\"x\\\": 1200.0, \\\"y\\\": 408000.0}, {\\\"x\\\": 2060.0, \\\"y\\\": 292000.0}, {\\\"x\\\": 1250.0, \\\"y\\\": 253000.0}, {\\\"x\\\": 910.0, \\\"y\\\": 280000.0}, {\\\"x\\\": 2560.0, \\\"y\\\": 658588.0}, {\\\"x\\\": 1920.0, \\\"y\\\": 635000.0}, {\\\"x\\\": 2240.0, \\\"y\\\": 439000.0}, {\\\"x\\\": 1260.0, \\\"y\\\": 300000.0}, {\\\"x\\\": 1360.0, \\\"y\\\": 345000.0}, {\\\"x\\\": 2100.0, \\\"y\\\": 283500.0}, {\\\"x\\\": 2110.0, \\\"y\\\": 425000.0}, {\\\"x\\\": 2210.0, \\\"y\\\": 685000.0}, {\\\"x\\\": 2360.0, \\\"y\\\": 750000.0}, {\\\"x\\\": 1280.0, \\\"y\\\": 245000.0}, {\\\"x\\\": 2740.0, \\\"y\\\": 585444.0}, {\\\"x\\\": 2740.0, \\\"y\\\": 706000.0}, {\\\"x\\\": 2630.0, \\\"y\\\": 445000.0}, {\\\"x\\\": 1650.0, \\\"y\\\": 241000.0}, {\\\"x\\\": 1770.0, \\\"y\\\": 1175000.0}, {\\\"x\\\": 1500.0, \\\"y\\\": 530000.0}, {\\\"x\\\": 1430.0, \\\"y\\\": 350000.0}, {\\\"x\\\": 3190.0, \\\"y\\\": 1700000.0}, {\\\"x\\\": 1280.0, \\\"y\\\": 389000.0}, {\\\"x\\\": 2390.0, \\\"y\\\": 799000.0}, {\\\"x\\\": 4040.0, \\\"y\\\": 1400000.0}, {\\\"x\\\": 920.0, \\\"y\\\": 340895.0}, {\\\"x\\\": 2730.0, \\\"y\\\": 780000.0}, {\\\"x\\\": 1320.0, \\\"y\\\": 350000.0}, {\\\"x\\\": 2620.0, \\\"y\\\": 470000.0}, {\\\"x\\\": 3180.0, \\\"y\\\": 914600.0}, {\\\"x\\\": 2900.0, \\\"y\\\": 354000.0}, {\\\"x\\\": 1900.0, \\\"y\\\": 470000.0}, {\\\"x\\\": 1760.0, \\\"y\\\": 715000.0}, {\\\"x\\\": 760.0, \\\"y\\\": 265000.0}, {\\\"x\\\": 3710.0, \\\"y\\\": 2537000.0}, {\\\"x\\\": 1530.0, \\\"y\\\": 640000.0}, {\\\"x\\\": 1990.0, \\\"y\\\": 290000.0}, {\\\"x\\\": 3830.0, \\\"y\\\": 480000.0}, {\\\"x\\\": 2040.0, \\\"y\\\": 535000.0}, {\\\"x\\\": 2170.0, \\\"y\\\": 907000.0}, {\\\"x\\\": 1620.0, \\\"y\\\": 459000.0}, {\\\"x\\\": 3600.0, \\\"y\\\": 1355000.0}, {\\\"x\\\": 1470.0, \\\"y\\\": 264950.0}, {\\\"x\\\": 1760.0, \\\"y\\\": 352950.0}, {\\\"x\\\": 2230.0, \\\"y\\\": 491500.0}, {\\\"x\\\": 3770.0, \\\"y\\\": 1229000.0}, {\\\"x\\\": 1200.0, \\\"y\\\": 369500.0}, {\\\"x\\\": 2090.0, \\\"y\\\": 566000.0}, {\\\"x\\\": 1500.0, \\\"y\\\": 290000.0}, {\\\"x\\\": 8000.0, \\\"y\\\": 5350000.0}, {\\\"x\\\": 870.0, \\\"y\\\": 180000.0}, {\\\"x\\\": 1010.0, \\\"y\\\": 215000.0}, {\\\"x\\\": 1010.0, \\\"y\\\": 302000.0}, {\\\"x\\\": 1860.0, \\\"y\\\": 352500.0}, {\\\"x\\\": 1330.0, \\\"y\\\": 235867.0}, {\\\"x\\\": 1760.0, \\\"y\\\": 500000.0}, {\\\"x\\\": 1800.0, \\\"y\\\": 382000.0}, {\\\"x\\\": 1690.0, \\\"y\\\": 515000.0}, {\\\"x\\\": 660.0, \\\"y\\\": 250000.0}, {\\\"x\\\": 2400.0, \\\"y\\\": 672500.0}, {\\\"x\\\": 3020.0, \\\"y\\\": 755000.0}, {\\\"x\\\": 1500.0, \\\"y\\\": 707500.0}, {\\\"x\\\": 1560.0, \\\"y\\\": 459000.0}, {\\\"x\\\": 1090.0, \\\"y\\\": 140000.0}, {\\\"x\\\": 970.0, \\\"y\\\": 495000.0}, {\\\"x\\\": 3190.0, \\\"y\\\": 757000.0}, {\\\"x\\\": 3190.0, \\\"y\\\": 765000.0}, {\\\"x\\\": 1890.0, \\\"y\\\": 359000.0}, {\\\"x\\\": 1050.0, \\\"y\\\": 440000.0}, {\\\"x\\\": 1390.0, \\\"y\\\": 400000.0}, {\\\"x\\\": 1700.0, \\\"y\\\": 652000.0}, {\\\"x\\\": 1050.0, \\\"y\\\": 260000.0}, {\\\"x\\\": 3340.0, \\\"y\\\": 1328000.0}, {\\\"x\\\": 1540.0, \\\"y\\\": 519500.0}, {\\\"x\\\": 1710.0, \\\"y\\\": 650000.0}, {\\\"x\\\": 2100.0, \\\"y\\\": 280000.0}, {\\\"x\\\": 1730.0, \\\"y\\\": 515000.0}, {\\\"x\\\": 1500.0, \\\"y\\\": 400000.0}, {\\\"x\\\": 2380.0, \\\"y\\\": 652100.0}, {\\\"x\\\": 2180.0, \\\"y\\\": 235000.0}, {\\\"x\\\": 1840.0, \\\"y\\\": 701000.0}, {\\\"x\\\": 2341.0, \\\"y\\\": 640000.0}, {\\\"x\\\": 1690.0, \\\"y\\\": 455800.0}, {\\\"x\\\": 2490.0, \\\"y\\\": 504750.0}, {\\\"x\\\": 2440.0, \\\"y\\\": 483000.0}, {\\\"x\\\": 920.0, \\\"y\\\": 530000.0}, {\\\"x\\\": 1030.0, \\\"y\\\": 250000.0}, {\\\"x\\\": 2000.0, \\\"y\\\": 229950.0}, {\\\"x\\\": 4210.0, \\\"y\\\": 884744.0}, {\\\"x\\\": 1610.0, \\\"y\\\": 514000.0}, {\\\"x\\\": 1910.0, \\\"y\\\": 532000.0}, {\\\"x\\\": 2660.0, \\\"y\\\": 423000.0}, {\\\"x\\\": 820.0, \\\"y\\\": 420000.0}, {\\\"x\\\": 1730.0, \\\"y\\\": 521000.0}, {\\\"x\\\": 2360.0, \\\"y\\\": 577000.0}, {\\\"x\\\": 970.0, \\\"y\\\": 425000.0}, {\\\"x\\\": 2460.0, \\\"y\\\": 495000.0}, {\\\"x\\\": 2690.0, \\\"y\\\": 340000.0}, {\\\"x\\\": 1820.0, \\\"y\\\": 499950.0}, {\\\"x\\\": 3470.0, \\\"y\\\": 1218000.0}, {\\\"x\\\": 3370.0, \\\"y\\\": 720000.0}, {\\\"x\\\": 1700.0, \\\"y\\\": 249000.0}, {\\\"x\\\": 1340.0, \\\"y\\\": 206135.0}, {\\\"x\\\": 2000.0, \\\"y\\\": 300000.0}, {\\\"x\\\": 3840.0, \\\"y\\\": 612000.0}, {\\\"x\\\": 3890.0, \\\"y\\\": 1102030.0}, {\\\"x\\\": 1220.0, \\\"y\\\": 230000.0}, {\\\"x\\\": 2280.0, \\\"y\\\": 850000.0}, {\\\"x\\\": 2770.0, \\\"y\\\": 355000.0}, {\\\"x\\\": 2520.0, \\\"y\\\": 442000.0}, {\\\"x\\\": 3060.0, \\\"y\\\": 399000.0}, {\\\"x\\\": 2390.0, \\\"y\\\": 360000.0}, {\\\"x\\\": 1320.0, \\\"y\\\": 390000.0}, {\\\"x\\\": 2900.0, \\\"y\\\": 413000.0}, {\\\"x\\\": 700.0, \\\"y\\\": 190000.0}, {\\\"x\\\": 2210.0, \\\"y\\\": 432900.0}, {\\\"x\\\": 2180.0, \\\"y\\\": 621138.0}, {\\\"x\\\": 2080.0, \\\"y\\\": 270000.0}, {\\\"x\\\": 2090.0, \\\"y\\\": 610000.0}, {\\\"x\\\": 1720.0, \\\"y\\\": 500000.0}, {\\\"x\\\": 2460.0, \\\"y\\\": 715000.0}, {\\\"x\\\": 1470.0, \\\"y\\\": 264000.0}, {\\\"x\\\": 1650.0, \\\"y\\\": 550000.0}, {\\\"x\\\": 1690.0, \\\"y\\\": 337000.0}, {\\\"x\\\": 970.0, \\\"y\\\": 170000.0}, {\\\"x\\\": 2030.0, \\\"y\\\": 405000.0}, {\\\"x\\\": 2540.0, \\\"y\\\": 775000.0}, {\\\"x\\\": 1570.0, \\\"y\\\": 425000.0}, {\\\"x\\\": 2580.0, \\\"y\\\": 713000.0}, {\\\"x\\\": 2090.0, \\\"y\\\": 555000.0}, {\\\"x\\\": 3260.0, \\\"y\\\": 810000.0}, {\\\"x\\\": 3830.0, \\\"y\\\": 1250000.0}, {\\\"x\\\": 2130.0, \\\"y\\\": 819000.0}, {\\\"x\\\": 1690.0, \\\"y\\\": 409900.0}, {\\\"x\\\": 1780.0, \\\"y\\\": 935000.0}, {\\\"x\\\": 1620.0, \\\"y\\\": 657500.0}, {\\\"x\\\": 4210.0, \\\"y\\\": 900000.0}, {\\\"x\\\": 2980.0, \\\"y\\\": 932800.0}, {\\\"x\\\": 1490.0, \\\"y\\\": 391000.0}, {\\\"x\\\": 2110.0, \\\"y\\\": 420000.0}, {\\\"x\\\": 6563.0, \\\"y\\\": 1300000.0}, {\\\"x\\\": 1510.0, \\\"y\\\": 415000.0}, {\\\"x\\\": 1830.0, \\\"y\\\": 350000.0}, {\\\"x\\\": 1230.0, \\\"y\\\": 375000.0}, {\\\"x\\\": 2180.0, \\\"y\\\": 860000.0}, {\\\"x\\\": 2220.0, \\\"y\\\": 495000.0}, {\\\"x\\\": 1730.0, \\\"y\\\": 250000.0}, {\\\"x\\\": 1990.0, \\\"y\\\": 365000.0}, {\\\"x\\\": 1540.0, \\\"y\\\": 503000.0}, {\\\"x\\\": 1100.0, \\\"y\\\": 150000.0}, {\\\"x\\\": 1640.0, \\\"y\\\": 450000.0}, {\\\"x\\\": 2590.0, \\\"y\\\": 355000.0}, {\\\"x\\\": 1450.0, \\\"y\\\": 245000.0}, {\\\"x\\\": 1180.0, \\\"y\\\": 265900.0}, {\\\"x\\\": 1820.0, \\\"y\\\": 299000.0}, {\\\"x\\\": 2360.0, \\\"y\\\": 957500.0}, {\\\"x\\\": 1120.0, \\\"y\\\": 343000.0}, {\\\"x\\\": 1646.0, \\\"y\\\": 307500.0}, {\\\"x\\\": 4210.0, \\\"y\\\": 937500.0}, {\\\"x\\\": 2480.0, \\\"y\\\": 610000.0}, {\\\"x\\\": 1590.0, \\\"y\\\": 720000.0}, {\\\"x\\\": 2130.0, \\\"y\\\": 610000.0}, {\\\"x\\\": 1650.0, \\\"y\\\": 434500.0}, {\\\"x\\\": 3090.0, \\\"y\\\": 602500.0}, {\\\"x\\\": 2180.0, \\\"y\\\": 607010.0}, {\\\"x\\\": 1800.0, \\\"y\\\": 610000.0}, {\\\"x\\\": 3720.0, \\\"y\\\": 828500.0}, {\\\"x\\\": 1100.0, \\\"y\\\": 199990.0}, {\\\"x\\\": 1530.0, \\\"y\\\": 294000.0}, {\\\"x\\\": 3010.0, \\\"y\\\": 789500.0}, {\\\"x\\\": 3500.0, \\\"y\\\": 797000.0}, {\\\"x\\\": 3100.0, \\\"y\\\": 539950.0}, {\\\"x\\\": 2000.0, \\\"y\\\": 284950.0}, {\\\"x\\\": 2290.0, \\\"y\\\": 776500.0}, {\\\"x\\\": 2400.0, \\\"y\\\": 525000.0}, {\\\"x\\\": 1850.0, \\\"y\\\": 303000.0}, {\\\"x\\\": 3680.0, \\\"y\\\": 722080.0}, {\\\"x\\\": 1060.0, \\\"y\\\": 140000.0}, {\\\"x\\\": 1060.0, \\\"y\\\": 235000.0}, {\\\"x\\\": 1610.0, \\\"y\\\": 440000.0}, {\\\"x\\\": 2330.0, \\\"y\\\": 605000.0}, {\\\"x\\\": 1210.0, \\\"y\\\": 380000.0}, {\\\"x\\\": 1530.0, \\\"y\\\": 352000.0}, {\\\"x\\\": 2270.0, \\\"y\\\": 420000.0}, {\\\"x\\\": 2590.0, \\\"y\\\": 1175000.0}, {\\\"x\\\": 1850.0, \\\"y\\\": 1375000.0}, {\\\"x\\\": 1500.0, \\\"y\\\": 300000.0}, {\\\"x\\\": 4740.0, \\\"y\\\": 1150000.0}, {\\\"x\\\": 1710.0, \\\"y\\\": 453500.0}, {\\\"x\\\": 1920.0, \\\"y\\\": 443500.0}, {\\\"x\\\": 1150.0, \\\"y\\\": 332000.0}, {\\\"x\\\": 2320.0, \\\"y\\\": 655000.0}, {\\\"x\\\": 1420.0, \\\"y\\\": 475000.0}, {\\\"x\\\": 1550.0, \\\"y\\\": 372500.0}, {\\\"x\\\": 2920.0, \\\"y\\\": 1050000.0}, {\\\"x\\\": 1620.0, \\\"y\\\": 500000.0}, {\\\"x\\\": 2300.0, \\\"y\\\": 900000.0}, {\\\"x\\\": 1070.0, \\\"y\\\": 327500.0}, {\\\"x\\\": 1790.0, \\\"y\\\": 390000.0}, {\\\"x\\\": 1510.0, \\\"y\\\": 451101.0}, {\\\"x\\\": 1340.0, \\\"y\\\": 455000.0}, {\\\"x\\\": 3350.0, \\\"y\\\": 650000.0}, {\\\"x\\\": 2500.0, \\\"y\\\": 895000.0}, {\\\"x\\\": 2350.0, \\\"y\\\": 800000.0}, {\\\"x\\\": 2550.0, \\\"y\\\": 703770.0}, {\\\"x\\\": 1320.0, \\\"y\\\": 249950.0}, {\\\"x\\\": 1270.0, \\\"y\\\": 512000.0}, {\\\"x\\\": 3480.0, \\\"y\\\": 780000.0}, {\\\"x\\\": 2820.0, \\\"y\\\": 336000.0}, {\\\"x\\\": 2110.0, \\\"y\\\": 285000.0}, {\\\"x\\\": 1100.0, \\\"y\\\": 229900.0}, {\\\"x\\\": 1920.0, \\\"y\\\": 667500.0}, {\\\"x\\\": 1890.0, \\\"y\\\": 378000.0}, {\\\"x\\\": 2530.0, \\\"y\\\": 454000.0}, {\\\"x\\\": 2550.0, \\\"y\\\": 537500.0}, {\\\"x\\\": 1550.0, \\\"y\\\": 425000.0}, {\\\"x\\\": 1760.0, \\\"y\\\": 290000.0}, {\\\"x\\\": 1270.0, \\\"y\\\": 349500.0}, {\\\"x\\\": 1250.0, \\\"y\\\": 370000.0}, {\\\"x\\\": 1620.0, \\\"y\\\": 549500.0}, {\\\"x\\\": 710.0, \\\"y\\\": 245000.0}, {\\\"x\\\": 1070.0, \\\"y\\\": 208000.0}, {\\\"x\\\": 2320.0, \\\"y\\\": 248000.0}, {\\\"x\\\": 5450.0, \\\"y\\\": 610000.0}, {\\\"x\\\": 1670.0, \\\"y\\\": 550000.0}, {\\\"x\\\": 3010.0, \\\"y\\\": 750000.0}, {\\\"x\\\": 1340.0, \\\"y\\\": 192000.0}, {\\\"x\\\": 790.0, \\\"y\\\": 169317.0}, {\\\"x\\\": 3400.0, \\\"y\\\": 1198000.0}, {\\\"x\\\": 1530.0, \\\"y\\\": 880000.0}, {\\\"x\\\": 930.0, \\\"y\\\": 210000.0}, {\\\"x\\\": 1540.0, \\\"y\\\": 180500.0}, {\\\"x\\\": 1990.0, \\\"y\\\": 540000.0}, {\\\"x\\\": 2300.0, \\\"y\\\": 520000.0}, {\\\"x\\\": 1220.0, \\\"y\\\": 177500.0}, {\\\"x\\\": 2380.0, \\\"y\\\": 415000.0}, {\\\"x\\\": 2020.0, \\\"y\\\": 495000.0}, {\\\"x\\\": 1890.0, \\\"y\\\": 325000.0}, {\\\"x\\\": 1330.0, \\\"y\\\": 440000.0}, {\\\"x\\\": 1490.0, \\\"y\\\": 411000.0}, {\\\"x\\\": 3550.0, \\\"y\\\": 810000.0}, {\\\"x\\\": 2040.0, \\\"y\\\": 561750.0}, {\\\"x\\\": 2380.0, \\\"y\\\": 835100.0}, {\\\"x\\\": 1780.0, \\\"y\\\": 450000.0}, {\\\"x\\\": 1650.0, \\\"y\\\": 238000.0}, {\\\"x\\\": 1510.0, \\\"y\\\": 299000.0}, {\\\"x\\\": 1100.0, \\\"y\\\": 570000.0}, {\\\"x\\\": 2190.0, \\\"y\\\": 340000.0}, {\\\"x\\\": 1760.0, \\\"y\\\": 450000.0}, {\\\"x\\\": 1800.0, \\\"y\\\": 272750.0}, {\\\"x\\\": 2000.0, \\\"y\\\": 520000.0}, {\\\"x\\\": 990.0, \\\"y\\\": 284950.0}, {\\\"x\\\": 1480.0, \\\"y\\\": 255000.0}, {\\\"x\\\": 1200.0, \\\"y\\\": 231500.0}, {\\\"x\\\": 3000.0, \\\"y\\\": 415000.0}, {\\\"x\\\": 3504.0, \\\"y\\\": 330000.0}, {\\\"x\\\": 1300.0, \\\"y\\\": 365000.0}, {\\\"x\\\": 1330.0, \\\"y\\\": 425000.0}, {\\\"x\\\": 1850.0, \\\"y\\\": 400000.0}, {\\\"x\\\": 2240.0, \\\"y\\\": 335000.0}, {\\\"x\\\": 1260.0, \\\"y\\\": 342000.0}, {\\\"x\\\": 2800.0, \\\"y\\\": 490000.0}, {\\\"x\\\": 1820.0, \\\"y\\\": 331500.0}, {\\\"x\\\": 1730.0, \\\"y\\\": 960000.0}, {\\\"x\\\": 3350.0, \\\"y\\\": 720500.0}, {\\\"x\\\": 3370.0, \\\"y\\\": 830000.0}, {\\\"x\\\": 1240.0, \\\"y\\\": 662990.0}, {\\\"x\\\": 2340.0, \\\"y\\\": 220000.0}, {\\\"x\\\": 1880.0, \\\"y\\\": 349950.0}, {\\\"x\\\": 1810.0, \\\"y\\\": 550000.0}, {\\\"x\\\": 2340.0, \\\"y\\\": 396000.0}, {\\\"x\\\": 2820.0, \\\"y\\\": 635000.0}, {\\\"x\\\": 1020.0, \\\"y\\\": 293000.0}, {\\\"x\\\": 2090.0, \\\"y\\\": 339000.0}, {\\\"x\\\": 1830.0, \\\"y\\\": 285000.0}, {\\\"x\\\": 2980.0, \\\"y\\\": 775000.0}, {\\\"x\\\": 1600.0, \\\"y\\\": 224000.0}, {\\\"x\\\": 4440.0, \\\"y\\\": 2250000.0}, {\\\"x\\\": 1200.0, \\\"y\\\": 165050.0}, {\\\"x\\\": 1230.0, \\\"y\\\": 275000.0}, {\\\"x\\\": 2930.0, \\\"y\\\": 445000.0}, {\\\"x\\\": 2370.0, \\\"y\\\": 510000.0}, {\\\"x\\\": 3040.0, \\\"y\\\": 1230000.0}, {\\\"x\\\": 1610.0, \\\"y\\\": 390000.0}, {\\\"x\\\": 2350.0, \\\"y\\\": 460000.0}, {\\\"x\\\": 2000.0, \\\"y\\\": 700000.0}, {\\\"x\\\": 3530.0, \\\"y\\\": 874150.0}, {\\\"x\\\": 2220.0, \\\"y\\\": 470000.0}, {\\\"x\\\": 2000.0, \\\"y\\\": 374000.0}, {\\\"x\\\": 1210.0, \\\"y\\\": 510000.0}, {\\\"x\\\": 1140.0, \\\"y\\\": 467000.0}, {\\\"x\\\": 2440.0, \\\"y\\\": 576000.0}, {\\\"x\\\": 1560.0, \\\"y\\\": 196440.0}, {\\\"x\\\": 3210.0, \\\"y\\\": 825000.0}, {\\\"x\\\": 930.0, \\\"y\\\": 281000.0}, {\\\"x\\\": 1782.0, \\\"y\\\": 326000.0}, {\\\"x\\\": 1740.0, \\\"y\\\": 340000.0}, {\\\"x\\\": 3690.0, \\\"y\\\": 440000.0}, {\\\"x\\\": 2930.0, \\\"y\\\": 749000.0}, {\\\"x\\\": 1230.0, \\\"y\\\": 340000.0}, {\\\"x\\\": 2000.0, \\\"y\\\": 561000.0}, {\\\"x\\\": 1520.0, \\\"y\\\": 270000.0}, {\\\"x\\\": 1040.0, \\\"y\\\": 600000.0}, {\\\"x\\\": 1120.0, \\\"y\\\": 219900.0}, {\\\"x\\\": 3020.0, \\\"y\\\": 617000.0}, {\\\"x\\\": 1820.0, \\\"y\\\": 469000.0}, {\\\"x\\\": 1370.0, \\\"y\\\": 229000.0}, {\\\"x\\\": 3130.0, \\\"y\\\": 1265000.0}, {\\\"x\\\": 1640.0, \\\"y\\\": 365000.0}, {\\\"x\\\": 2650.0, \\\"y\\\": 429000.0}, {\\\"x\\\": 2850.0, \\\"y\\\": 550000.0}, {\\\"x\\\": 1820.0, \\\"y\\\": 453000.0}, {\\\"x\\\": 1180.0, \\\"y\\\": 187500.0}, {\\\"x\\\": 1880.0, \\\"y\\\": 520500.0}, {\\\"x\\\": 1280.0, \\\"y\\\": 300000.0}, {\\\"x\\\": 3120.0, \\\"y\\\": 799000.0}, {\\\"x\\\": 2470.0, \\\"y\\\": 338000.0}, {\\\"x\\\": 1700.0, \\\"y\\\": 800000.0}, {\\\"x\\\": 1180.0, \\\"y\\\": 360000.0}, {\\\"x\\\": 2800.0, \\\"y\\\": 442500.0}, {\\\"x\\\": 1300.0, \\\"y\\\": 700000.0}, {\\\"x\\\": 3040.0, \\\"y\\\": 830000.0}, {\\\"x\\\": 1630.0, \\\"y\\\": 360400.0}, {\\\"x\\\": 1340.0, \\\"y\\\": 345000.0}, {\\\"x\\\": 1830.0, \\\"y\\\": 300000.0}, {\\\"x\\\": 1240.0, \\\"y\\\": 350000.0}, {\\\"x\\\": 2500.0, \\\"y\\\": 368000.0}, {\\\"x\\\": 1760.0, \\\"y\\\": 264000.0}, {\\\"x\\\": 2660.0, \\\"y\\\": 435000.0}, {\\\"x\\\": 2060.0, \\\"y\\\": 200000.0}, {\\\"x\\\": 2540.0, \\\"y\\\": 620000.0}, {\\\"x\\\": 4830.0, \\\"y\\\": 1679000.0}, {\\\"x\\\": 1400.0, \\\"y\\\": 337000.0}, {\\\"x\\\": 4280.0, \\\"y\\\": 1928000.0}, {\\\"x\\\": 2230.0, \\\"y\\\": 544500.0}, {\\\"x\\\": 680.0, \\\"y\\\": 252000.0}, {\\\"x\\\": 2340.0, \\\"y\\\": 445000.0}, {\\\"x\\\": 2070.0, \\\"y\\\": 379500.0}, {\\\"x\\\": 1910.0, \\\"y\\\": 189950.0}, {\\\"x\\\": 950.0, \\\"y\\\": 469000.0}, {\\\"x\\\": 2910.0, \\\"y\\\": 600000.0}, {\\\"x\\\": 2930.0, \\\"y\\\": 785000.0}, {\\\"x\\\": 2610.0, \\\"y\\\": 372000.0}, {\\\"x\\\": 3880.0, \\\"y\\\": 445000.0}, {\\\"x\\\": 3320.0, \\\"y\\\": 508000.0}, {\\\"x\\\": 1940.0, \\\"y\\\": 780000.0}, {\\\"x\\\": 2510.0, \\\"y\\\": 541100.0}, {\\\"x\\\": 2660.0, \\\"y\\\": 729000.0}, {\\\"x\\\": 1710.0, \\\"y\\\": 397000.0}, {\\\"x\\\": 1320.0, \\\"y\\\": 451555.0}, {\\\"x\\\": 960.0, \\\"y\\\": 300000.0}, {\\\"x\\\": 1790.0, \\\"y\\\": 416000.0}, {\\\"x\\\": 950.0, \\\"y\\\": 490000.0}, {\\\"x\\\": 2940.0, \\\"y\\\": 480000.0}, {\\\"x\\\": 930.0, \\\"y\\\": 368000.0}, {\\\"x\\\": 4570.0, \\\"y\\\": 1038000.0}, {\\\"x\\\": 2370.0, \\\"y\\\": 545000.0}, {\\\"x\\\": 3430.0, \\\"y\\\": 850000.0}, {\\\"x\\\": 3540.0, \\\"y\\\": 550000.0}, {\\\"x\\\": 2240.0, \\\"y\\\": 600000.0}, {\\\"x\\\": 2710.0, \\\"y\\\": 535000.0}, {\\\"x\\\": 2660.0, \\\"y\\\": 599950.0}, {\\\"x\\\": 2540.0, \\\"y\\\": 531000.0}, {\\\"x\\\": 2210.0, \\\"y\\\": 530000.0}, {\\\"x\\\": 3570.0, \\\"y\\\": 597326.0}, {\\\"x\\\": 3450.0, \\\"y\\\": 805000.0}, {\\\"x\\\": 2330.0, \\\"y\\\": 390000.0}, {\\\"x\\\": 1690.0, \\\"y\\\": 487250.0}, {\\\"x\\\": 1030.0, \\\"y\\\": 301000.0}, {\\\"x\\\": 2560.0, \\\"y\\\": 1175000.0}, {\\\"x\\\": 1950.0, \\\"y\\\": 299000.0}, {\\\"x\\\": 4370.0, \\\"y\\\": 2350000.0}, {\\\"x\\\": 2350.0, \\\"y\\\": 400000.0}, {\\\"x\\\": 3160.0, \\\"y\\\": 467500.0}, {\\\"x\\\": 2430.0, \\\"y\\\": 305000.0}, {\\\"x\\\": 1340.0, \\\"y\\\": 210000.0}, {\\\"x\\\": 1010.0, \\\"y\\\": 300000.0}, {\\\"x\\\": 1770.0, \\\"y\\\": 327500.0}, {\\\"x\\\": 1210.0, \\\"y\\\": 269000.0}, {\\\"x\\\": 3330.0, \\\"y\\\": 975000.0}, {\\\"x\\\": 1240.0, \\\"y\\\": 355000.0}, {\\\"x\\\": 1250.0, \\\"y\\\": 712000.0}, {\\\"x\\\": 2960.0, \\\"y\\\": 883000.0}, {\\\"x\\\": 840.0, \\\"y\\\": 190000.0}, {\\\"x\\\": 1530.0, \\\"y\\\": 443000.0}, {\\\"x\\\": 3750.0, \\\"y\\\": 920000.0}, {\\\"x\\\": 2150.0, \\\"y\\\": 285000.0}, {\\\"x\\\": 1560.0, \\\"y\\\": 901000.0}, {\\\"x\\\": 2040.0, \\\"y\\\": 552500.0}, {\\\"x\\\": 860.0, \\\"y\\\": 256000.0}, {\\\"x\\\": 1720.0, \\\"y\\\": 341000.0}, {\\\"x\\\": 2090.0, \\\"y\\\": 279000.0}, {\\\"x\\\": 2130.0, \\\"y\\\": 686000.0}, {\\\"x\\\": 1300.0, \\\"y\\\": 225000.0}, {\\\"x\\\": 1220.0, \\\"y\\\": 215500.0}, {\\\"x\\\": 2420.0, \\\"y\\\": 950000.0}, {\\\"x\\\": 2940.0, \\\"y\\\": 503000.0}, {\\\"x\\\": 2610.0, \\\"y\\\": 780000.0}, {\\\"x\\\": 1880.0, \\\"y\\\": 212000.0}, {\\\"x\\\": 2330.0, \\\"y\\\": 580000.0}, {\\\"x\\\": 2200.0, \\\"y\\\": 465000.0}, {\\\"x\\\": 1720.0, \\\"y\\\": 206000.0}, {\\\"x\\\": 2250.0, \\\"y\\\": 615000.0}, {\\\"x\\\": 1640.0, \\\"y\\\": 519000.0}, {\\\"x\\\": 4130.0, \\\"y\\\": 1135000.0}, {\\\"x\\\": 2600.0, \\\"y\\\": 330000.0}, {\\\"x\\\": 1920.0, \\\"y\\\": 240000.0}, {\\\"x\\\": 2060.0, \\\"y\\\": 574000.0}, {\\\"x\\\": 5710.0, \\\"y\\\": 930000.0}, {\\\"x\\\": 2720.0, \\\"y\\\": 850000.0}, {\\\"x\\\": 1490.0, \\\"y\\\": 415000.0}, {\\\"x\\\": 2360.0, \\\"y\\\": 480000.0}, {\\\"x\\\": 1940.0, \\\"y\\\": 300000.0}, {\\\"x\\\": 2570.0, \\\"y\\\": 439000.0}, {\\\"x\\\": 1160.0, \\\"y\\\": 450000.0}, {\\\"x\\\": 2660.0, \\\"y\\\": 589000.0}, {\\\"x\\\": 1260.0, \\\"y\\\": 477000.0}, {\\\"x\\\": 1780.0, \\\"y\\\": 587500.0}, {\\\"x\\\": 3180.0, \\\"y\\\": 1315000.0}, {\\\"x\\\": 3380.0, \\\"y\\\": 1430000.0}, {\\\"x\\\": 2690.0, \\\"y\\\": 700000.0}, {\\\"x\\\": 1180.0, \\\"y\\\": 275000.0}, {\\\"x\\\": 1660.0, \\\"y\\\": 367500.0}, {\\\"x\\\": 2260.0, \\\"y\\\": 453250.0}, {\\\"x\\\": 1910.0, \\\"y\\\": 607000.0}, {\\\"x\\\": 2430.0, \\\"y\\\": 255000.0}, {\\\"x\\\": 1300.0, \\\"y\\\": 501000.0}, {\\\"x\\\": 1060.0, \\\"y\\\": 450000.0}, {\\\"x\\\": 2200.0, \\\"y\\\": 360000.0}, {\\\"x\\\": 1720.0, \\\"y\\\": 460000.0}, {\\\"x\\\": 2360.0, \\\"y\\\": 753000.0}, {\\\"x\\\": 820.0, \\\"y\\\": 389950.0}, {\\\"x\\\": 1030.0, \\\"y\\\": 469000.0}, {\\\"x\\\": 2030.0, \\\"y\\\": 550000.0}, {\\\"x\\\": 2700.0, \\\"y\\\": 565000.0}, {\\\"x\\\": 1100.0, \\\"y\\\": 189650.0}, {\\\"x\\\": 3620.0, \\\"y\\\": 1525000.0}, {\\\"x\\\": 1340.0, \\\"y\\\": 260000.0}, {\\\"x\\\": 1790.0, \\\"y\\\": 243000.0}, {\\\"x\\\": 3830.0, \\\"y\\\": 1100000.0}, {\\\"x\\\": 1580.0, \\\"y\\\": 249000.0}, {\\\"x\\\": 2020.0, \\\"y\\\": 720000.0}, {\\\"x\\\": 3330.0, \\\"y\\\": 905000.0}, {\\\"x\\\": 2610.0, \\\"y\\\": 824500.0}, {\\\"x\\\": 2610.0, \\\"y\\\": 762500.0}, {\\\"x\\\": 1740.0, \\\"y\\\": 580000.0}, {\\\"x\\\": 1840.0, \\\"y\\\": 380000.0}, {\\\"x\\\": 1080.0, \\\"y\\\": 805000.0}, {\\\"x\\\": 1240.0, \\\"y\\\": 520000.0}, {\\\"x\\\": 5620.0, \\\"y\\\": 1569500.0}, {\\\"x\\\": 1170.0, \\\"y\\\": 175000.0}, {\\\"x\\\": 1760.0, \\\"y\\\": 353500.0}, {\\\"x\\\": 2230.0, \\\"y\\\": 500000.0}, {\\\"x\\\": 1520.0, \\\"y\\\": 386500.0}, {\\\"x\\\": 1450.0, \\\"y\\\": 210000.0}, {\\\"x\\\": 1600.0, \\\"y\\\": 439500.0}, {\\\"x\\\": 3220.0, \\\"y\\\": 315000.0}, {\\\"x\\\": 1830.0, \\\"y\\\": 339000.0}, {\\\"x\\\": 2200.0, \\\"y\\\": 655000.0}, {\\\"x\\\": 2170.0, \\\"y\\\": 740000.0}, {\\\"x\\\": 1900.0, \\\"y\\\": 685000.0}, {\\\"x\\\": 2960.0, \\\"y\\\": 550000.0}, {\\\"x\\\": 1710.0, \\\"y\\\": 405000.0}, {\\\"x\\\": 2620.0, \\\"y\\\": 765000.0}, {\\\"x\\\": 2140.0, \\\"y\\\": 625000.0}, {\\\"x\\\": 2100.0, \\\"y\\\": 207000.0}, {\\\"x\\\": 2100.0, \\\"y\\\": 370000.0}, {\\\"x\\\": 1460.0, \\\"y\\\": 475000.0}, {\\\"x\\\": 990.0, \\\"y\\\": 365000.0}, {\\\"x\\\": 2190.0, \\\"y\\\": 411800.0}, {\\\"x\\\": 3990.0, \\\"y\\\": 668000.0}, {\\\"x\\\": 2340.0, \\\"y\\\": 618000.0}, {\\\"x\\\": 2460.0, \\\"y\\\": 247500.0}, {\\\"x\\\": 2080.0, \\\"y\\\": 345000.0}, {\\\"x\\\": 1700.0, \\\"y\\\": 616300.0}, {\\\"x\\\": 1330.0, \\\"y\\\": 348000.0}, {\\\"x\\\": 1630.0, \\\"y\\\": 425000.0}, {\\\"x\\\": 2920.0, \\\"y\\\": 850000.0}, {\\\"x\\\": 2830.0, \\\"y\\\": 820000.0}, {\\\"x\\\": 3190.0, \\\"y\\\": 832000.0}, {\\\"x\\\": 1490.0, \\\"y\\\": 835000.0}, {\\\"x\\\": 1630.0, \\\"y\\\": 350000.0}, {\\\"x\\\": 2280.0, \\\"y\\\": 349000.0}, {\\\"x\\\": 3010.0, \\\"y\\\": 1125000.0}, {\\\"x\\\": 1590.0, \\\"y\\\": 320000.0}, {\\\"x\\\": 1250.0, \\\"y\\\": 150000.0}, {\\\"x\\\": 1710.0, \\\"y\\\": 340000.0}, {\\\"x\\\": 3280.0, \\\"y\\\": 785500.0}, {\\\"x\\\": 3362.0, \\\"y\\\": 410500.0}, {\\\"x\\\": 2200.0, \\\"y\\\": 580000.0}, {\\\"x\\\": 830.0, \\\"y\\\": 345000.0}, {\\\"x\\\": 2160.0, \\\"y\\\": 550000.0}, {\\\"x\\\": 2580.0, \\\"y\\\": 449500.0}, {\\\"x\\\": 2150.0, \\\"y\\\": 300000.0}, {\\\"x\\\": 3510.0, \\\"y\\\": 915000.0}, {\\\"x\\\": 3810.0, \\\"y\\\": 1575000.0}, {\\\"x\\\": 2020.0, \\\"y\\\": 599000.0}, {\\\"x\\\": 2120.0, \\\"y\\\": 755000.0}, {\\\"x\\\": 1250.0, \\\"y\\\": 400000.0}, {\\\"x\\\": 980.0, \\\"y\\\": 133000.0}, {\\\"x\\\": 1250.0, \\\"y\\\": 330000.0}, {\\\"x\\\": 1100.0, \\\"y\\\": 330000.0}, {\\\"x\\\": 1330.0, \\\"y\\\": 375000.0}, {\\\"x\\\": 2560.0, \\\"y\\\": 485000.0}, {\\\"x\\\": 1850.0, \\\"y\\\": 470000.0}, {\\\"x\\\": 2790.0, \\\"y\\\": 1045000.0}, {\\\"x\\\": 1660.0, \\\"y\\\": 548800.0}, {\\\"x\\\": 1080.0, \\\"y\\\": 315000.0}, {\\\"x\\\": 3030.0, \\\"y\\\": 590000.0}, {\\\"x\\\": 2380.0, \\\"y\\\": 439950.0}, {\\\"x\\\": 2250.0, \\\"y\\\": 325000.0}, {\\\"x\\\": 880.0, \\\"y\\\": 400000.0}, {\\\"x\\\": 2770.0, \\\"y\\\": 685000.0}, {\\\"x\\\": 1340.0, \\\"y\\\": 339950.0}, {\\\"x\\\": 1660.0, \\\"y\\\": 315000.0}, {\\\"x\\\": 1710.0, \\\"y\\\": 411753.0}, {\\\"x\\\": 1620.0, \\\"y\\\": 577000.0}, {\\\"x\\\": 1530.0, \\\"y\\\": 500000.0}, {\\\"x\\\": 1440.0, \\\"y\\\": 210000.0}, {\\\"x\\\": 2020.0, \\\"y\\\": 640000.0}, {\\\"x\\\": 1870.0, \\\"y\\\": 460000.0}, {\\\"x\\\": 620.0, \\\"y\\\": 265000.0}, {\\\"x\\\": 5774.0, \\\"y\\\": 740000.0}, {\\\"x\\\": 1240.0, \\\"y\\\": 230000.0}, {\\\"x\\\": 1890.0, \\\"y\\\": 315000.0}, {\\\"x\\\": 2410.0, \\\"y\\\": 432000.0}, {\\\"x\\\": 1530.0, \\\"y\\\": 467000.0}, {\\\"x\\\": 2800.0, \\\"y\\\": 255000.0}, {\\\"x\\\": 1460.0, \\\"y\\\": 316500.0}, {\\\"x\\\": 1580.0, \\\"y\\\": 190000.0}, {\\\"x\\\": 1450.0, \\\"y\\\": 490000.0}, {\\\"x\\\": 1990.0, \\\"y\\\": 378000.0}, {\\\"x\\\": 4470.0, \\\"y\\\": 598800.0}, {\\\"x\\\": 1980.0, \\\"y\\\": 333800.0}, {\\\"x\\\": 2920.0, \\\"y\\\": 690000.0}, {\\\"x\\\": 1660.0, \\\"y\\\": 320000.0}, {\\\"x\\\": 3190.0, \\\"y\\\": 1249000.0}, {\\\"x\\\": 1560.0, \\\"y\\\": 335000.0}, {\\\"x\\\": 3050.0, \\\"y\\\": 840000.0}, {\\\"x\\\": 3030.0, \\\"y\\\": 608250.0}, {\\\"x\\\": 2260.0, \\\"y\\\": 550000.0}, {\\\"x\\\": 1260.0, \\\"y\\\": 240000.0}, {\\\"x\\\": 3370.0, \\\"y\\\": 998000.0}, {\\\"x\\\": 1490.0, \\\"y\\\": 275000.0}, {\\\"x\\\": 1570.0, \\\"y\\\": 284200.0}, {\\\"x\\\": 4490.0, \\\"y\\\": 1715000.0}, {\\\"x\\\": 4090.0, \\\"y\\\": 2400000.0}, {\\\"x\\\": 4150.0, \\\"y\\\": 930800.0}, {\\\"x\\\": 2900.0, \\\"y\\\": 930000.0}, {\\\"x\\\": 1430.0, \\\"y\\\": 215000.0}, {\\\"x\\\": 1008.0, \\\"y\\\": 480000.0}, {\\\"x\\\": 1480.0, \\\"y\\\": 483945.0}, {\\\"x\\\": 1240.0, \\\"y\\\": 347000.0}, {\\\"x\\\": 1370.0, \\\"y\\\": 232500.0}, {\\\"x\\\": 1770.0, \\\"y\\\": 390000.0}, {\\\"x\\\": 2160.0, \\\"y\\\": 550000.0}, {\\\"x\\\": 2340.0, \\\"y\\\": 590000.0}, {\\\"x\\\": 960.0, \\\"y\\\": 420850.0}, {\\\"x\\\": 2280.0, \\\"y\\\": 345000.0}, {\\\"x\\\": 1970.0, \\\"y\\\": 429800.0}, {\\\"x\\\": 1530.0, \\\"y\\\": 302000.0}, {\\\"x\\\": 1790.0, \\\"y\\\": 800000.0}, {\\\"x\\\": 1700.0, \\\"y\\\": 250000.0}, {\\\"x\\\": 2660.0, \\\"y\\\": 605000.0}, {\\\"x\\\": 1950.0, \\\"y\\\": 412000.0}, {\\\"x\\\": 1340.0, \\\"y\\\": 252000.0}, {\\\"x\\\": 1130.0, \\\"y\\\": 375000.0}, {\\\"x\\\": 1950.0, \\\"y\\\": 725000.0}, {\\\"x\\\": 3790.0, \\\"y\\\": 471750.0}, {\\\"x\\\": 2020.0, \\\"y\\\": 490000.0}, {\\\"x\\\": 800.0, \\\"y\\\": 439000.0}, {\\\"x\\\": 1770.0, \\\"y\\\": 355000.0}, {\\\"x\\\": 940.0, \\\"y\\\": 250000.0}, {\\\"x\\\": 2260.0, \\\"y\\\": 780000.0}, {\\\"x\\\": 890.0, \\\"y\\\": 409000.0}, {\\\"x\\\": 860.0, \\\"y\\\": 420000.0}, {\\\"x\\\": 680.0, \\\"y\\\": 200000.0}, {\\\"x\\\": 2130.0, \\\"y\\\": 830000.0}, {\\\"x\\\": 2390.0, \\\"y\\\": 695000.0}, {\\\"x\\\": 3488.0, \\\"y\\\": 815000.0}, {\\\"x\\\": 1260.0, \\\"y\\\": 210000.0}, {\\\"x\\\": 2940.0, \\\"y\\\": 635000.0}, {\\\"x\\\": 2440.0, \\\"y\\\": 562500.0}, {\\\"x\\\": 2600.0, \\\"y\\\": 402500.0}, {\\\"x\\\": 2080.0, \\\"y\\\": 555000.0}, {\\\"x\\\": 1990.0, \\\"y\\\": 310000.0}, {\\\"x\\\": 2840.0, \\\"y\\\": 500000.0}, {\\\"x\\\": 2630.0, \\\"y\\\": 430000.0}, {\\\"x\\\": 2820.0, \\\"y\\\": 1600000.0}, {\\\"x\\\": 1560.0, \\\"y\\\": 627500.0}, {\\\"x\\\": 2330.0, \\\"y\\\": 335000.0}, {\\\"x\\\": 3320.0, \\\"y\\\": 962000.0}, {\\\"x\\\": 1730.0, \\\"y\\\": 299000.0}, {\\\"x\\\": 3110.0, \\\"y\\\": 399950.0}, {\\\"x\\\": 1230.0, \\\"y\\\": 322000.0}, {\\\"x\\\": 950.0, \\\"y\\\": 430000.0}, {\\\"x\\\": 1890.0, \\\"y\\\": 307000.0}, {\\\"x\\\": 1010.0, \\\"y\\\": 194000.0}, {\\\"x\\\": 1010.0, \\\"y\\\": 180000.0}, {\\\"x\\\": 2340.0, \\\"y\\\": 465000.0}, {\\\"x\\\": 2460.0, \\\"y\\\": 722500.0}, {\\\"x\\\": 1010.0, \\\"y\\\": 470450.0}, {\\\"x\\\": 1650.0, \\\"y\\\": 280000.0}, {\\\"x\\\": 1440.0, \\\"y\\\": 176250.0}, {\\\"x\\\": 1710.0, \\\"y\\\": 560000.0}, {\\\"x\\\": 2760.0, \\\"y\\\": 830000.0}, {\\\"x\\\": 1350.0, \\\"y\\\": 276900.0}, {\\\"x\\\": 1660.0, \\\"y\\\": 625000.0}, {\\\"x\\\": 2960.0, \\\"y\\\": 1015000.0}, {\\\"x\\\": 1090.0, \\\"y\\\": 463500.0}, {\\\"x\\\": 3110.0, \\\"y\\\": 485000.0}, {\\\"x\\\": 1380.0, \\\"y\\\": 272000.0}, {\\\"x\\\": 1290.0, \\\"y\\\": 305000.0}, {\\\"x\\\": 1980.0, \\\"y\\\": 760000.0}, {\\\"x\\\": 870.0, \\\"y\\\": 387500.0}, {\\\"x\\\": 2470.0, \\\"y\\\": 352000.0}, {\\\"x\\\": 2140.0, \\\"y\\\": 507000.0}, {\\\"x\\\": 770.0, \\\"y\\\": 156000.0}, {\\\"x\\\": 1490.0, \\\"y\\\": 580000.0}, {\\\"x\\\": 2510.0, \\\"y\\\": 630000.0}, {\\\"x\\\": 1950.0, \\\"y\\\": 275000.0}, {\\\"x\\\": 3600.0, \\\"y\\\": 835000.0}, {\\\"x\\\": 2380.0, \\\"y\\\": 340000.0}, {\\\"x\\\": 720.0, \\\"y\\\": 329350.0}, {\\\"x\\\": 4070.0, \\\"y\\\": 1480000.0}, {\\\"x\\\": 1250.0, \\\"y\\\": 475000.0}, {\\\"x\\\": 2190.0, \\\"y\\\": 719950.0}, {\\\"x\\\": 810.0, \\\"y\\\": 235000.0}, {\\\"x\\\": 2440.0, \\\"y\\\": 875000.0}, {\\\"x\\\": 1740.0, \\\"y\\\": 380000.0}, {\\\"x\\\": 1480.0, \\\"y\\\": 325000.0}, {\\\"x\\\": 2120.0, \\\"y\\\": 475000.0}, {\\\"x\\\": 900.0, \\\"y\\\": 152900.0}, {\\\"x\\\": 1190.0, \\\"y\\\": 210000.0}, {\\\"x\\\": 1010.0, \\\"y\\\": 350000.0}, {\\\"x\\\": 2100.0, \\\"y\\\": 505000.0}, {\\\"x\\\": 2020.0, \\\"y\\\": 464900.0}, {\\\"x\\\": 2520.0, \\\"y\\\": 650000.0}, {\\\"x\\\": 1370.0, \\\"y\\\": 369950.0}, {\\\"x\\\": 1530.0, \\\"y\\\": 250000.0}, {\\\"x\\\": 1530.0, \\\"y\\\": 320000.0}, {\\\"x\\\": 5040.0, \\\"y\\\": 2532000.0}, {\\\"x\\\": 2530.0, \\\"y\\\": 340000.0}, {\\\"x\\\": 1010.0, \\\"y\\\": 440000.0}, {\\\"x\\\": 1200.0, \\\"y\\\": 219950.0}, {\\\"x\\\": 2720.0, \\\"y\\\": 940000.0}, {\\\"x\\\": 1850.0, \\\"y\\\": 399950.0}, {\\\"x\\\": 2340.0, \\\"y\\\": 1568000.0}, {\\\"x\\\": 1860.0, \\\"y\\\": 528000.0}, {\\\"x\\\": 1940.0, \\\"y\\\": 545000.0}, {\\\"x\\\": 1680.0, \\\"y\\\": 575000.0}, {\\\"x\\\": 1770.0, \\\"y\\\": 235000.0}, {\\\"x\\\": 1790.0, \\\"y\\\": 272000.0}, {\\\"x\\\": 1720.0, \\\"y\\\": 380000.0}, {\\\"x\\\": 1280.0, \\\"y\\\": 195000.0}, {\\\"x\\\": 1690.0, \\\"y\\\": 297000.0}, {\\\"x\\\": 2190.0, \\\"y\\\": 349000.0}, {\\\"x\\\": 710.0, \\\"y\\\": 320000.0}, {\\\"x\\\": 1890.0, \\\"y\\\": 319990.0}, {\\\"x\\\": 1410.0, \\\"y\\\": 439900.0}, {\\\"x\\\": 2210.0, \\\"y\\\": 429000.0}, {\\\"x\\\": 1540.0, \\\"y\\\": 272500.0}, {\\\"x\\\": 1350.0, \\\"y\\\": 400000.0}, {\\\"x\\\": 1380.0, \\\"y\\\": 462000.0}, {\\\"x\\\": 890.0, \\\"y\\\": 510000.0}, {\\\"x\\\": 1900.0, \\\"y\\\": 550000.0}, {\\\"x\\\": 1240.0, \\\"y\\\": 150000.0}, {\\\"x\\\": 1730.0, \\\"y\\\": 460000.0}, {\\\"x\\\": 2090.0, \\\"y\\\": 632500.0}, {\\\"x\\\": 1650.0, \\\"y\\\": 361000.0}, {\\\"x\\\": 1130.0, \\\"y\\\": 437000.0}, {\\\"x\\\": 3240.0, \\\"y\\\": 370000.0}, {\\\"x\\\": 3840.0, \\\"y\\\": 884250.0}, {\\\"x\\\": 1200.0, \\\"y\\\": 225000.0}, {\\\"x\\\": 870.0, \\\"y\\\": 235000.0}, {\\\"x\\\": 2410.0, \\\"y\\\": 767500.0}, {\\\"x\\\": 1560.0, \\\"y\\\": 1200000.0}, {\\\"x\\\": 2410.0, \\\"y\\\": 715000.0}, {\\\"x\\\": 2300.0, \\\"y\\\": 417000.0}, {\\\"x\\\": 1390.0, \\\"y\\\": 199000.0}, {\\\"x\\\": 2920.0, \\\"y\\\": 875000.0}, {\\\"x\\\": 1370.0, \\\"y\\\": 545000.0}, {\\\"x\\\": 950.0, \\\"y\\\": 192500.0}, {\\\"x\\\": 3090.0, \\\"y\\\": 822500.0}, {\\\"x\\\": 2390.0, \\\"y\\\": 800000.0}, {\\\"x\\\": 2070.0, \\\"y\\\": 1250000.0}, {\\\"x\\\": 5770.0, \\\"y\\\": 3850000.0}, {\\\"x\\\": 1460.0, \\\"y\\\": 295000.0}, {\\\"x\\\": 1510.0, \\\"y\\\": 419000.0}, {\\\"x\\\": 5180.0, \\\"y\\\": 1195000.0}, {\\\"x\\\": 3430.0, \\\"y\\\": 750000.0}, {\\\"x\\\": 1700.0, \\\"y\\\": 502000.0}, {\\\"x\\\": 2640.0, \\\"y\\\": 1025000.0}, {\\\"x\\\": 1200.0, \\\"y\\\": 398500.0}, {\\\"x\\\": 1850.0, \\\"y\\\": 700000.0}, {\\\"x\\\": 1510.0, \\\"y\\\": 248000.0}, {\\\"x\\\": 2130.0, \\\"y\\\": 800000.0}, {\\\"x\\\": 2640.0, \\\"y\\\": 383000.0}, {\\\"x\\\": 3000.0, \\\"y\\\": 688000.0}, {\\\"x\\\": 1870.0, \\\"y\\\": 521000.0}, {\\\"x\\\": 990.0, \\\"y\\\": 365000.0}, {\\\"x\\\": 2005.0, \\\"y\\\": 491000.0}, {\\\"x\\\": 2030.0, \\\"y\\\": 643000.0}, {\\\"x\\\": 1500.0, \\\"y\\\": 279000.0}, {\\\"x\\\": 1530.0, \\\"y\\\": 583500.0}, {\\\"x\\\": 1990.0, \\\"y\\\": 310000.0}, {\\\"x\\\": 1420.0, \\\"y\\\": 310000.0}, {\\\"x\\\": 1400.0, \\\"y\\\": 280000.0}, {\\\"x\\\": 1870.0, \\\"y\\\": 272000.0}, {\\\"x\\\": 3040.0, \\\"y\\\": 870000.0}, {\\\"x\\\": 1790.0, \\\"y\\\": 307000.0}, {\\\"x\\\": 1590.0, \\\"y\\\": 490000.0}, {\\\"x\\\": 2050.0, \\\"y\\\": 399950.0}, {\\\"x\\\": 4220.0, \\\"y\\\": 1635000.0}, {\\\"x\\\": 4030.0, \\\"y\\\": 989000.0}, {\\\"x\\\": 1770.0, \\\"y\\\": 264950.0}, {\\\"x\\\": 2100.0, \\\"y\\\": 491500.0}, {\\\"x\\\": 2120.0, \\\"y\\\": 345000.0}, {\\\"x\\\": 2600.0, \\\"y\\\": 339900.0}, {\\\"x\\\": 2400.0, \\\"y\\\": 852000.0}, {\\\"x\\\": 3180.0, \\\"y\\\": 585000.0}, {\\\"x\\\": 2790.0, \\\"y\\\": 723000.0}, {\\\"x\\\": 2080.0, \\\"y\\\": 594000.0}, {\\\"x\\\": 1370.0, \\\"y\\\": 405000.0}, {\\\"x\\\": 2790.0, \\\"y\\\": 725500.0}, {\\\"x\\\": 1740.0, \\\"y\\\": 800000.0}, {\\\"x\\\": 6400.0, \\\"y\\\": 1325000.0}, {\\\"x\\\": 1800.0, \\\"y\\\": 180500.0}, {\\\"x\\\": 1800.0, \\\"y\\\": 325000.0}, {\\\"x\\\": 1190.0, \\\"y\\\": 235000.0}, {\\\"x\\\": 860.0, \\\"y\\\": 330000.0}, {\\\"x\\\": 2460.0, \\\"y\\\": 678500.0}, {\\\"x\\\": 1980.0, \\\"y\\\": 463000.0}, {\\\"x\\\": 670.0, \\\"y\\\": 250000.0}, {\\\"x\\\": 1410.0, \\\"y\\\": 655000.0}, {\\\"x\\\": 1860.0, \\\"y\\\": 239900.0}, {\\\"x\\\": 980.0, \\\"y\\\": 185000.0}, {\\\"x\\\": 3040.0, \\\"y\\\": 1735000.0}, {\\\"x\\\": 1810.0, \\\"y\\\": 251700.0}, {\\\"x\\\": 1560.0, \\\"y\\\": 400000.0}, {\\\"x\\\": 2100.0, \\\"y\\\": 735000.0}, {\\\"x\\\": 2500.0, \\\"y\\\": 1700000.0}, {\\\"x\\\": 520.0, \\\"y\\\": 82500.0}, {\\\"x\\\": 3010.0, \\\"y\\\": 765000.0}, {\\\"x\\\": 2140.0, \\\"y\\\": 292500.0}, {\\\"x\\\": 2390.0, \\\"y\\\": 270000.0}, {\\\"x\\\": 1510.0, \\\"y\\\": 415000.0}, {\\\"x\\\": 2210.0, \\\"y\\\": 950000.0}, {\\\"x\\\": 2170.0, \\\"y\\\": 353000.0}, {\\\"x\\\": 1790.0, \\\"y\\\": 670950.0}, {\\\"x\\\": 1390.0, \\\"y\\\": 280950.0}, {\\\"x\\\": 1850.0, \\\"y\\\": 585000.0}, {\\\"x\\\": 1480.0, \\\"y\\\": 525000.0}, {\\\"x\\\": 1850.0, \\\"y\\\": 605000.0}, {\\\"x\\\": 3350.0, \\\"y\\\": 1010000.0}, {\\\"x\\\": 1040.0, \\\"y\\\": 245990.0}, {\\\"x\\\": 2810.0, \\\"y\\\": 535000.0}, {\\\"x\\\": 1010.0, \\\"y\\\": 410000.0}, {\\\"x\\\": 2250.0, \\\"y\\\": 550000.0}, {\\\"x\\\": 1800.0, \\\"y\\\": 665000.0}, {\\\"x\\\": 2400.0, \\\"y\\\": 455000.0}, {\\\"x\\\": 1780.0, \\\"y\\\": 440000.0}, {\\\"x\\\": 2120.0, \\\"y\\\": 332000.0}, {\\\"x\\\": 1860.0, \\\"y\\\": 280000.0}, {\\\"x\\\": 1460.0, \\\"y\\\": 570000.0}, {\\\"x\\\": 1230.0, \\\"y\\\": 250000.0}, {\\\"x\\\": 1088.0, \\\"y\\\": 238000.0}, {\\\"x\\\": 800.0, \\\"y\\\": 265000.0}, {\\\"x\\\": 1190.0, \\\"y\\\": 306000.0}, {\\\"x\\\": 1940.0, \\\"y\\\": 345000.0}, {\\\"x\\\": 3300.0, \\\"y\\\": 765000.0}, {\\\"x\\\": 2590.0, \\\"y\\\": 346300.0}, {\\\"x\\\": 2080.0, \\\"y\\\": 342500.0}, {\\\"x\\\": 2680.0, \\\"y\\\": 501000.0}, {\\\"x\\\": 1670.0, \\\"y\\\": 270000.0}, {\\\"x\\\": 1830.0, \\\"y\\\": 638000.0}, {\\\"x\\\": 1400.0, \\\"y\\\": 460000.0}, {\\\"x\\\": 2770.0, \\\"y\\\": 760000.0}, {\\\"x\\\": 3630.0, \\\"y\\\": 1085000.0}, {\\\"x\\\": 1040.0, \\\"y\\\": 234000.0}, {\\\"x\\\": 2690.0, \\\"y\\\": 1650000.0}, {\\\"x\\\": 2020.0, \\\"y\\\": 488000.0}, {\\\"x\\\": 2450.0, \\\"y\\\": 1550000.0}, {\\\"x\\\": 2030.0, \\\"y\\\": 499000.0}, {\\\"x\\\": 1450.0, \\\"y\\\": 150000.0}, {\\\"x\\\": 2400.0, \\\"y\\\": 333000.0}, {\\\"x\\\": 2870.0, \\\"y\\\": 700000.0}, {\\\"x\\\": 1340.0, \\\"y\\\": 275000.0}, {\\\"x\\\": 1680.0, \\\"y\\\": 330000.0}, {\\\"x\\\": 1850.0, \\\"y\\\": 360000.0}, {\\\"x\\\": 1220.0, \\\"y\\\": 467000.0}, {\\\"x\\\": 2320.0, \\\"y\\\": 568000.0}, {\\\"x\\\": 3220.0, \\\"y\\\": 605000.0}, {\\\"x\\\": 3190.0, \\\"y\\\": 750000.0}, {\\\"x\\\": 3530.0, \\\"y\\\": 760000.0}, {\\\"x\\\": 2050.0, \\\"y\\\": 265000.0}, {\\\"x\\\": 1720.0, \\\"y\\\": 490000.0}, {\\\"x\\\": 2850.0, \\\"y\\\": 360000.0}, {\\\"x\\\": 2270.0, \\\"y\\\": 311750.0}, {\\\"x\\\": 1880.0, \\\"y\\\": 399000.0}, {\\\"x\\\": 2770.0, \\\"y\\\": 347000.0}, {\\\"x\\\": 4490.0, \\\"y\\\": 1680000.0}, {\\\"x\\\": 3110.0, \\\"y\\\": 585000.0}, {\\\"x\\\": 2360.0, \\\"y\\\": 340000.0}, {\\\"x\\\": 2180.0, \\\"y\\\": 612000.0}, {\\\"x\\\": 1910.0, \\\"y\\\": 230000.0}, {\\\"x\\\": 2260.0, \\\"y\\\": 604000.0}, {\\\"x\\\": 1770.0, \\\"y\\\": 250000.0}, {\\\"x\\\": 1460.0, \\\"y\\\": 258500.0}, {\\\"x\\\": 2080.0, \\\"y\\\": 783000.0}, {\\\"x\\\": 2960.0, \\\"y\\\": 1050000.0}, {\\\"x\\\": 3220.0, \\\"y\\\": 760000.0}, {\\\"x\\\": 1140.0, \\\"y\\\": 276000.0}, {\\\"x\\\": 1660.0, \\\"y\\\": 550000.0}, {\\\"x\\\": 1430.0, \\\"y\\\": 398000.0}, {\\\"x\\\": 1820.0, \\\"y\\\": 775000.0}, {\\\"x\\\": 3540.0, \\\"y\\\": 1027500.0}, {\\\"x\\\": 1620.0, \\\"y\\\": 327000.0}, {\\\"x\\\": 3100.0, \\\"y\\\": 564500.0}, {\\\"x\\\": 1500.0, \\\"y\\\": 782000.0}, {\\\"x\\\": 2820.0, \\\"y\\\": 398000.0}, {\\\"x\\\": 1850.0, \\\"y\\\": 257000.0}, {\\\"x\\\": 1570.0, \\\"y\\\": 235000.0}, {\\\"x\\\": 2300.0, \\\"y\\\": 453000.0}, {\\\"x\\\": 920.0, \\\"y\\\": 535000.0}, {\\\"x\\\": 1600.0, \\\"y\\\": 275000.0}, {\\\"x\\\": 2630.0, \\\"y\\\": 665000.0}, {\\\"x\\\": 3020.0, \\\"y\\\": 670000.0}, {\\\"x\\\": 1490.0, \\\"y\\\": 465000.0}, {\\\"x\\\": 1160.0, \\\"y\\\": 210000.0}, {\\\"x\\\": 2040.0, \\\"y\\\": 265000.0}, {\\\"x\\\": 1550.0, \\\"y\\\": 426000.0}, {\\\"x\\\": 1990.0, \\\"y\\\": 529219.0}, {\\\"x\\\": 1900.0, \\\"y\\\": 600000.0}, {\\\"x\\\": 3840.0, \\\"y\\\": 875000.0}, {\\\"x\\\": 2400.0, \\\"y\\\": 608000.0}, {\\\"x\\\": 1660.0, \\\"y\\\": 220000.0}, {\\\"x\\\": 6055.0, \\\"y\\\": 1760000.0}, {\\\"x\\\": 2030.0, \\\"y\\\": 295450.0}, {\\\"x\\\": 840.0, \\\"y\\\": 315000.0}, {\\\"x\\\": 1450.0, \\\"y\\\": 205000.0}, {\\\"x\\\": 1460.0, \\\"y\\\": 310000.0}, {\\\"x\\\": 2010.0, \\\"y\\\": 1000000.0}, {\\\"x\\\": 2910.0, \\\"y\\\": 525000.0}, {\\\"x\\\": 1880.0, \\\"y\\\": 284000.0}, {\\\"x\\\": 2170.0, \\\"y\\\": 510000.0}, {\\\"x\\\": 1260.0, \\\"y\\\": 405000.0}, {\\\"x\\\": 1970.0, \\\"y\\\": 509950.0}, {\\\"x\\\": 2090.0, \\\"y\\\": 600000.0}, {\\\"x\\\": 3450.0, \\\"y\\\": 990000.0}, {\\\"x\\\": 1130.0, \\\"y\\\": 280005.0}, {\\\"x\\\": 2600.0, \\\"y\\\": 700000.0}, {\\\"x\\\": 1030.0, \\\"y\\\": 330000.0}, {\\\"x\\\": 1700.0, \\\"y\\\": 340000.0}, {\\\"x\\\": 1480.0, \\\"y\\\": 468000.0}, {\\\"x\\\": 4250.0, \\\"y\\\": 1339000.0}, {\\\"x\\\": 1600.0, \\\"y\\\": 515000.0}, {\\\"x\\\": 1870.0, \\\"y\\\": 245000.0}, {\\\"x\\\": 1440.0, \\\"y\\\": 265000.0}, {\\\"x\\\": 2720.0, \\\"y\\\": 372400.0}, {\\\"x\\\": 1240.0, \\\"y\\\": 390000.0}, {\\\"x\\\": 1020.0, \\\"y\\\": 208000.0}, {\\\"x\\\": 1180.0, \\\"y\\\": 273000.0}, {\\\"x\\\": 3080.0, \\\"y\\\": 455000.0}, {\\\"x\\\": 1750.0, \\\"y\\\": 270000.0}, {\\\"x\\\": 2530.0, \\\"y\\\": 618000.0}, {\\\"x\\\": 1580.0, \\\"y\\\": 213550.0}, {\\\"x\\\": 2340.0, \\\"y\\\": 210000.0}, {\\\"x\\\": 6300.0, \\\"y\\\": 2750000.0}, {\\\"x\\\": 2400.0, \\\"y\\\": 403500.0}, {\\\"x\\\": 1300.0, \\\"y\\\": 235000.0}, {\\\"x\\\": 1760.0, \\\"y\\\": 287500.0}, {\\\"x\\\": 1520.0, \\\"y\\\": 546800.0}, {\\\"x\\\": 1070.0, \\\"y\\\": 183000.0}, {\\\"x\\\": 2560.0, \\\"y\\\": 560000.0}, {\\\"x\\\": 1280.0, \\\"y\\\": 299500.0}, {\\\"x\\\": 1660.0, \\\"y\\\": 610000.0}, {\\\"x\\\": 1860.0, \\\"y\\\": 288350.0}, {\\\"x\\\": 950.0, \\\"y\\\": 500000.0}, {\\\"x\\\": 2140.0, \\\"y\\\": 625000.0}, {\\\"x\\\": 1480.0, \\\"y\\\": 418000.0}, {\\\"x\\\": 2260.0, \\\"y\\\": 660000.0}, {\\\"x\\\": 2300.0, \\\"y\\\": 775000.0}, {\\\"x\\\": 1650.0, \\\"y\\\": 429500.0}, {\\\"x\\\": 1990.0, \\\"y\\\": 569000.0}, {\\\"x\\\": 1960.0, \\\"y\\\": 250000.0}, {\\\"x\\\": 1310.0, \\\"y\\\": 225000.0}, {\\\"x\\\": 2450.0, \\\"y\\\": 530000.0}, {\\\"x\\\": 910.0, \\\"y\\\": 306000.0}, {\\\"x\\\": 1580.0, \\\"y\\\": 517100.0}, {\\\"x\\\": 1780.0, \\\"y\\\": 354950.0}, {\\\"x\\\": 1040.0, \\\"y\\\": 348000.0}, {\\\"x\\\": 2340.0, \\\"y\\\": 522250.0}, {\\\"x\\\": 1720.0, \\\"y\\\": 275000.0}, {\\\"x\\\": 1600.0, \\\"y\\\": 390000.0}, {\\\"x\\\": 1320.0, \\\"y\\\": 260000.0}, {\\\"x\\\": 2350.0, \\\"y\\\": 585000.0}, {\\\"x\\\": 2740.0, \\\"y\\\": 605000.0}, {\\\"x\\\": 2300.0, \\\"y\\\": 342000.0}, {\\\"x\\\": 4350.0, \\\"y\\\": 900000.0}, {\\\"x\\\": 1430.0, \\\"y\\\": 252000.0}, {\\\"x\\\": 2400.0, \\\"y\\\": 357000.0}, {\\\"x\\\": 940.0, \\\"y\\\": 370000.0}, {\\\"x\\\": 1020.0, \\\"y\\\": 322500.0}, {\\\"x\\\": 1680.0, \\\"y\\\": 210000.0}, {\\\"x\\\": 1340.0, \\\"y\\\": 290000.0}, {\\\"x\\\": 3960.0, \\\"y\\\": 860000.0}, {\\\"x\\\": 2650.0, \\\"y\\\": 302000.0}, {\\\"x\\\": 2120.0, \\\"y\\\": 369160.0}, {\\\"x\\\": 2850.0, \\\"y\\\": 1185000.0}, {\\\"x\\\": 2850.0, \\\"y\\\": 993000.0}, {\\\"x\\\": 1870.0, \\\"y\\\": 380000.0}, {\\\"x\\\": 2660.0, \\\"y\\\": 635000.0}, {\\\"x\\\": 1190.0, \\\"y\\\": 260000.0}, {\\\"x\\\": 1770.0, \\\"y\\\": 243000.0}, {\\\"x\\\": 2770.0, \\\"y\\\": 1400000.0}, {\\\"x\\\": 2080.0, \\\"y\\\": 665000.0}, {\\\"x\\\": 2700.0, \\\"y\\\": 898000.0}, {\\\"x\\\": 2200.0, \\\"y\\\": 583000.0}, {\\\"x\\\": 2160.0, \\\"y\\\": 429000.0}, {\\\"x\\\": 2010.0, \\\"y\\\": 471000.0}, {\\\"x\\\": 3780.0, \\\"y\\\": 1810000.0}, {\\\"x\\\": 4460.0, \\\"y\\\": 739500.0}, {\\\"x\\\": 1770.0, \\\"y\\\": 450000.0}, {\\\"x\\\": 1430.0, \\\"y\\\": 552500.0}, {\\\"x\\\": 1700.0, \\\"y\\\": 437000.0}, {\\\"x\\\": 1830.0, \\\"y\\\": 270000.0}, {\\\"x\\\": 1410.0, \\\"y\\\": 226740.0}, {\\\"x\\\": 3060.0, \\\"y\\\": 446500.0}, {\\\"x\\\": 1820.0, \\\"y\\\": 283000.0}, {\\\"x\\\": 2430.0, \\\"y\\\": 445000.0}, {\\\"x\\\": 740.0, \\\"y\\\": 250000.0}, {\\\"x\\\": 770.0, \\\"y\\\": 307000.0}, {\\\"x\\\": 2200.0, \\\"y\\\": 315000.0}, {\\\"x\\\": 2920.0, \\\"y\\\": 555000.0}, {\\\"x\\\": 2040.0, \\\"y\\\": 264900.0}, {\\\"x\\\": 1600.0, \\\"y\\\": 510000.0}, {\\\"x\\\": 1990.0, \\\"y\\\": 328000.0}, {\\\"x\\\": 1830.0, \\\"y\\\": 358000.0}, {\\\"x\\\": 2540.0, \\\"y\\\": 325000.0}, {\\\"x\\\": 2700.0, \\\"y\\\": 1365000.0}, {\\\"x\\\": 1440.0, \\\"y\\\": 230000.0}, {\\\"x\\\": 1550.0, \\\"y\\\": 545000.0}, {\\\"x\\\": 2490.0, \\\"y\\\": 705380.0}, {\\\"x\\\": 2650.0, \\\"y\\\": 459000.0}, {\\\"x\\\": 2000.0, \\\"y\\\": 815000.0}, {\\\"x\\\": 3440.0, \\\"y\\\": 495000.0}, {\\\"x\\\": 2280.0, \\\"y\\\": 520000.0}, {\\\"x\\\": 1320.0, \\\"y\\\": 430000.0}, {\\\"x\\\": 2070.0, \\\"y\\\": 255000.0}, {\\\"x\\\": 1860.0, \\\"y\\\": 588000.0}, {\\\"x\\\": 940.0, \\\"y\\\": 350000.0}, {\\\"x\\\": 2290.0, \\\"y\\\": 625000.0}, {\\\"x\\\": 1510.0, \\\"y\\\": 172500.0}, {\\\"x\\\": 1830.0, \\\"y\\\": 554000.0}, {\\\"x\\\": 3090.0, \\\"y\\\": 775000.0}, {\\\"x\\\": 4340.0, \\\"y\\\": 1187500.0}, {\\\"x\\\": 3200.0, \\\"y\\\": 618000.0}, {\\\"x\\\": 1560.0, \\\"y\\\": 305000.0}, {\\\"x\\\": 1280.0, \\\"y\\\": 232000.0}, {\\\"x\\\": 2020.0, \\\"y\\\": 262000.0}, {\\\"x\\\": 1040.0, \\\"y\\\": 234000.0}, {\\\"x\\\": 2260.0, \\\"y\\\": 500000.0}, {\\\"x\\\": 860.0, \\\"y\\\": 278000.0}, {\\\"x\\\": 1920.0, \\\"y\\\": 230000.0}, {\\\"x\\\": 2290.0, \\\"y\\\": 500000.0}, {\\\"x\\\": 2070.0, \\\"y\\\": 366500.0}, {\\\"x\\\": 4250.0, \\\"y\\\": 665000.0}, {\\\"x\\\": 2220.0, \\\"y\\\": 1101000.0}, {\\\"x\\\": 1840.0, \\\"y\\\": 575000.0}, {\\\"x\\\": 2590.0, \\\"y\\\": 674750.0}, {\\\"x\\\": 3110.0, \\\"y\\\": 719000.0}, {\\\"x\\\": 2600.0, \\\"y\\\": 482000.0}, {\\\"x\\\": 1060.0, \\\"y\\\": 254000.0}, {\\\"x\\\": 1250.0, \\\"y\\\": 443725.0}, {\\\"x\\\": 2520.0, \\\"y\\\": 575000.0}, {\\\"x\\\": 2070.0, \\\"y\\\": 469000.0}, {\\\"x\\\": 1300.0, \\\"y\\\": 175000.0}, {\\\"x\\\": 2190.0, \\\"y\\\": 437000.0}, {\\\"x\\\": 2760.0, \\\"y\\\": 550000.0}, {\\\"x\\\": 1710.0, \\\"y\\\": 172040.0}, {\\\"x\\\": 1750.0, \\\"y\\\": 363000.0}, {\\\"x\\\": 1552.0, \\\"y\\\": 282000.0}, {\\\"x\\\": 2350.0, \\\"y\\\": 400000.0}, {\\\"x\\\": 5110.0, \\\"y\\\": 650000.0}, {\\\"x\\\": 1720.0, \\\"y\\\": 365000.0}, {\\\"x\\\": 1960.0, \\\"y\\\": 269950.0}, {\\\"x\\\": 1270.0, \\\"y\\\": 260000.0}, {\\\"x\\\": 1180.0, \\\"y\\\": 193000.0}, {\\\"x\\\": 2230.0, \\\"y\\\": 340000.0}, {\\\"x\\\": 4700.0, \\\"y\\\": 900000.0}, {\\\"x\\\": 2150.0, \\\"y\\\": 371000.0}, {\\\"x\\\": 2400.0, \\\"y\\\": 592000.0}, {\\\"x\\\": 1830.0, \\\"y\\\": 300000.0}, {\\\"x\\\": 2800.0, \\\"y\\\": 449950.0}, {\\\"x\\\": 2090.0, \\\"y\\\": 299500.0}, {\\\"x\\\": 2340.0, \\\"y\\\": 995000.0}, {\\\"x\\\": 1670.0, \\\"y\\\": 335000.0}, {\\\"x\\\": 1990.0, \\\"y\\\": 280000.0}, {\\\"x\\\": 2270.0, \\\"y\\\": 446000.0}, {\\\"x\\\": 4910.0, \\\"y\\\": 1544500.0}, {\\\"x\\\": 950.0, \\\"y\\\": 325000.0}, {\\\"x\\\": 1610.0, \\\"y\\\": 450000.0}, {\\\"x\\\": 1940.0, \\\"y\\\": 322500.0}, {\\\"x\\\": 1210.0, \\\"y\\\": 453000.0}, {\\\"x\\\": 2570.0, \\\"y\\\": 655000.0}, {\\\"x\\\": 1700.0, \\\"y\\\": 603000.0}, {\\\"x\\\": 1610.0, \\\"y\\\": 235000.0}, {\\\"x\\\": 4120.0, \\\"y\\\": 968933.0}, {\\\"x\\\": 2880.0, \\\"y\\\": 1015000.0}, {\\\"x\\\": 1990.0, \\\"y\\\": 435000.0}, {\\\"x\\\": 1260.0, \\\"y\\\": 242000.0}, {\\\"x\\\": 4750.0, \\\"y\\\": 487000.0}, {\\\"x\\\": 3010.0, \\\"y\\\": 810000.0}, {\\\"x\\\": 2410.0, \\\"y\\\": 625000.0}, {\\\"x\\\": 1280.0, \\\"y\\\": 165000.0}, {\\\"x\\\": 2320.0, \\\"y\\\": 335000.0}, {\\\"x\\\": 1220.0, \\\"y\\\": 286700.0}, {\\\"x\\\": 1400.0, \\\"y\\\": 699000.0}, {\\\"x\\\": 1590.0, \\\"y\\\": 280000.0}, {\\\"x\\\": 2220.0, \\\"y\\\": 580000.0}, {\\\"x\\\": 2770.0, \\\"y\\\": 754800.0}, {\\\"x\\\": 2303.0, \\\"y\\\": 525000.0}, {\\\"x\\\": 1600.0, \\\"y\\\": 562000.0}, {\\\"x\\\": 1280.0, \\\"y\\\": 575000.0}, {\\\"x\\\": 2900.0, \\\"y\\\": 808900.0}, {\\\"x\\\": 2950.0, \\\"y\\\": 992000.0}, {\\\"x\\\": 1700.0, \\\"y\\\": 335000.0}, {\\\"x\\\": 1050.0, \\\"y\\\": 473000.0}, {\\\"x\\\": 2990.0, \\\"y\\\": 350000.0}, {\\\"x\\\": 3100.0, \\\"y\\\": 1600000.0}, {\\\"x\\\": 1240.0, \\\"y\\\": 305500.0}, {\\\"x\\\": 780.0, \\\"y\\\": 306000.0}, {\\\"x\\\": 850.0, \\\"y\\\": 233000.0}, {\\\"x\\\": 1540.0, \\\"y\\\": 490000.0}, {\\\"x\\\": 2280.0, \\\"y\\\": 445000.0}, {\\\"x\\\": 2550.0, \\\"y\\\": 355000.0}, {\\\"x\\\": 1770.0, \\\"y\\\": 360000.0}, {\\\"x\\\": 2320.0, \\\"y\\\": 737500.0}, {\\\"x\\\": 2600.0, \\\"y\\\": 985000.0}, {\\\"x\\\": 1570.0, \\\"y\\\": 349950.0}, {\\\"x\\\": 3060.0, \\\"y\\\": 520000.0}, {\\\"x\\\": 1960.0, \\\"y\\\": 355950.0}, {\\\"x\\\": 3270.0, \\\"y\\\": 485000.0}, {\\\"x\\\": 1090.0, \\\"y\\\": 143000.0}, {\\\"x\\\": 6840.0, \\\"y\\\": 3278000.0}, {\\\"x\\\": 940.0, \\\"y\\\": 355000.0}, {\\\"x\\\": 3880.0, \\\"y\\\": 1126000.0}, {\\\"x\\\": 1770.0, \\\"y\\\": 200000.0}, {\\\"x\\\": 3640.0, \\\"y\\\": 913000.0}, {\\\"x\\\": 3160.0, \\\"y\\\": 1600000.0}, {\\\"x\\\": 1590.0, \\\"y\\\": 409900.0}, {\\\"x\\\": 1290.0, \\\"y\\\": 265000.0}, {\\\"x\\\": 3655.0, \\\"y\\\": 740000.0}, {\\\"x\\\": 2490.0, \\\"y\\\": 306000.0}, {\\\"x\\\": 1470.0, \\\"y\\\": 381000.0}, {\\\"x\\\": 3960.0, \\\"y\\\": 1220000.0}, {\\\"x\\\": 3190.0, \\\"y\\\": 1050000.0}, {\\\"x\\\": 810.0, \\\"y\\\": 408000.0}, {\\\"x\\\": 2980.0, \\\"y\\\": 739900.0}, {\\\"x\\\": 2780.0, \\\"y\\\": 674250.0}, {\\\"x\\\": 1340.0, \\\"y\\\": 438400.0}, {\\\"x\\\": 4930.0, \\\"y\\\": 1700000.0}, {\\\"x\\\": 1360.0, \\\"y\\\": 703000.0}, {\\\"x\\\": 1320.0, \\\"y\\\": 262000.0}, {\\\"x\\\": 1210.0, \\\"y\\\": 353000.0}, {\\\"x\\\": 1940.0, \\\"y\\\": 500000.0}, {\\\"x\\\": 3160.0, \\\"y\\\": 1280000.0}, {\\\"x\\\": 1980.0, \\\"y\\\": 332000.0}, {\\\"x\\\": 2320.0, \\\"y\\\": 824000.0}, {\\\"x\\\": 1660.0, \\\"y\\\": 290000.0}, {\\\"x\\\": 1660.0, \\\"y\\\": 700000.0}, {\\\"x\\\": 1080.0, \\\"y\\\": 550000.0}, {\\\"x\\\": 1510.0, \\\"y\\\": 549000.0}, {\\\"x\\\": 2950.0, \\\"y\\\": 1865000.0}, {\\\"x\\\": 3070.0, \\\"y\\\": 858000.0}, {\\\"x\\\": 970.0, \\\"y\\\": 345000.0}, {\\\"x\\\": 2140.0, \\\"y\\\": 340000.0}, {\\\"x\\\": 2570.0, \\\"y\\\": 1215000.0}, {\\\"x\\\": 1260.0, \\\"y\\\": 275000.0}, {\\\"x\\\": 1220.0, \\\"y\\\": 405000.0}, {\\\"x\\\": 1720.0, \\\"y\\\": 432500.0}, {\\\"x\\\": 2140.0, \\\"y\\\": 236500.0}, {\\\"x\\\": 1420.0, \\\"y\\\": 679000.0}, {\\\"x\\\": 2060.0, \\\"y\\\": 543000.0}, {\\\"x\\\": 1320.0, \\\"y\\\": 294000.0}, {\\\"x\\\": 1810.0, \\\"y\\\": 340500.0}, {\\\"x\\\": 2980.0, \\\"y\\\": 1012000.0}, {\\\"x\\\": 1350.0, \\\"y\\\": 335000.0}, {\\\"x\\\": 1540.0, \\\"y\\\": 425000.0}, {\\\"x\\\": 2510.0, \\\"y\\\": 353000.0}, {\\\"x\\\": 1670.0, \\\"y\\\": 540000.0}, {\\\"x\\\": 3690.0, \\\"y\\\": 640000.0}, {\\\"x\\\": 1320.0, \\\"y\\\": 339950.0}, {\\\"x\\\": 1510.0, \\\"y\\\": 195000.0}, {\\\"x\\\": 1510.0, \\\"y\\\": 322000.0}, {\\\"x\\\": 1870.0, \\\"y\\\": 660000.0}, {\\\"x\\\": 2400.0, \\\"y\\\": 280000.0}, {\\\"x\\\": 2400.0, \\\"y\\\": 300000.0}, {\\\"x\\\": 1170.0, \\\"y\\\": 207500.0}, {\\\"x\\\": 1190.0, \\\"y\\\": 195000.0}, {\\\"x\\\": 2080.0, \\\"y\\\": 700000.0}, {\\\"x\\\": 2150.0, \\\"y\\\": 560000.0}, {\\\"x\\\": 1580.0, \\\"y\\\": 260000.0}, {\\\"x\\\": 1580.0, \\\"y\\\": 575000.0}, {\\\"x\\\": 2370.0, \\\"y\\\": 475000.0}, {\\\"x\\\": 1840.0, \\\"y\\\": 285000.0}, {\\\"x\\\": 2660.0, \\\"y\\\": 753888.0}, {\\\"x\\\": 2190.0, \\\"y\\\": 650000.0}, {\\\"x\\\": 1660.0, \\\"y\\\": 620000.0}, {\\\"x\\\": 1780.0, \\\"y\\\": 526000.0}, {\\\"x\\\": 700.0, \\\"y\\\": 155000.0}, {\\\"x\\\": 1570.0, \\\"y\\\": 342000.0}, {\\\"x\\\": 1220.0, \\\"y\\\": 390000.0}, {\\\"x\\\": 3150.0, \\\"y\\\": 685000.0}, {\\\"x\\\": 2690.0, \\\"y\\\": 608000.0}, {\\\"x\\\": 680.0, \\\"y\\\": 179900.0}, {\\\"x\\\": 3750.0, \\\"y\\\": 1245000.0}, {\\\"x\\\": 1010.0, \\\"y\\\": 166000.0}, {\\\"x\\\": 1710.0, \\\"y\\\": 462000.0}, {\\\"x\\\": 2090.0, \\\"y\\\": 545000.0}, {\\\"x\\\": 1560.0, \\\"y\\\": 415000.0}, {\\\"x\\\": 1560.0, \\\"y\\\": 269000.0}, {\\\"x\\\": 2570.0, \\\"y\\\": 356500.0}, {\\\"x\\\": 1010.0, \\\"y\\\": 225000.0}, {\\\"x\\\": 1020.0, \\\"y\\\": 175000.0}, {\\\"x\\\": 1710.0, \\\"y\\\": 549000.0}, {\\\"x\\\": 2300.0, \\\"y\\\": 535000.0}, {\\\"x\\\": 1990.0, \\\"y\\\": 627000.0}, {\\\"x\\\": 2730.0, \\\"y\\\": 565000.0}, {\\\"x\\\": 2195.0, \\\"y\\\": 392450.0}, {\\\"x\\\": 1560.0, \\\"y\\\": 509000.0}, {\\\"x\\\": 1400.0, \\\"y\\\": 340000.0}, {\\\"x\\\": 1400.0, \\\"y\\\": 537000.0}, {\\\"x\\\": 3690.0, \\\"y\\\": 865000.0}, {\\\"x\\\": 1140.0, \\\"y\\\": 358000.0}, {\\\"x\\\": 1920.0, \\\"y\\\": 595000.0}, {\\\"x\\\": 2496.0, \\\"y\\\": 661000.0}, {\\\"x\\\": 2280.0, \\\"y\\\": 419950.0}, {\\\"x\\\": 3200.0, \\\"y\\\": 490000.0}, {\\\"x\\\": 880.0, \\\"y\\\": 525000.0}, {\\\"x\\\": 1320.0, \\\"y\\\": 350000.0}, {\\\"x\\\": 2450.0, \\\"y\\\": 552500.0}, {\\\"x\\\": 1040.0, \\\"y\\\": 210000.0}, {\\\"x\\\": 2480.0, \\\"y\\\": 390000.0}, {\\\"x\\\": 1830.0, \\\"y\\\": 336800.0}, {\\\"x\\\": 1440.0, \\\"y\\\": 465000.0}, {\\\"x\\\": 1580.0, \\\"y\\\": 299900.0}, {\\\"x\\\": 3230.0, \\\"y\\\": 715000.0}, {\\\"x\\\": 1810.0, \\\"y\\\": 235000.0}, {\\\"x\\\": 2495.0, \\\"y\\\": 276000.0}, {\\\"x\\\": 1740.0, \\\"y\\\": 265000.0}, {\\\"x\\\": 1680.0, \\\"y\\\": 425000.0}, {\\\"x\\\": 2460.0, \\\"y\\\": 313000.0}, {\\\"x\\\": 3050.0, \\\"y\\\": 715000.0}, {\\\"x\\\": 1630.0, \\\"y\\\": 265000.0}, {\\\"x\\\": 2460.0, \\\"y\\\": 646000.0}, {\\\"x\\\": 1030.0, \\\"y\\\": 175000.0}, {\\\"x\\\": 3410.0, \\\"y\\\": 649000.0}, {\\\"x\\\": 2310.0, \\\"y\\\": 785000.0}, {\\\"x\\\": 2610.0, \\\"y\\\": 890000.0}, {\\\"x\\\": 2330.0, \\\"y\\\": 612000.0}, {\\\"x\\\": 2980.0, \\\"y\\\": 330000.0}, {\\\"x\\\": 1790.0, \\\"y\\\": 493000.0}, {\\\"x\\\": 2940.0, \\\"y\\\": 1600000.0}, {\\\"x\\\": 3900.0, \\\"y\\\": 1619999.0}, {\\\"x\\\": 3900.0, \\\"y\\\": 1650000.0}, {\\\"x\\\": 1750.0, \\\"y\\\": 499000.0}, {\\\"x\\\": 2660.0, \\\"y\\\": 603500.0}, {\\\"x\\\": 1580.0, \\\"y\\\": 530000.0}, {\\\"x\\\": 2350.0, \\\"y\\\": 895000.0}, {\\\"x\\\": 2510.0, \\\"y\\\": 267345.0}, {\\\"x\\\": 1480.0, \\\"y\\\": 275000.0}, {\\\"x\\\": 1720.0, \\\"y\\\": 439950.0}, {\\\"x\\\": 1470.0, \\\"y\\\": 455000.0}, {\\\"x\\\": 1540.0, \\\"y\\\": 630000.0}, {\\\"x\\\": 2820.0, \\\"y\\\": 690000.0}, {\\\"x\\\": 1250.0, \\\"y\\\": 212000.0}, {\\\"x\\\": 2080.0, \\\"y\\\": 231500.0}, {\\\"x\\\": 5180.0, \\\"y\\\": 1237500.0}, {\\\"x\\\": 2860.0, \\\"y\\\": 378500.0}, {\\\"x\\\": 2710.0, \\\"y\\\": 482000.0}, {\\\"x\\\": 1140.0, \\\"y\\\": 695000.0}, {\\\"x\\\": 4070.0, \\\"y\\\": 965000.0}, {\\\"x\\\": 1710.0, \\\"y\\\": 675000.0}, {\\\"x\\\": 1340.0, \\\"y\\\": 387000.0}, {\\\"x\\\": 2290.0, \\\"y\\\": 347500.0}, {\\\"x\\\": 1860.0, \\\"y\\\": 385000.0}, {\\\"x\\\": 1080.0, \\\"y\\\": 265000.0}, {\\\"x\\\": 960.0, \\\"y\\\": 406000.0}, {\\\"x\\\": 980.0, \\\"y\\\": 134000.0}, {\\\"x\\\": 1500.0, \\\"y\\\": 415000.0}, {\\\"x\\\": 1440.0, \\\"y\\\": 375000.0}, {\\\"x\\\": 2580.0, \\\"y\\\": 620000.0}, {\\\"x\\\": 2070.0, \\\"y\\\": 337500.0}, {\\\"x\\\": 1880.0, \\\"y\\\": 565000.0}, {\\\"x\\\": 2420.0, \\\"y\\\": 399500.0}, {\\\"x\\\": 1890.0, \\\"y\\\": 1065000.0}, {\\\"x\\\": 1920.0, \\\"y\\\": 352500.0}, {\\\"x\\\": 1870.0, \\\"y\\\": 259000.0}, {\\\"x\\\": 900.0, \\\"y\\\": 320000.0}, {\\\"x\\\": 2160.0, \\\"y\\\": 733000.0}, {\\\"x\\\": 900.0, \\\"y\\\": 381500.0}, {\\\"x\\\": 1180.0, \\\"y\\\": 343000.0}, {\\\"x\\\": 900.0, \\\"y\\\": 205500.0}, {\\\"x\\\": 1600.0, \\\"y\\\": 525000.0}, {\\\"x\\\": 1500.0, \\\"y\\\": 300000.0}, {\\\"x\\\": 1070.0, \\\"y\\\": 299000.0}, {\\\"x\\\": 2570.0, \\\"y\\\": 561000.0}, {\\\"x\\\": 1210.0, \\\"y\\\": 450000.0}, {\\\"x\\\": 1850.0, \\\"y\\\": 540000.0}, {\\\"x\\\": 1740.0, \\\"y\\\": 379000.0}, {\\\"x\\\": 1300.0, \\\"y\\\": 230000.0}, {\\\"x\\\": 2000.0, \\\"y\\\": 399950.0}, {\\\"x\\\": 3220.0, \\\"y\\\": 355000.0}, {\\\"x\\\": 2160.0, \\\"y\\\": 580000.0}, {\\\"x\\\": 2130.0, \\\"y\\\": 700000.0}, {\\\"x\\\": 1580.0, \\\"y\\\": 279900.0}, {\\\"x\\\": 1200.0, \\\"y\\\": 210000.0}, {\\\"x\\\": 3790.0, \\\"y\\\": 1165000.0}, {\\\"x\\\": 860.0, \\\"y\\\": 290300.0}, {\\\"x\\\": 5130.0, \\\"y\\\": 1599950.0}, {\\\"x\\\": 1600.0, \\\"y\\\": 490000.0}, {\\\"x\\\": 2110.0, \\\"y\\\": 606000.0}, {\\\"x\\\": 1400.0, \\\"y\\\": 359950.0}, {\\\"x\\\": 2110.0, \\\"y\\\": 677100.0}, {\\\"x\\\": 1430.0, \\\"y\\\": 465000.0}, {\\\"x\\\": 6640.0, \\\"y\\\": 4500000.0}, {\\\"x\\\": 3040.0, \\\"y\\\": 500000.0}, {\\\"x\\\": 980.0, \\\"y\\\": 455000.0}, {\\\"x\\\": 2570.0, \\\"y\\\": 705000.0}, {\\\"x\\\": 2060.0, \\\"y\\\": 420000.0}, {\\\"x\\\": 1300.0, \\\"y\\\": 169575.0}, {\\\"x\\\": 1300.0, \\\"y\\\": 250000.0}, {\\\"x\\\": 1680.0, \\\"y\\\": 530000.0}, {\\\"x\\\": 4020.0, \\\"y\\\": 590000.0}, {\\\"x\\\": 1530.0, \\\"y\\\": 257500.0}, {\\\"x\\\": 1170.0, \\\"y\\\": 415000.0}, {\\\"x\\\": 1580.0, \\\"y\\\": 536000.0}, {\\\"x\\\": 1270.0, \\\"y\\\": 246500.0}, {\\\"x\\\": 1480.0, \\\"y\\\": 395000.0}, {\\\"x\\\": 2220.0, \\\"y\\\": 739000.0}, {\\\"x\\\": 3200.0, \\\"y\\\": 1272000.0}, {\\\"x\\\": 910.0, \\\"y\\\": 190000.0}, {\\\"x\\\": 1480.0, \\\"y\\\": 305000.0}, {\\\"x\\\": 3770.0, \\\"y\\\": 925000.0}, {\\\"x\\\": 3500.0, \\\"y\\\": 895000.0}, {\\\"x\\\": 1480.0, \\\"y\\\": 656000.0}, {\\\"x\\\": 1660.0, \\\"y\\\": 560000.0}, {\\\"x\\\": 2520.0, \\\"y\\\": 610000.0}, {\\\"x\\\": 2850.0, \\\"y\\\": 645000.0}, {\\\"x\\\": 2153.0, \\\"y\\\": 259000.0}, {\\\"x\\\": 3780.0, \\\"y\\\": 980000.0}, {\\\"x\\\": 3770.0, \\\"y\\\": 872000.0}, {\\\"x\\\": 3600.0, \\\"y\\\": 1000000.0}, {\\\"x\\\": 2980.0, \\\"y\\\": 900000.0}, {\\\"x\\\": 2320.0, \\\"y\\\": 475000.0}, {\\\"x\\\": 2980.0, \\\"y\\\": 350000.0}, {\\\"x\\\": 2930.0, \\\"y\\\": 840000.0}, {\\\"x\\\": 2040.0, \\\"y\\\": 500000.0}, {\\\"x\\\": 1510.0, \\\"y\\\": 202500.0}, {\\\"x\\\": 2660.0, \\\"y\\\": 523000.0}, {\\\"x\\\": 1740.0, \\\"y\\\": 225000.0}, {\\\"x\\\": 2240.0, \\\"y\\\": 418200.0}, {\\\"x\\\": 1570.0, \\\"y\\\": 356500.0}, {\\\"x\\\": 2500.0, \\\"y\\\": 670000.0}, {\\\"x\\\": 1750.0, \\\"y\\\": 456150.0}, {\\\"x\\\": 3030.0, \\\"y\\\": 471000.0}, {\\\"x\\\": 1680.0, \\\"y\\\": 558000.0}, {\\\"x\\\": 5740.0, \\\"y\\\": 1380000.0}, {\\\"x\\\": 1220.0, \\\"y\\\": 161500.0}, {\\\"x\\\": 1310.0, \\\"y\\\": 311000.0}, {\\\"x\\\": 2490.0, \\\"y\\\": 470000.0}, {\\\"x\\\": 2220.0, \\\"y\\\": 569000.0}, {\\\"x\\\": 2240.0, \\\"y\\\": 689000.0}, {\\\"x\\\": 1890.0, \\\"y\\\": 271900.0}, {\\\"x\\\": 1850.0, \\\"y\\\": 278000.0}, {\\\"x\\\": 2210.0, \\\"y\\\": 820000.0}, {\\\"x\\\": 1410.0, \\\"y\\\": 399500.0}, {\\\"x\\\": 1890.0, \\\"y\\\": 462000.0}, {\\\"x\\\": 1830.0, \\\"y\\\": 347500.0}, {\\\"x\\\": 1440.0, \\\"y\\\": 562100.0}, {\\\"x\\\": 950.0, \\\"y\\\": 230000.0}, {\\\"x\\\": 2370.0, \\\"y\\\": 687000.0}, {\\\"x\\\": 3070.0, \\\"y\\\": 725786.0}, {\\\"x\\\": 1300.0, \\\"y\\\": 315500.0}, {\\\"x\\\": 1300.0, \\\"y\\\": 312000.0}, {\\\"x\\\": 1210.0, \\\"y\\\": 343000.0}, {\\\"x\\\": 710.0, \\\"y\\\": 385195.0}, {\\\"x\\\": 2240.0, \\\"y\\\": 415000.0}, {\\\"x\\\": 3600.0, \\\"y\\\": 461000.0}, {\\\"x\\\": 1960.0, \\\"y\\\": 369990.0}, {\\\"x\\\": 1820.0, \\\"y\\\": 349950.0}, {\\\"x\\\": 1960.0, \\\"y\\\": 285750.0}, {\\\"x\\\": 1750.0, \\\"y\\\": 542500.0}, {\\\"x\\\": 3700.0, \\\"y\\\": 830000.0}, {\\\"x\\\": 2910.0, \\\"y\\\": 705000.0}, {\\\"x\\\": 1270.0, \\\"y\\\": 615000.0}, {\\\"x\\\": 720.0, \\\"y\\\": 184500.0}, {\\\"x\\\": 1040.0, \\\"y\\\": 412000.0}, {\\\"x\\\": 2210.0, \\\"y\\\": 250000.0}, {\\\"x\\\": 2060.0, \\\"y\\\": 580000.0}, {\\\"x\\\": 780.0, \\\"y\\\": 220000.0}, {\\\"x\\\": 2240.0, \\\"y\\\": 675000.0}, {\\\"x\\\": 800.0, \\\"y\\\": 373500.0}, {\\\"x\\\": 2440.0, \\\"y\\\": 662700.0}, {\\\"x\\\": 1460.0, \\\"y\\\": 239950.0}, {\\\"x\\\": 1150.0, \\\"y\\\": 383000.0}, {\\\"x\\\": 2650.0, \\\"y\\\": 485000.0}, {\\\"x\\\": 2600.0, \\\"y\\\": 610000.0}, {\\\"x\\\": 1820.0, \\\"y\\\": 545000.0}, {\\\"x\\\": 2560.0, \\\"y\\\": 780000.0}, {\\\"x\\\": 1714.0, \\\"y\\\": 305000.0}, {\\\"x\\\": 1330.0, \\\"y\\\": 405000.0}, {\\\"x\\\": 7350.0, \\\"y\\\": 1110000.0}, {\\\"x\\\": 2050.0, \\\"y\\\": 273000.0}, {\\\"x\\\": 1810.0, \\\"y\\\": 326500.0}, {\\\"x\\\": 1380.0, \\\"y\\\": 365000.0}, {\\\"x\\\": 3070.0, \\\"y\\\": 1000750.0}, {\\\"x\\\": 800.0, \\\"y\\\": 422500.0}, {\\\"x\\\": 2140.0, \\\"y\\\": 354450.0}, {\\\"x\\\": 1330.0, \\\"y\\\": 320000.0}, {\\\"x\\\": 1030.0, \\\"y\\\": 223000.0}, {\\\"x\\\": 1740.0, \\\"y\\\": 410000.0}, {\\\"x\\\": 1200.0, \\\"y\\\": 438000.0}, {\\\"x\\\": 1490.0, \\\"y\\\": 390000.0}, {\\\"x\\\": 1890.0, \\\"y\\\": 298500.0}, {\\\"x\\\": 3060.0, \\\"y\\\": 749999.0}, {\\\"x\\\": 3250.0, \\\"y\\\": 779000.0}, {\\\"x\\\": 2730.0, \\\"y\\\": 570000.0}, {\\\"x\\\": 810.0, \\\"y\\\": 385000.0}, {\\\"x\\\": 2240.0, \\\"y\\\": 649000.0}, {\\\"x\\\": 1740.0, \\\"y\\\": 283000.0}, {\\\"x\\\": 2380.0, \\\"y\\\": 699900.0}, {\\\"x\\\": 1540.0, \\\"y\\\": 278500.0}, {\\\"x\\\": 2340.0, \\\"y\\\": 700000.0}, {\\\"x\\\": 2710.0, \\\"y\\\": 535000.0}, {\\\"x\\\": 1310.0, \\\"y\\\": 234500.0}, {\\\"x\\\": 1390.0, \\\"y\\\": 374150.0}, {\\\"x\\\": 2201.0, \\\"y\\\": 397000.0}, {\\\"x\\\": 1960.0, \\\"y\\\": 613000.0}, {\\\"x\\\": 2850.0, \\\"y\\\": 1150000.0}, {\\\"x\\\": 1880.0, \\\"y\\\": 595000.0}, {\\\"x\\\": 2440.0, \\\"y\\\": 340000.0}, {\\\"x\\\": 2560.0, \\\"y\\\": 388000.0}, {\\\"x\\\": 1410.0, \\\"y\\\": 404000.0}, {\\\"x\\\": 2870.0, \\\"y\\\": 810000.0}, {\\\"x\\\": 2620.0, \\\"y\\\": 405000.0}, {\\\"x\\\": 2970.0, \\\"y\\\": 726000.0}, {\\\"x\\\": 1780.0, \\\"y\\\": 266000.0}, {\\\"x\\\": 3700.0, \\\"y\\\": 722500.0}, {\\\"x\\\": 1252.0, \\\"y\\\": 352000.0}, {\\\"x\\\": 1240.0, \\\"y\\\": 265000.0}, {\\\"x\\\": 2160.0, \\\"y\\\": 856000.0}, {\\\"x\\\": 2040.0, \\\"y\\\": 346950.0}, {\\\"x\\\": 3130.0, \\\"y\\\": 866059.0}, {\\\"x\\\": 2350.0, \\\"y\\\": 410000.0}, {\\\"x\\\": 1570.0, \\\"y\\\": 370000.0}, {\\\"x\\\": 1530.0, \\\"y\\\": 230000.0}, {\\\"x\\\": 1520.0, \\\"y\\\": 400000.0}, {\\\"x\\\": 1350.0, \\\"y\\\": 172000.0}, {\\\"x\\\": 1950.0, \\\"y\\\": 615000.0}, {\\\"x\\\": 3950.0, \\\"y\\\": 860000.0}, {\\\"x\\\": 2040.0, \\\"y\\\": 555000.0}, {\\\"x\\\": 1990.0, \\\"y\\\": 579000.0}, {\\\"x\\\": 1300.0, \\\"y\\\": 385000.0}, {\\\"x\\\": 2030.0, \\\"y\\\": 420000.0}, {\\\"x\\\": 2340.0, \\\"y\\\": 645000.0}, {\\\"x\\\": 2160.0, \\\"y\\\": 549950.0}, {\\\"x\\\": 2770.0, \\\"y\\\": 678000.0}, {\\\"x\\\": 2030.0, \\\"y\\\": 199000.0}, {\\\"x\\\": 1440.0, \\\"y\\\": 604000.0}, {\\\"x\\\": 1730.0, \\\"y\\\": 268000.0}, {\\\"x\\\": 4510.0, \\\"y\\\": 960000.0}, {\\\"x\\\": 2100.0, \\\"y\\\": 509250.0}, {\\\"x\\\": 1800.0, \\\"y\\\": 416000.0}, {\\\"x\\\": 1090.0, \\\"y\\\": 190000.0}, {\\\"x\\\": 1010.0, \\\"y\\\": 212000.0}, {\\\"x\\\": 2040.0, \\\"y\\\": 325900.0}, {\\\"x\\\": 2270.0, \\\"y\\\": 560000.0}, {\\\"x\\\": 1730.0, \\\"y\\\": 275000.0}, {\\\"x\\\": 2480.0, \\\"y\\\": 665000.0}, {\\\"x\\\": 3480.0, \\\"y\\\": 1505000.0}, {\\\"x\\\": 1720.0, \\\"y\\\": 375000.0}, {\\\"x\\\": 1570.0, \\\"y\\\": 359950.0}, {\\\"x\\\": 3527.0, \\\"y\\\": 340000.0}, {\\\"x\\\": 840.0, \\\"y\\\": 401000.0}, {\\\"x\\\": 1950.0, \\\"y\\\": 669000.0}, {\\\"x\\\": 1980.0, \\\"y\\\": 638500.0}, {\\\"x\\\": 1620.0, \\\"y\\\": 545000.0}, {\\\"x\\\": 1980.0, \\\"y\\\": 524000.0}, {\\\"x\\\": 3530.0, \\\"y\\\": 1610000.0}, {\\\"x\\\": 1260.0, \\\"y\\\": 280000.0}, {\\\"x\\\": 2120.0, \\\"y\\\": 828000.0}, {\\\"x\\\": 1360.0, \\\"y\\\": 223000.0}, {\\\"x\\\": 3100.0, \\\"y\\\": 1289000.0}, {\\\"x\\\": 2370.0, \\\"y\\\": 750000.0}, {\\\"x\\\": 1460.0, \\\"y\\\": 430000.0}, {\\\"x\\\": 1980.0, \\\"y\\\": 711000.0}, {\\\"x\\\": 1930.0, \\\"y\\\": 310000.0}, {\\\"x\\\": 3700.0, \\\"y\\\": 415000.0}, {\\\"x\\\": 1970.0, \\\"y\\\": 274900.0}, {\\\"x\\\": 2470.0, \\\"y\\\": 525000.0}, {\\\"x\\\": 1180.0, \\\"y\\\": 179500.0}, {\\\"x\\\": 1280.0, \\\"y\\\": 478000.0}, {\\\"x\\\": 1380.0, \\\"y\\\": 195000.0}, {\\\"x\\\": 2740.0, \\\"y\\\": 385000.0}, {\\\"x\\\": 2020.0, \\\"y\\\": 401000.0}, {\\\"x\\\": 2835.0, \\\"y\\\": 522000.0}, {\\\"x\\\": 1520.0, \\\"y\\\": 330000.0}, {\\\"x\\\": 2190.0, \\\"y\\\": 503000.0}, {\\\"x\\\": 1680.0, \\\"y\\\": 175000.0}, {\\\"x\\\": 3915.0, \\\"y\\\": 963990.0}, {\\\"x\\\": 1720.0, \\\"y\\\": 845000.0}, {\\\"x\\\": 670.0, \\\"y\\\": 157500.0}, {\\\"x\\\": 1790.0, \\\"y\\\": 450000.0}, {\\\"x\\\": 2440.0, \\\"y\\\": 925000.0}, {\\\"x\\\": 920.0, \\\"y\\\": 600000.0}, {\\\"x\\\": 1680.0, \\\"y\\\": 709000.0}, {\\\"x\\\": 3290.0, \\\"y\\\": 1385000.0}, {\\\"x\\\": 2120.0, \\\"y\\\": 248000.0}, {\\\"x\\\": 910.0, \\\"y\\\": 245000.0}, {\\\"x\\\": 1000.0, \\\"y\\\": 332000.0}, {\\\"x\\\": 2340.0, \\\"y\\\": 459950.0}, {\\\"x\\\": 1180.0, \\\"y\\\": 425000.0}, {\\\"x\\\": 2080.0, \\\"y\\\": 460000.0}, {\\\"x\\\": 3760.0, \\\"y\\\": 838300.0}, {\\\"x\\\": 1480.0, \\\"y\\\": 256000.0}, {\\\"x\\\": 3060.0, \\\"y\\\": 864000.0}, {\\\"x\\\": 3070.0, \\\"y\\\": 900000.0}, {\\\"x\\\": 1170.0, \\\"y\\\": 145600.0}, {\\\"x\\\": 2900.0, \\\"y\\\": 865000.0}, {\\\"x\\\": 2210.0, \\\"y\\\": 250250.0}, {\\\"x\\\": 1440.0, \\\"y\\\": 162000.0}, {\\\"x\\\": 1980.0, \\\"y\\\": 450000.0}, {\\\"x\\\": 2060.0, \\\"y\\\": 675500.0}, {\\\"x\\\": 2420.0, \\\"y\\\": 697000.0}, {\\\"x\\\": 3440.0, \\\"y\\\": 1324050.0}, {\\\"x\\\": 1600.0, \\\"y\\\": 490000.0}, {\\\"x\\\": 2210.0, \\\"y\\\": 590000.0}, {\\\"x\\\": 2250.0, \\\"y\\\": 280000.0}, {\\\"x\\\": 1680.0, \\\"y\\\": 515000.0}, {\\\"x\\\": 1140.0, \\\"y\\\": 576000.0}, {\\\"x\\\": 1430.0, \\\"y\\\": 375000.0}, {\\\"x\\\": 1440.0, \\\"y\\\": 478000.0}, {\\\"x\\\": 1670.0, \\\"y\\\": 282000.0}, {\\\"x\\\": 3080.0, \\\"y\\\": 1400000.0}, {\\\"x\\\": 4300.0, \\\"y\\\": 593500.0}, {\\\"x\\\": 3010.0, \\\"y\\\": 724950.0}, {\\\"x\\\": 1560.0, \\\"y\\\": 306000.0}, {\\\"x\\\": 1920.0, \\\"y\\\": 341000.0}, {\\\"x\\\": 1400.0, \\\"y\\\": 399950.0}, {\\\"x\\\": 2280.0, \\\"y\\\": 534000.0}, {\\\"x\\\": 3880.0, \\\"y\\\": 635000.0}, {\\\"x\\\": 1350.0, \\\"y\\\": 350000.0}, {\\\"x\\\": 1480.0, \\\"y\\\": 856000.0}, {\\\"x\\\": 1670.0, \\\"y\\\": 582000.0}, {\\\"x\\\": 3400.0, \\\"y\\\": 799000.0}, {\\\"x\\\": 2070.0, \\\"y\\\": 423700.0}, {\\\"x\\\": 4870.0, \\\"y\\\": 1835000.0}, {\\\"x\\\": 1760.0, \\\"y\\\": 322000.0}, {\\\"x\\\": 4030.0, \\\"y\\\": 929000.0}, {\\\"x\\\": 1130.0, \\\"y\\\": 443000.0}, {\\\"x\\\": 1510.0, \\\"y\\\": 441500.0}, {\\\"x\\\": 3110.0, \\\"y\\\": 875000.0}, {\\\"x\\\": 5020.0, \\\"y\\\": 3600000.0}, {\\\"x\\\": 740.0, \\\"y\\\": 450000.0}, {\\\"x\\\": 1630.0, \\\"y\\\": 425000.0}, {\\\"x\\\": 2780.0, \\\"y\\\": 660000.0}, {\\\"x\\\": 1990.0, \\\"y\\\": 763101.0}, {\\\"x\\\": 2250.0, \\\"y\\\": 499000.0}, {\\\"x\\\": 1720.0, \\\"y\\\": 521000.0}, {\\\"x\\\": 900.0, \\\"y\\\": 302000.0}, {\\\"x\\\": 2360.0, \\\"y\\\": 293000.0}, {\\\"x\\\": 1530.0, \\\"y\\\": 335000.0}, {\\\"x\\\": 1450.0, \\\"y\\\": 499000.0}, {\\\"x\\\": 2040.0, \\\"y\\\": 600000.0}, {\\\"x\\\": 2620.0, \\\"y\\\": 720000.0}, {\\\"x\\\": 1180.0, \\\"y\\\": 195000.0}, {\\\"x\\\": 1110.0, \\\"y\\\": 249000.0}, {\\\"x\\\": 1840.0, \\\"y\\\": 334000.0}, {\\\"x\\\": 2720.0, \\\"y\\\": 599950.0}, {\\\"x\\\": 1090.0, \\\"y\\\": 149900.0}, {\\\"x\\\": 1730.0, \\\"y\\\": 700000.0}, {\\\"x\\\": 1170.0, \\\"y\\\": 525000.0}, {\\\"x\\\": 4740.0, \\\"y\\\": 1049000.0}, {\\\"x\\\": 1960.0, \\\"y\\\": 402000.0}, {\\\"x\\\": 1430.0, \\\"y\\\": 450000.0}, {\\\"x\\\": 2510.0, \\\"y\\\": 520000.0}, {\\\"x\\\": 1420.0, \\\"y\\\": 205000.0}, {\\\"x\\\": 2680.0, \\\"y\\\": 635000.0}, {\\\"x\\\": 1220.0, \\\"y\\\": 210500.0}, {\\\"x\\\": 1070.0, \\\"y\\\": 406650.0}, {\\\"x\\\": 1580.0, \\\"y\\\": 350000.0}, {\\\"x\\\": 1820.0, \\\"y\\\": 425000.0}, {\\\"x\\\": 3590.0, \\\"y\\\": 798000.0}, {\\\"x\\\": 1960.0, \\\"y\\\": 180000.0}, {\\\"x\\\": 3160.0, \\\"y\\\": 1250000.0}, {\\\"x\\\": 2030.0, \\\"y\\\": 435000.0}, {\\\"x\\\": 1240.0, \\\"y\\\": 355000.0}, {\\\"x\\\": 5370.0, \\\"y\\\": 3000000.0}, {\\\"x\\\": 2670.0, \\\"y\\\": 685000.0}, {\\\"x\\\": 1640.0, \\\"y\\\": 311000.0}, {\\\"x\\\": 2130.0, \\\"y\\\": 305000.0}, {\\\"x\\\": 2550.0, \\\"y\\\": 675000.0}, {\\\"x\\\": 3630.0, \\\"y\\\": 769000.0}, {\\\"x\\\": 1690.0, \\\"y\\\": 430000.0}, {\\\"x\\\": 2390.0, \\\"y\\\": 516250.0}, {\\\"x\\\": 2350.0, \\\"y\\\": 760000.0}, {\\\"x\\\": 1420.0, \\\"y\\\": 579950.0}, {\\\"x\\\": 1570.0, \\\"y\\\": 476000.0}, {\\\"x\\\": 1600.0, \\\"y\\\": 510000.0}, {\\\"x\\\": 720.0, \\\"y\\\": 205000.0}, {\\\"x\\\": 1470.0, \\\"y\\\": 240000.0}, {\\\"x\\\": 2790.0, \\\"y\\\": 738000.0}, {\\\"x\\\": 1720.0, \\\"y\\\": 420000.0}, {\\\"x\\\": 1300.0, \\\"y\\\": 455000.0}, {\\\"x\\\": 2520.0, \\\"y\\\": 765000.0}, {\\\"x\\\": 1780.0, \\\"y\\\": 372000.0}, {\\\"x\\\": 1200.0, \\\"y\\\": 160000.0}, {\\\"x\\\": 2990.0, \\\"y\\\": 772000.0}, {\\\"x\\\": 1910.0, \\\"y\\\": 1125000.0}, {\\\"x\\\": 1370.0, \\\"y\\\": 479000.0}, {\\\"x\\\": 1910.0, \\\"y\\\": 570000.0}, {\\\"x\\\": 1170.0, \\\"y\\\": 350000.0}, {\\\"x\\\": 1250.0, \\\"y\\\": 353000.0}, {\\\"x\\\": 3340.0, \\\"y\\\": 699000.0}, {\\\"x\\\": 1380.0, \\\"y\\\": 265000.0}, {\\\"x\\\": 780.0, \\\"y\\\": 167000.0}, {\\\"x\\\": 2080.0, \\\"y\\\": 500000.0}, {\\\"x\\\": 1410.0, \\\"y\\\": 700000.0}, {\\\"x\\\": 520.0, \\\"y\\\": 295000.0}, {\\\"x\\\": 3500.0, \\\"y\\\": 1010000.0}, {\\\"x\\\": 840.0, \\\"y\\\": 209000.0}, {\\\"x\\\": 2240.0, \\\"y\\\": 276000.0}, {\\\"x\\\": 2100.0, \\\"y\\\": 380000.0}, {\\\"x\\\": 1750.0, \\\"y\\\": 315000.0}, {\\\"x\\\": 3130.0, \\\"y\\\": 685530.0}, {\\\"x\\\": 1470.0, \\\"y\\\": 254600.0}, {\\\"x\\\": 1440.0, \\\"y\\\": 230000.0}, {\\\"x\\\": 1430.0, \\\"y\\\": 335000.0}, {\\\"x\\\": 2170.0, \\\"y\\\": 550000.0}, {\\\"x\\\": 1150.0, \\\"y\\\": 123300.0}, {\\\"x\\\": 2170.0, \\\"y\\\": 275436.0}, {\\\"x\\\": 2630.0, \\\"y\\\": 325000.0}, {\\\"x\\\": 2490.0, \\\"y\\\": 635000.0}, {\\\"x\\\": 1710.0, \\\"y\\\": 513000.0}, {\\\"x\\\": 2130.0, \\\"y\\\": 580000.0}, {\\\"x\\\": 940.0, \\\"y\\\": 225000.0}, {\\\"x\\\": 1400.0, \\\"y\\\": 265000.0}, {\\\"x\\\": 1630.0, \\\"y\\\": 313000.0}, {\\\"x\\\": 1370.0, \\\"y\\\": 296000.0}, {\\\"x\\\": 2380.0, \\\"y\\\": 655500.0}, {\\\"x\\\": 2140.0, \\\"y\\\": 250750.0}, {\\\"x\\\": 1970.0, \\\"y\\\": 438000.0}, {\\\"x\\\": 2550.0, \\\"y\\\": 590000.0}, {\\\"x\\\": 1080.0, \\\"y\\\": 329500.0}, {\\\"x\\\": 3070.0, \\\"y\\\": 1195000.0}, {\\\"x\\\": 1470.0, \\\"y\\\": 415000.0}, {\\\"x\\\": 3620.0, \\\"y\\\": 900000.0}, {\\\"x\\\": 1050.0, \\\"y\\\": 378000.0}, {\\\"x\\\": 1050.0, \\\"y\\\": 474000.0}, {\\\"x\\\": 1320.0, \\\"y\\\": 464000.0}, {\\\"x\\\": 1210.0, \\\"y\\\": 310000.0}, {\\\"x\\\": 1860.0, \\\"y\\\": 580000.0}, {\\\"x\\\": 2830.0, \\\"y\\\": 999000.0}, {\\\"x\\\": 810.0, \\\"y\\\": 510000.0}, {\\\"x\\\": 1630.0, \\\"y\\\": 650000.0}, {\\\"x\\\": 880.0, \\\"y\\\": 196000.0}, {\\\"x\\\": 1660.0, \\\"y\\\": 220000.0}, {\\\"x\\\": 3440.0, \\\"y\\\": 855000.0}, {\\\"x\\\": 2110.0, \\\"y\\\": 483000.0}, {\\\"x\\\": 1060.0, \\\"y\\\": 400000.0}, {\\\"x\\\": 1900.0, \\\"y\\\": 435000.0}, {\\\"x\\\": 820.0, \\\"y\\\": 219500.0}, {\\\"x\\\": 4860.0, \\\"y\\\": 2950000.0}, {\\\"x\\\": 2050.0, \\\"y\\\": 427000.0}, {\\\"x\\\": 1090.0, \\\"y\\\": 430000.0}, {\\\"x\\\": 1090.0, \\\"y\\\": 685000.0}, {\\\"x\\\": 1920.0, \\\"y\\\": 495000.0}, {\\\"x\\\": 1870.0, \\\"y\\\": 299950.0}, {\\\"x\\\": 2690.0, \\\"y\\\": 390000.0}, {\\\"x\\\": 2160.0, \\\"y\\\": 385000.0}, {\\\"x\\\": 3000.0, \\\"y\\\": 740000.0}, {\\\"x\\\": 2290.0, \\\"y\\\": 991700.0}, {\\\"x\\\": 2250.0, \\\"y\\\": 765000.0}, {\\\"x\\\": 2130.0, \\\"y\\\": 802000.0}, {\\\"x\\\": 2500.0, \\\"y\\\": 950000.0}, {\\\"x\\\": 2300.0, \\\"y\\\": 392000.0}, {\\\"x\\\": 3360.0, \\\"y\\\": 590000.0}, {\\\"x\\\": 1920.0, \\\"y\\\": 425000.0}, {\\\"x\\\": 2440.0, \\\"y\\\": 765000.0}, {\\\"x\\\": 1440.0, \\\"y\\\": 313500.0}, {\\\"x\\\": 1780.0, \\\"y\\\": 320000.0}, {\\\"x\\\": 1490.0, \\\"y\\\": 604000.0}, {\\\"x\\\": 1400.0, \\\"y\\\": 570000.0}, {\\\"x\\\": 2150.0, \\\"y\\\": 639000.0}, {\\\"x\\\": 1910.0, \\\"y\\\": 335000.0}, {\\\"x\\\": 2660.0, \\\"y\\\": 896000.0}, {\\\"x\\\": 1650.0, \\\"y\\\": 259500.0}, {\\\"x\\\": 1980.0, \\\"y\\\": 637000.0}, {\\\"x\\\": 2690.0, \\\"y\\\": 307450.0}, {\\\"x\\\": 1380.0, \\\"y\\\": 535000.0}, {\\\"x\\\": 2500.0, \\\"y\\\": 669500.0}, {\\\"x\\\": 1590.0, \\\"y\\\": 259000.0}, {\\\"x\\\": 1100.0, \\\"y\\\": 441000.0}, {\\\"x\\\": 1470.0, \\\"y\\\": 228800.0}, {\\\"x\\\": 1680.0, \\\"y\\\": 530000.0}, {\\\"x\\\": 1450.0, \\\"y\\\": 524000.0}, {\\\"x\\\": 2020.0, \\\"y\\\": 430000.0}, {\\\"x\\\": 2470.0, \\\"y\\\": 1325000.0}, {\\\"x\\\": 1230.0, \\\"y\\\": 210000.0}, {\\\"x\\\": 1850.0, \\\"y\\\": 449000.0}, {\\\"x\\\": 2540.0, \\\"y\\\": 945000.0}, {\\\"x\\\": 970.0, \\\"y\\\": 200450.0}, {\\\"x\\\": 1070.0, \\\"y\\\": 219950.0}, {\\\"x\\\": 2620.0, \\\"y\\\": 659500.0}, {\\\"x\\\": 2110.0, \\\"y\\\": 746000.0}, {\\\"x\\\": 2110.0, \\\"y\\\": 540000.0}, {\\\"x\\\": 1910.0, \\\"y\\\": 485000.0}, {\\\"x\\\": 670.0, \\\"y\\\": 202000.0}, {\\\"x\\\": 6930.0, \\\"y\\\": 2525000.0}, {\\\"x\\\": 2010.0, \\\"y\\\": 502000.0}, {\\\"x\\\": 1770.0, \\\"y\\\": 279000.0}, {\\\"x\\\": 1340.0, \\\"y\\\": 409500.0}, {\\\"x\\\": 1660.0, \\\"y\\\": 453000.0}, {\\\"x\\\": 1820.0, \\\"y\\\": 367000.0}, {\\\"x\\\": 2510.0, \\\"y\\\": 550000.0}, {\\\"x\\\": 1560.0, \\\"y\\\": 273500.0}, {\\\"x\\\": 2280.0, \\\"y\\\": 505000.0}, {\\\"x\\\": 2650.0, \\\"y\\\": 770000.0}, {\\\"x\\\": 2470.0, \\\"y\\\": 565000.0}, {\\\"x\\\": 1270.0, \\\"y\\\": 316000.0}, {\\\"x\\\": 1520.0, \\\"y\\\": 160000.0}, {\\\"x\\\": 1310.0, \\\"y\\\": 170000.0}, {\\\"x\\\": 1310.0, \\\"y\\\": 235000.0}, {\\\"x\\\": 3930.0, \\\"y\\\": 1799000.0}, {\\\"x\\\": 990.0, \\\"y\\\": 310000.0}, {\\\"x\\\": 2080.0, \\\"y\\\": 285000.0}, {\\\"x\\\": 960.0, \\\"y\\\": 280000.0}, {\\\"x\\\": 4070.0, \\\"y\\\": 2298000.0}, {\\\"x\\\": 2750.0, \\\"y\\\": 763776.0}, {\\\"x\\\": 3230.0, \\\"y\\\": 530000.0}, {\\\"x\\\": 890.0, \\\"y\\\": 362000.0}, {\\\"x\\\": 990.0, \\\"y\\\": 430000.0}, {\\\"x\\\": 1290.0, \\\"y\\\": 456500.0}, {\\\"x\\\": 2170.0, \\\"y\\\": 445000.0}, {\\\"x\\\": 1330.0, \\\"y\\\": 386900.0}, {\\\"x\\\": 1340.0, \\\"y\\\": 479000.0}, {\\\"x\\\": 2200.0, \\\"y\\\": 525000.0}, {\\\"x\\\": 2520.0, \\\"y\\\": 272000.0}, {\\\"x\\\": 1180.0, \\\"y\\\": 517000.0}, {\\\"x\\\": 2660.0, \\\"y\\\": 615000.0}, {\\\"x\\\": 1250.0, \\\"y\\\": 439000.0}, {\\\"x\\\": 2270.0, \\\"y\\\": 716000.0}, {\\\"x\\\": 1080.0, \\\"y\\\": 308000.0}, {\\\"x\\\": 1620.0, \\\"y\\\": 800000.0}, {\\\"x\\\": 940.0, \\\"y\\\": 575000.0}, {\\\"x\\\": 1620.0, \\\"y\\\": 219950.0}, {\\\"x\\\": 2350.0, \\\"y\\\": 770000.0}, {\\\"x\\\": 2090.0, \\\"y\\\": 424950.0}, {\\\"x\\\": 1760.0, \\\"y\\\": 387000.0}, {\\\"x\\\": 2050.0, \\\"y\\\": 790000.0}, {\\\"x\\\": 600.0, \\\"y\\\": 156000.0}, {\\\"x\\\": 2540.0, \\\"y\\\": 580000.0}, {\\\"x\\\": 2090.0, \\\"y\\\": 490000.0}, {\\\"x\\\": 2700.0, \\\"y\\\": 950000.0}, {\\\"x\\\": 1410.0, \\\"y\\\": 400000.0}, {\\\"x\\\": 1170.0, \\\"y\\\": 325000.0}, {\\\"x\\\": 2540.0, \\\"y\\\": 365000.0}, {\\\"x\\\": 2190.0, \\\"y\\\": 255000.0}, {\\\"x\\\": 3890.0, \\\"y\\\": 985000.0}, {\\\"x\\\": 2030.0, \\\"y\\\": 595000.0}, {\\\"x\\\": 1350.0, \\\"y\\\": 427500.0}, {\\\"x\\\": 1940.0, \\\"y\\\": 728000.0}, {\\\"x\\\": 1260.0, \\\"y\\\": 549950.0}, {\\\"x\\\": 2800.0, \\\"y\\\": 650000.0}, {\\\"x\\\": 3080.0, \\\"y\\\": 1125000.0}, {\\\"x\\\": 840.0, \\\"y\\\": 203000.0}, {\\\"x\\\": 860.0, \\\"y\\\": 311000.0}, {\\\"x\\\": 2400.0, \\\"y\\\": 387500.0}, {\\\"x\\\": 1640.0, \\\"y\\\": 370000.0}, {\\\"x\\\": 1060.0, \\\"y\\\": 228000.0}, {\\\"x\\\": 2080.0, \\\"y\\\": 740000.0}, {\\\"x\\\": 2090.0, \\\"y\\\": 200000.0}, {\\\"x\\\": 1240.0, \\\"y\\\": 660000.0}, {\\\"x\\\": 2030.0, \\\"y\\\": 275000.0}, {\\\"x\\\": 1120.0, \\\"y\\\": 708000.0}, {\\\"x\\\": 1270.0, \\\"y\\\": 280000.0}, {\\\"x\\\": 2260.0, \\\"y\\\": 325000.0}, {\\\"x\\\": 1780.0, \\\"y\\\": 495000.0}, {\\\"x\\\": 1780.0, \\\"y\\\": 691000.0}, {\\\"x\\\": 4080.0, \\\"y\\\": 2288000.0}, {\\\"x\\\": 2120.0, \\\"y\\\": 329500.0}, {\\\"x\\\": 2060.0, \\\"y\\\": 348000.0}, {\\\"x\\\": 1670.0, \\\"y\\\": 425000.0}, {\\\"x\\\": 1080.0, \\\"y\\\": 210000.0}, {\\\"x\\\": 1210.0, \\\"y\\\": 285000.0}, {\\\"x\\\": 990.0, \\\"y\\\": 222000.0}, {\\\"x\\\": 1720.0, \\\"y\\\": 200000.0}, {\\\"x\\\": 1530.0, \\\"y\\\": 247500.0}, {\\\"x\\\": 6550.0, \\\"y\\\": 1500000.0}, {\\\"x\\\": 1100.0, \\\"y\\\": 190000.0}, {\\\"x\\\": 3020.0, \\\"y\\\": 975000.0}, {\\\"x\\\": 3180.0, \\\"y\\\": 1130000.0}, {\\\"x\\\": 1830.0, \\\"y\\\": 283200.0}, {\\\"x\\\": 2540.0, \\\"y\\\": 650000.0}, {\\\"x\\\": 1770.0, \\\"y\\\": 449500.0}, {\\\"x\\\": 1470.0, \\\"y\\\": 400000.0}, {\\\"x\\\": 570.0, \\\"y\\\": 89950.0}, {\\\"x\\\": 960.0, \\\"y\\\": 158800.0}, {\\\"x\\\": 2940.0, \\\"y\\\": 870000.0}, {\\\"x\\\": 1000.0, \\\"y\\\": 196000.0}, {\\\"x\\\": 2450.0, \\\"y\\\": 850000.0}, {\\\"x\\\": 3310.0, \\\"y\\\": 775000.0}, {\\\"x\\\": 1670.0, \\\"y\\\": 483500.0}, {\\\"x\\\": 1620.0, \\\"y\\\": 387000.0}, {\\\"x\\\": 2990.0, \\\"y\\\": 900000.0}, {\\\"x\\\": 1240.0, \\\"y\\\": 336000.0}, {\\\"x\\\": 670.0, \\\"y\\\": 415000.0}, {\\\"x\\\": 1470.0, \\\"y\\\": 380000.0}, {\\\"x\\\": 1320.0, \\\"y\\\": 350000.0}, {\\\"x\\\": 6110.0, \\\"y\\\": 1320000.0}, {\\\"x\\\": 2440.0, \\\"y\\\": 765000.0}, {\\\"x\\\": 2900.0, \\\"y\\\": 527000.0}, {\\\"x\\\": 2310.0, \\\"y\\\": 524000.0}, {\\\"x\\\": 1110.0, \\\"y\\\": 448000.0}, {\\\"x\\\": 4100.0, \\\"y\\\": 775000.0}, {\\\"x\\\": 930.0, \\\"y\\\": 176500.0}, {\\\"x\\\": 2420.0, \\\"y\\\": 750000.0}, {\\\"x\\\": 2870.0, \\\"y\\\": 1265000.0}, {\\\"x\\\": 1480.0, \\\"y\\\": 250000.0}, {\\\"x\\\": 1960.0, \\\"y\\\": 759000.0}, {\\\"x\\\": 1470.0, \\\"y\\\": 640000.0}, {\\\"x\\\": 2460.0, \\\"y\\\": 990000.0}, {\\\"x\\\": 1960.0, \\\"y\\\": 395000.0}, {\\\"x\\\": 1160.0, \\\"y\\\": 275000.0}, {\\\"x\\\": 1910.0, \\\"y\\\": 390000.0}, {\\\"x\\\": 2720.0, \\\"y\\\": 752500.0}, {\\\"x\\\": 1020.0, \\\"y\\\": 450000.0}, {\\\"x\\\": 900.0, \\\"y\\\": 473000.0}, {\\\"x\\\": 1120.0, \\\"y\\\": 178500.0}, {\\\"x\\\": 2340.0, \\\"y\\\": 485000.0}, {\\\"x\\\": 1410.0, \\\"y\\\": 215000.0}, {\\\"x\\\": 1920.0, \\\"y\\\": 589000.0}, {\\\"x\\\": 1370.0, \\\"y\\\": 325000.0}, {\\\"x\\\": 1590.0, \\\"y\\\": 580000.0}, {\\\"x\\\": 1850.0, \\\"y\\\": 181100.0}, {\\\"x\\\": 1430.0, \\\"y\\\": 345000.0}, {\\\"x\\\": 1940.0, \\\"y\\\": 781000.0}, {\\\"x\\\": 1270.0, \\\"y\\\": 402500.0}, {\\\"x\\\": 1380.0, \\\"y\\\": 426000.0}, {\\\"x\\\": 1720.0, \\\"y\\\": 389000.0}, {\\\"x\\\": 4050.0, \\\"y\\\": 670000.0}, {\\\"x\\\": 3660.0, \\\"y\\\": 1506000.0}, {\\\"x\\\": 1870.0, \\\"y\\\": 288400.0}, {\\\"x\\\": 2230.0, \\\"y\\\": 700000.0}, {\\\"x\\\": 2020.0, \\\"y\\\": 830000.0}, {\\\"x\\\": 3690.0, \\\"y\\\": 1899000.0}, {\\\"x\\\": 1450.0, \\\"y\\\": 350500.0}, {\\\"x\\\": 1630.0, \\\"y\\\": 431000.0}, {\\\"x\\\": 1840.0, \\\"y\\\": 485000.0}, {\\\"x\\\": 1620.0, \\\"y\\\": 780000.0}, {\\\"x\\\": 1840.0, \\\"y\\\": 720000.0}, {\\\"x\\\": 1360.0, \\\"y\\\": 415000.0}, {\\\"x\\\": 2080.0, \\\"y\\\": 480000.0}, {\\\"x\\\": 2550.0, \\\"y\\\": 452250.0}, {\\\"x\\\": 2550.0, \\\"y\\\": 316000.0}, {\\\"x\\\": 1160.0, \\\"y\\\": 700000.0}, {\\\"x\\\": 1760.0, \\\"y\\\": 285000.0}, {\\\"x\\\": 1720.0, \\\"y\\\": 575000.0}, {\\\"x\\\": 2300.0, \\\"y\\\": 590000.0}, {\\\"x\\\": 2500.0, \\\"y\\\": 587500.0}, {\\\"x\\\": 1750.0, \\\"y\\\": 364000.0}, {\\\"x\\\": 1890.0, \\\"y\\\": 490000.0}, {\\\"x\\\": 1800.0, \\\"y\\\": 410000.0}, {\\\"x\\\": 2160.0, \\\"y\\\": 520000.0}, {\\\"x\\\": 1380.0, \\\"y\\\": 389000.0}, {\\\"x\\\": 1180.0, \\\"y\\\": 450000.0}, {\\\"x\\\": 2550.0, \\\"y\\\": 325000.0}, {\\\"x\\\": 1070.0, \\\"y\\\": 660000.0}, {\\\"x\\\": 2870.0, \\\"y\\\": 850000.0}, {\\\"x\\\": 1940.0, \\\"y\\\": 285000.0}, {\\\"x\\\": 870.0, \\\"y\\\": 395000.0}, {\\\"x\\\": 1550.0, \\\"y\\\": 440000.0}, {\\\"x\\\": 1400.0, \\\"y\\\": 249000.0}, {\\\"x\\\": 1210.0, \\\"y\\\": 635000.0}, {\\\"x\\\": 3430.0, \\\"y\\\": 515000.0}, {\\\"x\\\": 3020.0, \\\"y\\\": 1400000.0}, {\\\"x\\\": 950.0, \\\"y\\\": 200000.0}, {\\\"x\\\": 3370.0, \\\"y\\\": 1135000.0}, {\\\"x\\\": 1460.0, \\\"y\\\": 445000.0}, {\\\"x\\\": 1740.0, \\\"y\\\": 555000.0}, {\\\"x\\\": 1720.0, \\\"y\\\": 537000.0}, {\\\"x\\\": 1480.0, \\\"y\\\": 315000.0}, {\\\"x\\\": 3320.0, \\\"y\\\": 805000.0}, {\\\"x\\\": 3490.0, \\\"y\\\": 414000.0}, {\\\"x\\\": 1160.0, \\\"y\\\": 375000.0}, {\\\"x\\\": 3010.0, \\\"y\\\": 401000.0}, {\\\"x\\\": 1030.0, \\\"y\\\": 210000.0}, {\\\"x\\\": 980.0, \\\"y\\\": 365000.0}, {\\\"x\\\": 1990.0, \\\"y\\\": 178000.0}, {\\\"x\\\": 1790.0, \\\"y\\\": 710000.0}, {\\\"x\\\": 810.0, \\\"y\\\": 255000.0}, {\\\"x\\\": 2940.0, \\\"y\\\": 528000.0}, {\\\"x\\\": 4883.0, \\\"y\\\": 537000.0}, {\\\"x\\\": 1360.0, \\\"y\\\": 442000.0}, {\\\"x\\\": 1370.0, \\\"y\\\": 375000.0}, {\\\"x\\\": 2120.0, \\\"y\\\": 637250.0}, {\\\"x\\\": 1240.0, \\\"y\\\": 427500.0}, {\\\"x\\\": 2770.0, \\\"y\\\": 700000.0}, {\\\"x\\\": 1660.0, \\\"y\\\": 680000.0}, {\\\"x\\\": 1170.0, \\\"y\\\": 393820.0}, {\\\"x\\\": 2470.0, \\\"y\\\": 525000.0}, {\\\"x\\\": 1310.0, \\\"y\\\": 505000.0}, {\\\"x\\\": 1670.0, \\\"y\\\": 555565.0}, {\\\"x\\\": 1660.0, \\\"y\\\": 650000.0}, {\\\"x\\\": 3500.0, \\\"y\\\": 632500.0}, {\\\"x\\\": 1440.0, \\\"y\\\": 269000.0}, {\\\"x\\\": 2360.0, \\\"y\\\": 405000.0}, {\\\"x\\\": 3460.0, \\\"y\\\": 845000.0}, {\\\"x\\\": 1750.0, \\\"y\\\": 234000.0}, {\\\"x\\\": 1470.0, \\\"y\\\": 638000.0}, {\\\"x\\\": 1710.0, \\\"y\\\": 290000.0}, {\\\"x\\\": 520.0, \\\"y\\\": 262000.0}, {\\\"x\\\": 2350.0, \\\"y\\\": 270000.0}, {\\\"x\\\": 2380.0, \\\"y\\\": 875000.0}, {\\\"x\\\": 1920.0, \\\"y\\\": 299000.0}, {\\\"x\\\": 1580.0, \\\"y\\\": 551000.0}, {\\\"x\\\": 3070.0, \\\"y\\\": 350000.0}, {\\\"x\\\": 2660.0, \\\"y\\\": 1901000.0}, {\\\"x\\\": 1700.0, \\\"y\\\": 511718.0}, {\\\"x\\\": 5010.0, \\\"y\\\": 965000.0}, {\\\"x\\\": 2680.0, \\\"y\\\": 475000.0}, {\\\"x\\\": 2720.0, \\\"y\\\": 1062000.0}, {\\\"x\\\": 940.0, \\\"y\\\": 252000.0}, {\\\"x\\\": 3596.0, \\\"y\\\": 580000.0}, {\\\"x\\\": 1240.0, \\\"y\\\": 374950.0}, {\\\"x\\\": 4660.0, \\\"y\\\": 739000.0}, {\\\"x\\\": 1710.0, \\\"y\\\": 271000.0}, {\\\"x\\\": 930.0, \\\"y\\\": 230000.0}, {\\\"x\\\": 1430.0, \\\"y\\\": 210000.0}, {\\\"x\\\": 1650.0, \\\"y\\\": 350000.0}, {\\\"x\\\": 1560.0, \\\"y\\\": 491500.0}, {\\\"x\\\": 1870.0, \\\"y\\\": 325000.0}, {\\\"x\\\": 1320.0, \\\"y\\\": 190000.0}, {\\\"x\\\": 1400.0, \\\"y\\\": 658600.0}, {\\\"x\\\": 1940.0, \\\"y\\\": 299950.0}, {\\\"x\\\": 2000.0, \\\"y\\\": 464000.0}, {\\\"x\\\": 1640.0, \\\"y\\\": 308000.0}, {\\\"x\\\": 1020.0, \\\"y\\\": 625000.0}, {\\\"x\\\": 1630.0, \\\"y\\\": 240000.0}, {\\\"x\\\": 2940.0, \\\"y\\\": 530000.0}, {\\\"x\\\": 2120.0, \\\"y\\\": 1000000.0}, {\\\"x\\\": 790.0, \\\"y\\\": 439000.0}, {\\\"x\\\": 2020.0, \\\"y\\\": 575000.0}, {\\\"x\\\": 1530.0, \\\"y\\\": 418000.0}, {\\\"x\\\": 3250.0, \\\"y\\\": 1208000.0}, {\\\"x\\\": 2930.0, \\\"y\\\": 1100000.0}, {\\\"x\\\": 3150.0, \\\"y\\\": 1900000.0}, {\\\"x\\\": 2180.0, \\\"y\\\": 580000.0}, {\\\"x\\\": 1040.0, \\\"y\\\": 380000.0}, {\\\"x\\\": 880.0, \\\"y\\\": 256000.0}, {\\\"x\\\": 1400.0, \\\"y\\\": 349950.0}, {\\\"x\\\": 2600.0, \\\"y\\\": 691500.0}, {\\\"x\\\": 1590.0, \\\"y\\\": 556000.0}, {\\\"x\\\": 1610.0, \\\"y\\\": 218000.0}, {\\\"x\\\": 1390.0, \\\"y\\\": 425000.0}, {\\\"x\\\": 3710.0, \\\"y\\\": 935000.0}, {\\\"x\\\": 2360.0, \\\"y\\\": 732000.0}, {\\\"x\\\": 1440.0, \\\"y\\\": 805500.0}, {\\\"x\\\": 1400.0, \\\"y\\\": 507250.0}, {\\\"x\\\": 4600.0, \\\"y\\\": 800000.0}, {\\\"x\\\": 2100.0, \\\"y\\\": 600000.0}, {\\\"x\\\": 2010.0, \\\"y\\\": 627800.0}, {\\\"x\\\": 2550.0, \\\"y\\\": 660000.0}, {\\\"x\\\": 1240.0, \\\"y\\\": 153503.0}, {\\\"x\\\": 2090.0, \\\"y\\\": 456500.0}, {\\\"x\\\": 2770.0, \\\"y\\\": 1306000.0}, {\\\"x\\\": 3560.0, \\\"y\\\": 843500.0}, {\\\"x\\\": 1240.0, \\\"y\\\": 625000.0}, {\\\"x\\\": 1640.0, \\\"y\\\": 527000.0}, {\\\"x\\\": 3940.0, \\\"y\\\": 1965000.0}, {\\\"x\\\": 3150.0, \\\"y\\\": 1003000.0}, {\\\"x\\\": 2550.0, \\\"y\\\": 855000.0}, {\\\"x\\\": 3940.0, \\\"y\\\": 725000.0}, {\\\"x\\\": 580.0, \\\"y\\\": 315000.0}, {\\\"x\\\": 1330.0, \\\"y\\\": 180000.0}, {\\\"x\\\": 930.0, \\\"y\\\": 700000.0}, {\\\"x\\\": 1060.0, \\\"y\\\": 476500.0}, {\\\"x\\\": 1180.0, \\\"y\\\": 193000.0}, {\\\"x\\\": 1850.0, \\\"y\\\": 295000.0}, {\\\"x\\\": 820.0, \\\"y\\\": 363000.0}, {\\\"x\\\": 3600.0, \\\"y\\\": 875000.0}, {\\\"x\\\": 1850.0, \\\"y\\\": 257200.0}, {\\\"x\\\": 2240.0, \\\"y\\\": 555000.0}, {\\\"x\\\": 1860.0, \\\"y\\\": 380000.0}, {\\\"x\\\": 2390.0, \\\"y\\\": 282000.0}, {\\\"x\\\": 2040.0, \\\"y\\\": 545000.0}, {\\\"x\\\": 1900.0, \\\"y\\\": 550000.0}, {\\\"x\\\": 1900.0, \\\"y\\\": 921500.0}, {\\\"x\\\": 2200.0, \\\"y\\\": 885000.0}, {\\\"x\\\": 2280.0, \\\"y\\\": 820000.0}, {\\\"x\\\": 1090.0, \\\"y\\\": 289000.0}, {\\\"x\\\": 670.0, \\\"y\\\": 334000.0}, {\\\"x\\\": 1050.0, \\\"y\\\": 206000.0}, {\\\"x\\\": 2090.0, \\\"y\\\": 491950.0}, {\\\"x\\\": 2030.0, \\\"y\\\": 430000.0}, {\\\"x\\\": 1250.0, \\\"y\\\": 208000.0}, {\\\"x\\\": 2600.0, \\\"y\\\": 245000.0}, {\\\"x\\\": 640.0, \\\"y\\\": 426000.0}, {\\\"x\\\": 2120.0, \\\"y\\\": 400000.0}, {\\\"x\\\": 1330.0, \\\"y\\\": 553000.0}, {\\\"x\\\": 750.0, \\\"y\\\": 296000.0}, {\\\"x\\\": 2230.0, \\\"y\\\": 428000.0}, {\\\"x\\\": 1890.0, \\\"y\\\": 325000.0}, {\\\"x\\\": 820.0, \\\"y\\\": 294000.0}, {\\\"x\\\": 1880.0, \\\"y\\\": 410000.0}, {\\\"x\\\": 2360.0, \\\"y\\\": 590000.0}, {\\\"x\\\": 1850.0, \\\"y\\\": 445000.0}, {\\\"x\\\": 2310.0, \\\"y\\\": 921000.0}, {\\\"x\\\": 2520.0, \\\"y\\\": 496000.0}, {\\\"x\\\": 800.0, \\\"y\\\": 95000.0}, {\\\"x\\\": 1580.0, \\\"y\\\": 359000.0}, {\\\"x\\\": 2430.0, \\\"y\\\": 452500.0}, {\\\"x\\\": 2350.0, \\\"y\\\": 555000.0}, {\\\"x\\\": 3800.0, \\\"y\\\": 549900.0}, {\\\"x\\\": 3670.0, \\\"y\\\": 569000.0}, {\\\"x\\\": 1780.0, \\\"y\\\": 318500.0}, {\\\"x\\\": 1295.0, \\\"y\\\": 487028.0}, {\\\"x\\\": 1350.0, \\\"y\\\": 240000.0}, {\\\"x\\\": 1440.0, \\\"y\\\": 253000.0}, {\\\"x\\\": 1320.0, \\\"y\\\": 380000.0}, {\\\"x\\\": 700.0, \\\"y\\\": 250000.0}, {\\\"x\\\": 2510.0, \\\"y\\\": 368500.0}, {\\\"x\\\": 3180.0, \\\"y\\\": 340000.0}, {\\\"x\\\": 910.0, \\\"y\\\": 400000.0}, {\\\"x\\\": 1570.0, \\\"y\\\": 835000.0}, {\\\"x\\\": 2450.0, \\\"y\\\": 299000.0}, {\\\"x\\\": 4910.0, \\\"y\\\": 1675000.0}, {\\\"x\\\": 1570.0, \\\"y\\\": 265000.0}, {\\\"x\\\": 2680.0, \\\"y\\\": 437500.0}, {\\\"x\\\": 2090.0, \\\"y\\\": 865000.0}, {\\\"x\\\": 2150.0, \\\"y\\\": 626000.0}, {\\\"x\\\": 1140.0, \\\"y\\\": 247300.0}, {\\\"x\\\": 4230.0, \\\"y\\\": 2075000.0}, {\\\"x\\\": 1790.0, \\\"y\\\": 425000.0}, {\\\"x\\\": 3100.0, \\\"y\\\": 905000.0}, {\\\"x\\\": 2220.0, \\\"y\\\": 641250.0}, {\\\"x\\\": 2370.0, \\\"y\\\": 675000.0}, {\\\"x\\\": 4070.0, \\\"y\\\": 845000.0}, {\\\"x\\\": 1790.0, \\\"y\\\": 401500.0}, {\\\"x\\\": 1610.0, \\\"y\\\": 395000.0}, {\\\"x\\\": 2830.0, \\\"y\\\": 1100000.0}, {\\\"x\\\": 1010.0, \\\"y\\\": 145000.0}, {\\\"x\\\": 1560.0, \\\"y\\\": 900000.0}, {\\\"x\\\": 1330.0, \\\"y\\\": 374500.0}, {\\\"x\\\": 2330.0, \\\"y\\\": 850000.0}, {\\\"x\\\": 960.0, \\\"y\\\": 490000.0}, {\\\"x\\\": 1710.0, \\\"y\\\": 304000.0}, {\\\"x\\\": 2230.0, \\\"y\\\": 400000.0}, {\\\"x\\\": 1700.0, \\\"y\\\": 454000.0}, {\\\"x\\\": 1040.0, \\\"y\\\": 160000.0}, {\\\"x\\\": 1070.0, \\\"y\\\": 542000.0}, {\\\"x\\\": 3600.0, \\\"y\\\": 403500.0}, {\\\"x\\\": 2750.0, \\\"y\\\": 418000.0}, {\\\"x\\\": 1920.0, \\\"y\\\": 406000.0}, {\\\"x\\\": 1770.0, \\\"y\\\": 242500.0}, {\\\"x\\\": 2460.0, \\\"y\\\": 425000.0}, {\\\"x\\\": 1550.0, \\\"y\\\": 613000.0}, {\\\"x\\\": 1460.0, \\\"y\\\": 189000.0}, {\\\"x\\\": 2440.0, \\\"y\\\": 700000.0}, {\\\"x\\\": 1640.0, \\\"y\\\": 750000.0}, {\\\"x\\\": 1290.0, \\\"y\\\": 494000.0}, {\\\"x\\\": 3150.0, \\\"y\\\": 700000.0}, {\\\"x\\\": 2305.0, \\\"y\\\": 705000.0}, {\\\"x\\\": 1060.0, \\\"y\\\": 356000.0}, {\\\"x\\\": 2060.0, \\\"y\\\": 625000.0}, {\\\"x\\\": 900.0, \\\"y\\\": 144975.0}, {\\\"x\\\": 3890.0, \\\"y\\\": 970000.0}, {\\\"x\\\": 1910.0, \\\"y\\\": 415000.0}, {\\\"x\\\": 2340.0, \\\"y\\\": 485000.0}, {\\\"x\\\": 2900.0, \\\"y\\\": 799950.0}, {\\\"x\\\": 3290.0, \\\"y\\\": 783350.0}, {\\\"x\\\": 630.0, \\\"y\\\": 430000.0}, {\\\"x\\\": 5410.0, \\\"y\\\": 2544750.0}, {\\\"x\\\": 4270.0, \\\"y\\\": 975000.0}, {\\\"x\\\": 1700.0, \\\"y\\\": 950000.0}, {\\\"x\\\": 1430.0, \\\"y\\\": 350000.0}, {\\\"x\\\": 2850.0, \\\"y\\\": 637000.0}, {\\\"x\\\": 2160.0, \\\"y\\\": 895000.0}, {\\\"x\\\": 1760.0, \\\"y\\\": 579000.0}, {\\\"x\\\": 2700.0, \\\"y\\\": 314900.0}, {\\\"x\\\": 860.0, \\\"y\\\": 122000.0}, {\\\"x\\\": 880.0, \\\"y\\\": 405000.0}, {\\\"x\\\": 1360.0, \\\"y\\\": 553650.0}, {\\\"x\\\": 1770.0, \\\"y\\\": 369900.0}, {\\\"x\\\": 2030.0, \\\"y\\\": 225000.0}, {\\\"x\\\": 1180.0, \\\"y\\\": 160000.0}, {\\\"x\\\": 2430.0, \\\"y\\\": 449500.0}, {\\\"x\\\": 1300.0, \\\"y\\\": 650000.0}, {\\\"x\\\": 2360.0, \\\"y\\\": 542126.0}, {\\\"x\\\": 1200.0, \\\"y\\\": 309950.0}, {\\\"x\\\": 1000.0, \\\"y\\\": 115000.0}, {\\\"x\\\": 1556.0, \\\"y\\\": 221700.0}, {\\\"x\\\": 1890.0, \\\"y\\\": 726000.0}, {\\\"x\\\": 1810.0, \\\"y\\\": 515000.0}, {\\\"x\\\": 2730.0, \\\"y\\\": 756000.0}, {\\\"x\\\": 3070.0, \\\"y\\\": 1570000.0}, {\\\"x\\\": 2080.0, \\\"y\\\": 442000.0}, {\\\"x\\\": 1620.0, \\\"y\\\": 260000.0}, {\\\"x\\\": 1150.0, \\\"y\\\": 390000.0}, {\\\"x\\\": 1250.0, \\\"y\\\": 459500.0}, {\\\"x\\\": 1430.0, \\\"y\\\": 330000.0}, {\\\"x\\\": 790.0, \\\"y\\\": 189000.0}, {\\\"x\\\": 1200.0, \\\"y\\\": 280000.0}, {\\\"x\\\": 2110.0, \\\"y\\\": 400000.0}, {\\\"x\\\": 3160.0, \\\"y\\\": 368000.0}, {\\\"x\\\": 2700.0, \\\"y\\\": 390000.0}, {\\\"x\\\": 820.0, \\\"y\\\": 245000.0}, {\\\"x\\\": 1800.0, \\\"y\\\": 375000.0}, {\\\"x\\\": 1750.0, \\\"y\\\": 465000.0}, {\\\"x\\\": 1540.0, \\\"y\\\": 445000.0}, {\\\"x\\\": 1130.0, \\\"y\\\": 250000.0}, {\\\"x\\\": 1500.0, \\\"y\\\": 475500.0}, {\\\"x\\\": 1600.0, \\\"y\\\": 672324.0}, {\\\"x\\\": 1200.0, \\\"y\\\": 420000.0}, {\\\"x\\\": 1690.0, \\\"y\\\": 515000.0}, {\\\"x\\\": 2270.0, \\\"y\\\": 732350.0}, {\\\"x\\\": 1910.0, \\\"y\\\": 297500.0}, {\\\"x\\\": 1640.0, \\\"y\\\": 475000.0}, {\\\"x\\\": 2120.0, \\\"y\\\": 414000.0}, {\\\"x\\\": 1400.0, \\\"y\\\": 357250.0}, {\\\"x\\\": 760.0, \\\"y\\\": 289950.0}, {\\\"x\\\": 1070.0, \\\"y\\\": 550000.0}, {\\\"x\\\": 1460.0, \\\"y\\\": 446000.0}, {\\\"x\\\": 1280.0, \\\"y\\\": 279000.0}, {\\\"x\\\": 1650.0, \\\"y\\\": 370000.0}, {\\\"x\\\": 1260.0, \\\"y\\\": 216000.0}, {\\\"x\\\": 2200.0, \\\"y\\\": 1100000.0}, {\\\"x\\\": 3560.0, \\\"y\\\": 1280600.0}, {\\\"x\\\": 1140.0, \\\"y\\\": 355000.0}, {\\\"x\\\": 2550.0, \\\"y\\\": 699000.0}, {\\\"x\\\": 1553.0, \\\"y\\\": 412000.0}, {\\\"x\\\": 1140.0, \\\"y\\\": 276000.0}, {\\\"x\\\": 790.0, \\\"y\\\": 100000.0}, {\\\"x\\\": 2130.0, \\\"y\\\": 955500.0}, {\\\"x\\\": 1390.0, \\\"y\\\": 199000.0}, {\\\"x\\\": 4000.0, \\\"y\\\": 762000.0}, {\\\"x\\\": 1520.0, \\\"y\\\": 425000.0}, {\\\"x\\\": 1657.0, \\\"y\\\": 546000.0}, {\\\"x\\\": 1680.0, \\\"y\\\": 419600.0}, {\\\"x\\\": 2270.0, \\\"y\\\": 735000.0}, {\\\"x\\\": 2470.0, \\\"y\\\": 1234568.0}, {\\\"x\\\": 1240.0, \\\"y\\\": 445000.0}, {\\\"x\\\": 1740.0, \\\"y\\\": 665000.0}, {\\\"x\\\": 4090.0, \\\"y\\\": 1290000.0}, {\\\"x\\\": 2520.0, \\\"y\\\": 508500.0}, {\\\"x\\\": 1340.0, \\\"y\\\": 345950.0}, {\\\"x\\\": 1640.0, \\\"y\\\": 207500.0}, {\\\"x\\\": 3000.0, \\\"y\\\": 1075000.0}, {\\\"x\\\": 1210.0, \\\"y\\\": 640000.0}, {\\\"x\\\": 1810.0, \\\"y\\\": 329500.0}, {\\\"x\\\": 2200.0, \\\"y\\\": 460000.0}, {\\\"x\\\": 2200.0, \\\"y\\\": 1230000.0}, {\\\"x\\\": 2350.0, \\\"y\\\": 805000.0}, {\\\"x\\\": 1090.0, \\\"y\\\": 200000.0}, {\\\"x\\\": 2280.0, \\\"y\\\": 749700.0}, {\\\"x\\\": 1430.0, \\\"y\\\": 288000.0}, {\\\"x\\\": 1520.0, \\\"y\\\": 535000.0}, {\\\"x\\\": 1620.0, \\\"y\\\": 330000.0}, {\\\"x\\\": 1510.0, \\\"y\\\": 479200.0}, {\\\"x\\\": 3001.0, \\\"y\\\": 373000.0}, {\\\"x\\\": 2020.0, \\\"y\\\": 355000.0}, {\\\"x\\\": 1380.0, \\\"y\\\": 275000.0}, {\\\"x\\\": 1520.0, \\\"y\\\": 380000.0}, {\\\"x\\\": 1090.0, \\\"y\\\": 417000.0}, {\\\"x\\\": 4220.0, \\\"y\\\": 1165000.0}, {\\\"x\\\": 2520.0, \\\"y\\\": 598500.0}, {\\\"x\\\": 1760.0, \\\"y\\\": 629000.0}, {\\\"x\\\": 930.0, \\\"y\\\": 226950.0}, {\\\"x\\\": 2600.0, \\\"y\\\": 1225000.0}, {\\\"x\\\": 2180.0, \\\"y\\\": 415000.0}, {\\\"x\\\": 1910.0, \\\"y\\\": 595000.0}, {\\\"x\\\": 1100.0, \\\"y\\\": 209950.0}, {\\\"x\\\": 1760.0, \\\"y\\\": 568000.0}, {\\\"x\\\": 700.0, \\\"y\\\": 119900.0}, {\\\"x\\\": 1080.0, \\\"y\\\": 207000.0}, {\\\"x\\\": 1070.0, \\\"y\\\": 195000.0}, {\\\"x\\\": 1460.0, \\\"y\\\": 324950.0}, {\\\"x\\\": 1050.0, \\\"y\\\": 210000.0}, {\\\"x\\\": 3160.0, \\\"y\\\": 1078000.0}, {\\\"x\\\": 1400.0, \\\"y\\\": 325088.0}, {\\\"x\\\": 3120.0, \\\"y\\\": 790000.0}, {\\\"x\\\": 720.0, \\\"y\\\": 150000.0}, {\\\"x\\\": 2840.0, \\\"y\\\": 790000.0}, {\\\"x\\\": 1220.0, \\\"y\\\": 255000.0}, {\\\"x\\\": 2820.0, \\\"y\\\": 697000.0}, {\\\"x\\\": 840.0, \\\"y\\\": 457500.0}, {\\\"x\\\": 1610.0, \\\"y\\\": 690000.0}, {\\\"x\\\": 1860.0, \\\"y\\\": 967000.0}, {\\\"x\\\": 2260.0, \\\"y\\\": 980000.0}, {\\\"x\\\": 2450.0, \\\"y\\\": 619420.0}, {\\\"x\\\": 850.0, \\\"y\\\": 389000.0}, {\\\"x\\\": 1800.0, \\\"y\\\": 500000.0}, {\\\"x\\\": 1230.0, \\\"y\\\": 569000.0}, {\\\"x\\\": 2060.0, \\\"y\\\": 425000.0}, {\\\"x\\\": 2750.0, \\\"y\\\": 635000.0}, {\\\"x\\\": 1120.0, \\\"y\\\": 256500.0}, {\\\"x\\\": 3010.0, \\\"y\\\": 695000.0}, {\\\"x\\\": 1580.0, \\\"y\\\": 535000.0}, {\\\"x\\\": 2630.0, \\\"y\\\": 454200.0}, {\\\"x\\\": 790.0, \\\"y\\\": 418500.0}, {\\\"x\\\": 3110.0, \\\"y\\\": 749950.0}, {\\\"x\\\": 2130.0, \\\"y\\\": 338500.0}, {\\\"x\\\": 4520.0, \\\"y\\\": 1250000.0}, {\\\"x\\\": 1600.0, \\\"y\\\": 299950.0}, {\\\"x\\\": 1950.0, \\\"y\\\": 325000.0}, {\\\"x\\\": 2010.0, \\\"y\\\": 434000.0}, {\\\"x\\\": 2550.0, \\\"y\\\": 328950.0}, {\\\"x\\\": 5340.0, \\\"y\\\": 2095000.0}, {\\\"x\\\": 2000.0, \\\"y\\\": 570000.0}, {\\\"x\\\": 2170.0, \\\"y\\\": 802000.0}, {\\\"x\\\": 1550.0, \\\"y\\\": 525000.0}, {\\\"x\\\": 2790.0, \\\"y\\\": 700000.0}, {\\\"x\\\": 1980.0, \\\"y\\\": 350000.0}, {\\\"x\\\": 1190.0, \\\"y\\\": 277500.0}, {\\\"x\\\": 3650.0, \\\"y\\\": 1575000.0}, {\\\"x\\\": 1510.0, \\\"y\\\": 195000.0}, {\\\"x\\\": 1200.0, \\\"y\\\": 222000.0}, {\\\"x\\\": 2830.0, \\\"y\\\": 865000.0}, {\\\"x\\\": 1650.0, \\\"y\\\": 445000.0}, {\\\"x\\\": 1710.0, \\\"y\\\": 495800.0}, {\\\"x\\\": 1740.0, \\\"y\\\": 548500.0}, {\\\"x\\\": 1840.0, \\\"y\\\": 310000.0}, {\\\"x\\\": 1820.0, \\\"y\\\": 205000.0}, {\\\"x\\\": 3860.0, \\\"y\\\": 470000.0}, {\\\"x\\\": 1810.0, \\\"y\\\": 430000.0}, {\\\"x\\\": 1030.0, \\\"y\\\": 310000.0}, {\\\"x\\\": 1410.0, \\\"y\\\": 355000.0}, {\\\"x\\\": 2140.0, \\\"y\\\": 621500.0}, {\\\"x\\\": 1930.0, \\\"y\\\": 175000.0}, {\\\"x\\\": 1930.0, \\\"y\\\": 326000.0}, {\\\"x\\\": 1930.0, \\\"y\\\": 690000.0}, {\\\"x\\\": 2210.0, \\\"y\\\": 335000.0}, {\\\"x\\\": 1360.0, \\\"y\\\": 197000.0}, {\\\"x\\\": 1830.0, \\\"y\\\": 312500.0}, {\\\"x\\\": 2120.0, \\\"y\\\": 436000.0}, {\\\"x\\\": 2700.0, \\\"y\\\": 1015000.0}, {\\\"x\\\": 3160.0, \\\"y\\\": 805000.0}, {\\\"x\\\": 2770.0, \\\"y\\\": 652427.0}, {\\\"x\\\": 2240.0, \\\"y\\\": 1008000.0}, {\\\"x\\\": 2570.0, \\\"y\\\": 355000.0}, {\\\"x\\\": 880.0, \\\"y\\\": 334550.0}, {\\\"x\\\": 1820.0, \\\"y\\\": 557500.0}, {\\\"x\\\": 1660.0, \\\"y\\\": 277500.0}, {\\\"x\\\": 2200.0, \\\"y\\\": 300000.0}, {\\\"x\\\": 1640.0, \\\"y\\\": 325000.0}, {\\\"x\\\": 1650.0, \\\"y\\\": 402500.0}, {\\\"x\\\": 1420.0, \\\"y\\\": 461000.0}, {\\\"x\\\": 1270.0, \\\"y\\\": 540000.0}, {\\\"x\\\": 1070.0, \\\"y\\\": 385000.0}, {\\\"x\\\": 1060.0, \\\"y\\\": 480000.0}, {\\\"x\\\": 2190.0, \\\"y\\\": 539950.0}, {\\\"x\\\": 1940.0, \\\"y\\\": 529000.0}, {\\\"x\\\": 1300.0, \\\"y\\\": 417000.0}, {\\\"x\\\": 1330.0, \\\"y\\\": 405000.0}, {\\\"x\\\": 1940.0, \\\"y\\\": 299000.0}, {\\\"x\\\": 2100.0, \\\"y\\\": 299000.0}, {\\\"x\\\": 1290.0, \\\"y\\\": 372220.0}, {\\\"x\\\": 1560.0, \\\"y\\\": 494400.0}, {\\\"x\\\": 2630.0, \\\"y\\\": 280000.0}, {\\\"x\\\": 2100.0, \\\"y\\\": 277950.0}, {\\\"x\\\": 2070.0, \\\"y\\\": 770000.0}, {\\\"x\\\": 2960.0, \\\"y\\\": 760000.0}, {\\\"x\\\": 1300.0, \\\"y\\\": 230000.0}, {\\\"x\\\": 2520.0, \\\"y\\\": 525000.0}, {\\\"x\\\": 1150.0, \\\"y\\\": 307000.0}, {\\\"x\\\": 2030.0, \\\"y\\\": 253779.0}, {\\\"x\\\": 1880.0, \\\"y\\\": 405000.0}, {\\\"x\\\": 2320.0, \\\"y\\\": 360000.0}, {\\\"x\\\": 1050.0, \\\"y\\\": 521000.0}, {\\\"x\\\": 3030.0, \\\"y\\\": 680000.0}, {\\\"x\\\": 530.0, \\\"y\\\": 355000.0}, {\\\"x\\\": 1090.0, \\\"y\\\": 200000.0}, {\\\"x\\\": 2220.0, \\\"y\\\": 330000.0}, {\\\"x\\\": 1430.0, \\\"y\\\": 221000.0}, {\\\"x\\\": 3780.0, \\\"y\\\": 1598888.0}, {\\\"x\\\": 1560.0, \\\"y\\\": 310000.0}, {\\\"x\\\": 2220.0, \\\"y\\\": 862000.0}, {\\\"x\\\": 1140.0, \\\"y\\\": 200000.0}, {\\\"x\\\": 2540.0, \\\"y\\\": 630000.0}, {\\\"x\\\": 1440.0, \\\"y\\\": 432250.0}, {\\\"x\\\": 1570.0, \\\"y\\\": 478000.0}, {\\\"x\\\": 1860.0, \\\"y\\\": 249000.0}, {\\\"x\\\": 2440.0, \\\"y\\\": 495000.0}, {\\\"x\\\": 2100.0, \\\"y\\\": 630000.0}, {\\\"x\\\": 2150.0, \\\"y\\\": 550000.0}, {\\\"x\\\": 2440.0, \\\"y\\\": 350000.0}, {\\\"x\\\": 1930.0, \\\"y\\\": 270000.0}, {\\\"x\\\": 1830.0, \\\"y\\\": 488250.0}, {\\\"x\\\": 1850.0, \\\"y\\\": 248000.0}, {\\\"x\\\": 3210.0, \\\"y\\\": 889000.0}, {\\\"x\\\": 1090.0, \\\"y\\\": 375000.0}, {\\\"x\\\": 1870.0, \\\"y\\\": 933000.0}, {\\\"x\\\": 1920.0, \\\"y\\\": 625000.0}, {\\\"x\\\": 700.0, \\\"y\\\": 328000.0}, {\\\"x\\\": 3380.0, \\\"y\\\": 470000.0}, {\\\"x\\\": 2430.0, \\\"y\\\": 502500.0}, {\\\"x\\\": 1950.0, \\\"y\\\": 484000.0}, {\\\"x\\\": 900.0, \\\"y\\\": 252500.0}, {\\\"x\\\": 2060.0, \\\"y\\\": 610000.0}, {\\\"x\\\": 2180.0, \\\"y\\\": 419000.0}, {\\\"x\\\": 2140.0, \\\"y\\\": 322500.0}, {\\\"x\\\": 1730.0, \\\"y\\\": 563000.0}, {\\\"x\\\": 3140.0, \\\"y\\\": 464000.0}, {\\\"x\\\": 3010.0, \\\"y\\\": 870000.0}, {\\\"x\\\": 800.0, \\\"y\\\": 280000.0}, {\\\"x\\\": 3300.0, \\\"y\\\": 850000.0}, {\\\"x\\\": 1530.0, \\\"y\\\": 458950.0}, {\\\"x\\\": 760.0, \\\"y\\\": 122000.0}, {\\\"x\\\": 2450.0, \\\"y\\\": 525000.0}, {\\\"x\\\": 1000.0, \\\"y\\\": 286300.0}, {\\\"x\\\": 840.0, \\\"y\\\": 218450.0}, {\\\"x\\\": 1380.0, \\\"y\\\": 525000.0}, {\\\"x\\\": 1380.0, \\\"y\\\": 650000.0}, {\\\"x\\\": 2020.0, \\\"y\\\": 356000.0}, {\\\"x\\\": 1260.0, \\\"y\\\": 436500.0}, {\\\"x\\\": 1440.0, \\\"y\\\": 410000.0}, {\\\"x\\\": 1540.0, \\\"y\\\": 512500.0}, {\\\"x\\\": 1060.0, \\\"y\\\": 510000.0}, {\\\"x\\\": 1900.0, \\\"y\\\": 566000.0}, {\\\"x\\\": 2870.0, \\\"y\\\": 525000.0}, {\\\"x\\\": 1050.0, \\\"y\\\": 435000.0}, {\\\"x\\\": 1840.0, \\\"y\\\": 406500.0}, {\\\"x\\\": 3000.0, \\\"y\\\": 550000.0}, {\\\"x\\\": 1200.0, \\\"y\\\": 251000.0}, {\\\"x\\\": 1840.0, \\\"y\\\": 830000.0}, {\\\"x\\\": 2790.0, \\\"y\\\": 803000.0}, {\\\"x\\\": 970.0, \\\"y\\\": 206000.0}, {\\\"x\\\": 1070.0, \\\"y\\\": 200000.0}, {\\\"x\\\": 900.0, \\\"y\\\": 219000.0}, {\\\"x\\\": 2680.0, \\\"y\\\": 777000.0}, {\\\"x\\\": 2000.0, \\\"y\\\": 593700.0}, {\\\"x\\\": 1660.0, \\\"y\\\": 712500.0}, {\\\"x\\\": 1770.0, \\\"y\\\": 600000.0}, {\\\"x\\\": 1230.0, \\\"y\\\": 554663.0}, {\\\"x\\\": 1740.0, \\\"y\\\": 267000.0}, {\\\"x\\\": 1710.0, \\\"y\\\": 390000.0}, {\\\"x\\\": 2020.0, \\\"y\\\": 335000.0}, {\\\"x\\\": 2410.0, \\\"y\\\": 938000.0}, {\\\"x\\\": 2310.0, \\\"y\\\": 370000.0}, {\\\"x\\\": 2400.0, \\\"y\\\": 335000.0}, {\\\"x\\\": 3160.0, \\\"y\\\": 695000.0}, {\\\"x\\\": 1560.0, \\\"y\\\": 387500.0}, {\\\"x\\\": 1770.0, \\\"y\\\": 245000.0}, {\\\"x\\\": 1600.0, \\\"y\\\": 308550.0}, {\\\"x\\\": 1330.0, \\\"y\\\": 225000.0}, {\\\"x\\\": 2970.0, \\\"y\\\": 715000.0}, {\\\"x\\\": 1020.0, \\\"y\\\": 335000.0}, {\\\"x\\\": 2490.0, \\\"y\\\": 634000.0}, {\\\"x\\\": 1700.0, \\\"y\\\": 337500.0}, {\\\"x\\\": 850.0, \\\"y\\\": 440000.0}, {\\\"x\\\": 1250.0, \\\"y\\\": 350000.0}, {\\\"x\\\": 610.0, \\\"y\\\": 400000.0}, {\\\"x\\\": 3700.0, \\\"y\\\": 1288000.0}, {\\\"x\\\": 950.0, \\\"y\\\": 435000.0}, {\\\"x\\\": 3860.0, \\\"y\\\": 681000.0}, {\\\"x\\\": 1360.0, \\\"y\\\": 397000.0}, {\\\"x\\\": 3890.0, \\\"y\\\": 775000.0}, {\\\"x\\\": 1680.0, \\\"y\\\": 480000.0}, {\\\"x\\\": 1520.0, \\\"y\\\": 158000.0}, {\\\"x\\\": 2420.0, \\\"y\\\": 590000.0}, {\\\"x\\\": 3890.0, \\\"y\\\": 772500.0}, {\\\"x\\\": 2940.0, \\\"y\\\": 464500.0}, {\\\"x\\\": 1350.0, \\\"y\\\": 281000.0}, {\\\"x\\\": 2190.0, \\\"y\\\": 620000.0}, {\\\"x\\\": 2280.0, \\\"y\\\": 475000.0}, {\\\"x\\\": 1070.0, \\\"y\\\": 245000.0}, {\\\"x\\\": 2540.0, \\\"y\\\": 660000.0}, {\\\"x\\\": 2270.0, \\\"y\\\": 527500.0}, {\\\"x\\\": 1220.0, \\\"y\\\": 135000.0}, {\\\"x\\\": 1890.0, \\\"y\\\": 275000.0}, {\\\"x\\\": 1990.0, \\\"y\\\": 430000.0}, {\\\"x\\\": 1220.0, \\\"y\\\": 213500.0}, {\\\"x\\\": 2640.0, \\\"y\\\": 535000.0}, {\\\"x\\\": 1480.0, \\\"y\\\": 641000.0}, {\\\"x\\\": 2320.0, \\\"y\\\": 436300.0}, {\\\"x\\\": 2410.0, \\\"y\\\": 1440000.0}, {\\\"x\\\": 2090.0, \\\"y\\\": 830000.0}, {\\\"x\\\": 920.0, \\\"y\\\": 380000.0}, {\\\"x\\\": 850.0, \\\"y\\\": 132500.0}, {\\\"x\\\": 1130.0, \\\"y\\\": 179950.0}, {\\\"x\\\": 1260.0, \\\"y\\\": 188200.0}, {\\\"x\\\": 2090.0, \\\"y\\\": 659000.0}, {\\\"x\\\": 2020.0, \\\"y\\\": 317000.0}, {\\\"x\\\": 1970.0, \\\"y\\\": 625000.0}, {\\\"x\\\": 1820.0, \\\"y\\\": 350000.0}, {\\\"x\\\": 1840.0, \\\"y\\\": 750000.0}, {\\\"x\\\": 2100.0, \\\"y\\\": 457000.0}, {\\\"x\\\": 1770.0, \\\"y\\\": 632500.0}, {\\\"x\\\": 1110.0, \\\"y\\\": 223000.0}, {\\\"x\\\": 2090.0, \\\"y\\\": 610000.0}, {\\\"x\\\": 2080.0, \\\"y\\\": 385000.0}, {\\\"x\\\": 1400.0, \\\"y\\\": 367500.0}, {\\\"x\\\": 1060.0, \\\"y\\\": 385100.0}, {\\\"x\\\": 720.0, \\\"y\\\": 230000.0}, {\\\"x\\\": 1100.0, \\\"y\\\": 286000.0}, {\\\"x\\\": 1010.0, \\\"y\\\": 201700.0}, {\\\"x\\\": 5230.0, \\\"y\\\": 1350000.0}, {\\\"x\\\": 2420.0, \\\"y\\\": 525000.0}, {\\\"x\\\": 1200.0, \\\"y\\\": 361000.0}, {\\\"x\\\": 1950.0, \\\"y\\\": 530000.0}, {\\\"x\\\": 1870.0, \\\"y\\\": 455000.0}, {\\\"x\\\": 1310.0, \\\"y\\\": 421000.0}, {\\\"x\\\": 1520.0, \\\"y\\\": 640000.0}, {\\\"x\\\": 1270.0, \\\"y\\\": 240000.0}, {\\\"x\\\": 840.0, \\\"y\\\": 360000.0}, {\\\"x\\\": 900.0, \\\"y\\\": 157340.0}, {\\\"x\\\": 3010.0, \\\"y\\\": 1240000.0}, {\\\"x\\\": 1050.0, \\\"y\\\": 250000.0}, {\\\"x\\\": 3360.0, \\\"y\\\": 735000.0}, {\\\"x\\\": 5370.0, \\\"y\\\": 884900.0}, {\\\"x\\\": 2690.0, \\\"y\\\": 775000.0}, {\\\"x\\\": 1710.0, \\\"y\\\": 463000.0}, {\\\"x\\\": 1640.0, \\\"y\\\": 579000.0}, {\\\"x\\\": 4000.0, \\\"y\\\": 570000.0}, {\\\"x\\\": 4140.0, \\\"y\\\": 1060000.0}, {\\\"x\\\": 3140.0, \\\"y\\\": 375000.0}, {\\\"x\\\": 1320.0, \\\"y\\\": 422000.0}, {\\\"x\\\": 3080.0, \\\"y\\\": 866500.0}, {\\\"x\\\": 2500.0, \\\"y\\\": 705000.0}, {\\\"x\\\": 2520.0, \\\"y\\\": 470000.0}, {\\\"x\\\": 2350.0, \\\"y\\\": 360000.0}, {\\\"x\\\": 2570.0, \\\"y\\\": 795000.0}, {\\\"x\\\": 3100.0, \\\"y\\\": 800000.0}, {\\\"x\\\": 4730.0, \\\"y\\\": 2453500.0}, {\\\"x\\\": 1030.0, \\\"y\\\": 277284.0}, {\\\"x\\\": 1020.0, \\\"y\\\": 460000.0}, {\\\"x\\\": 2080.0, \\\"y\\\": 898888.0}, {\\\"x\\\": 1410.0, \\\"y\\\": 211000.0}, {\\\"x\\\": 1360.0, \\\"y\\\": 222000.0}, {\\\"x\\\": 2620.0, \\\"y\\\": 672000.0}, {\\\"x\\\": 2260.0, \\\"y\\\": 778000.0}, {\\\"x\\\": 1490.0, \\\"y\\\": 312500.0}, {\\\"x\\\": 2530.0, \\\"y\\\": 650000.0}, {\\\"x\\\": 3140.0, \\\"y\\\": 740000.0}, {\\\"x\\\": 1820.0, \\\"y\\\": 320000.0}, {\\\"x\\\": 1770.0, \\\"y\\\": 455000.0}, {\\\"x\\\": 4430.0, \\\"y\\\": 2450000.0}, {\\\"x\\\": 1490.0, \\\"y\\\": 500000.0}, {\\\"x\\\": 1790.0, \\\"y\\\": 325000.0}, {\\\"x\\\": 1710.0, \\\"y\\\": 416000.0}, {\\\"x\\\": 2070.0, \\\"y\\\": 495000.0}, {\\\"x\\\": 1140.0, \\\"y\\\": 549000.0}, {\\\"x\\\": 3930.0, \\\"y\\\": 589000.0}, {\\\"x\\\": 1100.0, \\\"y\\\": 194820.0}, {\\\"x\\\": 2260.0, \\\"y\\\": 405000.0}, {\\\"x\\\": 2260.0, \\\"y\\\": 625000.0}, {\\\"x\\\": 1130.0, \\\"y\\\": 205000.0}, {\\\"x\\\": 1950.0, \\\"y\\\": 345100.0}, {\\\"x\\\": 960.0, \\\"y\\\": 200000.0}, {\\\"x\\\": 4210.0, \\\"y\\\": 1905000.0}, {\\\"x\\\": 3430.0, \\\"y\\\": 524500.0}, {\\\"x\\\": 3470.0, \\\"y\\\": 598600.0}, {\\\"x\\\": 2140.0, \\\"y\\\": 367777.0}, {\\\"x\\\": 2520.0, \\\"y\\\": 750000.0}, {\\\"x\\\": 3550.0, \\\"y\\\": 575000.0}, {\\\"x\\\": 700.0, \\\"y\\\": 84000.0}, {\\\"x\\\": 740.0, \\\"y\\\": 255000.0}, {\\\"x\\\": 3300.0, \\\"y\\\": 1740000.0}, {\\\"x\\\": 1640.0, \\\"y\\\": 415000.0}, {\\\"x\\\": 2780.0, \\\"y\\\": 449900.0}, {\\\"x\\\": 1830.0, \\\"y\\\": 220000.0}, {\\\"x\\\": 3540.0, \\\"y\\\": 899000.0}, {\\\"x\\\": 1440.0, \\\"y\\\": 430000.0}, {\\\"x\\\": 2960.0, \\\"y\\\": 472500.0}, {\\\"x\\\": 3180.0, \\\"y\\\": 680000.0}, {\\\"x\\\": 3310.0, \\\"y\\\": 1650000.0}, {\\\"x\\\": 2390.0, \\\"y\\\": 810000.0}, {\\\"x\\\": 2460.0, \\\"y\\\": 605000.0}, {\\\"x\\\": 1630.0, \\\"y\\\": 522000.0}, {\\\"x\\\": 3490.0, \\\"y\\\": 759000.0}, {\\\"x\\\": 2500.0, \\\"y\\\": 411000.0}, {\\\"x\\\": 2080.0, \\\"y\\\": 286950.0}, {\\\"x\\\": 1290.0, \\\"y\\\": 440000.0}, {\\\"x\\\": 1700.0, \\\"y\\\": 149000.0}, {\\\"x\\\": 1700.0, \\\"y\\\": 284700.0}, {\\\"x\\\": 2540.0, \\\"y\\\": 374950.0}, {\\\"x\\\": 1180.0, \\\"y\\\": 816000.0}, {\\\"x\\\": 1520.0, \\\"y\\\": 533250.0}, {\\\"x\\\": 2390.0, \\\"y\\\": 689800.0}, {\\\"x\\\": 2740.0, \\\"y\\\": 775000.0}, {\\\"x\\\": 2190.0, \\\"y\\\": 702000.0}, {\\\"x\\\": 1350.0, \\\"y\\\": 160000.0}, {\\\"x\\\": 1350.0, \\\"y\\\": 255500.0}, {\\\"x\\\": 2980.0, \\\"y\\\": 949000.0}, {\\\"x\\\": 790.0, \\\"y\\\": 169500.0}, {\\\"x\\\": 2130.0, \\\"y\\\": 586000.0}, {\\\"x\\\": 2700.0, \\\"y\\\": 680000.0}, {\\\"x\\\": 3200.0, \\\"y\\\": 851500.0}, {\\\"x\\\": 1159.0, \\\"y\\\": 582500.0}, {\\\"x\\\": 3080.0, \\\"y\\\": 637000.0}, {\\\"x\\\": 1000.0, \\\"y\\\": 225000.0}, {\\\"x\\\": 2260.0, \\\"y\\\": 795000.0}, {\\\"x\\\": 2270.0, \\\"y\\\": 304999.0}, {\\\"x\\\": 760.0, \\\"y\\\": 95000.0}, {\\\"x\\\": 1420.0, \\\"y\\\": 240000.0}, {\\\"x\\\": 2500.0, \\\"y\\\": 772000.0}, {\\\"x\\\": 1450.0, \\\"y\\\": 245000.0}, {\\\"x\\\": 2500.0, \\\"y\\\": 430000.0}, {\\\"x\\\": 2210.0, \\\"y\\\": 799000.0}, {\\\"x\\\": 3020.0, \\\"y\\\": 880000.0}, {\\\"x\\\": 3290.0, \\\"y\\\": 750000.0}, {\\\"x\\\": 5780.0, \\\"y\\\": 2890000.0}, {\\\"x\\\": 1820.0, \\\"y\\\": 532000.0}, {\\\"x\\\": 2500.0, \\\"y\\\": 525000.0}, {\\\"x\\\": 1210.0, \\\"y\\\": 239000.0}, {\\\"x\\\": 1090.0, \\\"y\\\": 460000.0}, {\\\"x\\\": 1330.0, \\\"y\\\": 540000.0}, {\\\"x\\\": 890.0, \\\"y\\\": 475000.0}, {\\\"x\\\": 1360.0, \\\"y\\\": 445000.0}, {\\\"x\\\": 4220.0, \\\"y\\\": 1575000.0}, {\\\"x\\\": 3780.0, \\\"y\\\": 549950.0}, {\\\"x\\\": 2610.0, \\\"y\\\": 294950.0}, {\\\"x\\\": 1980.0, \\\"y\\\": 736000.0}, {\\\"x\\\": 1290.0, \\\"y\\\": 214946.0}, {\\\"x\\\": 3620.0, \\\"y\\\": 856000.0}, {\\\"x\\\": 2680.0, \\\"y\\\": 775000.0}, {\\\"x\\\": 1200.0, \\\"y\\\": 205000.0}, {\\\"x\\\": 1992.0, \\\"y\\\": 429592.0}, {\\\"x\\\": 1640.0, \\\"y\\\": 414250.0}, {\\\"x\\\": 1920.0, \\\"y\\\": 399950.0}, {\\\"x\\\": 1840.0, \\\"y\\\": 319990.0}, {\\\"x\\\": 1310.0, \\\"y\\\": 524000.0}, {\\\"x\\\": 1050.0, \\\"y\\\": 349950.0}, {\\\"x\\\": 2570.0, \\\"y\\\": 889000.0}, {\\\"x\\\": 930.0, \\\"y\\\": 300000.0}, {\\\"x\\\": 730.0, \\\"y\\\": 395000.0}, {\\\"x\\\": 1270.0, \\\"y\\\": 348000.0}, {\\\"x\\\": 1150.0, \\\"y\\\": 830000.0}, {\\\"x\\\": 820.0, \\\"y\\\": 173000.0}, {\\\"x\\\": 3000.0, \\\"y\\\": 585000.0}, {\\\"x\\\": 2220.0, \\\"y\\\": 576750.0}, {\\\"x\\\": 2500.0, \\\"y\\\": 495000.0}, {\\\"x\\\": 1540.0, \\\"y\\\": 216650.0}, {\\\"x\\\": 2750.0, \\\"y\\\": 615000.0}, {\\\"x\\\": 3130.0, \\\"y\\\": 675000.0}, {\\\"x\\\": 1430.0, \\\"y\\\": 510000.0}, {\\\"x\\\": 2680.0, \\\"y\\\": 630000.0}, {\\\"x\\\": 3010.0, \\\"y\\\": 359950.0}, {\\\"x\\\": 1530.0, \\\"y\\\": 265000.0}, {\\\"x\\\": 1240.0, \\\"y\\\": 210000.0}, {\\\"x\\\": 2260.0, \\\"y\\\": 367000.0}, {\\\"x\\\": 2820.0, \\\"y\\\": 1075000.0}, {\\\"x\\\": 3560.0, \\\"y\\\": 756000.0}, {\\\"x\\\": 1630.0, \\\"y\\\": 203000.0}, {\\\"x\\\": 2880.0, \\\"y\\\": 535000.0}, {\\\"x\\\": 2200.0, \\\"y\\\": 525000.0}, {\\\"x\\\": 1620.0, \\\"y\\\": 347500.0}, {\\\"x\\\": 1480.0, \\\"y\\\": 620000.0}, {\\\"x\\\": 2250.0, \\\"y\\\": 645000.0}, {\\\"x\\\": 3540.0, \\\"y\\\": 2200000.0}, {\\\"x\\\": 1790.0, \\\"y\\\": 280000.0}, {\\\"x\\\": 1400.0, \\\"y\\\": 432000.0}, {\\\"x\\\": 2390.0, \\\"y\\\": 790000.0}, {\\\"x\\\": 2400.0, \\\"y\\\": 635000.0}, {\\\"x\\\": 2050.0, \\\"y\\\": 442000.0}, {\\\"x\\\": 2640.0, \\\"y\\\": 490000.0}, {\\\"x\\\": 2320.0, \\\"y\\\": 250000.0}, {\\\"x\\\": 2440.0, \\\"y\\\": 1325000.0}, {\\\"x\\\": 1260.0, \\\"y\\\": 120000.0}, {\\\"x\\\": 6240.0, \\\"y\\\": 2950000.0}, {\\\"x\\\": 1930.0, \\\"y\\\": 325000.0}, {\\\"x\\\": 1200.0, \\\"y\\\": 210000.0}, {\\\"x\\\": 970.0, \\\"y\\\": 215000.0}, {\\\"x\\\": 1810.0, \\\"y\\\": 387000.0}, {\\\"x\\\": 1380.0, \\\"y\\\": 408000.0}, {\\\"x\\\": 1470.0, \\\"y\\\": 410000.0}, {\\\"x\\\": 1010.0, \\\"y\\\": 216000.0}, {\\\"x\\\": 1010.0, \\\"y\\\": 390000.0}, {\\\"x\\\": 1340.0, \\\"y\\\": 357000.0}, {\\\"x\\\": 970.0, \\\"y\\\": 215000.0}, {\\\"x\\\": 1122.0, \\\"y\\\": 265000.0}, {\\\"x\\\": 1670.0, \\\"y\\\": 589950.0}, {\\\"x\\\": 2840.0, \\\"y\\\": 440000.0}, {\\\"x\\\": 770.0, \\\"y\\\": 248000.0}, {\\\"x\\\": 2040.0, \\\"y\\\": 730000.0}, {\\\"x\\\": 3052.0, \\\"y\\\": 425000.0}, {\\\"x\\\": 2620.0, \\\"y\\\": 680000.0}, {\\\"x\\\": 3120.0, \\\"y\\\": 341500.0}, {\\\"x\\\": 1100.0, \\\"y\\\": 395000.0}, {\\\"x\\\": 3410.0, \\\"y\\\": 1225000.0}, {\\\"x\\\": 2510.0, \\\"y\\\": 695500.0}, {\\\"x\\\": 1680.0, \\\"y\\\": 308000.0}, {\\\"x\\\": 1960.0, \\\"y\\\": 422500.0}, {\\\"x\\\": 1040.0, \\\"y\\\": 418000.0}, {\\\"x\\\": 1750.0, \\\"y\\\": 385000.0}, {\\\"x\\\": 2170.0, \\\"y\\\": 876650.0}, {\\\"x\\\": 1639.0, \\\"y\\\": 450000.0}, {\\\"x\\\": 2100.0, \\\"y\\\": 418800.0}, {\\\"x\\\": 880.0, \\\"y\\\": 330000.0}, {\\\"x\\\": 1940.0, \\\"y\\\": 550000.0}, {\\\"x\\\": 2490.0, \\\"y\\\": 270000.0}, {\\\"x\\\": 2060.0, \\\"y\\\": 978500.0}, {\\\"x\\\": 2720.0, \\\"y\\\": 975000.0}, {\\\"x\\\": 2180.0, \\\"y\\\": 455000.0}, {\\\"x\\\": 3600.0, \\\"y\\\": 1415000.0}, {\\\"x\\\": 840.0, \\\"y\\\": 220000.0}, {\\\"x\\\": 2370.0, \\\"y\\\": 490000.0}, {\\\"x\\\": 2270.0, \\\"y\\\": 420000.0}, {\\\"x\\\": 2720.0, \\\"y\\\": 408500.0}, {\\\"x\\\": 1140.0, \\\"y\\\": 716000.0}, {\\\"x\\\": 2460.0, \\\"y\\\": 965000.0}, {\\\"x\\\": 1240.0, \\\"y\\\": 357823.0}, {\\\"x\\\": 10040.0, \\\"y\\\": 7062500.0}, {\\\"x\\\": 1670.0, \\\"y\\\": 425000.0}, {\\\"x\\\": 2220.0, \\\"y\\\": 711777.0}, {\\\"x\\\": 980.0, \\\"y\\\": 335000.0}, {\\\"x\\\": 1890.0, \\\"y\\\": 825000.0}, {\\\"x\\\": 1100.0, \\\"y\\\": 210000.0}, {\\\"x\\\": 2770.0, \\\"y\\\": 575000.0}, {\\\"x\\\": 4250.0, \\\"y\\\": 1208000.0}, {\\\"x\\\": 1370.0, \\\"y\\\": 431500.0}, {\\\"x\\\": 1480.0, \\\"y\\\": 475000.0}, {\\\"x\\\": 3770.0, \\\"y\\\": 1495000.0}, {\\\"x\\\": 2870.0, \\\"y\\\": 540000.0}, {\\\"x\\\": 3820.0, \\\"y\\\": 775000.0}, {\\\"x\\\": 1530.0, \\\"y\\\": 635000.0}, {\\\"x\\\": 4120.0, \\\"y\\\": 1300000.0}, {\\\"x\\\": 1590.0, \\\"y\\\": 405000.0}, {\\\"x\\\": 1520.0, \\\"y\\\": 210000.0}, {\\\"x\\\": 2350.0, \\\"y\\\": 880000.0}, {\\\"x\\\": 1370.0, \\\"y\\\": 239000.0}, {\\\"x\\\": 1540.0, \\\"y\\\": 515000.0}, {\\\"x\\\": 3786.0, \\\"y\\\": 1379900.0}, {\\\"x\\\": 1500.0, \\\"y\\\": 215000.0}, {\\\"x\\\": 1750.0, \\\"y\\\": 315000.0}, {\\\"x\\\": 1800.0, \\\"y\\\": 442500.0}, {\\\"x\\\": 1180.0, \\\"y\\\": 311000.0}, {\\\"x\\\": 830.0, \\\"y\\\": 425000.0}, {\\\"x\\\": 1540.0, \\\"y\\\": 433500.0}, {\\\"x\\\": 1610.0, \\\"y\\\": 450000.0}, {\\\"x\\\": 1990.0, \\\"y\\\": 675000.0}, {\\\"x\\\": 2070.0, \\\"y\\\": 535000.0}, {\\\"x\\\": 1760.0, \\\"y\\\": 577000.0}, {\\\"x\\\": 1740.0, \\\"y\\\": 480000.0}, {\\\"x\\\": 1950.0, \\\"y\\\": 400000.0}, {\\\"x\\\": 1280.0, \\\"y\\\": 304000.0}, {\\\"x\\\": 1460.0, \\\"y\\\": 355000.0}, {\\\"x\\\": 3770.0, \\\"y\\\": 998000.0}, {\\\"x\\\": 2410.0, \\\"y\\\": 550000.0}, {\\\"x\\\": 2410.0, \\\"y\\\": 550000.0}, {\\\"x\\\": 1400.0, \\\"y\\\": 210000.0}, {\\\"x\\\": 2100.0, \\\"y\\\": 317000.0}, {\\\"x\\\": 5360.0, \\\"y\\\": 700000.0}, {\\\"x\\\": 1000.0, \\\"y\\\": 265000.0}, {\\\"x\\\": 3150.0, \\\"y\\\": 700000.0}, {\\\"x\\\": 4180.0, \\\"y\\\": 1020000.0}, {\\\"x\\\": 2840.0, \\\"y\\\": 1145000.0}, {\\\"x\\\": 2110.0, \\\"y\\\": 460000.0}, {\\\"x\\\": 1660.0, \\\"y\\\": 410000.0}, {\\\"x\\\": 2160.0, \\\"y\\\": 665000.0}, {\\\"x\\\": 2420.0, \\\"y\\\": 600000.0}, {\\\"x\\\": 1920.0, \\\"y\\\": 502000.0}, {\\\"x\\\": 2310.0, \\\"y\\\": 364950.0}, {\\\"x\\\": 2330.0, \\\"y\\\": 680000.0}, {\\\"x\\\": 2340.0, \\\"y\\\": 235500.0}, {\\\"x\\\": 2590.0, \\\"y\\\": 576000.0}, {\\\"x\\\": 1410.0, \\\"y\\\": 405000.0}, {\\\"x\\\": 2850.0, \\\"y\\\": 335000.0}, {\\\"x\\\": 730.0, \\\"y\\\": 122000.0}, {\\\"x\\\": 1470.0, \\\"y\\\": 432000.0}, {\\\"x\\\": 2330.0, \\\"y\\\": 375000.0}, {\\\"x\\\": 2460.0, \\\"y\\\": 276000.0}, {\\\"x\\\": 2080.0, \\\"y\\\": 450000.0}, {\\\"x\\\": 990.0, \\\"y\\\": 210000.0}, {\\\"x\\\": 1450.0, \\\"y\\\": 279000.0}, {\\\"x\\\": 1340.0, \\\"y\\\": 635000.0}, {\\\"x\\\": 2730.0, \\\"y\\\": 350000.0}, {\\\"x\\\": 1140.0, \\\"y\\\": 218000.0}, {\\\"x\\\": 1950.0, \\\"y\\\": 750000.0}, {\\\"x\\\": 2000.0, \\\"y\\\": 310597.0}, {\\\"x\\\": 900.0, \\\"y\\\": 355000.0}, {\\\"x\\\": 3390.0, \\\"y\\\": 735000.0}, {\\\"x\\\": 720.0, \\\"y\\\": 155000.0}, {\\\"x\\\": 940.0, \\\"y\\\": 354000.0}, {\\\"x\\\": 1770.0, \\\"y\\\": 415000.0}, {\\\"x\\\": 590.0, \\\"y\\\": 202000.0}, {\\\"x\\\": 1980.0, \\\"y\\\": 580000.0}, {\\\"x\\\": 3070.0, \\\"y\\\": 1495000.0}, {\\\"x\\\": 3500.0, \\\"y\\\": 790000.0}, {\\\"x\\\": 2100.0, \\\"y\\\": 499900.0}, {\\\"x\\\": 2620.0, \\\"y\\\": 525000.0}, {\\\"x\\\": 2810.0, \\\"y\\\": 810000.0}, {\\\"x\\\": 2290.0, \\\"y\\\": 425000.0}, {\\\"x\\\": 1350.0, \\\"y\\\": 241250.0}, {\\\"x\\\": 2770.0, \\\"y\\\": 318700.0}, {\\\"x\\\": 2530.0, \\\"y\\\": 720000.0}, {\\\"x\\\": 1280.0, \\\"y\\\": 291000.0}, {\\\"x\\\": 1060.0, \\\"y\\\": 420000.0}, {\\\"x\\\": 1000.0, \\\"y\\\": 210000.0}, {\\\"x\\\": 3870.0, \\\"y\\\": 645000.0}, {\\\"x\\\": 3370.0, \\\"y\\\": 762000.0}, {\\\"x\\\": 2290.0, \\\"y\\\": 247500.0}, {\\\"x\\\": 1670.0, \\\"y\\\": 282500.0}, {\\\"x\\\": 1460.0, \\\"y\\\": 395000.0}, {\\\"x\\\": 1770.0, \\\"y\\\": 295000.0}, {\\\"x\\\": 820.0, \\\"y\\\": 235000.0}, {\\\"x\\\": 1900.0, \\\"y\\\": 770000.0}, {\\\"x\\\": 1870.0, \\\"y\\\": 559950.0}, {\\\"x\\\": 1840.0, \\\"y\\\": 639000.0}, {\\\"x\\\": 1590.0, \\\"y\\\": 314950.0}, {\\\"x\\\": 1640.0, \\\"y\\\": 525000.0}, {\\\"x\\\": 3000.0, \\\"y\\\": 2400000.0}, {\\\"x\\\": 2160.0, \\\"y\\\": 820000.0}, {\\\"x\\\": 2490.0, \\\"y\\\": 1385000.0}, {\\\"x\\\": 1290.0, \\\"y\\\": 521450.0}, {\\\"x\\\": 3190.0, \\\"y\\\": 760750.0}, {\\\"x\\\": 1540.0, \\\"y\\\": 759600.0}, {\\\"x\\\": 2140.0, \\\"y\\\": 346150.0}, {\\\"x\\\": 980.0, \\\"y\\\": 390000.0}, {\\\"x\\\": 2450.0, \\\"y\\\": 359950.0}, {\\\"x\\\": 1360.0, \\\"y\\\": 430000.0}, {\\\"x\\\": 4610.0, \\\"y\\\": 960000.0}, {\\\"x\\\": 7480.0, \\\"y\\\": 800000.0}, {\\\"x\\\": 2860.0, \\\"y\\\": 1010000.0}, {\\\"x\\\": 1810.0, \\\"y\\\": 290000.0}, {\\\"x\\\": 2240.0, \\\"y\\\": 1350000.0}, {\\\"x\\\": 3610.0, \\\"y\\\": 777000.0}, {\\\"x\\\": 1450.0, \\\"y\\\": 526000.0}, {\\\"x\\\": 1450.0, \\\"y\\\": 550000.0}, {\\\"x\\\": 1820.0, \\\"y\\\": 276000.0}, {\\\"x\\\": 5620.0, \\\"y\\\": 2500000.0}, {\\\"x\\\": 2080.0, \\\"y\\\": 325000.0}, {\\\"x\\\": 1780.0, \\\"y\\\": 365000.0}, {\\\"x\\\": 4340.0, \\\"y\\\": 2150000.0}, {\\\"x\\\": 2860.0, \\\"y\\\": 825050.0}, {\\\"x\\\": 2540.0, \\\"y\\\": 690000.0}, {\\\"x\\\": 1140.0, \\\"y\\\": 390000.0}, {\\\"x\\\": 1320.0, \\\"y\\\": 385000.0}, {\\\"x\\\": 2040.0, \\\"y\\\": 619000.0}, {\\\"x\\\": 1790.0, \\\"y\\\": 494000.0}, {\\\"x\\\": 1910.0, \\\"y\\\": 412450.0}, {\\\"x\\\": 1460.0, \\\"y\\\": 580000.0}, {\\\"x\\\": 1420.0, \\\"y\\\": 269900.0}, {\\\"x\\\": 1790.0, \\\"y\\\": 704300.0}, {\\\"x\\\": 1390.0, \\\"y\\\": 267000.0}, {\\\"x\\\": 1880.0, \\\"y\\\": 310000.0}, {\\\"x\\\": 1570.0, \\\"y\\\": 227064.0}, {\\\"x\\\": 2690.0, \\\"y\\\": 925000.0}, {\\\"x\\\": 1670.0, \\\"y\\\": 245000.0}, {\\\"x\\\": 1040.0, \\\"y\\\": 339888.0}, {\\\"x\\\": 1560.0, \\\"y\\\": 439000.0}, {\\\"x\\\": 1470.0, \\\"y\\\": 400000.0}, {\\\"x\\\": 2070.0, \\\"y\\\": 560000.0}, {\\\"x\\\": 1370.0, \\\"y\\\": 703011.0}, {\\\"x\\\": 1120.0, \\\"y\\\": 363000.0}, {\\\"x\\\": 2640.0, \\\"y\\\": 650000.0}, {\\\"x\\\": 1030.0, \\\"y\\\": 299950.0}, {\\\"x\\\": 1120.0, \\\"y\\\": 228950.0}, {\\\"x\\\": 1730.0, \\\"y\\\": 465000.0}, {\\\"x\\\": 2090.0, \\\"y\\\": 725000.0}, {\\\"x\\\": 920.0, \\\"y\\\": 212500.0}, {\\\"x\\\": 2970.0, \\\"y\\\": 526000.0}, {\\\"x\\\": 1720.0, \\\"y\\\": 383000.0}, {\\\"x\\\": 1460.0, \\\"y\\\": 244000.0}, {\\\"x\\\": 1540.0, \\\"y\\\": 565000.0}, {\\\"x\\\": 2850.0, \\\"y\\\": 373000.0}, {\\\"x\\\": 1310.0, \\\"y\\\": 300000.0}, {\\\"x\\\": 2430.0, \\\"y\\\": 405000.0}, {\\\"x\\\": 1700.0, \\\"y\\\": 979000.0}, {\\\"x\\\": 2160.0, \\\"y\\\": 324888.0}, {\\\"x\\\": 860.0, \\\"y\\\": 445000.0}, {\\\"x\\\": 2050.0, \\\"y\\\": 761000.0}, {\\\"x\\\": 1650.0, \\\"y\\\": 435000.0}, {\\\"x\\\": 1570.0, \\\"y\\\": 252000.0}, {\\\"x\\\": 1660.0, \\\"y\\\": 350000.0}, {\\\"x\\\": 1220.0, \\\"y\\\": 875000.0}, {\\\"x\\\": 1220.0, \\\"y\\\": 940000.0}, {\\\"x\\\": 1780.0, \\\"y\\\": 280000.0}, {\\\"x\\\": 2180.0, \\\"y\\\": 450000.0}, {\\\"x\\\": 3520.0, \\\"y\\\": 905000.0}, {\\\"x\\\": 2220.0, \\\"y\\\": 382450.0}, {\\\"x\\\": 1610.0, \\\"y\\\": 246700.0}, {\\\"x\\\": 1070.0, \\\"y\\\": 220000.0}, {\\\"x\\\": 1060.0, \\\"y\\\": 555750.0}, {\\\"x\\\": 1160.0, \\\"y\\\": 262500.0}, {\\\"x\\\": 910.0, \\\"y\\\": 515000.0}, {\\\"x\\\": 2970.0, \\\"y\\\": 499500.0}, {\\\"x\\\": 790.0, \\\"y\\\": 135000.0}, {\\\"x\\\": 1540.0, \\\"y\\\": 462500.0}, {\\\"x\\\": 3130.0, \\\"y\\\": 937500.0}, {\\\"x\\\": 1470.0, \\\"y\\\": 458000.0}, {\\\"x\\\": 3160.0, \\\"y\\\": 845000.0}, {\\\"x\\\": 2675.0, \\\"y\\\": 660000.0}, {\\\"x\\\": 1340.0, \\\"y\\\": 265000.0}, {\\\"x\\\": 3830.0, \\\"y\\\": 599999.0}, {\\\"x\\\": 1800.0, \\\"y\\\": 280000.0}, {\\\"x\\\": 2990.0, \\\"y\\\": 1055000.0}, {\\\"x\\\": 3720.0, \\\"y\\\": 875000.0}, {\\\"x\\\": 920.0, \\\"y\\\": 125000.0}, {\\\"x\\\": 3280.0, \\\"y\\\": 634800.0}, {\\\"x\\\": 1440.0, \\\"y\\\": 269950.0}, {\\\"x\\\": 1940.0, \\\"y\\\": 359950.0}, {\\\"x\\\": 1590.0, \\\"y\\\": 417000.0}, {\\\"x\\\": 1340.0, \\\"y\\\": 389000.0}, {\\\"x\\\": 3770.0, \\\"y\\\": 1038000.0}, {\\\"x\\\": 2680.0, \\\"y\\\": 698000.0}, {\\\"x\\\": 2820.0, \\\"y\\\": 685000.0}, {\\\"x\\\": 1520.0, \\\"y\\\": 198500.0}, {\\\"x\\\": 2560.0, \\\"y\\\": 350000.0}, {\\\"x\\\": 3310.0, \\\"y\\\": 649950.0}, {\\\"x\\\": 1540.0, \\\"y\\\": 441000.0}, {\\\"x\\\": 1430.0, \\\"y\\\": 462600.0}, {\\\"x\\\": 2506.0, \\\"y\\\": 365070.0}, {\\\"x\\\": 2250.0, \\\"y\\\": 550000.0}, {\\\"x\\\": 2740.0, \\\"y\\\": 470000.0}, {\\\"x\\\": 1540.0, \\\"y\\\": 340000.0}, {\\\"x\\\": 4190.0, \\\"y\\\": 910000.0}, {\\\"x\\\": 1690.0, \\\"y\\\": 405000.0}, {\\\"x\\\": 1990.0, \\\"y\\\": 661000.0}, {\\\"x\\\": 2410.0, \\\"y\\\": 635000.0}, {\\\"x\\\": 1150.0, \\\"y\\\": 282000.0}, {\\\"x\\\": 1720.0, \\\"y\\\": 235000.0}, {\\\"x\\\": 1260.0, \\\"y\\\": 277500.0}, {\\\"x\\\": 2020.0, \\\"y\\\": 346500.0}, {\\\"x\\\": 2240.0, \\\"y\\\": 480000.0}, {\\\"x\\\": 1930.0, \\\"y\\\": 360000.0}, {\\\"x\\\": 1820.0, \\\"y\\\": 245000.0}, {\\\"x\\\": 1560.0, \\\"y\\\": 625000.0}, {\\\"x\\\": 2170.0, \\\"y\\\": 750500.0}, {\\\"x\\\": 1600.0, \\\"y\\\": 525000.0}, {\\\"x\\\": 3760.0, \\\"y\\\": 740000.0}, {\\\"x\\\": 1240.0, \\\"y\\\": 523000.0}, {\\\"x\\\": 1090.0, \\\"y\\\": 292000.0}, {\\\"x\\\": 2740.0, \\\"y\\\": 625000.0}, {\\\"x\\\": 3110.0, \\\"y\\\": 700000.0}, {\\\"x\\\": 1610.0, \\\"y\\\": 399950.0}, {\\\"x\\\": 1880.0, \\\"y\\\": 545000.0}, {\\\"x\\\": 1740.0, \\\"y\\\": 339999.0}, {\\\"x\\\": 3270.0, \\\"y\\\": 1210000.0}, {\\\"x\\\": 1990.0, \\\"y\\\": 545000.0}, {\\\"x\\\": 1960.0, \\\"y\\\": 260000.0}, {\\\"x\\\": 1680.0, \\\"y\\\": 526000.0}, {\\\"x\\\": 2910.0, \\\"y\\\": 701000.0}, {\\\"x\\\": 1500.0, \\\"y\\\": 290000.0}, {\\\"x\\\": 580.0, \\\"y\\\": 330600.0}, {\\\"x\\\": 2540.0, \\\"y\\\": 550500.0}, {\\\"x\\\": 950.0, \\\"y\\\": 430000.0}, {\\\"x\\\": 7080.0, \\\"y\\\": 4000000.0}, {\\\"x\\\": 810.0, \\\"y\\\": 260600.0}, {\\\"x\\\": 4080.0, \\\"y\\\": 825000.0}, {\\\"x\\\": 1820.0, \\\"y\\\": 378950.0}, {\\\"x\\\": 2650.0, \\\"y\\\": 435000.0}, {\\\"x\\\": 1670.0, \\\"y\\\": 631000.0}, {\\\"x\\\": 2480.0, \\\"y\\\": 415000.0}, {\\\"x\\\": 1240.0, \\\"y\\\": 222000.0}, {\\\"x\\\": 1390.0, \\\"y\\\": 245000.0}, {\\\"x\\\": 2880.0, \\\"y\\\": 720000.0}, {\\\"x\\\": 1060.0, \\\"y\\\": 215000.0}, {\\\"x\\\": 1070.0, \\\"y\\\": 579100.0}, {\\\"x\\\": 1640.0, \\\"y\\\": 522500.0}, {\\\"x\\\": 1510.0, \\\"y\\\": 489000.0}, {\\\"x\\\": 1230.0, \\\"y\\\": 240000.0}, {\\\"x\\\": 1510.0, \\\"y\\\": 420250.0}, {\\\"x\\\": 3180.0, \\\"y\\\": 523000.0}, {\\\"x\\\": 2260.0, \\\"y\\\": 628000.0}, {\\\"x\\\": 1920.0, \\\"y\\\": 320000.0}, {\\\"x\\\": 1980.0, \\\"y\\\": 359950.0}, {\\\"x\\\": 1200.0, \\\"y\\\": 232000.0}, {\\\"x\\\": 2020.0, \\\"y\\\": 810000.0}, {\\\"x\\\": 2010.0, \\\"y\\\": 245000.0}, {\\\"x\\\": 1930.0, \\\"y\\\": 273000.0}, {\\\"x\\\": 2710.0, \\\"y\\\": 1191000.0}, {\\\"x\\\": 1950.0, \\\"y\\\": 438000.0}, {\\\"x\\\": 2110.0, \\\"y\\\": 400000.0}, {\\\"x\\\": 1250.0, \\\"y\\\": 340000.0}, {\\\"x\\\": 1380.0, \\\"y\\\": 552000.0}, {\\\"x\\\": 2050.0, \\\"y\\\": 790000.0}, {\\\"x\\\": 1800.0, \\\"y\\\": 360000.0}, {\\\"x\\\": 1310.0, \\\"y\\\": 235000.0}, {\\\"x\\\": 1010.0, \\\"y\\\": 775000.0}, {\\\"x\\\": 1850.0, \\\"y\\\": 489200.0}, {\\\"x\\\": 1750.0, \\\"y\\\": 341000.0}, {\\\"x\\\": 2154.0, \\\"y\\\": 335000.0}, {\\\"x\\\": 1230.0, \\\"y\\\": 393500.0}, {\\\"x\\\": 1960.0, \\\"y\\\": 360000.0}, {\\\"x\\\": 1070.0, \\\"y\\\": 400800.0}, {\\\"x\\\": 1450.0, \\\"y\\\": 585000.0}, {\\\"x\\\": 3680.0, \\\"y\\\": 1600000.0}, {\\\"x\\\": 5760.0, \\\"y\\\": 2880500.0}, {\\\"x\\\": 1220.0, \\\"y\\\": 300000.0}, {\\\"x\\\": 2950.0, \\\"y\\\": 1045000.0}, {\\\"x\\\": 1340.0, \\\"y\\\": 360000.0}, {\\\"x\\\": 2870.0, \\\"y\\\": 665900.0}, {\\\"x\\\": 2590.0, \\\"y\\\": 470000.0}, {\\\"x\\\": 2090.0, \\\"y\\\": 581000.0}, {\\\"x\\\": 3000.0, \\\"y\\\": 527000.0}, {\\\"x\\\": 1730.0, \\\"y\\\": 423000.0}, {\\\"x\\\": 2850.0, \\\"y\\\": 875000.0}, {\\\"x\\\": 1020.0, \\\"y\\\": 410000.0}, {\\\"x\\\": 2200.0, \\\"y\\\": 606000.0}, {\\\"x\\\": 3240.0, \\\"y\\\": 654000.0}, {\\\"x\\\": 490.0, \\\"y\\\": 150000.0}, {\\\"x\\\": 2990.0, \\\"y\\\": 373000.0}, {\\\"x\\\": 2450.0, \\\"y\\\": 550000.0}, {\\\"x\\\": 1900.0, \\\"y\\\": 512500.0}, {\\\"x\\\": 2640.0, \\\"y\\\": 360000.0}, {\\\"x\\\": 1340.0, \\\"y\\\": 369000.0}, {\\\"x\\\": 3220.0, \\\"y\\\": 825000.0}, {\\\"x\\\": 930.0, \\\"y\\\": 255000.0}, {\\\"x\\\": 3240.0, \\\"y\\\": 1285000.0}, {\\\"x\\\": 2630.0, \\\"y\\\": 270000.0}, {\\\"x\\\": 1730.0, \\\"y\\\": 480680.0}, {\\\"x\\\": 2120.0, \\\"y\\\": 525000.0}, {\\\"x\\\": 880.0, \\\"y\\\": 291500.0}, {\\\"x\\\": 1800.0, \\\"y\\\": 305000.0}, {\\\"x\\\": 1600.0, \\\"y\\\": 285000.0}, {\\\"x\\\": 3280.0, \\\"y\\\": 1875000.0}, {\\\"x\\\": 3290.0, \\\"y\\\": 329500.0}, {\\\"x\\\": 2890.0, \\\"y\\\": 1570000.0}, {\\\"x\\\": 1730.0, \\\"y\\\": 379260.0}, {\\\"x\\\": 1590.0, \\\"y\\\": 356000.0}, {\\\"x\\\": 1710.0, \\\"y\\\": 571900.0}, {\\\"x\\\": 1995.0, \\\"y\\\": 271500.0}, {\\\"x\\\": 1300.0, \\\"y\\\": 390000.0}, {\\\"x\\\": 2720.0, \\\"y\\\": 550000.0}, {\\\"x\\\": 1360.0, \\\"y\\\": 755000.0}, {\\\"x\\\": 1590.0, \\\"y\\\": 509500.0}, {\\\"x\\\": 1200.0, \\\"y\\\": 486700.0}, {\\\"x\\\": 1170.0, \\\"y\\\": 527500.0}, {\\\"x\\\": 2010.0, \\\"y\\\": 475000.0}, {\\\"x\\\": 1880.0, \\\"y\\\": 268000.0}, {\\\"x\\\": 3250.0, \\\"y\\\": 562000.0}, {\\\"x\\\": 2270.0, \\\"y\\\": 780000.0}, {\\\"x\\\": 3680.0, \\\"y\\\": 700000.0}, {\\\"x\\\": 1880.0, \\\"y\\\": 710000.0}, {\\\"x\\\": 1050.0, \\\"y\\\": 445000.0}, {\\\"x\\\": 2250.0, \\\"y\\\": 729000.0}, {\\\"x\\\": 1689.0, \\\"y\\\": 384400.0}, {\\\"x\\\": 2860.0, \\\"y\\\": 815000.0}, {\\\"x\\\": 2710.0, \\\"y\\\": 865000.0}, {\\\"x\\\": 1770.0, \\\"y\\\": 514000.0}, {\\\"x\\\": 2820.0, \\\"y\\\": 615000.0}, {\\\"x\\\": 3400.0, \\\"y\\\": 865000.0}, {\\\"x\\\": 3110.0, \\\"y\\\": 755000.0}, {\\\"x\\\": 1480.0, \\\"y\\\": 425000.0}, {\\\"x\\\": 940.0, \\\"y\\\": 375000.0}, {\\\"x\\\": 2680.0, \\\"y\\\": 750000.0}, {\\\"x\\\": 3190.0, \\\"y\\\": 722000.0}, {\\\"x\\\": 1920.0, \\\"y\\\": 1011000.0}, {\\\"x\\\": 2610.0, \\\"y\\\": 725000.0}, {\\\"x\\\": 1040.0, \\\"y\\\": 170000.0}, {\\\"x\\\": 2880.0, \\\"y\\\": 845000.0}, {\\\"x\\\": 1450.0, \\\"y\\\": 271900.0}, {\\\"x\\\": 3902.0, \\\"y\\\": 1300000.0}, {\\\"x\\\": 2460.0, \\\"y\\\": 261500.0}, {\\\"x\\\": 2170.0, \\\"y\\\": 619500.0}, {\\\"x\\\": 1970.0, \\\"y\\\": 435000.0}, {\\\"x\\\": 1000.0, \\\"y\\\": 210000.0}, {\\\"x\\\": 1580.0, \\\"y\\\": 489950.0}, {\\\"x\\\": 2130.0, \\\"y\\\": 260000.0}, {\\\"x\\\": 1370.0, \\\"y\\\": 300000.0}, {\\\"x\\\": 2150.0, \\\"y\\\": 530000.0}, {\\\"x\\\": 1370.0, \\\"y\\\": 235000.0}, {\\\"x\\\": 1370.0, \\\"y\\\": 593500.0}, {\\\"x\\\": 3290.0, \\\"y\\\": 562000.0}, {\\\"x\\\": 3190.0, \\\"y\\\": 585000.0}, {\\\"x\\\": 4140.0, \\\"y\\\": 2400000.0}, {\\\"x\\\": 1690.0, \\\"y\\\": 199500.0}, {\\\"x\\\": 1690.0, \\\"y\\\": 544500.0}, {\\\"x\\\": 1430.0, \\\"y\\\": 394900.0}, {\\\"x\\\": 1980.0, \\\"y\\\": 912000.0}, {\\\"x\\\": 1490.0, \\\"y\\\": 260000.0}, {\\\"x\\\": 3620.0, \\\"y\\\": 858000.0}, {\\\"x\\\": 2720.0, \\\"y\\\": 1275000.0}, {\\\"x\\\": 1490.0, \\\"y\\\": 242150.0}, {\\\"x\\\": 1230.0, \\\"y\\\": 220000.0}, {\\\"x\\\": 1900.0, \\\"y\\\": 235000.0}, {\\\"x\\\": 1530.0, \\\"y\\\": 370000.0}, {\\\"x\\\": 2290.0, \\\"y\\\": 450000.0}, {\\\"x\\\": 2240.0, \\\"y\\\": 534950.0}, {\\\"x\\\": 3470.0, \\\"y\\\": 730000.0}, {\\\"x\\\": 3050.0, \\\"y\\\": 465000.0}, {\\\"x\\\": 1100.0, \\\"y\\\": 178000.0}, {\\\"x\\\": 1610.0, \\\"y\\\": 215000.0}, {\\\"x\\\": 1910.0, \\\"y\\\": 300000.0}, {\\\"x\\\": 1510.0, \\\"y\\\": 430000.0}, {\\\"x\\\": 1280.0, \\\"y\\\": 183000.0}, {\\\"x\\\": 1910.0, \\\"y\\\": 585000.0}, {\\\"x\\\": 1170.0, \\\"y\\\": 192950.0}, {\\\"x\\\": 1550.0, \\\"y\\\": 599000.0}, {\\\"x\\\": 1060.0, \\\"y\\\": 326500.0}, {\\\"x\\\": 1040.0, \\\"y\\\": 358803.0}, {\\\"x\\\": 1550.0, \\\"y\\\": 537000.0}, {\\\"x\\\": 2490.0, \\\"y\\\": 1155000.0}, {\\\"x\\\": 920.0, \\\"y\\\": 156000.0}, {\\\"x\\\": 1250.0, \\\"y\\\": 219000.0}, {\\\"x\\\": 2540.0, \\\"y\\\": 1190000.0}, {\\\"x\\\": 2190.0, \\\"y\\\": 248000.0}, {\\\"x\\\": 1340.0, \\\"y\\\": 340000.0}, {\\\"x\\\": 2410.0, \\\"y\\\": 899100.0}, {\\\"x\\\": 1830.0, \\\"y\\\": 346950.0}, {\\\"x\\\": 1850.0, \\\"y\\\": 330000.0}, {\\\"x\\\": 1410.0, \\\"y\\\": 325000.0}, {\\\"x\\\": 1460.0, \\\"y\\\": 315000.0}, {\\\"x\\\": 1500.0, \\\"y\\\": 649950.0}, {\\\"x\\\": 1130.0, \\\"y\\\": 316000.0}, {\\\"x\\\": 1620.0, \\\"y\\\": 386000.0}, {\\\"x\\\": 2330.0, \\\"y\\\": 535000.0}, {\\\"x\\\": 1520.0, \\\"y\\\": 600000.0}, {\\\"x\\\": 2840.0, \\\"y\\\": 339000.0}, {\\\"x\\\": 1520.0, \\\"y\\\": 167000.0}, {\\\"x\\\": 1740.0, \\\"y\\\": 430000.0}, {\\\"x\\\": 4000.0, \\\"y\\\": 688000.0}, {\\\"x\\\": 2780.0, \\\"y\\\": 834500.0}, {\\\"x\\\": 3500.0, \\\"y\\\": 1075000.0}, {\\\"x\\\": 1060.0, \\\"y\\\": 250000.0}, {\\\"x\\\": 1290.0, \\\"y\\\": 402500.0}, {\\\"x\\\": 2390.0, \\\"y\\\": 432500.0}, {\\\"x\\\": 2460.0, \\\"y\\\": 485000.0}, {\\\"x\\\": 2930.0, \\\"y\\\": 560000.0}, {\\\"x\\\": 2200.0, \\\"y\\\": 410000.0}, {\\\"x\\\": 1870.0, \\\"y\\\": 455000.0}, {\\\"x\\\": 2060.0, \\\"y\\\": 459500.0}, {\\\"x\\\": 1610.0, \\\"y\\\": 371000.0}, {\\\"x\\\": 2120.0, \\\"y\\\": 289500.0}, {\\\"x\\\": 1450.0, \\\"y\\\": 395000.0}, {\\\"x\\\": 1980.0, \\\"y\\\": 496752.0}, {\\\"x\\\": 860.0, \\\"y\\\": 227000.0}, {\\\"x\\\": 1460.0, \\\"y\\\": 330000.0}, {\\\"x\\\": 2590.0, \\\"y\\\": 480000.0}, {\\\"x\\\": 1120.0, \\\"y\\\": 290000.0}, {\\\"x\\\": 1340.0, \\\"y\\\": 281000.0}, {\\\"x\\\": 1780.0, \\\"y\\\": 705000.0}, {\\\"x\\\": 2920.0, \\\"y\\\": 1400000.0}, {\\\"x\\\": 2820.0, \\\"y\\\": 485000.0}, {\\\"x\\\": 1550.0, \\\"y\\\": 622000.0}, {\\\"x\\\": 1600.0, \\\"y\\\": 380000.0}, {\\\"x\\\": 3190.0, \\\"y\\\": 2125000.0}, {\\\"x\\\": 1960.0, \\\"y\\\": 561500.0}, {\\\"x\\\": 970.0, \\\"y\\\": 242000.0}, {\\\"x\\\": 1360.0, \\\"y\\\": 348500.0}, {\\\"x\\\": 1360.0, \\\"y\\\": 370000.0}, {\\\"x\\\": 3810.0, \\\"y\\\": 752000.0}, {\\\"x\\\": 1340.0, \\\"y\\\": 230000.0}, {\\\"x\\\": 1990.0, \\\"y\\\": 715000.0}, {\\\"x\\\": 1120.0, \\\"y\\\": 240415.0}, {\\\"x\\\": 2060.0, \\\"y\\\": 562000.0}, {\\\"x\\\": 1170.0, \\\"y\\\": 360000.0}, {\\\"x\\\": 1610.0, \\\"y\\\": 659950.0}, {\\\"x\\\": 1890.0, \\\"y\\\": 458500.0}, {\\\"x\\\": 1070.0, \\\"y\\\": 259950.0}, {\\\"x\\\": 1680.0, \\\"y\\\": 366000.0}, {\\\"x\\\": 2890.0, \\\"y\\\": 978000.0}, {\\\"x\\\": 1360.0, \\\"y\\\": 525000.0}, {\\\"x\\\": 1660.0, \\\"y\\\": 926300.0}, {\\\"x\\\": 1620.0, \\\"y\\\": 750000.0}, {\\\"x\\\": 960.0, \\\"y\\\": 660000.0}, {\\\"x\\\": 1000.0, \\\"y\\\": 305000.0}, {\\\"x\\\": 2395.0, \\\"y\\\": 800000.0}, {\\\"x\\\": 3050.0, \\\"y\\\": 600000.0}, {\\\"x\\\": 1120.0, \\\"y\\\": 435000.0}, {\\\"x\\\": 2960.0, \\\"y\\\": 1135000.0}, {\\\"x\\\": 1250.0, \\\"y\\\": 318000.0}, {\\\"x\\\": 1940.0, \\\"y\\\": 639000.0}, {\\\"x\\\": 1750.0, \\\"y\\\": 453000.0}, {\\\"x\\\": 2150.0, \\\"y\\\": 800000.0}, {\\\"x\\\": 1500.0, \\\"y\\\": 437000.0}, {\\\"x\\\": 3230.0, \\\"y\\\": 1150000.0}, {\\\"x\\\": 3000.0, \\\"y\\\": 490000.0}, {\\\"x\\\": 1520.0, \\\"y\\\": 499950.0}, {\\\"x\\\": 1190.0, \\\"y\\\": 160134.0}, {\\\"x\\\": 990.0, \\\"y\\\": 191000.0}, {\\\"x\\\": 1250.0, \\\"y\\\": 221000.0}, {\\\"x\\\": 2080.0, \\\"y\\\": 352800.0}, {\\\"x\\\": 1640.0, \\\"y\\\": 350000.0}, {\\\"x\\\": 1550.0, \\\"y\\\": 458000.0}, {\\\"x\\\": 1290.0, \\\"y\\\": 359950.0}, {\\\"x\\\": 3250.0, \\\"y\\\": 1050000.0}, {\\\"x\\\": 1260.0, \\\"y\\\": 353000.0}, {\\\"x\\\": 2840.0, \\\"y\\\": 717550.0}, {\\\"x\\\": 1960.0, \\\"y\\\": 450000.0}, {\\\"x\\\": 760.0, \\\"y\\\": 167500.0}, {\\\"x\\\": 2240.0, \\\"y\\\": 550000.0}, {\\\"x\\\": 2240.0, \\\"y\\\": 939000.0}, {\\\"x\\\": 1820.0, \\\"y\\\": 700000.0}, {\\\"x\\\": 3370.0, \\\"y\\\": 480000.0}, {\\\"x\\\": 1160.0, \\\"y\\\": 501000.0}, {\\\"x\\\": 1640.0, \\\"y\\\": 580000.0}, {\\\"x\\\": 820.0, \\\"y\\\": 527550.0}, {\\\"x\\\": 2800.0, \\\"y\\\": 399000.0}, {\\\"x\\\": 1780.0, \\\"y\\\": 240000.0}, {\\\"x\\\": 2200.0, \\\"y\\\": 353000.0}, {\\\"x\\\": 1480.0, \\\"y\\\": 335000.0}, {\\\"x\\\": 2010.0, \\\"y\\\": 475000.0}, {\\\"x\\\": 2880.0, \\\"y\\\": 660000.0}, {\\\"x\\\": 940.0, \\\"y\\\": 551000.0}, {\\\"x\\\": 1620.0, \\\"y\\\": 249950.0}, {\\\"x\\\": 4400.0, \\\"y\\\": 1150000.0}, {\\\"x\\\": 1530.0, \\\"y\\\": 575000.0}, {\\\"x\\\": 3460.0, \\\"y\\\": 1088889.0}, {\\\"x\\\": 2890.0, \\\"y\\\": 515000.0}, {\\\"x\\\": 1980.0, \\\"y\\\": 235000.0}, {\\\"x\\\": 1980.0, \\\"y\\\": 796000.0}, {\\\"x\\\": 1450.0, \\\"y\\\": 450000.0}, {\\\"x\\\": 4280.0, \\\"y\\\": 2050000.0}, {\\\"x\\\": 1810.0, \\\"y\\\": 270000.0}, {\\\"x\\\": 2490.0, \\\"y\\\": 1705000.0}, {\\\"x\\\": 1610.0, \\\"y\\\": 565000.0}, {\\\"x\\\": 1820.0, \\\"y\\\": 680000.0}, {\\\"x\\\": 9200.0, \\\"y\\\": 5570000.0}, {\\\"x\\\": 3520.0, \\\"y\\\": 864500.0}, {\\\"x\\\": 3740.0, \\\"y\\\": 1150000.0}, {\\\"x\\\": 2150.0, \\\"y\\\": 335000.0}, {\\\"x\\\": 3526.0, \\\"y\\\": 911000.0}, {\\\"x\\\": 1070.0, \\\"y\\\": 425000.0}, {\\\"x\\\": 1410.0, \\\"y\\\": 299950.0}, {\\\"x\\\": 3190.0, \\\"y\\\": 864000.0}, {\\\"x\\\": 1270.0, \\\"y\\\": 425000.0}, {\\\"x\\\": 1970.0, \\\"y\\\": 374950.0}, {\\\"x\\\": 1640.0, \\\"y\\\": 247000.0}, {\\\"x\\\": 1600.0, \\\"y\\\": 475000.0}, {\\\"x\\\": 3020.0, \\\"y\\\": 275000.0}, {\\\"x\\\": 1350.0, \\\"y\\\": 355000.0}, {\\\"x\\\": 1870.0, \\\"y\\\": 285000.0}, {\\\"x\\\": 2730.0, \\\"y\\\": 1338750.0}, {\\\"x\\\": 1100.0, \\\"y\\\": 325000.0}, {\\\"x\\\": 4320.0, \\\"y\\\": 1670000.0}, {\\\"x\\\": 2700.0, \\\"y\\\": 402000.0}, {\\\"x\\\": 3700.0, \\\"y\\\": 1100000.0}, {\\\"x\\\": 2190.0, \\\"y\\\": 375000.0}, {\\\"x\\\": 2840.0, \\\"y\\\": 396000.0}, {\\\"x\\\": 2610.0, \\\"y\\\": 320000.0}, {\\\"x\\\": 2630.0, \\\"y\\\": 610000.0}, {\\\"x\\\": 1090.0, \\\"y\\\": 249950.0}, {\\\"x\\\": 3090.0, \\\"y\\\": 675000.0}, {\\\"x\\\": 1670.0, \\\"y\\\": 448000.0}, {\\\"x\\\": 1300.0, \\\"y\\\": 819000.0}, {\\\"x\\\": 3670.0, \\\"y\\\": 1250000.0}, {\\\"x\\\": 1700.0, \\\"y\\\": 225000.0}, {\\\"x\\\": 2560.0, \\\"y\\\": 790000.0}, {\\\"x\\\": 2770.0, \\\"y\\\": 685000.0}, {\\\"x\\\": 3240.0, \\\"y\\\": 812000.0}, {\\\"x\\\": 2300.0, \\\"y\\\": 705000.0}, {\\\"x\\\": 2483.0, \\\"y\\\": 360000.0}, {\\\"x\\\": 760.0, \\\"y\\\": 344000.0}, {\\\"x\\\": 2040.0, \\\"y\\\": 825000.0}, {\\\"x\\\": 1200.0, \\\"y\\\": 476500.0}, {\\\"x\\\": 960.0, \\\"y\\\": 379500.0}, {\\\"x\\\": 2410.0, \\\"y\\\": 620000.0}, {\\\"x\\\": 2260.0, \\\"y\\\": 477590.0}, {\\\"x\\\": 1910.0, \\\"y\\\": 490000.0}, {\\\"x\\\": 1500.0, \\\"y\\\": 470000.0}, {\\\"x\\\": 1360.0, \\\"y\\\": 500000.0}, {\\\"x\\\": 1320.0, \\\"y\\\": 370000.0}, {\\\"x\\\": 1940.0, \\\"y\\\": 790000.0}, {\\\"x\\\": 2650.0, \\\"y\\\": 725000.0}, {\\\"x\\\": 3040.0, \\\"y\\\": 840000.0}, {\\\"x\\\": 1240.0, \\\"y\\\": 390000.0}, {\\\"x\\\": 2210.0, \\\"y\\\": 507000.0}, {\\\"x\\\": 1540.0, \\\"y\\\": 263500.0}, {\\\"x\\\": 1320.0, \\\"y\\\": 369000.0}, {\\\"x\\\": 3040.0, \\\"y\\\": 500000.0}, {\\\"x\\\": 910.0, \\\"y\\\": 570000.0}, {\\\"x\\\": 2040.0, \\\"y\\\": 284000.0}, {\\\"x\\\": 980.0, \\\"y\\\": 415000.0}, {\\\"x\\\": 980.0, \\\"y\\\": 197500.0}, {\\\"x\\\": 4420.0, \\\"y\\\": 925000.0}, {\\\"x\\\": 1570.0, \\\"y\\\": 468000.0}, {\\\"x\\\": 1600.0, \\\"y\\\": 355000.0}, {\\\"x\\\": 1830.0, \\\"y\\\": 639000.0}, {\\\"x\\\": 2820.0, \\\"y\\\": 720000.0}, {\\\"x\\\": 1800.0, \\\"y\\\": 381000.0}, {\\\"x\\\": 4380.0, \\\"y\\\": 1050000.0}, {\\\"x\\\": 2980.0, \\\"y\\\": 670000.0}, {\\\"x\\\": 1690.0, \\\"y\\\": 400000.0}, {\\\"x\\\": 4040.0, \\\"y\\\": 910000.0}, {\\\"x\\\": 1250.0, \\\"y\\\": 294000.0}, {\\\"x\\\": 1500.0, \\\"y\\\": 315001.0}, {\\\"x\\\": 1630.0, \\\"y\\\": 360000.0}, {\\\"x\\\": 1410.0, \\\"y\\\": 520000.0}, {\\\"x\\\": 1140.0, \\\"y\\\": 474000.0}, {\\\"x\\\": 3280.0, \\\"y\\\": 702000.0}, {\\\"x\\\": 3490.0, \\\"y\\\": 728000.0}, {\\\"x\\\": 2020.0, \\\"y\\\": 308000.0}, {\\\"x\\\": 4580.0, \\\"y\\\": 2000000.0}, {\\\"x\\\": 2270.0, \\\"y\\\": 340000.0}, {\\\"x\\\": 1310.0, \\\"y\\\": 306500.0}, {\\\"x\\\": 1420.0, \\\"y\\\": 716000.0}, {\\\"x\\\": 2980.0, \\\"y\\\": 950000.0}, {\\\"x\\\": 4180.0, \\\"y\\\": 673200.0}, {\\\"x\\\": 1950.0, \\\"y\\\": 564500.0}, {\\\"x\\\": 1790.0, \\\"y\\\": 393000.0}, {\\\"x\\\": 1400.0, \\\"y\\\": 425000.0}, {\\\"x\\\": 1320.0, \\\"y\\\": 150000.0}, {\\\"x\\\": 1620.0, \\\"y\\\": 327000.0}, {\\\"x\\\": 3120.0, \\\"y\\\": 444900.0}, {\\\"x\\\": 2100.0, \\\"y\\\": 305000.0}, {\\\"x\\\": 1370.0, \\\"y\\\": 469000.0}, {\\\"x\\\": 1520.0, \\\"y\\\": 525000.0}, {\\\"x\\\": 2410.0, \\\"y\\\": 330000.0}, {\\\"x\\\": 1260.0, \\\"y\\\": 618000.0}, {\\\"x\\\": 2830.0, \\\"y\\\": 295500.0}, {\\\"x\\\": 2064.0, \\\"y\\\": 567035.0}, {\\\"x\\\": 2640.0, \\\"y\\\": 518000.0}, {\\\"x\\\": 1020.0, \\\"y\\\": 303000.0}, {\\\"x\\\": 2200.0, \\\"y\\\": 300000.0}, {\\\"x\\\": 1420.0, \\\"y\\\": 413107.0}, {\\\"x\\\": 1350.0, \\\"y\\\": 400000.0}, {\\\"x\\\": 1290.0, \\\"y\\\": 535000.0}, {\\\"x\\\": 1680.0, \\\"y\\\": 555000.0}, {\\\"x\\\": 2280.0, \\\"y\\\": 312000.0}, {\\\"x\\\": 1840.0, \\\"y\\\": 785200.0}, {\\\"x\\\": 2040.0, \\\"y\\\": 749000.0}, {\\\"x\\\": 1490.0, \\\"y\\\": 285000.0}, {\\\"x\\\": 2440.0, \\\"y\\\": 425000.0}, {\\\"x\\\": 1930.0, \\\"y\\\": 360000.0}, {\\\"x\\\": 1200.0, \\\"y\\\": 260000.0}, {\\\"x\\\": 1550.0, \\\"y\\\": 369000.0}, {\\\"x\\\": 2180.0, \\\"y\\\": 275000.0}, {\\\"x\\\": 1430.0, \\\"y\\\": 407000.0}, {\\\"x\\\": 1230.0, \\\"y\\\": 575000.0}, {\\\"x\\\": 1670.0, \\\"y\\\": 1236000.0}, {\\\"x\\\": 2720.0, \\\"y\\\": 875000.0}, {\\\"x\\\": 2220.0, \\\"y\\\": 320000.0}, {\\\"x\\\": 1520.0, \\\"y\\\": 810000.0}, {\\\"x\\\": 1590.0, \\\"y\\\": 274000.0}, {\\\"x\\\": 1480.0, \\\"y\\\": 239900.0}, {\\\"x\\\": 1860.0, \\\"y\\\": 450000.0}, {\\\"x\\\": 1360.0, \\\"y\\\": 263400.0}, {\\\"x\\\": 1360.0, \\\"y\\\": 265000.0}, {\\\"x\\\": 2360.0, \\\"y\\\": 418000.0}, {\\\"x\\\": 2360.0, \\\"y\\\": 390000.0}, {\\\"x\\\": 1860.0, \\\"y\\\": 430000.0}, {\\\"x\\\": 2630.0, \\\"y\\\": 1442500.0}, {\\\"x\\\": 1280.0, \\\"y\\\": 297000.0}, {\\\"x\\\": 2330.0, \\\"y\\\": 650000.0}, {\\\"x\\\": 720.0, \\\"y\\\": 195000.0}, {\\\"x\\\": 3380.0, \\\"y\\\": 554000.0}, {\\\"x\\\": 3650.0, \\\"y\\\": 550000.0}, {\\\"x\\\": 1640.0, \\\"y\\\": 700000.0}, {\\\"x\\\": 1730.0, \\\"y\\\": 300000.0}, {\\\"x\\\": 1030.0, \\\"y\\\": 315000.0}, {\\\"x\\\": 1790.0, \\\"y\\\": 603000.0}, {\\\"x\\\": 840.0, \\\"y\\\": 530000.0}, {\\\"x\\\": 1300.0, \\\"y\\\": 397500.0}, {\\\"x\\\": 1240.0, \\\"y\\\": 221000.0}, {\\\"x\\\": 2170.0, \\\"y\\\": 466000.0}, {\\\"x\\\": 1330.0, \\\"y\\\": 197500.0}, {\\\"x\\\": 1390.0, \\\"y\\\": 280000.0}, {\\\"x\\\": 1240.0, \\\"y\\\": 412000.0}, {\\\"x\\\": 880.0, \\\"y\\\": 454000.0}, {\\\"x\\\": 2540.0, \\\"y\\\": 540000.0}, {\\\"x\\\": 2520.0, \\\"y\\\": 250000.0}, {\\\"x\\\": 2510.0, \\\"y\\\": 900000.0}, {\\\"x\\\": 2020.0, \\\"y\\\": 245000.0}, {\\\"x\\\": 2060.0, \\\"y\\\": 290000.0}, {\\\"x\\\": 930.0, \\\"y\\\": 160000.0}, {\\\"x\\\": 2700.0, \\\"y\\\": 1260000.0}, {\\\"x\\\": 1060.0, \\\"y\\\": 325000.0}, {\\\"x\\\": 670.0, \\\"y\\\": 185000.0}, {\\\"x\\\": 1750.0, \\\"y\\\": 477000.0}, {\\\"x\\\": 930.0, \\\"y\\\": 100000.0}, {\\\"x\\\": 2420.0, \\\"y\\\": 345000.0}, {\\\"x\\\": 2410.0, \\\"y\\\": 530000.0}, {\\\"x\\\": 1150.0, \\\"y\\\": 203000.0}, {\\\"x\\\": 2480.0, \\\"y\\\": 599000.0}, {\\\"x\\\": 1310.0, \\\"y\\\": 370000.0}, {\\\"x\\\": 1240.0, \\\"y\\\": 140000.0}, {\\\"x\\\": 1150.0, \\\"y\\\": 500000.0}, {\\\"x\\\": 1460.0, \\\"y\\\": 527200.0}, {\\\"x\\\": 3060.0, \\\"y\\\": 549900.0}, {\\\"x\\\": 3520.0, \\\"y\\\": 760000.0}, {\\\"x\\\": 960.0, \\\"y\\\": 319000.0}, {\\\"x\\\": 2430.0, \\\"y\\\": 362300.0}, {\\\"x\\\": 1930.0, \\\"y\\\": 421000.0}, {\\\"x\\\": 1090.0, \\\"y\\\": 690000.0}, {\\\"x\\\": 2790.0, \\\"y\\\": 640000.0}, {\\\"x\\\": 1650.0, \\\"y\\\": 238000.0}, {\\\"x\\\": 3740.0, \\\"y\\\": 789000.0}, {\\\"x\\\": 5310.0, \\\"y\\\": 1050000.0}, {\\\"x\\\": 1690.0, \\\"y\\\": 302500.0}, {\\\"x\\\": 1400.0, \\\"y\\\": 259950.0}, {\\\"x\\\": 1440.0, \\\"y\\\": 456000.0}, {\\\"x\\\": 1360.0, \\\"y\\\": 369950.0}, {\\\"x\\\": 1726.0, \\\"y\\\": 363750.0}, {\\\"x\\\": 2220.0, \\\"y\\\": 585000.0}, {\\\"x\\\": 1850.0, \\\"y\\\": 268000.0}, {\\\"x\\\": 2860.0, \\\"y\\\": 1200000.0}, {\\\"x\\\": 1120.0, \\\"y\\\": 345000.0}, {\\\"x\\\": 2340.0, \\\"y\\\": 539000.0}, {\\\"x\\\": 3760.0, \\\"y\\\": 851000.0}, {\\\"x\\\": 1920.0, \\\"y\\\": 900000.0}, {\\\"x\\\": 3230.0, \\\"y\\\": 850000.0}, {\\\"x\\\": 1260.0, \\\"y\\\": 390000.0}, {\\\"x\\\": 1540.0, \\\"y\\\": 345000.0}, {\\\"x\\\": 1700.0, \\\"y\\\": 534500.0}, {\\\"x\\\": 3600.0, \\\"y\\\": 643500.0}, {\\\"x\\\": 3150.0, \\\"y\\\": 1206505.0}, {\\\"x\\\": 1280.0, \\\"y\\\": 495000.0}, {\\\"x\\\": 980.0, \\\"y\\\": 535000.0}, {\\\"x\\\": 2190.0, \\\"y\\\": 435000.0}, {\\\"x\\\": 2470.0, \\\"y\\\": 305000.0}, {\\\"x\\\": 2590.0, \\\"y\\\": 799000.0}, {\\\"x\\\": 2580.0, \\\"y\\\": 700000.0}, {\\\"x\\\": 1270.0, \\\"y\\\": 467000.0}, {\\\"x\\\": 1250.0, \\\"y\\\": 263000.0}, {\\\"x\\\": 4660.0, \\\"y\\\": 760000.0}, {\\\"x\\\": 2019.0, \\\"y\\\": 293000.0}, {\\\"x\\\": 1490.0, \\\"y\\\": 245000.0}, {\\\"x\\\": 1560.0, \\\"y\\\": 181000.0}, {\\\"x\\\": 1030.0, \\\"y\\\": 240000.0}, {\\\"x\\\": 2560.0, \\\"y\\\": 880000.0}, {\\\"x\\\": 1460.0, \\\"y\\\": 285000.0}, {\\\"x\\\": 770.0, \\\"y\\\": 407500.0}, {\\\"x\\\": 1960.0, \\\"y\\\": 325000.0}, {\\\"x\\\": 1900.0, \\\"y\\\": 405000.0}, {\\\"x\\\": 1970.0, \\\"y\\\": 291700.0}, {\\\"x\\\": 2490.0, \\\"y\\\": 370000.0}, {\\\"x\\\": 1430.0, \\\"y\\\": 270000.0}, {\\\"x\\\": 2680.0, \\\"y\\\": 800000.0}, {\\\"x\\\": 1610.0, \\\"y\\\": 626500.0}, {\\\"x\\\": 4300.0, \\\"y\\\": 1130000.0}, {\\\"x\\\": 3200.0, \\\"y\\\": 399950.0}, {\\\"x\\\": 2140.0, \\\"y\\\": 419000.0}, {\\\"x\\\": 4240.0, \\\"y\\\": 1160000.0}, {\\\"x\\\": 3410.0, \\\"y\\\": 1405000.0}, {\\\"x\\\": 2090.0, \\\"y\\\": 710000.0}, {\\\"x\\\": 1410.0, \\\"y\\\": 650000.0}, {\\\"x\\\": 2820.0, \\\"y\\\": 369900.0}, {\\\"x\\\": 2770.0, \\\"y\\\": 641000.0}, {\\\"x\\\": 1400.0, \\\"y\\\": 403000.0}, {\\\"x\\\": 3620.0, \\\"y\\\": 1015000.0}, {\\\"x\\\": 2260.0, \\\"y\\\": 865000.0}, {\\\"x\\\": 3440.0, \\\"y\\\": 2485000.0}, {\\\"x\\\": 2150.0, \\\"y\\\": 810000.0}, {\\\"x\\\": 1256.0, \\\"y\\\": 316750.0}, {\\\"x\\\": 2220.0, \\\"y\\\": 652500.0}, {\\\"x\\\": 2850.0, \\\"y\\\": 360000.0}, {\\\"x\\\": 700.0, \\\"y\\\": 208000.0}, {\\\"x\\\": 3700.0, \\\"y\\\": 898000.0}, {\\\"x\\\": 1400.0, \\\"y\\\": 295000.0}, {\\\"x\\\": 3130.0, \\\"y\\\": 652500.0}, {\\\"x\\\": 2170.0, \\\"y\\\": 560000.0}, {\\\"x\\\": 1020.0, \\\"y\\\": 280000.0}, {\\\"x\\\": 1760.0, \\\"y\\\": 289950.0}, {\\\"x\\\": 1860.0, \\\"y\\\": 397500.0}, {\\\"x\\\": 1140.0, \\\"y\\\": 380000.0}, {\\\"x\\\": 1670.0, \\\"y\\\": 415900.0}, {\\\"x\\\": 1710.0, \\\"y\\\": 475000.0}, {\\\"x\\\": 500.0, \\\"y\\\": 125000.0}, {\\\"x\\\": 1470.0, \\\"y\\\": 238000.0}, {\\\"x\\\": 1370.0, \\\"y\\\": 296000.0}, {\\\"x\\\": 3470.0, \\\"y\\\": 475000.0}, {\\\"x\\\": 1650.0, \\\"y\\\": 390000.0}, {\\\"x\\\": 1180.0, \\\"y\\\": 425000.0}, {\\\"x\\\": 3110.0, \\\"y\\\": 725000.0}, {\\\"x\\\": 2080.0, \\\"y\\\": 605000.0}, {\\\"x\\\": 1600.0, \\\"y\\\": 302000.0}, {\\\"x\\\": 2380.0, \\\"y\\\": 886000.0}, {\\\"x\\\": 1630.0, \\\"y\\\": 540000.0}, {\\\"x\\\": 1910.0, \\\"y\\\": 435000.0}, {\\\"x\\\": 3140.0, \\\"y\\\": 409000.0}, {\\\"x\\\": 1250.0, \\\"y\\\": 405000.0}, {\\\"x\\\": 1990.0, \\\"y\\\": 560200.0}, {\\\"x\\\": 2110.0, \\\"y\\\": 324000.0}, {\\\"x\\\": 2490.0, \\\"y\\\": 390000.0}, {\\\"x\\\": 800.0, \\\"y\\\": 414000.0}, {\\\"x\\\": 2360.0, \\\"y\\\": 441500.0}, {\\\"x\\\": 1770.0, \\\"y\\\": 375000.0}, {\\\"x\\\": 2710.0, \\\"y\\\": 668500.0}, {\\\"x\\\": 1940.0, \\\"y\\\": 540000.0}, {\\\"x\\\": 3450.0, \\\"y\\\": 1035000.0}, {\\\"x\\\": 3440.0, \\\"y\\\": 1345000.0}, {\\\"x\\\": 2410.0, \\\"y\\\": 758000.0}, {\\\"x\\\": 2290.0, \\\"y\\\": 949880.0}, {\\\"x\\\": 1030.0, \\\"y\\\": 570000.0}, {\\\"x\\\": 2290.0, \\\"y\\\": 736000.0}, {\\\"x\\\": 1490.0, \\\"y\\\": 670000.0}, {\\\"x\\\": 2370.0, \\\"y\\\": 1130000.0}, {\\\"x\\\": 1930.0, \\\"y\\\": 650000.0}, {\\\"x\\\": 1600.0, \\\"y\\\": 690000.0}, {\\\"x\\\": 2240.0, \\\"y\\\": 610000.0}, {\\\"x\\\": 770.0, \\\"y\\\": 413500.0}, {\\\"x\\\": 2300.0, \\\"y\\\": 765000.0}, {\\\"x\\\": 3400.0, \\\"y\\\": 828200.0}, {\\\"x\\\": 900.0, \\\"y\\\": 205000.0}, {\\\"x\\\": 1450.0, \\\"y\\\": 465000.0}, {\\\"x\\\": 2240.0, \\\"y\\\": 556000.0}, {\\\"x\\\": 1780.0, \\\"y\\\": 540000.0}, {\\\"x\\\": 2320.0, \\\"y\\\": 423000.0}, {\\\"x\\\": 1590.0, \\\"y\\\": 375000.0}, {\\\"x\\\": 990.0, \\\"y\\\": 173250.0}, {\\\"x\\\": 2605.0, \\\"y\\\": 599900.0}, {\\\"x\\\": 2870.0, \\\"y\\\": 646000.0}, {\\\"x\\\": 5180.0, \\\"y\\\": 1075000.0}, {\\\"x\\\": 2180.0, \\\"y\\\": 558000.0}, {\\\"x\\\": 850.0, \\\"y\\\": 354000.0}, {\\\"x\\\": 4050.0, \\\"y\\\": 1195000.0}, {\\\"x\\\": 2250.0, \\\"y\\\": 670000.0}, {\\\"x\\\": 3100.0, \\\"y\\\": 1125000.0}, {\\\"x\\\": 1747.0, \\\"y\\\": 267500.0}, {\\\"x\\\": 2410.0, \\\"y\\\": 299800.0}, {\\\"x\\\": 2070.0, \\\"y\\\": 430000.0}, {\\\"x\\\": 1860.0, \\\"y\\\": 775000.0}, {\\\"x\\\": 950.0, \\\"y\\\": 333000.0}, {\\\"x\\\": 1060.0, \\\"y\\\": 336000.0}, {\\\"x\\\": 880.0, \\\"y\\\": 323000.0}, {\\\"x\\\": 2550.0, \\\"y\\\": 575000.0}, {\\\"x\\\": 1550.0, \\\"y\\\": 328000.0}, {\\\"x\\\": 1590.0, \\\"y\\\": 572500.0}, {\\\"x\\\": 1650.0, \\\"y\\\": 600000.0}, {\\\"x\\\": 2430.0, \\\"y\\\": 412000.0}, {\\\"x\\\": 1810.0, \\\"y\\\": 827500.0}, {\\\"x\\\": 2890.0, \\\"y\\\": 300000.0}, {\\\"x\\\": 1280.0, \\\"y\\\": 415000.0}, {\\\"x\\\": 3410.0, \\\"y\\\": 750000.0}, {\\\"x\\\": 2220.0, \\\"y\\\": 800000.0}, {\\\"x\\\": 1060.0, \\\"y\\\": 420000.0}, {\\\"x\\\": 1120.0, \\\"y\\\": 266000.0}, {\\\"x\\\": 2680.0, \\\"y\\\": 499000.0}, {\\\"x\\\": 1770.0, \\\"y\\\": 440000.0}, {\\\"x\\\": 2950.0, \\\"y\\\": 495000.0}, {\\\"x\\\": 1260.0, \\\"y\\\": 630000.0}, {\\\"x\\\": 1430.0, \\\"y\\\": 424000.0}, {\\\"x\\\": 2730.0, \\\"y\\\": 760000.0}, {\\\"x\\\": 3270.0, \\\"y\\\": 650000.0}, {\\\"x\\\": 1720.0, \\\"y\\\": 248500.0}, {\\\"x\\\": 1270.0, \\\"y\\\": 379600.0}, {\\\"x\\\": 3260.0, \\\"y\\\": 538000.0}, {\\\"x\\\": 2050.0, \\\"y\\\": 530000.0}, {\\\"x\\\": 2050.0, \\\"y\\\": 545000.0}, {\\\"x\\\": 3580.0, \\\"y\\\": 925000.0}, {\\\"x\\\": 1960.0, \\\"y\\\": 565000.0}, {\\\"x\\\": 840.0, \\\"y\\\": 405100.0}, {\\\"x\\\": 1300.0, \\\"y\\\": 502000.0}, {\\\"x\\\": 1260.0, \\\"y\\\": 425000.0}, {\\\"x\\\": 1650.0, \\\"y\\\": 233500.0}, {\\\"x\\\": 1710.0, \\\"y\\\": 287000.0}, {\\\"x\\\": 1180.0, \\\"y\\\": 190000.0}, {\\\"x\\\": 2780.0, \\\"y\\\": 666000.0}, {\\\"x\\\": 950.0, \\\"y\\\": 330000.0}, {\\\"x\\\": 3620.0, \\\"y\\\": 1490000.0}, {\\\"x\\\": 2140.0, \\\"y\\\": 393000.0}, {\\\"x\\\": 1920.0, \\\"y\\\": 353000.0}, {\\\"x\\\": 750.0, \\\"y\\\": 260000.0}, {\\\"x\\\": 2060.0, \\\"y\\\": 680000.0}, {\\\"x\\\": 2380.0, \\\"y\\\": 921000.0}, {\\\"x\\\": 750.0, \\\"y\\\": 319000.0}, {\\\"x\\\": 1160.0, \\\"y\\\": 280000.0}, {\\\"x\\\": 1050.0, \\\"y\\\": 220000.0}, {\\\"x\\\": 1740.0, \\\"y\\\": 219000.0}, {\\\"x\\\": 2050.0, \\\"y\\\": 528000.0}, {\\\"x\\\": 1980.0, \\\"y\\\": 405000.0}, {\\\"x\\\": 1690.0, \\\"y\\\": 372977.0}, {\\\"x\\\": 2320.0, \\\"y\\\": 934550.0}, {\\\"x\\\": 2480.0, \\\"y\\\": 1465000.0}, {\\\"x\\\": 2290.0, \\\"y\\\": 975000.0}, {\\\"x\\\": 3180.0, \\\"y\\\": 800866.0}, {\\\"x\\\": 3470.0, \\\"y\\\": 950000.0}, {\\\"x\\\": 1540.0, \\\"y\\\": 624000.0}, {\\\"x\\\": 2800.0, \\\"y\\\": 1850000.0}, {\\\"x\\\": 1050.0, \\\"y\\\": 310000.0}, {\\\"x\\\": 1480.0, \\\"y\\\": 315000.0}, {\\\"x\\\": 1010.0, \\\"y\\\": 675000.0}, {\\\"x\\\": 1660.0, \\\"y\\\": 490000.0}, {\\\"x\\\": 2760.0, \\\"y\\\": 600000.0}, {\\\"x\\\": 1040.0, \\\"y\\\": 154000.0}, {\\\"x\\\": 2220.0, \\\"y\\\": 480000.0}, {\\\"x\\\": 1270.0, \\\"y\\\": 196900.0}, {\\\"x\\\": 2960.0, \\\"y\\\": 735000.0}, {\\\"x\\\": 1330.0, \\\"y\\\": 205500.0}, {\\\"x\\\": 1210.0, \\\"y\\\": 357186.0}, {\\\"x\\\": 2120.0, \\\"y\\\": 275000.0}, {\\\"x\\\": 2090.0, \\\"y\\\": 248500.0}, {\\\"x\\\": 2680.0, \\\"y\\\": 350000.0}, {\\\"x\\\": 1790.0, \\\"y\\\": 390000.0}, {\\\"x\\\": 1950.0, \\\"y\\\": 390000.0}, {\\\"x\\\": 3740.0, \\\"y\\\": 660000.0}, {\\\"x\\\": 1140.0, \\\"y\\\": 310000.0}, {\\\"x\\\": 2480.0, \\\"y\\\": 717000.0}, {\\\"x\\\": 2580.0, \\\"y\\\": 260000.0}, {\\\"x\\\": 2290.0, \\\"y\\\": 745000.0}, {\\\"x\\\": 2320.0, \\\"y\\\": 470000.0}, {\\\"x\\\": 2530.0, \\\"y\\\": 429000.0}, {\\\"x\\\": 1400.0, \\\"y\\\": 220000.0}, {\\\"x\\\": 2060.0, \\\"y\\\": 497000.0}, {\\\"x\\\": 1640.0, \\\"y\\\": 716100.0}, {\\\"x\\\": 1960.0, \\\"y\\\": 371000.0}, {\\\"x\\\": 3000.0, \\\"y\\\": 379000.0}, {\\\"x\\\": 1320.0, \\\"y\\\": 937500.0}, {\\\"x\\\": 1760.0, \\\"y\\\": 720000.0}, {\\\"x\\\": 2130.0, \\\"y\\\": 616000.0}, {\\\"x\\\": 1390.0, \\\"y\\\": 259000.0}, {\\\"x\\\": 1400.0, \\\"y\\\": 538000.0}, {\\\"x\\\": 3230.0, \\\"y\\\": 605000.0}, {\\\"x\\\": 1110.0, \\\"y\\\": 369950.0}, {\\\"x\\\": 1670.0, \\\"y\\\": 310000.0}, {\\\"x\\\": 1540.0, \\\"y\\\": 227500.0}, {\\\"x\\\": 2090.0, \\\"y\\\": 274000.0}, {\\\"x\\\": 1410.0, \\\"y\\\": 410000.0}, {\\\"x\\\": 1370.0, \\\"y\\\": 354800.0}, {\\\"x\\\": 1910.0, \\\"y\\\": 650000.0}, {\\\"x\\\": 1678.0, \\\"y\\\": 353000.0}, {\\\"x\\\": 960.0, \\\"y\\\": 224975.0}, {\\\"x\\\": 2080.0, \\\"y\\\": 600000.0}, {\\\"x\\\": 1790.0, \\\"y\\\": 437500.0}, {\\\"x\\\": 2540.0, \\\"y\\\": 567000.0}, {\\\"x\\\": 1790.0, \\\"y\\\": 225000.0}, {\\\"x\\\": 940.0, \\\"y\\\": 255000.0}, {\\\"x\\\": 6810.0, \\\"y\\\": 2479000.0}, {\\\"x\\\": 900.0, \\\"y\\\": 370000.0}, {\\\"x\\\": 1900.0, \\\"y\\\": 675000.0}, {\\\"x\\\": 1440.0, \\\"y\\\": 285000.0}, {\\\"x\\\": 2070.0, \\\"y\\\": 310000.0}, {\\\"x\\\": 2240.0, \\\"y\\\": 475000.0}, {\\\"x\\\": 3320.0, \\\"y\\\": 410000.0}, {\\\"x\\\": 1950.0, \\\"y\\\": 895000.0}, {\\\"x\\\": 1240.0, \\\"y\\\": 375000.0}, {\\\"x\\\": 1830.0, \\\"y\\\": 349000.0}, {\\\"x\\\": 1740.0, \\\"y\\\": 650500.0}, {\\\"x\\\": 1410.0, \\\"y\\\": 760000.0}, {\\\"x\\\": 2050.0, \\\"y\\\": 480000.0}, {\\\"x\\\": 3220.0, \\\"y\\\": 689000.0}, {\\\"x\\\": 1960.0, \\\"y\\\": 415000.0}, {\\\"x\\\": 1070.0, \\\"y\\\": 195000.0}, {\\\"x\\\": 2820.0, \\\"y\\\": 318000.0}, {\\\"x\\\": 4060.0, \\\"y\\\": 404000.0}, {\\\"x\\\": 800.0, \\\"y\\\": 339950.0}, {\\\"x\\\": 1260.0, \\\"y\\\": 215000.0}, {\\\"x\\\": 2420.0, \\\"y\\\": 339900.0}, {\\\"x\\\": 810.0, \\\"y\\\": 285000.0}, {\\\"x\\\": 1600.0, \\\"y\\\": 550000.0}, {\\\"x\\\": 1350.0, \\\"y\\\": 430000.0}, {\\\"x\\\": 970.0, \\\"y\\\": 219000.0}, {\\\"x\\\": 1780.0, \\\"y\\\": 555000.0}, {\\\"x\\\": 1350.0, \\\"y\\\": 233000.0}, {\\\"x\\\": 1840.0, \\\"y\\\": 248000.0}, {\\\"x\\\": 2550.0, \\\"y\\\": 454000.0}, {\\\"x\\\": 1700.0, \\\"y\\\": 950000.0}, {\\\"x\\\": 2430.0, \\\"y\\\": 359000.0}, {\\\"x\\\": 2740.0, \\\"y\\\": 407500.0}, {\\\"x\\\": 1560.0, \\\"y\\\": 224000.0}, {\\\"x\\\": 1040.0, \\\"y\\\": 210000.0}, {\\\"x\\\": 1820.0, \\\"y\\\": 261000.0}, {\\\"x\\\": 1833.0, \\\"y\\\": 719000.0}, {\\\"x\\\": 2160.0, \\\"y\\\": 440000.0}, {\\\"x\\\": 2100.0, \\\"y\\\": 525000.0}, {\\\"x\\\": 1370.0, \\\"y\\\": 375000.0}, {\\\"x\\\": 1414.0, \\\"y\\\": 428000.0}, {\\\"x\\\": 4115.0, \\\"y\\\": 988830.0}, {\\\"x\\\": 1550.0, \\\"y\\\": 199950.0}, {\\\"x\\\": 2100.0, \\\"y\\\": 840000.0}, {\\\"x\\\": 1160.0, \\\"y\\\": 285000.0}, {\\\"x\\\": 3597.0, \\\"y\\\": 330000.0}, {\\\"x\\\": 1230.0, \\\"y\\\": 147500.0}, {\\\"x\\\": 2190.0, \\\"y\\\": 320000.0}, {\\\"x\\\": 1040.0, \\\"y\\\": 382500.0}, {\\\"x\\\": 4690.0, \\\"y\\\": 2048000.0}, {\\\"x\\\": 2270.0, \\\"y\\\": 596000.0}, {\\\"x\\\": 1950.0, \\\"y\\\": 220000.0}, {\\\"x\\\": 1880.0, \\\"y\\\": 325000.0}, {\\\"x\\\": 2850.0, \\\"y\\\": 679950.0}, {\\\"x\\\": 1160.0, \\\"y\\\": 175000.0}, {\\\"x\\\": 1370.0, \\\"y\\\": 268000.0}, {\\\"x\\\": 3260.0, \\\"y\\\": 715000.0}, {\\\"x\\\": 3170.0, \\\"y\\\": 600000.0}, {\\\"x\\\": 390.0, \\\"y\\\": 228000.0}, {\\\"x\\\": 3450.0, \\\"y\\\": 950000.0}, {\\\"x\\\": 1490.0, \\\"y\\\": 475000.0}, {\\\"x\\\": 1460.0, \\\"y\\\": 700000.0}, {\\\"x\\\": 1300.0, \\\"y\\\": 275000.0}, {\\\"x\\\": 1300.0, \\\"y\\\": 369500.0}, {\\\"x\\\": 1540.0, \\\"y\\\": 215000.0}, {\\\"x\\\": 2130.0, \\\"y\\\": 593450.0}, {\\\"x\\\": 1350.0, \\\"y\\\": 498800.0}, {\\\"x\\\": 2450.0, \\\"y\\\": 849000.0}, {\\\"x\\\": 1940.0, \\\"y\\\": 1151250.0}, {\\\"x\\\": 2890.0, \\\"y\\\": 825000.0}, {\\\"x\\\": 1680.0, \\\"y\\\": 265000.0}, {\\\"x\\\": 1960.0, \\\"y\\\": 285000.0}, {\\\"x\\\": 1590.0, \\\"y\\\": 240000.0}, {\\\"x\\\": 1390.0, \\\"y\\\": 261000.0}, {\\\"x\\\": 2440.0, \\\"y\\\": 330000.0}, {\\\"x\\\": 1850.0, \\\"y\\\": 250000.0}, {\\\"x\\\": 2800.0, \\\"y\\\": 350000.0}, {\\\"x\\\": 3780.0, \\\"y\\\": 930000.0}, {\\\"x\\\": 1910.0, \\\"y\\\": 275000.0}, {\\\"x\\\": 2460.0, \\\"y\\\": 325000.0}, {\\\"x\\\": 810.0, \\\"y\\\": 255000.0}, {\\\"x\\\": 1900.0, \\\"y\\\": 562200.0}, {\\\"x\\\": 3490.0, \\\"y\\\": 952000.0}, {\\\"x\\\": 2200.0, \\\"y\\\": 365000.0}, {\\\"x\\\": 1190.0, \\\"y\\\": 332900.0}, {\\\"x\\\": 2040.0, \\\"y\\\": 721000.0}, {\\\"x\\\": 2400.0, \\\"y\\\": 487275.0}, {\\\"x\\\": 1670.0, \\\"y\\\": 310000.0}, {\\\"x\\\": 990.0, \\\"y\\\": 245000.0}, {\\\"x\\\": 2920.0, \\\"y\\\": 325000.0}, {\\\"x\\\": 1840.0, \\\"y\\\": 550000.0}, {\\\"x\\\": 910.0, \\\"y\\\": 350000.0}, {\\\"x\\\": 2950.0, \\\"y\\\": 599000.0}, {\\\"x\\\": 1240.0, \\\"y\\\": 259950.0}, {\\\"x\\\": 1980.0, \\\"y\\\": 240000.0}, {\\\"x\\\": 1200.0, \\\"y\\\": 186000.0}, {\\\"x\\\": 1280.0, \\\"y\\\": 395000.0}, {\\\"x\\\": 3150.0, \\\"y\\\": 475000.0}, {\\\"x\\\": 3500.0, \\\"y\\\": 815000.0}, {\\\"x\\\": 1680.0, \\\"y\\\": 572000.0}, {\\\"x\\\": 1360.0, \\\"y\\\": 419500.0}, {\\\"x\\\": 2110.0, \\\"y\\\": 298700.0}, {\\\"x\\\": 2034.0, \\\"y\\\": 549000.0}, {\\\"x\\\": 1900.0, \\\"y\\\": 278000.0}, {\\\"x\\\": 2380.0, \\\"y\\\": 455000.0}, {\\\"x\\\": 4050.0, \\\"y\\\": 925000.0}, {\\\"x\\\": 1120.0, \\\"y\\\": 465000.0}, {\\\"x\\\": 2850.0, \\\"y\\\": 620000.0}, {\\\"x\\\": 2360.0, \\\"y\\\": 499900.0}, {\\\"x\\\": 2540.0, \\\"y\\\": 620000.0}, {\\\"x\\\": 1160.0, \\\"y\\\": 450000.0}, {\\\"x\\\": 2710.0, \\\"y\\\": 690000.0}, {\\\"x\\\": 3120.0, \\\"y\\\": 1895000.0}, {\\\"x\\\": 3120.0, \\\"y\\\": 1939999.0}, {\\\"x\\\": 1870.0, \\\"y\\\": 832500.0}, {\\\"x\\\": 1010.0, \\\"y\\\": 245000.0}, {\\\"x\\\": 2980.0, \\\"y\\\": 820000.0}, {\\\"x\\\": 2420.0, \\\"y\\\": 369000.0}, {\\\"x\\\": 3830.0, \\\"y\\\": 1050000.0}, {\\\"x\\\": 3040.0, \\\"y\\\": 653000.0}, {\\\"x\\\": 1460.0, \\\"y\\\": 220650.0}, {\\\"x\\\": 1940.0, \\\"y\\\": 300000.0}, {\\\"x\\\": 3780.0, \\\"y\\\": 970000.0}, {\\\"x\\\": 1950.0, \\\"y\\\": 360000.0}, {\\\"x\\\": 2450.0, \\\"y\\\": 672500.0}, {\\\"x\\\": 1730.0, \\\"y\\\": 268000.0}, {\\\"x\\\": 1690.0, \\\"y\\\": 440000.0}, {\\\"x\\\": 2550.0, \\\"y\\\": 1400000.0}, {\\\"x\\\": 2290.0, \\\"y\\\": 590000.0}, {\\\"x\\\": 2710.0, \\\"y\\\": 359000.0}, {\\\"x\\\": 1880.0, \\\"y\\\": 266500.0}, {\\\"x\\\": 2930.0, \\\"y\\\": 635000.0}, {\\\"x\\\": 3110.0, \\\"y\\\": 559000.0}, {\\\"x\\\": 3480.0, \\\"y\\\": 895000.0}, {\\\"x\\\": 1110.0, \\\"y\\\": 625000.0}, {\\\"x\\\": 2440.0, \\\"y\\\": 650000.0}, {\\\"x\\\": 2280.0, \\\"y\\\": 312500.0}, {\\\"x\\\": 900.0, \\\"y\\\": 225000.0}, {\\\"x\\\": 1980.0, \\\"y\\\": 425000.0}, {\\\"x\\\": 3360.0, \\\"y\\\": 329999.0}, {\\\"x\\\": 2340.0, \\\"y\\\": 572000.0}, {\\\"x\\\": 3110.0, \\\"y\\\": 386500.0}, {\\\"x\\\": 980.0, \\\"y\\\": 452000.0}, {\\\"x\\\": 1480.0, \\\"y\\\": 278000.0}, {\\\"x\\\": 1800.0, \\\"y\\\": 474900.0}, {\\\"x\\\": 2130.0, \\\"y\\\": 450000.0}, {\\\"x\\\": 1270.0, \\\"y\\\": 611000.0}, {\\\"x\\\": 1150.0, \\\"y\\\": 214100.0}, {\\\"x\\\": 1840.0, \\\"y\\\": 317000.0}, {\\\"x\\\": 3180.0, \\\"y\\\": 1000000.0}, {\\\"x\\\": 1510.0, \\\"y\\\": 1000000.0}, {\\\"x\\\": 3070.0, \\\"y\\\": 525000.0}, {\\\"x\\\": 1800.0, \\\"y\\\": 436000.0}, {\\\"x\\\": 1540.0, \\\"y\\\": 450000.0}, {\\\"x\\\": 2330.0, \\\"y\\\": 588500.0}, {\\\"x\\\": 1400.0, \\\"y\\\": 340000.0}, {\\\"x\\\": 2846.0, \\\"y\\\": 482000.0}, {\\\"x\\\": 5830.0, \\\"y\\\": 1575000.0}, {\\\"x\\\": 3380.0, \\\"y\\\": 749000.0}, {\\\"x\\\": 1440.0, \\\"y\\\": 330000.0}, {\\\"x\\\": 1740.0, \\\"y\\\": 568000.0}, {\\\"x\\\": 1470.0, \\\"y\\\": 239000.0}, {\\\"x\\\": 2810.0, \\\"y\\\": 528000.0}, {\\\"x\\\": 2090.0, \\\"y\\\": 385000.0}, {\\\"x\\\": 4110.0, \\\"y\\\": 825000.0}, {\\\"x\\\": 3230.0, \\\"y\\\": 815000.0}, {\\\"x\\\": 2601.0, \\\"y\\\": 625000.0}, {\\\"x\\\": 2070.0, \\\"y\\\": 690000.0}, {\\\"x\\\": 1660.0, \\\"y\\\": 210000.0}, {\\\"x\\\": 1590.0, \\\"y\\\": 599000.0}, {\\\"x\\\": 1860.0, \\\"y\\\": 860000.0}, {\\\"x\\\": 1420.0, \\\"y\\\": 147200.0}, {\\\"x\\\": 1240.0, \\\"y\\\": 476900.0}, {\\\"x\\\": 2500.0, \\\"y\\\": 450000.0}, {\\\"x\\\": 2640.0, \\\"y\\\": 570000.0}, {\\\"x\\\": 1440.0, \\\"y\\\": 567500.0}, {\\\"x\\\": 3030.0, \\\"y\\\": 790000.0}, {\\\"x\\\": 1820.0, \\\"y\\\": 875000.0}, {\\\"x\\\": 2220.0, \\\"y\\\": 490000.0}, {\\\"x\\\": 2430.0, \\\"y\\\": 335000.0}, {\\\"x\\\": 1670.0, \\\"y\\\": 550000.0}, {\\\"x\\\": 1180.0, \\\"y\\\": 385000.0}, {\\\"x\\\": 1620.0, \\\"y\\\": 395000.0}, {\\\"x\\\": 1030.0, \\\"y\\\": 650000.0}, {\\\"x\\\": 2900.0, \\\"y\\\": 637000.0}, {\\\"x\\\": 3420.0, \\\"y\\\": 692500.0}, {\\\"x\\\": 1710.0, \\\"y\\\": 322400.0}, {\\\"x\\\": 1580.0, \\\"y\\\": 233500.0}, {\\\"x\\\": 1230.0, \\\"y\\\": 400000.0}, {\\\"x\\\": 2200.0, \\\"y\\\": 547000.0}]}], \\\"marks\\\": [{\\\"name\\\": \\\"marks\\\", \\\"type\\\": \\\"symbol\\\", \\\"style\\\": [\\\"circle\\\"], \\\"from\\\": {\\\"data\\\": \\\"source_2\\\"}, \\\"encode\\\": {\\\"hover\\\": {\\\"fill\\\": {\\\"value\\\": \\\"#7EC2F3\\\"}}, \\\"update\\\": {\\\"x\\\": {\\\"scale\\\": \\\"x\\\", \\\"field\\\": \\\"x\\\"}, \\\"y\\\": {\\\"scale\\\": \\\"y\\\", \\\"field\\\": \\\"y\\\", \\\"title\\\": \\\"Miles per Gallon\\\"}, \\\"fill\\\": {\\\"value\\\": \\\"#108EE9\\\"}, \\\"shape\\\": {\\\"value\\\": \\\"circle\\\"}, \\\"opacity\\\": {\\\"value\\\": 0.7}}}}], \\\"scales\\\": [{\\\"name\\\": \\\"x\\\", \\\"type\\\": \\\"linear\\\", \\\"domain\\\": {\\\"data\\\": \\\"source_2\\\", \\\"field\\\": \\\"x\\\"}, \\\"range\\\": [0, {\\\"signal\\\": \\\"width\\\"}], \\\"nice\\\": true, \\\"zero\\\": false, \\\"padding\\\": 5}, {\\\"name\\\": \\\"y\\\", \\\"type\\\": \\\"linear\\\", \\\"domain\\\": {\\\"data\\\": \\\"source_2\\\", \\\"field\\\": \\\"y\\\"}, \\\"range\\\": [{\\\"signal\\\": \\\"height\\\"}, 0], \\\"nice\\\": true, \\\"zero\\\": false, \\\"padding\\\": 5}], \\\"axes\\\": [{\\\"scale\\\": \\\"x\\\", \\\"labelOverlap\\\": true, \\\"orient\\\": \\\"bottom\\\", \\\"tickCount\\\": {\\\"signal\\\": \\\"ceil(width/40)\\\"}, \\\"title\\\": \\\"X\\\", \\\"zindex\\\": 1}, {\\\"scale\\\": \\\"x\\\", \\\"domain\\\": false, \\\"grid\\\": true, \\\"labels\\\": false, \\\"maxExtent\\\": 0, \\\"minExtent\\\": 0, \\\"orient\\\": \\\"bottom\\\", \\\"tickCount\\\": {\\\"signal\\\": \\\"ceil(width/40)\\\"}, \\\"ticks\\\": false, \\\"zindex\\\": 0, \\\"gridScale\\\": \\\"y\\\"}, {\\\"scale\\\": \\\"y\\\", \\\"labelOverlap\\\": true, \\\"orient\\\": \\\"left\\\", \\\"tickCount\\\": {\\\"signal\\\": \\\"ceil(height/40)\\\"}, \\\"title\\\": \\\"Y\\\", \\\"zindex\\\": 1}, {\\\"scale\\\": \\\"y\\\", \\\"domain\\\": false, \\\"grid\\\": true, \\\"labels\\\": false, \\\"maxExtent\\\": 0, \\\"minExtent\\\": 0, \\\"orient\\\": \\\"left\\\", \\\"tickCount\\\": {\\\"signal\\\": \\\"ceil(height/40)\\\"}, \\\"ticks\\\": false, \\\"zindex\\\": 0, \\\"gridScale\\\": \\\"x\\\"}], \\\"config\\\": {\\\"axis\\\": {\\\"gridColor\\\": \\\"rgba(204,204,204,1.0)\\\", \\\"labelFont\\\": \\\"\\\\\\\"San Francisco\\\\\\\", HelveticaNeue, Arial\\\", \\\"labelFontSize\\\": 12, \\\"labelPadding\\\": 10, \\\"labelColor\\\": \\\"rgba(0,0,0,0.847)\\\", \\\"tickColor\\\": \\\"rgb(136,136,136)\\\", \\\"titleFont\\\": \\\"\\\\\\\"San Francisco\\\\\\\", HelveticaNeue, Arial\\\", \\\"titleFontWeight\\\": \\\"normal\\\", \\\"titlePadding\\\": 20, \\\"titleFontSize\\\": 14, \\\"titleColor\\\": \\\"rgba(0,0,0,0.847)\\\"}, \\\"axisY\\\": {\\\"minExtent\\\": 30}, \\\"legend\\\": {\\\"labelFont\\\": \\\"\\\\\\\"San Francisco\\\\\\\", HelveticaNeue, Arial\\\", \\\"labelColor\\\": \\\"rgba(0,0,0,0.847)\\\", \\\"titleFont\\\": \\\"\\\\\\\"San Francisco\\\\\\\", HelveticaNeue, Arial\\\", \\\"cornerRadius\\\": 30, \\\"gradientLength\\\": 608, \\\"titleColor\\\": \\\"rgba(0,0,0,0.847)\\\"}, \\\"range\\\": {\\\"heatmap\\\": {\\\"scheme\\\": \\\"greenblue\\\"}}, \\\"style\\\": {\\\"rect\\\": {\\\"stroke\\\": \\\"rgba(200, 200, 200, 0.5)\\\"}, \\\"cell\\\": {\\\"stroke\\\": \\\"transparent\\\"}, \\\"group-title\\\": {\\\"fontSize\\\": 29, \\\"font\\\": \\\"HelveticaNeue, Arial\\\", \\\"fontWeight\\\": \\\"normal\\\", \\\"fill\\\": \\\"rgba(0,0,0,0.65)\\\"}}, \\\"title\\\": {\\\"color\\\": \\\"rgba(0,0,0,0.847)\\\", \\\"font\\\": \\\"\\\\\\\"San Francisco\\\\\\\", HelveticaNeue, Arial\\\", \\\"fontSize\\\": 18, \\\"fontWeight\\\": \\\"normal\\\", \\\"offset\\\": 30}}}\";                                 var vega_json_parsed = JSON.parse(vega_json);                                 var toolTipOpts = {                                     showAllFields: true                                 };                                 if(vega_json_parsed[\"metadata\"] != null){                                     if(vega_json_parsed[\"metadata\"][\"bubbleOpts\"] != null){                                         toolTipOpts = vega_json_parsed[\"metadata\"][\"bubbleOpts\"];                                     };                                 };                                 vegaEmbed(\"#vis\", vega_json_parsed).then(function (result) {                                     vegaTooltip.vega(result.view, toolTipOpts);                                  });                             </script>                         </body>                     </html>' src=\"demo_iframe_srcdoc.htm\">                         <p>Your browser does not support iframes.</p>                     </iframe>                 </body>             </html>"
      ],
      "text/plain": [
       "<IPython.core.display.HTML object>"
      ]
     },
     "metadata": {},
     "output_type": "display_data"
    }
   ],
   "source": [
    "turicreate.show(sales['sqft_living'][1:5000],sales['price'][1:5000])"
   ]
  },
  {
   "cell_type": "markdown",
   "metadata": {},
   "source": [
    "# Simple regression model that predicts price from square feet"
   ]
  },
  {
   "cell_type": "code",
   "execution_count": 7,
   "metadata": {
    "collapsed": true
   },
   "outputs": [],
   "source": [
    "training_set , test_set = sales.random_split(0.8,seed=0)"
   ]
  },
  {
   "cell_type": "code",
   "execution_count": 8,
   "metadata": {},
   "outputs": [
    {
     "name": "stdout",
     "output_type": "stream",
     "text": [
      "PROGRESS: Creating a validation set from 5 percent of training data. This may take a while.\n",
      "          You can set ``validation_set=None`` to disable validation tracking.\n",
      "\n"
     ]
    },
    {
     "data": {
      "text/html": [
       "<pre>Linear regression:</pre>"
      ],
      "text/plain": [
       "Linear regression:"
      ]
     },
     "metadata": {},
     "output_type": "display_data"
    },
    {
     "data": {
      "text/html": [
       "<pre>--------------------------------------------------------</pre>"
      ],
      "text/plain": [
       "--------------------------------------------------------"
      ]
     },
     "metadata": {},
     "output_type": "display_data"
    },
    {
     "data": {
      "text/html": [
       "<pre>Number of examples          : 16514</pre>"
      ],
      "text/plain": [
       "Number of examples          : 16514"
      ]
     },
     "metadata": {},
     "output_type": "display_data"
    },
    {
     "data": {
      "text/html": [
       "<pre>Number of features          : 1</pre>"
      ],
      "text/plain": [
       "Number of features          : 1"
      ]
     },
     "metadata": {},
     "output_type": "display_data"
    },
    {
     "data": {
      "text/html": [
       "<pre>Number of unpacked features : 1</pre>"
      ],
      "text/plain": [
       "Number of unpacked features : 1"
      ]
     },
     "metadata": {},
     "output_type": "display_data"
    },
    {
     "data": {
      "text/html": [
       "<pre>Number of coefficients    : 2</pre>"
      ],
      "text/plain": [
       "Number of coefficients    : 2"
      ]
     },
     "metadata": {},
     "output_type": "display_data"
    },
    {
     "data": {
      "text/html": [
       "<pre>Starting Newton Method</pre>"
      ],
      "text/plain": [
       "Starting Newton Method"
      ]
     },
     "metadata": {},
     "output_type": "display_data"
    },
    {
     "data": {
      "text/html": [
       "<pre>--------------------------------------------------------</pre>"
      ],
      "text/plain": [
       "--------------------------------------------------------"
      ]
     },
     "metadata": {},
     "output_type": "display_data"
    },
    {
     "data": {
      "text/html": [
       "<pre>+-----------+----------+--------------+--------------------+----------------------+---------------------------------+-----------------------------------+</pre>"
      ],
      "text/plain": [
       "+-----------+----------+--------------+--------------------+----------------------+---------------------------------+-----------------------------------+"
      ]
     },
     "metadata": {},
     "output_type": "display_data"
    },
    {
     "data": {
      "text/html": [
       "<pre>| Iteration | Passes   | Elapsed Time | Training Max Error | Validation Max Error | Training Root-Mean-Square Error | Validation Root-Mean-Square Error |</pre>"
      ],
      "text/plain": [
       "| Iteration | Passes   | Elapsed Time | Training Max Error | Validation Max Error | Training Root-Mean-Square Error | Validation Root-Mean-Square Error |"
      ]
     },
     "metadata": {},
     "output_type": "display_data"
    },
    {
     "data": {
      "text/html": [
       "<pre>+-----------+----------+--------------+--------------------+----------------------+---------------------------------+-----------------------------------+</pre>"
      ],
      "text/plain": [
       "+-----------+----------+--------------+--------------------+----------------------+---------------------------------+-----------------------------------+"
      ]
     },
     "metadata": {},
     "output_type": "display_data"
    },
    {
     "data": {
      "text/html": [
       "<pre>| 1         | 2        | 1.026961     | 4314882.744770     | 4394605.702285       | 260250.444724                   | 310211.322487                     |</pre>"
      ],
      "text/plain": [
       "| 1         | 2        | 1.026961     | 4314882.744770     | 4394605.702285       | 260250.444724                   | 310211.322487                     |"
      ]
     },
     "metadata": {},
     "output_type": "display_data"
    },
    {
     "data": {
      "text/html": [
       "<pre>+-----------+----------+--------------+--------------------+----------------------+---------------------------------+-----------------------------------+</pre>"
      ],
      "text/plain": [
       "+-----------+----------+--------------+--------------------+----------------------+---------------------------------+-----------------------------------+"
      ]
     },
     "metadata": {},
     "output_type": "display_data"
    },
    {
     "data": {
      "text/html": [
       "<pre>SUCCESS: Optimal solution found.</pre>"
      ],
      "text/plain": [
       "SUCCESS: Optimal solution found."
      ]
     },
     "metadata": {},
     "output_type": "display_data"
    },
    {
     "data": {
      "text/html": [
       "<pre></pre>"
      ],
      "text/plain": []
     },
     "metadata": {},
     "output_type": "display_data"
    }
   ],
   "source": [
    "sqft_model = turicreate.linear_regression.create(training_set,target='price',features = ['sqft_living'])"
   ]
  },
  {
   "cell_type": "code",
   "execution_count": 11,
   "metadata": {},
   "outputs": [
    {
     "name": "stdout",
     "output_type": "stream",
     "text": [
      "{'max_error': 4179007.897193916, 'rmse': 255133.06482789948}\n"
     ]
    }
   ],
   "source": [
    "print(sqft_model.evaluate(test_set))"
   ]
  },
  {
   "cell_type": "code",
   "execution_count": 13,
   "metadata": {},
   "outputs": [
    {
     "data": {
      "text/html": [
       "<div style=\"max-height:1000px;max-width:1500px;overflow:auto;\"><table frame=\"box\" rules=\"cols\">\n",
       "    <tr>\n",
       "        <th style=\"padding-left: 1em; padding-right: 1em; text-align: center\">name</th>\n",
       "        <th style=\"padding-left: 1em; padding-right: 1em; text-align: center\">index</th>\n",
       "        <th style=\"padding-left: 1em; padding-right: 1em; text-align: center\">value</th>\n",
       "        <th style=\"padding-left: 1em; padding-right: 1em; text-align: center\">stderr</th>\n",
       "    </tr>\n",
       "    <tr>\n",
       "        <td style=\"padding-left: 1em; padding-right: 1em; text-align: center; vertical-align: top\">(intercept)</td>\n",
       "        <td style=\"padding-left: 1em; padding-right: 1em; text-align: center; vertical-align: top\">None</td>\n",
       "        <td style=\"padding-left: 1em; padding-right: 1em; text-align: center; vertical-align: top\">-38492.94702973659</td>\n",
       "        <td style=\"padding-left: 1em; padding-right: 1em; text-align: center; vertical-align: top\">5009.939662432853</td>\n",
       "    </tr>\n",
       "    <tr>\n",
       "        <td style=\"padding-left: 1em; padding-right: 1em; text-align: center; vertical-align: top\">sqft_living</td>\n",
       "        <td style=\"padding-left: 1em; padding-right: 1em; text-align: center; vertical-align: top\">None</td>\n",
       "        <td style=\"padding-left: 1em; padding-right: 1em; text-align: center; vertical-align: top\">277.501016161357</td>\n",
       "        <td style=\"padding-left: 1em; padding-right: 1em; text-align: center; vertical-align: top\">2.203478000476876</td>\n",
       "    </tr>\n",
       "</table>\n",
       "[2 rows x 4 columns]<br/>\n",
       "</div>"
      ],
      "text/plain": [
       "Columns:\n",
       "\tname\tstr\n",
       "\tindex\tstr\n",
       "\tvalue\tfloat\n",
       "\tstderr\tfloat\n",
       "\n",
       "Rows: 2\n",
       "\n",
       "Data:\n",
       "+-------------+-------+--------------------+-------------------+\n",
       "|     name    | index |       value        |       stderr      |\n",
       "+-------------+-------+--------------------+-------------------+\n",
       "| (intercept) |  None | -38492.94702973659 | 5009.939662432853 |\n",
       "| sqft_living |  None |  277.501016161357  | 2.203478000476876 |\n",
       "+-------------+-------+--------------------+-------------------+\n",
       "[2 rows x 4 columns]"
      ]
     },
     "execution_count": 13,
     "metadata": {},
     "output_type": "execute_result"
    }
   ],
   "source": [
    "sqft_model.coefficients"
   ]
  },
  {
   "cell_type": "code",
   "execution_count": 15,
   "metadata": {},
   "outputs": [
    {
     "data": {
      "text/plain": [
       "[<matplotlib.lines.Line2D at 0x7f07bcc46c88>,\n",
       " <matplotlib.lines.Line2D at 0x7f07bcc46c18>]"
      ]
     },
     "execution_count": 15,
     "metadata": {},
     "output_type": "execute_result"
    },
    {
     "data": {
      "image/png": "[encoded data removed]",
      "text/plain": [
       "<Figure size 432x288 with 1 Axes>"
      ]
     },
     "metadata": {
      "needs_background": "light"
     },
     "output_type": "display_data"
    }
   ],
   "source": [
    "import matplotlib.pyplot as plt\n",
    "%matplotlib inline\n",
    "plt.plot(test_set['sqft_living'],test_set['price'],'.',\n",
    "         test_set['sqft_living'],sqft_model.predict(test_set),'-')"
   ]
  },
  {
   "cell_type": "markdown",
   "metadata": {},
   "source": [
    "# Creating a model with other features"
   ]
  },
  {
   "cell_type": "code",
   "execution_count": 16,
   "metadata": {
    "collapsed": true
   },
   "outputs": [],
   "source": [
    "my_features = ['bedrooms','bathrooms','sqft_living','sqft_lot','floors','zipcode']"
   ]
  },
  {
   "cell_type": "code",
   "execution_count": 17,
   "metadata": {},
   "outputs": [
    {
     "name": "stdout",
     "output_type": "stream",
     "text": [
      "PROGRESS: Creating a validation set from 5 percent of training data. This may take a while.\n",
      "          You can set ``validation_set=None`` to disable validation tracking.\n",
      "\n"
     ]
    },
    {
     "data": {
      "text/html": [
       "<pre>Linear regression:</pre>"
      ],
      "text/plain": [
       "Linear regression:"
      ]
     },
     "metadata": {},
     "output_type": "display_data"
    },
    {
     "data": {
      "text/html": [
       "<pre>--------------------------------------------------------</pre>"
      ],
      "text/plain": [
       "--------------------------------------------------------"
      ]
     },
     "metadata": {},
     "output_type": "display_data"
    },
    {
     "data": {
      "text/html": [
       "<pre>Number of examples          : 16514</pre>"
      ],
      "text/plain": [
       "Number of examples          : 16514"
      ]
     },
     "metadata": {},
     "output_type": "display_data"
    },
    {
     "data": {
      "text/html": [
       "<pre>Number of features          : 6</pre>"
      ],
      "text/plain": [
       "Number of features          : 6"
      ]
     },
     "metadata": {},
     "output_type": "display_data"
    },
    {
     "data": {
      "text/html": [
       "<pre>Number of unpacked features : 6</pre>"
      ],
      "text/plain": [
       "Number of unpacked features : 6"
      ]
     },
     "metadata": {},
     "output_type": "display_data"
    },
    {
     "data": {
      "text/html": [
       "<pre>Number of coefficients    : 75</pre>"
      ],
      "text/plain": [
       "Number of coefficients    : 75"
      ]
     },
     "metadata": {},
     "output_type": "display_data"
    },
    {
     "data": {
      "text/html": [
       "<pre>Starting Newton Method</pre>"
      ],
      "text/plain": [
       "Starting Newton Method"
      ]
     },
     "metadata": {},
     "output_type": "display_data"
    },
    {
     "data": {
      "text/html": [
       "<pre>--------------------------------------------------------</pre>"
      ],
      "text/plain": [
       "--------------------------------------------------------"
      ]
     },
     "metadata": {},
     "output_type": "display_data"
    },
    {
     "data": {
      "text/html": [
       "<pre>+-----------+----------+--------------+--------------------+----------------------+---------------------------------+-----------------------------------+</pre>"
      ],
      "text/plain": [
       "+-----------+----------+--------------+--------------------+----------------------+---------------------------------+-----------------------------------+"
      ]
     },
     "metadata": {},
     "output_type": "display_data"
    },
    {
     "data": {
      "text/html": [
       "<pre>| Iteration | Passes   | Elapsed Time | Training Max Error | Validation Max Error | Training Root-Mean-Square Error | Validation Root-Mean-Square Error |</pre>"
      ],
      "text/plain": [
       "| Iteration | Passes   | Elapsed Time | Training Max Error | Validation Max Error | Training Root-Mean-Square Error | Validation Root-Mean-Square Error |"
      ]
     },
     "metadata": {},
     "output_type": "display_data"
    },
    {
     "data": {
      "text/html": [
       "<pre>+-----------+----------+--------------+--------------------+----------------------+---------------------------------+-----------------------------------+</pre>"
      ],
      "text/plain": [
       "+-----------+----------+--------------+--------------------+----------------------+---------------------------------+-----------------------------------+"
      ]
     },
     "metadata": {},
     "output_type": "display_data"
    },
    {
     "data": {
      "text/html": [
       "<pre>| 1         | 2        | 0.131129     | 4080080.843103     | 1368576.761325       | 189695.228738                   | 180413.002007                     |</pre>"
      ],
      "text/plain": [
       "| 1         | 2        | 0.131129     | 4080080.843103     | 1368576.761325       | 189695.228738                   | 180413.002007                     |"
      ]
     },
     "metadata": {},
     "output_type": "display_data"
    },
    {
     "data": {
      "text/html": [
       "<pre>+-----------+----------+--------------+--------------------+----------------------+---------------------------------+-----------------------------------+</pre>"
      ],
      "text/plain": [
       "+-----------+----------+--------------+--------------------+----------------------+---------------------------------+-----------------------------------+"
      ]
     },
     "metadata": {},
     "output_type": "display_data"
    },
    {
     "data": {
      "text/html": [
       "<pre>SUCCESS: Optimal solution found.</pre>"
      ],
      "text/plain": [
       "SUCCESS: Optimal solution found."
      ]
     },
     "metadata": {},
     "output_type": "display_data"
    },
    {
     "data": {
      "text/html": [
       "<pre></pre>"
      ],
      "text/plain": []
     },
     "metadata": {},
     "output_type": "display_data"
    }
   ],
   "source": [
    "my_features_model = turicreate.linear_regression.create(training_set,target = 'price', features = my_features)"
   ]
  },
  {
   "cell_type": "code",
   "execution_count": 21,
   "metadata": {},
   "outputs": [
    {
     "name": "stdout",
     "output_type": "stream",
     "text": [
      "{'max_error': 4179007.897193916, 'rmse': 255133.06482789948}\n",
      "{'max_error': 3170846.105681073, 'rmse': 180713.66472629254}\n"
     ]
    }
   ],
   "source": [
    "print(sqft_model.evaluate(test_set))\n",
    "print(my_features_model.evaluate(test_set))"
   ]
  },
  {
   "cell_type": "markdown",
   "metadata": {},
   "source": [
    "# Applying above learned 2 models to make predictions"
   ]
  },
  {
   "cell_type": "code",
   "execution_count": 22,
   "metadata": {
    "collapsed": true
   },
   "outputs": [
    {
     "data": {
      "text/html": [
       "<div style=\"max-height:1000px;max-width:1500px;overflow:auto;\"><table frame=\"box\" rules=\"cols\">\n",
       "    <tr>\n",
       "        <th style=\"padding-left: 1em; padding-right: 1em; text-align: center\">id</th>\n",
       "        <th style=\"padding-left: 1em; padding-right: 1em; text-align: center\">date</th>\n",
       "        <th style=\"padding-left: 1em; padding-right: 1em; text-align: center\">price</th>\n",
       "        <th style=\"padding-left: 1em; padding-right: 1em; text-align: center\">bedrooms</th>\n",
       "        <th style=\"padding-left: 1em; padding-right: 1em; text-align: center\">bathrooms</th>\n",
       "        <th style=\"padding-left: 1em; padding-right: 1em; text-align: center\">sqft_living</th>\n",
       "        <th style=\"padding-left: 1em; padding-right: 1em; text-align: center\">sqft_lot</th>\n",
       "        <th style=\"padding-left: 1em; padding-right: 1em; text-align: center\">floors</th>\n",
       "        <th style=\"padding-left: 1em; padding-right: 1em; text-align: center\">waterfront</th>\n",
       "    </tr>\n",
       "    <tr>\n",
       "        <td style=\"padding-left: 1em; padding-right: 1em; text-align: center; vertical-align: top\">5309101200</td>\n",
       "        <td style=\"padding-left: 1em; padding-right: 1em; text-align: center; vertical-align: top\">2014-06-05 00:00:00+00:00</td>\n",
       "        <td style=\"padding-left: 1em; padding-right: 1em; text-align: center; vertical-align: top\">620000.0</td>\n",
       "        <td style=\"padding-left: 1em; padding-right: 1em; text-align: center; vertical-align: top\">4.0</td>\n",
       "        <td style=\"padding-left: 1em; padding-right: 1em; text-align: center; vertical-align: top\">2.25</td>\n",
       "        <td style=\"padding-left: 1em; padding-right: 1em; text-align: center; vertical-align: top\">2400.0</td>\n",
       "        <td style=\"padding-left: 1em; padding-right: 1em; text-align: center; vertical-align: top\">5350.0</td>\n",
       "        <td style=\"padding-left: 1em; padding-right: 1em; text-align: center; vertical-align: top\">1.5</td>\n",
       "        <td style=\"padding-left: 1em; padding-right: 1em; text-align: center; vertical-align: top\">0</td>\n",
       "    </tr>\n",
       "</table>\n",
       "<table frame=\"box\" rules=\"cols\">\n",
       "    <tr>\n",
       "        <th style=\"padding-left: 1em; padding-right: 1em; text-align: center\">view</th>\n",
       "        <th style=\"padding-left: 1em; padding-right: 1em; text-align: center\">condition</th>\n",
       "        <th style=\"padding-left: 1em; padding-right: 1em; text-align: center\">grade</th>\n",
       "        <th style=\"padding-left: 1em; padding-right: 1em; text-align: center\">sqft_above</th>\n",
       "        <th style=\"padding-left: 1em; padding-right: 1em; text-align: center\">sqft_basement</th>\n",
       "        <th style=\"padding-left: 1em; padding-right: 1em; text-align: center\">yr_built</th>\n",
       "        <th style=\"padding-left: 1em; padding-right: 1em; text-align: center\">yr_renovated</th>\n",
       "        <th style=\"padding-left: 1em; padding-right: 1em; text-align: center\">zipcode</th>\n",
       "        <th style=\"padding-left: 1em; padding-right: 1em; text-align: center\">lat</th>\n",
       "    </tr>\n",
       "    <tr>\n",
       "        <td style=\"padding-left: 1em; padding-right: 1em; text-align: center; vertical-align: top\">0</td>\n",
       "        <td style=\"padding-left: 1em; padding-right: 1em; text-align: center; vertical-align: top\">4</td>\n",
       "        <td style=\"padding-left: 1em; padding-right: 1em; text-align: center; vertical-align: top\">7.0</td>\n",
       "        <td style=\"padding-left: 1em; padding-right: 1em; text-align: center; vertical-align: top\">1460.0</td>\n",
       "        <td style=\"padding-left: 1em; padding-right: 1em; text-align: center; vertical-align: top\">940.0</td>\n",
       "        <td style=\"padding-left: 1em; padding-right: 1em; text-align: center; vertical-align: top\">1929.0</td>\n",
       "        <td style=\"padding-left: 1em; padding-right: 1em; text-align: center; vertical-align: top\">0.0</td>\n",
       "        <td style=\"padding-left: 1em; padding-right: 1em; text-align: center; vertical-align: top\">98117</td>\n",
       "        <td style=\"padding-left: 1em; padding-right: 1em; text-align: center; vertical-align: top\">47.67632376</td>\n",
       "    </tr>\n",
       "</table>\n",
       "<table frame=\"box\" rules=\"cols\">\n",
       "    <tr>\n",
       "        <th style=\"padding-left: 1em; padding-right: 1em; text-align: center\">long</th>\n",
       "        <th style=\"padding-left: 1em; padding-right: 1em; text-align: center\">sqft_living15</th>\n",
       "        <th style=\"padding-left: 1em; padding-right: 1em; text-align: center\">sqft_lot15</th>\n",
       "    </tr>\n",
       "    <tr>\n",
       "        <td style=\"padding-left: 1em; padding-right: 1em; text-align: center; vertical-align: top\">-122.37010126</td>\n",
       "        <td style=\"padding-left: 1em; padding-right: 1em; text-align: center; vertical-align: top\">1250.0</td>\n",
       "        <td style=\"padding-left: 1em; padding-right: 1em; text-align: center; vertical-align: top\">4880.0</td>\n",
       "    </tr>\n",
       "</table>\n",
       "[? rows x 21 columns]<br/>Note: Only the head of the SFrame is printed. This SFrame is lazily evaluated.<br/>You can use sf.materialize() to force materialization.\n",
       "</div>"
      ],
      "text/plain": [
       "Columns:\n",
       "\tid\tstr\n",
       "\tdate\tdatetime\n",
       "\tprice\tfloat\n",
       "\tbedrooms\tfloat\n",
       "\tbathrooms\tfloat\n",
       "\tsqft_living\tfloat\n",
       "\tsqft_lot\tfloat\n",
       "\tfloors\tfloat\n",
       "\twaterfront\tint\n",
       "\tview\tint\n",
       "\tcondition\tint\n",
       "\tgrade\tfloat\n",
       "\tsqft_above\tfloat\n",
       "\tsqft_basement\tfloat\n",
       "\tyr_built\tfloat\n",
       "\tyr_renovated\tfloat\n",
       "\tzipcode\tstr\n",
       "\tlat\tfloat\n",
       "\tlong\tfloat\n",
       "\tsqft_living15\tfloat\n",
       "\tsqft_lot15\tfloat\n",
       "\n",
       "Rows: Unknown\n",
       "\n",
       "Data:\n",
       "+------------+---------------------------+----------+----------+-----------+\n",
       "|     id     |            date           |  price   | bedrooms | bathrooms |\n",
       "+------------+---------------------------+----------+----------+-----------+\n",
       "| 5309101200 | 2014-06-05 00:00:00+00:00 | 620000.0 |   4.0    |    2.25   |\n",
       "+------------+---------------------------+----------+----------+-----------+\n",
       "+-------------+----------+--------+------------+------+-----------+-------+\n",
       "| sqft_living | sqft_lot | floors | waterfront | view | condition | grade |\n",
       "+-------------+----------+--------+------------+------+-----------+-------+\n",
       "|    2400.0   |  5350.0  |  1.5   |     0      |  0   |     4     |  7.0  |\n",
       "+-------------+----------+--------+------------+------+-----------+-------+\n",
       "+------------+---------------+----------+--------------+---------+-------------+\n",
       "| sqft_above | sqft_basement | yr_built | yr_renovated | zipcode |     lat     |\n",
       "+------------+---------------+----------+--------------+---------+-------------+\n",
       "|   1460.0   |     940.0     |  1929.0  |     0.0      |  98117  | 47.67632376 |\n",
       "+------------+---------------+----------+--------------+---------+-------------+\n",
       "+---------------+---------------+-----+\n",
       "|      long     | sqft_living15 | ... |\n",
       "+---------------+---------------+-----+\n",
       "| -122.37010126 |     1250.0    | ... |\n",
       "+---------------+---------------+-----+\n",
       "[? rows x 21 columns]\n",
       "Note: Only the head of the SFrame is printed. This SFrame is lazily evaluated.\n",
       "You can use sf.materialize() to force materialization."
      ]
     },
     "execution_count": 22,
     "metadata": {},
     "output_type": "execute_result"
    }
   ],
   "source": [
    "house1 = sales[sales['id']=='5309101200']\n",
    "house1"
   ]
  },
  {
   "cell_type": "code",
   "execution_count": 24,
   "metadata": {},
   "outputs": [
    {
     "data": {
      "text/plain": [
       "dtype: float\n",
       "Rows: 1\n",
       "[627509.4917575201]"
      ]
     },
     "execution_count": 24,
     "metadata": {},
     "output_type": "execute_result"
    }
   ],
   "source": [
    "sqft_model.predict(house1)"
   ]
  },
  {
   "cell_type": "code",
   "execution_count": 25,
   "metadata": {},
   "outputs": [
    {
     "data": {
      "text/plain": [
       "dtype: float\n",
       "Rows: 1\n",
       "[728991.3334529523]"
      ]
     },
     "execution_count": 25,
     "metadata": {},
     "output_type": "execute_result"
    }
   ],
   "source": [
    "my_features_model.predict(house1)"
   ]
  },
  {
   "cell_type": "markdown",
   "metadata": {},
   "source": [
    "# week2 Assignment"
   ]
  },
  {
   "cell_type": "code",
   "execution_count": 26,
   "metadata": {
    "collapsed": true
   },
   "outputs": [
    {
     "data": {
      "text/html": [
       "<pre>Materializing X axis SArray</pre>"
      ],
      "text/plain": [
       "Materializing X axis SArray"
      ]
     },
     "metadata": {},
     "output_type": "display_data"
    },
    {
     "data": {
      "text/html": [
       "<pre>Materializing Y axis SArray</pre>"
      ],
      "text/plain": [
       "Materializing Y axis SArray"
      ]
     },
     "metadata": {},
     "output_type": "display_data"
    },
    {
     "data": {
      "text/html": [
       "<html>                 <body>                     <iframe style=\"border:0;margin:0\" width=\"800\" height=\"770\" srcdoc='<html lang=\"en\">                         <head>                             <script src=\"https://cdnjs.cloudflare.com/ajax/libs/vega/5.4.0/vega.js\"></script>                             <script src=\"https://cdnjs.cloudflare.com/ajax/libs/vega-embed/4.0.0/vega-embed.js\"></script>                             <script src=\"https://cdnjs.cloudflare.com/ajax/libs/vega-tooltip/0.5.1/vega-tooltip.min.js\"></script>                             <link rel=\"stylesheet\" type=\"text/css\" href=\"https://cdnjs.cloudflare.com/ajax/libs/vega-tooltip/0.5.1/vega-tooltip.min.css\">                             <style>                             .vega-actions > a{                                 color:white;                                 text-decoration: none;                                 font-family: \"Arial\";                                 cursor:pointer;                                 padding:5px;                                 background:#AAAAAA;                                 border-radius:4px;                                 padding-left:10px;                                 padding-right:10px;                                 margin-right:5px;                             }                             .vega-actions{                                 margin-top:20px;                                 text-align:center                             }                            .vega-actions > a{                                 background:#999999;                            }                             </style>                         </head>                         <body>                             <div id=\"vis\">                             </div>                             <script>                                 var vega_json = \"{\\\"$schema\\\": \\\"https://vega.github.io/schema/vega/v4.json\\\", \\\"autosize\\\": {\\\"type\\\": \\\"fit\\\", \\\"resize\\\": false, \\\"contains\\\": \\\"padding\\\"}, \\\"padding\\\": 8, \\\"metadata\\\": {\\\"bubbleOpts\\\": {\\\"showAllFields\\\": false, \\\"fields\\\": [{\\\"field\\\": \\\"x\\\"}, {\\\"field\\\": \\\"min\\\"}, {\\\"field\\\": \\\"lower quartile\\\"}, {\\\"field\\\": \\\"median\\\"}, {\\\"field\\\": \\\"upper quartile\\\"}, {\\\"field\\\": \\\"max\\\"}]}}, \\\"title\\\": \\\"X vs. Y\\\", \\\"height\\\": 550, \\\"style\\\": \\\"cell\\\", \\\"data\\\": [{\\\"name\\\": \\\"source_2\\\", \\\"transform\\\": [{\\\"type\\\": \\\"collect\\\", \\\"sort\\\": {\\\"field\\\": \\\"median\\\"}}], \\\"values\\\": [{\\\"x\\\": \\\"98033\\\", \\\"min\\\": 130000, \\\"lower quartile\\\": 535000, \\\"median\\\": 678700, \\\"upper quartile\\\": 902000, \\\"max\\\": 5110800.0}, {\\\"x\\\": \\\"98144\\\", \\\"min\\\": 181000, \\\"lower quartile\\\": 374950, \\\"median\\\": 450000, \\\"upper quartile\\\": 666000, \\\"max\\\": 3600000.0}, {\\\"x\\\": \\\"98075\\\", \\\"min\\\": 406430, \\\"lower quartile\\\": 641000, \\\"median\\\": 739999, \\\"upper quartile\\\": 870000, \\\"max\\\": 3200000.0}, {\\\"x\\\": \\\"98074\\\", \\\"min\\\": 280000, \\\"lower quartile\\\": 532000, \\\"median\\\": 642000, \\\"upper quartile\\\": 798000, \\\"max\\\": 3075000.0}, {\\\"x\\\": \\\"98040\\\", \\\"min\\\": 500000, \\\"lower quartile\\\": 821000, \\\"median\\\": 994000, \\\"upper quartile\\\": 1387000.0, \\\"max\\\": 5300000.0}, {\\\"x\\\": \\\"98177\\\", \\\"min\\\": 245560, \\\"lower quartile\\\": 427000, \\\"median\\\": 554000, \\\"upper quartile\\\": 749950, \\\"max\\\": 3800000.0}, {\\\"x\\\": \\\"98125\\\", \\\"min\\\": 175000, \\\"lower quartile\\\": 357250, \\\"median\\\": 425000, \\\"upper quartile\\\": 518000, \\\"max\\\": 2050000.0}, {\\\"x\\\": \\\"98126\\\", \\\"min\\\": 110000, \\\"lower quartile\\\": 320000, \\\"median\\\": 396500, \\\"upper quartile\\\": 485000, \\\"max\\\": 1085000.0}, {\\\"x\\\": \\\"98023\\\", \\\"min\\\": 86500, \\\"lower quartile\\\": 224097, \\\"median\\\": 268450, \\\"upper quartile\\\": 316500, \\\"max\\\": 1275000.0}, {\\\"x\\\": \\\"98004\\\", \\\"min\\\": 425000, \\\"lower quartile\\\": 845000, \\\"median\\\": 1150000.0, \\\"upper quartile\\\": 1691000.0, \\\"max\\\": 7062500.0}, {\\\"x\\\": \\\"98002\\\", \\\"min\\\": 95000, \\\"lower quartile\\\": 199950, \\\"median\\\": 235000, \\\"upper quartile\\\": 269000, \\\"max\\\": 389000}, {\\\"x\\\": \\\"98115\\\", \\\"min\\\": 200000, \\\"lower quartile\\\": 455000, \\\"median\\\": 567000, \\\"upper quartile\\\": 719000, \\\"max\\\": 2300000.0}, {\\\"x\\\": \\\"98146\\\", \\\"min\\\": 82000, \\\"lower quartile\\\": 229500, \\\"median\\\": 307000, \\\"upper quartile\\\": 409000, \\\"max\\\": 1410000.0}, {\\\"x\\\": \\\"98019\\\", \\\"min\\\": 119500, \\\"lower quartile\\\": 330000, \\\"median\\\": 402500, \\\"upper quartile\\\": 500000, \\\"max\\\": 1015000.0}, {\\\"x\\\": \\\"98199\\\", \\\"min\\\": 323000, \\\"lower quartile\\\": 535000, \\\"median\\\": 689800, \\\"upper quartile\\\": 950000, \\\"max\\\": 3200000.0}, {\\\"x\\\": \\\"98119\\\", \\\"min\\\": 300523, \\\"lower quartile\\\": 600000, \\\"median\\\": 749950, \\\"upper quartile\\\": 940000, \\\"max\\\": 3065000.0}, {\\\"x\\\": \\\"98059\\\", \\\"min\\\": 172500, \\\"lower quartile\\\": 340000, \\\"median\\\": 435000, \\\"upper quartile\\\": 552500, \\\"max\\\": 1780000.0}, {\\\"x\\\": \\\"98178\\\", \\\"min\\\": 90000, \\\"lower quartile\\\": 223000, \\\"median\\\": 279000, \\\"upper quartile\\\": 350000, \\\"max\\\": 1700000.0}, {\\\"x\\\": \\\"98007\\\", \\\"min\\\": 295000, \\\"lower quartile\\\": 465000, \\\"median\\\": 555000, \\\"upper quartile\\\": 730000, \\\"max\\\": 1315000.0}, {\\\"x\\\": \\\"98107\\\", \\\"min\\\": 290000, \\\"lower quartile\\\": 470000, \\\"median\\\": 529950, \\\"upper quartile\\\": 630000, \\\"max\\\": 2945000.0}, {\\\"x\\\": \\\"98109\\\", \\\"min\\\": 216650, \\\"lower quartile\\\": 620000, \\\"median\\\": 736000, \\\"upper quartile\\\": 1000000.0, \\\"max\\\": 3200000.0}, {\\\"x\\\": \\\"98030\\\", \\\"min\\\": 120000, \\\"lower quartile\\\": 249950, \\\"median\\\": 282510, \\\"upper quartile\\\": 339950, \\\"max\\\": 565000}, {\\\"x\\\": \\\"98022\\\", \\\"min\\\": 75000, \\\"lower quartile\\\": 235000, \\\"median\\\": 280000, \\\"upper quartile\\\": 350000, \\\"max\\\": 858000}, {\\\"x\\\": \\\"98155\\\", \\\"min\\\": 153000, \\\"lower quartile\\\": 315000, \\\"median\\\": 375000, \\\"upper quartile\\\": 460000, \\\"max\\\": 4500000.0}, {\\\"x\\\": \\\"98077\\\", \\\"min\\\": 250000, \\\"lower quartile\\\": 510000, \\\"median\\\": 654950, \\\"upper quartile\\\": 835000, \\\"max\\\": 1920000.0}, {\\\"x\\\": \\\"98056\\\", \\\"min\\\": 139000, \\\"lower quartile\\\": 289000, \\\"median\\\": 380000, \\\"upper quartile\\\": 510000, \\\"max\\\": 3000000.0}, {\\\"x\\\": \\\"98117\\\", \\\"min\\\": 125000, \\\"lower quartile\\\": 450000, \\\"median\\\": 544000, \\\"upper quartile\\\": 657500, \\\"max\\\": 1370000.0}, {\\\"x\\\": \\\"98032\\\", \\\"min\\\": 85000, \\\"lower quartile\\\": 221700, \\\"median\\\": 249000, \\\"upper quartile\\\": 285000, \\\"max\\\": 545000}, {\\\"x\\\": \\\"98010\\\", \\\"min\\\": 135000, \\\"lower quartile\\\": 257000, \\\"median\\\": 360000, \\\"upper quartile\\\": 600000, \\\"max\\\": 935000}, {\\\"x\\\": \\\"98092\\\", \\\"min\\\": 90000, \\\"lower quartile\\\": 263950, \\\"median\\\": 309780, \\\"upper quartile\\\": 379500, \\\"max\\\": 930000}, {\\\"x\\\": \\\"98148\\\", \\\"min\\\": 105500, \\\"lower quartile\\\": 240000, \\\"median\\\": 278000, \\\"upper quartile\\\": 319990, \\\"max\\\": 600600}, {\\\"x\\\": \\\"98045\\\", \\\"min\\\": 175000, \\\"lower quartile\\\": 305000, \\\"median\\\": 399500, \\\"upper quartile\\\": 495000, \\\"max\\\": 1950000.0}, {\\\"x\\\": \\\"98055\\\", \\\"min\\\": 100000, \\\"lower quartile\\\": 240000, \\\"median\\\": 295000, \\\"upper quartile\\\": 350000, \\\"max\\\": 631000}, {\\\"x\\\": \\\"98006\\\", \\\"min\\\": 247500, \\\"lower quartile\\\": 575000, \\\"median\\\": 760369, \\\"upper quartile\\\": 978000, \\\"max\\\": 4208000.0}, {\\\"x\\\": \\\"98001\\\", \\\"min\\\": 100000, \\\"lower quartile\\\": 215000, \\\"median\\\": 260000, \\\"upper quartile\\\": 320000, \\\"max\\\": 850000}, {\\\"x\\\": \\\"98166\\\", \\\"min\\\": 100000, \\\"lower quartile\\\": 292000, \\\"median\\\": 390000, \\\"upper quartile\\\": 540500, \\\"max\\\": 2510000.0}, {\\\"x\\\": \\\"98027\\\", \\\"min\\\": 130000, \\\"lower quartile\\\": 450000, \\\"median\\\": 571000, \\\"upper quartile\\\": 716500, \\\"max\\\": 2700000.0}, {\\\"x\\\": \\\"98116\\\", \\\"min\\\": 130000, \\\"lower quartile\\\": 460000, \\\"median\\\": 565500, \\\"upper quartile\\\": 703000, \\\"max\\\": 2050000.0}, {\\\"x\\\": \\\"98118\\\", \\\"min\\\": 109000, \\\"lower quartile\\\": 289000, \\\"median\\\": 367500, \\\"upper quartile\\\": 476500, \\\"max\\\": 2903000.0}, {\\\"x\\\": \\\"98034\\\", \\\"min\\\": 90000, \\\"lower quartile\\\": 387000, \\\"median\\\": 445950, \\\"upper quartile\\\": 525000, \\\"max\\\": 3120000.0}, {\\\"x\\\": \\\"98103\\\", \\\"min\\\": 238000, \\\"lower quartile\\\": 432000, \\\"median\\\": 550000, \\\"upper quartile\\\": 695000, \\\"max\\\": 1695000.0}, {\\\"x\\\": \\\"98136\\\", \\\"min\\\": 200000, \\\"lower quartile\\\": 398000, \\\"median\\\": 489950, \\\"upper quartile\\\": 660000, \\\"max\\\": 2230000.0}, {\\\"x\\\": \\\"98038\\\", \\\"min\\\": 110000, \\\"lower quartile\\\": 285000, \\\"median\\\": 342000, \\\"upper quartile\\\": 410000, \\\"max\\\": 1350000.0}, {\\\"x\\\": \\\"98005\\\", \\\"min\\\": 400000, \\\"lower quartile\\\": 638700, \\\"median\\\": 768500, \\\"upper quartile\\\": 915000, \\\"max\\\": 1960000.0}, {\\\"x\\\": \\\"98112\\\", \\\"min\\\": 169317, \\\"lower quartile\\\": 680000, \\\"median\\\": 915000, \\\"upper quartile\\\": 1328000.0, \\\"max\\\": 3400000.0}, {\\\"x\\\": \\\"98028\\\", \\\"min\\\": 160000, \\\"lower quartile\\\": 379950, \\\"median\\\": 445000, \\\"upper quartile\\\": 526750, \\\"max\\\": 1600000.0}, {\\\"x\\\": \\\"98052\\\", \\\"min\\\": 225000, \\\"lower quartile\\\": 509250, \\\"median\\\": 615000, \\\"upper quartile\\\": 751000, \\\"max\\\": 2200000.0}, {\\\"x\\\": \\\"98014\\\", \\\"min\\\": 80000, \\\"lower quartile\\\": 309000, \\\"median\\\": 415000, \\\"upper quartile\\\": 539000, \\\"max\\\": 1680000.0}, {\\\"x\\\": \\\"98031\\\", \\\"min\\\": 147500, \\\"lower quartile\\\": 252000, \\\"median\\\": 288400, \\\"upper quartile\\\": 327500, \\\"max\\\": 800000}, {\\\"x\\\": \\\"98039\\\", \\\"min\\\": 787500, \\\"lower quartile\\\": 1398000.0, \\\"median\\\": 1905000.0, \\\"upper quartile\\\": 2575000.0, \\\"max\\\": 6885000.0}, {\\\"x\\\": \\\"98011\\\", \\\"min\\\": 245500, \\\"lower quartile\\\": 411800, \\\"median\\\": 470000, \\\"upper quartile\\\": 550000, \\\"max\\\": 1075000.0}, {\\\"x\\\": \\\"98122\\\", \\\"min\\\": 202000, \\\"lower quartile\\\": 450000, \\\"median\\\": 574000, \\\"upper quartile\\\": 720000, \\\"max\\\": 2050000.0}, {\\\"x\\\": \\\"98070\\\", \\\"min\\\": 160000, \\\"lower quartile\\\": 340000, \\\"median\\\": 465000, \\\"upper quartile\\\": 575000, \\\"max\\\": 1379900.0}, {\\\"x\\\": \\\"98042\\\", \\\"min\\\": 105000, \\\"lower quartile\\\": 240000, \\\"median\\\": 292500, \\\"upper quartile\\\": 359950, \\\"max\\\": 859000}, {\\\"x\\\": \\\"98058\\\", \\\"min\\\": 95000, \\\"lower quartile\\\": 285000, \\\"median\\\": 335000, \\\"upper quartile\\\": 392000, \\\"max\\\": 1500000.0}, {\\\"x\\\": \\\"98168\\\", \\\"min\\\": 78000, \\\"lower quartile\\\": 199950, \\\"median\\\": 235000, \\\"upper quartile\\\": 285000, \\\"max\\\": 600000}, {\\\"x\\\": \\\"98133\\\", \\\"min\\\": 130000, \\\"lower quartile\\\": 318000, \\\"median\\\": 375000, \\\"upper quartile\\\": 435000, \\\"max\\\": 808100}, {\\\"x\\\": \\\"98065\\\", \\\"min\\\": 170000, \\\"lower quartile\\\": 424950, \\\"median\\\": 500000, \\\"upper quartile\\\": 619000, \\\"max\\\": 1998000.0}, {\\\"x\\\": \\\"98102\\\", \\\"min\\\": 330000, \\\"lower quartile\\\": 575000, \\\"median\\\": 720000, \\\"upper quartile\\\": 979700, \\\"max\\\": 7700000.0}, {\\\"x\\\": \\\"98108\\\", \\\"min\\\": 90000, \\\"lower quartile\\\": 284000, \\\"median\\\": 345000, \\\"upper quartile\\\": 425000, \\\"max\\\": 640000}, {\\\"x\\\": \\\"98029\\\", \\\"min\\\": 285000, \\\"lower quartile\\\": 485000, \\\"median\\\": 575000, \\\"upper quartile\\\": 690000, \\\"max\\\": 2200000.0}, {\\\"x\\\": \\\"98072\\\", \\\"min\\\": 200000, \\\"lower quartile\\\": 422800, \\\"median\\\": 515000, \\\"upper quartile\\\": 642860, \\\"max\\\": 1565000.0}, {\\\"x\\\": \\\"98003\\\", \\\"min\\\": 128000, \\\"lower quartile\\\": 229000, \\\"median\\\": 267950, \\\"upper quartile\\\": 333000, \\\"max\\\": 950000}, {\\\"x\\\": \\\"98105\\\", \\\"min\\\": 380000, \\\"lower quartile\\\": 550000, \\\"median\\\": 675000, \\\"upper quartile\\\": 1005000.0, \\\"max\\\": 3650000.0}, {\\\"x\\\": \\\"98008\\\", \\\"min\\\": 250000, \\\"lower quartile\\\": 465000, \\\"median\\\": 545000, \\\"upper quartile\\\": 660000, \\\"max\\\": 3567000.0}, {\\\"x\\\": \\\"98188\\\", \\\"min\\\": 110000, \\\"lower quartile\\\": 230000, \\\"median\\\": 265000, \\\"upper quartile\\\": 335000, \\\"max\\\": 707000}, {\\\"x\\\": \\\"98053\\\", \\\"min\\\": 170000, \\\"lower quartile\\\": 485000, \\\"median\\\": 635000, \\\"upper quartile\\\": 790500, \\\"max\\\": 2280000.0}, {\\\"x\\\": \\\"98106\\\", \\\"min\\\": 90000, \\\"lower quartile\\\": 260000, \\\"median\\\": 315000, \\\"upper quartile\\\": 366000, \\\"max\\\": 795000}, {\\\"x\\\": \\\"98198\\\", \\\"min\\\": 95000, \\\"lower quartile\\\": 216500, \\\"median\\\": 265000, \\\"upper quartile\\\": 340000, \\\"max\\\": 1350000.0}, {\\\"x\\\": \\\"98024\\\", \\\"min\\\": 142000, \\\"lower quartile\\\": 340000, \\\"median\\\": 460000, \\\"upper quartile\\\": 700000, \\\"max\\\": 1862000.0}]}], \\\"signals\\\": [{\\\"name\\\": \\\"x_step\\\", \\\"value\\\": 42}, {\\\"name\\\": \\\"width\\\", \\\"update\\\": \\\"max(720, 100 + bandspace(domain(&apos;x&apos;).length, 0.1, 0.1) * x_step)\\\"}], \\\"marks\\\": [{\\\"name\\\": \\\"layer_0_marks\\\", \\\"type\\\": \\\"rule\\\", \\\"style\\\": [\\\"boxWhisker\\\"], \\\"from\\\": {\\\"data\\\": \\\"source_2\\\"}, \\\"encode\\\": {\\\"update\\\": {\\\"x\\\": {\\\"scale\\\": \\\"x\\\", \\\"field\\\": \\\"x\\\", \\\"band\\\": 0.5}, \\\"y\\\": {\\\"scale\\\": \\\"y\\\", \\\"field\\\": \\\"min\\\"}, \\\"y2\\\": {\\\"scale\\\": \\\"y\\\", \\\"field\\\": \\\"lower quartile\\\"}, \\\"stroke\\\": {\\\"value\\\": \\\"black\\\"}}}}, {\\\"name\\\": \\\"layer_1_marks\\\", \\\"type\\\": \\\"rule\\\", \\\"style\\\": [\\\"boxWhisker\\\"], \\\"from\\\": {\\\"data\\\": \\\"source_2\\\"}, \\\"encode\\\": {\\\"update\\\": {\\\"x\\\": {\\\"scale\\\": \\\"x\\\", \\\"field\\\": \\\"x\\\", \\\"band\\\": 0.5}, \\\"y\\\": {\\\"scale\\\": \\\"y\\\", \\\"field\\\": \\\"upper quartile\\\"}, \\\"y2\\\": {\\\"scale\\\": \\\"y\\\", \\\"field\\\": \\\"max\\\"}, \\\"stroke\\\": {\\\"value\\\": \\\"black\\\"}}}}, {\\\"name\\\": \\\"layer_2_marks\\\", \\\"type\\\": \\\"rect\\\", \\\"style\\\": [\\\"box\\\"], \\\"from\\\": {\\\"data\\\": \\\"source_2\\\"}, \\\"encode\\\": {\\\"hover\\\": {\\\"fill\\\": {\\\"value\\\": \\\"#7EC2F3\\\"}}, \\\"update\\\": {\\\"xc\\\": {\\\"scale\\\": \\\"x\\\", \\\"field\\\": \\\"x\\\", \\\"band\\\": 0.5}, \\\"width\\\": {\\\"value\\\": 20}, \\\"y\\\": {\\\"scale\\\": \\\"y\\\", \\\"field\\\": \\\"lower quartile\\\"}, \\\"y2\\\": {\\\"scale\\\": \\\"y\\\", \\\"field\\\": \\\"upper quartile\\\"}, \\\"fill\\\": {\\\"value\\\": \\\"#108EE9\\\"}}}}, {\\\"name\\\": \\\"layer_3_marks\\\", \\\"type\\\": \\\"rect\\\", \\\"style\\\": [\\\"boxMid\\\"], \\\"from\\\": {\\\"data\\\": \\\"source_2\\\"}, \\\"encode\\\": {\\\"update\\\": {\\\"xc\\\": {\\\"scale\\\": \\\"x\\\", \\\"field\\\": \\\"x\\\", \\\"band\\\": 0.5}, \\\"yc\\\": {\\\"scale\\\": \\\"y\\\", \\\"field\\\": \\\"median\\\"}, \\\"width\\\": {\\\"value\\\": 20}, \\\"height\\\": {\\\"value\\\": 1}, \\\"fill\\\": {\\\"value\\\": \\\"black\\\"}, \\\"opacity\\\": {\\\"value\\\": 0.7}}}}], \\\"scales\\\": [{\\\"name\\\": \\\"x\\\", \\\"type\\\": \\\"band\\\", \\\"domain\\\": {\\\"fields\\\": [{\\\"data\\\": \\\"source_2\\\", \\\"field\\\": \\\"x\\\"}]}, \\\"range\\\": {\\\"step\\\": {\\\"signal\\\": \\\"x_step\\\"}}, \\\"paddingInner\\\": 0.1, \\\"paddingOuter\\\": 0.05}, {\\\"name\\\": \\\"y\\\", \\\"type\\\": \\\"linear\\\", \\\"domain\\\": {\\\"fields\\\": [{\\\"data\\\": \\\"source_2\\\", \\\"field\\\": \\\"min\\\"}, {\\\"data\\\": \\\"source_2\\\", \\\"field\\\": \\\"lower quartile\\\"}, {\\\"data\\\": \\\"source_2\\\", \\\"field\\\": \\\"upper quartile\\\"}, {\\\"data\\\": \\\"source_2\\\", \\\"field\\\": \\\"max\\\"}, {\\\"data\\\": \\\"source_2\\\", \\\"field\\\": \\\"lower quartile\\\"}, {\\\"data\\\": \\\"source_2\\\", \\\"field\\\": \\\"upper quartile\\\"}, {\\\"data\\\": \\\"source_2\\\", \\\"field\\\": \\\"median\\\"}], \\\"sort\\\": true}, \\\"range\\\": [{\\\"signal\\\": \\\"height\\\"}, 0], \\\"nice\\\": true, \\\"zero\\\": true}], \\\"axes\\\": [{\\\"scale\\\": \\\"x\\\", \\\"labelOverlap\\\": true, \\\"orient\\\": \\\"bottom\\\", \\\"title\\\": \\\"X\\\", \\\"zindex\\\": 1, \\\"encode\\\": {\\\"labels\\\": {\\\"update\\\": {\\\"angle\\\": {\\\"value\\\": 270}, \\\"align\\\": {\\\"value\\\": \\\"right\\\"}, \\\"baseline\\\": {\\\"value\\\": \\\"middle\\\"}}}}}, {\\\"title\\\": \\\"Y\\\", \\\"scale\\\": \\\"y\\\", \\\"labelOverlap\\\": true, \\\"orient\\\": \\\"left\\\", \\\"tickCount\\\": {\\\"signal\\\": \\\"ceil(height/40)\\\"}, \\\"zindex\\\": 1}, {\\\"scale\\\": \\\"y\\\", \\\"domain\\\": false, \\\"grid\\\": true, \\\"labels\\\": false, \\\"maxExtent\\\": 0, \\\"minExtent\\\": 0, \\\"orient\\\": \\\"left\\\", \\\"tickCount\\\": {\\\"signal\\\": \\\"ceil(height/40)\\\"}, \\\"ticks\\\": false, \\\"zindex\\\": 0, \\\"gridScale\\\": \\\"x\\\"}], \\\"config\\\": {\\\"axis\\\": {\\\"gridColor\\\": \\\"rgba(204,204,204,1.0)\\\", \\\"labelFont\\\": \\\"\\\\\\\"San Francisco\\\\\\\", HelveticaNeue, Arial\\\", \\\"labelFontSize\\\": 12, \\\"labelPadding\\\": 10, \\\"labelColor\\\": \\\"rgba(0,0,0,0.847)\\\", \\\"tickColor\\\": \\\"rgb(136,136,136)\\\", \\\"titleFont\\\": \\\"\\\\\\\"San Francisco\\\\\\\", HelveticaNeue, Arial\\\", \\\"titleFontWeight\\\": \\\"normal\\\", \\\"titlePadding\\\": 20, \\\"titleFontSize\\\": 14, \\\"titleColor\\\": \\\"rgba(0,0,0,0.847)\\\"}, \\\"axisY\\\": {\\\"minExtent\\\": 30}, \\\"legend\\\": {\\\"labelFont\\\": \\\"\\\\\\\"San Francisco\\\\\\\", HelveticaNeue, Arial\\\", \\\"labelColor\\\": \\\"rgba(0,0,0,0.847)\\\", \\\"titleFont\\\": \\\"\\\\\\\"San Francisco\\\\\\\", HelveticaNeue, Arial\\\", \\\"cornerRadius\\\": 30, \\\"gradientLength\\\": 608, \\\"titleColor\\\": \\\"rgba(0,0,0,0.847)\\\"}, \\\"range\\\": {\\\"heatmap\\\": {\\\"scheme\\\": \\\"greenblue\\\"}}, \\\"style\\\": {\\\"rect\\\": {\\\"stroke\\\": \\\"rgba(200, 200, 200, 0.5)\\\"}, \\\"cell\\\": {\\\"stroke\\\": \\\"transparent\\\"}, \\\"group-title\\\": {\\\"fontSize\\\": 29, \\\"font\\\": \\\"HelveticaNeue, Arial\\\", \\\"fontWeight\\\": \\\"normal\\\", \\\"fill\\\": \\\"rgba(0,0,0,0.65)\\\"}}, \\\"title\\\": {\\\"color\\\": \\\"rgba(0,0,0,0.847)\\\", \\\"font\\\": \\\"\\\\\\\"San Francisco\\\\\\\", HelveticaNeue, Arial\\\", \\\"fontSize\\\": 18, \\\"fontWeight\\\": \\\"normal\\\", \\\"offset\\\": 30}}}\";                                 var vega_json_parsed = JSON.parse(vega_json);                                 var toolTipOpts = {                                     showAllFields: true                                 };                                 if(vega_json_parsed[\"metadata\"] != null){                                     if(vega_json_parsed[\"metadata\"][\"bubbleOpts\"] != null){                                         toolTipOpts = vega_json_parsed[\"metadata\"][\"bubbleOpts\"];                                     };                                 };                                 vegaEmbed(\"#vis\", vega_json_parsed).then(function (result) {                                     vegaTooltip.vega(result.view, toolTipOpts);                                  });                             </script>                         </body>                     </html>' src=\"demo_iframe_srcdoc.htm\">                         <p>Your browser does not support iframes.</p>                     </iframe>                 </body>             </html>"
      ],
      "text/plain": [
       "<IPython.core.display.HTML object>"
      ]
     },
     "metadata": {},
     "output_type": "display_data"
    }
   ],
   "source": [
    "turicreate.show(sales['zipcode'],sales['price'])"
   ]
  },
  {
   "cell_type": "code",
   "execution_count": 35,
   "metadata": {
    "collapsed": true
   },
   "outputs": [],
   "source": [
    "zipdata = sales[sales['zipcode']=='98039']"
   ]
  },
  {
   "cell_type": "code",
   "execution_count": 37,
   "metadata": {
    "collapsed": true
   },
   "outputs": [
    {
     "data": {
      "text/plain": [
       "2160606.5999999996"
      ]
     },
     "execution_count": 37,
     "metadata": {},
     "output_type": "execute_result"
    }
   ],
   "source": [
    "zipdata['price'].mean()"
   ]
  },
  {
   "cell_type": "code",
   "execution_count": 41,
   "metadata": {
    "collapsed": true
   },
   "outputs": [],
   "source": [
    "def fun(sqft):\n",
    "    if sqft>2000 and sqft<=4000:\n",
    "        return sqft\n",
    "    else: pass"
   ]
  },
  {
   "cell_type": "code",
   "execution_count": 46,
   "metadata": {
    "collapsed": true
   },
   "outputs": [],
   "source": [
    "sqft_data = sales[sales['sqft_living'].apply(fun)]"
   ]
  },
  {
   "cell_type": "code",
   "execution_count": 49,
   "metadata": {
    "collapsed": true
   },
   "outputs": [
    {
     "data": {
      "text/plain": [
       "9118"
      ]
     },
     "execution_count": 49,
     "metadata": {},
     "output_type": "execute_result"
    }
   ],
   "source": [
    "sqft_data.num_rows()"
   ]
  },
  {
   "cell_type": "code",
   "execution_count": 50,
   "metadata": {
    "collapsed": true
   },
   "outputs": [
    {
     "data": {
      "text/plain": [
       "0.42187572294452413"
      ]
     },
     "execution_count": 50,
     "metadata": {},
     "output_type": "execute_result"
    }
   ],
   "source": [
    "sqft_data.num_rows()/sales.num_rows()"
   ]
  },
  {
   "cell_type": "code",
   "execution_count": 51,
   "metadata": {
    "collapsed": true
   },
   "outputs": [
    {
     "data": {
      "text/plain": [
       "21"
      ]
     },
     "execution_count": 51,
     "metadata": {},
     "output_type": "execute_result"
    }
   ],
   "source": [
    "sales.num_columns()"
   ]
  },
  {
   "cell_type": "code",
   "execution_count": 52,
   "metadata": {
    "collapsed": true
   },
   "outputs": [],
   "source": [
    "advance_features = ['bedrooms', 'bathrooms', 'sqft_living', 'sqft_lot', 'floors', 'zipcode',\n",
    "'condition', # condition of hous\n",
    "'grade', # measure of quality of construction\n",
    "'waterfront', # waterfront property\n",
    "'view', # type of view\n",
    "'sqft_above', # square feet above ground\n",
    "'sqft_basement', # square feet in basement\n",
    "'yr_built', # the year built\n",
    "'yr_renovated', # the year renovated\n",
    "'lat', 'long', # the lat-long of the parcel\n",
    "'sqft_living15', # average sq.ft. of 15 nearest neighbors\n",
    "'sqft_lot15', # average lot size of 15 nearest neighbors\n",
    "                   ]"
   ]
  },
  {
   "cell_type": "code",
   "execution_count": 59,
   "metadata": {
    "collapsed": true
   },
   "outputs": [
    {
     "name": "stdout",
     "output_type": "stream",
     "text": [
      "PROGRESS: Creating a validation set from 5 percent of training data. This may take a while.\n",
      "          You can set ``validation_set=None`` to disable validation tracking.\n",
      "\n"
     ]
    },
    {
     "data": {
      "text/html": [
       "<pre>Linear regression:</pre>"
      ],
      "text/plain": [
       "Linear regression:"
      ]
     },
     "metadata": {},
     "output_type": "display_data"
    },
    {
     "data": {
      "text/html": [
       "<pre>--------------------------------------------------------</pre>"
      ],
      "text/plain": [
       "--------------------------------------------------------"
      ]
     },
     "metadata": {},
     "output_type": "display_data"
    },
    {
     "data": {
      "text/html": [
       "<pre>Number of examples          : 16514</pre>"
      ],
      "text/plain": [
       "Number of examples          : 16514"
      ]
     },
     "metadata": {},
     "output_type": "display_data"
    },
    {
     "data": {
      "text/html": [
       "<pre>Number of features          : 18</pre>"
      ],
      "text/plain": [
       "Number of features          : 18"
      ]
     },
     "metadata": {},
     "output_type": "display_data"
    },
    {
     "data": {
      "text/html": [
       "<pre>Number of unpacked features : 18</pre>"
      ],
      "text/plain": [
       "Number of unpacked features : 18"
      ]
     },
     "metadata": {},
     "output_type": "display_data"
    },
    {
     "data": {
      "text/html": [
       "<pre>Number of coefficients    : 87</pre>"
      ],
      "text/plain": [
       "Number of coefficients    : 87"
      ]
     },
     "metadata": {},
     "output_type": "display_data"
    },
    {
     "data": {
      "text/html": [
       "<pre>Starting Newton Method</pre>"
      ],
      "text/plain": [
       "Starting Newton Method"
      ]
     },
     "metadata": {},
     "output_type": "display_data"
    },
    {
     "data": {
      "text/html": [
       "<pre>--------------------------------------------------------</pre>"
      ],
      "text/plain": [
       "--------------------------------------------------------"
      ]
     },
     "metadata": {},
     "output_type": "display_data"
    },
    {
     "data": {
      "text/html": [
       "<pre>+-----------+----------+--------------+--------------------+----------------------+---------------------------------+-----------------------------------+</pre>"
      ],
      "text/plain": [
       "+-----------+----------+--------------+--------------------+----------------------+---------------------------------+-----------------------------------+"
      ]
     },
     "metadata": {},
     "output_type": "display_data"
    },
    {
     "data": {
      "text/html": [
       "<pre>| Iteration | Passes   | Elapsed Time | Training Max Error | Validation Max Error | Training Root-Mean-Square Error | Validation Root-Mean-Square Error |</pre>"
      ],
      "text/plain": [
       "| Iteration | Passes   | Elapsed Time | Training Max Error | Validation Max Error | Training Root-Mean-Square Error | Validation Root-Mean-Square Error |"
      ]
     },
     "metadata": {},
     "output_type": "display_data"
    },
    {
     "data": {
      "text/html": [
       "<pre>+-----------+----------+--------------+--------------------+----------------------+---------------------------------+-----------------------------------+</pre>"
      ],
      "text/plain": [
       "+-----------+----------+--------------+--------------------+----------------------+---------------------------------+-----------------------------------+"
      ]
     },
     "metadata": {},
     "output_type": "display_data"
    },
    {
     "data": {
      "text/html": [
       "<pre>| 1         | 2        | 0.020108     | 4339096.965344     | 2333422.767357       | 161592.374755                   | 177936.235128                     |</pre>"
      ],
      "text/plain": [
       "| 1         | 2        | 0.020108     | 4339096.965344     | 2333422.767357       | 161592.374755                   | 177936.235128                     |"
      ]
     },
     "metadata": {},
     "output_type": "display_data"
    },
    {
     "data": {
      "text/html": [
       "<pre>+-----------+----------+--------------+--------------------+----------------------+---------------------------------+-----------------------------------+</pre>"
      ],
      "text/plain": [
       "+-----------+----------+--------------+--------------------+----------------------+---------------------------------+-----------------------------------+"
      ]
     },
     "metadata": {},
     "output_type": "display_data"
    },
    {
     "data": {
      "text/html": [
       "<pre>SUCCESS: Optimal solution found.</pre>"
      ],
      "text/plain": [
       "SUCCESS: Optimal solution found."
      ]
     },
     "metadata": {},
     "output_type": "display_data"
    },
    {
     "data": {
      "text/html": [
       "<pre></pre>"
      ],
      "text/plain": []
     },
     "metadata": {},
     "output_type": "display_data"
    }
   ],
   "source": [
    "advance_features_model = turicreate.linear_regression.create(training_set,target='price',features = advance_features)"
   ]
  },
  {
   "cell_type": "code",
   "execution_count": 61,
   "metadata": {
    "collapsed": true
   },
   "outputs": [
    {
     "data": {
      "text/plain": [
       "{'max_error': 3178994.7034792965, 'rmse': 155200.63669414847}"
      ]
     },
     "execution_count": 61,
     "metadata": {},
     "output_type": "execute_result"
    }
   ],
   "source": [
    "advance_features_model.evaluate(test_set)"
   ]
  },
  {
   "cell_type": "code",
   "execution_count": 62,
   "metadata": {
    "collapsed": true
   },
   "outputs": [
    {
     "data": {
      "text/plain": [
       "{'max_error': 3170846.105681073, 'rmse': 180713.66472629254}"
      ]
     },
     "execution_count": 62,
     "metadata": {},
     "output_type": "execute_result"
    }
   ],
   "source": [
    "my_features_model.evaluate(test_set)"
   ]
  },
  {
   "cell_type": "code",
   "execution_count": 64,
   "metadata": {
    "collapsed": true
   },
   "outputs": [
    {
     "data": {
      "text/plain": [
       "25513.028032144066"
      ]
     },
     "execution_count": 64,
     "metadata": {},
     "output_type": "execute_result"
    }
   ],
   "source": [
    "my_features_model.evaluate(test_set)['rmse']-advance_features_model.evaluate(test_set)['rmse']"
   ]
  },
  {
   "cell_type": "code",
   "execution_count": null,
   "metadata": {
    "collapsed": true
   },
   "outputs": [],
   "source": []
  },
  {
   "cell_type": "markdown",
   "metadata": {},
   "source": [
    "# WEEK 3\n"
   ]
  },
  {
   "cell_type": "code",
   "execution_count": 181,
   "metadata": {},
   "outputs": [],
   "source": [
    "import turicreate"
   ]
  },
  {
   "cell_type": "code",
   "execution_count": 182,
   "metadata": {},
   "outputs": [],
   "source": [
    "products = turicreate.SFrame('amazon_baby.sframe')"
   ]
  },
  {
   "cell_type": "code",
   "execution_count": 183,
   "metadata": {},
   "outputs": [
    {
     "data": {
      "text/html": [
       "<div style=\"max-height:1000px;max-width:1500px;overflow:auto;\"><table frame=\"box\" rules=\"cols\">\n",
       "    <tr>\n",
       "        <th style=\"padding-left: 1em; padding-right: 1em; text-align: center\">name</th>\n",
       "        <th style=\"padding-left: 1em; padding-right: 1em; text-align: center\">review</th>\n",
       "        <th style=\"padding-left: 1em; padding-right: 1em; text-align: center\">rating</th>\n",
       "    </tr>\n",
       "    <tr>\n",
       "        <td style=\"padding-left: 1em; padding-right: 1em; text-align: center; vertical-align: top\">Planetwise Flannel Wipes</td>\n",
       "        <td style=\"padding-left: 1em; padding-right: 1em; text-align: center; vertical-align: top\">These flannel wipes are<br>OK, but in my opinion ...</td>\n",
       "        <td style=\"padding-left: 1em; padding-right: 1em; text-align: center; vertical-align: top\">3.0</td>\n",
       "    </tr>\n",
       "    <tr>\n",
       "        <td style=\"padding-left: 1em; padding-right: 1em; text-align: center; vertical-align: top\">Planetwise Wipe Pouch</td>\n",
       "        <td style=\"padding-left: 1em; padding-right: 1em; text-align: center; vertical-align: top\">it came early and was not<br>disappointed. i love ...</td>\n",
       "        <td style=\"padding-left: 1em; padding-right: 1em; text-align: center; vertical-align: top\">5.0</td>\n",
       "    </tr>\n",
       "    <tr>\n",
       "        <td style=\"padding-left: 1em; padding-right: 1em; text-align: center; vertical-align: top\">Annas Dream Full Quilt<br>with 2 Shams ...</td>\n",
       "        <td style=\"padding-left: 1em; padding-right: 1em; text-align: center; vertical-align: top\">Very soft and comfortable<br>and warmer than it ...</td>\n",
       "        <td style=\"padding-left: 1em; padding-right: 1em; text-align: center; vertical-align: top\">5.0</td>\n",
       "    </tr>\n",
       "    <tr>\n",
       "        <td style=\"padding-left: 1em; padding-right: 1em; text-align: center; vertical-align: top\">Stop Pacifier Sucking<br>without tears with ...</td>\n",
       "        <td style=\"padding-left: 1em; padding-right: 1em; text-align: center; vertical-align: top\">This is a product well<br>worth the purchase.  I ...</td>\n",
       "        <td style=\"padding-left: 1em; padding-right: 1em; text-align: center; vertical-align: top\">5.0</td>\n",
       "    </tr>\n",
       "    <tr>\n",
       "        <td style=\"padding-left: 1em; padding-right: 1em; text-align: center; vertical-align: top\">Stop Pacifier Sucking<br>without tears with ...</td>\n",
       "        <td style=\"padding-left: 1em; padding-right: 1em; text-align: center; vertical-align: top\">All of my kids have cried<br>non-stop when I tried to ...</td>\n",
       "        <td style=\"padding-left: 1em; padding-right: 1em; text-align: center; vertical-align: top\">5.0</td>\n",
       "    </tr>\n",
       "    <tr>\n",
       "        <td style=\"padding-left: 1em; padding-right: 1em; text-align: center; vertical-align: top\">Stop Pacifier Sucking<br>without tears with ...</td>\n",
       "        <td style=\"padding-left: 1em; padding-right: 1em; text-align: center; vertical-align: top\">When the Binky Fairy came<br>to our house, we didn&#x27;t ...</td>\n",
       "        <td style=\"padding-left: 1em; padding-right: 1em; text-align: center; vertical-align: top\">5.0</td>\n",
       "    </tr>\n",
       "    <tr>\n",
       "        <td style=\"padding-left: 1em; padding-right: 1em; text-align: center; vertical-align: top\">A Tale of Baby&#x27;s Days<br>with Peter Rabbit ...</td>\n",
       "        <td style=\"padding-left: 1em; padding-right: 1em; text-align: center; vertical-align: top\">Lovely book, it&#x27;s bound<br>tightly so you may no ...</td>\n",
       "        <td style=\"padding-left: 1em; padding-right: 1em; text-align: center; vertical-align: top\">4.0</td>\n",
       "    </tr>\n",
       "    <tr>\n",
       "        <td style=\"padding-left: 1em; padding-right: 1em; text-align: center; vertical-align: top\">Baby Tracker&amp;reg; - Daily<br>Childcare Journal, ...</td>\n",
       "        <td style=\"padding-left: 1em; padding-right: 1em; text-align: center; vertical-align: top\">Perfect for new parents.<br>We were able to keep ...</td>\n",
       "        <td style=\"padding-left: 1em; padding-right: 1em; text-align: center; vertical-align: top\">5.0</td>\n",
       "    </tr>\n",
       "    <tr>\n",
       "        <td style=\"padding-left: 1em; padding-right: 1em; text-align: center; vertical-align: top\">Baby Tracker&amp;reg; - Daily<br>Childcare Journal, ...</td>\n",
       "        <td style=\"padding-left: 1em; padding-right: 1em; text-align: center; vertical-align: top\">A friend of mine pinned<br>this product on Pinte ...</td>\n",
       "        <td style=\"padding-left: 1em; padding-right: 1em; text-align: center; vertical-align: top\">5.0</td>\n",
       "    </tr>\n",
       "    <tr>\n",
       "        <td style=\"padding-left: 1em; padding-right: 1em; text-align: center; vertical-align: top\">Baby Tracker&amp;reg; - Daily<br>Childcare Journal, ...</td>\n",
       "        <td style=\"padding-left: 1em; padding-right: 1em; text-align: center; vertical-align: top\">This has been an easy way<br>for my nanny to record ...</td>\n",
       "        <td style=\"padding-left: 1em; padding-right: 1em; text-align: center; vertical-align: top\">4.0</td>\n",
       "    </tr>\n",
       "</table>\n",
       "[183531 rows x 3 columns]<br/>Note: Only the head of the SFrame is printed.<br/>You can use print_rows(num_rows=m, num_columns=n) to print more rows and columns.\n",
       "</div>"
      ],
      "text/plain": [
       "Columns:\n",
       "\tname\tstr\n",
       "\treview\tstr\n",
       "\trating\tfloat\n",
       "\n",
       "Rows: 183531\n",
       "\n",
       "Data:\n",
       "+-------------------------------+-------------------------------+--------+\n",
       "|              name             |             review            | rating |\n",
       "+-------------------------------+-------------------------------+--------+\n",
       "|    Planetwise Flannel Wipes   | These flannel wipes are OK... |  3.0   |\n",
       "|     Planetwise Wipe Pouch     | it came early and was not ... |  5.0   |\n",
       "| Annas Dream Full Quilt wit... | Very soft and comfortable ... |  5.0   |\n",
       "| Stop Pacifier Sucking with... | This is a product well wor... |  5.0   |\n",
       "| Stop Pacifier Sucking with... | All of my kids have cried ... |  5.0   |\n",
       "| Stop Pacifier Sucking with... | When the Binky Fairy came ... |  5.0   |\n",
       "| A Tale of Baby's Days with... | Lovely book, it's bound ti... |  4.0   |\n",
       "| Baby Tracker&reg; - Daily ... | Perfect for new parents. W... |  5.0   |\n",
       "| Baby Tracker&reg; - Daily ... | A friend of mine pinned th... |  5.0   |\n",
       "| Baby Tracker&reg; - Daily ... | This has been an easy way ... |  4.0   |\n",
       "+-------------------------------+-------------------------------+--------+\n",
       "[183531 rows x 3 columns]\n",
       "Note: Only the head of the SFrame is printed.\n",
       "You can use print_rows(num_rows=m, num_columns=n) to print more rows and columns."
      ]
     },
     "execution_count": 183,
     "metadata": {},
     "output_type": "execute_result"
    }
   ],
   "source": [
    "products"
   ]
  },
  {
   "cell_type": "code",
   "execution_count": 184,
   "metadata": {},
   "outputs": [
    {
     "data": {
      "text/html": [
       "<div style=\"max-height:1000px;max-width:1500px;overflow:auto;\"><table frame=\"box\" rules=\"cols\">\n",
       "    <tr>\n",
       "        <th style=\"padding-left: 1em; padding-right: 1em; text-align: center\">name</th>\n",
       "        <th style=\"padding-left: 1em; padding-right: 1em; text-align: center\">count</th>\n",
       "    </tr>\n",
       "    <tr>\n",
       "        <td style=\"padding-left: 1em; padding-right: 1em; text-align: center; vertical-align: top\">Vulli Sophie the Giraffe<br>Teether ...</td>\n",
       "        <td style=\"padding-left: 1em; padding-right: 1em; text-align: center; vertical-align: top\">785</td>\n",
       "    </tr>\n",
       "    <tr>\n",
       "        <td style=\"padding-left: 1em; padding-right: 1em; text-align: center; vertical-align: top\">Simple Wishes Hands-Free<br>Breastpump Bra, Pink, ...</td>\n",
       "        <td style=\"padding-left: 1em; padding-right: 1em; text-align: center; vertical-align: top\">562</td>\n",
       "    </tr>\n",
       "    <tr>\n",
       "        <td style=\"padding-left: 1em; padding-right: 1em; text-align: center; vertical-align: top\">Infant Optics DXR-5 2.4<br>GHz Digital Video Baby ...</td>\n",
       "        <td style=\"padding-left: 1em; padding-right: 1em; text-align: center; vertical-align: top\">561</td>\n",
       "    </tr>\n",
       "    <tr>\n",
       "        <td style=\"padding-left: 1em; padding-right: 1em; text-align: center; vertical-align: top\">Baby Einstein Take Along<br>Tunes ...</td>\n",
       "        <td style=\"padding-left: 1em; padding-right: 1em; text-align: center; vertical-align: top\">547</td>\n",
       "    </tr>\n",
       "    <tr>\n",
       "        <td style=\"padding-left: 1em; padding-right: 1em; text-align: center; vertical-align: top\">Cloud b Twilight<br>Constellation Night ...</td>\n",
       "        <td style=\"padding-left: 1em; padding-right: 1em; text-align: center; vertical-align: top\">520</td>\n",
       "    </tr>\n",
       "    <tr>\n",
       "        <td style=\"padding-left: 1em; padding-right: 1em; text-align: center; vertical-align: top\">Fisher-Price Booster<br>Seat, Blue/Green/Gray ...</td>\n",
       "        <td style=\"padding-left: 1em; padding-right: 1em; text-align: center; vertical-align: top\">489</td>\n",
       "    </tr>\n",
       "    <tr>\n",
       "        <td style=\"padding-left: 1em; padding-right: 1em; text-align: center; vertical-align: top\">Fisher-Price Rainforest<br>Jumperoo ...</td>\n",
       "        <td style=\"padding-left: 1em; padding-right: 1em; text-align: center; vertical-align: top\">450</td>\n",
       "    </tr>\n",
       "    <tr>\n",
       "        <td style=\"padding-left: 1em; padding-right: 1em; text-align: center; vertical-align: top\">Graco Nautilus 3-in-1 Car<br>Seat, Matrix ...</td>\n",
       "        <td style=\"padding-left: 1em; padding-right: 1em; text-align: center; vertical-align: top\">419</td>\n",
       "    </tr>\n",
       "    <tr>\n",
       "        <td style=\"padding-left: 1em; padding-right: 1em; text-align: center; vertical-align: top\">Leachco Snoogle Total<br>Body Pillow ...</td>\n",
       "        <td style=\"padding-left: 1em; padding-right: 1em; text-align: center; vertical-align: top\">388</td>\n",
       "    </tr>\n",
       "    <tr>\n",
       "        <td style=\"padding-left: 1em; padding-right: 1em; text-align: center; vertical-align: top\">Regalo Easy Step Walk<br>Thru Gate, White ...</td>\n",
       "        <td style=\"padding-left: 1em; padding-right: 1em; text-align: center; vertical-align: top\">374</td>\n",
       "    </tr>\n",
       "</table>\n",
       "[32419 rows x 2 columns]<br/>Note: Only the head of the SFrame is printed.<br/>You can use print_rows(num_rows=m, num_columns=n) to print more rows and columns.\n",
       "</div>"
      ],
      "text/plain": [
       "Columns:\n",
       "\tname\tstr\n",
       "\tcount\tint\n",
       "\n",
       "Rows: 32419\n",
       "\n",
       "Data:\n",
       "+--------------------------------+-------+\n",
       "|              name              | count |\n",
       "+--------------------------------+-------+\n",
       "| Vulli Sophie the Giraffe T...  |  785  |\n",
       "| Simple Wishes Hands-Free B...  |  562  |\n",
       "| Infant Optics DXR-5 2.4 GH...  |  561  |\n",
       "| Baby Einstein Take Along Tunes |  547  |\n",
       "| Cloud b Twilight Constella...  |  520  |\n",
       "| Fisher-Price Booster Seat,...  |  489  |\n",
       "| Fisher-Price Rainforest Ju...  |  450  |\n",
       "| Graco Nautilus 3-in-1 Car ...  |  419  |\n",
       "| Leachco Snoogle Total Body...  |  388  |\n",
       "| Regalo Easy Step Walk Thru...  |  374  |\n",
       "+--------------------------------+-------+\n",
       "[32419 rows x 2 columns]\n",
       "Note: Only the head of the SFrame is printed.\n",
       "You can use print_rows(num_rows=m, num_columns=n) to print more rows and columns."
      ]
     },
     "execution_count": 184,
     "metadata": {},
     "output_type": "execute_result"
    }
   ],
   "source": [
    "products.groupby('name',operations={'count':turicreate.aggregate.COUNT()}).sort('count',ascending=False)"
   ]
  },
  {
   "cell_type": "code",
   "execution_count": 185,
   "metadata": {},
   "outputs": [],
   "source": [
    "giraffe_reviews = products[products['name'] =='Vulli Sophie the Giraffe Teether']"
   ]
  },
  {
   "cell_type": "code",
   "execution_count": 186,
   "metadata": {},
   "outputs": [
    {
     "data": {
      "text/html": [
       "<div style=\"max-height:1000px;max-width:1500px;overflow:auto;\"><table frame=\"box\" rules=\"cols\">\n",
       "    <tr>\n",
       "        <th style=\"padding-left: 1em; padding-right: 1em; text-align: center\">name</th>\n",
       "        <th style=\"padding-left: 1em; padding-right: 1em; text-align: center\">review</th>\n",
       "        <th style=\"padding-left: 1em; padding-right: 1em; text-align: center\">rating</th>\n",
       "    </tr>\n",
       "    <tr>\n",
       "        <td style=\"padding-left: 1em; padding-right: 1em; text-align: center; vertical-align: top\">Vulli Sophie the Giraffe<br>Teether ...</td>\n",
       "        <td style=\"padding-left: 1em; padding-right: 1em; text-align: center; vertical-align: top\">He likes chewing on all<br>the parts especially the ...</td>\n",
       "        <td style=\"padding-left: 1em; padding-right: 1em; text-align: center; vertical-align: top\">5.0</td>\n",
       "    </tr>\n",
       "    <tr>\n",
       "        <td style=\"padding-left: 1em; padding-right: 1em; text-align: center; vertical-align: top\">Vulli Sophie the Giraffe<br>Teether ...</td>\n",
       "        <td style=\"padding-left: 1em; padding-right: 1em; text-align: center; vertical-align: top\">My son loves this toy and<br>fits great in the diaper ...</td>\n",
       "        <td style=\"padding-left: 1em; padding-right: 1em; text-align: center; vertical-align: top\">5.0</td>\n",
       "    </tr>\n",
       "    <tr>\n",
       "        <td style=\"padding-left: 1em; padding-right: 1em; text-align: center; vertical-align: top\">Vulli Sophie the Giraffe<br>Teether ...</td>\n",
       "        <td style=\"padding-left: 1em; padding-right: 1em; text-align: center; vertical-align: top\">There really should be a<br>large warning on the  ...</td>\n",
       "        <td style=\"padding-left: 1em; padding-right: 1em; text-align: center; vertical-align: top\">1.0</td>\n",
       "    </tr>\n",
       "    <tr>\n",
       "        <td style=\"padding-left: 1em; padding-right: 1em; text-align: center; vertical-align: top\">Vulli Sophie the Giraffe<br>Teether ...</td>\n",
       "        <td style=\"padding-left: 1em; padding-right: 1em; text-align: center; vertical-align: top\">All the moms in my moms&#x27;<br>group got Sophie for ...</td>\n",
       "        <td style=\"padding-left: 1em; padding-right: 1em; text-align: center; vertical-align: top\">5.0</td>\n",
       "    </tr>\n",
       "    <tr>\n",
       "        <td style=\"padding-left: 1em; padding-right: 1em; text-align: center; vertical-align: top\">Vulli Sophie the Giraffe<br>Teether ...</td>\n",
       "        <td style=\"padding-left: 1em; padding-right: 1em; text-align: center; vertical-align: top\">I was a little skeptical<br>on whether Sophie was ...</td>\n",
       "        <td style=\"padding-left: 1em; padding-right: 1em; text-align: center; vertical-align: top\">5.0</td>\n",
       "    </tr>\n",
       "    <tr>\n",
       "        <td style=\"padding-left: 1em; padding-right: 1em; text-align: center; vertical-align: top\">Vulli Sophie the Giraffe<br>Teether ...</td>\n",
       "        <td style=\"padding-left: 1em; padding-right: 1em; text-align: center; vertical-align: top\">I have been reading about<br>Sophie and was going  ...</td>\n",
       "        <td style=\"padding-left: 1em; padding-right: 1em; text-align: center; vertical-align: top\">5.0</td>\n",
       "    </tr>\n",
       "    <tr>\n",
       "        <td style=\"padding-left: 1em; padding-right: 1em; text-align: center; vertical-align: top\">Vulli Sophie the Giraffe<br>Teether ...</td>\n",
       "        <td style=\"padding-left: 1em; padding-right: 1em; text-align: center; vertical-align: top\">My neice loves her sophie<br>and has spent hours ...</td>\n",
       "        <td style=\"padding-left: 1em; padding-right: 1em; text-align: center; vertical-align: top\">5.0</td>\n",
       "    </tr>\n",
       "    <tr>\n",
       "        <td style=\"padding-left: 1em; padding-right: 1em; text-align: center; vertical-align: top\">Vulli Sophie the Giraffe<br>Teether ...</td>\n",
       "        <td style=\"padding-left: 1em; padding-right: 1em; text-align: center; vertical-align: top\">What a friendly face!<br>And those mesmerizing ...</td>\n",
       "        <td style=\"padding-left: 1em; padding-right: 1em; text-align: center; vertical-align: top\">5.0</td>\n",
       "    </tr>\n",
       "    <tr>\n",
       "        <td style=\"padding-left: 1em; padding-right: 1em; text-align: center; vertical-align: top\">Vulli Sophie the Giraffe<br>Teether ...</td>\n",
       "        <td style=\"padding-left: 1em; padding-right: 1em; text-align: center; vertical-align: top\">We got this just for my<br>son to chew on instea ...</td>\n",
       "        <td style=\"padding-left: 1em; padding-right: 1em; text-align: center; vertical-align: top\">5.0</td>\n",
       "    </tr>\n",
       "    <tr>\n",
       "        <td style=\"padding-left: 1em; padding-right: 1em; text-align: center; vertical-align: top\">Vulli Sophie the Giraffe<br>Teether ...</td>\n",
       "        <td style=\"padding-left: 1em; padding-right: 1em; text-align: center; vertical-align: top\">My baby seems to like<br>this toy, but I could ...</td>\n",
       "        <td style=\"padding-left: 1em; padding-right: 1em; text-align: center; vertical-align: top\">3.0</td>\n",
       "    </tr>\n",
       "</table>\n",
       "[? rows x 3 columns]<br/>Note: Only the head of the SFrame is printed. This SFrame is lazily evaluated.<br/>You can use sf.materialize() to force materialization.\n",
       "</div>"
      ],
      "text/plain": [
       "Columns:\n",
       "\tname\tstr\n",
       "\treview\tstr\n",
       "\trating\tfloat\n",
       "\n",
       "Rows: Unknown\n",
       "\n",
       "Data:\n",
       "+-------------------------------+-------------------------------+--------+\n",
       "|              name             |             review            | rating |\n",
       "+-------------------------------+-------------------------------+--------+\n",
       "| Vulli Sophie the Giraffe T... | He likes chewing on all th... |  5.0   |\n",
       "| Vulli Sophie the Giraffe T... | My son loves this toy and ... |  5.0   |\n",
       "| Vulli Sophie the Giraffe T... | There really should be a l... |  1.0   |\n",
       "| Vulli Sophie the Giraffe T... | All the moms in my moms' g... |  5.0   |\n",
       "| Vulli Sophie the Giraffe T... | I was a little skeptical o... |  5.0   |\n",
       "| Vulli Sophie the Giraffe T... | I have been reading about ... |  5.0   |\n",
       "| Vulli Sophie the Giraffe T... | My neice loves her sophie ... |  5.0   |\n",
       "| Vulli Sophie the Giraffe T... | What a friendly face!  And... |  5.0   |\n",
       "| Vulli Sophie the Giraffe T... | We got this just for my so... |  5.0   |\n",
       "| Vulli Sophie the Giraffe T... | My baby seems to like this... |  3.0   |\n",
       "+-------------------------------+-------------------------------+--------+\n",
       "[? rows x 3 columns]\n",
       "Note: Only the head of the SFrame is printed. This SFrame is lazily evaluated.\n",
       "You can use sf.materialize() to force materialization."
      ]
     },
     "execution_count": 186,
     "metadata": {},
     "output_type": "execute_result"
    }
   ],
   "source": [
    "giraffe_reviews"
   ]
  },
  {
   "cell_type": "code",
   "execution_count": 187,
   "metadata": {},
   "outputs": [
    {
     "data": {
      "text/plain": [
       "785"
      ]
     },
     "execution_count": 187,
     "metadata": {},
     "output_type": "execute_result"
    }
   ],
   "source": [
    "len(giraffe_reviews)"
   ]
  },
  {
   "cell_type": "code",
   "execution_count": 188,
   "metadata": {},
   "outputs": [
    {
     "data": {
      "text/html": [
       "<pre>Materializing SArray</pre>"
      ],
      "text/plain": [
       "Materializing SArray"
      ]
     },
     "metadata": {},
     "output_type": "display_data"
    },
    {
     "data": {
      "text/html": [
       "<html>                 <body>                     <iframe style=\"border:0;margin:0\" width=\"920\" height=\"770\" srcdoc='<html lang=\"en\">                         <head>                             <script src=\"https://cdnjs.cloudflare.com/ajax/libs/vega/5.4.0/vega.js\"></script>                             <script src=\"https://cdnjs.cloudflare.com/ajax/libs/vega-embed/4.0.0/vega-embed.js\"></script>                             <script src=\"https://cdnjs.cloudflare.com/ajax/libs/vega-tooltip/0.5.1/vega-tooltip.min.js\"></script>                             <link rel=\"stylesheet\" type=\"text/css\" href=\"https://cdnjs.cloudflare.com/ajax/libs/vega-tooltip/0.5.1/vega-tooltip.min.css\">                             <style>                             .vega-actions > a{                                 color:white;                                 text-decoration: none;                                 font-family: \"Arial\";                                 cursor:pointer;                                 padding:5px;                                 background:#AAAAAA;                                 border-radius:4px;                                 padding-left:10px;                                 padding-right:10px;                                 margin-right:5px;                             }                             .vega-actions{                                 margin-top:20px;                                 text-align:center                             }                            .vega-actions > a{                                 background:#999999;                            }                             </style>                         </head>                         <body>                             <div id=\"vis\">                             </div>                             <script>                                 var vega_json = \"{\\\"$schema\\\": \\\"https://vega.github.io/schema/vega/v4.json\\\", \\\"description\\\": \\\"A simple bar chart with embedded data.\\\", \\\"autosize\\\": {\\\"type\\\": \\\"fit\\\", \\\"resize\\\": false, \\\"contains\\\": \\\"padding\\\"}, \\\"width\\\": 720, \\\"height\\\": 550, \\\"padding\\\": 8, \\\"title\\\": \\\"Distribution of Values [float]\\\", \\\"style\\\": \\\"cell\\\", \\\"signals\\\": [{\\\"name\\\": \\\"bins\\\", \\\"update\\\": \\\"data(\\\\\\\"bins_data\\\\\\\")[0]\\\"}, {\\\"name\\\": \\\"binCount\\\", \\\"update\\\": \\\"(bins.stop - bins.start) / bins.step\\\"}, {\\\"name\\\": \\\"nullGap\\\", \\\"update\\\": \\\"data(\\\\\\\"nulls\\\\\\\").length ? 10 : 0\\\"}, {\\\"name\\\": \\\"barStep\\\", \\\"update\\\": \\\"(width - nullGap) / (1 + binCount)\\\"}], \\\"data\\\": [{\\\"name\\\": \\\"source_2\\\", \\\"values\\\": [{\\\"left\\\": 0.9546, \\\"right\\\": 1.1594, \\\"count\\\": 56}, {\\\"left\\\": 1.1594, \\\"right\\\": 1.3642, \\\"count\\\": 0}, {\\\"left\\\": 1.3642, \\\"right\\\": 1.569, \\\"count\\\": 0}, {\\\"left\\\": 1.569, \\\"right\\\": 1.7738, \\\"count\\\": 0}, {\\\"left\\\": 1.7738, \\\"right\\\": 1.9786, \\\"count\\\": 0}, {\\\"left\\\": 1.9786, \\\"right\\\": 2.1834, \\\"count\\\": 37}, {\\\"left\\\": 2.1834, \\\"right\\\": 2.3882, \\\"count\\\": 0}, {\\\"left\\\": 2.3882, \\\"right\\\": 2.593, \\\"count\\\": 0}, {\\\"left\\\": 2.593, \\\"right\\\": 2.7978, \\\"count\\\": 0}, {\\\"left\\\": 2.7978, \\\"right\\\": 3.0026, \\\"count\\\": 62}, {\\\"left\\\": 3.0026, \\\"right\\\": 3.2074, \\\"count\\\": 0}, {\\\"left\\\": 3.2074, \\\"right\\\": 3.4122, \\\"count\\\": 0}, {\\\"left\\\": 3.4122, \\\"right\\\": 3.617, \\\"count\\\": 0}, {\\\"left\\\": 3.617, \\\"right\\\": 3.8218, \\\"count\\\": 0}, {\\\"left\\\": 3.8218, \\\"right\\\": 4.0266, \\\"count\\\": 95}, {\\\"left\\\": 4.0266, \\\"right\\\": 4.2314, \\\"count\\\": 0}, {\\\"left\\\": 4.2314, \\\"right\\\": 4.4362, \\\"count\\\": 0}, {\\\"left\\\": 4.4362, \\\"right\\\": 4.641, \\\"count\\\": 0}, {\\\"left\\\": 4.641, \\\"right\\\": 4.8458, \\\"count\\\": 0}, {\\\"left\\\": 4.8458, \\\"right\\\": 5.0506, \\\"count\\\": 535}, {\\\"start\\\": 0.9546, \\\"stop\\\": 5.0506, \\\"step\\\": 0.2048}]}, {\\\"name\\\": \\\"counts\\\", \\\"source\\\": \\\"source_2\\\", \\\"transform\\\": [{\\\"type\\\": \\\"filter\\\", \\\"expr\\\": \\\"datum[\\\\\\\"missing\\\\\\\"] !== true &amp;&amp; datum[\\\\\\\"count\\\\\\\"] != null\\\"}]}, {\\\"name\\\": \\\"nulls\\\", \\\"source\\\": \\\"source_2\\\", \\\"transform\\\": [{\\\"expr\\\": \\\"datum[\\\\\\\"missing\\\\\\\"] === true &amp;&amp; datum[\\\\\\\"count\\\\\\\"] != null\\\", \\\"type\\\": \\\"filter\\\"}]}, {\\\"name\\\": \\\"bins_data\\\", \\\"source\\\": \\\"source_2\\\", \\\"transform\\\": [{\\\"expr\\\": \\\"datum[\\\\\\\"start\\\\\\\"] != null &amp;&amp; datum[\\\\\\\"stop\\\\\\\"] != null &amp;&amp; datum[\\\\\\\"step\\\\\\\"] != null\\\", \\\"type\\\": \\\"filter\\\"}]}], \\\"marks\\\": [{\\\"type\\\": \\\"rect\\\", \\\"from\\\": {\\\"data\\\": \\\"counts\\\"}, \\\"encode\\\": {\\\"update\\\": {\\\"x\\\": {\\\"scale\\\": \\\"xscale\\\", \\\"field\\\": \\\"left\\\", \\\"offset\\\": 1}, \\\"x2\\\": {\\\"scale\\\": \\\"xscale\\\", \\\"field\\\": \\\"right\\\"}, \\\"y\\\": {\\\"scale\\\": \\\"yscale\\\", \\\"field\\\": \\\"count\\\"}, \\\"y2\\\": {\\\"scale\\\": \\\"yscale\\\", \\\"value\\\": 0}, \\\"fill\\\": {\\\"value\\\": \\\"#108EE9\\\"}}, \\\"hover\\\": {\\\"fill\\\": {\\\"value\\\": \\\"#7EC2F3\\\"}}}}, {\\\"type\\\": \\\"rect\\\", \\\"from\\\": {\\\"data\\\": \\\"nulls\\\"}, \\\"encode\\\": {\\\"update\\\": {\\\"x\\\": {\\\"scale\\\": \\\"xscale-null\\\", \\\"value\\\": null, \\\"offset\\\": 1}, \\\"x2\\\": {\\\"scale\\\": \\\"xscale-null\\\", \\\"band\\\": 1}, \\\"y\\\": {\\\"scale\\\": \\\"yscale\\\", \\\"field\\\": \\\"count\\\"}, \\\"y2\\\": {\\\"scale\\\": \\\"yscale\\\", \\\"value\\\": 0}, \\\"fill\\\": {\\\"value\\\": \\\"#108EE9\\\"}}, \\\"hover\\\": {\\\"fill\\\": {\\\"value\\\": \\\"#7EC2F3\\\"}}}}], \\\"scales\\\": [{\\\"name\\\": \\\"yscale\\\", \\\"type\\\": \\\"linear\\\", \\\"range\\\": \\\"height\\\", \\\"round\\\": true, \\\"nice\\\": true, \\\"domain\\\": {\\\"fields\\\": [{\\\"data\\\": \\\"counts\\\", \\\"field\\\": \\\"count\\\"}, {\\\"data\\\": \\\"nulls\\\", \\\"field\\\": \\\"count\\\"}]}}, {\\\"name\\\": \\\"xscale\\\", \\\"type\\\": \\\"linear\\\", \\\"range\\\": [{\\\"signal\\\": \\\"nullGap ? barStep + nullGap : 0\\\"}, {\\\"signal\\\": \\\"width\\\"}], \\\"round\\\": true, \\\"domain\\\": {\\\"signal\\\": \\\"[bins.start, bins.stop]\\\"}, \\\"bins\\\": {\\\"signal\\\": \\\"bins\\\"}}, {\\\"name\\\": \\\"xscale-null\\\", \\\"type\\\": \\\"band\\\", \\\"range\\\": [{\\\"signal\\\": \\\"nullGap ? 0 : 1\\\"}, {\\\"signal\\\": \\\"nullGap ? barStep : 0\\\"}], \\\"round\\\": true, \\\"domain\\\": [{\\\"signal\\\": \\\"nullGap ? null : &apos;&apos;\\\"}]}], \\\"axes\\\": [{\\\"title\\\": \\\"Values\\\", \\\"orient\\\": \\\"bottom\\\", \\\"scale\\\": \\\"xscale\\\", \\\"tickMinStep\\\": 1, \\\"grid\\\": true}, {\\\"orient\\\": \\\"bottom\\\", \\\"scale\\\": \\\"xscale-null\\\"}, {\\\"title\\\": \\\"Count\\\", \\\"orient\\\": \\\"left\\\", \\\"scale\\\": \\\"yscale\\\", \\\"tickCount\\\": 5, \\\"offset\\\": {\\\"signal\\\": \\\"nullGap ? 5 : 0\\\"}, \\\"grid\\\": true}], \\\"config\\\": {\\\"axis\\\": {\\\"gridColor\\\": \\\"rgba(204,204,204,1.0)\\\", \\\"labelFont\\\": \\\"\\\\\\\"San Francisco\\\\\\\", HelveticaNeue, Arial\\\", \\\"labelFontSize\\\": 12, \\\"labelPadding\\\": 10, \\\"labelColor\\\": \\\"rgba(0,0,0,0.847)\\\", \\\"tickColor\\\": \\\"rgb(136,136,136)\\\", \\\"titleFont\\\": \\\"\\\\\\\"San Francisco\\\\\\\", HelveticaNeue, Arial\\\", \\\"titleFontWeight\\\": \\\"normal\\\", \\\"titlePadding\\\": 20, \\\"titleFontSize\\\": 14, \\\"titleColor\\\": \\\"rgba(0,0,0,0.847)\\\"}, \\\"axisY\\\": {\\\"minExtent\\\": 30}, \\\"legend\\\": {\\\"labelFont\\\": \\\"\\\\\\\"San Francisco\\\\\\\", HelveticaNeue, Arial\\\", \\\"labelColor\\\": \\\"rgba(0,0,0,0.847)\\\", \\\"titleFont\\\": \\\"\\\\\\\"San Francisco\\\\\\\", HelveticaNeue, Arial\\\", \\\"cornerRadius\\\": 30, \\\"gradientLength\\\": 608, \\\"titleColor\\\": \\\"rgba(0,0,0,0.847)\\\"}, \\\"range\\\": {\\\"heatmap\\\": {\\\"scheme\\\": \\\"greenblue\\\"}}, \\\"style\\\": {\\\"rect\\\": {\\\"stroke\\\": \\\"rgba(200, 200, 200, 0.5)\\\"}, \\\"cell\\\": {\\\"stroke\\\": \\\"transparent\\\"}, \\\"group-title\\\": {\\\"fontSize\\\": 29, \\\"font\\\": \\\"HelveticaNeue, Arial\\\", \\\"fontWeight\\\": \\\"normal\\\", \\\"fill\\\": \\\"rgba(0,0,0,0.65)\\\"}}, \\\"title\\\": {\\\"color\\\": \\\"rgba(0,0,0,0.847)\\\", \\\"font\\\": \\\"\\\\\\\"San Francisco\\\\\\\", HelveticaNeue, Arial\\\", \\\"fontSize\\\": 18, \\\"fontWeight\\\": \\\"normal\\\", \\\"offset\\\": 30}}}\";                                 var vega_json_parsed = JSON.parse(vega_json);                                 var toolTipOpts = {                                     showAllFields: true                                 };                                 if(vega_json_parsed[\"metadata\"] != null){                                     if(vega_json_parsed[\"metadata\"][\"bubbleOpts\"] != null){                                         toolTipOpts = vega_json_parsed[\"metadata\"][\"bubbleOpts\"];                                     };                                 };                                 vegaEmbed(\"#vis\", vega_json_parsed).then(function (result) {                                     vegaTooltip.vega(result.view, toolTipOpts);                                  });                             </script>                         </body>                     </html>' src=\"demo_iframe_srcdoc.htm\">                         <p>Your browser does not support iframes.</p>                     </iframe>                 </body>             </html>"
      ],
      "text/plain": [
       "<IPython.core.display.HTML object>"
      ]
     },
     "metadata": {},
     "output_type": "display_data"
    }
   ],
   "source": [
    "giraffe_reviews['rating'].show()"
   ]
  },
  {
   "cell_type": "markdown",
   "metadata": {},
   "source": [
    "# Building a sentiment classifier"
   ]
  },
  {
   "cell_type": "markdown",
   "metadata": {},
   "source": [
    "# Build word count vectors"
   ]
  },
  {
   "cell_type": "code",
   "execution_count": 189,
   "metadata": {},
   "outputs": [],
   "source": [
    "products['word_count'] = turicreate.text_analytics.count_words(products['review'])"
   ]
  },
  {
   "cell_type": "code",
   "execution_count": 190,
   "metadata": {},
   "outputs": [
    {
     "data": {
      "text/html": [
       "<div style=\"max-height:1000px;max-width:1500px;overflow:auto;\"><table frame=\"box\" rules=\"cols\">\n",
       "    <tr>\n",
       "        <th style=\"padding-left: 1em; padding-right: 1em; text-align: center\">name</th>\n",
       "        <th style=\"padding-left: 1em; padding-right: 1em; text-align: center\">review</th>\n",
       "        <th style=\"padding-left: 1em; padding-right: 1em; text-align: center\">rating</th>\n",
       "        <th style=\"padding-left: 1em; padding-right: 1em; text-align: center\">word_count</th>\n",
       "    </tr>\n",
       "    <tr>\n",
       "        <td style=\"padding-left: 1em; padding-right: 1em; text-align: center; vertical-align: top\">Planetwise Flannel Wipes</td>\n",
       "        <td style=\"padding-left: 1em; padding-right: 1em; text-align: center; vertical-align: top\">These flannel wipes are<br>OK, but in my opinion ...</td>\n",
       "        <td style=\"padding-left: 1em; padding-right: 1em; text-align: center; vertical-align: top\">3.0</td>\n",
       "        <td style=\"padding-left: 1em; padding-right: 1em; text-align: center; vertical-align: top\">{&#x27;handles&#x27;: 1.0,<br>&#x27;stripping&#x27;: 1.0, ...</td>\n",
       "    </tr>\n",
       "    <tr>\n",
       "        <td style=\"padding-left: 1em; padding-right: 1em; text-align: center; vertical-align: top\">Planetwise Wipe Pouch</td>\n",
       "        <td style=\"padding-left: 1em; padding-right: 1em; text-align: center; vertical-align: top\">it came early and was not<br>disappointed. i love ...</td>\n",
       "        <td style=\"padding-left: 1em; padding-right: 1em; text-align: center; vertical-align: top\">5.0</td>\n",
       "        <td style=\"padding-left: 1em; padding-right: 1em; text-align: center; vertical-align: top\">{&#x27;recommend&#x27;: 1.0,<br>&#x27;highly&#x27;: 1.0, ...</td>\n",
       "    </tr>\n",
       "    <tr>\n",
       "        <td style=\"padding-left: 1em; padding-right: 1em; text-align: center; vertical-align: top\">Annas Dream Full Quilt<br>with 2 Shams ...</td>\n",
       "        <td style=\"padding-left: 1em; padding-right: 1em; text-align: center; vertical-align: top\">Very soft and comfortable<br>and warmer than it ...</td>\n",
       "        <td style=\"padding-left: 1em; padding-right: 1em; text-align: center; vertical-align: top\">5.0</td>\n",
       "        <td style=\"padding-left: 1em; padding-right: 1em; text-align: center; vertical-align: top\">{&#x27;quilt&#x27;: 1.0, &#x27;of&#x27;: 1.0,<br>&#x27;the&#x27;: 1.0, &#x27;than&#x27;: 1.0, ...</td>\n",
       "    </tr>\n",
       "    <tr>\n",
       "        <td style=\"padding-left: 1em; padding-right: 1em; text-align: center; vertical-align: top\">Stop Pacifier Sucking<br>without tears with ...</td>\n",
       "        <td style=\"padding-left: 1em; padding-right: 1em; text-align: center; vertical-align: top\">This is a product well<br>worth the purchase.  I ...</td>\n",
       "        <td style=\"padding-left: 1em; padding-right: 1em; text-align: center; vertical-align: top\">5.0</td>\n",
       "        <td style=\"padding-left: 1em; padding-right: 1em; text-align: center; vertical-align: top\">{&#x27;tool&#x27;: 1.0, &#x27;clever&#x27;:<br>1.0, &#x27;approach&#x27;: 2.0, ...</td>\n",
       "    </tr>\n",
       "    <tr>\n",
       "        <td style=\"padding-left: 1em; padding-right: 1em; text-align: center; vertical-align: top\">Stop Pacifier Sucking<br>without tears with ...</td>\n",
       "        <td style=\"padding-left: 1em; padding-right: 1em; text-align: center; vertical-align: top\">All of my kids have cried<br>non-stop when I tried to ...</td>\n",
       "        <td style=\"padding-left: 1em; padding-right: 1em; text-align: center; vertical-align: top\">5.0</td>\n",
       "        <td style=\"padding-left: 1em; padding-right: 1em; text-align: center; vertical-align: top\">{&#x27;rock&#x27;: 1.0, &#x27;many&#x27;:<br>1.0, &#x27;headaches&#x27;: 1.0, ...</td>\n",
       "    </tr>\n",
       "    <tr>\n",
       "        <td style=\"padding-left: 1em; padding-right: 1em; text-align: center; vertical-align: top\">Stop Pacifier Sucking<br>without tears with ...</td>\n",
       "        <td style=\"padding-left: 1em; padding-right: 1em; text-align: center; vertical-align: top\">When the Binky Fairy came<br>to our house, we didn&#x27;t ...</td>\n",
       "        <td style=\"padding-left: 1em; padding-right: 1em; text-align: center; vertical-align: top\">5.0</td>\n",
       "        <td style=\"padding-left: 1em; padding-right: 1em; text-align: center; vertical-align: top\">{&#x27;thumb&#x27;: 1.0, &#x27;or&#x27;: 1.0,<br>&#x27;break&#x27;: 1.0, &#x27;trying&#x27;: ...</td>\n",
       "    </tr>\n",
       "    <tr>\n",
       "        <td style=\"padding-left: 1em; padding-right: 1em; text-align: center; vertical-align: top\">A Tale of Baby&#x27;s Days<br>with Peter Rabbit ...</td>\n",
       "        <td style=\"padding-left: 1em; padding-right: 1em; text-align: center; vertical-align: top\">Lovely book, it&#x27;s bound<br>tightly so you may no ...</td>\n",
       "        <td style=\"padding-left: 1em; padding-right: 1em; text-align: center; vertical-align: top\">4.0</td>\n",
       "        <td style=\"padding-left: 1em; padding-right: 1em; text-align: center; vertical-align: top\">{&#x27;for&#x27;: 1.0, &#x27;barnes&#x27;:<br>1.0, &#x27;at&#x27;: 1.0, &#x27;is&#x27;: ...</td>\n",
       "    </tr>\n",
       "    <tr>\n",
       "        <td style=\"padding-left: 1em; padding-right: 1em; text-align: center; vertical-align: top\">Baby Tracker&amp;reg; - Daily<br>Childcare Journal, ...</td>\n",
       "        <td style=\"padding-left: 1em; padding-right: 1em; text-align: center; vertical-align: top\">Perfect for new parents.<br>We were able to keep ...</td>\n",
       "        <td style=\"padding-left: 1em; padding-right: 1em; text-align: center; vertical-align: top\">5.0</td>\n",
       "        <td style=\"padding-left: 1em; padding-right: 1em; text-align: center; vertical-align: top\">{&#x27;right&#x27;: 1.0, &#x27;because&#x27;:<br>1.0, &#x27;questions&#x27;: 1.0, ...</td>\n",
       "    </tr>\n",
       "    <tr>\n",
       "        <td style=\"padding-left: 1em; padding-right: 1em; text-align: center; vertical-align: top\">Baby Tracker&amp;reg; - Daily<br>Childcare Journal, ...</td>\n",
       "        <td style=\"padding-left: 1em; padding-right: 1em; text-align: center; vertical-align: top\">A friend of mine pinned<br>this product on Pinte ...</td>\n",
       "        <td style=\"padding-left: 1em; padding-right: 1em; text-align: center; vertical-align: top\">5.0</td>\n",
       "        <td style=\"padding-left: 1em; padding-right: 1em; text-align: center; vertical-align: top\">{&#x27;like&#x27;: 1.0, &#x27;and&#x27;: 1.0,<br>&#x27;changes&#x27;: 1.0, &#x27;the&#x27;: ...</td>\n",
       "    </tr>\n",
       "    <tr>\n",
       "        <td style=\"padding-left: 1em; padding-right: 1em; text-align: center; vertical-align: top\">Baby Tracker&amp;reg; - Daily<br>Childcare Journal, ...</td>\n",
       "        <td style=\"padding-left: 1em; padding-right: 1em; text-align: center; vertical-align: top\">This has been an easy way<br>for my nanny to record ...</td>\n",
       "        <td style=\"padding-left: 1em; padding-right: 1em; text-align: center; vertical-align: top\">4.0</td>\n",
       "        <td style=\"padding-left: 1em; padding-right: 1em; text-align: center; vertical-align: top\">{&#x27;in&#x27;: 1.0, &#x27;pages&#x27;: 1.0,<br>&#x27;out&#x27;: 1.0, &#x27;run&#x27;: 1.0, ...</td>\n",
       "    </tr>\n",
       "</table>\n",
       "[183531 rows x 4 columns]<br/>Note: Only the head of the SFrame is printed.<br/>You can use print_rows(num_rows=m, num_columns=n) to print more rows and columns.\n",
       "</div>"
      ],
      "text/plain": [
       "Columns:\n",
       "\tname\tstr\n",
       "\treview\tstr\n",
       "\trating\tfloat\n",
       "\tword_count\tdict\n",
       "\n",
       "Rows: 183531\n",
       "\n",
       "Data:\n",
       "+-------------------------------+-------------------------------+--------+\n",
       "|              name             |             review            | rating |\n",
       "+-------------------------------+-------------------------------+--------+\n",
       "|    Planetwise Flannel Wipes   | These flannel wipes are OK... |  3.0   |\n",
       "|     Planetwise Wipe Pouch     | it came early and was not ... |  5.0   |\n",
       "| Annas Dream Full Quilt wit... | Very soft and comfortable ... |  5.0   |\n",
       "| Stop Pacifier Sucking with... | This is a product well wor... |  5.0   |\n",
       "| Stop Pacifier Sucking with... | All of my kids have cried ... |  5.0   |\n",
       "| Stop Pacifier Sucking with... | When the Binky Fairy came ... |  5.0   |\n",
       "| A Tale of Baby's Days with... | Lovely book, it's bound ti... |  4.0   |\n",
       "| Baby Tracker&reg; - Daily ... | Perfect for new parents. W... |  5.0   |\n",
       "| Baby Tracker&reg; - Daily ... | A friend of mine pinned th... |  5.0   |\n",
       "| Baby Tracker&reg; - Daily ... | This has been an easy way ... |  4.0   |\n",
       "+-------------------------------+-------------------------------+--------+\n",
       "+-------------------------------+\n",
       "|           word_count          |\n",
       "+-------------------------------+\n",
       "| {'handles': 1.0, 'strippin... |\n",
       "| {'recommend': 1.0, 'highly... |\n",
       "| {'quilt': 1.0, 'of': 1.0, ... |\n",
       "| {'tool': 1.0, 'clever': 1.... |\n",
       "| {'rock': 1.0, 'many': 1.0,... |\n",
       "| {'thumb': 1.0, 'or': 1.0, ... |\n",
       "| {'for': 1.0, 'barnes': 1.0... |\n",
       "| {'right': 1.0, 'because': ... |\n",
       "| {'like': 1.0, 'and': 1.0, ... |\n",
       "| {'in': 1.0, 'pages': 1.0, ... |\n",
       "+-------------------------------+\n",
       "[183531 rows x 4 columns]\n",
       "Note: Only the head of the SFrame is printed.\n",
       "You can use print_rows(num_rows=m, num_columns=n) to print more rows and columns."
      ]
     },
     "execution_count": 190,
     "metadata": {},
     "output_type": "execute_result"
    }
   ],
   "source": [
    "products"
   ]
  },
  {
   "cell_type": "markdown",
   "metadata": {},
   "source": [
    "# Define what is positive and negative sentiment"
   ]
  },
  {
   "cell_type": "code",
   "execution_count": 191,
   "metadata": {},
   "outputs": [
    {
     "data": {
      "text/html": [
       "<pre>Materializing SArray</pre>"
      ],
      "text/plain": [
       "Materializing SArray"
      ]
     },
     "metadata": {},
     "output_type": "display_data"
    },
    {
     "data": {
      "text/html": [
       "<html>                 <body>                     <iframe style=\"border:0;margin:0\" width=\"920\" height=\"770\" srcdoc='<html lang=\"en\">                         <head>                             <script src=\"https://cdnjs.cloudflare.com/ajax/libs/vega/5.4.0/vega.js\"></script>                             <script src=\"https://cdnjs.cloudflare.com/ajax/libs/vega-embed/4.0.0/vega-embed.js\"></script>                             <script src=\"https://cdnjs.cloudflare.com/ajax/libs/vega-tooltip/0.5.1/vega-tooltip.min.js\"></script>                             <link rel=\"stylesheet\" type=\"text/css\" href=\"https://cdnjs.cloudflare.com/ajax/libs/vega-tooltip/0.5.1/vega-tooltip.min.css\">                             <style>                             .vega-actions > a{                                 color:white;                                 text-decoration: none;                                 font-family: \"Arial\";                                 cursor:pointer;                                 padding:5px;                                 background:#AAAAAA;                                 border-radius:4px;                                 padding-left:10px;                                 padding-right:10px;                                 margin-right:5px;                             }                             .vega-actions{                                 margin-top:20px;                                 text-align:center                             }                            .vega-actions > a{                                 background:#999999;                            }                             </style>                         </head>                         <body>                             <div id=\"vis\">                             </div>                             <script>                                 var vega_json = \"{\\\"$schema\\\": \\\"https://vega.github.io/schema/vega/v4.json\\\", \\\"description\\\": \\\"A simple bar chart with embedded data.\\\", \\\"autosize\\\": {\\\"type\\\": \\\"fit\\\", \\\"resize\\\": false, \\\"contains\\\": \\\"padding\\\"}, \\\"width\\\": 720, \\\"height\\\": 550, \\\"padding\\\": 8, \\\"title\\\": \\\"Distribution of Values [float]\\\", \\\"style\\\": \\\"cell\\\", \\\"signals\\\": [{\\\"name\\\": \\\"bins\\\", \\\"update\\\": \\\"data(\\\\\\\"bins_data\\\\\\\")[0]\\\"}, {\\\"name\\\": \\\"binCount\\\", \\\"update\\\": \\\"(bins.stop - bins.start) / bins.step\\\"}, {\\\"name\\\": \\\"nullGap\\\", \\\"update\\\": \\\"data(\\\\\\\"nulls\\\\\\\").length ? 10 : 0\\\"}, {\\\"name\\\": \\\"barStep\\\", \\\"update\\\": \\\"(width - nullGap) / (1 + binCount)\\\"}], \\\"data\\\": [{\\\"name\\\": \\\"source_2\\\", \\\"values\\\": [{\\\"left\\\": 0.928, \\\"right\\\": 1.136, \\\"count\\\": 15183}, {\\\"left\\\": 1.136, \\\"right\\\": 1.344, \\\"count\\\": 0}, {\\\"left\\\": 1.344, \\\"right\\\": 1.552, \\\"count\\\": 0}, {\\\"left\\\": 1.552, \\\"right\\\": 1.76, \\\"count\\\": 0}, {\\\"left\\\": 1.76, \\\"right\\\": 1.968, \\\"count\\\": 0}, {\\\"left\\\": 1.968, \\\"right\\\": 2.176, \\\"count\\\": 11310}, {\\\"left\\\": 2.176, \\\"right\\\": 2.384, \\\"count\\\": 0}, {\\\"left\\\": 2.384, \\\"right\\\": 2.592, \\\"count\\\": 0}, {\\\"left\\\": 2.592, \\\"right\\\": 2.8, \\\"count\\\": 0}, {\\\"left\\\": 2.8, \\\"right\\\": 3.008, \\\"count\\\": 16779}, {\\\"left\\\": 3.008, \\\"right\\\": 3.216, \\\"count\\\": 0}, {\\\"left\\\": 3.216, \\\"right\\\": 3.424, \\\"count\\\": 0}, {\\\"left\\\": 3.424, \\\"right\\\": 3.632, \\\"count\\\": 0}, {\\\"left\\\": 3.632, \\\"right\\\": 3.84, \\\"count\\\": 0}, {\\\"left\\\": 3.84, \\\"right\\\": 4.048, \\\"count\\\": 33205}, {\\\"left\\\": 4.048, \\\"right\\\": 4.256, \\\"count\\\": 0}, {\\\"left\\\": 4.256, \\\"right\\\": 4.464, \\\"count\\\": 0}, {\\\"left\\\": 4.464, \\\"right\\\": 4.672, \\\"count\\\": 0}, {\\\"left\\\": 4.672, \\\"right\\\": 4.88, \\\"count\\\": 0}, {\\\"left\\\": 4.88, \\\"right\\\": 5.088, \\\"count\\\": 107054}, {\\\"start\\\": 0.928, \\\"stop\\\": 5.088, \\\"step\\\": 0.208}]}, {\\\"name\\\": \\\"counts\\\", \\\"source\\\": \\\"source_2\\\", \\\"transform\\\": [{\\\"type\\\": \\\"filter\\\", \\\"expr\\\": \\\"datum[\\\\\\\"missing\\\\\\\"] !== true &amp;&amp; datum[\\\\\\\"count\\\\\\\"] != null\\\"}]}, {\\\"name\\\": \\\"nulls\\\", \\\"source\\\": \\\"source_2\\\", \\\"transform\\\": [{\\\"expr\\\": \\\"datum[\\\\\\\"missing\\\\\\\"] === true &amp;&amp; datum[\\\\\\\"count\\\\\\\"] != null\\\", \\\"type\\\": \\\"filter\\\"}]}, {\\\"name\\\": \\\"bins_data\\\", \\\"source\\\": \\\"source_2\\\", \\\"transform\\\": [{\\\"expr\\\": \\\"datum[\\\\\\\"start\\\\\\\"] != null &amp;&amp; datum[\\\\\\\"stop\\\\\\\"] != null &amp;&amp; datum[\\\\\\\"step\\\\\\\"] != null\\\", \\\"type\\\": \\\"filter\\\"}]}], \\\"marks\\\": [{\\\"type\\\": \\\"rect\\\", \\\"from\\\": {\\\"data\\\": \\\"counts\\\"}, \\\"encode\\\": {\\\"update\\\": {\\\"x\\\": {\\\"scale\\\": \\\"xscale\\\", \\\"field\\\": \\\"left\\\", \\\"offset\\\": 1}, \\\"x2\\\": {\\\"scale\\\": \\\"xscale\\\", \\\"field\\\": \\\"right\\\"}, \\\"y\\\": {\\\"scale\\\": \\\"yscale\\\", \\\"field\\\": \\\"count\\\"}, \\\"y2\\\": {\\\"scale\\\": \\\"yscale\\\", \\\"value\\\": 0}, \\\"fill\\\": {\\\"value\\\": \\\"#108EE9\\\"}}, \\\"hover\\\": {\\\"fill\\\": {\\\"value\\\": \\\"#7EC2F3\\\"}}}}, {\\\"type\\\": \\\"rect\\\", \\\"from\\\": {\\\"data\\\": \\\"nulls\\\"}, \\\"encode\\\": {\\\"update\\\": {\\\"x\\\": {\\\"scale\\\": \\\"xscale-null\\\", \\\"value\\\": null, \\\"offset\\\": 1}, \\\"x2\\\": {\\\"scale\\\": \\\"xscale-null\\\", \\\"band\\\": 1}, \\\"y\\\": {\\\"scale\\\": \\\"yscale\\\", \\\"field\\\": \\\"count\\\"}, \\\"y2\\\": {\\\"scale\\\": \\\"yscale\\\", \\\"value\\\": 0}, \\\"fill\\\": {\\\"value\\\": \\\"#108EE9\\\"}}, \\\"hover\\\": {\\\"fill\\\": {\\\"value\\\": \\\"#7EC2F3\\\"}}}}], \\\"scales\\\": [{\\\"name\\\": \\\"yscale\\\", \\\"type\\\": \\\"linear\\\", \\\"range\\\": \\\"height\\\", \\\"round\\\": true, \\\"nice\\\": true, \\\"domain\\\": {\\\"fields\\\": [{\\\"data\\\": \\\"counts\\\", \\\"field\\\": \\\"count\\\"}, {\\\"data\\\": \\\"nulls\\\", \\\"field\\\": \\\"count\\\"}]}}, {\\\"name\\\": \\\"xscale\\\", \\\"type\\\": \\\"linear\\\", \\\"range\\\": [{\\\"signal\\\": \\\"nullGap ? barStep + nullGap : 0\\\"}, {\\\"signal\\\": \\\"width\\\"}], \\\"round\\\": true, \\\"domain\\\": {\\\"signal\\\": \\\"[bins.start, bins.stop]\\\"}, \\\"bins\\\": {\\\"signal\\\": \\\"bins\\\"}}, {\\\"name\\\": \\\"xscale-null\\\", \\\"type\\\": \\\"band\\\", \\\"range\\\": [{\\\"signal\\\": \\\"nullGap ? 0 : 1\\\"}, {\\\"signal\\\": \\\"nullGap ? barStep : 0\\\"}], \\\"round\\\": true, \\\"domain\\\": [{\\\"signal\\\": \\\"nullGap ? null : &apos;&apos;\\\"}]}], \\\"axes\\\": [{\\\"title\\\": \\\"Values\\\", \\\"orient\\\": \\\"bottom\\\", \\\"scale\\\": \\\"xscale\\\", \\\"tickMinStep\\\": 1, \\\"grid\\\": true}, {\\\"orient\\\": \\\"bottom\\\", \\\"scale\\\": \\\"xscale-null\\\"}, {\\\"title\\\": \\\"Count\\\", \\\"orient\\\": \\\"left\\\", \\\"scale\\\": \\\"yscale\\\", \\\"tickCount\\\": 5, \\\"offset\\\": {\\\"signal\\\": \\\"nullGap ? 5 : 0\\\"}, \\\"grid\\\": true}], \\\"config\\\": {\\\"axis\\\": {\\\"gridColor\\\": \\\"rgba(204,204,204,1.0)\\\", \\\"labelFont\\\": \\\"\\\\\\\"San Francisco\\\\\\\", HelveticaNeue, Arial\\\", \\\"labelFontSize\\\": 12, \\\"labelPadding\\\": 10, \\\"labelColor\\\": \\\"rgba(0,0,0,0.847)\\\", \\\"tickColor\\\": \\\"rgb(136,136,136)\\\", \\\"titleFont\\\": \\\"\\\\\\\"San Francisco\\\\\\\", HelveticaNeue, Arial\\\", \\\"titleFontWeight\\\": \\\"normal\\\", \\\"titlePadding\\\": 20, \\\"titleFontSize\\\": 14, \\\"titleColor\\\": \\\"rgba(0,0,0,0.847)\\\"}, \\\"axisY\\\": {\\\"minExtent\\\": 30}, \\\"legend\\\": {\\\"labelFont\\\": \\\"\\\\\\\"San Francisco\\\\\\\", HelveticaNeue, Arial\\\", \\\"labelColor\\\": \\\"rgba(0,0,0,0.847)\\\", \\\"titleFont\\\": \\\"\\\\\\\"San Francisco\\\\\\\", HelveticaNeue, Arial\\\", \\\"cornerRadius\\\": 30, \\\"gradientLength\\\": 608, \\\"titleColor\\\": \\\"rgba(0,0,0,0.847)\\\"}, \\\"range\\\": {\\\"heatmap\\\": {\\\"scheme\\\": \\\"greenblue\\\"}}, \\\"style\\\": {\\\"rect\\\": {\\\"stroke\\\": \\\"rgba(200, 200, 200, 0.5)\\\"}, \\\"cell\\\": {\\\"stroke\\\": \\\"transparent\\\"}, \\\"group-title\\\": {\\\"fontSize\\\": 29, \\\"font\\\": \\\"HelveticaNeue, Arial\\\", \\\"fontWeight\\\": \\\"normal\\\", \\\"fill\\\": \\\"rgba(0,0,0,0.65)\\\"}}, \\\"title\\\": {\\\"color\\\": \\\"rgba(0,0,0,0.847)\\\", \\\"font\\\": \\\"\\\\\\\"San Francisco\\\\\\\", HelveticaNeue, Arial\\\", \\\"fontSize\\\": 18, \\\"fontWeight\\\": \\\"normal\\\", \\\"offset\\\": 30}}}\";                                 var vega_json_parsed = JSON.parse(vega_json);                                 var toolTipOpts = {                                     showAllFields: true                                 };                                 if(vega_json_parsed[\"metadata\"] != null){                                     if(vega_json_parsed[\"metadata\"][\"bubbleOpts\"] != null){                                         toolTipOpts = vega_json_parsed[\"metadata\"][\"bubbleOpts\"];                                     };                                 };                                 vegaEmbed(\"#vis\", vega_json_parsed).then(function (result) {                                     vegaTooltip.vega(result.view, toolTipOpts);                                  });                             </script>                         </body>                     </html>' src=\"demo_iframe_srcdoc.htm\">                         <p>Your browser does not support iframes.</p>                     </iframe>                 </body>             </html>"
      ],
      "text/plain": [
       "<IPython.core.display.HTML object>"
      ]
     },
     "metadata": {},
     "output_type": "display_data"
    }
   ],
   "source": [
    "products['rating'].show()"
   ]
  },
  {
   "cell_type": "code",
   "execution_count": 192,
   "metadata": {},
   "outputs": [],
   "source": [
    "products = products[products['rating']!=3]"
   ]
  },
  {
   "cell_type": "code",
   "execution_count": 193,
   "metadata": {},
   "outputs": [],
   "source": [
    "products['sentiment'] = products['rating'] >=4"
   ]
  },
  {
   "cell_type": "code",
   "execution_count": 194,
   "metadata": {},
   "outputs": [
    {
     "data": {
      "text/html": [
       "<div style=\"max-height:1000px;max-width:1500px;overflow:auto;\"><table frame=\"box\" rules=\"cols\">\n",
       "    <tr>\n",
       "        <th style=\"padding-left: 1em; padding-right: 1em; text-align: center\">name</th>\n",
       "        <th style=\"padding-left: 1em; padding-right: 1em; text-align: center\">review</th>\n",
       "        <th style=\"padding-left: 1em; padding-right: 1em; text-align: center\">rating</th>\n",
       "        <th style=\"padding-left: 1em; padding-right: 1em; text-align: center\">word_count</th>\n",
       "        <th style=\"padding-left: 1em; padding-right: 1em; text-align: center\">sentiment</th>\n",
       "    </tr>\n",
       "    <tr>\n",
       "        <td style=\"padding-left: 1em; padding-right: 1em; text-align: center; vertical-align: top\">Planetwise Wipe Pouch</td>\n",
       "        <td style=\"padding-left: 1em; padding-right: 1em; text-align: center; vertical-align: top\">it came early and was not<br>disappointed. i love ...</td>\n",
       "        <td style=\"padding-left: 1em; padding-right: 1em; text-align: center; vertical-align: top\">5.0</td>\n",
       "        <td style=\"padding-left: 1em; padding-right: 1em; text-align: center; vertical-align: top\">{&#x27;recommend&#x27;: 1.0,<br>&#x27;highly&#x27;: 1.0, ...</td>\n",
       "        <td style=\"padding-left: 1em; padding-right: 1em; text-align: center; vertical-align: top\">1</td>\n",
       "    </tr>\n",
       "    <tr>\n",
       "        <td style=\"padding-left: 1em; padding-right: 1em; text-align: center; vertical-align: top\">Annas Dream Full Quilt<br>with 2 Shams ...</td>\n",
       "        <td style=\"padding-left: 1em; padding-right: 1em; text-align: center; vertical-align: top\">Very soft and comfortable<br>and warmer than it ...</td>\n",
       "        <td style=\"padding-left: 1em; padding-right: 1em; text-align: center; vertical-align: top\">5.0</td>\n",
       "        <td style=\"padding-left: 1em; padding-right: 1em; text-align: center; vertical-align: top\">{&#x27;quilt&#x27;: 1.0, &#x27;of&#x27;: 1.0,<br>&#x27;the&#x27;: 1.0, &#x27;than&#x27;: 1.0, ...</td>\n",
       "        <td style=\"padding-left: 1em; padding-right: 1em; text-align: center; vertical-align: top\">1</td>\n",
       "    </tr>\n",
       "    <tr>\n",
       "        <td style=\"padding-left: 1em; padding-right: 1em; text-align: center; vertical-align: top\">Stop Pacifier Sucking<br>without tears with ...</td>\n",
       "        <td style=\"padding-left: 1em; padding-right: 1em; text-align: center; vertical-align: top\">This is a product well<br>worth the purchase.  I ...</td>\n",
       "        <td style=\"padding-left: 1em; padding-right: 1em; text-align: center; vertical-align: top\">5.0</td>\n",
       "        <td style=\"padding-left: 1em; padding-right: 1em; text-align: center; vertical-align: top\">{&#x27;tool&#x27;: 1.0, &#x27;clever&#x27;:<br>1.0, &#x27;approach&#x27;: 2.0, ...</td>\n",
       "        <td style=\"padding-left: 1em; padding-right: 1em; text-align: center; vertical-align: top\">1</td>\n",
       "    </tr>\n",
       "    <tr>\n",
       "        <td style=\"padding-left: 1em; padding-right: 1em; text-align: center; vertical-align: top\">Stop Pacifier Sucking<br>without tears with ...</td>\n",
       "        <td style=\"padding-left: 1em; padding-right: 1em; text-align: center; vertical-align: top\">All of my kids have cried<br>non-stop when I tried to ...</td>\n",
       "        <td style=\"padding-left: 1em; padding-right: 1em; text-align: center; vertical-align: top\">5.0</td>\n",
       "        <td style=\"padding-left: 1em; padding-right: 1em; text-align: center; vertical-align: top\">{&#x27;rock&#x27;: 1.0, &#x27;many&#x27;:<br>1.0, &#x27;headaches&#x27;: 1.0, ...</td>\n",
       "        <td style=\"padding-left: 1em; padding-right: 1em; text-align: center; vertical-align: top\">1</td>\n",
       "    </tr>\n",
       "    <tr>\n",
       "        <td style=\"padding-left: 1em; padding-right: 1em; text-align: center; vertical-align: top\">Stop Pacifier Sucking<br>without tears with ...</td>\n",
       "        <td style=\"padding-left: 1em; padding-right: 1em; text-align: center; vertical-align: top\">When the Binky Fairy came<br>to our house, we didn&#x27;t ...</td>\n",
       "        <td style=\"padding-left: 1em; padding-right: 1em; text-align: center; vertical-align: top\">5.0</td>\n",
       "        <td style=\"padding-left: 1em; padding-right: 1em; text-align: center; vertical-align: top\">{&#x27;thumb&#x27;: 1.0, &#x27;or&#x27;: 1.0,<br>&#x27;break&#x27;: 1.0, &#x27;trying&#x27;: ...</td>\n",
       "        <td style=\"padding-left: 1em; padding-right: 1em; text-align: center; vertical-align: top\">1</td>\n",
       "    </tr>\n",
       "    <tr>\n",
       "        <td style=\"padding-left: 1em; padding-right: 1em; text-align: center; vertical-align: top\">A Tale of Baby&#x27;s Days<br>with Peter Rabbit ...</td>\n",
       "        <td style=\"padding-left: 1em; padding-right: 1em; text-align: center; vertical-align: top\">Lovely book, it&#x27;s bound<br>tightly so you may no ...</td>\n",
       "        <td style=\"padding-left: 1em; padding-right: 1em; text-align: center; vertical-align: top\">4.0</td>\n",
       "        <td style=\"padding-left: 1em; padding-right: 1em; text-align: center; vertical-align: top\">{&#x27;for&#x27;: 1.0, &#x27;barnes&#x27;:<br>1.0, &#x27;at&#x27;: 1.0, &#x27;is&#x27;: ...</td>\n",
       "        <td style=\"padding-left: 1em; padding-right: 1em; text-align: center; vertical-align: top\">1</td>\n",
       "    </tr>\n",
       "    <tr>\n",
       "        <td style=\"padding-left: 1em; padding-right: 1em; text-align: center; vertical-align: top\">Baby Tracker&amp;reg; - Daily<br>Childcare Journal, ...</td>\n",
       "        <td style=\"padding-left: 1em; padding-right: 1em; text-align: center; vertical-align: top\">Perfect for new parents.<br>We were able to keep ...</td>\n",
       "        <td style=\"padding-left: 1em; padding-right: 1em; text-align: center; vertical-align: top\">5.0</td>\n",
       "        <td style=\"padding-left: 1em; padding-right: 1em; text-align: center; vertical-align: top\">{&#x27;right&#x27;: 1.0, &#x27;because&#x27;:<br>1.0, &#x27;questions&#x27;: 1.0, ...</td>\n",
       "        <td style=\"padding-left: 1em; padding-right: 1em; text-align: center; vertical-align: top\">1</td>\n",
       "    </tr>\n",
       "    <tr>\n",
       "        <td style=\"padding-left: 1em; padding-right: 1em; text-align: center; vertical-align: top\">Baby Tracker&amp;reg; - Daily<br>Childcare Journal, ...</td>\n",
       "        <td style=\"padding-left: 1em; padding-right: 1em; text-align: center; vertical-align: top\">A friend of mine pinned<br>this product on Pinte ...</td>\n",
       "        <td style=\"padding-left: 1em; padding-right: 1em; text-align: center; vertical-align: top\">5.0</td>\n",
       "        <td style=\"padding-left: 1em; padding-right: 1em; text-align: center; vertical-align: top\">{&#x27;like&#x27;: 1.0, &#x27;and&#x27;: 1.0,<br>&#x27;changes&#x27;: 1.0, &#x27;the&#x27;: ...</td>\n",
       "        <td style=\"padding-left: 1em; padding-right: 1em; text-align: center; vertical-align: top\">1</td>\n",
       "    </tr>\n",
       "    <tr>\n",
       "        <td style=\"padding-left: 1em; padding-right: 1em; text-align: center; vertical-align: top\">Baby Tracker&amp;reg; - Daily<br>Childcare Journal, ...</td>\n",
       "        <td style=\"padding-left: 1em; padding-right: 1em; text-align: center; vertical-align: top\">This has been an easy way<br>for my nanny to record ...</td>\n",
       "        <td style=\"padding-left: 1em; padding-right: 1em; text-align: center; vertical-align: top\">4.0</td>\n",
       "        <td style=\"padding-left: 1em; padding-right: 1em; text-align: center; vertical-align: top\">{&#x27;in&#x27;: 1.0, &#x27;pages&#x27;: 1.0,<br>&#x27;out&#x27;: 1.0, &#x27;run&#x27;: 1.0, ...</td>\n",
       "        <td style=\"padding-left: 1em; padding-right: 1em; text-align: center; vertical-align: top\">1</td>\n",
       "    </tr>\n",
       "    <tr>\n",
       "        <td style=\"padding-left: 1em; padding-right: 1em; text-align: center; vertical-align: top\">Baby Tracker&amp;reg; - Daily<br>Childcare Journal, ...</td>\n",
       "        <td style=\"padding-left: 1em; padding-right: 1em; text-align: center; vertical-align: top\">I love this journal and<br>our nanny uses it ...</td>\n",
       "        <td style=\"padding-left: 1em; padding-right: 1em; text-align: center; vertical-align: top\">4.0</td>\n",
       "        <td style=\"padding-left: 1em; padding-right: 1em; text-align: center; vertical-align: top\">{&#x27;tracker&#x27;: 1.0, &#x27;now&#x27;:<br>1.0, &#x27;its&#x27;: 1.0, &#x27;sti ...</td>\n",
       "        <td style=\"padding-left: 1em; padding-right: 1em; text-align: center; vertical-align: top\">1</td>\n",
       "    </tr>\n",
       "</table>\n",
       "[166752 rows x 5 columns]<br/>Note: Only the head of the SFrame is printed.<br/>You can use print_rows(num_rows=m, num_columns=n) to print more rows and columns.\n",
       "</div>"
      ],
      "text/plain": [
       "Columns:\n",
       "\tname\tstr\n",
       "\treview\tstr\n",
       "\trating\tfloat\n",
       "\tword_count\tdict\n",
       "\tsentiment\tint\n",
       "\n",
       "Rows: 166752\n",
       "\n",
       "Data:\n",
       "+-------------------------------+-------------------------------+--------+\n",
       "|              name             |             review            | rating |\n",
       "+-------------------------------+-------------------------------+--------+\n",
       "|     Planetwise Wipe Pouch     | it came early and was not ... |  5.0   |\n",
       "| Annas Dream Full Quilt wit... | Very soft and comfortable ... |  5.0   |\n",
       "| Stop Pacifier Sucking with... | This is a product well wor... |  5.0   |\n",
       "| Stop Pacifier Sucking with... | All of my kids have cried ... |  5.0   |\n",
       "| Stop Pacifier Sucking with... | When the Binky Fairy came ... |  5.0   |\n",
       "| A Tale of Baby's Days with... | Lovely book, it's bound ti... |  4.0   |\n",
       "| Baby Tracker&reg; - Daily ... | Perfect for new parents. W... |  5.0   |\n",
       "| Baby Tracker&reg; - Daily ... | A friend of mine pinned th... |  5.0   |\n",
       "| Baby Tracker&reg; - Daily ... | This has been an easy way ... |  4.0   |\n",
       "| Baby Tracker&reg; - Daily ... | I love this journal and ou... |  4.0   |\n",
       "+-------------------------------+-------------------------------+--------+\n",
       "+-------------------------------+-----------+\n",
       "|           word_count          | sentiment |\n",
       "+-------------------------------+-----------+\n",
       "| {'recommend': 1.0, 'highly... |     1     |\n",
       "| {'quilt': 1.0, 'of': 1.0, ... |     1     |\n",
       "| {'tool': 1.0, 'clever': 1.... |     1     |\n",
       "| {'rock': 1.0, 'many': 1.0,... |     1     |\n",
       "| {'thumb': 1.0, 'or': 1.0, ... |     1     |\n",
       "| {'for': 1.0, 'barnes': 1.0... |     1     |\n",
       "| {'right': 1.0, 'because': ... |     1     |\n",
       "| {'like': 1.0, 'and': 1.0, ... |     1     |\n",
       "| {'in': 1.0, 'pages': 1.0, ... |     1     |\n",
       "| {'tracker': 1.0, 'now': 1.... |     1     |\n",
       "+-------------------------------+-----------+\n",
       "[166752 rows x 5 columns]\n",
       "Note: Only the head of the SFrame is printed.\n",
       "You can use print_rows(num_rows=m, num_columns=n) to print more rows and columns."
      ]
     },
     "execution_count": 194,
     "metadata": {},
     "output_type": "execute_result"
    }
   ],
   "source": [
    "products"
   ]
  },
  {
   "cell_type": "code",
   "execution_count": 195,
   "metadata": {},
   "outputs": [
    {
     "data": {
      "text/html": [
       "<pre>Materializing SArray</pre>"
      ],
      "text/plain": [
       "Materializing SArray"
      ]
     },
     "metadata": {},
     "output_type": "display_data"
    },
    {
     "data": {
      "text/html": [
       "<html>                 <body>                     <iframe style=\"border:0;margin:0\" width=\"920\" height=\"770\" srcdoc='<html lang=\"en\">                         <head>                             <script src=\"https://cdnjs.cloudflare.com/ajax/libs/vega/5.4.0/vega.js\"></script>                             <script src=\"https://cdnjs.cloudflare.com/ajax/libs/vega-embed/4.0.0/vega-embed.js\"></script>                             <script src=\"https://cdnjs.cloudflare.com/ajax/libs/vega-tooltip/0.5.1/vega-tooltip.min.js\"></script>                             <link rel=\"stylesheet\" type=\"text/css\" href=\"https://cdnjs.cloudflare.com/ajax/libs/vega-tooltip/0.5.1/vega-tooltip.min.css\">                             <style>                             .vega-actions > a{                                 color:white;                                 text-decoration: none;                                 font-family: \"Arial\";                                 cursor:pointer;                                 padding:5px;                                 background:#AAAAAA;                                 border-radius:4px;                                 padding-left:10px;                                 padding-right:10px;                                 margin-right:5px;                             }                             .vega-actions{                                 margin-top:20px;                                 text-align:center                             }                            .vega-actions > a{                                 background:#999999;                            }                             </style>                         </head>                         <body>                             <div id=\"vis\">                             </div>                             <script>                                 var vega_json = \"{\\\"$schema\\\": \\\"https://vega.github.io/schema/vega/v4.json\\\", \\\"description\\\": \\\"A simple bar chart with embedded data.\\\", \\\"autosize\\\": {\\\"type\\\": \\\"fit\\\", \\\"resize\\\": false, \\\"contains\\\": \\\"padding\\\"}, \\\"width\\\": 720, \\\"height\\\": 550, \\\"padding\\\": 8, \\\"title\\\": \\\"Distribution of Values [integer]\\\", \\\"style\\\": \\\"cell\\\", \\\"signals\\\": [{\\\"name\\\": \\\"bins\\\", \\\"update\\\": \\\"data(\\\\\\\"bins_data\\\\\\\")[0]\\\"}, {\\\"name\\\": \\\"binCount\\\", \\\"update\\\": \\\"(bins.stop - bins.start) / bins.step\\\"}, {\\\"name\\\": \\\"nullGap\\\", \\\"update\\\": \\\"data(\\\\\\\"nulls\\\\\\\").length ? 10 : 0\\\"}, {\\\"name\\\": \\\"barStep\\\", \\\"update\\\": \\\"(width - nullGap) / (1 + binCount)\\\"}], \\\"data\\\": [{\\\"name\\\": \\\"source_2\\\", \\\"values\\\": [{\\\"left\\\": -9, \\\"right\\\": -8, \\\"count\\\": 0}, {\\\"left\\\": -8, \\\"right\\\": -7, \\\"count\\\": 0}, {\\\"left\\\": -7, \\\"right\\\": -6, \\\"count\\\": 0}, {\\\"left\\\": -6, \\\"right\\\": -5, \\\"count\\\": 0}, {\\\"left\\\": -5, \\\"right\\\": -4, \\\"count\\\": 0}, {\\\"left\\\": -4, \\\"right\\\": -3, \\\"count\\\": 0}, {\\\"left\\\": -3, \\\"right\\\": -2, \\\"count\\\": 0}, {\\\"left\\\": -2, \\\"right\\\": -1, \\\"count\\\": 0}, {\\\"left\\\": -1, \\\"right\\\": 0, \\\"count\\\": 0}, {\\\"left\\\": 0, \\\"right\\\": 1, \\\"count\\\": 26493}, {\\\"left\\\": 1, \\\"right\\\": 2, \\\"count\\\": 140259}, {\\\"left\\\": 2, \\\"right\\\": 3, \\\"count\\\": 0}, {\\\"left\\\": 3, \\\"right\\\": 4, \\\"count\\\": 0}, {\\\"left\\\": 4, \\\"right\\\": 5, \\\"count\\\": 0}, {\\\"left\\\": 5, \\\"right\\\": 6, \\\"count\\\": 0}, {\\\"left\\\": 6, \\\"right\\\": 7, \\\"count\\\": 0}, {\\\"left\\\": 7, \\\"right\\\": 8, \\\"count\\\": 0}, {\\\"left\\\": 8, \\\"right\\\": 9, \\\"count\\\": 0}, {\\\"left\\\": 9, \\\"right\\\": 10, \\\"count\\\": 0}, {\\\"left\\\": 10, \\\"right\\\": 11, \\\"count\\\": 0}, {\\\"start\\\": -9, \\\"stop\\\": 11, \\\"step\\\": 1}]}, {\\\"name\\\": \\\"counts\\\", \\\"source\\\": \\\"source_2\\\", \\\"transform\\\": [{\\\"type\\\": \\\"filter\\\", \\\"expr\\\": \\\"datum[\\\\\\\"missing\\\\\\\"] !== true &amp;&amp; datum[\\\\\\\"count\\\\\\\"] != null\\\"}]}, {\\\"name\\\": \\\"nulls\\\", \\\"source\\\": \\\"source_2\\\", \\\"transform\\\": [{\\\"expr\\\": \\\"datum[\\\\\\\"missing\\\\\\\"] === true &amp;&amp; datum[\\\\\\\"count\\\\\\\"] != null\\\", \\\"type\\\": \\\"filter\\\"}]}, {\\\"name\\\": \\\"bins_data\\\", \\\"source\\\": \\\"source_2\\\", \\\"transform\\\": [{\\\"expr\\\": \\\"datum[\\\\\\\"start\\\\\\\"] != null &amp;&amp; datum[\\\\\\\"stop\\\\\\\"] != null &amp;&amp; datum[\\\\\\\"step\\\\\\\"] != null\\\", \\\"type\\\": \\\"filter\\\"}]}], \\\"marks\\\": [{\\\"type\\\": \\\"rect\\\", \\\"from\\\": {\\\"data\\\": \\\"counts\\\"}, \\\"encode\\\": {\\\"update\\\": {\\\"x\\\": {\\\"scale\\\": \\\"xscale\\\", \\\"field\\\": \\\"left\\\", \\\"offset\\\": 1}, \\\"x2\\\": {\\\"scale\\\": \\\"xscale\\\", \\\"field\\\": \\\"right\\\"}, \\\"y\\\": {\\\"scale\\\": \\\"yscale\\\", \\\"field\\\": \\\"count\\\"}, \\\"y2\\\": {\\\"scale\\\": \\\"yscale\\\", \\\"value\\\": 0}, \\\"fill\\\": {\\\"value\\\": \\\"#108EE9\\\"}}, \\\"hover\\\": {\\\"fill\\\": {\\\"value\\\": \\\"#7EC2F3\\\"}}}}, {\\\"type\\\": \\\"rect\\\", \\\"from\\\": {\\\"data\\\": \\\"nulls\\\"}, \\\"encode\\\": {\\\"update\\\": {\\\"x\\\": {\\\"scale\\\": \\\"xscale-null\\\", \\\"value\\\": null, \\\"offset\\\": 1}, \\\"x2\\\": {\\\"scale\\\": \\\"xscale-null\\\", \\\"band\\\": 1}, \\\"y\\\": {\\\"scale\\\": \\\"yscale\\\", \\\"field\\\": \\\"count\\\"}, \\\"y2\\\": {\\\"scale\\\": \\\"yscale\\\", \\\"value\\\": 0}, \\\"fill\\\": {\\\"value\\\": \\\"#108EE9\\\"}}, \\\"hover\\\": {\\\"fill\\\": {\\\"value\\\": \\\"#7EC2F3\\\"}}}}], \\\"scales\\\": [{\\\"name\\\": \\\"yscale\\\", \\\"type\\\": \\\"linear\\\", \\\"range\\\": \\\"height\\\", \\\"round\\\": true, \\\"nice\\\": true, \\\"domain\\\": {\\\"fields\\\": [{\\\"data\\\": \\\"counts\\\", \\\"field\\\": \\\"count\\\"}, {\\\"data\\\": \\\"nulls\\\", \\\"field\\\": \\\"count\\\"}]}}, {\\\"name\\\": \\\"xscale\\\", \\\"type\\\": \\\"linear\\\", \\\"range\\\": [{\\\"signal\\\": \\\"nullGap ? barStep + nullGap : 0\\\"}, {\\\"signal\\\": \\\"width\\\"}], \\\"round\\\": true, \\\"domain\\\": {\\\"signal\\\": \\\"[bins.start, bins.stop]\\\"}, \\\"bins\\\": {\\\"signal\\\": \\\"bins\\\"}}, {\\\"name\\\": \\\"xscale-null\\\", \\\"type\\\": \\\"band\\\", \\\"range\\\": [{\\\"signal\\\": \\\"nullGap ? 0 : 1\\\"}, {\\\"signal\\\": \\\"nullGap ? barStep : 0\\\"}], \\\"round\\\": true, \\\"domain\\\": [{\\\"signal\\\": \\\"nullGap ? null : &apos;&apos;\\\"}]}], \\\"axes\\\": [{\\\"title\\\": \\\"Values\\\", \\\"orient\\\": \\\"bottom\\\", \\\"scale\\\": \\\"xscale\\\", \\\"tickMinStep\\\": 1, \\\"grid\\\": true}, {\\\"orient\\\": \\\"bottom\\\", \\\"scale\\\": \\\"xscale-null\\\"}, {\\\"title\\\": \\\"Count\\\", \\\"orient\\\": \\\"left\\\", \\\"scale\\\": \\\"yscale\\\", \\\"tickCount\\\": 5, \\\"offset\\\": {\\\"signal\\\": \\\"nullGap ? 5 : 0\\\"}, \\\"grid\\\": true}], \\\"config\\\": {\\\"axis\\\": {\\\"gridColor\\\": \\\"rgba(204,204,204,1.0)\\\", \\\"labelFont\\\": \\\"\\\\\\\"San Francisco\\\\\\\", HelveticaNeue, Arial\\\", \\\"labelFontSize\\\": 12, \\\"labelPadding\\\": 10, \\\"labelColor\\\": \\\"rgba(0,0,0,0.847)\\\", \\\"tickColor\\\": \\\"rgb(136,136,136)\\\", \\\"titleFont\\\": \\\"\\\\\\\"San Francisco\\\\\\\", HelveticaNeue, Arial\\\", \\\"titleFontWeight\\\": \\\"normal\\\", \\\"titlePadding\\\": 20, \\\"titleFontSize\\\": 14, \\\"titleColor\\\": \\\"rgba(0,0,0,0.847)\\\"}, \\\"axisY\\\": {\\\"minExtent\\\": 30}, \\\"legend\\\": {\\\"labelFont\\\": \\\"\\\\\\\"San Francisco\\\\\\\", HelveticaNeue, Arial\\\", \\\"labelColor\\\": \\\"rgba(0,0,0,0.847)\\\", \\\"titleFont\\\": \\\"\\\\\\\"San Francisco\\\\\\\", HelveticaNeue, Arial\\\", \\\"cornerRadius\\\": 30, \\\"gradientLength\\\": 608, \\\"titleColor\\\": \\\"rgba(0,0,0,0.847)\\\"}, \\\"range\\\": {\\\"heatmap\\\": {\\\"scheme\\\": \\\"greenblue\\\"}}, \\\"style\\\": {\\\"rect\\\": {\\\"stroke\\\": \\\"rgba(200, 200, 200, 0.5)\\\"}, \\\"cell\\\": {\\\"stroke\\\": \\\"transparent\\\"}, \\\"group-title\\\": {\\\"fontSize\\\": 29, \\\"font\\\": \\\"HelveticaNeue, Arial\\\", \\\"fontWeight\\\": \\\"normal\\\", \\\"fill\\\": \\\"rgba(0,0,0,0.65)\\\"}}, \\\"title\\\": {\\\"color\\\": \\\"rgba(0,0,0,0.847)\\\", \\\"font\\\": \\\"\\\\\\\"San Francisco\\\\\\\", HelveticaNeue, Arial\\\", \\\"fontSize\\\": 18, \\\"fontWeight\\\": \\\"normal\\\", \\\"offset\\\": 30}}}\";                                 var vega_json_parsed = JSON.parse(vega_json);                                 var toolTipOpts = {                                     showAllFields: true                                 };                                 if(vega_json_parsed[\"metadata\"] != null){                                     if(vega_json_parsed[\"metadata\"][\"bubbleOpts\"] != null){                                         toolTipOpts = vega_json_parsed[\"metadata\"][\"bubbleOpts\"];                                     };                                 };                                 vegaEmbed(\"#vis\", vega_json_parsed).then(function (result) {                                     vegaTooltip.vega(result.view, toolTipOpts);                                  });                             </script>                         </body>                     </html>' src=\"demo_iframe_srcdoc.htm\">                         <p>Your browser does not support iframes.</p>                     </iframe>                 </body>             </html>"
      ],
      "text/plain": [
       "<IPython.core.display.HTML object>"
      ]
     },
     "metadata": {},
     "output_type": "display_data"
    }
   ],
   "source": [
    "products['sentiment'].show()"
   ]
  },
  {
   "cell_type": "markdown",
   "metadata": {},
   "source": [
    "# Train our sentiment classifier"
   ]
  },
  {
   "cell_type": "code",
   "execution_count": 196,
   "metadata": {},
   "outputs": [],
   "source": [
    "train_data,test_data = products.random_split(.8,seed=0)"
   ]
  },
  {
   "cell_type": "code",
   "execution_count": 197,
   "metadata": {},
   "outputs": [
    {
     "data": {
      "text/html": [
       "<pre>Logistic regression:</pre>"
      ],
      "text/plain": [
       "Logistic regression:"
      ]
     },
     "metadata": {},
     "output_type": "display_data"
    },
    {
     "data": {
      "text/html": [
       "<pre>--------------------------------------------------------</pre>"
      ],
      "text/plain": [
       "--------------------------------------------------------"
      ]
     },
     "metadata": {},
     "output_type": "display_data"
    },
    {
     "data": {
      "text/html": [
       "<pre>Number of examples          : 133448</pre>"
      ],
      "text/plain": [
       "Number of examples          : 133448"
      ]
     },
     "metadata": {},
     "output_type": "display_data"
    },
    {
     "data": {
      "text/html": [
       "<pre>Number of classes           : 2</pre>"
      ],
      "text/plain": [
       "Number of classes           : 2"
      ]
     },
     "metadata": {},
     "output_type": "display_data"
    },
    {
     "data": {
      "text/html": [
       "<pre>Number of feature columns   : 1</pre>"
      ],
      "text/plain": [
       "Number of feature columns   : 1"
      ]
     },
     "metadata": {},
     "output_type": "display_data"
    },
    {
     "data": {
      "text/html": [
       "<pre>Number of unpacked features : 57356</pre>"
      ],
      "text/plain": [
       "Number of unpacked features : 57356"
      ]
     },
     "metadata": {},
     "output_type": "display_data"
    },
    {
     "data": {
      "text/html": [
       "<pre>Number of coefficients      : 57357</pre>"
      ],
      "text/plain": [
       "Number of coefficients      : 57357"
      ]
     },
     "metadata": {},
     "output_type": "display_data"
    },
    {
     "data": {
      "text/html": [
       "<pre>Starting L-BFGS</pre>"
      ],
      "text/plain": [
       "Starting L-BFGS"
      ]
     },
     "metadata": {},
     "output_type": "display_data"
    },
    {
     "data": {
      "text/html": [
       "<pre>--------------------------------------------------------</pre>"
      ],
      "text/plain": [
       "--------------------------------------------------------"
      ]
     },
     "metadata": {},
     "output_type": "display_data"
    },
    {
     "data": {
      "text/html": [
       "<pre>+-----------+----------+-----------+--------------+-------------------+---------------------+</pre>"
      ],
      "text/plain": [
       "+-----------+----------+-----------+--------------+-------------------+---------------------+"
      ]
     },
     "metadata": {},
     "output_type": "display_data"
    },
    {
     "data": {
      "text/html": [
       "<pre>| Iteration | Passes   | Step size | Elapsed Time | Training Accuracy | Validation Accuracy |</pre>"
      ],
      "text/plain": [
       "| Iteration | Passes   | Step size | Elapsed Time | Training Accuracy | Validation Accuracy |"
      ]
     },
     "metadata": {},
     "output_type": "display_data"
    },
    {
     "data": {
      "text/html": [
       "<pre>+-----------+----------+-----------+--------------+-------------------+---------------------+</pre>"
      ],
      "text/plain": [
       "+-----------+----------+-----------+--------------+-------------------+---------------------+"
      ]
     },
     "metadata": {},
     "output_type": "display_data"
    },
    {
     "data": {
      "text/html": [
       "<pre>| 0         | 4        | 0.250000  | 1.142439     | 0.841421          | 0.840019            |</pre>"
      ],
      "text/plain": [
       "| 0         | 4        | 0.250000  | 1.142439     | 0.841421          | 0.840019            |"
      ]
     },
     "metadata": {},
     "output_type": "display_data"
    },
    {
     "data": {
      "text/html": [
       "<pre>| 1         | 9        | 3.250000  | 2.515067     | 0.931359          | 0.911362            |</pre>"
      ],
      "text/plain": [
       "| 1         | 9        | 3.250000  | 2.515067     | 0.931359          | 0.911362            |"
      ]
     },
     "metadata": {},
     "output_type": "display_data"
    },
    {
     "data": {
      "text/html": [
       "<pre>| 2         | 11       | 2.669978  | 3.172049     | 0.938650          | 0.916466            |</pre>"
      ],
      "text/plain": [
       "| 2         | 11       | 2.669978  | 3.172049     | 0.938650          | 0.916466            |"
      ]
     },
     "metadata": {},
     "output_type": "display_data"
    },
    {
     "data": {
      "text/html": [
       "<pre>| 3         | 12       | 2.669978  | 3.558382     | 0.927417          | 0.901814            |</pre>"
      ],
      "text/plain": [
       "| 3         | 12       | 2.669978  | 3.558382     | 0.927417          | 0.901814            |"
      ]
     },
     "metadata": {},
     "output_type": "display_data"
    },
    {
     "data": {
      "text/html": [
       "<pre>| 4         | 14       | 1.326072  | 4.219452     | 0.945200          | 0.918088            |</pre>"
      ],
      "text/plain": [
       "| 4         | 14       | 1.326072  | 4.219452     | 0.945200          | 0.918088            |"
      ]
     },
     "metadata": {},
     "output_type": "display_data"
    },
    {
     "data": {
      "text/html": [
       "<pre>| 9         | 20       | 1.326072  | 6.528937     | 0.977654          | 0.917698            |</pre>"
      ],
      "text/plain": [
       "| 9         | 20       | 1.326072  | 6.528937     | 0.977654          | 0.917698            |"
      ]
     },
     "metadata": {},
     "output_type": "display_data"
    },
    {
     "data": {
      "text/html": [
       "<pre>+-----------+----------+-----------+--------------+-------------------+---------------------+</pre>"
      ],
      "text/plain": [
       "+-----------+----------+-----------+--------------+-------------------+---------------------+"
      ]
     },
     "metadata": {},
     "output_type": "display_data"
    }
   ],
   "source": [
    "sentiment_model = turicreate.logistic_classifier.create(train_data,target='sentiment',features=['word_count'],validation_set=test_data)"
   ]
  },
  {
   "cell_type": "markdown",
   "metadata": {},
   "source": [
    "# Apply the sentiment classifier to better understand the giraffe reviews"
   ]
  },
  {
   "cell_type": "code",
   "execution_count": 198,
   "metadata": {},
   "outputs": [],
   "source": [
    "products['predicted_sentiment'] = sentiment_model.predict(products,output_type='probability')"
   ]
  },
  {
   "cell_type": "code",
   "execution_count": 199,
   "metadata": {},
   "outputs": [
    {
     "data": {
      "text/html": [
       "<div style=\"max-height:1000px;max-width:1500px;overflow:auto;\"><table frame=\"box\" rules=\"cols\">\n",
       "    <tr>\n",
       "        <th style=\"padding-left: 1em; padding-right: 1em; text-align: center\">name</th>\n",
       "        <th style=\"padding-left: 1em; padding-right: 1em; text-align: center\">review</th>\n",
       "        <th style=\"padding-left: 1em; padding-right: 1em; text-align: center\">rating</th>\n",
       "        <th style=\"padding-left: 1em; padding-right: 1em; text-align: center\">word_count</th>\n",
       "        <th style=\"padding-left: 1em; padding-right: 1em; text-align: center\">sentiment</th>\n",
       "    </tr>\n",
       "    <tr>\n",
       "        <td style=\"padding-left: 1em; padding-right: 1em; text-align: center; vertical-align: top\">Planetwise Wipe Pouch</td>\n",
       "        <td style=\"padding-left: 1em; padding-right: 1em; text-align: center; vertical-align: top\">it came early and was not<br>disappointed. i love ...</td>\n",
       "        <td style=\"padding-left: 1em; padding-right: 1em; text-align: center; vertical-align: top\">5.0</td>\n",
       "        <td style=\"padding-left: 1em; padding-right: 1em; text-align: center; vertical-align: top\">{&#x27;recommend&#x27;: 1.0,<br>&#x27;highly&#x27;: 1.0, ...</td>\n",
       "        <td style=\"padding-left: 1em; padding-right: 1em; text-align: center; vertical-align: top\">1</td>\n",
       "    </tr>\n",
       "    <tr>\n",
       "        <td style=\"padding-left: 1em; padding-right: 1em; text-align: center; vertical-align: top\">Annas Dream Full Quilt<br>with 2 Shams ...</td>\n",
       "        <td style=\"padding-left: 1em; padding-right: 1em; text-align: center; vertical-align: top\">Very soft and comfortable<br>and warmer than it ...</td>\n",
       "        <td style=\"padding-left: 1em; padding-right: 1em; text-align: center; vertical-align: top\">5.0</td>\n",
       "        <td style=\"padding-left: 1em; padding-right: 1em; text-align: center; vertical-align: top\">{&#x27;quilt&#x27;: 1.0, &#x27;of&#x27;: 1.0,<br>&#x27;the&#x27;: 1.0, &#x27;than&#x27;: 1.0, ...</td>\n",
       "        <td style=\"padding-left: 1em; padding-right: 1em; text-align: center; vertical-align: top\">1</td>\n",
       "    </tr>\n",
       "    <tr>\n",
       "        <td style=\"padding-left: 1em; padding-right: 1em; text-align: center; vertical-align: top\">Stop Pacifier Sucking<br>without tears with ...</td>\n",
       "        <td style=\"padding-left: 1em; padding-right: 1em; text-align: center; vertical-align: top\">This is a product well<br>worth the purchase.  I ...</td>\n",
       "        <td style=\"padding-left: 1em; padding-right: 1em; text-align: center; vertical-align: top\">5.0</td>\n",
       "        <td style=\"padding-left: 1em; padding-right: 1em; text-align: center; vertical-align: top\">{&#x27;tool&#x27;: 1.0, &#x27;clever&#x27;:<br>1.0, &#x27;approach&#x27;: 2.0, ...</td>\n",
       "        <td style=\"padding-left: 1em; padding-right: 1em; text-align: center; vertical-align: top\">1</td>\n",
       "    </tr>\n",
       "    <tr>\n",
       "        <td style=\"padding-left: 1em; padding-right: 1em; text-align: center; vertical-align: top\">Stop Pacifier Sucking<br>without tears with ...</td>\n",
       "        <td style=\"padding-left: 1em; padding-right: 1em; text-align: center; vertical-align: top\">All of my kids have cried<br>non-stop when I tried to ...</td>\n",
       "        <td style=\"padding-left: 1em; padding-right: 1em; text-align: center; vertical-align: top\">5.0</td>\n",
       "        <td style=\"padding-left: 1em; padding-right: 1em; text-align: center; vertical-align: top\">{&#x27;rock&#x27;: 1.0, &#x27;many&#x27;:<br>1.0, &#x27;headaches&#x27;: 1.0, ...</td>\n",
       "        <td style=\"padding-left: 1em; padding-right: 1em; text-align: center; vertical-align: top\">1</td>\n",
       "    </tr>\n",
       "    <tr>\n",
       "        <td style=\"padding-left: 1em; padding-right: 1em; text-align: center; vertical-align: top\">Stop Pacifier Sucking<br>without tears with ...</td>\n",
       "        <td style=\"padding-left: 1em; padding-right: 1em; text-align: center; vertical-align: top\">When the Binky Fairy came<br>to our house, we didn&#x27;t ...</td>\n",
       "        <td style=\"padding-left: 1em; padding-right: 1em; text-align: center; vertical-align: top\">5.0</td>\n",
       "        <td style=\"padding-left: 1em; padding-right: 1em; text-align: center; vertical-align: top\">{&#x27;thumb&#x27;: 1.0, &#x27;or&#x27;: 1.0,<br>&#x27;break&#x27;: 1.0, &#x27;trying&#x27;: ...</td>\n",
       "        <td style=\"padding-left: 1em; padding-right: 1em; text-align: center; vertical-align: top\">1</td>\n",
       "    </tr>\n",
       "    <tr>\n",
       "        <td style=\"padding-left: 1em; padding-right: 1em; text-align: center; vertical-align: top\">A Tale of Baby&#x27;s Days<br>with Peter Rabbit ...</td>\n",
       "        <td style=\"padding-left: 1em; padding-right: 1em; text-align: center; vertical-align: top\">Lovely book, it&#x27;s bound<br>tightly so you may no ...</td>\n",
       "        <td style=\"padding-left: 1em; padding-right: 1em; text-align: center; vertical-align: top\">4.0</td>\n",
       "        <td style=\"padding-left: 1em; padding-right: 1em; text-align: center; vertical-align: top\">{&#x27;for&#x27;: 1.0, &#x27;barnes&#x27;:<br>1.0, &#x27;at&#x27;: 1.0, &#x27;is&#x27;: ...</td>\n",
       "        <td style=\"padding-left: 1em; padding-right: 1em; text-align: center; vertical-align: top\">1</td>\n",
       "    </tr>\n",
       "    <tr>\n",
       "        <td style=\"padding-left: 1em; padding-right: 1em; text-align: center; vertical-align: top\">Baby Tracker&amp;reg; - Daily<br>Childcare Journal, ...</td>\n",
       "        <td style=\"padding-left: 1em; padding-right: 1em; text-align: center; vertical-align: top\">Perfect for new parents.<br>We were able to keep ...</td>\n",
       "        <td style=\"padding-left: 1em; padding-right: 1em; text-align: center; vertical-align: top\">5.0</td>\n",
       "        <td style=\"padding-left: 1em; padding-right: 1em; text-align: center; vertical-align: top\">{&#x27;right&#x27;: 1.0, &#x27;because&#x27;:<br>1.0, &#x27;questions&#x27;: 1.0, ...</td>\n",
       "        <td style=\"padding-left: 1em; padding-right: 1em; text-align: center; vertical-align: top\">1</td>\n",
       "    </tr>\n",
       "    <tr>\n",
       "        <td style=\"padding-left: 1em; padding-right: 1em; text-align: center; vertical-align: top\">Baby Tracker&amp;reg; - Daily<br>Childcare Journal, ...</td>\n",
       "        <td style=\"padding-left: 1em; padding-right: 1em; text-align: center; vertical-align: top\">A friend of mine pinned<br>this product on Pinte ...</td>\n",
       "        <td style=\"padding-left: 1em; padding-right: 1em; text-align: center; vertical-align: top\">5.0</td>\n",
       "        <td style=\"padding-left: 1em; padding-right: 1em; text-align: center; vertical-align: top\">{&#x27;like&#x27;: 1.0, &#x27;and&#x27;: 1.0,<br>&#x27;changes&#x27;: 1.0, &#x27;the&#x27;: ...</td>\n",
       "        <td style=\"padding-left: 1em; padding-right: 1em; text-align: center; vertical-align: top\">1</td>\n",
       "    </tr>\n",
       "    <tr>\n",
       "        <td style=\"padding-left: 1em; padding-right: 1em; text-align: center; vertical-align: top\">Baby Tracker&amp;reg; - Daily<br>Childcare Journal, ...</td>\n",
       "        <td style=\"padding-left: 1em; padding-right: 1em; text-align: center; vertical-align: top\">This has been an easy way<br>for my nanny to record ...</td>\n",
       "        <td style=\"padding-left: 1em; padding-right: 1em; text-align: center; vertical-align: top\">4.0</td>\n",
       "        <td style=\"padding-left: 1em; padding-right: 1em; text-align: center; vertical-align: top\">{&#x27;in&#x27;: 1.0, &#x27;pages&#x27;: 1.0,<br>&#x27;out&#x27;: 1.0, &#x27;run&#x27;: 1.0, ...</td>\n",
       "        <td style=\"padding-left: 1em; padding-right: 1em; text-align: center; vertical-align: top\">1</td>\n",
       "    </tr>\n",
       "    <tr>\n",
       "        <td style=\"padding-left: 1em; padding-right: 1em; text-align: center; vertical-align: top\">Baby Tracker&amp;reg; - Daily<br>Childcare Journal, ...</td>\n",
       "        <td style=\"padding-left: 1em; padding-right: 1em; text-align: center; vertical-align: top\">I love this journal and<br>our nanny uses it ...</td>\n",
       "        <td style=\"padding-left: 1em; padding-right: 1em; text-align: center; vertical-align: top\">4.0</td>\n",
       "        <td style=\"padding-left: 1em; padding-right: 1em; text-align: center; vertical-align: top\">{&#x27;tracker&#x27;: 1.0, &#x27;now&#x27;:<br>1.0, &#x27;its&#x27;: 1.0, &#x27;sti ...</td>\n",
       "        <td style=\"padding-left: 1em; padding-right: 1em; text-align: center; vertical-align: top\">1</td>\n",
       "    </tr>\n",
       "</table>\n",
       "<table frame=\"box\" rules=\"cols\">\n",
       "    <tr>\n",
       "        <th style=\"padding-left: 1em; padding-right: 1em; text-align: center\">predicted_sentiment</th>\n",
       "    </tr>\n",
       "    <tr>\n",
       "        <td style=\"padding-left: 1em; padding-right: 1em; text-align: center; vertical-align: top\">0.9997307390047108</td>\n",
       "    </tr>\n",
       "    <tr>\n",
       "        <td style=\"padding-left: 1em; padding-right: 1em; text-align: center; vertical-align: top\">0.9985083368316828</td>\n",
       "    </tr>\n",
       "    <tr>\n",
       "        <td style=\"padding-left: 1em; padding-right: 1em; text-align: center; vertical-align: top\">0.9997489042499907</td>\n",
       "    </tr>\n",
       "    <tr>\n",
       "        <td style=\"padding-left: 1em; padding-right: 1em; text-align: center; vertical-align: top\">0.9999916625399978</td>\n",
       "    </tr>\n",
       "    <tr>\n",
       "        <td style=\"padding-left: 1em; padding-right: 1em; text-align: center; vertical-align: top\">0.9999999514462167</td>\n",
       "    </tr>\n",
       "    <tr>\n",
       "        <td style=\"padding-left: 1em; padding-right: 1em; text-align: center; vertical-align: top\">0.9999146735569922</td>\n",
       "    </tr>\n",
       "    <tr>\n",
       "        <td style=\"padding-left: 1em; padding-right: 1em; text-align: center; vertical-align: top\">0.9999916615904655</td>\n",
       "    </tr>\n",
       "    <tr>\n",
       "        <td style=\"padding-left: 1em; padding-right: 1em; text-align: center; vertical-align: top\">0.999993884359401</td>\n",
       "    </tr>\n",
       "    <tr>\n",
       "        <td style=\"padding-left: 1em; padding-right: 1em; text-align: center; vertical-align: top\">0.9961247617005233</td>\n",
       "    </tr>\n",
       "    <tr>\n",
       "        <td style=\"padding-left: 1em; padding-right: 1em; text-align: center; vertical-align: top\">0.9999999920460633</td>\n",
       "    </tr>\n",
       "</table>\n",
       "[166752 rows x 6 columns]<br/>Note: Only the head of the SFrame is printed.<br/>You can use print_rows(num_rows=m, num_columns=n) to print more rows and columns.\n",
       "</div>"
      ],
      "text/plain": [
       "Columns:\n",
       "\tname\tstr\n",
       "\treview\tstr\n",
       "\trating\tfloat\n",
       "\tword_count\tdict\n",
       "\tsentiment\tint\n",
       "\tpredicted_sentiment\tfloat\n",
       "\n",
       "Rows: 166752\n",
       "\n",
       "Data:\n",
       "+-------------------------------+-------------------------------+--------+\n",
       "|              name             |             review            | rating |\n",
       "+-------------------------------+-------------------------------+--------+\n",
       "|     Planetwise Wipe Pouch     | it came early and was not ... |  5.0   |\n",
       "| Annas Dream Full Quilt wit... | Very soft and comfortable ... |  5.0   |\n",
       "| Stop Pacifier Sucking with... | This is a product well wor... |  5.0   |\n",
       "| Stop Pacifier Sucking with... | All of my kids have cried ... |  5.0   |\n",
       "| Stop Pacifier Sucking with... | When the Binky Fairy came ... |  5.0   |\n",
       "| A Tale of Baby's Days with... | Lovely book, it's bound ti... |  4.0   |\n",
       "| Baby Tracker&reg; - Daily ... | Perfect for new parents. W... |  5.0   |\n",
       "| Baby Tracker&reg; - Daily ... | A friend of mine pinned th... |  5.0   |\n",
       "| Baby Tracker&reg; - Daily ... | This has been an easy way ... |  4.0   |\n",
       "| Baby Tracker&reg; - Daily ... | I love this journal and ou... |  4.0   |\n",
       "+-------------------------------+-------------------------------+--------+\n",
       "+-------------------------------+-----------+---------------------+\n",
       "|           word_count          | sentiment | predicted_sentiment |\n",
       "+-------------------------------+-----------+---------------------+\n",
       "| {'recommend': 1.0, 'highly... |     1     |  0.9997307390047108 |\n",
       "| {'quilt': 1.0, 'of': 1.0, ... |     1     |  0.9985083368316828 |\n",
       "| {'tool': 1.0, 'clever': 1.... |     1     |  0.9997489042499907 |\n",
       "| {'rock': 1.0, 'many': 1.0,... |     1     |  0.9999916625399978 |\n",
       "| {'thumb': 1.0, 'or': 1.0, ... |     1     |  0.9999999514462167 |\n",
       "| {'for': 1.0, 'barnes': 1.0... |     1     |  0.9999146735569922 |\n",
       "| {'right': 1.0, 'because': ... |     1     |  0.9999916615904655 |\n",
       "| {'like': 1.0, 'and': 1.0, ... |     1     |  0.999993884359401  |\n",
       "| {'in': 1.0, 'pages': 1.0, ... |     1     |  0.9961247617005233 |\n",
       "| {'tracker': 1.0, 'now': 1.... |     1     |  0.9999999920460633 |\n",
       "+-------------------------------+-----------+---------------------+\n",
       "[166752 rows x 6 columns]\n",
       "Note: Only the head of the SFrame is printed.\n",
       "You can use print_rows(num_rows=m, num_columns=n) to print more rows and columns."
      ]
     },
     "execution_count": 199,
     "metadata": {},
     "output_type": "execute_result"
    }
   ],
   "source": [
    "products"
   ]
  },
  {
   "cell_type": "code",
   "execution_count": 200,
   "metadata": {},
   "outputs": [],
   "source": [
    "giraffe_reviews = products[products['name']=='Vulli Sophie the Giraffe Teether']"
   ]
  },
  {
   "cell_type": "code",
   "execution_count": 201,
   "metadata": {},
   "outputs": [
    {
     "data": {
      "text/html": [
       "<div style=\"max-height:1000px;max-width:1500px;overflow:auto;\"><table frame=\"box\" rules=\"cols\">\n",
       "    <tr>\n",
       "        <th style=\"padding-left: 1em; padding-right: 1em; text-align: center\">name</th>\n",
       "        <th style=\"padding-left: 1em; padding-right: 1em; text-align: center\">review</th>\n",
       "        <th style=\"padding-left: 1em; padding-right: 1em; text-align: center\">rating</th>\n",
       "        <th style=\"padding-left: 1em; padding-right: 1em; text-align: center\">word_count</th>\n",
       "        <th style=\"padding-left: 1em; padding-right: 1em; text-align: center\">sentiment</th>\n",
       "    </tr>\n",
       "    <tr>\n",
       "        <td style=\"padding-left: 1em; padding-right: 1em; text-align: center; vertical-align: top\">Vulli Sophie the Giraffe<br>Teether ...</td>\n",
       "        <td style=\"padding-left: 1em; padding-right: 1em; text-align: center; vertical-align: top\">He likes chewing on all<br>the parts especially the ...</td>\n",
       "        <td style=\"padding-left: 1em; padding-right: 1em; text-align: center; vertical-align: top\">5.0</td>\n",
       "        <td style=\"padding-left: 1em; padding-right: 1em; text-align: center; vertical-align: top\">{&#x27;purchase&#x27;: 1.0,<br>&#x27;teething&#x27;: 1.0, ...</td>\n",
       "        <td style=\"padding-left: 1em; padding-right: 1em; text-align: center; vertical-align: top\">1</td>\n",
       "    </tr>\n",
       "    <tr>\n",
       "        <td style=\"padding-left: 1em; padding-right: 1em; text-align: center; vertical-align: top\">Vulli Sophie the Giraffe<br>Teether ...</td>\n",
       "        <td style=\"padding-left: 1em; padding-right: 1em; text-align: center; vertical-align: top\">My son loves this toy and<br>fits great in the diaper ...</td>\n",
       "        <td style=\"padding-left: 1em; padding-right: 1em; text-align: center; vertical-align: top\">5.0</td>\n",
       "        <td style=\"padding-left: 1em; padding-right: 1em; text-align: center; vertical-align: top\">{&#x27;a&#x27;: 1.0, &#x27;is&#x27;: 1.0,<br>&#x27;when&#x27;: 1.0, &#x27;him&#x27;: 1.0, ...</td>\n",
       "        <td style=\"padding-left: 1em; padding-right: 1em; text-align: center; vertical-align: top\">1</td>\n",
       "    </tr>\n",
       "    <tr>\n",
       "        <td style=\"padding-left: 1em; padding-right: 1em; text-align: center; vertical-align: top\">Vulli Sophie the Giraffe<br>Teether ...</td>\n",
       "        <td style=\"padding-left: 1em; padding-right: 1em; text-align: center; vertical-align: top\">There really should be a<br>large warning on the  ...</td>\n",
       "        <td style=\"padding-left: 1em; padding-right: 1em; text-align: center; vertical-align: top\">1.0</td>\n",
       "        <td style=\"padding-left: 1em; padding-right: 1em; text-align: center; vertical-align: top\">{&#x27;made&#x27;: 1.0, &#x27;of&#x27;: 1.0,<br>&#x27;packaging&#x27;: 1.0, &#x27;no&#x27;: ...</td>\n",
       "        <td style=\"padding-left: 1em; padding-right: 1em; text-align: center; vertical-align: top\">0</td>\n",
       "    </tr>\n",
       "    <tr>\n",
       "        <td style=\"padding-left: 1em; padding-right: 1em; text-align: center; vertical-align: top\">Vulli Sophie the Giraffe<br>Teether ...</td>\n",
       "        <td style=\"padding-left: 1em; padding-right: 1em; text-align: center; vertical-align: top\">All the moms in my moms&#x27;<br>group got Sophie for ...</td>\n",
       "        <td style=\"padding-left: 1em; padding-right: 1em; text-align: center; vertical-align: top\">5.0</td>\n",
       "        <td style=\"padding-left: 1em; padding-right: 1em; text-align: center; vertical-align: top\">{&#x27;another&#x27;: 1.0, &#x27;out&#x27;:<br>1.0, &#x27;run&#x27;: 1.0, &#x27;lost&#x27;: ...</td>\n",
       "        <td style=\"padding-left: 1em; padding-right: 1em; text-align: center; vertical-align: top\">1</td>\n",
       "    </tr>\n",
       "    <tr>\n",
       "        <td style=\"padding-left: 1em; padding-right: 1em; text-align: center; vertical-align: top\">Vulli Sophie the Giraffe<br>Teether ...</td>\n",
       "        <td style=\"padding-left: 1em; padding-right: 1em; text-align: center; vertical-align: top\">I was a little skeptical<br>on whether Sophie was ...</td>\n",
       "        <td style=\"padding-left: 1em; padding-right: 1em; text-align: center; vertical-align: top\">5.0</td>\n",
       "        <td style=\"padding-left: 1em; padding-right: 1em; text-align: center; vertical-align: top\">{&#x27;disappointed&#x27;: 1.0,<br>&#x27;will&#x27;: 1.0, &#x27;take&#x27;:  ...</td>\n",
       "        <td style=\"padding-left: 1em; padding-right: 1em; text-align: center; vertical-align: top\">1</td>\n",
       "    </tr>\n",
       "    <tr>\n",
       "        <td style=\"padding-left: 1em; padding-right: 1em; text-align: center; vertical-align: top\">Vulli Sophie the Giraffe<br>Teether ...</td>\n",
       "        <td style=\"padding-left: 1em; padding-right: 1em; text-align: center; vertical-align: top\">I have been reading about<br>Sophie and was going  ...</td>\n",
       "        <td style=\"padding-left: 1em; padding-right: 1em; text-align: center; vertical-align: top\">5.0</td>\n",
       "        <td style=\"padding-left: 1em; padding-right: 1em; text-align: center; vertical-align: top\">{&#x27;late&#x27;: 1.0, &#x27;perfect&#x27;:<br>1.0, &#x27;pack&#x27;: 1.0, &#x27;on ...</td>\n",
       "        <td style=\"padding-left: 1em; padding-right: 1em; text-align: center; vertical-align: top\">1</td>\n",
       "    </tr>\n",
       "    <tr>\n",
       "        <td style=\"padding-left: 1em; padding-right: 1em; text-align: center; vertical-align: top\">Vulli Sophie the Giraffe<br>Teether ...</td>\n",
       "        <td style=\"padding-left: 1em; padding-right: 1em; text-align: center; vertical-align: top\">My neice loves her sophie<br>and has spent hours ...</td>\n",
       "        <td style=\"padding-left: 1em; padding-right: 1em; text-align: center; vertical-align: top\">5.0</td>\n",
       "        <td style=\"padding-left: 1em; padding-right: 1em; text-align: center; vertical-align: top\">{&#x27;delight&#x27;: 1.0, &#x27;in&#x27;:<br>1.0, &#x27;other&#x27;: 1.0, ...</td>\n",
       "        <td style=\"padding-left: 1em; padding-right: 1em; text-align: center; vertical-align: top\">1</td>\n",
       "    </tr>\n",
       "    <tr>\n",
       "        <td style=\"padding-left: 1em; padding-right: 1em; text-align: center; vertical-align: top\">Vulli Sophie the Giraffe<br>Teether ...</td>\n",
       "        <td style=\"padding-left: 1em; padding-right: 1em; text-align: center; vertical-align: top\">What a friendly face!<br>And those mesmerizing ...</td>\n",
       "        <td style=\"padding-left: 1em; padding-right: 1em; text-align: center; vertical-align: top\">5.0</td>\n",
       "        <td style=\"padding-left: 1em; padding-right: 1em; text-align: center; vertical-align: top\">{&#x27;inside&#x27;: 1.0, &#x27;water&#x27;:<br>1.0, &#x27;don&#x27;: 1.0, &#x27;up&#x27;: ...</td>\n",
       "        <td style=\"padding-left: 1em; padding-right: 1em; text-align: center; vertical-align: top\">1</td>\n",
       "    </tr>\n",
       "    <tr>\n",
       "        <td style=\"padding-left: 1em; padding-right: 1em; text-align: center; vertical-align: top\">Vulli Sophie the Giraffe<br>Teether ...</td>\n",
       "        <td style=\"padding-left: 1em; padding-right: 1em; text-align: center; vertical-align: top\">We got this just for my<br>son to chew on instea ...</td>\n",
       "        <td style=\"padding-left: 1em; padding-right: 1em; text-align: center; vertical-align: top\">5.0</td>\n",
       "        <td style=\"padding-left: 1em; padding-right: 1em; text-align: center; vertical-align: top\">{&#x27;its&#x27;: 1.0, &#x27;fine&#x27;: 1.0,<br>&#x27;is&#x27;: 1.0, &#x27;which&#x27;: 1.0, ...</td>\n",
       "        <td style=\"padding-left: 1em; padding-right: 1em; text-align: center; vertical-align: top\">1</td>\n",
       "    </tr>\n",
       "    <tr>\n",
       "        <td style=\"padding-left: 1em; padding-right: 1em; text-align: center; vertical-align: top\">Vulli Sophie the Giraffe<br>Teether ...</td>\n",
       "        <td style=\"padding-left: 1em; padding-right: 1em; text-align: center; vertical-align: top\">This product is without a<br>doubt the best on the ...</td>\n",
       "        <td style=\"padding-left: 1em; padding-right: 1em; text-align: center; vertical-align: top\">5.0</td>\n",
       "        <td style=\"padding-left: 1em; padding-right: 1em; text-align: center; vertical-align: top\">{&#x27;belongs&#x27;: 1.0, &#x27;dog&#x27;:<br>1.0, &#x27;if&#x27;: 1.0, &#x27;bewa ...</td>\n",
       "        <td style=\"padding-left: 1em; padding-right: 1em; text-align: center; vertical-align: top\">1</td>\n",
       "    </tr>\n",
       "</table>\n",
       "<table frame=\"box\" rules=\"cols\">\n",
       "    <tr>\n",
       "        <th style=\"padding-left: 1em; padding-right: 1em; text-align: center\">predicted_sentiment</th>\n",
       "    </tr>\n",
       "    <tr>\n",
       "        <td style=\"padding-left: 1em; padding-right: 1em; text-align: center; vertical-align: top\">0.9993655365682544</td>\n",
       "    </tr>\n",
       "    <tr>\n",
       "        <td style=\"padding-left: 1em; padding-right: 1em; text-align: center; vertical-align: top\">0.9998633791689672</td>\n",
       "    </tr>\n",
       "    <tr>\n",
       "        <td style=\"padding-left: 1em; padding-right: 1em; text-align: center; vertical-align: top\">0.254526819749066</td>\n",
       "    </tr>\n",
       "    <tr>\n",
       "        <td style=\"padding-left: 1em; padding-right: 1em; text-align: center; vertical-align: top\">0.916568808389582</td>\n",
       "    </tr>\n",
       "    <tr>\n",
       "        <td style=\"padding-left: 1em; padding-right: 1em; text-align: center; vertical-align: top\">0.6855768205778289</td>\n",
       "    </tr>\n",
       "    <tr>\n",
       "        <td style=\"padding-left: 1em; padding-right: 1em; text-align: center; vertical-align: top\">0.99999994452112</td>\n",
       "    </tr>\n",
       "    <tr>\n",
       "        <td style=\"padding-left: 1em; padding-right: 1em; text-align: center; vertical-align: top\">0.9979351181092758</td>\n",
       "    </tr>\n",
       "    <tr>\n",
       "        <td style=\"padding-left: 1em; padding-right: 1em; text-align: center; vertical-align: top\">0.9999745004834412</td>\n",
       "    </tr>\n",
       "    <tr>\n",
       "        <td style=\"padding-left: 1em; padding-right: 1em; text-align: center; vertical-align: top\">0.9460144428329604</td>\n",
       "    </tr>\n",
       "    <tr>\n",
       "        <td style=\"padding-left: 1em; padding-right: 1em; text-align: center; vertical-align: top\">0.9999999721665869</td>\n",
       "    </tr>\n",
       "</table>\n",
       "[? rows x 6 columns]<br/>Note: Only the head of the SFrame is printed. This SFrame is lazily evaluated.<br/>You can use sf.materialize() to force materialization.\n",
       "</div>"
      ],
      "text/plain": [
       "Columns:\n",
       "\tname\tstr\n",
       "\treview\tstr\n",
       "\trating\tfloat\n",
       "\tword_count\tdict\n",
       "\tsentiment\tint\n",
       "\tpredicted_sentiment\tfloat\n",
       "\n",
       "Rows: Unknown\n",
       "\n",
       "Data:\n",
       "+-------------------------------+-------------------------------+--------+\n",
       "|              name             |             review            | rating |\n",
       "+-------------------------------+-------------------------------+--------+\n",
       "| Vulli Sophie the Giraffe T... | He likes chewing on all th... |  5.0   |\n",
       "| Vulli Sophie the Giraffe T... | My son loves this toy and ... |  5.0   |\n",
       "| Vulli Sophie the Giraffe T... | There really should be a l... |  1.0   |\n",
       "| Vulli Sophie the Giraffe T... | All the moms in my moms' g... |  5.0   |\n",
       "| Vulli Sophie the Giraffe T... | I was a little skeptical o... |  5.0   |\n",
       "| Vulli Sophie the Giraffe T... | I have been reading about ... |  5.0   |\n",
       "| Vulli Sophie the Giraffe T... | My neice loves her sophie ... |  5.0   |\n",
       "| Vulli Sophie the Giraffe T... | What a friendly face!  And... |  5.0   |\n",
       "| Vulli Sophie the Giraffe T... | We got this just for my so... |  5.0   |\n",
       "| Vulli Sophie the Giraffe T... | This product is without a ... |  5.0   |\n",
       "+-------------------------------+-------------------------------+--------+\n",
       "+-------------------------------+-----------+---------------------+\n",
       "|           word_count          | sentiment | predicted_sentiment |\n",
       "+-------------------------------+-----------+---------------------+\n",
       "| {'purchase': 1.0, 'teethin... |     1     |  0.9993655365682544 |\n",
       "| {'a': 1.0, 'is': 1.0, 'whe... |     1     |  0.9998633791689672 |\n",
       "| {'made': 1.0, 'of': 1.0, '... |     0     |  0.254526819749066  |\n",
       "| {'another': 1.0, 'out': 1.... |     1     |  0.916568808389582  |\n",
       "| {'disappointed': 1.0, 'wil... |     1     |  0.6855768205778289 |\n",
       "| {'late': 1.0, 'perfect': 1... |     1     |   0.99999994452112  |\n",
       "| {'delight': 1.0, 'in': 1.0... |     1     |  0.9979351181092758 |\n",
       "| {'inside': 1.0, 'water': 1... |     1     |  0.9999745004834412 |\n",
       "| {'its': 1.0, 'fine': 1.0, ... |     1     |  0.9460144428329604 |\n",
       "| {'belongs': 1.0, 'dog': 1.... |     1     |  0.9999999721665869 |\n",
       "+-------------------------------+-----------+---------------------+\n",
       "[? rows x 6 columns]\n",
       "Note: Only the head of the SFrame is printed. This SFrame is lazily evaluated.\n",
       "You can use sf.materialize() to force materialization."
      ]
     },
     "execution_count": 201,
     "metadata": {},
     "output_type": "execute_result"
    }
   ],
   "source": [
    "giraffe_reviews"
   ]
  },
  {
   "cell_type": "markdown",
   "metadata": {},
   "source": [
    "# Sort the giraffe reviews according to predicted sentiment"
   ]
  },
  {
   "cell_type": "code",
   "execution_count": 202,
   "metadata": {},
   "outputs": [],
   "source": [
    "giraffe_reviews = giraffe_reviews.sort('predicted_sentiment',ascending=False)"
   ]
  },
  {
   "cell_type": "code",
   "execution_count": 203,
   "metadata": {},
   "outputs": [
    {
     "data": {
      "text/html": [
       "<div style=\"max-height:1000px;max-width:1500px;overflow:auto;\"><table frame=\"box\" rules=\"cols\">\n",
       "    <tr>\n",
       "        <th style=\"padding-left: 1em; padding-right: 1em; text-align: center\">name</th>\n",
       "        <th style=\"padding-left: 1em; padding-right: 1em; text-align: center\">review</th>\n",
       "        <th style=\"padding-left: 1em; padding-right: 1em; text-align: center\">rating</th>\n",
       "        <th style=\"padding-left: 1em; padding-right: 1em; text-align: center\">word_count</th>\n",
       "        <th style=\"padding-left: 1em; padding-right: 1em; text-align: center\">sentiment</th>\n",
       "    </tr>\n",
       "    <tr>\n",
       "        <td style=\"padding-left: 1em; padding-right: 1em; text-align: center; vertical-align: top\">Vulli Sophie the Giraffe<br>Teether ...</td>\n",
       "        <td style=\"padding-left: 1em; padding-right: 1em; text-align: center; vertical-align: top\">Sophie, oh Sophie, your<br>time has come. My ...</td>\n",
       "        <td style=\"padding-left: 1em; padding-right: 1em; text-align: center; vertical-align: top\">5.0</td>\n",
       "        <td style=\"padding-left: 1em; padding-right: 1em; text-align: center; vertical-align: top\">{&#x27;11&#x27;: 1.0, &#x27;prisrob&#x27;:<br>1.0, &#x27;12&#x27;: 1.0, &#x27;who&#x27;: ...</td>\n",
       "        <td style=\"padding-left: 1em; padding-right: 1em; text-align: center; vertical-align: top\">1</td>\n",
       "    </tr>\n",
       "    <tr>\n",
       "        <td style=\"padding-left: 1em; padding-right: 1em; text-align: center; vertical-align: top\">Vulli Sophie the Giraffe<br>Teether ...</td>\n",
       "        <td style=\"padding-left: 1em; padding-right: 1em; text-align: center; vertical-align: top\">I&#x27;ll be honest...I bought<br>this toy because all the ...</td>\n",
       "        <td style=\"padding-left: 1em; padding-right: 1em; text-align: center; vertical-align: top\">4.0</td>\n",
       "        <td style=\"padding-left: 1em; padding-right: 1em; text-align: center; vertical-align: top\">{&#x27;around&#x27;: 1.0,<br>&#x27;explore&#x27;: 1.0, &#x27;they&#x27;: ...</td>\n",
       "        <td style=\"padding-left: 1em; padding-right: 1em; text-align: center; vertical-align: top\">1</td>\n",
       "    </tr>\n",
       "    <tr>\n",
       "        <td style=\"padding-left: 1em; padding-right: 1em; text-align: center; vertical-align: top\">Vulli Sophie the Giraffe<br>Teether ...</td>\n",
       "        <td style=\"padding-left: 1em; padding-right: 1em; text-align: center; vertical-align: top\">As a mother of 16month<br>old twins; I bought ...</td>\n",
       "        <td style=\"padding-left: 1em; padding-right: 1em; text-align: center; vertical-align: top\">5.0</td>\n",
       "        <td style=\"padding-left: 1em; padding-right: 1em; text-align: center; vertical-align: top\">{&#x27;will&#x27;: 1.0, &#x27;15months&#x27;:<br>1.0, &#x27;would&#x27;: 2.0, ...</td>\n",
       "        <td style=\"padding-left: 1em; padding-right: 1em; text-align: center; vertical-align: top\">1</td>\n",
       "    </tr>\n",
       "    <tr>\n",
       "        <td style=\"padding-left: 1em; padding-right: 1em; text-align: center; vertical-align: top\">Vulli Sophie the Giraffe<br>Teether ...</td>\n",
       "        <td style=\"padding-left: 1em; padding-right: 1em; text-align: center; vertical-align: top\">We got this little<br>giraffe as a gift from a ...</td>\n",
       "        <td style=\"padding-left: 1em; padding-right: 1em; text-align: center; vertical-align: top\">5.0</td>\n",
       "        <td style=\"padding-left: 1em; padding-right: 1em; text-align: center; vertical-align: top\">{&#x27;out&#x27;: 1.0, &#x27;would&#x27;:<br>1.0, &#x27;ve&#x27;: 1.0, &#x27;enou ...</td>\n",
       "        <td style=\"padding-left: 1em; padding-right: 1em; text-align: center; vertical-align: top\">1</td>\n",
       "    </tr>\n",
       "    <tr>\n",
       "        <td style=\"padding-left: 1em; padding-right: 1em; text-align: center; vertical-align: top\">Vulli Sophie the Giraffe<br>Teether ...</td>\n",
       "        <td style=\"padding-left: 1em; padding-right: 1em; text-align: center; vertical-align: top\">As every mom knows, you<br>always want to give your ...</td>\n",
       "        <td style=\"padding-left: 1em; padding-right: 1em; text-align: center; vertical-align: top\">5.0</td>\n",
       "        <td style=\"padding-left: 1em; padding-right: 1em; text-align: center; vertical-align: top\">{&#x27;whether&#x27;: 1.0,<br>&#x27;neutral&#x27;: 1.0, &#x27;gend ...</td>\n",
       "        <td style=\"padding-left: 1em; padding-right: 1em; text-align: center; vertical-align: top\">1</td>\n",
       "    </tr>\n",
       "    <tr>\n",
       "        <td style=\"padding-left: 1em; padding-right: 1em; text-align: center; vertical-align: top\">Vulli Sophie the Giraffe<br>Teether ...</td>\n",
       "        <td style=\"padding-left: 1em; padding-right: 1em; text-align: center; vertical-align: top\">My Mom-in-Law bought<br>Sophie for my son whe ...</td>\n",
       "        <td style=\"padding-left: 1em; padding-right: 1em; text-align: center; vertical-align: top\">5.0</td>\n",
       "        <td style=\"padding-left: 1em; padding-right: 1em; text-align: center; vertical-align: top\">{&#x27;penny&#x27;: 1.0, &#x27;little&#x27;:<br>1.0, &#x27;perfect&#x27;: 1.0, ...</td>\n",
       "        <td style=\"padding-left: 1em; padding-right: 1em; text-align: center; vertical-align: top\">1</td>\n",
       "    </tr>\n",
       "    <tr>\n",
       "        <td style=\"padding-left: 1em; padding-right: 1em; text-align: center; vertical-align: top\">Vulli Sophie the Giraffe<br>Teether ...</td>\n",
       "        <td style=\"padding-left: 1em; padding-right: 1em; text-align: center; vertical-align: top\">My 4 month old son is<br>teething, and I&#x27;ve tried ...</td>\n",
       "        <td style=\"padding-left: 1em; padding-right: 1em; text-align: center; vertical-align: top\">4.0</td>\n",
       "        <td style=\"padding-left: 1em; padding-right: 1em; text-align: center; vertical-align: top\">{&#x27;worth&#x27;: 1.0, &#x27;works&#x27;:<br>1.0, &#x27;teether&#x27;: 1.0, ...</td>\n",
       "        <td style=\"padding-left: 1em; padding-right: 1em; text-align: center; vertical-align: top\">1</td>\n",
       "    </tr>\n",
       "    <tr>\n",
       "        <td style=\"padding-left: 1em; padding-right: 1em; text-align: center; vertical-align: top\">Vulli Sophie the Giraffe<br>Teether ...</td>\n",
       "        <td style=\"padding-left: 1em; padding-right: 1em; text-align: center; vertical-align: top\">Let me just start off by<br>addressing the choking ...</td>\n",
       "        <td style=\"padding-left: 1em; padding-right: 1em; text-align: center; vertical-align: top\">5.0</td>\n",
       "        <td style=\"padding-left: 1em; padding-right: 1em; text-align: center; vertical-align: top\">{&#x27;question&#x27;: 1.0, &#x27;must&#x27;:<br>1.0, &#x27;overall&#x27;: 1.0, ...</td>\n",
       "        <td style=\"padding-left: 1em; padding-right: 1em; text-align: center; vertical-align: top\">1</td>\n",
       "    </tr>\n",
       "    <tr>\n",
       "        <td style=\"padding-left: 1em; padding-right: 1em; text-align: center; vertical-align: top\">Vulli Sophie the Giraffe<br>Teether ...</td>\n",
       "        <td style=\"padding-left: 1em; padding-right: 1em; text-align: center; vertical-align: top\">I&#x27;m not sure why Sophie<br>is such a hit with the ...</td>\n",
       "        <td style=\"padding-left: 1em; padding-right: 1em; text-align: center; vertical-align: top\">4.0</td>\n",
       "        <td style=\"padding-left: 1em; padding-right: 1em; text-align: center; vertical-align: top\">{&#x27;makers&#x27;: 1.0, &#x27;or&#x27;:<br>1.0, &#x27;take&#x27;: 1.0, &#x27;can&#x27;: ...</td>\n",
       "        <td style=\"padding-left: 1em; padding-right: 1em; text-align: center; vertical-align: top\">1</td>\n",
       "    </tr>\n",
       "    <tr>\n",
       "        <td style=\"padding-left: 1em; padding-right: 1em; text-align: center; vertical-align: top\">Vulli Sophie the Giraffe<br>Teether ...</td>\n",
       "        <td style=\"padding-left: 1em; padding-right: 1em; text-align: center; vertical-align: top\">I admit, I didn&#x27;t get<br>Sophie the Giraffe at ...</td>\n",
       "        <td style=\"padding-left: 1em; padding-right: 1em; text-align: center; vertical-align: top\">4.0</td>\n",
       "        <td style=\"padding-left: 1em; padding-right: 1em; text-align: center; vertical-align: top\">{&#x27;dye&#x27;: 1.0, &#x27;of&#x27;: 1.0,<br>&#x27;cause&#x27;: 1.0, &#x27;fade&#x27;: ...</td>\n",
       "        <td style=\"padding-left: 1em; padding-right: 1em; text-align: center; vertical-align: top\">1</td>\n",
       "    </tr>\n",
       "</table>\n",
       "<table frame=\"box\" rules=\"cols\">\n",
       "    <tr>\n",
       "        <th style=\"padding-left: 1em; padding-right: 1em; text-align: center\">predicted_sentiment</th>\n",
       "    </tr>\n",
       "    <tr>\n",
       "        <td style=\"padding-left: 1em; padding-right: 1em; text-align: center; vertical-align: top\">1.0</td>\n",
       "    </tr>\n",
       "    <tr>\n",
       "        <td style=\"padding-left: 1em; padding-right: 1em; text-align: center; vertical-align: top\">1.0</td>\n",
       "    </tr>\n",
       "    <tr>\n",
       "        <td style=\"padding-left: 1em; padding-right: 1em; text-align: center; vertical-align: top\">1.0</td>\n",
       "    </tr>\n",
       "    <tr>\n",
       "        <td style=\"padding-left: 1em; padding-right: 1em; text-align: center; vertical-align: top\">0.9999999999998377</td>\n",
       "    </tr>\n",
       "    <tr>\n",
       "        <td style=\"padding-left: 1em; padding-right: 1em; text-align: center; vertical-align: top\">0.9999999999998284</td>\n",
       "    </tr>\n",
       "    <tr>\n",
       "        <td style=\"padding-left: 1em; padding-right: 1em; text-align: center; vertical-align: top\">0.9999999999997958</td>\n",
       "    </tr>\n",
       "    <tr>\n",
       "        <td style=\"padding-left: 1em; padding-right: 1em; text-align: center; vertical-align: top\">0.9999999999994914</td>\n",
       "    </tr>\n",
       "    <tr>\n",
       "        <td style=\"padding-left: 1em; padding-right: 1em; text-align: center; vertical-align: top\">0.9999999999941254</td>\n",
       "    </tr>\n",
       "    <tr>\n",
       "        <td style=\"padding-left: 1em; padding-right: 1em; text-align: center; vertical-align: top\">0.999999999987423</td>\n",
       "    </tr>\n",
       "    <tr>\n",
       "        <td style=\"padding-left: 1em; padding-right: 1em; text-align: center; vertical-align: top\">0.9999999999829475</td>\n",
       "    </tr>\n",
       "</table>\n",
       "[723 rows x 6 columns]<br/>Note: Only the head of the SFrame is printed.<br/>You can use print_rows(num_rows=m, num_columns=n) to print more rows and columns.\n",
       "</div>"
      ],
      "text/plain": [
       "Columns:\n",
       "\tname\tstr\n",
       "\treview\tstr\n",
       "\trating\tfloat\n",
       "\tword_count\tdict\n",
       "\tsentiment\tint\n",
       "\tpredicted_sentiment\tfloat\n",
       "\n",
       "Rows: 723\n",
       "\n",
       "Data:\n",
       "+-------------------------------+-------------------------------+--------+\n",
       "|              name             |             review            | rating |\n",
       "+-------------------------------+-------------------------------+--------+\n",
       "| Vulli Sophie the Giraffe T... | Sophie, oh Sophie, your ti... |  5.0   |\n",
       "| Vulli Sophie the Giraffe T... | I'll be honest...I bought ... |  4.0   |\n",
       "| Vulli Sophie the Giraffe T... | As a mother of 16month old... |  5.0   |\n",
       "| Vulli Sophie the Giraffe T... | We got this little giraffe... |  5.0   |\n",
       "| Vulli Sophie the Giraffe T... | As every mom knows, you al... |  5.0   |\n",
       "| Vulli Sophie the Giraffe T... | My Mom-in-Law bought Sophi... |  5.0   |\n",
       "| Vulli Sophie the Giraffe T... | My 4 month old son is teet... |  4.0   |\n",
       "| Vulli Sophie the Giraffe T... | Let me just start off by a... |  5.0   |\n",
       "| Vulli Sophie the Giraffe T... | I'm not sure why Sophie is... |  4.0   |\n",
       "| Vulli Sophie the Giraffe T... | I admit, I didn't get Soph... |  4.0   |\n",
       "+-------------------------------+-------------------------------+--------+\n",
       "+-------------------------------+-----------+---------------------+\n",
       "|           word_count          | sentiment | predicted_sentiment |\n",
       "+-------------------------------+-----------+---------------------+\n",
       "| {'11': 1.0, 'prisrob': 1.0... |     1     |         1.0         |\n",
       "| {'around': 1.0, 'explore':... |     1     |         1.0         |\n",
       "| {'will': 1.0, '15months': ... |     1     |         1.0         |\n",
       "| {'out': 1.0, 'would': 1.0,... |     1     |  0.9999999999998377 |\n",
       "| {'whether': 1.0, 'neutral'... |     1     |  0.9999999999998284 |\n",
       "| {'penny': 1.0, 'little': 1... |     1     |  0.9999999999997958 |\n",
       "| {'worth': 1.0, 'works': 1.... |     1     |  0.9999999999994914 |\n",
       "| {'question': 1.0, 'must': ... |     1     |  0.9999999999941254 |\n",
       "| {'makers': 1.0, 'or': 1.0,... |     1     |  0.999999999987423  |\n",
       "| {'dye': 1.0, 'of': 1.0, 'c... |     1     |  0.9999999999829475 |\n",
       "+-------------------------------+-----------+---------------------+\n",
       "[723 rows x 6 columns]\n",
       "Note: Only the head of the SFrame is printed.\n",
       "You can use print_rows(num_rows=m, num_columns=n) to print more rows and columns."
      ]
     },
     "execution_count": 203,
     "metadata": {},
     "output_type": "execute_result"
    }
   ],
   "source": [
    "giraffe_reviews"
   ]
  },
  {
   "cell_type": "code",
   "execution_count": 204,
   "metadata": {},
   "outputs": [
    {
     "data": {
      "text/html": [
       "<div style=\"max-height:1000px;max-width:1500px;overflow:auto;\"><table frame=\"box\" rules=\"cols\">\n",
       "    <tr>\n",
       "        <th style=\"padding-left: 1em; padding-right: 1em; text-align: center\">name</th>\n",
       "        <th style=\"padding-left: 1em; padding-right: 1em; text-align: center\">review</th>\n",
       "        <th style=\"padding-left: 1em; padding-right: 1em; text-align: center\">rating</th>\n",
       "        <th style=\"padding-left: 1em; padding-right: 1em; text-align: center\">word_count</th>\n",
       "        <th style=\"padding-left: 1em; padding-right: 1em; text-align: center\">sentiment</th>\n",
       "    </tr>\n",
       "    <tr>\n",
       "        <td style=\"padding-left: 1em; padding-right: 1em; text-align: center; vertical-align: top\">Vulli Sophie the Giraffe<br>Teether ...</td>\n",
       "        <td style=\"padding-left: 1em; padding-right: 1em; text-align: center; vertical-align: top\">My 7 1/2 month old<br>grandbaby was sittng up ...</td>\n",
       "        <td style=\"padding-left: 1em; padding-right: 1em; text-align: center; vertical-align: top\">1.0</td>\n",
       "        <td style=\"padding-left: 1em; padding-right: 1em; text-align: center; vertical-align: top\">{&#x27;sopie&#x27;: 1.0, &#x27;with&#x27;:<br>1.0, &#x27;be&#x27;: 1.0, &#x27;shou ...</td>\n",
       "        <td style=\"padding-left: 1em; padding-right: 1em; text-align: center; vertical-align: top\">0</td>\n",
       "    </tr>\n",
       "    <tr>\n",
       "        <td style=\"padding-left: 1em; padding-right: 1em; text-align: center; vertical-align: top\">Vulli Sophie the Giraffe<br>Teether ...</td>\n",
       "        <td style=\"padding-left: 1em; padding-right: 1em; text-align: center; vertical-align: top\">I was so looking forward<br>to getting this for my ...</td>\n",
       "        <td style=\"padding-left: 1em; padding-right: 1em; text-align: center; vertical-align: top\">1.0</td>\n",
       "        <td style=\"padding-left: 1em; padding-right: 1em; text-align: center; vertical-align: top\">{&#x27;amazon&#x27;: 1.0, &#x27;back&#x27;:<br>1.0, &#x27;by&#x27;: 1.0, &#x27;more&#x27;: ...</td>\n",
       "        <td style=\"padding-left: 1em; padding-right: 1em; text-align: center; vertical-align: top\">0</td>\n",
       "    </tr>\n",
       "    <tr>\n",
       "        <td style=\"padding-left: 1em; padding-right: 1em; text-align: center; vertical-align: top\">Vulli Sophie the Giraffe<br>Teether ...</td>\n",
       "        <td style=\"padding-left: 1em; padding-right: 1em; text-align: center; vertical-align: top\">Received the product and<br>smells like cheap rub ...</td>\n",
       "        <td style=\"padding-left: 1em; padding-right: 1em; text-align: center; vertical-align: top\">1.0</td>\n",
       "        <td style=\"padding-left: 1em; padding-right: 1em; text-align: center; vertical-align: top\">{&#x27;was&#x27;: 1.0, &#x27;as&#x27;: 1.0,<br>&#x27;still&#x27;: 1.0, &#x27;but&#x27;:  ...</td>\n",
       "        <td style=\"padding-left: 1em; padding-right: 1em; text-align: center; vertical-align: top\">0</td>\n",
       "    </tr>\n",
       "    <tr>\n",
       "        <td style=\"padding-left: 1em; padding-right: 1em; text-align: center; vertical-align: top\">Vulli Sophie the Giraffe<br>Teether ...</td>\n",
       "        <td style=\"padding-left: 1em; padding-right: 1em; text-align: center; vertical-align: top\">I got one of these as a<br>showe gift that my baby ...</td>\n",
       "        <td style=\"padding-left: 1em; padding-right: 1em; text-align: center; vertical-align: top\">1.0</td>\n",
       "        <td style=\"padding-left: 1em; padding-right: 1em; text-align: center; vertical-align: top\">{&#x27;typical&#x27;: 1.0, &#x27;paint&#x27;:<br>1.0, &#x27;came&#x27;: 1.0, &#x27;mi ...</td>\n",
       "        <td style=\"padding-left: 1em; padding-right: 1em; text-align: center; vertical-align: top\">0</td>\n",
       "    </tr>\n",
       "    <tr>\n",
       "        <td style=\"padding-left: 1em; padding-right: 1em; text-align: center; vertical-align: top\">Vulli Sophie the Giraffe<br>Teether ...</td>\n",
       "        <td style=\"padding-left: 1em; padding-right: 1em; text-align: center; vertical-align: top\">When we first got it I<br>thought did my ...</td>\n",
       "        <td style=\"padding-left: 1em; padding-right: 1em; text-align: center; vertical-align: top\">2.0</td>\n",
       "        <td style=\"padding-left: 1em; padding-right: 1em; text-align: center; vertical-align: top\">{&#x27;mom&#x27;: 1.0, &#x27;teethers&#x27;:<br>1.0, &#x27;btw&#x27;: 1.0, &#x27;oth ...</td>\n",
       "        <td style=\"padding-left: 1em; padding-right: 1em; text-align: center; vertical-align: top\">0</td>\n",
       "    </tr>\n",
       "    <tr>\n",
       "        <td style=\"padding-left: 1em; padding-right: 1em; text-align: center; vertical-align: top\">Vulli Sophie the Giraffe<br>Teether ...</td>\n",
       "        <td style=\"padding-left: 1em; padding-right: 1em; text-align: center; vertical-align: top\">When I received this the<br>paint was peeling off in ...</td>\n",
       "        <td style=\"padding-left: 1em; padding-right: 1em; text-align: center; vertical-align: top\">1.0</td>\n",
       "        <td style=\"padding-left: 1em; padding-right: 1em; text-align: center; vertical-align: top\">{&#x27;risk&#x27;: 1.0, &#x27;but&#x27;: 1.0,<br>&#x27;help&#x27;: 1.0, &#x27;terrible&#x27;: ...</td>\n",
       "        <td style=\"padding-left: 1em; padding-right: 1em; text-align: center; vertical-align: top\">0</td>\n",
       "    </tr>\n",
       "    <tr>\n",
       "        <td style=\"padding-left: 1em; padding-right: 1em; text-align: center; vertical-align: top\">Vulli Sophie the Giraffe<br>Teether ...</td>\n",
       "        <td style=\"padding-left: 1em; padding-right: 1em; text-align: center; vertical-align: top\">&quot;Sophie the Giraffe&quot; has<br>tested positive for ...</td>\n",
       "        <td style=\"padding-left: 1em; padding-right: 1em; text-align: center; vertical-align: top\">1.0</td>\n",
       "        <td style=\"padding-left: 1em; padding-right: 1em; text-align: center; vertical-align: top\">{&#x27;ingest&#x27;: 1.0, &#x27;they&#x27;:<br>1.0, &#x27;naturally&#x27;: 1.0, ...</td>\n",
       "        <td style=\"padding-left: 1em; padding-right: 1em; text-align: center; vertical-align: top\">0</td>\n",
       "    </tr>\n",
       "    <tr>\n",
       "        <td style=\"padding-left: 1em; padding-right: 1em; text-align: center; vertical-align: top\">Vulli Sophie the Giraffe<br>Teether ...</td>\n",
       "        <td style=\"padding-left: 1em; padding-right: 1em; text-align: center; vertical-align: top\">My son (now 2.5) LOVED<br>his Sophie, and I bought ...</td>\n",
       "        <td style=\"padding-left: 1em; padding-right: 1em; text-align: center; vertical-align: top\">1.0</td>\n",
       "        <td style=\"padding-left: 1em; padding-right: 1em; text-align: center; vertical-align: top\">{&#x27;exaggerated&#x27;: 1.0,<br>&#x27;are&#x27;: 1.0, &#x27;a&#x27;: 3.0, ...</td>\n",
       "        <td style=\"padding-left: 1em; padding-right: 1em; text-align: center; vertical-align: top\">0</td>\n",
       "    </tr>\n",
       "    <tr>\n",
       "        <td style=\"padding-left: 1em; padding-right: 1em; text-align: center; vertical-align: top\">Vulli Sophie the Giraffe<br>Teether ...</td>\n",
       "        <td style=\"padding-left: 1em; padding-right: 1em; text-align: center; vertical-align: top\">I wanted to love this<br>product and was excited ...</td>\n",
       "        <td style=\"padding-left: 1em; padding-right: 1em; text-align: center; vertical-align: top\">1.0</td>\n",
       "        <td style=\"padding-left: 1em; padding-right: 1em; text-align: center; vertical-align: top\">{&#x27;risk&#x27;: 1.0, &#x27;ready&#x27;:<br>1.0, &#x27;bummed&#x27;: 1.0, ...</td>\n",
       "        <td style=\"padding-left: 1em; padding-right: 1em; text-align: center; vertical-align: top\">0</td>\n",
       "    </tr>\n",
       "    <tr>\n",
       "        <td style=\"padding-left: 1em; padding-right: 1em; text-align: center; vertical-align: top\">Vulli Sophie the Giraffe<br>Teether ...</td>\n",
       "        <td style=\"padding-left: 1em; padding-right: 1em; text-align: center; vertical-align: top\">This children&#x27;s toy is<br>nostalgic and very cute. ...</td>\n",
       "        <td style=\"padding-left: 1em; padding-right: 1em; text-align: center; vertical-align: top\">1.0</td>\n",
       "        <td style=\"padding-left: 1em; padding-right: 1em; text-align: center; vertical-align: top\">{&#x27;amazon&#x27;: 1.0, &#x27;from&#x27;:<br>1.0, &#x27;one&#x27;: 1.0, &#x27;by&#x27;: ...</td>\n",
       "        <td style=\"padding-left: 1em; padding-right: 1em; text-align: center; vertical-align: top\">0</td>\n",
       "    </tr>\n",
       "</table>\n",
       "<table frame=\"box\" rules=\"cols\">\n",
       "    <tr>\n",
       "        <th style=\"padding-left: 1em; padding-right: 1em; text-align: center\">predicted_sentiment</th>\n",
       "    </tr>\n",
       "    <tr>\n",
       "        <td style=\"padding-left: 1em; padding-right: 1em; text-align: center; vertical-align: top\">1.9110740193312666e-06</td>\n",
       "    </tr>\n",
       "    <tr>\n",
       "        <td style=\"padding-left: 1em; padding-right: 1em; text-align: center; vertical-align: top\">6.547801684249595e-07</td>\n",
       "    </tr>\n",
       "    <tr>\n",
       "        <td style=\"padding-left: 1em; padding-right: 1em; text-align: center; vertical-align: top\">3.8642363969708605e-07</td>\n",
       "    </tr>\n",
       "    <tr>\n",
       "        <td style=\"padding-left: 1em; padding-right: 1em; text-align: center; vertical-align: top\">2.2378225152302614e-07</td>\n",
       "    </tr>\n",
       "    <tr>\n",
       "        <td style=\"padding-left: 1em; padding-right: 1em; text-align: center; vertical-align: top\">1.935395527995186e-07</td>\n",
       "    </tr>\n",
       "    <tr>\n",
       "        <td style=\"padding-left: 1em; padding-right: 1em; text-align: center; vertical-align: top\">1.690075397935812e-07</td>\n",
       "    </tr>\n",
       "    <tr>\n",
       "        <td style=\"padding-left: 1em; padding-right: 1em; text-align: center; vertical-align: top\">1.174882679580569e-07</td>\n",
       "    </tr>\n",
       "    <tr>\n",
       "        <td style=\"padding-left: 1em; padding-right: 1em; text-align: center; vertical-align: top\">5.364933426298607e-11</td>\n",
       "    </tr>\n",
       "    <tr>\n",
       "        <td style=\"padding-left: 1em; padding-right: 1em; text-align: center; vertical-align: top\">3.1090352697475617e-13</td>\n",
       "    </tr>\n",
       "    <tr>\n",
       "        <td style=\"padding-left: 1em; padding-right: 1em; text-align: center; vertical-align: top\">4.119269638676046e-15</td>\n",
       "    </tr>\n",
       "</table>\n",
       "[10 rows x 6 columns]<br/>\n",
       "</div>"
      ],
      "text/plain": [
       "Columns:\n",
       "\tname\tstr\n",
       "\treview\tstr\n",
       "\trating\tfloat\n",
       "\tword_count\tdict\n",
       "\tsentiment\tint\n",
       "\tpredicted_sentiment\tfloat\n",
       "\n",
       "Rows: 10\n",
       "\n",
       "Data:\n",
       "+-------------------------------+-------------------------------+--------+\n",
       "|              name             |             review            | rating |\n",
       "+-------------------------------+-------------------------------+--------+\n",
       "| Vulli Sophie the Giraffe T... | My 7 1/2 month old grandba... |  1.0   |\n",
       "| Vulli Sophie the Giraffe T... | I was so looking forward t... |  1.0   |\n",
       "| Vulli Sophie the Giraffe T... | Received the product and s... |  1.0   |\n",
       "| Vulli Sophie the Giraffe T... | I got one of these as a sh... |  1.0   |\n",
       "| Vulli Sophie the Giraffe T... | When we first got it I tho... |  2.0   |\n",
       "| Vulli Sophie the Giraffe T... | When I received this the p... |  1.0   |\n",
       "| Vulli Sophie the Giraffe T... | \"Sophie the Giraffe\" has t... |  1.0   |\n",
       "| Vulli Sophie the Giraffe T... | My son (now 2.5) LOVED his... |  1.0   |\n",
       "| Vulli Sophie the Giraffe T... | I wanted to love this prod... |  1.0   |\n",
       "| Vulli Sophie the Giraffe T... | This children's toy is nos... |  1.0   |\n",
       "+-------------------------------+-------------------------------+--------+\n",
       "+-------------------------------+-----------+------------------------+\n",
       "|           word_count          | sentiment |  predicted_sentiment   |\n",
       "+-------------------------------+-----------+------------------------+\n",
       "| {'sopie': 1.0, 'with': 1.0... |     0     | 1.9110740193312666e-06 |\n",
       "| {'amazon': 1.0, 'back': 1.... |     0     | 6.547801684249595e-07  |\n",
       "| {'was': 1.0, 'as': 1.0, 's... |     0     | 3.8642363969708605e-07 |\n",
       "| {'typical': 1.0, 'paint': ... |     0     | 2.2378225152302614e-07 |\n",
       "| {'mom': 1.0, 'teethers': 1... |     0     | 1.935395527995186e-07  |\n",
       "| {'risk': 1.0, 'but': 1.0, ... |     0     | 1.690075397935812e-07  |\n",
       "| {'ingest': 1.0, 'they': 1.... |     0     | 1.174882679580569e-07  |\n",
       "| {'exaggerated': 1.0, 'are'... |     0     | 5.364933426298607e-11  |\n",
       "| {'risk': 1.0, 'ready': 1.0... |     0     | 3.1090352697475617e-13 |\n",
       "| {'amazon': 1.0, 'from': 1.... |     0     | 4.119269638676046e-15  |\n",
       "+-------------------------------+-----------+------------------------+\n",
       "[10 rows x 6 columns]"
      ]
     },
     "execution_count": 204,
     "metadata": {},
     "output_type": "execute_result"
    }
   ],
   "source": [
    "giraffe_reviews.tail()"
   ]
  },
  {
   "cell_type": "markdown",
   "metadata": {},
   "source": [
    "# Show the most positive reviews "
   ]
  },
  {
   "cell_type": "code",
   "execution_count": 205,
   "metadata": {},
   "outputs": [
    {
     "data": {
      "text/plain": [
       "\"Sophie, oh Sophie, your time has come. My granddaughter, Violet is 5 months old and starting to teeth. What joy little Sophie brings to Violet. Sophie is made of a very pliable rubber that is sturdy but not tough. It is quite easy for Violet to twist Sophie into unheard of positions to get Sophie into her mouth. The little nose and hooves fit perfectly into small mouths, and the drooling has purpose. The paint on Sophie is food quality.Sophie was born in 1961 in France. The maker had wondered why there was nothing available for babies and made Sophie from the finest rubber, phthalate-free on St Sophie's Day, thus the name was born. Since that time millions of Sophie's populate the world. She is soft and for babies little hands easy to grasp. Violet especially loves the bumpy head and horns of Sophie. Sophie has a long neck that easy to grasp and twist. She has lovely, sizable spots that attract Violet's attention. Sophie has happy little squeaks that bring squeals of delight from Violet. She is able to make Sophie squeak and that brings much joy. Sophie's smooth skin is soothing to Violet's little gums. Sophie is 7 inches tall and is the exact correct size for babies to hold and love.As you well know the first thing babies grasp, goes into their mouths- how wonderful to have a toy that stimulates all of the senses and helps with the issue of teething. Sophie is small enough to fit into any size pocket or bag. Sophie is the perfect find for babies from a few months to a year old. How wonderful to hear the giggles and laughs that emanate from babies who find Sophie irresistible. Viva La Sophie!Highly Recommended.  prisrob 12-11-09\""
      ]
     },
     "execution_count": 205,
     "metadata": {},
     "output_type": "execute_result"
    }
   ],
   "source": [
    "giraffe_reviews[0]['review']"
   ]
  },
  {
   "cell_type": "code",
   "execution_count": 206,
   "metadata": {},
   "outputs": [
    {
     "data": {
      "text/plain": [
       "'I\\'ll be honest...I bought this toy because all the hip parents seem to have one too and I wanted to be a part of the \"hip parent\" crowd. The price-tag was somewhat of a deterent but I prevailed and purchased this teether for my daughter.At first, Lily didn\\'t know what to make of of Sophie and showed little interest in the polka-dotted creature. I continued to introduce Lily to Sophie and kept the toy in the carrier so that it was on-hand during transitions. Eventually, Lily discovered what a wonderful experience it was to gnaw on the hooves and ears and these two have never been far apart since.Lily really enjoys gumming all the different parts of Sophie like no other teether we have. The size of the toy is great as it is somewhat substantial and so easy for a little one to grasp and hold onto. Lily really enjoys hearing Sophie squeak and will smile whenever Sophie makes a noise or pops her head up from Mommy\\'s lap to say hello.People have stopped and commented on Sophie and to them I have stated, \"It\\'s worth every penny.\" I can\\'t imagine not having this toy, it has become part and parcel with Lily\\'s daily existence. She is soothed by it, loves to chew on it and seems endlessly entertained by it.Someday, Sophie will have earned her retirement. She will relocate to Lily\\'s keepsake box. But until then, this little French Giraffe will embark on many adventures alongside my daughter as they explore this big world around them.'"
      ]
     },
     "execution_count": 206,
     "metadata": {},
     "output_type": "execute_result"
    }
   ],
   "source": [
    "giraffe_reviews[1]['review']"
   ]
  },
  {
   "cell_type": "markdown",
   "metadata": {},
   "source": [
    "# Most negative reviews\n"
   ]
  },
  {
   "cell_type": "code",
   "execution_count": 207,
   "metadata": {
    "scrolled": true
   },
   "outputs": [
    {
     "data": {
      "text/plain": [
       "\"This children's toy is nostalgic and very cute. However, there is a distinct rubber smell and a very odd taste, yes I tried it, that my baby did not enjoy. Also, if it is soiled it is extremely difficult to clean as the rubber is a kind of porus material and does not clean well. The final thing is the squeaking device inside which stopped working after the first couple of days. I returned this item feeling I had overpaid for a toy that was defective and did not meet my expectations. Please do not be swayed by the cute packaging and hype surounding it as I was. One more thing, I was given a full refund from Amazon without any problem.\""
      ]
     },
     "execution_count": 207,
     "metadata": {},
     "output_type": "execute_result"
    }
   ],
   "source": [
    "giraffe_reviews[-1]['review']"
   ]
  },
  {
   "cell_type": "code",
   "execution_count": 208,
   "metadata": {
    "scrolled": true
   },
   "outputs": [
    {
     "data": {
      "text/plain": [
       "'I wanted to love this product and was excited to buy it when I became pregnant but am now hesitant to let my baby use it after reading about the recall in Europe. Apparently, as I understand it, their toxin standards of measurement are lower than ours so they have not been recalled here (apparently we are OK with low levels of nitrates in the toys our children put in their mouths, but Europeans are not...hmmm)...Be that as it may, toxins registering even CLOSE to a dangerous level made me nervous about using. After digging around online I did discover that the company claims to have changed the product after a certain date and lists manufacturing codes so you can check yours (those listed were made after a certain date and are said to be safer). Sadly mine was not made after the &#34;improved&#34; date but I could not return it because there was no formal recall in our country. I considered returning it and hunting for one with an approved manufacturing date but man that was just too much work. Bummed but not ready to take a risk with my baby.'"
      ]
     },
     "execution_count": 208,
     "metadata": {},
     "output_type": "execute_result"
    }
   ],
   "source": [
    "giraffe_reviews[-2]['review']"
   ]
  },
  {
   "cell_type": "markdown",
   "metadata": {},
   "source": [
    "# ASSIGNMENT"
   ]
  },
  {
   "cell_type": "code",
   "execution_count": 209,
   "metadata": {},
   "outputs": [],
   "source": [
    "selected_words = ['awesome', 'great', 'fantastic', 'amazing', 'love', 'horrible', 'bad', 'terrible', 'awful', 'wow', 'hate']"
   ]
  },
  {
   "cell_type": "code",
   "execution_count": 210,
   "metadata": {},
   "outputs": [],
   "source": [
    "def awesome_count(word_count):\n",
    "    if 'awesome' in word_count:\n",
    "        return word_count['awesome']\n",
    "    else:\n",
    "        return 0\n",
    "\n",
    "def great_count(word_count):\n",
    "    if 'great' in word_count:\n",
    "        return word_count['great']\n",
    "    else:\n",
    "        return 0\n",
    "    \n",
    "def fantastic_count(word_count):\n",
    "    if 'fantastic' in word_count:\n",
    "        return word_count['fantastic']\n",
    "    else:\n",
    "        return 0\n",
    "    \n",
    "def amazing_count(word_count):\n",
    "    if 'amazing' in word_count:\n",
    "        return word_count['amazing']\n",
    "    else:\n",
    "        return 0\n",
    "    \n",
    "def love_count(word_count):\n",
    "    if 'love' in word_count:\n",
    "        return word_count['love']\n",
    "    else:\n",
    "        return 0\n",
    "    \n",
    "def horrible_count(word_count):\n",
    "    if 'horrible' in word_count:\n",
    "        return word_count['horrible']\n",
    "    else:\n",
    "        return 0\n",
    "    \n",
    "def bad_count(word_count):\n",
    "    if 'bad' in word_count:\n",
    "        return word_count['bad']\n",
    "    else:\n",
    "        return 0\n",
    "    \n",
    "def terrible_count(word_count):\n",
    "    if 'terrible' in word_count:\n",
    "        return word_count['terrible']\n",
    "    else:\n",
    "        return 0\n",
    "    \n",
    "def awful_count(word_count):\n",
    "    if 'awful' in word_count:\n",
    "        return word_count['awful']\n",
    "    else:\n",
    "        return 0\n",
    "    \n",
    "def wow_count(word_count):\n",
    "    if 'wow' in word_count:\n",
    "        return word_count['wow']\n",
    "    else:\n",
    "        return 0\n",
    "    \n",
    "def hate_count(word_count):\n",
    "    if 'hate' in word_count:\n",
    "        return word_count['hate']\n",
    "    else:\n",
    "        return 0\n",
    "            \n",
    "           "
   ]
  },
  {
   "cell_type": "code",
   "execution_count": 211,
   "metadata": {},
   "outputs": [],
   "source": [
    "\n",
    "products['awesome'] = products['word_count'].apply(awesome_count)\n",
    "products['great'] = products['word_count'].apply(great_count)\n",
    "products['fantastic'] = products['word_count'].apply(fantastic_count)\n",
    "products['amazing'] = products['word_count'].apply(amazing_count)\n",
    "products['love'] = products['word_count'].apply(love_count)\n",
    "products['horrible'] = products['word_count'].apply(horrible_count)\n",
    "products['bad'] = products['word_count'].apply(bad_count)\n",
    "products['terrible'] = products['word_count'].apply(terrible_count)\n",
    "products['awful'] = products['word_count'].apply(awful_count)\n",
    "products['wow'] = products['word_count'].apply(wow_count)\n",
    "products['hate'] = products['word_count'].apply(hate_count)"
   ]
  },
  {
   "cell_type": "code",
   "execution_count": 212,
   "metadata": {},
   "outputs": [
    {
     "data": {
      "text/html": [
       "<div style=\"max-height:1000px;max-width:1500px;overflow:auto;\"><table frame=\"box\" rules=\"cols\">\n",
       "    <tr>\n",
       "        <th style=\"padding-left: 1em; padding-right: 1em; text-align: center\">name</th>\n",
       "        <th style=\"padding-left: 1em; padding-right: 1em; text-align: center\">review</th>\n",
       "        <th style=\"padding-left: 1em; padding-right: 1em; text-align: center\">rating</th>\n",
       "        <th style=\"padding-left: 1em; padding-right: 1em; text-align: center\">word_count</th>\n",
       "        <th style=\"padding-left: 1em; padding-right: 1em; text-align: center\">sentiment</th>\n",
       "    </tr>\n",
       "    <tr>\n",
       "        <td style=\"padding-left: 1em; padding-right: 1em; text-align: center; vertical-align: top\">Planetwise Wipe Pouch</td>\n",
       "        <td style=\"padding-left: 1em; padding-right: 1em; text-align: center; vertical-align: top\">it came early and was not<br>disappointed. i love ...</td>\n",
       "        <td style=\"padding-left: 1em; padding-right: 1em; text-align: center; vertical-align: top\">5.0</td>\n",
       "        <td style=\"padding-left: 1em; padding-right: 1em; text-align: center; vertical-align: top\">{&#x27;recommend&#x27;: 1.0,<br>&#x27;highly&#x27;: 1.0, ...</td>\n",
       "        <td style=\"padding-left: 1em; padding-right: 1em; text-align: center; vertical-align: top\">1</td>\n",
       "    </tr>\n",
       "    <tr>\n",
       "        <td style=\"padding-left: 1em; padding-right: 1em; text-align: center; vertical-align: top\">Annas Dream Full Quilt<br>with 2 Shams ...</td>\n",
       "        <td style=\"padding-left: 1em; padding-right: 1em; text-align: center; vertical-align: top\">Very soft and comfortable<br>and warmer than it ...</td>\n",
       "        <td style=\"padding-left: 1em; padding-right: 1em; text-align: center; vertical-align: top\">5.0</td>\n",
       "        <td style=\"padding-left: 1em; padding-right: 1em; text-align: center; vertical-align: top\">{&#x27;quilt&#x27;: 1.0, &#x27;of&#x27;: 1.0,<br>&#x27;the&#x27;: 1.0, &#x27;than&#x27;: 1.0, ...</td>\n",
       "        <td style=\"padding-left: 1em; padding-right: 1em; text-align: center; vertical-align: top\">1</td>\n",
       "    </tr>\n",
       "    <tr>\n",
       "        <td style=\"padding-left: 1em; padding-right: 1em; text-align: center; vertical-align: top\">Stop Pacifier Sucking<br>without tears with ...</td>\n",
       "        <td style=\"padding-left: 1em; padding-right: 1em; text-align: center; vertical-align: top\">This is a product well<br>worth the purchase.  I ...</td>\n",
       "        <td style=\"padding-left: 1em; padding-right: 1em; text-align: center; vertical-align: top\">5.0</td>\n",
       "        <td style=\"padding-left: 1em; padding-right: 1em; text-align: center; vertical-align: top\">{&#x27;tool&#x27;: 1.0, &#x27;clever&#x27;:<br>1.0, &#x27;approach&#x27;: 2.0, ...</td>\n",
       "        <td style=\"padding-left: 1em; padding-right: 1em; text-align: center; vertical-align: top\">1</td>\n",
       "    </tr>\n",
       "    <tr>\n",
       "        <td style=\"padding-left: 1em; padding-right: 1em; text-align: center; vertical-align: top\">Stop Pacifier Sucking<br>without tears with ...</td>\n",
       "        <td style=\"padding-left: 1em; padding-right: 1em; text-align: center; vertical-align: top\">All of my kids have cried<br>non-stop when I tried to ...</td>\n",
       "        <td style=\"padding-left: 1em; padding-right: 1em; text-align: center; vertical-align: top\">5.0</td>\n",
       "        <td style=\"padding-left: 1em; padding-right: 1em; text-align: center; vertical-align: top\">{&#x27;rock&#x27;: 1.0, &#x27;many&#x27;:<br>1.0, &#x27;headaches&#x27;: 1.0, ...</td>\n",
       "        <td style=\"padding-left: 1em; padding-right: 1em; text-align: center; vertical-align: top\">1</td>\n",
       "    </tr>\n",
       "    <tr>\n",
       "        <td style=\"padding-left: 1em; padding-right: 1em; text-align: center; vertical-align: top\">Stop Pacifier Sucking<br>without tears with ...</td>\n",
       "        <td style=\"padding-left: 1em; padding-right: 1em; text-align: center; vertical-align: top\">When the Binky Fairy came<br>to our house, we didn&#x27;t ...</td>\n",
       "        <td style=\"padding-left: 1em; padding-right: 1em; text-align: center; vertical-align: top\">5.0</td>\n",
       "        <td style=\"padding-left: 1em; padding-right: 1em; text-align: center; vertical-align: top\">{&#x27;thumb&#x27;: 1.0, &#x27;or&#x27;: 1.0,<br>&#x27;break&#x27;: 1.0, &#x27;trying&#x27;: ...</td>\n",
       "        <td style=\"padding-left: 1em; padding-right: 1em; text-align: center; vertical-align: top\">1</td>\n",
       "    </tr>\n",
       "    <tr>\n",
       "        <td style=\"padding-left: 1em; padding-right: 1em; text-align: center; vertical-align: top\">A Tale of Baby&#x27;s Days<br>with Peter Rabbit ...</td>\n",
       "        <td style=\"padding-left: 1em; padding-right: 1em; text-align: center; vertical-align: top\">Lovely book, it&#x27;s bound<br>tightly so you may no ...</td>\n",
       "        <td style=\"padding-left: 1em; padding-right: 1em; text-align: center; vertical-align: top\">4.0</td>\n",
       "        <td style=\"padding-left: 1em; padding-right: 1em; text-align: center; vertical-align: top\">{&#x27;for&#x27;: 1.0, &#x27;barnes&#x27;:<br>1.0, &#x27;at&#x27;: 1.0, &#x27;is&#x27;: ...</td>\n",
       "        <td style=\"padding-left: 1em; padding-right: 1em; text-align: center; vertical-align: top\">1</td>\n",
       "    </tr>\n",
       "    <tr>\n",
       "        <td style=\"padding-left: 1em; padding-right: 1em; text-align: center; vertical-align: top\">Baby Tracker&amp;reg; - Daily<br>Childcare Journal, ...</td>\n",
       "        <td style=\"padding-left: 1em; padding-right: 1em; text-align: center; vertical-align: top\">Perfect for new parents.<br>We were able to keep ...</td>\n",
       "        <td style=\"padding-left: 1em; padding-right: 1em; text-align: center; vertical-align: top\">5.0</td>\n",
       "        <td style=\"padding-left: 1em; padding-right: 1em; text-align: center; vertical-align: top\">{&#x27;right&#x27;: 1.0, &#x27;because&#x27;:<br>1.0, &#x27;questions&#x27;: 1.0, ...</td>\n",
       "        <td style=\"padding-left: 1em; padding-right: 1em; text-align: center; vertical-align: top\">1</td>\n",
       "    </tr>\n",
       "    <tr>\n",
       "        <td style=\"padding-left: 1em; padding-right: 1em; text-align: center; vertical-align: top\">Baby Tracker&amp;reg; - Daily<br>Childcare Journal, ...</td>\n",
       "        <td style=\"padding-left: 1em; padding-right: 1em; text-align: center; vertical-align: top\">A friend of mine pinned<br>this product on Pinte ...</td>\n",
       "        <td style=\"padding-left: 1em; padding-right: 1em; text-align: center; vertical-align: top\">5.0</td>\n",
       "        <td style=\"padding-left: 1em; padding-right: 1em; text-align: center; vertical-align: top\">{&#x27;like&#x27;: 1.0, &#x27;and&#x27;: 1.0,<br>&#x27;changes&#x27;: 1.0, &#x27;the&#x27;: ...</td>\n",
       "        <td style=\"padding-left: 1em; padding-right: 1em; text-align: center; vertical-align: top\">1</td>\n",
       "    </tr>\n",
       "    <tr>\n",
       "        <td style=\"padding-left: 1em; padding-right: 1em; text-align: center; vertical-align: top\">Baby Tracker&amp;reg; - Daily<br>Childcare Journal, ...</td>\n",
       "        <td style=\"padding-left: 1em; padding-right: 1em; text-align: center; vertical-align: top\">This has been an easy way<br>for my nanny to record ...</td>\n",
       "        <td style=\"padding-left: 1em; padding-right: 1em; text-align: center; vertical-align: top\">4.0</td>\n",
       "        <td style=\"padding-left: 1em; padding-right: 1em; text-align: center; vertical-align: top\">{&#x27;in&#x27;: 1.0, &#x27;pages&#x27;: 1.0,<br>&#x27;out&#x27;: 1.0, &#x27;run&#x27;: 1.0, ...</td>\n",
       "        <td style=\"padding-left: 1em; padding-right: 1em; text-align: center; vertical-align: top\">1</td>\n",
       "    </tr>\n",
       "    <tr>\n",
       "        <td style=\"padding-left: 1em; padding-right: 1em; text-align: center; vertical-align: top\">Baby Tracker&amp;reg; - Daily<br>Childcare Journal, ...</td>\n",
       "        <td style=\"padding-left: 1em; padding-right: 1em; text-align: center; vertical-align: top\">I love this journal and<br>our nanny uses it ...</td>\n",
       "        <td style=\"padding-left: 1em; padding-right: 1em; text-align: center; vertical-align: top\">4.0</td>\n",
       "        <td style=\"padding-left: 1em; padding-right: 1em; text-align: center; vertical-align: top\">{&#x27;tracker&#x27;: 1.0, &#x27;now&#x27;:<br>1.0, &#x27;its&#x27;: 1.0, &#x27;sti ...</td>\n",
       "        <td style=\"padding-left: 1em; padding-right: 1em; text-align: center; vertical-align: top\">1</td>\n",
       "    </tr>\n",
       "</table>\n",
       "<table frame=\"box\" rules=\"cols\">\n",
       "    <tr>\n",
       "        <th style=\"padding-left: 1em; padding-right: 1em; text-align: center\">predicted_sentiment</th>\n",
       "        <th style=\"padding-left: 1em; padding-right: 1em; text-align: center\">awesome</th>\n",
       "        <th style=\"padding-left: 1em; padding-right: 1em; text-align: center\">great</th>\n",
       "        <th style=\"padding-left: 1em; padding-right: 1em; text-align: center\">fantastic</th>\n",
       "        <th style=\"padding-left: 1em; padding-right: 1em; text-align: center\">amazing</th>\n",
       "        <th style=\"padding-left: 1em; padding-right: 1em; text-align: center\">love</th>\n",
       "        <th style=\"padding-left: 1em; padding-right: 1em; text-align: center\">horrible</th>\n",
       "        <th style=\"padding-left: 1em; padding-right: 1em; text-align: center\">bad</th>\n",
       "        <th style=\"padding-left: 1em; padding-right: 1em; text-align: center\">terrible</th>\n",
       "        <th style=\"padding-left: 1em; padding-right: 1em; text-align: center\">awful</th>\n",
       "        <th style=\"padding-left: 1em; padding-right: 1em; text-align: center\">wow</th>\n",
       "        <th style=\"padding-left: 1em; padding-right: 1em; text-align: center\">hate</th>\n",
       "    </tr>\n",
       "    <tr>\n",
       "        <td style=\"padding-left: 1em; padding-right: 1em; text-align: center; vertical-align: top\">0.9997307390047108</td>\n",
       "        <td style=\"padding-left: 1em; padding-right: 1em; text-align: center; vertical-align: top\">0.0</td>\n",
       "        <td style=\"padding-left: 1em; padding-right: 1em; text-align: center; vertical-align: top\">0.0</td>\n",
       "        <td style=\"padding-left: 1em; padding-right: 1em; text-align: center; vertical-align: top\">0.0</td>\n",
       "        <td style=\"padding-left: 1em; padding-right: 1em; text-align: center; vertical-align: top\">0.0</td>\n",
       "        <td style=\"padding-left: 1em; padding-right: 1em; text-align: center; vertical-align: top\">1.0</td>\n",
       "        <td style=\"padding-left: 1em; padding-right: 1em; text-align: center; vertical-align: top\">0</td>\n",
       "        <td style=\"padding-left: 1em; padding-right: 1em; text-align: center; vertical-align: top\">0</td>\n",
       "        <td style=\"padding-left: 1em; padding-right: 1em; text-align: center; vertical-align: top\">0.0</td>\n",
       "        <td style=\"padding-left: 1em; padding-right: 1em; text-align: center; vertical-align: top\">0</td>\n",
       "        <td style=\"padding-left: 1em; padding-right: 1em; text-align: center; vertical-align: top\">0</td>\n",
       "        <td style=\"padding-left: 1em; padding-right: 1em; text-align: center; vertical-align: top\">0</td>\n",
       "    </tr>\n",
       "    <tr>\n",
       "        <td style=\"padding-left: 1em; padding-right: 1em; text-align: center; vertical-align: top\">0.9985083368316828</td>\n",
       "        <td style=\"padding-left: 1em; padding-right: 1em; text-align: center; vertical-align: top\">0.0</td>\n",
       "        <td style=\"padding-left: 1em; padding-right: 1em; text-align: center; vertical-align: top\">0.0</td>\n",
       "        <td style=\"padding-left: 1em; padding-right: 1em; text-align: center; vertical-align: top\">0.0</td>\n",
       "        <td style=\"padding-left: 1em; padding-right: 1em; text-align: center; vertical-align: top\">0.0</td>\n",
       "        <td style=\"padding-left: 1em; padding-right: 1em; text-align: center; vertical-align: top\">0.0</td>\n",
       "        <td style=\"padding-left: 1em; padding-right: 1em; text-align: center; vertical-align: top\">0</td>\n",
       "        <td style=\"padding-left: 1em; padding-right: 1em; text-align: center; vertical-align: top\">0</td>\n",
       "        <td style=\"padding-left: 1em; padding-right: 1em; text-align: center; vertical-align: top\">0.0</td>\n",
       "        <td style=\"padding-left: 1em; padding-right: 1em; text-align: center; vertical-align: top\">0</td>\n",
       "        <td style=\"padding-left: 1em; padding-right: 1em; text-align: center; vertical-align: top\">0</td>\n",
       "        <td style=\"padding-left: 1em; padding-right: 1em; text-align: center; vertical-align: top\">0</td>\n",
       "    </tr>\n",
       "    <tr>\n",
       "        <td style=\"padding-left: 1em; padding-right: 1em; text-align: center; vertical-align: top\">0.9997489042499907</td>\n",
       "        <td style=\"padding-left: 1em; padding-right: 1em; text-align: center; vertical-align: top\">0.0</td>\n",
       "        <td style=\"padding-left: 1em; padding-right: 1em; text-align: center; vertical-align: top\">0.0</td>\n",
       "        <td style=\"padding-left: 1em; padding-right: 1em; text-align: center; vertical-align: top\">0.0</td>\n",
       "        <td style=\"padding-left: 1em; padding-right: 1em; text-align: center; vertical-align: top\">0.0</td>\n",
       "        <td style=\"padding-left: 1em; padding-right: 1em; text-align: center; vertical-align: top\">2.0</td>\n",
       "        <td style=\"padding-left: 1em; padding-right: 1em; text-align: center; vertical-align: top\">0</td>\n",
       "        <td style=\"padding-left: 1em; padding-right: 1em; text-align: center; vertical-align: top\">0</td>\n",
       "        <td style=\"padding-left: 1em; padding-right: 1em; text-align: center; vertical-align: top\">0.0</td>\n",
       "        <td style=\"padding-left: 1em; padding-right: 1em; text-align: center; vertical-align: top\">0</td>\n",
       "        <td style=\"padding-left: 1em; padding-right: 1em; text-align: center; vertical-align: top\">0</td>\n",
       "        <td style=\"padding-left: 1em; padding-right: 1em; text-align: center; vertical-align: top\">0</td>\n",
       "    </tr>\n",
       "    <tr>\n",
       "        <td style=\"padding-left: 1em; padding-right: 1em; text-align: center; vertical-align: top\">0.9999916625399978</td>\n",
       "        <td style=\"padding-left: 1em; padding-right: 1em; text-align: center; vertical-align: top\">0.0</td>\n",
       "        <td style=\"padding-left: 1em; padding-right: 1em; text-align: center; vertical-align: top\">1.0</td>\n",
       "        <td style=\"padding-left: 1em; padding-right: 1em; text-align: center; vertical-align: top\">0.0</td>\n",
       "        <td style=\"padding-left: 1em; padding-right: 1em; text-align: center; vertical-align: top\">0.0</td>\n",
       "        <td style=\"padding-left: 1em; padding-right: 1em; text-align: center; vertical-align: top\">1.0</td>\n",
       "        <td style=\"padding-left: 1em; padding-right: 1em; text-align: center; vertical-align: top\">0</td>\n",
       "        <td style=\"padding-left: 1em; padding-right: 1em; text-align: center; vertical-align: top\">0</td>\n",
       "        <td style=\"padding-left: 1em; padding-right: 1em; text-align: center; vertical-align: top\">0.0</td>\n",
       "        <td style=\"padding-left: 1em; padding-right: 1em; text-align: center; vertical-align: top\">0</td>\n",
       "        <td style=\"padding-left: 1em; padding-right: 1em; text-align: center; vertical-align: top\">0</td>\n",
       "        <td style=\"padding-left: 1em; padding-right: 1em; text-align: center; vertical-align: top\">0</td>\n",
       "    </tr>\n",
       "    <tr>\n",
       "        <td style=\"padding-left: 1em; padding-right: 1em; text-align: center; vertical-align: top\">0.9999999514462167</td>\n",
       "        <td style=\"padding-left: 1em; padding-right: 1em; text-align: center; vertical-align: top\">0.0</td>\n",
       "        <td style=\"padding-left: 1em; padding-right: 1em; text-align: center; vertical-align: top\">1.0</td>\n",
       "        <td style=\"padding-left: 1em; padding-right: 1em; text-align: center; vertical-align: top\">0.0</td>\n",
       "        <td style=\"padding-left: 1em; padding-right: 1em; text-align: center; vertical-align: top\">0.0</td>\n",
       "        <td style=\"padding-left: 1em; padding-right: 1em; text-align: center; vertical-align: top\">0.0</td>\n",
       "        <td style=\"padding-left: 1em; padding-right: 1em; text-align: center; vertical-align: top\">0</td>\n",
       "        <td style=\"padding-left: 1em; padding-right: 1em; text-align: center; vertical-align: top\">0</td>\n",
       "        <td style=\"padding-left: 1em; padding-right: 1em; text-align: center; vertical-align: top\">0.0</td>\n",
       "        <td style=\"padding-left: 1em; padding-right: 1em; text-align: center; vertical-align: top\">0</td>\n",
       "        <td style=\"padding-left: 1em; padding-right: 1em; text-align: center; vertical-align: top\">0</td>\n",
       "        <td style=\"padding-left: 1em; padding-right: 1em; text-align: center; vertical-align: top\">0</td>\n",
       "    </tr>\n",
       "    <tr>\n",
       "        <td style=\"padding-left: 1em; padding-right: 1em; text-align: center; vertical-align: top\">0.9999146735569922</td>\n",
       "        <td style=\"padding-left: 1em; padding-right: 1em; text-align: center; vertical-align: top\">0.0</td>\n",
       "        <td style=\"padding-left: 1em; padding-right: 1em; text-align: center; vertical-align: top\">0.0</td>\n",
       "        <td style=\"padding-left: 1em; padding-right: 1em; text-align: center; vertical-align: top\">0.0</td>\n",
       "        <td style=\"padding-left: 1em; padding-right: 1em; text-align: center; vertical-align: top\">0.0</td>\n",
       "        <td style=\"padding-left: 1em; padding-right: 1em; text-align: center; vertical-align: top\">0.0</td>\n",
       "        <td style=\"padding-left: 1em; padding-right: 1em; text-align: center; vertical-align: top\">0</td>\n",
       "        <td style=\"padding-left: 1em; padding-right: 1em; text-align: center; vertical-align: top\">0</td>\n",
       "        <td style=\"padding-left: 1em; padding-right: 1em; text-align: center; vertical-align: top\">0.0</td>\n",
       "        <td style=\"padding-left: 1em; padding-right: 1em; text-align: center; vertical-align: top\">0</td>\n",
       "        <td style=\"padding-left: 1em; padding-right: 1em; text-align: center; vertical-align: top\">0</td>\n",
       "        <td style=\"padding-left: 1em; padding-right: 1em; text-align: center; vertical-align: top\">0</td>\n",
       "    </tr>\n",
       "    <tr>\n",
       "        <td style=\"padding-left: 1em; padding-right: 1em; text-align: center; vertical-align: top\">0.9999916615904655</td>\n",
       "        <td style=\"padding-left: 1em; padding-right: 1em; text-align: center; vertical-align: top\">0.0</td>\n",
       "        <td style=\"padding-left: 1em; padding-right: 1em; text-align: center; vertical-align: top\">0.0</td>\n",
       "        <td style=\"padding-left: 1em; padding-right: 1em; text-align: center; vertical-align: top\">0.0</td>\n",
       "        <td style=\"padding-left: 1em; padding-right: 1em; text-align: center; vertical-align: top\">0.0</td>\n",
       "        <td style=\"padding-left: 1em; padding-right: 1em; text-align: center; vertical-align: top\">0.0</td>\n",
       "        <td style=\"padding-left: 1em; padding-right: 1em; text-align: center; vertical-align: top\">0</td>\n",
       "        <td style=\"padding-left: 1em; padding-right: 1em; text-align: center; vertical-align: top\">0</td>\n",
       "        <td style=\"padding-left: 1em; padding-right: 1em; text-align: center; vertical-align: top\">0.0</td>\n",
       "        <td style=\"padding-left: 1em; padding-right: 1em; text-align: center; vertical-align: top\">0</td>\n",
       "        <td style=\"padding-left: 1em; padding-right: 1em; text-align: center; vertical-align: top\">0</td>\n",
       "        <td style=\"padding-left: 1em; padding-right: 1em; text-align: center; vertical-align: top\">0</td>\n",
       "    </tr>\n",
       "    <tr>\n",
       "        <td style=\"padding-left: 1em; padding-right: 1em; text-align: center; vertical-align: top\">0.999993884359401</td>\n",
       "        <td style=\"padding-left: 1em; padding-right: 1em; text-align: center; vertical-align: top\">0.0</td>\n",
       "        <td style=\"padding-left: 1em; padding-right: 1em; text-align: center; vertical-align: top\">0.0</td>\n",
       "        <td style=\"padding-left: 1em; padding-right: 1em; text-align: center; vertical-align: top\">1.0</td>\n",
       "        <td style=\"padding-left: 1em; padding-right: 1em; text-align: center; vertical-align: top\">0.0</td>\n",
       "        <td style=\"padding-left: 1em; padding-right: 1em; text-align: center; vertical-align: top\">0.0</td>\n",
       "        <td style=\"padding-left: 1em; padding-right: 1em; text-align: center; vertical-align: top\">0</td>\n",
       "        <td style=\"padding-left: 1em; padding-right: 1em; text-align: center; vertical-align: top\">0</td>\n",
       "        <td style=\"padding-left: 1em; padding-right: 1em; text-align: center; vertical-align: top\">0.0</td>\n",
       "        <td style=\"padding-left: 1em; padding-right: 1em; text-align: center; vertical-align: top\">0</td>\n",
       "        <td style=\"padding-left: 1em; padding-right: 1em; text-align: center; vertical-align: top\">0</td>\n",
       "        <td style=\"padding-left: 1em; padding-right: 1em; text-align: center; vertical-align: top\">0</td>\n",
       "    </tr>\n",
       "    <tr>\n",
       "        <td style=\"padding-left: 1em; padding-right: 1em; text-align: center; vertical-align: top\">0.9961247617005233</td>\n",
       "        <td style=\"padding-left: 1em; padding-right: 1em; text-align: center; vertical-align: top\">0.0</td>\n",
       "        <td style=\"padding-left: 1em; padding-right: 1em; text-align: center; vertical-align: top\">0.0</td>\n",
       "        <td style=\"padding-left: 1em; padding-right: 1em; text-align: center; vertical-align: top\">0.0</td>\n",
       "        <td style=\"padding-left: 1em; padding-right: 1em; text-align: center; vertical-align: top\">0.0</td>\n",
       "        <td style=\"padding-left: 1em; padding-right: 1em; text-align: center; vertical-align: top\">0.0</td>\n",
       "        <td style=\"padding-left: 1em; padding-right: 1em; text-align: center; vertical-align: top\">0</td>\n",
       "        <td style=\"padding-left: 1em; padding-right: 1em; text-align: center; vertical-align: top\">0</td>\n",
       "        <td style=\"padding-left: 1em; padding-right: 1em; text-align: center; vertical-align: top\">0.0</td>\n",
       "        <td style=\"padding-left: 1em; padding-right: 1em; text-align: center; vertical-align: top\">0</td>\n",
       "        <td style=\"padding-left: 1em; padding-right: 1em; text-align: center; vertical-align: top\">0</td>\n",
       "        <td style=\"padding-left: 1em; padding-right: 1em; text-align: center; vertical-align: top\">0</td>\n",
       "    </tr>\n",
       "    <tr>\n",
       "        <td style=\"padding-left: 1em; padding-right: 1em; text-align: center; vertical-align: top\">0.9999999920460633</td>\n",
       "        <td style=\"padding-left: 1em; padding-right: 1em; text-align: center; vertical-align: top\">0.0</td>\n",
       "        <td style=\"padding-left: 1em; padding-right: 1em; text-align: center; vertical-align: top\">0.0</td>\n",
       "        <td style=\"padding-left: 1em; padding-right: 1em; text-align: center; vertical-align: top\">0.0</td>\n",
       "        <td style=\"padding-left: 1em; padding-right: 1em; text-align: center; vertical-align: top\">0.0</td>\n",
       "        <td style=\"padding-left: 1em; padding-right: 1em; text-align: center; vertical-align: top\">2.0</td>\n",
       "        <td style=\"padding-left: 1em; padding-right: 1em; text-align: center; vertical-align: top\">0</td>\n",
       "        <td style=\"padding-left: 1em; padding-right: 1em; text-align: center; vertical-align: top\">0</td>\n",
       "        <td style=\"padding-left: 1em; padding-right: 1em; text-align: center; vertical-align: top\">0.0</td>\n",
       "        <td style=\"padding-left: 1em; padding-right: 1em; text-align: center; vertical-align: top\">0</td>\n",
       "        <td style=\"padding-left: 1em; padding-right: 1em; text-align: center; vertical-align: top\">0</td>\n",
       "        <td style=\"padding-left: 1em; padding-right: 1em; text-align: center; vertical-align: top\">0</td>\n",
       "    </tr>\n",
       "</table>\n",
       "[166752 rows x 17 columns]<br/>Note: Only the head of the SFrame is printed.<br/>You can use print_rows(num_rows=m, num_columns=n) to print more rows and columns.\n",
       "</div>"
      ],
      "text/plain": [
       "Columns:\n",
       "\tname\tstr\n",
       "\treview\tstr\n",
       "\trating\tfloat\n",
       "\tword_count\tdict\n",
       "\tsentiment\tint\n",
       "\tpredicted_sentiment\tfloat\n",
       "\tawesome\tfloat\n",
       "\tgreat\tfloat\n",
       "\tfantastic\tfloat\n",
       "\tamazing\tfloat\n",
       "\tlove\tfloat\n",
       "\thorrible\tint\n",
       "\tbad\tint\n",
       "\tterrible\tfloat\n",
       "\tawful\tint\n",
       "\twow\tint\n",
       "\thate\tint\n",
       "\n",
       "Rows: 166752\n",
       "\n",
       "Data:\n",
       "+-------------------------------+-------------------------------+--------+\n",
       "|              name             |             review            | rating |\n",
       "+-------------------------------+-------------------------------+--------+\n",
       "|     Planetwise Wipe Pouch     | it came early and was not ... |  5.0   |\n",
       "| Annas Dream Full Quilt wit... | Very soft and comfortable ... |  5.0   |\n",
       "| Stop Pacifier Sucking with... | This is a product well wor... |  5.0   |\n",
       "| Stop Pacifier Sucking with... | All of my kids have cried ... |  5.0   |\n",
       "| Stop Pacifier Sucking with... | When the Binky Fairy came ... |  5.0   |\n",
       "| A Tale of Baby's Days with... | Lovely book, it's bound ti... |  4.0   |\n",
       "| Baby Tracker&reg; - Daily ... | Perfect for new parents. W... |  5.0   |\n",
       "| Baby Tracker&reg; - Daily ... | A friend of mine pinned th... |  5.0   |\n",
       "| Baby Tracker&reg; - Daily ... | This has been an easy way ... |  4.0   |\n",
       "| Baby Tracker&reg; - Daily ... | I love this journal and ou... |  4.0   |\n",
       "+-------------------------------+-------------------------------+--------+\n",
       "+-------------------------------+-----------+---------------------+---------+\n",
       "|           word_count          | sentiment | predicted_sentiment | awesome |\n",
       "+-------------------------------+-----------+---------------------+---------+\n",
       "| {'recommend': 1.0, 'highly... |     1     |  0.9997307390047108 |   0.0   |\n",
       "| {'quilt': 1.0, 'of': 1.0, ... |     1     |  0.9985083368316828 |   0.0   |\n",
       "| {'tool': 1.0, 'clever': 1.... |     1     |  0.9997489042499907 |   0.0   |\n",
       "| {'rock': 1.0, 'many': 1.0,... |     1     |  0.9999916625399978 |   0.0   |\n",
       "| {'thumb': 1.0, 'or': 1.0, ... |     1     |  0.9999999514462167 |   0.0   |\n",
       "| {'for': 1.0, 'barnes': 1.0... |     1     |  0.9999146735569922 |   0.0   |\n",
       "| {'right': 1.0, 'because': ... |     1     |  0.9999916615904655 |   0.0   |\n",
       "| {'like': 1.0, 'and': 1.0, ... |     1     |  0.999993884359401  |   0.0   |\n",
       "| {'in': 1.0, 'pages': 1.0, ... |     1     |  0.9961247617005233 |   0.0   |\n",
       "| {'tracker': 1.0, 'now': 1.... |     1     |  0.9999999920460633 |   0.0   |\n",
       "+-------------------------------+-----------+---------------------+---------+\n",
       "+-------+-----------+---------+------+----------+-----+----------+-------+-----+\n",
       "| great | fantastic | amazing | love | horrible | bad | terrible | awful | wow |\n",
       "+-------+-----------+---------+------+----------+-----+----------+-------+-----+\n",
       "|  0.0  |    0.0    |   0.0   | 1.0  |    0     |  0  |   0.0    |   0   |  0  |\n",
       "|  0.0  |    0.0    |   0.0   | 0.0  |    0     |  0  |   0.0    |   0   |  0  |\n",
       "|  0.0  |    0.0    |   0.0   | 2.0  |    0     |  0  |   0.0    |   0   |  0  |\n",
       "|  1.0  |    0.0    |   0.0   | 1.0  |    0     |  0  |   0.0    |   0   |  0  |\n",
       "|  1.0  |    0.0    |   0.0   | 0.0  |    0     |  0  |   0.0    |   0   |  0  |\n",
       "|  0.0  |    0.0    |   0.0   | 0.0  |    0     |  0  |   0.0    |   0   |  0  |\n",
       "|  0.0  |    0.0    |   0.0   | 0.0  |    0     |  0  |   0.0    |   0   |  0  |\n",
       "|  0.0  |    1.0    |   0.0   | 0.0  |    0     |  0  |   0.0    |   0   |  0  |\n",
       "|  0.0  |    0.0    |   0.0   | 0.0  |    0     |  0  |   0.0    |   0   |  0  |\n",
       "|  0.0  |    0.0    |   0.0   | 2.0  |    0     |  0  |   0.0    |   0   |  0  |\n",
       "+-------+-----------+---------+------+----------+-----+----------+-------+-----+\n",
       "+------+\n",
       "| hate |\n",
       "+------+\n",
       "|  0   |\n",
       "|  0   |\n",
       "|  0   |\n",
       "|  0   |\n",
       "|  0   |\n",
       "|  0   |\n",
       "|  0   |\n",
       "|  0   |\n",
       "|  0   |\n",
       "|  0   |\n",
       "+------+\n",
       "[166752 rows x 17 columns]\n",
       "Note: Only the head of the SFrame is printed.\n",
       "You can use print_rows(num_rows=m, num_columns=n) to print more rows and columns."
      ]
     },
     "execution_count": 212,
     "metadata": {},
     "output_type": "execute_result"
    }
   ],
   "source": [
    "products\n"
   ]
  },
  {
   "cell_type": "code",
   "execution_count": 213,
   "metadata": {},
   "outputs": [
    {
     "data": {
      "text/plain": [
       "3892.0"
      ]
     },
     "execution_count": 213,
     "metadata": {},
     "output_type": "execute_result"
    }
   ],
   "source": [
    "sum(products['awesome'])"
   ]
  },
  {
   "cell_type": "code",
   "execution_count": 214,
   "metadata": {},
   "outputs": [
    {
     "data": {
      "text/plain": [
       "1664.0"
      ]
     },
     "execution_count": 214,
     "metadata": {},
     "output_type": "execute_result"
    }
   ],
   "source": [
    "sum(products['fantastic'])"
   ]
  },
  {
   "cell_type": "code",
   "execution_count": 215,
   "metadata": {},
   "outputs": [
    {
     "name": "stdout",
     "output_type": "stream",
     "text": [
      "awesome\n",
      "3892.0\n",
      "great\n",
      "55791.0\n",
      "fantastic\n",
      "1664.0\n",
      "amazing\n",
      "2628.0\n",
      "love\n",
      "41994.0\n",
      "horrible\n",
      "1110\n",
      "bad\n",
      "4183\n",
      "terrible\n",
      "1146.0\n",
      "awful\n",
      "687\n",
      "wow\n",
      "425\n",
      "hate\n",
      "1107\n"
     ]
    }
   ],
   "source": [
    "for pos,word in enumerate(selected_words):\n",
    "    print (word)\n",
    "    print (products[word].sum())"
   ]
  },
  {
   "cell_type": "code",
   "execution_count": 216,
   "metadata": {},
   "outputs": [
    {
     "data": {
      "text/html": [
       "<div style=\"max-height:1000px;max-width:1500px;overflow:auto;\"><table frame=\"box\" rules=\"cols\">\n",
       "    <tr>\n",
       "        <th style=\"padding-left: 1em; padding-right: 1em; text-align: center\">name</th>\n",
       "        <th style=\"padding-left: 1em; padding-right: 1em; text-align: center\">review</th>\n",
       "        <th style=\"padding-left: 1em; padding-right: 1em; text-align: center\">rating</th>\n",
       "        <th style=\"padding-left: 1em; padding-right: 1em; text-align: center\">word_count</th>\n",
       "        <th style=\"padding-left: 1em; padding-right: 1em; text-align: center\">sentiment</th>\n",
       "    </tr>\n",
       "    <tr>\n",
       "        <td style=\"padding-left: 1em; padding-right: 1em; text-align: center; vertical-align: top\">Planetwise Wipe Pouch</td>\n",
       "        <td style=\"padding-left: 1em; padding-right: 1em; text-align: center; vertical-align: top\">it came early and was not<br>disappointed. i love ...</td>\n",
       "        <td style=\"padding-left: 1em; padding-right: 1em; text-align: center; vertical-align: top\">5.0</td>\n",
       "        <td style=\"padding-left: 1em; padding-right: 1em; text-align: center; vertical-align: top\">{&#x27;recommend&#x27;: 1.0,<br>&#x27;highly&#x27;: 1.0, ...</td>\n",
       "        <td style=\"padding-left: 1em; padding-right: 1em; text-align: center; vertical-align: top\">1</td>\n",
       "    </tr>\n",
       "    <tr>\n",
       "        <td style=\"padding-left: 1em; padding-right: 1em; text-align: center; vertical-align: top\">Annas Dream Full Quilt<br>with 2 Shams ...</td>\n",
       "        <td style=\"padding-left: 1em; padding-right: 1em; text-align: center; vertical-align: top\">Very soft and comfortable<br>and warmer than it ...</td>\n",
       "        <td style=\"padding-left: 1em; padding-right: 1em; text-align: center; vertical-align: top\">5.0</td>\n",
       "        <td style=\"padding-left: 1em; padding-right: 1em; text-align: center; vertical-align: top\">{&#x27;quilt&#x27;: 1.0, &#x27;of&#x27;: 1.0,<br>&#x27;the&#x27;: 1.0, &#x27;than&#x27;: 1.0, ...</td>\n",
       "        <td style=\"padding-left: 1em; padding-right: 1em; text-align: center; vertical-align: top\">1</td>\n",
       "    </tr>\n",
       "    <tr>\n",
       "        <td style=\"padding-left: 1em; padding-right: 1em; text-align: center; vertical-align: top\">Stop Pacifier Sucking<br>without tears with ...</td>\n",
       "        <td style=\"padding-left: 1em; padding-right: 1em; text-align: center; vertical-align: top\">This is a product well<br>worth the purchase.  I ...</td>\n",
       "        <td style=\"padding-left: 1em; padding-right: 1em; text-align: center; vertical-align: top\">5.0</td>\n",
       "        <td style=\"padding-left: 1em; padding-right: 1em; text-align: center; vertical-align: top\">{&#x27;tool&#x27;: 1.0, &#x27;clever&#x27;:<br>1.0, &#x27;approach&#x27;: 2.0, ...</td>\n",
       "        <td style=\"padding-left: 1em; padding-right: 1em; text-align: center; vertical-align: top\">1</td>\n",
       "    </tr>\n",
       "    <tr>\n",
       "        <td style=\"padding-left: 1em; padding-right: 1em; text-align: center; vertical-align: top\">Stop Pacifier Sucking<br>without tears with ...</td>\n",
       "        <td style=\"padding-left: 1em; padding-right: 1em; text-align: center; vertical-align: top\">All of my kids have cried<br>non-stop when I tried to ...</td>\n",
       "        <td style=\"padding-left: 1em; padding-right: 1em; text-align: center; vertical-align: top\">5.0</td>\n",
       "        <td style=\"padding-left: 1em; padding-right: 1em; text-align: center; vertical-align: top\">{&#x27;rock&#x27;: 1.0, &#x27;many&#x27;:<br>1.0, &#x27;headaches&#x27;: 1.0, ...</td>\n",
       "        <td style=\"padding-left: 1em; padding-right: 1em; text-align: center; vertical-align: top\">1</td>\n",
       "    </tr>\n",
       "    <tr>\n",
       "        <td style=\"padding-left: 1em; padding-right: 1em; text-align: center; vertical-align: top\">Stop Pacifier Sucking<br>without tears with ...</td>\n",
       "        <td style=\"padding-left: 1em; padding-right: 1em; text-align: center; vertical-align: top\">When the Binky Fairy came<br>to our house, we didn&#x27;t ...</td>\n",
       "        <td style=\"padding-left: 1em; padding-right: 1em; text-align: center; vertical-align: top\">5.0</td>\n",
       "        <td style=\"padding-left: 1em; padding-right: 1em; text-align: center; vertical-align: top\">{&#x27;thumb&#x27;: 1.0, &#x27;or&#x27;: 1.0,<br>&#x27;break&#x27;: 1.0, &#x27;trying&#x27;: ...</td>\n",
       "        <td style=\"padding-left: 1em; padding-right: 1em; text-align: center; vertical-align: top\">1</td>\n",
       "    </tr>\n",
       "    <tr>\n",
       "        <td style=\"padding-left: 1em; padding-right: 1em; text-align: center; vertical-align: top\">A Tale of Baby&#x27;s Days<br>with Peter Rabbit ...</td>\n",
       "        <td style=\"padding-left: 1em; padding-right: 1em; text-align: center; vertical-align: top\">Lovely book, it&#x27;s bound<br>tightly so you may no ...</td>\n",
       "        <td style=\"padding-left: 1em; padding-right: 1em; text-align: center; vertical-align: top\">4.0</td>\n",
       "        <td style=\"padding-left: 1em; padding-right: 1em; text-align: center; vertical-align: top\">{&#x27;for&#x27;: 1.0, &#x27;barnes&#x27;:<br>1.0, &#x27;at&#x27;: 1.0, &#x27;is&#x27;: ...</td>\n",
       "        <td style=\"padding-left: 1em; padding-right: 1em; text-align: center; vertical-align: top\">1</td>\n",
       "    </tr>\n",
       "    <tr>\n",
       "        <td style=\"padding-left: 1em; padding-right: 1em; text-align: center; vertical-align: top\">Baby Tracker&amp;reg; - Daily<br>Childcare Journal, ...</td>\n",
       "        <td style=\"padding-left: 1em; padding-right: 1em; text-align: center; vertical-align: top\">Perfect for new parents.<br>We were able to keep ...</td>\n",
       "        <td style=\"padding-left: 1em; padding-right: 1em; text-align: center; vertical-align: top\">5.0</td>\n",
       "        <td style=\"padding-left: 1em; padding-right: 1em; text-align: center; vertical-align: top\">{&#x27;right&#x27;: 1.0, &#x27;because&#x27;:<br>1.0, &#x27;questions&#x27;: 1.0, ...</td>\n",
       "        <td style=\"padding-left: 1em; padding-right: 1em; text-align: center; vertical-align: top\">1</td>\n",
       "    </tr>\n",
       "    <tr>\n",
       "        <td style=\"padding-left: 1em; padding-right: 1em; text-align: center; vertical-align: top\">Baby Tracker&amp;reg; - Daily<br>Childcare Journal, ...</td>\n",
       "        <td style=\"padding-left: 1em; padding-right: 1em; text-align: center; vertical-align: top\">A friend of mine pinned<br>this product on Pinte ...</td>\n",
       "        <td style=\"padding-left: 1em; padding-right: 1em; text-align: center; vertical-align: top\">5.0</td>\n",
       "        <td style=\"padding-left: 1em; padding-right: 1em; text-align: center; vertical-align: top\">{&#x27;like&#x27;: 1.0, &#x27;and&#x27;: 1.0,<br>&#x27;changes&#x27;: 1.0, &#x27;the&#x27;: ...</td>\n",
       "        <td style=\"padding-left: 1em; padding-right: 1em; text-align: center; vertical-align: top\">1</td>\n",
       "    </tr>\n",
       "    <tr>\n",
       "        <td style=\"padding-left: 1em; padding-right: 1em; text-align: center; vertical-align: top\">Baby Tracker&amp;reg; - Daily<br>Childcare Journal, ...</td>\n",
       "        <td style=\"padding-left: 1em; padding-right: 1em; text-align: center; vertical-align: top\">This has been an easy way<br>for my nanny to record ...</td>\n",
       "        <td style=\"padding-left: 1em; padding-right: 1em; text-align: center; vertical-align: top\">4.0</td>\n",
       "        <td style=\"padding-left: 1em; padding-right: 1em; text-align: center; vertical-align: top\">{&#x27;in&#x27;: 1.0, &#x27;pages&#x27;: 1.0,<br>&#x27;out&#x27;: 1.0, &#x27;run&#x27;: 1.0, ...</td>\n",
       "        <td style=\"padding-left: 1em; padding-right: 1em; text-align: center; vertical-align: top\">1</td>\n",
       "    </tr>\n",
       "    <tr>\n",
       "        <td style=\"padding-left: 1em; padding-right: 1em; text-align: center; vertical-align: top\">Baby Tracker&amp;reg; - Daily<br>Childcare Journal, ...</td>\n",
       "        <td style=\"padding-left: 1em; padding-right: 1em; text-align: center; vertical-align: top\">I love this journal and<br>our nanny uses it ...</td>\n",
       "        <td style=\"padding-left: 1em; padding-right: 1em; text-align: center; vertical-align: top\">4.0</td>\n",
       "        <td style=\"padding-left: 1em; padding-right: 1em; text-align: center; vertical-align: top\">{&#x27;tracker&#x27;: 1.0, &#x27;now&#x27;:<br>1.0, &#x27;its&#x27;: 1.0, &#x27;sti ...</td>\n",
       "        <td style=\"padding-left: 1em; padding-right: 1em; text-align: center; vertical-align: top\">1</td>\n",
       "    </tr>\n",
       "</table>\n",
       "<table frame=\"box\" rules=\"cols\">\n",
       "    <tr>\n",
       "        <th style=\"padding-left: 1em; padding-right: 1em; text-align: center\">predicted_sentiment</th>\n",
       "        <th style=\"padding-left: 1em; padding-right: 1em; text-align: center\">awesome</th>\n",
       "        <th style=\"padding-left: 1em; padding-right: 1em; text-align: center\">great</th>\n",
       "        <th style=\"padding-left: 1em; padding-right: 1em; text-align: center\">fantastic</th>\n",
       "        <th style=\"padding-left: 1em; padding-right: 1em; text-align: center\">amazing</th>\n",
       "        <th style=\"padding-left: 1em; padding-right: 1em; text-align: center\">love</th>\n",
       "        <th style=\"padding-left: 1em; padding-right: 1em; text-align: center\">horrible</th>\n",
       "        <th style=\"padding-left: 1em; padding-right: 1em; text-align: center\">bad</th>\n",
       "        <th style=\"padding-left: 1em; padding-right: 1em; text-align: center\">terrible</th>\n",
       "        <th style=\"padding-left: 1em; padding-right: 1em; text-align: center\">awful</th>\n",
       "        <th style=\"padding-left: 1em; padding-right: 1em; text-align: center\">wow</th>\n",
       "        <th style=\"padding-left: 1em; padding-right: 1em; text-align: center\">hate</th>\n",
       "    </tr>\n",
       "    <tr>\n",
       "        <td style=\"padding-left: 1em; padding-right: 1em; text-align: center; vertical-align: top\">0.9997307390047108</td>\n",
       "        <td style=\"padding-left: 1em; padding-right: 1em; text-align: center; vertical-align: top\">0.0</td>\n",
       "        <td style=\"padding-left: 1em; padding-right: 1em; text-align: center; vertical-align: top\">0.0</td>\n",
       "        <td style=\"padding-left: 1em; padding-right: 1em; text-align: center; vertical-align: top\">0.0</td>\n",
       "        <td style=\"padding-left: 1em; padding-right: 1em; text-align: center; vertical-align: top\">0.0</td>\n",
       "        <td style=\"padding-left: 1em; padding-right: 1em; text-align: center; vertical-align: top\">1.0</td>\n",
       "        <td style=\"padding-left: 1em; padding-right: 1em; text-align: center; vertical-align: top\">0</td>\n",
       "        <td style=\"padding-left: 1em; padding-right: 1em; text-align: center; vertical-align: top\">0</td>\n",
       "        <td style=\"padding-left: 1em; padding-right: 1em; text-align: center; vertical-align: top\">0.0</td>\n",
       "        <td style=\"padding-left: 1em; padding-right: 1em; text-align: center; vertical-align: top\">0</td>\n",
       "        <td style=\"padding-left: 1em; padding-right: 1em; text-align: center; vertical-align: top\">0</td>\n",
       "        <td style=\"padding-left: 1em; padding-right: 1em; text-align: center; vertical-align: top\">0</td>\n",
       "    </tr>\n",
       "    <tr>\n",
       "        <td style=\"padding-left: 1em; padding-right: 1em; text-align: center; vertical-align: top\">0.9985083368316828</td>\n",
       "        <td style=\"padding-left: 1em; padding-right: 1em; text-align: center; vertical-align: top\">0.0</td>\n",
       "        <td style=\"padding-left: 1em; padding-right: 1em; text-align: center; vertical-align: top\">0.0</td>\n",
       "        <td style=\"padding-left: 1em; padding-right: 1em; text-align: center; vertical-align: top\">0.0</td>\n",
       "        <td style=\"padding-left: 1em; padding-right: 1em; text-align: center; vertical-align: top\">0.0</td>\n",
       "        <td style=\"padding-left: 1em; padding-right: 1em; text-align: center; vertical-align: top\">0.0</td>\n",
       "        <td style=\"padding-left: 1em; padding-right: 1em; text-align: center; vertical-align: top\">0</td>\n",
       "        <td style=\"padding-left: 1em; padding-right: 1em; text-align: center; vertical-align: top\">0</td>\n",
       "        <td style=\"padding-left: 1em; padding-right: 1em; text-align: center; vertical-align: top\">0.0</td>\n",
       "        <td style=\"padding-left: 1em; padding-right: 1em; text-align: center; vertical-align: top\">0</td>\n",
       "        <td style=\"padding-left: 1em; padding-right: 1em; text-align: center; vertical-align: top\">0</td>\n",
       "        <td style=\"padding-left: 1em; padding-right: 1em; text-align: center; vertical-align: top\">0</td>\n",
       "    </tr>\n",
       "    <tr>\n",
       "        <td style=\"padding-left: 1em; padding-right: 1em; text-align: center; vertical-align: top\">0.9997489042499907</td>\n",
       "        <td style=\"padding-left: 1em; padding-right: 1em; text-align: center; vertical-align: top\">0.0</td>\n",
       "        <td style=\"padding-left: 1em; padding-right: 1em; text-align: center; vertical-align: top\">0.0</td>\n",
       "        <td style=\"padding-left: 1em; padding-right: 1em; text-align: center; vertical-align: top\">0.0</td>\n",
       "        <td style=\"padding-left: 1em; padding-right: 1em; text-align: center; vertical-align: top\">0.0</td>\n",
       "        <td style=\"padding-left: 1em; padding-right: 1em; text-align: center; vertical-align: top\">2.0</td>\n",
       "        <td style=\"padding-left: 1em; padding-right: 1em; text-align: center; vertical-align: top\">0</td>\n",
       "        <td style=\"padding-left: 1em; padding-right: 1em; text-align: center; vertical-align: top\">0</td>\n",
       "        <td style=\"padding-left: 1em; padding-right: 1em; text-align: center; vertical-align: top\">0.0</td>\n",
       "        <td style=\"padding-left: 1em; padding-right: 1em; text-align: center; vertical-align: top\">0</td>\n",
       "        <td style=\"padding-left: 1em; padding-right: 1em; text-align: center; vertical-align: top\">0</td>\n",
       "        <td style=\"padding-left: 1em; padding-right: 1em; text-align: center; vertical-align: top\">0</td>\n",
       "    </tr>\n",
       "    <tr>\n",
       "        <td style=\"padding-left: 1em; padding-right: 1em; text-align: center; vertical-align: top\">0.9999916625399978</td>\n",
       "        <td style=\"padding-left: 1em; padding-right: 1em; text-align: center; vertical-align: top\">0.0</td>\n",
       "        <td style=\"padding-left: 1em; padding-right: 1em; text-align: center; vertical-align: top\">1.0</td>\n",
       "        <td style=\"padding-left: 1em; padding-right: 1em; text-align: center; vertical-align: top\">0.0</td>\n",
       "        <td style=\"padding-left: 1em; padding-right: 1em; text-align: center; vertical-align: top\">0.0</td>\n",
       "        <td style=\"padding-left: 1em; padding-right: 1em; text-align: center; vertical-align: top\">1.0</td>\n",
       "        <td style=\"padding-left: 1em; padding-right: 1em; text-align: center; vertical-align: top\">0</td>\n",
       "        <td style=\"padding-left: 1em; padding-right: 1em; text-align: center; vertical-align: top\">0</td>\n",
       "        <td style=\"padding-left: 1em; padding-right: 1em; text-align: center; vertical-align: top\">0.0</td>\n",
       "        <td style=\"padding-left: 1em; padding-right: 1em; text-align: center; vertical-align: top\">0</td>\n",
       "        <td style=\"padding-left: 1em; padding-right: 1em; text-align: center; vertical-align: top\">0</td>\n",
       "        <td style=\"padding-left: 1em; padding-right: 1em; text-align: center; vertical-align: top\">0</td>\n",
       "    </tr>\n",
       "    <tr>\n",
       "        <td style=\"padding-left: 1em; padding-right: 1em; text-align: center; vertical-align: top\">0.9999999514462167</td>\n",
       "        <td style=\"padding-left: 1em; padding-right: 1em; text-align: center; vertical-align: top\">0.0</td>\n",
       "        <td style=\"padding-left: 1em; padding-right: 1em; text-align: center; vertical-align: top\">1.0</td>\n",
       "        <td style=\"padding-left: 1em; padding-right: 1em; text-align: center; vertical-align: top\">0.0</td>\n",
       "        <td style=\"padding-left: 1em; padding-right: 1em; text-align: center; vertical-align: top\">0.0</td>\n",
       "        <td style=\"padding-left: 1em; padding-right: 1em; text-align: center; vertical-align: top\">0.0</td>\n",
       "        <td style=\"padding-left: 1em; padding-right: 1em; text-align: center; vertical-align: top\">0</td>\n",
       "        <td style=\"padding-left: 1em; padding-right: 1em; text-align: center; vertical-align: top\">0</td>\n",
       "        <td style=\"padding-left: 1em; padding-right: 1em; text-align: center; vertical-align: top\">0.0</td>\n",
       "        <td style=\"padding-left: 1em; padding-right: 1em; text-align: center; vertical-align: top\">0</td>\n",
       "        <td style=\"padding-left: 1em; padding-right: 1em; text-align: center; vertical-align: top\">0</td>\n",
       "        <td style=\"padding-left: 1em; padding-right: 1em; text-align: center; vertical-align: top\">0</td>\n",
       "    </tr>\n",
       "    <tr>\n",
       "        <td style=\"padding-left: 1em; padding-right: 1em; text-align: center; vertical-align: top\">0.9999146735569922</td>\n",
       "        <td style=\"padding-left: 1em; padding-right: 1em; text-align: center; vertical-align: top\">0.0</td>\n",
       "        <td style=\"padding-left: 1em; padding-right: 1em; text-align: center; vertical-align: top\">0.0</td>\n",
       "        <td style=\"padding-left: 1em; padding-right: 1em; text-align: center; vertical-align: top\">0.0</td>\n",
       "        <td style=\"padding-left: 1em; padding-right: 1em; text-align: center; vertical-align: top\">0.0</td>\n",
       "        <td style=\"padding-left: 1em; padding-right: 1em; text-align: center; vertical-align: top\">0.0</td>\n",
       "        <td style=\"padding-left: 1em; padding-right: 1em; text-align: center; vertical-align: top\">0</td>\n",
       "        <td style=\"padding-left: 1em; padding-right: 1em; text-align: center; vertical-align: top\">0</td>\n",
       "        <td style=\"padding-left: 1em; padding-right: 1em; text-align: center; vertical-align: top\">0.0</td>\n",
       "        <td style=\"padding-left: 1em; padding-right: 1em; text-align: center; vertical-align: top\">0</td>\n",
       "        <td style=\"padding-left: 1em; padding-right: 1em; text-align: center; vertical-align: top\">0</td>\n",
       "        <td style=\"padding-left: 1em; padding-right: 1em; text-align: center; vertical-align: top\">0</td>\n",
       "    </tr>\n",
       "    <tr>\n",
       "        <td style=\"padding-left: 1em; padding-right: 1em; text-align: center; vertical-align: top\">0.9999916615904655</td>\n",
       "        <td style=\"padding-left: 1em; padding-right: 1em; text-align: center; vertical-align: top\">0.0</td>\n",
       "        <td style=\"padding-left: 1em; padding-right: 1em; text-align: center; vertical-align: top\">0.0</td>\n",
       "        <td style=\"padding-left: 1em; padding-right: 1em; text-align: center; vertical-align: top\">0.0</td>\n",
       "        <td style=\"padding-left: 1em; padding-right: 1em; text-align: center; vertical-align: top\">0.0</td>\n",
       "        <td style=\"padding-left: 1em; padding-right: 1em; text-align: center; vertical-align: top\">0.0</td>\n",
       "        <td style=\"padding-left: 1em; padding-right: 1em; text-align: center; vertical-align: top\">0</td>\n",
       "        <td style=\"padding-left: 1em; padding-right: 1em; text-align: center; vertical-align: top\">0</td>\n",
       "        <td style=\"padding-left: 1em; padding-right: 1em; text-align: center; vertical-align: top\">0.0</td>\n",
       "        <td style=\"padding-left: 1em; padding-right: 1em; text-align: center; vertical-align: top\">0</td>\n",
       "        <td style=\"padding-left: 1em; padding-right: 1em; text-align: center; vertical-align: top\">0</td>\n",
       "        <td style=\"padding-left: 1em; padding-right: 1em; text-align: center; vertical-align: top\">0</td>\n",
       "    </tr>\n",
       "    <tr>\n",
       "        <td style=\"padding-left: 1em; padding-right: 1em; text-align: center; vertical-align: top\">0.999993884359401</td>\n",
       "        <td style=\"padding-left: 1em; padding-right: 1em; text-align: center; vertical-align: top\">0.0</td>\n",
       "        <td style=\"padding-left: 1em; padding-right: 1em; text-align: center; vertical-align: top\">0.0</td>\n",
       "        <td style=\"padding-left: 1em; padding-right: 1em; text-align: center; vertical-align: top\">1.0</td>\n",
       "        <td style=\"padding-left: 1em; padding-right: 1em; text-align: center; vertical-align: top\">0.0</td>\n",
       "        <td style=\"padding-left: 1em; padding-right: 1em; text-align: center; vertical-align: top\">0.0</td>\n",
       "        <td style=\"padding-left: 1em; padding-right: 1em; text-align: center; vertical-align: top\">0</td>\n",
       "        <td style=\"padding-left: 1em; padding-right: 1em; text-align: center; vertical-align: top\">0</td>\n",
       "        <td style=\"padding-left: 1em; padding-right: 1em; text-align: center; vertical-align: top\">0.0</td>\n",
       "        <td style=\"padding-left: 1em; padding-right: 1em; text-align: center; vertical-align: top\">0</td>\n",
       "        <td style=\"padding-left: 1em; padding-right: 1em; text-align: center; vertical-align: top\">0</td>\n",
       "        <td style=\"padding-left: 1em; padding-right: 1em; text-align: center; vertical-align: top\">0</td>\n",
       "    </tr>\n",
       "    <tr>\n",
       "        <td style=\"padding-left: 1em; padding-right: 1em; text-align: center; vertical-align: top\">0.9961247617005233</td>\n",
       "        <td style=\"padding-left: 1em; padding-right: 1em; text-align: center; vertical-align: top\">0.0</td>\n",
       "        <td style=\"padding-left: 1em; padding-right: 1em; text-align: center; vertical-align: top\">0.0</td>\n",
       "        <td style=\"padding-left: 1em; padding-right: 1em; text-align: center; vertical-align: top\">0.0</td>\n",
       "        <td style=\"padding-left: 1em; padding-right: 1em; text-align: center; vertical-align: top\">0.0</td>\n",
       "        <td style=\"padding-left: 1em; padding-right: 1em; text-align: center; vertical-align: top\">0.0</td>\n",
       "        <td style=\"padding-left: 1em; padding-right: 1em; text-align: center; vertical-align: top\">0</td>\n",
       "        <td style=\"padding-left: 1em; padding-right: 1em; text-align: center; vertical-align: top\">0</td>\n",
       "        <td style=\"padding-left: 1em; padding-right: 1em; text-align: center; vertical-align: top\">0.0</td>\n",
       "        <td style=\"padding-left: 1em; padding-right: 1em; text-align: center; vertical-align: top\">0</td>\n",
       "        <td style=\"padding-left: 1em; padding-right: 1em; text-align: center; vertical-align: top\">0</td>\n",
       "        <td style=\"padding-left: 1em; padding-right: 1em; text-align: center; vertical-align: top\">0</td>\n",
       "    </tr>\n",
       "    <tr>\n",
       "        <td style=\"padding-left: 1em; padding-right: 1em; text-align: center; vertical-align: top\">0.9999999920460633</td>\n",
       "        <td style=\"padding-left: 1em; padding-right: 1em; text-align: center; vertical-align: top\">0.0</td>\n",
       "        <td style=\"padding-left: 1em; padding-right: 1em; text-align: center; vertical-align: top\">0.0</td>\n",
       "        <td style=\"padding-left: 1em; padding-right: 1em; text-align: center; vertical-align: top\">0.0</td>\n",
       "        <td style=\"padding-left: 1em; padding-right: 1em; text-align: center; vertical-align: top\">0.0</td>\n",
       "        <td style=\"padding-left: 1em; padding-right: 1em; text-align: center; vertical-align: top\">2.0</td>\n",
       "        <td style=\"padding-left: 1em; padding-right: 1em; text-align: center; vertical-align: top\">0</td>\n",
       "        <td style=\"padding-left: 1em; padding-right: 1em; text-align: center; vertical-align: top\">0</td>\n",
       "        <td style=\"padding-left: 1em; padding-right: 1em; text-align: center; vertical-align: top\">0.0</td>\n",
       "        <td style=\"padding-left: 1em; padding-right: 1em; text-align: center; vertical-align: top\">0</td>\n",
       "        <td style=\"padding-left: 1em; padding-right: 1em; text-align: center; vertical-align: top\">0</td>\n",
       "        <td style=\"padding-left: 1em; padding-right: 1em; text-align: center; vertical-align: top\">0</td>\n",
       "    </tr>\n",
       "</table>\n",
       "[10 rows x 17 columns]<br/>\n",
       "</div>"
      ],
      "text/plain": [
       "Columns:\n",
       "\tname\tstr\n",
       "\treview\tstr\n",
       "\trating\tfloat\n",
       "\tword_count\tdict\n",
       "\tsentiment\tint\n",
       "\tpredicted_sentiment\tfloat\n",
       "\tawesome\tfloat\n",
       "\tgreat\tfloat\n",
       "\tfantastic\tfloat\n",
       "\tamazing\tfloat\n",
       "\tlove\tfloat\n",
       "\thorrible\tint\n",
       "\tbad\tint\n",
       "\tterrible\tfloat\n",
       "\tawful\tint\n",
       "\twow\tint\n",
       "\thate\tint\n",
       "\n",
       "Rows: 10\n",
       "\n",
       "Data:\n",
       "+-------------------------------+-------------------------------+--------+\n",
       "|              name             |             review            | rating |\n",
       "+-------------------------------+-------------------------------+--------+\n",
       "|     Planetwise Wipe Pouch     | it came early and was not ... |  5.0   |\n",
       "| Annas Dream Full Quilt wit... | Very soft and comfortable ... |  5.0   |\n",
       "| Stop Pacifier Sucking with... | This is a product well wor... |  5.0   |\n",
       "| Stop Pacifier Sucking with... | All of my kids have cried ... |  5.0   |\n",
       "| Stop Pacifier Sucking with... | When the Binky Fairy came ... |  5.0   |\n",
       "| A Tale of Baby's Days with... | Lovely book, it's bound ti... |  4.0   |\n",
       "| Baby Tracker&reg; - Daily ... | Perfect for new parents. W... |  5.0   |\n",
       "| Baby Tracker&reg; - Daily ... | A friend of mine pinned th... |  5.0   |\n",
       "| Baby Tracker&reg; - Daily ... | This has been an easy way ... |  4.0   |\n",
       "| Baby Tracker&reg; - Daily ... | I love this journal and ou... |  4.0   |\n",
       "+-------------------------------+-------------------------------+--------+\n",
       "+-------------------------------+-----------+---------------------+---------+\n",
       "|           word_count          | sentiment | predicted_sentiment | awesome |\n",
       "+-------------------------------+-----------+---------------------+---------+\n",
       "| {'recommend': 1.0, 'highly... |     1     |  0.9997307390047108 |   0.0   |\n",
       "| {'quilt': 1.0, 'of': 1.0, ... |     1     |  0.9985083368316828 |   0.0   |\n",
       "| {'tool': 1.0, 'clever': 1.... |     1     |  0.9997489042499907 |   0.0   |\n",
       "| {'rock': 1.0, 'many': 1.0,... |     1     |  0.9999916625399978 |   0.0   |\n",
       "| {'thumb': 1.0, 'or': 1.0, ... |     1     |  0.9999999514462167 |   0.0   |\n",
       "| {'for': 1.0, 'barnes': 1.0... |     1     |  0.9999146735569922 |   0.0   |\n",
       "| {'right': 1.0, 'because': ... |     1     |  0.9999916615904655 |   0.0   |\n",
       "| {'like': 1.0, 'and': 1.0, ... |     1     |  0.999993884359401  |   0.0   |\n",
       "| {'in': 1.0, 'pages': 1.0, ... |     1     |  0.9961247617005233 |   0.0   |\n",
       "| {'tracker': 1.0, 'now': 1.... |     1     |  0.9999999920460633 |   0.0   |\n",
       "+-------------------------------+-----------+---------------------+---------+\n",
       "+-------+-----------+---------+------+----------+-----+----------+-------+-----+\n",
       "| great | fantastic | amazing | love | horrible | bad | terrible | awful | wow |\n",
       "+-------+-----------+---------+------+----------+-----+----------+-------+-----+\n",
       "|  0.0  |    0.0    |   0.0   | 1.0  |    0     |  0  |   0.0    |   0   |  0  |\n",
       "|  0.0  |    0.0    |   0.0   | 0.0  |    0     |  0  |   0.0    |   0   |  0  |\n",
       "|  0.0  |    0.0    |   0.0   | 2.0  |    0     |  0  |   0.0    |   0   |  0  |\n",
       "|  1.0  |    0.0    |   0.0   | 1.0  |    0     |  0  |   0.0    |   0   |  0  |\n",
       "|  1.0  |    0.0    |   0.0   | 0.0  |    0     |  0  |   0.0    |   0   |  0  |\n",
       "|  0.0  |    0.0    |   0.0   | 0.0  |    0     |  0  |   0.0    |   0   |  0  |\n",
       "|  0.0  |    0.0    |   0.0   | 0.0  |    0     |  0  |   0.0    |   0   |  0  |\n",
       "|  0.0  |    1.0    |   0.0   | 0.0  |    0     |  0  |   0.0    |   0   |  0  |\n",
       "|  0.0  |    0.0    |   0.0   | 0.0  |    0     |  0  |   0.0    |   0   |  0  |\n",
       "|  0.0  |    0.0    |   0.0   | 2.0  |    0     |  0  |   0.0    |   0   |  0  |\n",
       "+-------+-----------+---------+------+----------+-----+----------+-------+-----+\n",
       "+------+\n",
       "| hate |\n",
       "+------+\n",
       "|  0   |\n",
       "|  0   |\n",
       "|  0   |\n",
       "|  0   |\n",
       "|  0   |\n",
       "|  0   |\n",
       "|  0   |\n",
       "|  0   |\n",
       "|  0   |\n",
       "|  0   |\n",
       "+------+\n",
       "[10 rows x 17 columns]"
      ]
     },
     "execution_count": 216,
     "metadata": {},
     "output_type": "execute_result"
    }
   ],
   "source": [
    "products.head()"
   ]
  },
  {
   "cell_type": "code",
   "execution_count": 217,
   "metadata": {},
   "outputs": [],
   "source": [
    "training_set , test_set = products.random_split(0.8,seed=0)"
   ]
  },
  {
   "cell_type": "code",
   "execution_count": 218,
   "metadata": {},
   "outputs": [
    {
     "name": "stdout",
     "output_type": "stream",
     "text": [
      "PROGRESS: Creating a validation set from 5 percent of training data. This may take a while.\n",
      "          You can set ``validation_set=None`` to disable validation tracking.\n",
      "\n"
     ]
    },
    {
     "data": {
      "text/html": [
       "<pre>Linear regression:</pre>"
      ],
      "text/plain": [
       "Linear regression:"
      ]
     },
     "metadata": {},
     "output_type": "display_data"
    },
    {
     "data": {
      "text/html": [
       "<pre>--------------------------------------------------------</pre>"
      ],
      "text/plain": [
       "--------------------------------------------------------"
      ]
     },
     "metadata": {},
     "output_type": "display_data"
    },
    {
     "data": {
      "text/html": [
       "<pre>Number of examples          : 126775</pre>"
      ],
      "text/plain": [
       "Number of examples          : 126775"
      ]
     },
     "metadata": {},
     "output_type": "display_data"
    },
    {
     "data": {
      "text/html": [
       "<pre>Number of features          : 11</pre>"
      ],
      "text/plain": [
       "Number of features          : 11"
      ]
     },
     "metadata": {},
     "output_type": "display_data"
    },
    {
     "data": {
      "text/html": [
       "<pre>Number of unpacked features : 11</pre>"
      ],
      "text/plain": [
       "Number of unpacked features : 11"
      ]
     },
     "metadata": {},
     "output_type": "display_data"
    },
    {
     "data": {
      "text/html": [
       "<pre>Number of coefficients    : 12</pre>"
      ],
      "text/plain": [
       "Number of coefficients    : 12"
      ]
     },
     "metadata": {},
     "output_type": "display_data"
    },
    {
     "data": {
      "text/html": [
       "<pre>Starting Newton Method</pre>"
      ],
      "text/plain": [
       "Starting Newton Method"
      ]
     },
     "metadata": {},
     "output_type": "display_data"
    },
    {
     "data": {
      "text/html": [
       "<pre>--------------------------------------------------------</pre>"
      ],
      "text/plain": [
       "--------------------------------------------------------"
      ]
     },
     "metadata": {},
     "output_type": "display_data"
    },
    {
     "data": {
      "text/html": [
       "<pre>+-----------+----------+--------------+--------------------+----------------------+---------------------------------+-----------------------------------+</pre>"
      ],
      "text/plain": [
       "+-----------+----------+--------------+--------------------+----------------------+---------------------------------+-----------------------------------+"
      ]
     },
     "metadata": {},
     "output_type": "display_data"
    },
    {
     "data": {
      "text/html": [
       "<pre>| Iteration | Passes   | Elapsed Time | Training Max Error | Validation Max Error | Training Root-Mean-Square Error | Validation Root-Mean-Square Error |</pre>"
      ],
      "text/plain": [
       "| Iteration | Passes   | Elapsed Time | Training Max Error | Validation Max Error | Training Root-Mean-Square Error | Validation Root-Mean-Square Error |"
      ]
     },
     "metadata": {},
     "output_type": "display_data"
    },
    {
     "data": {
      "text/html": [
       "<pre>+-----------+----------+--------------+--------------------+----------------------+---------------------------------+-----------------------------------+</pre>"
      ],
      "text/plain": [
       "+-----------+----------+--------------+--------------------+----------------------+---------------------------------+-----------------------------------+"
      ]
     },
     "metadata": {},
     "output_type": "display_data"
    },
    {
     "data": {
      "text/html": [
       "<pre>| 1         | 2        | 0.040002     | 3.022961           | 2.168681             | 0.351660                        | 0.354740                          |</pre>"
      ],
      "text/plain": [
       "| 1         | 2        | 0.040002     | 3.022961           | 2.168681             | 0.351660                        | 0.354740                          |"
      ]
     },
     "metadata": {},
     "output_type": "display_data"
    },
    {
     "data": {
      "text/html": [
       "<pre>+-----------+----------+--------------+--------------------+----------------------+---------------------------------+-----------------------------------+</pre>"
      ],
      "text/plain": [
       "+-----------+----------+--------------+--------------------+----------------------+---------------------------------+-----------------------------------+"
      ]
     },
     "metadata": {},
     "output_type": "display_data"
    },
    {
     "data": {
      "text/html": [
       "<pre>SUCCESS: Optimal solution found.</pre>"
      ],
      "text/plain": [
       "SUCCESS: Optimal solution found."
      ]
     },
     "metadata": {},
     "output_type": "display_data"
    },
    {
     "data": {
      "text/html": [
       "<pre></pre>"
      ],
      "text/plain": []
     },
     "metadata": {},
     "output_type": "display_data"
    }
   ],
   "source": [
    "selected_words_model = turicreate.linear_regression.create(training_set,target='sentiment',features = selected_words)"
   ]
  },
  {
   "cell_type": "code",
   "execution_count": 219,
   "metadata": {},
   "outputs": [
    {
     "name": "stdout",
     "output_type": "stream",
     "text": [
      "+-------------+-------+-----------------------+-----------------------+\n",
      "|     name    | index |         value         |         stderr        |\n",
      "+-------------+-------+-----------------------+-----------------------+\n",
      "| (intercept) |  None |   0.8052829774352794  | 0.0012189504536852156 |\n",
      "|     love    |  None |   0.0825045770493442  | 0.0017204843287604436 |\n",
      "|   amazing   |  None |  0.07702127969345532  |  0.007386590394247766 |\n",
      "|   awesome   |  None |   0.0752489950543039  |  0.006165899213781652 |\n",
      "|    great    |  None |  0.07212802744807893  | 0.0016030527559072617 |\n",
      "|  fantastic  |  None |  0.06876058669661426  |  0.009427461180861064 |\n",
      "|     wow     |  None | -0.006671258904426946 |  0.018938185984549893 |\n",
      "|     bad     |  None |  -0.15985350103113047 |  0.005764909547950323 |\n",
      "|     hate    |  None |  -0.20823146627002515 |  0.011448995578398442 |\n",
      "|    awful    |  None |  -0.35829309236996537 |  0.014135934940737175 |\n",
      "|   terrible  |  None |  -0.3937485351121769  |  0.010944884719931621 |\n",
      "|   horrible  |  None |  -0.41293425198232947 |  0.011383353848027421 |\n",
      "+-------------+-------+-----------------------+-----------------------+\n",
      "[12 rows x 4 columns]\n",
      "\n"
     ]
    }
   ],
   "source": [
    "selected_words_model.coefficients.sort('value',ascending=False).print_rows(num_rows=14)"
   ]
  },
  {
   "cell_type": "code",
   "execution_count": 220,
   "metadata": {},
   "outputs": [
    {
     "data": {
      "text/plain": [
       "{'max_error': 0.8416012620784855, 'rmse': 0.3665916461107961}"
      ]
     },
     "execution_count": 220,
     "metadata": {},
     "output_type": "execute_result"
    }
   ],
   "source": [
    "selected_words_model.evaluate(test_data)"
   ]
  },
  {
   "cell_type": "code",
   "execution_count": 222,
   "metadata": {},
   "outputs": [
    {
     "data": {
      "text/plain": [
       "{'accuracy': 0.9176975738650012,\n",
       " 'auc': 0.9342357833151299,\n",
       " 'confusion_matrix': Columns:\n",
       " \ttarget_label\tint\n",
       " \tpredicted_label\tint\n",
       " \tcount\tint\n",
       " \n",
       " Rows: 4\n",
       " \n",
       " Data:\n",
       " +--------------+-----------------+-------+\n",
       " | target_label | predicted_label | count |\n",
       " +--------------+-----------------+-------+\n",
       " |      0       |        1        |  1397 |\n",
       " |      1       |        0        |  1344 |\n",
       " |      0       |        0        |  3931 |\n",
       " |      1       |        1        | 26632 |\n",
       " +--------------+-----------------+-------+\n",
       " [4 rows x 3 columns],\n",
       " 'f1_score': 0.951057941255245,\n",
       " 'log_loss': 0.3304787187241226,\n",
       " 'precision': 0.9501587641371436,\n",
       " 'recall': 0.9519588218472976,\n",
       " 'roc_curve': Columns:\n",
       " \tthreshold\tfloat\n",
       " \tfpr\tfloat\n",
       " \ttpr\tfloat\n",
       " \tp\tint\n",
       " \tn\tint\n",
       " \n",
       " Rows: 100001\n",
       " \n",
       " Data:\n",
       " +-----------+--------------------+--------------------+-------+------+\n",
       " | threshold |        fpr         |        tpr         |   p   |  n   |\n",
       " +-----------+--------------------+--------------------+-------+------+\n",
       " |    0.0    |        1.0         |        1.0         | 27976 | 5328 |\n",
       " |   1e-05   | 0.847972972972973  | 0.9975693451529882 | 27976 | 5328 |\n",
       " |   2e-05   | 0.829954954954955  | 0.9971761509865599 | 27976 | 5328 |\n",
       " |   3e-05   | 0.818506006006006  | 0.9969616814412353 | 27976 | 5328 |\n",
       " |   4e-05   | 0.8109984984984985 | 0.9967472118959108 | 27976 | 5328 |\n",
       " |   5e-05   | 0.8057432432432432 | 0.9966042321990277 | 27976 | 5328 |\n",
       " |   6e-05   | 0.7991741741741741 | 0.9962825278810409 | 27976 | 5328 |\n",
       " |   7e-05   | 0.7952327327327328 | 0.9961752931083786 | 27976 | 5328 |\n",
       " |   8e-05   | 0.7920420420420421 | 0.9961038032599371 | 27976 | 5328 |\n",
       " |   9e-05   | 0.7882882882882883 | 0.9958893337146125 | 27976 | 5328 |\n",
       " +-----------+--------------------+--------------------+-------+------+\n",
       " [100001 rows x 5 columns]\n",
       " Note: Only the head of the SFrame is printed.\n",
       " You can use print_rows(num_rows=m, num_columns=n) to print more rows and columns.}"
      ]
     },
     "execution_count": 222,
     "metadata": {},
     "output_type": "execute_result"
    }
   ],
   "source": [
    "sentiment_model.evaluate(test_data)"
   ]
  },
  {
   "cell_type": "code",
   "execution_count": 180,
   "metadata": {},
   "outputs": [
    {
     "data": {
      "text/html": [
       "<div style=\"max-height:1000px;max-width:1500px;overflow:auto;\"><table frame=\"box\" rules=\"cols\">\n",
       "    <tr>\n",
       "        <th style=\"padding-left: 1em; padding-right: 1em; text-align: center\">name</th>\n",
       "        <th style=\"padding-left: 1em; padding-right: 1em; text-align: center\">review</th>\n",
       "        <th style=\"padding-left: 1em; padding-right: 1em; text-align: center\">rating</th>\n",
       "        <th style=\"padding-left: 1em; padding-right: 1em; text-align: center\">word_count</th>\n",
       "        <th style=\"padding-left: 1em; padding-right: 1em; text-align: center\">sentiment</th>\n",
       "    </tr>\n",
       "    <tr>\n",
       "        <td style=\"padding-left: 1em; padding-right: 1em; text-align: center; vertical-align: top\">Baby Trend Diaper Champ</td>\n",
       "        <td style=\"padding-left: 1em; padding-right: 1em; text-align: center; vertical-align: top\">Ok - newsflash.  Diapers<br>are just smelly.  We&#x27;ve ...</td>\n",
       "        <td style=\"padding-left: 1em; padding-right: 1em; text-align: center; vertical-align: top\">4.0</td>\n",
       "        <td style=\"padding-left: 1em; padding-right: 1em; text-align: center; vertical-align: top\">{&#x27;convenient&#x27;: 1.0,<br>&#x27;more&#x27;: 1.0, &#x27;trash&#x27;: ...</td>\n",
       "        <td style=\"padding-left: 1em; padding-right: 1em; text-align: center; vertical-align: top\">1</td>\n",
       "    </tr>\n",
       "    <tr>\n",
       "        <td style=\"padding-left: 1em; padding-right: 1em; text-align: center; vertical-align: top\">Baby Trend Diaper Champ</td>\n",
       "        <td style=\"padding-left: 1em; padding-right: 1em; text-align: center; vertical-align: top\">My husband and I selected<br>the Diaper &quot;Champ&quot; ma ...</td>\n",
       "        <td style=\"padding-left: 1em; padding-right: 1em; text-align: center; vertical-align: top\">1.0</td>\n",
       "        <td style=\"padding-left: 1em; padding-right: 1em; text-align: center; vertical-align: top\">{&#x27;system&#x27;: 1.0, &#x27;try&#x27;:<br>1.0, &#x27;re&#x27;: 1.0, &#x27;still&#x27;: ...</td>\n",
       "        <td style=\"padding-left: 1em; padding-right: 1em; text-align: center; vertical-align: top\">0</td>\n",
       "    </tr>\n",
       "    <tr>\n",
       "        <td style=\"padding-left: 1em; padding-right: 1em; text-align: center; vertical-align: top\">Baby Trend Diaper Champ</td>\n",
       "        <td style=\"padding-left: 1em; padding-right: 1em; text-align: center; vertical-align: top\">Excellent diaper disposal<br>unit.  I used it in ...</td>\n",
       "        <td style=\"padding-left: 1em; padding-right: 1em; text-align: center; vertical-align: top\">5.0</td>\n",
       "        <td style=\"padding-left: 1em; padding-right: 1em; text-align: center; vertical-align: top\">{&#x27;nose&#x27;: 1.0, &#x27;for&#x27;: 2.0,<br>&#x27;investment&#x27;: 1.0, ...</td>\n",
       "        <td style=\"padding-left: 1em; padding-right: 1em; text-align: center; vertical-align: top\">1</td>\n",
       "    </tr>\n",
       "    <tr>\n",
       "        <td style=\"padding-left: 1em; padding-right: 1em; text-align: center; vertical-align: top\">Baby Trend Diaper Champ</td>\n",
       "        <td style=\"padding-left: 1em; padding-right: 1em; text-align: center; vertical-align: top\">We love our diaper champ.<br>It is very easy to use ...</td>\n",
       "        <td style=\"padding-left: 1em; padding-right: 1em; text-align: center; vertical-align: top\">5.0</td>\n",
       "        <td style=\"padding-left: 1em; padding-right: 1em; text-align: center; vertical-align: top\">{&#x27;out&#x27;: 1.0, &#x27;pull&#x27;: 1.0,<br>&#x27;open&#x27;: 1.0, &#x27;pail&#x27;:  ...</td>\n",
       "        <td style=\"padding-left: 1em; padding-right: 1em; text-align: center; vertical-align: top\">1</td>\n",
       "    </tr>\n",
       "    <tr>\n",
       "        <td style=\"padding-left: 1em; padding-right: 1em; text-align: center; vertical-align: top\">Baby Trend Diaper Champ</td>\n",
       "        <td style=\"padding-left: 1em; padding-right: 1em; text-align: center; vertical-align: top\">Two girlfriends and two<br>family members put me ...</td>\n",
       "        <td style=\"padding-left: 1em; padding-right: 1em; text-align: center; vertical-align: top\">5.0</td>\n",
       "        <td style=\"padding-left: 1em; padding-right: 1em; text-align: center; vertical-align: top\">{&#x27;winter&#x27;: 1.0,<br>&#x27;outside&#x27;: 1.0, &#x27;day&#x27;: ...</td>\n",
       "        <td style=\"padding-left: 1em; padding-right: 1em; text-align: center; vertical-align: top\">1</td>\n",
       "    </tr>\n",
       "    <tr>\n",
       "        <td style=\"padding-left: 1em; padding-right: 1em; text-align: center; vertical-align: top\">Baby Trend Diaper Champ</td>\n",
       "        <td style=\"padding-left: 1em; padding-right: 1em; text-align: center; vertical-align: top\">I waited to review this<br>until I saw how it ...</td>\n",
       "        <td style=\"padding-left: 1em; padding-right: 1em; text-align: center; vertical-align: top\">4.0</td>\n",
       "        <td style=\"padding-left: 1em; padding-right: 1em; text-align: center; vertical-align: top\">{&#x27;mom&#x27;: 1.0, &#x27;my&#x27;: 1.0,<br>&#x27;empty&#x27;: 2.0, &#x27;poop&#x27;: ...</td>\n",
       "        <td style=\"padding-left: 1em; padding-right: 1em; text-align: center; vertical-align: top\">1</td>\n",
       "    </tr>\n",
       "    <tr>\n",
       "        <td style=\"padding-left: 1em; padding-right: 1em; text-align: center; vertical-align: top\">Baby Trend Diaper Champ</td>\n",
       "        <td style=\"padding-left: 1em; padding-right: 1em; text-align: center; vertical-align: top\">I have had a diaper genie<br>for almost 4 years since ...</td>\n",
       "        <td style=\"padding-left: 1em; padding-right: 1em; text-align: center; vertical-align: top\">1.0</td>\n",
       "        <td style=\"padding-left: 1em; padding-right: 1em; text-align: center; vertical-align: top\">{&#x27;yuck&#x27;: 1.0, &#x27;clean&#x27;:<br>1.0, &#x27;all&#x27;: 1.0, &#x27;tra ...</td>\n",
       "        <td style=\"padding-left: 1em; padding-right: 1em; text-align: center; vertical-align: top\">0</td>\n",
       "    </tr>\n",
       "    <tr>\n",
       "        <td style=\"padding-left: 1em; padding-right: 1em; text-align: center; vertical-align: top\">Baby Trend Diaper Champ</td>\n",
       "        <td style=\"padding-left: 1em; padding-right: 1em; text-align: center; vertical-align: top\">I originally put this<br>item on my baby registry ...</td>\n",
       "        <td style=\"padding-left: 1em; padding-right: 1em; text-align: center; vertical-align: top\">5.0</td>\n",
       "        <td style=\"padding-left: 1em; padding-right: 1em; text-align: center; vertical-align: top\">{&#x27;price&#x27;: 1.0,<br>&#x27;suggestions&#x27;: 1.0, ...</td>\n",
       "        <td style=\"padding-left: 1em; padding-right: 1em; text-align: center; vertical-align: top\">1</td>\n",
       "    </tr>\n",
       "    <tr>\n",
       "        <td style=\"padding-left: 1em; padding-right: 1em; text-align: center; vertical-align: top\">Baby Trend Diaper Champ</td>\n",
       "        <td style=\"padding-left: 1em; padding-right: 1em; text-align: center; vertical-align: top\">I am so glad I got the<br>Diaper Champ instead of ...</td>\n",
       "        <td style=\"padding-left: 1em; padding-right: 1em; text-align: center; vertical-align: top\">5.0</td>\n",
       "        <td style=\"padding-left: 1em; padding-right: 1em; text-align: center; vertical-align: top\">{&#x27;best&#x27;: 1.0, &#x27;that&#x27;:<br>1.0, &#x27;handle&#x27;: 1.0, &#x27; ...</td>\n",
       "        <td style=\"padding-left: 1em; padding-right: 1em; text-align: center; vertical-align: top\">1</td>\n",
       "    </tr>\n",
       "    <tr>\n",
       "        <td style=\"padding-left: 1em; padding-right: 1em; text-align: center; vertical-align: top\">Baby Trend Diaper Champ</td>\n",
       "        <td style=\"padding-left: 1em; padding-right: 1em; text-align: center; vertical-align: top\">We had 2 diaper Genie&#x27;s<br>both given to us as a ...</td>\n",
       "        <td style=\"padding-left: 1em; padding-right: 1em; text-align: center; vertical-align: top\">4.0</td>\n",
       "        <td style=\"padding-left: 1em; padding-right: 1em; text-align: center; vertical-align: top\">{&#x27;no&#x27;: 1.0, &#x27;regular&#x27;:<br>1.0, &#x27;part&#x27;: 1.0, ...</td>\n",
       "        <td style=\"padding-left: 1em; padding-right: 1em; text-align: center; vertical-align: top\">1</td>\n",
       "    </tr>\n",
       "</table>\n",
       "<table frame=\"box\" rules=\"cols\">\n",
       "    <tr>\n",
       "        <th style=\"padding-left: 1em; padding-right: 1em; text-align: center\">predicted_sentiment</th>\n",
       "        <th style=\"padding-left: 1em; padding-right: 1em; text-align: center\">awesome</th>\n",
       "        <th style=\"padding-left: 1em; padding-right: 1em; text-align: center\">great</th>\n",
       "        <th style=\"padding-left: 1em; padding-right: 1em; text-align: center\">fantastic</th>\n",
       "        <th style=\"padding-left: 1em; padding-right: 1em; text-align: center\">amazing</th>\n",
       "        <th style=\"padding-left: 1em; padding-right: 1em; text-align: center\">love</th>\n",
       "        <th style=\"padding-left: 1em; padding-right: 1em; text-align: center\">horrible</th>\n",
       "        <th style=\"padding-left: 1em; padding-right: 1em; text-align: center\">bad</th>\n",
       "        <th style=\"padding-left: 1em; padding-right: 1em; text-align: center\">terrible</th>\n",
       "        <th style=\"padding-left: 1em; padding-right: 1em; text-align: center\">awful</th>\n",
       "        <th style=\"padding-left: 1em; padding-right: 1em; text-align: center\">wow</th>\n",
       "        <th style=\"padding-left: 1em; padding-right: 1em; text-align: center\">hate</th>\n",
       "    </tr>\n",
       "    <tr>\n",
       "        <td style=\"padding-left: 1em; padding-right: 1em; text-align: center; vertical-align: top\">0.9950122935570308</td>\n",
       "        <td style=\"padding-left: 1em; padding-right: 1em; text-align: center; vertical-align: top\">0.0</td>\n",
       "        <td style=\"padding-left: 1em; padding-right: 1em; text-align: center; vertical-align: top\">0.0</td>\n",
       "        <td style=\"padding-left: 1em; padding-right: 1em; text-align: center; vertical-align: top\">0.0</td>\n",
       "        <td style=\"padding-left: 1em; padding-right: 1em; text-align: center; vertical-align: top\">0.0</td>\n",
       "        <td style=\"padding-left: 1em; padding-right: 1em; text-align: center; vertical-align: top\">0.0</td>\n",
       "        <td style=\"padding-left: 1em; padding-right: 1em; text-align: center; vertical-align: top\">0</td>\n",
       "        <td style=\"padding-left: 1em; padding-right: 1em; text-align: center; vertical-align: top\">0</td>\n",
       "        <td style=\"padding-left: 1em; padding-right: 1em; text-align: center; vertical-align: top\">0.0</td>\n",
       "        <td style=\"padding-left: 1em; padding-right: 1em; text-align: center; vertical-align: top\">0</td>\n",
       "        <td style=\"padding-left: 1em; padding-right: 1em; text-align: center; vertical-align: top\">0</td>\n",
       "        <td style=\"padding-left: 1em; padding-right: 1em; text-align: center; vertical-align: top\">0</td>\n",
       "    </tr>\n",
       "    <tr>\n",
       "        <td style=\"padding-left: 1em; padding-right: 1em; text-align: center; vertical-align: top\">5.90141453289128e-13</td>\n",
       "        <td style=\"padding-left: 1em; padding-right: 1em; text-align: center; vertical-align: top\">0.0</td>\n",
       "        <td style=\"padding-left: 1em; padding-right: 1em; text-align: center; vertical-align: top\">0.0</td>\n",
       "        <td style=\"padding-left: 1em; padding-right: 1em; text-align: center; vertical-align: top\">0.0</td>\n",
       "        <td style=\"padding-left: 1em; padding-right: 1em; text-align: center; vertical-align: top\">0.0</td>\n",
       "        <td style=\"padding-left: 1em; padding-right: 1em; text-align: center; vertical-align: top\">0.0</td>\n",
       "        <td style=\"padding-left: 1em; padding-right: 1em; text-align: center; vertical-align: top\">0</td>\n",
       "        <td style=\"padding-left: 1em; padding-right: 1em; text-align: center; vertical-align: top\">0</td>\n",
       "        <td style=\"padding-left: 1em; padding-right: 1em; text-align: center; vertical-align: top\">0.0</td>\n",
       "        <td style=\"padding-left: 1em; padding-right: 1em; text-align: center; vertical-align: top\">0</td>\n",
       "        <td style=\"padding-left: 1em; padding-right: 1em; text-align: center; vertical-align: top\">0</td>\n",
       "        <td style=\"padding-left: 1em; padding-right: 1em; text-align: center; vertical-align: top\">0</td>\n",
       "    </tr>\n",
       "    <tr>\n",
       "        <td style=\"padding-left: 1em; padding-right: 1em; text-align: center; vertical-align: top\">0.9999996193960345</td>\n",
       "        <td style=\"padding-left: 1em; padding-right: 1em; text-align: center; vertical-align: top\">0.0</td>\n",
       "        <td style=\"padding-left: 1em; padding-right: 1em; text-align: center; vertical-align: top\">0.0</td>\n",
       "        <td style=\"padding-left: 1em; padding-right: 1em; text-align: center; vertical-align: top\">0.0</td>\n",
       "        <td style=\"padding-left: 1em; padding-right: 1em; text-align: center; vertical-align: top\">0.0</td>\n",
       "        <td style=\"padding-left: 1em; padding-right: 1em; text-align: center; vertical-align: top\">0.0</td>\n",
       "        <td style=\"padding-left: 1em; padding-right: 1em; text-align: center; vertical-align: top\">0</td>\n",
       "        <td style=\"padding-left: 1em; padding-right: 1em; text-align: center; vertical-align: top\">0</td>\n",
       "        <td style=\"padding-left: 1em; padding-right: 1em; text-align: center; vertical-align: top\">0.0</td>\n",
       "        <td style=\"padding-left: 1em; padding-right: 1em; text-align: center; vertical-align: top\">0</td>\n",
       "        <td style=\"padding-left: 1em; padding-right: 1em; text-align: center; vertical-align: top\">0</td>\n",
       "        <td style=\"padding-left: 1em; padding-right: 1em; text-align: center; vertical-align: top\">0</td>\n",
       "    </tr>\n",
       "    <tr>\n",
       "        <td style=\"padding-left: 1em; padding-right: 1em; text-align: center; vertical-align: top\">0.9999567191544851</td>\n",
       "        <td style=\"padding-left: 1em; padding-right: 1em; text-align: center; vertical-align: top\">0.0</td>\n",
       "        <td style=\"padding-left: 1em; padding-right: 1em; text-align: center; vertical-align: top\">0.0</td>\n",
       "        <td style=\"padding-left: 1em; padding-right: 1em; text-align: center; vertical-align: top\">0.0</td>\n",
       "        <td style=\"padding-left: 1em; padding-right: 1em; text-align: center; vertical-align: top\">0.0</td>\n",
       "        <td style=\"padding-left: 1em; padding-right: 1em; text-align: center; vertical-align: top\">1.0</td>\n",
       "        <td style=\"padding-left: 1em; padding-right: 1em; text-align: center; vertical-align: top\">0</td>\n",
       "        <td style=\"padding-left: 1em; padding-right: 1em; text-align: center; vertical-align: top\">0</td>\n",
       "        <td style=\"padding-left: 1em; padding-right: 1em; text-align: center; vertical-align: top\">0.0</td>\n",
       "        <td style=\"padding-left: 1em; padding-right: 1em; text-align: center; vertical-align: top\">0</td>\n",
       "        <td style=\"padding-left: 1em; padding-right: 1em; text-align: center; vertical-align: top\">0</td>\n",
       "        <td style=\"padding-left: 1em; padding-right: 1em; text-align: center; vertical-align: top\">0</td>\n",
       "    </tr>\n",
       "    <tr>\n",
       "        <td style=\"padding-left: 1em; padding-right: 1em; text-align: center; vertical-align: top\">0.9999997013199228</td>\n",
       "        <td style=\"padding-left: 1em; padding-right: 1em; text-align: center; vertical-align: top\">0.0</td>\n",
       "        <td style=\"padding-left: 1em; padding-right: 1em; text-align: center; vertical-align: top\">0.0</td>\n",
       "        <td style=\"padding-left: 1em; padding-right: 1em; text-align: center; vertical-align: top\">0.0</td>\n",
       "        <td style=\"padding-left: 1em; padding-right: 1em; text-align: center; vertical-align: top\">1.0</td>\n",
       "        <td style=\"padding-left: 1em; padding-right: 1em; text-align: center; vertical-align: top\">0.0</td>\n",
       "        <td style=\"padding-left: 1em; padding-right: 1em; text-align: center; vertical-align: top\">1</td>\n",
       "        <td style=\"padding-left: 1em; padding-right: 1em; text-align: center; vertical-align: top\">0</td>\n",
       "        <td style=\"padding-left: 1em; padding-right: 1em; text-align: center; vertical-align: top\">0.0</td>\n",
       "        <td style=\"padding-left: 1em; padding-right: 1em; text-align: center; vertical-align: top\">0</td>\n",
       "        <td style=\"padding-left: 1em; padding-right: 1em; text-align: center; vertical-align: top\">1</td>\n",
       "        <td style=\"padding-left: 1em; padding-right: 1em; text-align: center; vertical-align: top\">0</td>\n",
       "    </tr>\n",
       "    <tr>\n",
       "        <td style=\"padding-left: 1em; padding-right: 1em; text-align: center; vertical-align: top\">0.9999920758179407</td>\n",
       "        <td style=\"padding-left: 1em; padding-right: 1em; text-align: center; vertical-align: top\">0.0</td>\n",
       "        <td style=\"padding-left: 1em; padding-right: 1em; text-align: center; vertical-align: top\">0.0</td>\n",
       "        <td style=\"padding-left: 1em; padding-right: 1em; text-align: center; vertical-align: top\">0.0</td>\n",
       "        <td style=\"padding-left: 1em; padding-right: 1em; text-align: center; vertical-align: top\">0.0</td>\n",
       "        <td style=\"padding-left: 1em; padding-right: 1em; text-align: center; vertical-align: top\">0.0</td>\n",
       "        <td style=\"padding-left: 1em; padding-right: 1em; text-align: center; vertical-align: top\">0</td>\n",
       "        <td style=\"padding-left: 1em; padding-right: 1em; text-align: center; vertical-align: top\">1</td>\n",
       "        <td style=\"padding-left: 1em; padding-right: 1em; text-align: center; vertical-align: top\">0.0</td>\n",
       "        <td style=\"padding-left: 1em; padding-right: 1em; text-align: center; vertical-align: top\">0</td>\n",
       "        <td style=\"padding-left: 1em; padding-right: 1em; text-align: center; vertical-align: top\">0</td>\n",
       "        <td style=\"padding-left: 1em; padding-right: 1em; text-align: center; vertical-align: top\">0</td>\n",
       "    </tr>\n",
       "    <tr>\n",
       "        <td style=\"padding-left: 1em; padding-right: 1em; text-align: center; vertical-align: top\">0.0017908398242889745</td>\n",
       "        <td style=\"padding-left: 1em; padding-right: 1em; text-align: center; vertical-align: top\">0.0</td>\n",
       "        <td style=\"padding-left: 1em; padding-right: 1em; text-align: center; vertical-align: top\">0.0</td>\n",
       "        <td style=\"padding-left: 1em; padding-right: 1em; text-align: center; vertical-align: top\">0.0</td>\n",
       "        <td style=\"padding-left: 1em; padding-right: 1em; text-align: center; vertical-align: top\">0.0</td>\n",
       "        <td style=\"padding-left: 1em; padding-right: 1em; text-align: center; vertical-align: top\">0.0</td>\n",
       "        <td style=\"padding-left: 1em; padding-right: 1em; text-align: center; vertical-align: top\">0</td>\n",
       "        <td style=\"padding-left: 1em; padding-right: 1em; text-align: center; vertical-align: top\">0</td>\n",
       "        <td style=\"padding-left: 1em; padding-right: 1em; text-align: center; vertical-align: top\">0.0</td>\n",
       "        <td style=\"padding-left: 1em; padding-right: 1em; text-align: center; vertical-align: top\">0</td>\n",
       "        <td style=\"padding-left: 1em; padding-right: 1em; text-align: center; vertical-align: top\">0</td>\n",
       "        <td style=\"padding-left: 1em; padding-right: 1em; text-align: center; vertical-align: top\">0</td>\n",
       "    </tr>\n",
       "    <tr>\n",
       "        <td style=\"padding-left: 1em; padding-right: 1em; text-align: center; vertical-align: top\">0.9999999999465673</td>\n",
       "        <td style=\"padding-left: 1em; padding-right: 1em; text-align: center; vertical-align: top\">0.0</td>\n",
       "        <td style=\"padding-left: 1em; padding-right: 1em; text-align: center; vertical-align: top\">0.0</td>\n",
       "        <td style=\"padding-left: 1em; padding-right: 1em; text-align: center; vertical-align: top\">0.0</td>\n",
       "        <td style=\"padding-left: 1em; padding-right: 1em; text-align: center; vertical-align: top\">0.0</td>\n",
       "        <td style=\"padding-left: 1em; padding-right: 1em; text-align: center; vertical-align: top\">0.0</td>\n",
       "        <td style=\"padding-left: 1em; padding-right: 1em; text-align: center; vertical-align: top\">0</td>\n",
       "        <td style=\"padding-left: 1em; padding-right: 1em; text-align: center; vertical-align: top\">0</td>\n",
       "        <td style=\"padding-left: 1em; padding-right: 1em; text-align: center; vertical-align: top\">0.0</td>\n",
       "        <td style=\"padding-left: 1em; padding-right: 1em; text-align: center; vertical-align: top\">0</td>\n",
       "        <td style=\"padding-left: 1em; padding-right: 1em; text-align: center; vertical-align: top\">0</td>\n",
       "        <td style=\"padding-left: 1em; padding-right: 1em; text-align: center; vertical-align: top\">0</td>\n",
       "    </tr>\n",
       "    <tr>\n",
       "        <td style=\"padding-left: 1em; padding-right: 1em; text-align: center; vertical-align: top\">0.9801174413554127</td>\n",
       "        <td style=\"padding-left: 1em; padding-right: 1em; text-align: center; vertical-align: top\">0.0</td>\n",
       "        <td style=\"padding-left: 1em; padding-right: 1em; text-align: center; vertical-align: top\">0.0</td>\n",
       "        <td style=\"padding-left: 1em; padding-right: 1em; text-align: center; vertical-align: top\">0.0</td>\n",
       "        <td style=\"padding-left: 1em; padding-right: 1em; text-align: center; vertical-align: top\">0.0</td>\n",
       "        <td style=\"padding-left: 1em; padding-right: 1em; text-align: center; vertical-align: top\">0.0</td>\n",
       "        <td style=\"padding-left: 1em; padding-right: 1em; text-align: center; vertical-align: top\">0</td>\n",
       "        <td style=\"padding-left: 1em; padding-right: 1em; text-align: center; vertical-align: top\">0</td>\n",
       "        <td style=\"padding-left: 1em; padding-right: 1em; text-align: center; vertical-align: top\">0.0</td>\n",
       "        <td style=\"padding-left: 1em; padding-right: 1em; text-align: center; vertical-align: top\">0</td>\n",
       "        <td style=\"padding-left: 1em; padding-right: 1em; text-align: center; vertical-align: top\">0</td>\n",
       "        <td style=\"padding-left: 1em; padding-right: 1em; text-align: center; vertical-align: top\">0</td>\n",
       "    </tr>\n",
       "    <tr>\n",
       "        <td style=\"padding-left: 1em; padding-right: 1em; text-align: center; vertical-align: top\">0.9999454483919017</td>\n",
       "        <td style=\"padding-left: 1em; padding-right: 1em; text-align: center; vertical-align: top\">0.0</td>\n",
       "        <td style=\"padding-left: 1em; padding-right: 1em; text-align: center; vertical-align: top\">0.0</td>\n",
       "        <td style=\"padding-left: 1em; padding-right: 1em; text-align: center; vertical-align: top\">0.0</td>\n",
       "        <td style=\"padding-left: 1em; padding-right: 1em; text-align: center; vertical-align: top\">0.0</td>\n",
       "        <td style=\"padding-left: 1em; padding-right: 1em; text-align: center; vertical-align: top\">2.0</td>\n",
       "        <td style=\"padding-left: 1em; padding-right: 1em; text-align: center; vertical-align: top\">0</td>\n",
       "        <td style=\"padding-left: 1em; padding-right: 1em; text-align: center; vertical-align: top\">0</td>\n",
       "        <td style=\"padding-left: 1em; padding-right: 1em; text-align: center; vertical-align: top\">0.0</td>\n",
       "        <td style=\"padding-left: 1em; padding-right: 1em; text-align: center; vertical-align: top\">0</td>\n",
       "        <td style=\"padding-left: 1em; padding-right: 1em; text-align: center; vertical-align: top\">0</td>\n",
       "        <td style=\"padding-left: 1em; padding-right: 1em; text-align: center; vertical-align: top\">0</td>\n",
       "    </tr>\n",
       "</table>\n",
       "[? rows x 17 columns]<br/>Note: Only the head of the SFrame is printed. This SFrame is lazily evaluated.<br/>You can use sf.materialize() to force materialization.\n",
       "</div>"
      ],
      "text/plain": [
       "Columns:\n",
       "\tname\tstr\n",
       "\treview\tstr\n",
       "\trating\tfloat\n",
       "\tword_count\tdict\n",
       "\tsentiment\tint\n",
       "\tpredicted_sentiment\tfloat\n",
       "\tawesome\tfloat\n",
       "\tgreat\tfloat\n",
       "\tfantastic\tfloat\n",
       "\tamazing\tfloat\n",
       "\tlove\tfloat\n",
       "\thorrible\tint\n",
       "\tbad\tint\n",
       "\tterrible\tfloat\n",
       "\tawful\tint\n",
       "\twow\tint\n",
       "\thate\tint\n",
       "\n",
       "Rows: Unknown\n",
       "\n",
       "Data:\n",
       "+-------------------------+-------------------------------+--------+\n",
       "|           name          |             review            | rating |\n",
       "+-------------------------+-------------------------------+--------+\n",
       "| Baby Trend Diaper Champ | Ok - newsflash.  Diapers a... |  4.0   |\n",
       "| Baby Trend Diaper Champ | My husband and I selected ... |  1.0   |\n",
       "| Baby Trend Diaper Champ | Excellent diaper disposal ... |  5.0   |\n",
       "| Baby Trend Diaper Champ | We love our diaper champ. ... |  5.0   |\n",
       "| Baby Trend Diaper Champ | Two girlfriends and two fa... |  5.0   |\n",
       "| Baby Trend Diaper Champ | I waited to review this un... |  4.0   |\n",
       "| Baby Trend Diaper Champ | I have had a diaper genie ... |  1.0   |\n",
       "| Baby Trend Diaper Champ | I originally put this item... |  5.0   |\n",
       "| Baby Trend Diaper Champ | I am so glad I got the Dia... |  5.0   |\n",
       "| Baby Trend Diaper Champ | We had 2 diaper Genie's bo... |  4.0   |\n",
       "+-------------------------+-------------------------------+--------+\n",
       "+-------------------------------+-----------+-----------------------+---------+\n",
       "|           word_count          | sentiment |  predicted_sentiment  | awesome |\n",
       "+-------------------------------+-----------+-----------------------+---------+\n",
       "| {'convenient': 1.0, 'more'... |     1     |   0.9950122935570308  |   0.0   |\n",
       "| {'system': 1.0, 'try': 1.0... |     0     |  5.90141453289128e-13 |   0.0   |\n",
       "| {'nose': 1.0, 'for': 2.0, ... |     1     |   0.9999996193960345  |   0.0   |\n",
       "| {'out': 1.0, 'pull': 1.0, ... |     1     |   0.9999567191544851  |   0.0   |\n",
       "| {'winter': 1.0, 'outside':... |     1     |   0.9999997013199228  |   0.0   |\n",
       "| {'mom': 1.0, 'my': 1.0, 'e... |     1     |   0.9999920758179407  |   0.0   |\n",
       "| {'yuck': 1.0, 'clean': 1.0... |     0     | 0.0017908398242889745 |   0.0   |\n",
       "| {'price': 1.0, 'suggestion... |     1     |   0.9999999999465673  |   0.0   |\n",
       "| {'best': 1.0, 'that': 1.0,... |     1     |   0.9801174413554127  |   0.0   |\n",
       "| {'no': 1.0, 'regular': 1.0... |     1     |   0.9999454483919017  |   0.0   |\n",
       "+-------------------------------+-----------+-----------------------+---------+\n",
       "+-------+-----------+---------+------+----------+-----+----------+-------+-----+\n",
       "| great | fantastic | amazing | love | horrible | bad | terrible | awful | wow |\n",
       "+-------+-----------+---------+------+----------+-----+----------+-------+-----+\n",
       "|  0.0  |    0.0    |   0.0   | 0.0  |    0     |  0  |   0.0    |   0   |  0  |\n",
       "|  0.0  |    0.0    |   0.0   | 0.0  |    0     |  0  |   0.0    |   0   |  0  |\n",
       "|  0.0  |    0.0    |   0.0   | 0.0  |    0     |  0  |   0.0    |   0   |  0  |\n",
       "|  0.0  |    0.0    |   0.0   | 1.0  |    0     |  0  |   0.0    |   0   |  0  |\n",
       "|  0.0  |    0.0    |   1.0   | 0.0  |    1     |  0  |   0.0    |   0   |  1  |\n",
       "|  0.0  |    0.0    |   0.0   | 0.0  |    0     |  1  |   0.0    |   0   |  0  |\n",
       "|  0.0  |    0.0    |   0.0   | 0.0  |    0     |  0  |   0.0    |   0   |  0  |\n",
       "|  0.0  |    0.0    |   0.0   | 0.0  |    0     |  0  |   0.0    |   0   |  0  |\n",
       "|  0.0  |    0.0    |   0.0   | 0.0  |    0     |  0  |   0.0    |   0   |  0  |\n",
       "|  0.0  |    0.0    |   0.0   | 2.0  |    0     |  0  |   0.0    |   0   |  0  |\n",
       "+-------+-----------+---------+------+----------+-----+----------+-------+-----+\n",
       "+------+\n",
       "| hate |\n",
       "+------+\n",
       "|  0   |\n",
       "|  0   |\n",
       "|  0   |\n",
       "|  0   |\n",
       "|  0   |\n",
       "|  0   |\n",
       "|  0   |\n",
       "|  0   |\n",
       "|  0   |\n",
       "|  0   |\n",
       "+------+\n",
       "[? rows x 17 columns]\n",
       "Note: Only the head of the SFrame is printed. This SFrame is lazily evaluated.\n",
       "You can use sf.materialize() to force materialization."
      ]
     },
     "execution_count": 180,
     "metadata": {},
     "output_type": "execute_result"
    }
   ],
   "source": [
    "products"
   ]
  },
  {
   "cell_type": "code",
   "execution_count": 223,
   "metadata": {},
   "outputs": [],
   "source": [
    "diaper_champ_reviews = products[products['name']=='Baby Trend Diaper Champ']"
   ]
  },
  {
   "cell_type": "code",
   "execution_count": 224,
   "metadata": {},
   "outputs": [
    {
     "data": {
      "text/html": [
       "<div style=\"max-height:1000px;max-width:1500px;overflow:auto;\"><table frame=\"box\" rules=\"cols\">\n",
       "    <tr>\n",
       "        <th style=\"padding-left: 1em; padding-right: 1em; text-align: center\">name</th>\n",
       "        <th style=\"padding-left: 1em; padding-right: 1em; text-align: center\">review</th>\n",
       "        <th style=\"padding-left: 1em; padding-right: 1em; text-align: center\">rating</th>\n",
       "        <th style=\"padding-left: 1em; padding-right: 1em; text-align: center\">word_count</th>\n",
       "        <th style=\"padding-left: 1em; padding-right: 1em; text-align: center\">sentiment</th>\n",
       "    </tr>\n",
       "    <tr>\n",
       "        <td style=\"padding-left: 1em; padding-right: 1em; text-align: center; vertical-align: top\">Baby Trend Diaper Champ</td>\n",
       "        <td style=\"padding-left: 1em; padding-right: 1em; text-align: center; vertical-align: top\">Ok - newsflash.  Diapers<br>are just smelly.  We&#x27;ve ...</td>\n",
       "        <td style=\"padding-left: 1em; padding-right: 1em; text-align: center; vertical-align: top\">4.0</td>\n",
       "        <td style=\"padding-left: 1em; padding-right: 1em; text-align: center; vertical-align: top\">{&#x27;convenient&#x27;: 1.0,<br>&#x27;more&#x27;: 1.0, &#x27;trash&#x27;: ...</td>\n",
       "        <td style=\"padding-left: 1em; padding-right: 1em; text-align: center; vertical-align: top\">1</td>\n",
       "    </tr>\n",
       "    <tr>\n",
       "        <td style=\"padding-left: 1em; padding-right: 1em; text-align: center; vertical-align: top\">Baby Trend Diaper Champ</td>\n",
       "        <td style=\"padding-left: 1em; padding-right: 1em; text-align: center; vertical-align: top\">My husband and I selected<br>the Diaper &quot;Champ&quot; ma ...</td>\n",
       "        <td style=\"padding-left: 1em; padding-right: 1em; text-align: center; vertical-align: top\">1.0</td>\n",
       "        <td style=\"padding-left: 1em; padding-right: 1em; text-align: center; vertical-align: top\">{&#x27;system&#x27;: 1.0, &#x27;try&#x27;:<br>1.0, &#x27;re&#x27;: 1.0, &#x27;still&#x27;: ...</td>\n",
       "        <td style=\"padding-left: 1em; padding-right: 1em; text-align: center; vertical-align: top\">0</td>\n",
       "    </tr>\n",
       "    <tr>\n",
       "        <td style=\"padding-left: 1em; padding-right: 1em; text-align: center; vertical-align: top\">Baby Trend Diaper Champ</td>\n",
       "        <td style=\"padding-left: 1em; padding-right: 1em; text-align: center; vertical-align: top\">Excellent diaper disposal<br>unit.  I used it in ...</td>\n",
       "        <td style=\"padding-left: 1em; padding-right: 1em; text-align: center; vertical-align: top\">5.0</td>\n",
       "        <td style=\"padding-left: 1em; padding-right: 1em; text-align: center; vertical-align: top\">{&#x27;nose&#x27;: 1.0, &#x27;for&#x27;: 2.0,<br>&#x27;investment&#x27;: 1.0, ...</td>\n",
       "        <td style=\"padding-left: 1em; padding-right: 1em; text-align: center; vertical-align: top\">1</td>\n",
       "    </tr>\n",
       "    <tr>\n",
       "        <td style=\"padding-left: 1em; padding-right: 1em; text-align: center; vertical-align: top\">Baby Trend Diaper Champ</td>\n",
       "        <td style=\"padding-left: 1em; padding-right: 1em; text-align: center; vertical-align: top\">We love our diaper champ.<br>It is very easy to use ...</td>\n",
       "        <td style=\"padding-left: 1em; padding-right: 1em; text-align: center; vertical-align: top\">5.0</td>\n",
       "        <td style=\"padding-left: 1em; padding-right: 1em; text-align: center; vertical-align: top\">{&#x27;out&#x27;: 1.0, &#x27;pull&#x27;: 1.0,<br>&#x27;open&#x27;: 1.0, &#x27;pail&#x27;:  ...</td>\n",
       "        <td style=\"padding-left: 1em; padding-right: 1em; text-align: center; vertical-align: top\">1</td>\n",
       "    </tr>\n",
       "    <tr>\n",
       "        <td style=\"padding-left: 1em; padding-right: 1em; text-align: center; vertical-align: top\">Baby Trend Diaper Champ</td>\n",
       "        <td style=\"padding-left: 1em; padding-right: 1em; text-align: center; vertical-align: top\">Two girlfriends and two<br>family members put me ...</td>\n",
       "        <td style=\"padding-left: 1em; padding-right: 1em; text-align: center; vertical-align: top\">5.0</td>\n",
       "        <td style=\"padding-left: 1em; padding-right: 1em; text-align: center; vertical-align: top\">{&#x27;winter&#x27;: 1.0,<br>&#x27;outside&#x27;: 1.0, &#x27;day&#x27;: ...</td>\n",
       "        <td style=\"padding-left: 1em; padding-right: 1em; text-align: center; vertical-align: top\">1</td>\n",
       "    </tr>\n",
       "    <tr>\n",
       "        <td style=\"padding-left: 1em; padding-right: 1em; text-align: center; vertical-align: top\">Baby Trend Diaper Champ</td>\n",
       "        <td style=\"padding-left: 1em; padding-right: 1em; text-align: center; vertical-align: top\">I waited to review this<br>until I saw how it ...</td>\n",
       "        <td style=\"padding-left: 1em; padding-right: 1em; text-align: center; vertical-align: top\">4.0</td>\n",
       "        <td style=\"padding-left: 1em; padding-right: 1em; text-align: center; vertical-align: top\">{&#x27;mom&#x27;: 1.0, &#x27;my&#x27;: 1.0,<br>&#x27;empty&#x27;: 2.0, &#x27;poop&#x27;: ...</td>\n",
       "        <td style=\"padding-left: 1em; padding-right: 1em; text-align: center; vertical-align: top\">1</td>\n",
       "    </tr>\n",
       "    <tr>\n",
       "        <td style=\"padding-left: 1em; padding-right: 1em; text-align: center; vertical-align: top\">Baby Trend Diaper Champ</td>\n",
       "        <td style=\"padding-left: 1em; padding-right: 1em; text-align: center; vertical-align: top\">I have had a diaper genie<br>for almost 4 years since ...</td>\n",
       "        <td style=\"padding-left: 1em; padding-right: 1em; text-align: center; vertical-align: top\">1.0</td>\n",
       "        <td style=\"padding-left: 1em; padding-right: 1em; text-align: center; vertical-align: top\">{&#x27;yuck&#x27;: 1.0, &#x27;clean&#x27;:<br>1.0, &#x27;all&#x27;: 1.0, &#x27;tra ...</td>\n",
       "        <td style=\"padding-left: 1em; padding-right: 1em; text-align: center; vertical-align: top\">0</td>\n",
       "    </tr>\n",
       "    <tr>\n",
       "        <td style=\"padding-left: 1em; padding-right: 1em; text-align: center; vertical-align: top\">Baby Trend Diaper Champ</td>\n",
       "        <td style=\"padding-left: 1em; padding-right: 1em; text-align: center; vertical-align: top\">I originally put this<br>item on my baby registry ...</td>\n",
       "        <td style=\"padding-left: 1em; padding-right: 1em; text-align: center; vertical-align: top\">5.0</td>\n",
       "        <td style=\"padding-left: 1em; padding-right: 1em; text-align: center; vertical-align: top\">{&#x27;price&#x27;: 1.0,<br>&#x27;suggestions&#x27;: 1.0, ...</td>\n",
       "        <td style=\"padding-left: 1em; padding-right: 1em; text-align: center; vertical-align: top\">1</td>\n",
       "    </tr>\n",
       "    <tr>\n",
       "        <td style=\"padding-left: 1em; padding-right: 1em; text-align: center; vertical-align: top\">Baby Trend Diaper Champ</td>\n",
       "        <td style=\"padding-left: 1em; padding-right: 1em; text-align: center; vertical-align: top\">I am so glad I got the<br>Diaper Champ instead of ...</td>\n",
       "        <td style=\"padding-left: 1em; padding-right: 1em; text-align: center; vertical-align: top\">5.0</td>\n",
       "        <td style=\"padding-left: 1em; padding-right: 1em; text-align: center; vertical-align: top\">{&#x27;best&#x27;: 1.0, &#x27;that&#x27;:<br>1.0, &#x27;handle&#x27;: 1.0, &#x27; ...</td>\n",
       "        <td style=\"padding-left: 1em; padding-right: 1em; text-align: center; vertical-align: top\">1</td>\n",
       "    </tr>\n",
       "    <tr>\n",
       "        <td style=\"padding-left: 1em; padding-right: 1em; text-align: center; vertical-align: top\">Baby Trend Diaper Champ</td>\n",
       "        <td style=\"padding-left: 1em; padding-right: 1em; text-align: center; vertical-align: top\">We had 2 diaper Genie&#x27;s<br>both given to us as a ...</td>\n",
       "        <td style=\"padding-left: 1em; padding-right: 1em; text-align: center; vertical-align: top\">4.0</td>\n",
       "        <td style=\"padding-left: 1em; padding-right: 1em; text-align: center; vertical-align: top\">{&#x27;no&#x27;: 1.0, &#x27;regular&#x27;:<br>1.0, &#x27;part&#x27;: 1.0, ...</td>\n",
       "        <td style=\"padding-left: 1em; padding-right: 1em; text-align: center; vertical-align: top\">1</td>\n",
       "    </tr>\n",
       "</table>\n",
       "<table frame=\"box\" rules=\"cols\">\n",
       "    <tr>\n",
       "        <th style=\"padding-left: 1em; padding-right: 1em; text-align: center\">predicted_sentiment</th>\n",
       "        <th style=\"padding-left: 1em; padding-right: 1em; text-align: center\">awesome</th>\n",
       "        <th style=\"padding-left: 1em; padding-right: 1em; text-align: center\">great</th>\n",
       "        <th style=\"padding-left: 1em; padding-right: 1em; text-align: center\">fantastic</th>\n",
       "        <th style=\"padding-left: 1em; padding-right: 1em; text-align: center\">amazing</th>\n",
       "        <th style=\"padding-left: 1em; padding-right: 1em; text-align: center\">love</th>\n",
       "        <th style=\"padding-left: 1em; padding-right: 1em; text-align: center\">horrible</th>\n",
       "        <th style=\"padding-left: 1em; padding-right: 1em; text-align: center\">bad</th>\n",
       "        <th style=\"padding-left: 1em; padding-right: 1em; text-align: center\">terrible</th>\n",
       "        <th style=\"padding-left: 1em; padding-right: 1em; text-align: center\">awful</th>\n",
       "        <th style=\"padding-left: 1em; padding-right: 1em; text-align: center\">wow</th>\n",
       "        <th style=\"padding-left: 1em; padding-right: 1em; text-align: center\">hate</th>\n",
       "    </tr>\n",
       "    <tr>\n",
       "        <td style=\"padding-left: 1em; padding-right: 1em; text-align: center; vertical-align: top\">0.995012293557031</td>\n",
       "        <td style=\"padding-left: 1em; padding-right: 1em; text-align: center; vertical-align: top\">0.0</td>\n",
       "        <td style=\"padding-left: 1em; padding-right: 1em; text-align: center; vertical-align: top\">0.0</td>\n",
       "        <td style=\"padding-left: 1em; padding-right: 1em; text-align: center; vertical-align: top\">0.0</td>\n",
       "        <td style=\"padding-left: 1em; padding-right: 1em; text-align: center; vertical-align: top\">0.0</td>\n",
       "        <td style=\"padding-left: 1em; padding-right: 1em; text-align: center; vertical-align: top\">0.0</td>\n",
       "        <td style=\"padding-left: 1em; padding-right: 1em; text-align: center; vertical-align: top\">0</td>\n",
       "        <td style=\"padding-left: 1em; padding-right: 1em; text-align: center; vertical-align: top\">0</td>\n",
       "        <td style=\"padding-left: 1em; padding-right: 1em; text-align: center; vertical-align: top\">0.0</td>\n",
       "        <td style=\"padding-left: 1em; padding-right: 1em; text-align: center; vertical-align: top\">0</td>\n",
       "        <td style=\"padding-left: 1em; padding-right: 1em; text-align: center; vertical-align: top\">0</td>\n",
       "        <td style=\"padding-left: 1em; padding-right: 1em; text-align: center; vertical-align: top\">0</td>\n",
       "    </tr>\n",
       "    <tr>\n",
       "        <td style=\"padding-left: 1em; padding-right: 1em; text-align: center; vertical-align: top\">5.901414532883502e-13</td>\n",
       "        <td style=\"padding-left: 1em; padding-right: 1em; text-align: center; vertical-align: top\">0.0</td>\n",
       "        <td style=\"padding-left: 1em; padding-right: 1em; text-align: center; vertical-align: top\">0.0</td>\n",
       "        <td style=\"padding-left: 1em; padding-right: 1em; text-align: center; vertical-align: top\">0.0</td>\n",
       "        <td style=\"padding-left: 1em; padding-right: 1em; text-align: center; vertical-align: top\">0.0</td>\n",
       "        <td style=\"padding-left: 1em; padding-right: 1em; text-align: center; vertical-align: top\">0.0</td>\n",
       "        <td style=\"padding-left: 1em; padding-right: 1em; text-align: center; vertical-align: top\">0</td>\n",
       "        <td style=\"padding-left: 1em; padding-right: 1em; text-align: center; vertical-align: top\">0</td>\n",
       "        <td style=\"padding-left: 1em; padding-right: 1em; text-align: center; vertical-align: top\">0.0</td>\n",
       "        <td style=\"padding-left: 1em; padding-right: 1em; text-align: center; vertical-align: top\">0</td>\n",
       "        <td style=\"padding-left: 1em; padding-right: 1em; text-align: center; vertical-align: top\">0</td>\n",
       "        <td style=\"padding-left: 1em; padding-right: 1em; text-align: center; vertical-align: top\">0</td>\n",
       "    </tr>\n",
       "    <tr>\n",
       "        <td style=\"padding-left: 1em; padding-right: 1em; text-align: center; vertical-align: top\">0.9999996193960345</td>\n",
       "        <td style=\"padding-left: 1em; padding-right: 1em; text-align: center; vertical-align: top\">0.0</td>\n",
       "        <td style=\"padding-left: 1em; padding-right: 1em; text-align: center; vertical-align: top\">0.0</td>\n",
       "        <td style=\"padding-left: 1em; padding-right: 1em; text-align: center; vertical-align: top\">0.0</td>\n",
       "        <td style=\"padding-left: 1em; padding-right: 1em; text-align: center; vertical-align: top\">0.0</td>\n",
       "        <td style=\"padding-left: 1em; padding-right: 1em; text-align: center; vertical-align: top\">0.0</td>\n",
       "        <td style=\"padding-left: 1em; padding-right: 1em; text-align: center; vertical-align: top\">0</td>\n",
       "        <td style=\"padding-left: 1em; padding-right: 1em; text-align: center; vertical-align: top\">0</td>\n",
       "        <td style=\"padding-left: 1em; padding-right: 1em; text-align: center; vertical-align: top\">0.0</td>\n",
       "        <td style=\"padding-left: 1em; padding-right: 1em; text-align: center; vertical-align: top\">0</td>\n",
       "        <td style=\"padding-left: 1em; padding-right: 1em; text-align: center; vertical-align: top\">0</td>\n",
       "        <td style=\"padding-left: 1em; padding-right: 1em; text-align: center; vertical-align: top\">0</td>\n",
       "    </tr>\n",
       "    <tr>\n",
       "        <td style=\"padding-left: 1em; padding-right: 1em; text-align: center; vertical-align: top\">0.9999567191544851</td>\n",
       "        <td style=\"padding-left: 1em; padding-right: 1em; text-align: center; vertical-align: top\">0.0</td>\n",
       "        <td style=\"padding-left: 1em; padding-right: 1em; text-align: center; vertical-align: top\">0.0</td>\n",
       "        <td style=\"padding-left: 1em; padding-right: 1em; text-align: center; vertical-align: top\">0.0</td>\n",
       "        <td style=\"padding-left: 1em; padding-right: 1em; text-align: center; vertical-align: top\">0.0</td>\n",
       "        <td style=\"padding-left: 1em; padding-right: 1em; text-align: center; vertical-align: top\">1.0</td>\n",
       "        <td style=\"padding-left: 1em; padding-right: 1em; text-align: center; vertical-align: top\">0</td>\n",
       "        <td style=\"padding-left: 1em; padding-right: 1em; text-align: center; vertical-align: top\">0</td>\n",
       "        <td style=\"padding-left: 1em; padding-right: 1em; text-align: center; vertical-align: top\">0.0</td>\n",
       "        <td style=\"padding-left: 1em; padding-right: 1em; text-align: center; vertical-align: top\">0</td>\n",
       "        <td style=\"padding-left: 1em; padding-right: 1em; text-align: center; vertical-align: top\">0</td>\n",
       "        <td style=\"padding-left: 1em; padding-right: 1em; text-align: center; vertical-align: top\">0</td>\n",
       "    </tr>\n",
       "    <tr>\n",
       "        <td style=\"padding-left: 1em; padding-right: 1em; text-align: center; vertical-align: top\">0.9999997013199228</td>\n",
       "        <td style=\"padding-left: 1em; padding-right: 1em; text-align: center; vertical-align: top\">0.0</td>\n",
       "        <td style=\"padding-left: 1em; padding-right: 1em; text-align: center; vertical-align: top\">0.0</td>\n",
       "        <td style=\"padding-left: 1em; padding-right: 1em; text-align: center; vertical-align: top\">0.0</td>\n",
       "        <td style=\"padding-left: 1em; padding-right: 1em; text-align: center; vertical-align: top\">1.0</td>\n",
       "        <td style=\"padding-left: 1em; padding-right: 1em; text-align: center; vertical-align: top\">0.0</td>\n",
       "        <td style=\"padding-left: 1em; padding-right: 1em; text-align: center; vertical-align: top\">1</td>\n",
       "        <td style=\"padding-left: 1em; padding-right: 1em; text-align: center; vertical-align: top\">0</td>\n",
       "        <td style=\"padding-left: 1em; padding-right: 1em; text-align: center; vertical-align: top\">0.0</td>\n",
       "        <td style=\"padding-left: 1em; padding-right: 1em; text-align: center; vertical-align: top\">0</td>\n",
       "        <td style=\"padding-left: 1em; padding-right: 1em; text-align: center; vertical-align: top\">1</td>\n",
       "        <td style=\"padding-left: 1em; padding-right: 1em; text-align: center; vertical-align: top\">0</td>\n",
       "    </tr>\n",
       "    <tr>\n",
       "        <td style=\"padding-left: 1em; padding-right: 1em; text-align: center; vertical-align: top\">0.9999920758179407</td>\n",
       "        <td style=\"padding-left: 1em; padding-right: 1em; text-align: center; vertical-align: top\">0.0</td>\n",
       "        <td style=\"padding-left: 1em; padding-right: 1em; text-align: center; vertical-align: top\">0.0</td>\n",
       "        <td style=\"padding-left: 1em; padding-right: 1em; text-align: center; vertical-align: top\">0.0</td>\n",
       "        <td style=\"padding-left: 1em; padding-right: 1em; text-align: center; vertical-align: top\">0.0</td>\n",
       "        <td style=\"padding-left: 1em; padding-right: 1em; text-align: center; vertical-align: top\">0.0</td>\n",
       "        <td style=\"padding-left: 1em; padding-right: 1em; text-align: center; vertical-align: top\">0</td>\n",
       "        <td style=\"padding-left: 1em; padding-right: 1em; text-align: center; vertical-align: top\">1</td>\n",
       "        <td style=\"padding-left: 1em; padding-right: 1em; text-align: center; vertical-align: top\">0.0</td>\n",
       "        <td style=\"padding-left: 1em; padding-right: 1em; text-align: center; vertical-align: top\">0</td>\n",
       "        <td style=\"padding-left: 1em; padding-right: 1em; text-align: center; vertical-align: top\">0</td>\n",
       "        <td style=\"padding-left: 1em; padding-right: 1em; text-align: center; vertical-align: top\">0</td>\n",
       "    </tr>\n",
       "    <tr>\n",
       "        <td style=\"padding-left: 1em; padding-right: 1em; text-align: center; vertical-align: top\">0.0017908398242891337</td>\n",
       "        <td style=\"padding-left: 1em; padding-right: 1em; text-align: center; vertical-align: top\">0.0</td>\n",
       "        <td style=\"padding-left: 1em; padding-right: 1em; text-align: center; vertical-align: top\">0.0</td>\n",
       "        <td style=\"padding-left: 1em; padding-right: 1em; text-align: center; vertical-align: top\">0.0</td>\n",
       "        <td style=\"padding-left: 1em; padding-right: 1em; text-align: center; vertical-align: top\">0.0</td>\n",
       "        <td style=\"padding-left: 1em; padding-right: 1em; text-align: center; vertical-align: top\">0.0</td>\n",
       "        <td style=\"padding-left: 1em; padding-right: 1em; text-align: center; vertical-align: top\">0</td>\n",
       "        <td style=\"padding-left: 1em; padding-right: 1em; text-align: center; vertical-align: top\">0</td>\n",
       "        <td style=\"padding-left: 1em; padding-right: 1em; text-align: center; vertical-align: top\">0.0</td>\n",
       "        <td style=\"padding-left: 1em; padding-right: 1em; text-align: center; vertical-align: top\">0</td>\n",
       "        <td style=\"padding-left: 1em; padding-right: 1em; text-align: center; vertical-align: top\">0</td>\n",
       "        <td style=\"padding-left: 1em; padding-right: 1em; text-align: center; vertical-align: top\">0</td>\n",
       "    </tr>\n",
       "    <tr>\n",
       "        <td style=\"padding-left: 1em; padding-right: 1em; text-align: center; vertical-align: top\">0.9999999999465673</td>\n",
       "        <td style=\"padding-left: 1em; padding-right: 1em; text-align: center; vertical-align: top\">0.0</td>\n",
       "        <td style=\"padding-left: 1em; padding-right: 1em; text-align: center; vertical-align: top\">0.0</td>\n",
       "        <td style=\"padding-left: 1em; padding-right: 1em; text-align: center; vertical-align: top\">0.0</td>\n",
       "        <td style=\"padding-left: 1em; padding-right: 1em; text-align: center; vertical-align: top\">0.0</td>\n",
       "        <td style=\"padding-left: 1em; padding-right: 1em; text-align: center; vertical-align: top\">0.0</td>\n",
       "        <td style=\"padding-left: 1em; padding-right: 1em; text-align: center; vertical-align: top\">0</td>\n",
       "        <td style=\"padding-left: 1em; padding-right: 1em; text-align: center; vertical-align: top\">0</td>\n",
       "        <td style=\"padding-left: 1em; padding-right: 1em; text-align: center; vertical-align: top\">0.0</td>\n",
       "        <td style=\"padding-left: 1em; padding-right: 1em; text-align: center; vertical-align: top\">0</td>\n",
       "        <td style=\"padding-left: 1em; padding-right: 1em; text-align: center; vertical-align: top\">0</td>\n",
       "        <td style=\"padding-left: 1em; padding-right: 1em; text-align: center; vertical-align: top\">0</td>\n",
       "    </tr>\n",
       "    <tr>\n",
       "        <td style=\"padding-left: 1em; padding-right: 1em; text-align: center; vertical-align: top\">0.9801174413554105</td>\n",
       "        <td style=\"padding-left: 1em; padding-right: 1em; text-align: center; vertical-align: top\">0.0</td>\n",
       "        <td style=\"padding-left: 1em; padding-right: 1em; text-align: center; vertical-align: top\">0.0</td>\n",
       "        <td style=\"padding-left: 1em; padding-right: 1em; text-align: center; vertical-align: top\">0.0</td>\n",
       "        <td style=\"padding-left: 1em; padding-right: 1em; text-align: center; vertical-align: top\">0.0</td>\n",
       "        <td style=\"padding-left: 1em; padding-right: 1em; text-align: center; vertical-align: top\">0.0</td>\n",
       "        <td style=\"padding-left: 1em; padding-right: 1em; text-align: center; vertical-align: top\">0</td>\n",
       "        <td style=\"padding-left: 1em; padding-right: 1em; text-align: center; vertical-align: top\">0</td>\n",
       "        <td style=\"padding-left: 1em; padding-right: 1em; text-align: center; vertical-align: top\">0.0</td>\n",
       "        <td style=\"padding-left: 1em; padding-right: 1em; text-align: center; vertical-align: top\">0</td>\n",
       "        <td style=\"padding-left: 1em; padding-right: 1em; text-align: center; vertical-align: top\">0</td>\n",
       "        <td style=\"padding-left: 1em; padding-right: 1em; text-align: center; vertical-align: top\">0</td>\n",
       "    </tr>\n",
       "    <tr>\n",
       "        <td style=\"padding-left: 1em; padding-right: 1em; text-align: center; vertical-align: top\">0.9999454483919017</td>\n",
       "        <td style=\"padding-left: 1em; padding-right: 1em; text-align: center; vertical-align: top\">0.0</td>\n",
       "        <td style=\"padding-left: 1em; padding-right: 1em; text-align: center; vertical-align: top\">0.0</td>\n",
       "        <td style=\"padding-left: 1em; padding-right: 1em; text-align: center; vertical-align: top\">0.0</td>\n",
       "        <td style=\"padding-left: 1em; padding-right: 1em; text-align: center; vertical-align: top\">0.0</td>\n",
       "        <td style=\"padding-left: 1em; padding-right: 1em; text-align: center; vertical-align: top\">2.0</td>\n",
       "        <td style=\"padding-left: 1em; padding-right: 1em; text-align: center; vertical-align: top\">0</td>\n",
       "        <td style=\"padding-left: 1em; padding-right: 1em; text-align: center; vertical-align: top\">0</td>\n",
       "        <td style=\"padding-left: 1em; padding-right: 1em; text-align: center; vertical-align: top\">0.0</td>\n",
       "        <td style=\"padding-left: 1em; padding-right: 1em; text-align: center; vertical-align: top\">0</td>\n",
       "        <td style=\"padding-left: 1em; padding-right: 1em; text-align: center; vertical-align: top\">0</td>\n",
       "        <td style=\"padding-left: 1em; padding-right: 1em; text-align: center; vertical-align: top\">0</td>\n",
       "    </tr>\n",
       "</table>\n",
       "[? rows x 17 columns]<br/>Note: Only the head of the SFrame is printed. This SFrame is lazily evaluated.<br/>You can use sf.materialize() to force materialization.\n",
       "</div>"
      ],
      "text/plain": [
       "Columns:\n",
       "\tname\tstr\n",
       "\treview\tstr\n",
       "\trating\tfloat\n",
       "\tword_count\tdict\n",
       "\tsentiment\tint\n",
       "\tpredicted_sentiment\tfloat\n",
       "\tawesome\tfloat\n",
       "\tgreat\tfloat\n",
       "\tfantastic\tfloat\n",
       "\tamazing\tfloat\n",
       "\tlove\tfloat\n",
       "\thorrible\tint\n",
       "\tbad\tint\n",
       "\tterrible\tfloat\n",
       "\tawful\tint\n",
       "\twow\tint\n",
       "\thate\tint\n",
       "\n",
       "Rows: Unknown\n",
       "\n",
       "Data:\n",
       "+-------------------------+-------------------------------+--------+\n",
       "|           name          |             review            | rating |\n",
       "+-------------------------+-------------------------------+--------+\n",
       "| Baby Trend Diaper Champ | Ok - newsflash.  Diapers a... |  4.0   |\n",
       "| Baby Trend Diaper Champ | My husband and I selected ... |  1.0   |\n",
       "| Baby Trend Diaper Champ | Excellent diaper disposal ... |  5.0   |\n",
       "| Baby Trend Diaper Champ | We love our diaper champ. ... |  5.0   |\n",
       "| Baby Trend Diaper Champ | Two girlfriends and two fa... |  5.0   |\n",
       "| Baby Trend Diaper Champ | I waited to review this un... |  4.0   |\n",
       "| Baby Trend Diaper Champ | I have had a diaper genie ... |  1.0   |\n",
       "| Baby Trend Diaper Champ | I originally put this item... |  5.0   |\n",
       "| Baby Trend Diaper Champ | I am so glad I got the Dia... |  5.0   |\n",
       "| Baby Trend Diaper Champ | We had 2 diaper Genie's bo... |  4.0   |\n",
       "+-------------------------+-------------------------------+--------+\n",
       "+-------------------------------+-----------+-----------------------+---------+\n",
       "|           word_count          | sentiment |  predicted_sentiment  | awesome |\n",
       "+-------------------------------+-----------+-----------------------+---------+\n",
       "| {'convenient': 1.0, 'more'... |     1     |   0.995012293557031   |   0.0   |\n",
       "| {'system': 1.0, 'try': 1.0... |     0     | 5.901414532883502e-13 |   0.0   |\n",
       "| {'nose': 1.0, 'for': 2.0, ... |     1     |   0.9999996193960345  |   0.0   |\n",
       "| {'out': 1.0, 'pull': 1.0, ... |     1     |   0.9999567191544851  |   0.0   |\n",
       "| {'winter': 1.0, 'outside':... |     1     |   0.9999997013199228  |   0.0   |\n",
       "| {'mom': 1.0, 'my': 1.0, 'e... |     1     |   0.9999920758179407  |   0.0   |\n",
       "| {'yuck': 1.0, 'clean': 1.0... |     0     | 0.0017908398242891337 |   0.0   |\n",
       "| {'price': 1.0, 'suggestion... |     1     |   0.9999999999465673  |   0.0   |\n",
       "| {'best': 1.0, 'that': 1.0,... |     1     |   0.9801174413554105  |   0.0   |\n",
       "| {'no': 1.0, 'regular': 1.0... |     1     |   0.9999454483919017  |   0.0   |\n",
       "+-------------------------------+-----------+-----------------------+---------+\n",
       "+-------+-----------+---------+------+----------+-----+----------+-------+-----+\n",
       "| great | fantastic | amazing | love | horrible | bad | terrible | awful | wow |\n",
       "+-------+-----------+---------+------+----------+-----+----------+-------+-----+\n",
       "|  0.0  |    0.0    |   0.0   | 0.0  |    0     |  0  |   0.0    |   0   |  0  |\n",
       "|  0.0  |    0.0    |   0.0   | 0.0  |    0     |  0  |   0.0    |   0   |  0  |\n",
       "|  0.0  |    0.0    |   0.0   | 0.0  |    0     |  0  |   0.0    |   0   |  0  |\n",
       "|  0.0  |    0.0    |   0.0   | 1.0  |    0     |  0  |   0.0    |   0   |  0  |\n",
       "|  0.0  |    0.0    |   1.0   | 0.0  |    1     |  0  |   0.0    |   0   |  1  |\n",
       "|  0.0  |    0.0    |   0.0   | 0.0  |    0     |  1  |   0.0    |   0   |  0  |\n",
       "|  0.0  |    0.0    |   0.0   | 0.0  |    0     |  0  |   0.0    |   0   |  0  |\n",
       "|  0.0  |    0.0    |   0.0   | 0.0  |    0     |  0  |   0.0    |   0   |  0  |\n",
       "|  0.0  |    0.0    |   0.0   | 0.0  |    0     |  0  |   0.0    |   0   |  0  |\n",
       "|  0.0  |    0.0    |   0.0   | 2.0  |    0     |  0  |   0.0    |   0   |  0  |\n",
       "+-------+-----------+---------+------+----------+-----+----------+-------+-----+\n",
       "+------+\n",
       "| hate |\n",
       "+------+\n",
       "|  0   |\n",
       "|  0   |\n",
       "|  0   |\n",
       "|  0   |\n",
       "|  0   |\n",
       "|  0   |\n",
       "|  0   |\n",
       "|  0   |\n",
       "|  0   |\n",
       "|  0   |\n",
       "+------+\n",
       "[? rows x 17 columns]\n",
       "Note: Only the head of the SFrame is printed. This SFrame is lazily evaluated.\n",
       "You can use sf.materialize() to force materialization."
      ]
     },
     "execution_count": 224,
     "metadata": {},
     "output_type": "execute_result"
    }
   ],
   "source": [
    "diaper_champ_reviews"
   ]
  },
  {
   "cell_type": "code",
   "execution_count": 227,
   "metadata": {},
   "outputs": [],
   "source": [
    "diaper_champ_reviews['predicted_sentiment'] = sentiment_model.predict(diaper_champ_reviews, output_type = 'probability')"
   ]
  },
  {
   "cell_type": "code",
   "execution_count": 240,
   "metadata": {},
   "outputs": [
    {
     "data": {
      "text/plain": [
       "{'accuracy': 0.9176975738650012,\n",
       " 'auc': 0.9342357833151299,\n",
       " 'confusion_matrix': Columns:\n",
       " \ttarget_label\tint\n",
       " \tpredicted_label\tint\n",
       " \tcount\tint\n",
       " \n",
       " Rows: 4\n",
       " \n",
       " Data:\n",
       " +--------------+-----------------+-------+\n",
       " | target_label | predicted_label | count |\n",
       " +--------------+-----------------+-------+\n",
       " |      0       |        1        |  1397 |\n",
       " |      1       |        0        |  1344 |\n",
       " |      0       |        0        |  3931 |\n",
       " |      1       |        1        | 26632 |\n",
       " +--------------+-----------------+-------+\n",
       " [4 rows x 3 columns],\n",
       " 'f1_score': 0.951057941255245,\n",
       " 'log_loss': 0.3304787187241226,\n",
       " 'precision': 0.9501587641371436,\n",
       " 'recall': 0.9519588218472976,\n",
       " 'roc_curve': Columns:\n",
       " \tthreshold\tfloat\n",
       " \tfpr\tfloat\n",
       " \ttpr\tfloat\n",
       " \tp\tint\n",
       " \tn\tint\n",
       " \n",
       " Rows: 100001\n",
       " \n",
       " Data:\n",
       " +-----------+--------------------+--------------------+-------+------+\n",
       " | threshold |        fpr         |        tpr         |   p   |  n   |\n",
       " +-----------+--------------------+--------------------+-------+------+\n",
       " |    0.0    |        1.0         |        1.0         | 27976 | 5328 |\n",
       " |   1e-05   | 0.847972972972973  | 0.9975693451529882 | 27976 | 5328 |\n",
       " |   2e-05   | 0.829954954954955  | 0.9971761509865599 | 27976 | 5328 |\n",
       " |   3e-05   | 0.818506006006006  | 0.9969616814412353 | 27976 | 5328 |\n",
       " |   4e-05   | 0.8109984984984985 | 0.9967472118959108 | 27976 | 5328 |\n",
       " |   5e-05   | 0.8057432432432432 | 0.9966042321990277 | 27976 | 5328 |\n",
       " |   6e-05   | 0.7991741741741741 | 0.9962825278810409 | 27976 | 5328 |\n",
       " |   7e-05   | 0.7952327327327328 | 0.9961752931083786 | 27976 | 5328 |\n",
       " |   8e-05   | 0.7920420420420421 | 0.9961038032599371 | 27976 | 5328 |\n",
       " |   9e-05   | 0.7882882882882883 | 0.9958893337146125 | 27976 | 5328 |\n",
       " +-----------+--------------------+--------------------+-------+------+\n",
       " [100001 rows x 5 columns]\n",
       " Note: Only the head of the SFrame is printed.\n",
       " You can use print_rows(num_rows=m, num_columns=n) to print more rows and columns.}"
      ]
     },
     "execution_count": 240,
     "metadata": {},
     "output_type": "execute_result"
    }
   ],
   "source": [
    "sentiment_model.evaluate(test_data)"
   ]
  },
  {
   "cell_type": "code",
   "execution_count": 228,
   "metadata": {
    "collapsed": true
   },
   "outputs": [
    {
     "data": {
      "text/html": [
       "<div style=\"max-height:1000px;max-width:1500px;overflow:auto;\"><table frame=\"box\" rules=\"cols\">\n",
       "    <tr>\n",
       "        <th style=\"padding-left: 1em; padding-right: 1em; text-align: center\">name</th>\n",
       "        <th style=\"padding-left: 1em; padding-right: 1em; text-align: center\">review</th>\n",
       "        <th style=\"padding-left: 1em; padding-right: 1em; text-align: center\">rating</th>\n",
       "        <th style=\"padding-left: 1em; padding-right: 1em; text-align: center\">word_count</th>\n",
       "        <th style=\"padding-left: 1em; padding-right: 1em; text-align: center\">sentiment</th>\n",
       "    </tr>\n",
       "    <tr>\n",
       "        <td style=\"padding-left: 1em; padding-right: 1em; text-align: center; vertical-align: top\">Baby Trend Diaper Champ</td>\n",
       "        <td style=\"padding-left: 1em; padding-right: 1em; text-align: center; vertical-align: top\">I read a review below<br>that can explain exactly ...</td>\n",
       "        <td style=\"padding-left: 1em; padding-right: 1em; text-align: center; vertical-align: top\">4.0</td>\n",
       "        <td style=\"padding-left: 1em; padding-right: 1em; text-align: center; vertical-align: top\">{&#x27;key&#x27;: 1.0, &#x27;have&#x27;: 1.0,<br>&#x27;pieces&#x27;: 1.0, &#x27;betwe ...</td>\n",
       "        <td style=\"padding-left: 1em; padding-right: 1em; text-align: center; vertical-align: top\">1</td>\n",
       "    </tr>\n",
       "    <tr>\n",
       "        <td style=\"padding-left: 1em; padding-right: 1em; text-align: center; vertical-align: top\">Baby Trend Diaper Champ</td>\n",
       "        <td style=\"padding-left: 1em; padding-right: 1em; text-align: center; vertical-align: top\">I have never written a<br>review for Amazon but I ...</td>\n",
       "        <td style=\"padding-left: 1em; padding-right: 1em; text-align: center; vertical-align: top\">5.0</td>\n",
       "        <td style=\"padding-left: 1em; padding-right: 1em; text-align: center; vertical-align: top\">{&#x27;priceless&#x27;: 1.0,<br>&#x27;knows&#x27;: 1.0, &#x27;parent&#x27;: ...</td>\n",
       "        <td style=\"padding-left: 1em; padding-right: 1em; text-align: center; vertical-align: top\">1</td>\n",
       "    </tr>\n",
       "    <tr>\n",
       "        <td style=\"padding-left: 1em; padding-right: 1em; text-align: center; vertical-align: top\">Baby Trend Diaper Champ</td>\n",
       "        <td style=\"padding-left: 1em; padding-right: 1em; text-align: center; vertical-align: top\">I originally put this<br>item on my baby registry ...</td>\n",
       "        <td style=\"padding-left: 1em; padding-right: 1em; text-align: center; vertical-align: top\">5.0</td>\n",
       "        <td style=\"padding-left: 1em; padding-right: 1em; text-align: center; vertical-align: top\">{&#x27;price&#x27;: 1.0,<br>&#x27;suggestions&#x27;: 1.0, ...</td>\n",
       "        <td style=\"padding-left: 1em; padding-right: 1em; text-align: center; vertical-align: top\">1</td>\n",
       "    </tr>\n",
       "    <tr>\n",
       "        <td style=\"padding-left: 1em; padding-right: 1em; text-align: center; vertical-align: top\">Baby Trend Diaper Champ</td>\n",
       "        <td style=\"padding-left: 1em; padding-right: 1em; text-align: center; vertical-align: top\">Baby Luke can turn a<br>clean diaper to a dirty ...</td>\n",
       "        <td style=\"padding-left: 1em; padding-right: 1em; text-align: center; vertical-align: top\">5.0</td>\n",
       "        <td style=\"padding-left: 1em; padding-right: 1em; text-align: center; vertical-align: top\">{&#x27;around&#x27;: 1.0, &#x27;any&#x27;:<br>1.0, &#x27;t&#x27;: 1.0, &#x27;isn&#x27;: ...</td>\n",
       "        <td style=\"padding-left: 1em; padding-right: 1em; text-align: center; vertical-align: top\">1</td>\n",
       "    </tr>\n",
       "    <tr>\n",
       "        <td style=\"padding-left: 1em; padding-right: 1em; text-align: center; vertical-align: top\">Baby Trend Diaper Champ</td>\n",
       "        <td style=\"padding-left: 1em; padding-right: 1em; text-align: center; vertical-align: top\">Diaper Champ or Diaper<br>Genie? That was my ...</td>\n",
       "        <td style=\"padding-left: 1em; padding-right: 1em; text-align: center; vertical-align: top\">5.0</td>\n",
       "        <td style=\"padding-left: 1em; padding-right: 1em; text-align: center; vertical-align: top\">{&#x27;either&#x27;: 1.0, &#x27;be&#x27;:<br>1.0, &#x27;t&#x27;: 1.0, &#x27;not&#x27;: ...</td>\n",
       "        <td style=\"padding-left: 1em; padding-right: 1em; text-align: center; vertical-align: top\">1</td>\n",
       "    </tr>\n",
       "    <tr>\n",
       "        <td style=\"padding-left: 1em; padding-right: 1em; text-align: center; vertical-align: top\">Baby Trend Diaper Champ</td>\n",
       "        <td style=\"padding-left: 1em; padding-right: 1em; text-align: center; vertical-align: top\">I am one of those super-<br>critical shoppers who ...</td>\n",
       "        <td style=\"padding-left: 1em; padding-right: 1em; text-align: center; vertical-align: top\">5.0</td>\n",
       "        <td style=\"padding-left: 1em; padding-right: 1em; text-align: center; vertical-align: top\">{&#x27;hope&#x27;: 1.0, &#x27;make&#x27;:<br>1.0, &#x27;slower&#x27;: 1.0, ...</td>\n",
       "        <td style=\"padding-left: 1em; padding-right: 1em; text-align: center; vertical-align: top\">1</td>\n",
       "    </tr>\n",
       "    <tr>\n",
       "        <td style=\"padding-left: 1em; padding-right: 1em; text-align: center; vertical-align: top\">Baby Trend Diaper Champ</td>\n",
       "        <td style=\"padding-left: 1em; padding-right: 1em; text-align: center; vertical-align: top\">I LOOOVE this diaper<br>pail!  Its the easies ...</td>\n",
       "        <td style=\"padding-left: 1em; padding-right: 1em; text-align: center; vertical-align: top\">5.0</td>\n",
       "        <td style=\"padding-left: 1em; padding-right: 1em; text-align: center; vertical-align: top\">{&#x27;buy&#x27;: 1.0, &#x27;product&#x27;:<br>1.0, &#x27;recommend&#x27;: 1.0, ...</td>\n",
       "        <td style=\"padding-left: 1em; padding-right: 1em; text-align: center; vertical-align: top\">1</td>\n",
       "    </tr>\n",
       "    <tr>\n",
       "        <td style=\"padding-left: 1em; padding-right: 1em; text-align: center; vertical-align: top\">Baby Trend Diaper Champ</td>\n",
       "        <td style=\"padding-left: 1em; padding-right: 1em; text-align: center; vertical-align: top\">As a first time mother, I<br>wanted to get the best ...</td>\n",
       "        <td style=\"padding-left: 1em; padding-right: 1em; text-align: center; vertical-align: top\">5.0</td>\n",
       "        <td style=\"padding-left: 1em; padding-right: 1em; text-align: center; vertical-align: top\">{&#x27;ll&#x27;: 1.0, &#x27;baby&#x27;: 1.0,<br>&#x27;recommended&#x27;: 1.0, &#x27; ...</td>\n",
       "        <td style=\"padding-left: 1em; padding-right: 1em; text-align: center; vertical-align: top\">1</td>\n",
       "    </tr>\n",
       "    <tr>\n",
       "        <td style=\"padding-left: 1em; padding-right: 1em; text-align: center; vertical-align: top\">Baby Trend Diaper Champ</td>\n",
       "        <td style=\"padding-left: 1em; padding-right: 1em; text-align: center; vertical-align: top\">I see that there are<br>complaints of stinkiness ...</td>\n",
       "        <td style=\"padding-left: 1em; padding-right: 1em; text-align: center; vertical-align: top\">5.0</td>\n",
       "        <td style=\"padding-left: 1em; padding-right: 1em; text-align: center; vertical-align: top\">{&#x27;very&#x27;: 1.0, &#x27;told&#x27;:<br>1.0, &#x27;all&#x27;: 1.0, ...</td>\n",
       "        <td style=\"padding-left: 1em; padding-right: 1em; text-align: center; vertical-align: top\">1</td>\n",
       "    </tr>\n",
       "    <tr>\n",
       "        <td style=\"padding-left: 1em; padding-right: 1em; text-align: center; vertical-align: top\">Baby Trend Diaper Champ</td>\n",
       "        <td style=\"padding-left: 1em; padding-right: 1em; text-align: center; vertical-align: top\">I have a 10 year old<br>daughter and an 8 month ...</td>\n",
       "        <td style=\"padding-left: 1em; padding-right: 1em; text-align: center; vertical-align: top\">5.0</td>\n",
       "        <td style=\"padding-left: 1em; padding-right: 1em; text-align: center; vertical-align: top\">{&#x27;sorry&#x27;: 1.0, &#x27;be&#x27;: 1.0,<br>&#x27;you&#x27;: 2.0, &#x27;sell&#x27;: 1.0, ...</td>\n",
       "        <td style=\"padding-left: 1em; padding-right: 1em; text-align: center; vertical-align: top\">1</td>\n",
       "    </tr>\n",
       "</table>\n",
       "<table frame=\"box\" rules=\"cols\">\n",
       "    <tr>\n",
       "        <th style=\"padding-left: 1em; padding-right: 1em; text-align: center\">predicted_sentiment</th>\n",
       "        <th style=\"padding-left: 1em; padding-right: 1em; text-align: center\">awesome</th>\n",
       "        <th style=\"padding-left: 1em; padding-right: 1em; text-align: center\">great</th>\n",
       "        <th style=\"padding-left: 1em; padding-right: 1em; text-align: center\">fantastic</th>\n",
       "        <th style=\"padding-left: 1em; padding-right: 1em; text-align: center\">amazing</th>\n",
       "        <th style=\"padding-left: 1em; padding-right: 1em; text-align: center\">love</th>\n",
       "        <th style=\"padding-left: 1em; padding-right: 1em; text-align: center\">horrible</th>\n",
       "        <th style=\"padding-left: 1em; padding-right: 1em; text-align: center\">bad</th>\n",
       "        <th style=\"padding-left: 1em; padding-right: 1em; text-align: center\">terrible</th>\n",
       "        <th style=\"padding-left: 1em; padding-right: 1em; text-align: center\">awful</th>\n",
       "        <th style=\"padding-left: 1em; padding-right: 1em; text-align: center\">wow</th>\n",
       "        <th style=\"padding-left: 1em; padding-right: 1em; text-align: center\">hate</th>\n",
       "    </tr>\n",
       "    <tr>\n",
       "        <td style=\"padding-left: 1em; padding-right: 1em; text-align: center; vertical-align: top\">0.9999999999895941</td>\n",
       "        <td style=\"padding-left: 1em; padding-right: 1em; text-align: center; vertical-align: top\">0.0</td>\n",
       "        <td style=\"padding-left: 1em; padding-right: 1em; text-align: center; vertical-align: top\">0.0</td>\n",
       "        <td style=\"padding-left: 1em; padding-right: 1em; text-align: center; vertical-align: top\">0.0</td>\n",
       "        <td style=\"padding-left: 1em; padding-right: 1em; text-align: center; vertical-align: top\">0.0</td>\n",
       "        <td style=\"padding-left: 1em; padding-right: 1em; text-align: center; vertical-align: top\">0.0</td>\n",
       "        <td style=\"padding-left: 1em; padding-right: 1em; text-align: center; vertical-align: top\">0</td>\n",
       "        <td style=\"padding-left: 1em; padding-right: 1em; text-align: center; vertical-align: top\">0</td>\n",
       "        <td style=\"padding-left: 1em; padding-right: 1em; text-align: center; vertical-align: top\">0.0</td>\n",
       "        <td style=\"padding-left: 1em; padding-right: 1em; text-align: center; vertical-align: top\">0</td>\n",
       "        <td style=\"padding-left: 1em; padding-right: 1em; text-align: center; vertical-align: top\">0</td>\n",
       "        <td style=\"padding-left: 1em; padding-right: 1em; text-align: center; vertical-align: top\">0</td>\n",
       "    </tr>\n",
       "    <tr>\n",
       "        <td style=\"padding-left: 1em; padding-right: 1em; text-align: center; vertical-align: top\">0.9999999999868131</td>\n",
       "        <td style=\"padding-left: 1em; padding-right: 1em; text-align: center; vertical-align: top\">0.0</td>\n",
       "        <td style=\"padding-left: 1em; padding-right: 1em; text-align: center; vertical-align: top\">0.0</td>\n",
       "        <td style=\"padding-left: 1em; padding-right: 1em; text-align: center; vertical-align: top\">0.0</td>\n",
       "        <td style=\"padding-left: 1em; padding-right: 1em; text-align: center; vertical-align: top\">0.0</td>\n",
       "        <td style=\"padding-left: 1em; padding-right: 1em; text-align: center; vertical-align: top\">1.0</td>\n",
       "        <td style=\"padding-left: 1em; padding-right: 1em; text-align: center; vertical-align: top\">0</td>\n",
       "        <td style=\"padding-left: 1em; padding-right: 1em; text-align: center; vertical-align: top\">0</td>\n",
       "        <td style=\"padding-left: 1em; padding-right: 1em; text-align: center; vertical-align: top\">0.0</td>\n",
       "        <td style=\"padding-left: 1em; padding-right: 1em; text-align: center; vertical-align: top\">0</td>\n",
       "        <td style=\"padding-left: 1em; padding-right: 1em; text-align: center; vertical-align: top\">0</td>\n",
       "        <td style=\"padding-left: 1em; padding-right: 1em; text-align: center; vertical-align: top\">0</td>\n",
       "    </tr>\n",
       "    <tr>\n",
       "        <td style=\"padding-left: 1em; padding-right: 1em; text-align: center; vertical-align: top\">0.9999999999465673</td>\n",
       "        <td style=\"padding-left: 1em; padding-right: 1em; text-align: center; vertical-align: top\">0.0</td>\n",
       "        <td style=\"padding-left: 1em; padding-right: 1em; text-align: center; vertical-align: top\">0.0</td>\n",
       "        <td style=\"padding-left: 1em; padding-right: 1em; text-align: center; vertical-align: top\">0.0</td>\n",
       "        <td style=\"padding-left: 1em; padding-right: 1em; text-align: center; vertical-align: top\">0.0</td>\n",
       "        <td style=\"padding-left: 1em; padding-right: 1em; text-align: center; vertical-align: top\">0.0</td>\n",
       "        <td style=\"padding-left: 1em; padding-right: 1em; text-align: center; vertical-align: top\">0</td>\n",
       "        <td style=\"padding-left: 1em; padding-right: 1em; text-align: center; vertical-align: top\">0</td>\n",
       "        <td style=\"padding-left: 1em; padding-right: 1em; text-align: center; vertical-align: top\">0.0</td>\n",
       "        <td style=\"padding-left: 1em; padding-right: 1em; text-align: center; vertical-align: top\">0</td>\n",
       "        <td style=\"padding-left: 1em; padding-right: 1em; text-align: center; vertical-align: top\">0</td>\n",
       "        <td style=\"padding-left: 1em; padding-right: 1em; text-align: center; vertical-align: top\">0</td>\n",
       "    </tr>\n",
       "    <tr>\n",
       "        <td style=\"padding-left: 1em; padding-right: 1em; text-align: center; vertical-align: top\">0.9999999999302822</td>\n",
       "        <td style=\"padding-left: 1em; padding-right: 1em; text-align: center; vertical-align: top\">0.0</td>\n",
       "        <td style=\"padding-left: 1em; padding-right: 1em; text-align: center; vertical-align: top\">1.0</td>\n",
       "        <td style=\"padding-left: 1em; padding-right: 1em; text-align: center; vertical-align: top\">0.0</td>\n",
       "        <td style=\"padding-left: 1em; padding-right: 1em; text-align: center; vertical-align: top\">0.0</td>\n",
       "        <td style=\"padding-left: 1em; padding-right: 1em; text-align: center; vertical-align: top\">0.0</td>\n",
       "        <td style=\"padding-left: 1em; padding-right: 1em; text-align: center; vertical-align: top\">0</td>\n",
       "        <td style=\"padding-left: 1em; padding-right: 1em; text-align: center; vertical-align: top\">0</td>\n",
       "        <td style=\"padding-left: 1em; padding-right: 1em; text-align: center; vertical-align: top\">0.0</td>\n",
       "        <td style=\"padding-left: 1em; padding-right: 1em; text-align: center; vertical-align: top\">0</td>\n",
       "        <td style=\"padding-left: 1em; padding-right: 1em; text-align: center; vertical-align: top\">0</td>\n",
       "        <td style=\"padding-left: 1em; padding-right: 1em; text-align: center; vertical-align: top\">0</td>\n",
       "    </tr>\n",
       "    <tr>\n",
       "        <td style=\"padding-left: 1em; padding-right: 1em; text-align: center; vertical-align: top\">0.9999999999174133</td>\n",
       "        <td style=\"padding-left: 1em; padding-right: 1em; text-align: center; vertical-align: top\">0.0</td>\n",
       "        <td style=\"padding-left: 1em; padding-right: 1em; text-align: center; vertical-align: top\">1.0</td>\n",
       "        <td style=\"padding-left: 1em; padding-right: 1em; text-align: center; vertical-align: top\">0.0</td>\n",
       "        <td style=\"padding-left: 1em; padding-right: 1em; text-align: center; vertical-align: top\">0.0</td>\n",
       "        <td style=\"padding-left: 1em; padding-right: 1em; text-align: center; vertical-align: top\">0.0</td>\n",
       "        <td style=\"padding-left: 1em; padding-right: 1em; text-align: center; vertical-align: top\">0</td>\n",
       "        <td style=\"padding-left: 1em; padding-right: 1em; text-align: center; vertical-align: top\">0</td>\n",
       "        <td style=\"padding-left: 1em; padding-right: 1em; text-align: center; vertical-align: top\">0.0</td>\n",
       "        <td style=\"padding-left: 1em; padding-right: 1em; text-align: center; vertical-align: top\">0</td>\n",
       "        <td style=\"padding-left: 1em; padding-right: 1em; text-align: center; vertical-align: top\">0</td>\n",
       "        <td style=\"padding-left: 1em; padding-right: 1em; text-align: center; vertical-align: top\">0</td>\n",
       "    </tr>\n",
       "    <tr>\n",
       "        <td style=\"padding-left: 1em; padding-right: 1em; text-align: center; vertical-align: top\">0.9999999998430963</td>\n",
       "        <td style=\"padding-left: 1em; padding-right: 1em; text-align: center; vertical-align: top\">0.0</td>\n",
       "        <td style=\"padding-left: 1em; padding-right: 1em; text-align: center; vertical-align: top\">0.0</td>\n",
       "        <td style=\"padding-left: 1em; padding-right: 1em; text-align: center; vertical-align: top\">0.0</td>\n",
       "        <td style=\"padding-left: 1em; padding-right: 1em; text-align: center; vertical-align: top\">0.0</td>\n",
       "        <td style=\"padding-left: 1em; padding-right: 1em; text-align: center; vertical-align: top\">1.0</td>\n",
       "        <td style=\"padding-left: 1em; padding-right: 1em; text-align: center; vertical-align: top\">0</td>\n",
       "        <td style=\"padding-left: 1em; padding-right: 1em; text-align: center; vertical-align: top\">0</td>\n",
       "        <td style=\"padding-left: 1em; padding-right: 1em; text-align: center; vertical-align: top\">0.0</td>\n",
       "        <td style=\"padding-left: 1em; padding-right: 1em; text-align: center; vertical-align: top\">0</td>\n",
       "        <td style=\"padding-left: 1em; padding-right: 1em; text-align: center; vertical-align: top\">0</td>\n",
       "        <td style=\"padding-left: 1em; padding-right: 1em; text-align: center; vertical-align: top\">0</td>\n",
       "    </tr>\n",
       "    <tr>\n",
       "        <td style=\"padding-left: 1em; padding-right: 1em; text-align: center; vertical-align: top\">0.9999999997360196</td>\n",
       "        <td style=\"padding-left: 1em; padding-right: 1em; text-align: center; vertical-align: top\">0.0</td>\n",
       "        <td style=\"padding-left: 1em; padding-right: 1em; text-align: center; vertical-align: top\">0.0</td>\n",
       "        <td style=\"padding-left: 1em; padding-right: 1em; text-align: center; vertical-align: top\">0.0</td>\n",
       "        <td style=\"padding-left: 1em; padding-right: 1em; text-align: center; vertical-align: top\">0.0</td>\n",
       "        <td style=\"padding-left: 1em; padding-right: 1em; text-align: center; vertical-align: top\">1.0</td>\n",
       "        <td style=\"padding-left: 1em; padding-right: 1em; text-align: center; vertical-align: top\">0</td>\n",
       "        <td style=\"padding-left: 1em; padding-right: 1em; text-align: center; vertical-align: top\">0</td>\n",
       "        <td style=\"padding-left: 1em; padding-right: 1em; text-align: center; vertical-align: top\">0.0</td>\n",
       "        <td style=\"padding-left: 1em; padding-right: 1em; text-align: center; vertical-align: top\">0</td>\n",
       "        <td style=\"padding-left: 1em; padding-right: 1em; text-align: center; vertical-align: top\">0</td>\n",
       "        <td style=\"padding-left: 1em; padding-right: 1em; text-align: center; vertical-align: top\">0</td>\n",
       "    </tr>\n",
       "    <tr>\n",
       "        <td style=\"padding-left: 1em; padding-right: 1em; text-align: center; vertical-align: top\">0.9999999995664315</td>\n",
       "        <td style=\"padding-left: 1em; padding-right: 1em; text-align: center; vertical-align: top\">0.0</td>\n",
       "        <td style=\"padding-left: 1em; padding-right: 1em; text-align: center; vertical-align: top\">0.0</td>\n",
       "        <td style=\"padding-left: 1em; padding-right: 1em; text-align: center; vertical-align: top\">0.0</td>\n",
       "        <td style=\"padding-left: 1em; padding-right: 1em; text-align: center; vertical-align: top\">0.0</td>\n",
       "        <td style=\"padding-left: 1em; padding-right: 1em; text-align: center; vertical-align: top\">1.0</td>\n",
       "        <td style=\"padding-left: 1em; padding-right: 1em; text-align: center; vertical-align: top\">0</td>\n",
       "        <td style=\"padding-left: 1em; padding-right: 1em; text-align: center; vertical-align: top\">0</td>\n",
       "        <td style=\"padding-left: 1em; padding-right: 1em; text-align: center; vertical-align: top\">0.0</td>\n",
       "        <td style=\"padding-left: 1em; padding-right: 1em; text-align: center; vertical-align: top\">0</td>\n",
       "        <td style=\"padding-left: 1em; padding-right: 1em; text-align: center; vertical-align: top\">0</td>\n",
       "        <td style=\"padding-left: 1em; padding-right: 1em; text-align: center; vertical-align: top\">0</td>\n",
       "    </tr>\n",
       "    <tr>\n",
       "        <td style=\"padding-left: 1em; padding-right: 1em; text-align: center; vertical-align: top\">0.9999999985015902</td>\n",
       "        <td style=\"padding-left: 1em; padding-right: 1em; text-align: center; vertical-align: top\">0.0</td>\n",
       "        <td style=\"padding-left: 1em; padding-right: 1em; text-align: center; vertical-align: top\">0.0</td>\n",
       "        <td style=\"padding-left: 1em; padding-right: 1em; text-align: center; vertical-align: top\">0.0</td>\n",
       "        <td style=\"padding-left: 1em; padding-right: 1em; text-align: center; vertical-align: top\">0.0</td>\n",
       "        <td style=\"padding-left: 1em; padding-right: 1em; text-align: center; vertical-align: top\">0.0</td>\n",
       "        <td style=\"padding-left: 1em; padding-right: 1em; text-align: center; vertical-align: top\">0</td>\n",
       "        <td style=\"padding-left: 1em; padding-right: 1em; text-align: center; vertical-align: top\">0</td>\n",
       "        <td style=\"padding-left: 1em; padding-right: 1em; text-align: center; vertical-align: top\">0.0</td>\n",
       "        <td style=\"padding-left: 1em; padding-right: 1em; text-align: center; vertical-align: top\">0</td>\n",
       "        <td style=\"padding-left: 1em; padding-right: 1em; text-align: center; vertical-align: top\">0</td>\n",
       "        <td style=\"padding-left: 1em; padding-right: 1em; text-align: center; vertical-align: top\">0</td>\n",
       "    </tr>\n",
       "    <tr>\n",
       "        <td style=\"padding-left: 1em; padding-right: 1em; text-align: center; vertical-align: top\">0.999999998056851</td>\n",
       "        <td style=\"padding-left: 1em; padding-right: 1em; text-align: center; vertical-align: top\">0.0</td>\n",
       "        <td style=\"padding-left: 1em; padding-right: 1em; text-align: center; vertical-align: top\">0.0</td>\n",
       "        <td style=\"padding-left: 1em; padding-right: 1em; text-align: center; vertical-align: top\">0.0</td>\n",
       "        <td style=\"padding-left: 1em; padding-right: 1em; text-align: center; vertical-align: top\">0.0</td>\n",
       "        <td style=\"padding-left: 1em; padding-right: 1em; text-align: center; vertical-align: top\">2.0</td>\n",
       "        <td style=\"padding-left: 1em; padding-right: 1em; text-align: center; vertical-align: top\">0</td>\n",
       "        <td style=\"padding-left: 1em; padding-right: 1em; text-align: center; vertical-align: top\">0</td>\n",
       "        <td style=\"padding-left: 1em; padding-right: 1em; text-align: center; vertical-align: top\">0.0</td>\n",
       "        <td style=\"padding-left: 1em; padding-right: 1em; text-align: center; vertical-align: top\">0</td>\n",
       "        <td style=\"padding-left: 1em; padding-right: 1em; text-align: center; vertical-align: top\">0</td>\n",
       "        <td style=\"padding-left: 1em; padding-right: 1em; text-align: center; vertical-align: top\">0</td>\n",
       "    </tr>\n",
       "</table>\n",
       "[298 rows x 17 columns]<br/>Note: Only the head of the SFrame is printed.<br/>You can use print_rows(num_rows=m, num_columns=n) to print more rows and columns.\n",
       "</div>"
      ],
      "text/plain": [
       "Columns:\n",
       "\tname\tstr\n",
       "\treview\tstr\n",
       "\trating\tfloat\n",
       "\tword_count\tdict\n",
       "\tsentiment\tint\n",
       "\tpredicted_sentiment\tfloat\n",
       "\tawesome\tfloat\n",
       "\tgreat\tfloat\n",
       "\tfantastic\tfloat\n",
       "\tamazing\tfloat\n",
       "\tlove\tfloat\n",
       "\thorrible\tint\n",
       "\tbad\tint\n",
       "\tterrible\tfloat\n",
       "\tawful\tint\n",
       "\twow\tint\n",
       "\thate\tint\n",
       "\n",
       "Rows: 298\n",
       "\n",
       "Data:\n",
       "+-------------------------+-------------------------------+--------+\n",
       "|           name          |             review            | rating |\n",
       "+-------------------------+-------------------------------+--------+\n",
       "| Baby Trend Diaper Champ | I read a review below that... |  4.0   |\n",
       "| Baby Trend Diaper Champ | I have never written a rev... |  5.0   |\n",
       "| Baby Trend Diaper Champ | I originally put this item... |  5.0   |\n",
       "| Baby Trend Diaper Champ | Baby Luke can turn a clean... |  5.0   |\n",
       "| Baby Trend Diaper Champ | Diaper Champ or Diaper Gen... |  5.0   |\n",
       "| Baby Trend Diaper Champ | I am one of those super-cr... |  5.0   |\n",
       "| Baby Trend Diaper Champ | I LOOOVE this diaper pail!... |  5.0   |\n",
       "| Baby Trend Diaper Champ | As a first time mother, I ... |  5.0   |\n",
       "| Baby Trend Diaper Champ | I see that there are compl... |  5.0   |\n",
       "| Baby Trend Diaper Champ | I have a 10 year old daugh... |  5.0   |\n",
       "+-------------------------+-------------------------------+--------+\n",
       "+-------------------------------+-----------+---------------------+---------+\n",
       "|           word_count          | sentiment | predicted_sentiment | awesome |\n",
       "+-------------------------------+-----------+---------------------+---------+\n",
       "| {'key': 1.0, 'have': 1.0, ... |     1     |  0.9999999999895941 |   0.0   |\n",
       "| {'priceless': 1.0, 'knows'... |     1     |  0.9999999999868131 |   0.0   |\n",
       "| {'price': 1.0, 'suggestion... |     1     |  0.9999999999465673 |   0.0   |\n",
       "| {'around': 1.0, 'any': 1.0... |     1     |  0.9999999999302822 |   0.0   |\n",
       "| {'either': 1.0, 'be': 1.0,... |     1     |  0.9999999999174133 |   0.0   |\n",
       "| {'hope': 1.0, 'make': 1.0,... |     1     |  0.9999999998430963 |   0.0   |\n",
       "| {'buy': 1.0, 'product': 1.... |     1     |  0.9999999997360196 |   0.0   |\n",
       "| {'ll': 1.0, 'baby': 1.0, '... |     1     |  0.9999999995664315 |   0.0   |\n",
       "| {'very': 1.0, 'told': 1.0,... |     1     |  0.9999999985015902 |   0.0   |\n",
       "| {'sorry': 1.0, 'be': 1.0, ... |     1     |  0.999999998056851  |   0.0   |\n",
       "+-------------------------------+-----------+---------------------+---------+\n",
       "+-------+-----------+---------+------+----------+-----+----------+-------+-----+\n",
       "| great | fantastic | amazing | love | horrible | bad | terrible | awful | wow |\n",
       "+-------+-----------+---------+------+----------+-----+----------+-------+-----+\n",
       "|  0.0  |    0.0    |   0.0   | 0.0  |    0     |  0  |   0.0    |   0   |  0  |\n",
       "|  0.0  |    0.0    |   0.0   | 1.0  |    0     |  0  |   0.0    |   0   |  0  |\n",
       "|  0.0  |    0.0    |   0.0   | 0.0  |    0     |  0  |   0.0    |   0   |  0  |\n",
       "|  1.0  |    0.0    |   0.0   | 0.0  |    0     |  0  |   0.0    |   0   |  0  |\n",
       "|  1.0  |    0.0    |   0.0   | 0.0  |    0     |  0  |   0.0    |   0   |  0  |\n",
       "|  0.0  |    0.0    |   0.0   | 1.0  |    0     |  0  |   0.0    |   0   |  0  |\n",
       "|  0.0  |    0.0    |   0.0   | 1.0  |    0     |  0  |   0.0    |   0   |  0  |\n",
       "|  0.0  |    0.0    |   0.0   | 1.0  |    0     |  0  |   0.0    |   0   |  0  |\n",
       "|  0.0  |    0.0    |   0.0   | 0.0  |    0     |  0  |   0.0    |   0   |  0  |\n",
       "|  0.0  |    0.0    |   0.0   | 2.0  |    0     |  0  |   0.0    |   0   |  0  |\n",
       "+-------+-----------+---------+------+----------+-----+----------+-------+-----+\n",
       "+------+\n",
       "| hate |\n",
       "+------+\n",
       "|  0   |\n",
       "|  0   |\n",
       "|  0   |\n",
       "|  0   |\n",
       "|  0   |\n",
       "|  0   |\n",
       "|  0   |\n",
       "|  0   |\n",
       "|  0   |\n",
       "|  0   |\n",
       "+------+\n",
       "[298 rows x 17 columns]\n",
       "Note: Only the head of the SFrame is printed.\n",
       "You can use print_rows(num_rows=m, num_columns=n) to print more rows and columns."
      ]
     },
     "execution_count": 228,
     "metadata": {},
     "output_type": "execute_result"
    }
   ],
   "source": [
    "diaper_champ_reviews"
   ]
  },
  {
   "cell_type": "code",
   "execution_count": 229,
   "metadata": {},
   "outputs": [],
   "source": [
    "diaper_champ_reviews = diaper_champ_reviews.sort('predicted_sentiment',ascending=False)"
   ]
  },
  {
   "cell_type": "code",
   "execution_count": 230,
   "metadata": {
    "collapsed": true
   },
   "outputs": [
    {
     "data": {
      "text/html": [
       "<div style=\"max-height:1000px;max-width:1500px;overflow:auto;\"><table frame=\"box\" rules=\"cols\">\n",
       "    <tr>\n",
       "        <th style=\"padding-left: 1em; padding-right: 1em; text-align: center\">name</th>\n",
       "        <th style=\"padding-left: 1em; padding-right: 1em; text-align: center\">review</th>\n",
       "        <th style=\"padding-left: 1em; padding-right: 1em; text-align: center\">rating</th>\n",
       "        <th style=\"padding-left: 1em; padding-right: 1em; text-align: center\">word_count</th>\n",
       "        <th style=\"padding-left: 1em; padding-right: 1em; text-align: center\">sentiment</th>\n",
       "    </tr>\n",
       "    <tr>\n",
       "        <td style=\"padding-left: 1em; padding-right: 1em; text-align: center; vertical-align: top\">Baby Trend Diaper Champ</td>\n",
       "        <td style=\"padding-left: 1em; padding-right: 1em; text-align: center; vertical-align: top\">I read a review below<br>that can explain exactly ...</td>\n",
       "        <td style=\"padding-left: 1em; padding-right: 1em; text-align: center; vertical-align: top\">4.0</td>\n",
       "        <td style=\"padding-left: 1em; padding-right: 1em; text-align: center; vertical-align: top\">{&#x27;key&#x27;: 1.0, &#x27;have&#x27;: 1.0,<br>&#x27;pieces&#x27;: 1.0, &#x27;betwe ...</td>\n",
       "        <td style=\"padding-left: 1em; padding-right: 1em; text-align: center; vertical-align: top\">1</td>\n",
       "    </tr>\n",
       "    <tr>\n",
       "        <td style=\"padding-left: 1em; padding-right: 1em; text-align: center; vertical-align: top\">Baby Trend Diaper Champ</td>\n",
       "        <td style=\"padding-left: 1em; padding-right: 1em; text-align: center; vertical-align: top\">I have never written a<br>review for Amazon but I ...</td>\n",
       "        <td style=\"padding-left: 1em; padding-right: 1em; text-align: center; vertical-align: top\">5.0</td>\n",
       "        <td style=\"padding-left: 1em; padding-right: 1em; text-align: center; vertical-align: top\">{&#x27;priceless&#x27;: 1.0,<br>&#x27;knows&#x27;: 1.0, &#x27;parent&#x27;: ...</td>\n",
       "        <td style=\"padding-left: 1em; padding-right: 1em; text-align: center; vertical-align: top\">1</td>\n",
       "    </tr>\n",
       "    <tr>\n",
       "        <td style=\"padding-left: 1em; padding-right: 1em; text-align: center; vertical-align: top\">Baby Trend Diaper Champ</td>\n",
       "        <td style=\"padding-left: 1em; padding-right: 1em; text-align: center; vertical-align: top\">I originally put this<br>item on my baby registry ...</td>\n",
       "        <td style=\"padding-left: 1em; padding-right: 1em; text-align: center; vertical-align: top\">5.0</td>\n",
       "        <td style=\"padding-left: 1em; padding-right: 1em; text-align: center; vertical-align: top\">{&#x27;price&#x27;: 1.0,<br>&#x27;suggestions&#x27;: 1.0, ...</td>\n",
       "        <td style=\"padding-left: 1em; padding-right: 1em; text-align: center; vertical-align: top\">1</td>\n",
       "    </tr>\n",
       "    <tr>\n",
       "        <td style=\"padding-left: 1em; padding-right: 1em; text-align: center; vertical-align: top\">Baby Trend Diaper Champ</td>\n",
       "        <td style=\"padding-left: 1em; padding-right: 1em; text-align: center; vertical-align: top\">Baby Luke can turn a<br>clean diaper to a dirty ...</td>\n",
       "        <td style=\"padding-left: 1em; padding-right: 1em; text-align: center; vertical-align: top\">5.0</td>\n",
       "        <td style=\"padding-left: 1em; padding-right: 1em; text-align: center; vertical-align: top\">{&#x27;around&#x27;: 1.0, &#x27;any&#x27;:<br>1.0, &#x27;t&#x27;: 1.0, &#x27;isn&#x27;: ...</td>\n",
       "        <td style=\"padding-left: 1em; padding-right: 1em; text-align: center; vertical-align: top\">1</td>\n",
       "    </tr>\n",
       "    <tr>\n",
       "        <td style=\"padding-left: 1em; padding-right: 1em; text-align: center; vertical-align: top\">Baby Trend Diaper Champ</td>\n",
       "        <td style=\"padding-left: 1em; padding-right: 1em; text-align: center; vertical-align: top\">Diaper Champ or Diaper<br>Genie? That was my ...</td>\n",
       "        <td style=\"padding-left: 1em; padding-right: 1em; text-align: center; vertical-align: top\">5.0</td>\n",
       "        <td style=\"padding-left: 1em; padding-right: 1em; text-align: center; vertical-align: top\">{&#x27;either&#x27;: 1.0, &#x27;be&#x27;:<br>1.0, &#x27;t&#x27;: 1.0, &#x27;not&#x27;: ...</td>\n",
       "        <td style=\"padding-left: 1em; padding-right: 1em; text-align: center; vertical-align: top\">1</td>\n",
       "    </tr>\n",
       "    <tr>\n",
       "        <td style=\"padding-left: 1em; padding-right: 1em; text-align: center; vertical-align: top\">Baby Trend Diaper Champ</td>\n",
       "        <td style=\"padding-left: 1em; padding-right: 1em; text-align: center; vertical-align: top\">I am one of those super-<br>critical shoppers who ...</td>\n",
       "        <td style=\"padding-left: 1em; padding-right: 1em; text-align: center; vertical-align: top\">5.0</td>\n",
       "        <td style=\"padding-left: 1em; padding-right: 1em; text-align: center; vertical-align: top\">{&#x27;hope&#x27;: 1.0, &#x27;make&#x27;:<br>1.0, &#x27;slower&#x27;: 1.0, ...</td>\n",
       "        <td style=\"padding-left: 1em; padding-right: 1em; text-align: center; vertical-align: top\">1</td>\n",
       "    </tr>\n",
       "    <tr>\n",
       "        <td style=\"padding-left: 1em; padding-right: 1em; text-align: center; vertical-align: top\">Baby Trend Diaper Champ</td>\n",
       "        <td style=\"padding-left: 1em; padding-right: 1em; text-align: center; vertical-align: top\">I LOOOVE this diaper<br>pail!  Its the easies ...</td>\n",
       "        <td style=\"padding-left: 1em; padding-right: 1em; text-align: center; vertical-align: top\">5.0</td>\n",
       "        <td style=\"padding-left: 1em; padding-right: 1em; text-align: center; vertical-align: top\">{&#x27;buy&#x27;: 1.0, &#x27;product&#x27;:<br>1.0, &#x27;recommend&#x27;: 1.0, ...</td>\n",
       "        <td style=\"padding-left: 1em; padding-right: 1em; text-align: center; vertical-align: top\">1</td>\n",
       "    </tr>\n",
       "    <tr>\n",
       "        <td style=\"padding-left: 1em; padding-right: 1em; text-align: center; vertical-align: top\">Baby Trend Diaper Champ</td>\n",
       "        <td style=\"padding-left: 1em; padding-right: 1em; text-align: center; vertical-align: top\">As a first time mother, I<br>wanted to get the best ...</td>\n",
       "        <td style=\"padding-left: 1em; padding-right: 1em; text-align: center; vertical-align: top\">5.0</td>\n",
       "        <td style=\"padding-left: 1em; padding-right: 1em; text-align: center; vertical-align: top\">{&#x27;ll&#x27;: 1.0, &#x27;baby&#x27;: 1.0,<br>&#x27;recommended&#x27;: 1.0, &#x27; ...</td>\n",
       "        <td style=\"padding-left: 1em; padding-right: 1em; text-align: center; vertical-align: top\">1</td>\n",
       "    </tr>\n",
       "    <tr>\n",
       "        <td style=\"padding-left: 1em; padding-right: 1em; text-align: center; vertical-align: top\">Baby Trend Diaper Champ</td>\n",
       "        <td style=\"padding-left: 1em; padding-right: 1em; text-align: center; vertical-align: top\">I see that there are<br>complaints of stinkiness ...</td>\n",
       "        <td style=\"padding-left: 1em; padding-right: 1em; text-align: center; vertical-align: top\">5.0</td>\n",
       "        <td style=\"padding-left: 1em; padding-right: 1em; text-align: center; vertical-align: top\">{&#x27;very&#x27;: 1.0, &#x27;told&#x27;:<br>1.0, &#x27;all&#x27;: 1.0, ...</td>\n",
       "        <td style=\"padding-left: 1em; padding-right: 1em; text-align: center; vertical-align: top\">1</td>\n",
       "    </tr>\n",
       "    <tr>\n",
       "        <td style=\"padding-left: 1em; padding-right: 1em; text-align: center; vertical-align: top\">Baby Trend Diaper Champ</td>\n",
       "        <td style=\"padding-left: 1em; padding-right: 1em; text-align: center; vertical-align: top\">I have a 10 year old<br>daughter and an 8 month ...</td>\n",
       "        <td style=\"padding-left: 1em; padding-right: 1em; text-align: center; vertical-align: top\">5.0</td>\n",
       "        <td style=\"padding-left: 1em; padding-right: 1em; text-align: center; vertical-align: top\">{&#x27;sorry&#x27;: 1.0, &#x27;be&#x27;: 1.0,<br>&#x27;you&#x27;: 2.0, &#x27;sell&#x27;: 1.0, ...</td>\n",
       "        <td style=\"padding-left: 1em; padding-right: 1em; text-align: center; vertical-align: top\">1</td>\n",
       "    </tr>\n",
       "</table>\n",
       "<table frame=\"box\" rules=\"cols\">\n",
       "    <tr>\n",
       "        <th style=\"padding-left: 1em; padding-right: 1em; text-align: center\">predicted_sentiment</th>\n",
       "        <th style=\"padding-left: 1em; padding-right: 1em; text-align: center\">awesome</th>\n",
       "        <th style=\"padding-left: 1em; padding-right: 1em; text-align: center\">great</th>\n",
       "        <th style=\"padding-left: 1em; padding-right: 1em; text-align: center\">fantastic</th>\n",
       "        <th style=\"padding-left: 1em; padding-right: 1em; text-align: center\">amazing</th>\n",
       "        <th style=\"padding-left: 1em; padding-right: 1em; text-align: center\">love</th>\n",
       "        <th style=\"padding-left: 1em; padding-right: 1em; text-align: center\">horrible</th>\n",
       "        <th style=\"padding-left: 1em; padding-right: 1em; text-align: center\">bad</th>\n",
       "        <th style=\"padding-left: 1em; padding-right: 1em; text-align: center\">terrible</th>\n",
       "        <th style=\"padding-left: 1em; padding-right: 1em; text-align: center\">awful</th>\n",
       "        <th style=\"padding-left: 1em; padding-right: 1em; text-align: center\">wow</th>\n",
       "        <th style=\"padding-left: 1em; padding-right: 1em; text-align: center\">hate</th>\n",
       "    </tr>\n",
       "    <tr>\n",
       "        <td style=\"padding-left: 1em; padding-right: 1em; text-align: center; vertical-align: top\">0.9999999999895941</td>\n",
       "        <td style=\"padding-left: 1em; padding-right: 1em; text-align: center; vertical-align: top\">0.0</td>\n",
       "        <td style=\"padding-left: 1em; padding-right: 1em; text-align: center; vertical-align: top\">0.0</td>\n",
       "        <td style=\"padding-left: 1em; padding-right: 1em; text-align: center; vertical-align: top\">0.0</td>\n",
       "        <td style=\"padding-left: 1em; padding-right: 1em; text-align: center; vertical-align: top\">0.0</td>\n",
       "        <td style=\"padding-left: 1em; padding-right: 1em; text-align: center; vertical-align: top\">0.0</td>\n",
       "        <td style=\"padding-left: 1em; padding-right: 1em; text-align: center; vertical-align: top\">0</td>\n",
       "        <td style=\"padding-left: 1em; padding-right: 1em; text-align: center; vertical-align: top\">0</td>\n",
       "        <td style=\"padding-left: 1em; padding-right: 1em; text-align: center; vertical-align: top\">0.0</td>\n",
       "        <td style=\"padding-left: 1em; padding-right: 1em; text-align: center; vertical-align: top\">0</td>\n",
       "        <td style=\"padding-left: 1em; padding-right: 1em; text-align: center; vertical-align: top\">0</td>\n",
       "        <td style=\"padding-left: 1em; padding-right: 1em; text-align: center; vertical-align: top\">0</td>\n",
       "    </tr>\n",
       "    <tr>\n",
       "        <td style=\"padding-left: 1em; padding-right: 1em; text-align: center; vertical-align: top\">0.9999999999868131</td>\n",
       "        <td style=\"padding-left: 1em; padding-right: 1em; text-align: center; vertical-align: top\">0.0</td>\n",
       "        <td style=\"padding-left: 1em; padding-right: 1em; text-align: center; vertical-align: top\">0.0</td>\n",
       "        <td style=\"padding-left: 1em; padding-right: 1em; text-align: center; vertical-align: top\">0.0</td>\n",
       "        <td style=\"padding-left: 1em; padding-right: 1em; text-align: center; vertical-align: top\">0.0</td>\n",
       "        <td style=\"padding-left: 1em; padding-right: 1em; text-align: center; vertical-align: top\">1.0</td>\n",
       "        <td style=\"padding-left: 1em; padding-right: 1em; text-align: center; vertical-align: top\">0</td>\n",
       "        <td style=\"padding-left: 1em; padding-right: 1em; text-align: center; vertical-align: top\">0</td>\n",
       "        <td style=\"padding-left: 1em; padding-right: 1em; text-align: center; vertical-align: top\">0.0</td>\n",
       "        <td style=\"padding-left: 1em; padding-right: 1em; text-align: center; vertical-align: top\">0</td>\n",
       "        <td style=\"padding-left: 1em; padding-right: 1em; text-align: center; vertical-align: top\">0</td>\n",
       "        <td style=\"padding-left: 1em; padding-right: 1em; text-align: center; vertical-align: top\">0</td>\n",
       "    </tr>\n",
       "    <tr>\n",
       "        <td style=\"padding-left: 1em; padding-right: 1em; text-align: center; vertical-align: top\">0.9999999999465673</td>\n",
       "        <td style=\"padding-left: 1em; padding-right: 1em; text-align: center; vertical-align: top\">0.0</td>\n",
       "        <td style=\"padding-left: 1em; padding-right: 1em; text-align: center; vertical-align: top\">0.0</td>\n",
       "        <td style=\"padding-left: 1em; padding-right: 1em; text-align: center; vertical-align: top\">0.0</td>\n",
       "        <td style=\"padding-left: 1em; padding-right: 1em; text-align: center; vertical-align: top\">0.0</td>\n",
       "        <td style=\"padding-left: 1em; padding-right: 1em; text-align: center; vertical-align: top\">0.0</td>\n",
       "        <td style=\"padding-left: 1em; padding-right: 1em; text-align: center; vertical-align: top\">0</td>\n",
       "        <td style=\"padding-left: 1em; padding-right: 1em; text-align: center; vertical-align: top\">0</td>\n",
       "        <td style=\"padding-left: 1em; padding-right: 1em; text-align: center; vertical-align: top\">0.0</td>\n",
       "        <td style=\"padding-left: 1em; padding-right: 1em; text-align: center; vertical-align: top\">0</td>\n",
       "        <td style=\"padding-left: 1em; padding-right: 1em; text-align: center; vertical-align: top\">0</td>\n",
       "        <td style=\"padding-left: 1em; padding-right: 1em; text-align: center; vertical-align: top\">0</td>\n",
       "    </tr>\n",
       "    <tr>\n",
       "        <td style=\"padding-left: 1em; padding-right: 1em; text-align: center; vertical-align: top\">0.9999999999302822</td>\n",
       "        <td style=\"padding-left: 1em; padding-right: 1em; text-align: center; vertical-align: top\">0.0</td>\n",
       "        <td style=\"padding-left: 1em; padding-right: 1em; text-align: center; vertical-align: top\">1.0</td>\n",
       "        <td style=\"padding-left: 1em; padding-right: 1em; text-align: center; vertical-align: top\">0.0</td>\n",
       "        <td style=\"padding-left: 1em; padding-right: 1em; text-align: center; vertical-align: top\">0.0</td>\n",
       "        <td style=\"padding-left: 1em; padding-right: 1em; text-align: center; vertical-align: top\">0.0</td>\n",
       "        <td style=\"padding-left: 1em; padding-right: 1em; text-align: center; vertical-align: top\">0</td>\n",
       "        <td style=\"padding-left: 1em; padding-right: 1em; text-align: center; vertical-align: top\">0</td>\n",
       "        <td style=\"padding-left: 1em; padding-right: 1em; text-align: center; vertical-align: top\">0.0</td>\n",
       "        <td style=\"padding-left: 1em; padding-right: 1em; text-align: center; vertical-align: top\">0</td>\n",
       "        <td style=\"padding-left: 1em; padding-right: 1em; text-align: center; vertical-align: top\">0</td>\n",
       "        <td style=\"padding-left: 1em; padding-right: 1em; text-align: center; vertical-align: top\">0</td>\n",
       "    </tr>\n",
       "    <tr>\n",
       "        <td style=\"padding-left: 1em; padding-right: 1em; text-align: center; vertical-align: top\">0.9999999999174133</td>\n",
       "        <td style=\"padding-left: 1em; padding-right: 1em; text-align: center; vertical-align: top\">0.0</td>\n",
       "        <td style=\"padding-left: 1em; padding-right: 1em; text-align: center; vertical-align: top\">1.0</td>\n",
       "        <td style=\"padding-left: 1em; padding-right: 1em; text-align: center; vertical-align: top\">0.0</td>\n",
       "        <td style=\"padding-left: 1em; padding-right: 1em; text-align: center; vertical-align: top\">0.0</td>\n",
       "        <td style=\"padding-left: 1em; padding-right: 1em; text-align: center; vertical-align: top\">0.0</td>\n",
       "        <td style=\"padding-left: 1em; padding-right: 1em; text-align: center; vertical-align: top\">0</td>\n",
       "        <td style=\"padding-left: 1em; padding-right: 1em; text-align: center; vertical-align: top\">0</td>\n",
       "        <td style=\"padding-left: 1em; padding-right: 1em; text-align: center; vertical-align: top\">0.0</td>\n",
       "        <td style=\"padding-left: 1em; padding-right: 1em; text-align: center; vertical-align: top\">0</td>\n",
       "        <td style=\"padding-left: 1em; padding-right: 1em; text-align: center; vertical-align: top\">0</td>\n",
       "        <td style=\"padding-left: 1em; padding-right: 1em; text-align: center; vertical-align: top\">0</td>\n",
       "    </tr>\n",
       "    <tr>\n",
       "        <td style=\"padding-left: 1em; padding-right: 1em; text-align: center; vertical-align: top\">0.9999999998430963</td>\n",
       "        <td style=\"padding-left: 1em; padding-right: 1em; text-align: center; vertical-align: top\">0.0</td>\n",
       "        <td style=\"padding-left: 1em; padding-right: 1em; text-align: center; vertical-align: top\">0.0</td>\n",
       "        <td style=\"padding-left: 1em; padding-right: 1em; text-align: center; vertical-align: top\">0.0</td>\n",
       "        <td style=\"padding-left: 1em; padding-right: 1em; text-align: center; vertical-align: top\">0.0</td>\n",
       "        <td style=\"padding-left: 1em; padding-right: 1em; text-align: center; vertical-align: top\">1.0</td>\n",
       "        <td style=\"padding-left: 1em; padding-right: 1em; text-align: center; vertical-align: top\">0</td>\n",
       "        <td style=\"padding-left: 1em; padding-right: 1em; text-align: center; vertical-align: top\">0</td>\n",
       "        <td style=\"padding-left: 1em; padding-right: 1em; text-align: center; vertical-align: top\">0.0</td>\n",
       "        <td style=\"padding-left: 1em; padding-right: 1em; text-align: center; vertical-align: top\">0</td>\n",
       "        <td style=\"padding-left: 1em; padding-right: 1em; text-align: center; vertical-align: top\">0</td>\n",
       "        <td style=\"padding-left: 1em; padding-right: 1em; text-align: center; vertical-align: top\">0</td>\n",
       "    </tr>\n",
       "    <tr>\n",
       "        <td style=\"padding-left: 1em; padding-right: 1em; text-align: center; vertical-align: top\">0.9999999997360196</td>\n",
       "        <td style=\"padding-left: 1em; padding-right: 1em; text-align: center; vertical-align: top\">0.0</td>\n",
       "        <td style=\"padding-left: 1em; padding-right: 1em; text-align: center; vertical-align: top\">0.0</td>\n",
       "        <td style=\"padding-left: 1em; padding-right: 1em; text-align: center; vertical-align: top\">0.0</td>\n",
       "        <td style=\"padding-left: 1em; padding-right: 1em; text-align: center; vertical-align: top\">0.0</td>\n",
       "        <td style=\"padding-left: 1em; padding-right: 1em; text-align: center; vertical-align: top\">1.0</td>\n",
       "        <td style=\"padding-left: 1em; padding-right: 1em; text-align: center; vertical-align: top\">0</td>\n",
       "        <td style=\"padding-left: 1em; padding-right: 1em; text-align: center; vertical-align: top\">0</td>\n",
       "        <td style=\"padding-left: 1em; padding-right: 1em; text-align: center; vertical-align: top\">0.0</td>\n",
       "        <td style=\"padding-left: 1em; padding-right: 1em; text-align: center; vertical-align: top\">0</td>\n",
       "        <td style=\"padding-left: 1em; padding-right: 1em; text-align: center; vertical-align: top\">0</td>\n",
       "        <td style=\"padding-left: 1em; padding-right: 1em; text-align: center; vertical-align: top\">0</td>\n",
       "    </tr>\n",
       "    <tr>\n",
       "        <td style=\"padding-left: 1em; padding-right: 1em; text-align: center; vertical-align: top\">0.9999999995664315</td>\n",
       "        <td style=\"padding-left: 1em; padding-right: 1em; text-align: center; vertical-align: top\">0.0</td>\n",
       "        <td style=\"padding-left: 1em; padding-right: 1em; text-align: center; vertical-align: top\">0.0</td>\n",
       "        <td style=\"padding-left: 1em; padding-right: 1em; text-align: center; vertical-align: top\">0.0</td>\n",
       "        <td style=\"padding-left: 1em; padding-right: 1em; text-align: center; vertical-align: top\">0.0</td>\n",
       "        <td style=\"padding-left: 1em; padding-right: 1em; text-align: center; vertical-align: top\">1.0</td>\n",
       "        <td style=\"padding-left: 1em; padding-right: 1em; text-align: center; vertical-align: top\">0</td>\n",
       "        <td style=\"padding-left: 1em; padding-right: 1em; text-align: center; vertical-align: top\">0</td>\n",
       "        <td style=\"padding-left: 1em; padding-right: 1em; text-align: center; vertical-align: top\">0.0</td>\n",
       "        <td style=\"padding-left: 1em; padding-right: 1em; text-align: center; vertical-align: top\">0</td>\n",
       "        <td style=\"padding-left: 1em; padding-right: 1em; text-align: center; vertical-align: top\">0</td>\n",
       "        <td style=\"padding-left: 1em; padding-right: 1em; text-align: center; vertical-align: top\">0</td>\n",
       "    </tr>\n",
       "    <tr>\n",
       "        <td style=\"padding-left: 1em; padding-right: 1em; text-align: center; vertical-align: top\">0.9999999985015902</td>\n",
       "        <td style=\"padding-left: 1em; padding-right: 1em; text-align: center; vertical-align: top\">0.0</td>\n",
       "        <td style=\"padding-left: 1em; padding-right: 1em; text-align: center; vertical-align: top\">0.0</td>\n",
       "        <td style=\"padding-left: 1em; padding-right: 1em; text-align: center; vertical-align: top\">0.0</td>\n",
       "        <td style=\"padding-left: 1em; padding-right: 1em; text-align: center; vertical-align: top\">0.0</td>\n",
       "        <td style=\"padding-left: 1em; padding-right: 1em; text-align: center; vertical-align: top\">0.0</td>\n",
       "        <td style=\"padding-left: 1em; padding-right: 1em; text-align: center; vertical-align: top\">0</td>\n",
       "        <td style=\"padding-left: 1em; padding-right: 1em; text-align: center; vertical-align: top\">0</td>\n",
       "        <td style=\"padding-left: 1em; padding-right: 1em; text-align: center; vertical-align: top\">0.0</td>\n",
       "        <td style=\"padding-left: 1em; padding-right: 1em; text-align: center; vertical-align: top\">0</td>\n",
       "        <td style=\"padding-left: 1em; padding-right: 1em; text-align: center; vertical-align: top\">0</td>\n",
       "        <td style=\"padding-left: 1em; padding-right: 1em; text-align: center; vertical-align: top\">0</td>\n",
       "    </tr>\n",
       "    <tr>\n",
       "        <td style=\"padding-left: 1em; padding-right: 1em; text-align: center; vertical-align: top\">0.999999998056851</td>\n",
       "        <td style=\"padding-left: 1em; padding-right: 1em; text-align: center; vertical-align: top\">0.0</td>\n",
       "        <td style=\"padding-left: 1em; padding-right: 1em; text-align: center; vertical-align: top\">0.0</td>\n",
       "        <td style=\"padding-left: 1em; padding-right: 1em; text-align: center; vertical-align: top\">0.0</td>\n",
       "        <td style=\"padding-left: 1em; padding-right: 1em; text-align: center; vertical-align: top\">0.0</td>\n",
       "        <td style=\"padding-left: 1em; padding-right: 1em; text-align: center; vertical-align: top\">2.0</td>\n",
       "        <td style=\"padding-left: 1em; padding-right: 1em; text-align: center; vertical-align: top\">0</td>\n",
       "        <td style=\"padding-left: 1em; padding-right: 1em; text-align: center; vertical-align: top\">0</td>\n",
       "        <td style=\"padding-left: 1em; padding-right: 1em; text-align: center; vertical-align: top\">0.0</td>\n",
       "        <td style=\"padding-left: 1em; padding-right: 1em; text-align: center; vertical-align: top\">0</td>\n",
       "        <td style=\"padding-left: 1em; padding-right: 1em; text-align: center; vertical-align: top\">0</td>\n",
       "        <td style=\"padding-left: 1em; padding-right: 1em; text-align: center; vertical-align: top\">0</td>\n",
       "    </tr>\n",
       "</table>\n",
       "[298 rows x 17 columns]<br/>Note: Only the head of the SFrame is printed.<br/>You can use print_rows(num_rows=m, num_columns=n) to print more rows and columns.\n",
       "</div>"
      ],
      "text/plain": [
       "Columns:\n",
       "\tname\tstr\n",
       "\treview\tstr\n",
       "\trating\tfloat\n",
       "\tword_count\tdict\n",
       "\tsentiment\tint\n",
       "\tpredicted_sentiment\tfloat\n",
       "\tawesome\tfloat\n",
       "\tgreat\tfloat\n",
       "\tfantastic\tfloat\n",
       "\tamazing\tfloat\n",
       "\tlove\tfloat\n",
       "\thorrible\tint\n",
       "\tbad\tint\n",
       "\tterrible\tfloat\n",
       "\tawful\tint\n",
       "\twow\tint\n",
       "\thate\tint\n",
       "\n",
       "Rows: 298\n",
       "\n",
       "Data:\n",
       "+-------------------------+-------------------------------+--------+\n",
       "|           name          |             review            | rating |\n",
       "+-------------------------+-------------------------------+--------+\n",
       "| Baby Trend Diaper Champ | I read a review below that... |  4.0   |\n",
       "| Baby Trend Diaper Champ | I have never written a rev... |  5.0   |\n",
       "| Baby Trend Diaper Champ | I originally put this item... |  5.0   |\n",
       "| Baby Trend Diaper Champ | Baby Luke can turn a clean... |  5.0   |\n",
       "| Baby Trend Diaper Champ | Diaper Champ or Diaper Gen... |  5.0   |\n",
       "| Baby Trend Diaper Champ | I am one of those super-cr... |  5.0   |\n",
       "| Baby Trend Diaper Champ | I LOOOVE this diaper pail!... |  5.0   |\n",
       "| Baby Trend Diaper Champ | As a first time mother, I ... |  5.0   |\n",
       "| Baby Trend Diaper Champ | I see that there are compl... |  5.0   |\n",
       "| Baby Trend Diaper Champ | I have a 10 year old daugh... |  5.0   |\n",
       "+-------------------------+-------------------------------+--------+\n",
       "+-------------------------------+-----------+---------------------+---------+\n",
       "|           word_count          | sentiment | predicted_sentiment | awesome |\n",
       "+-------------------------------+-----------+---------------------+---------+\n",
       "| {'key': 1.0, 'have': 1.0, ... |     1     |  0.9999999999895941 |   0.0   |\n",
       "| {'priceless': 1.0, 'knows'... |     1     |  0.9999999999868131 |   0.0   |\n",
       "| {'price': 1.0, 'suggestion... |     1     |  0.9999999999465673 |   0.0   |\n",
       "| {'around': 1.0, 'any': 1.0... |     1     |  0.9999999999302822 |   0.0   |\n",
       "| {'either': 1.0, 'be': 1.0,... |     1     |  0.9999999999174133 |   0.0   |\n",
       "| {'hope': 1.0, 'make': 1.0,... |     1     |  0.9999999998430963 |   0.0   |\n",
       "| {'buy': 1.0, 'product': 1.... |     1     |  0.9999999997360196 |   0.0   |\n",
       "| {'ll': 1.0, 'baby': 1.0, '... |     1     |  0.9999999995664315 |   0.0   |\n",
       "| {'very': 1.0, 'told': 1.0,... |     1     |  0.9999999985015902 |   0.0   |\n",
       "| {'sorry': 1.0, 'be': 1.0, ... |     1     |  0.999999998056851  |   0.0   |\n",
       "+-------------------------------+-----------+---------------------+---------+\n",
       "+-------+-----------+---------+------+----------+-----+----------+-------+-----+\n",
       "| great | fantastic | amazing | love | horrible | bad | terrible | awful | wow |\n",
       "+-------+-----------+---------+------+----------+-----+----------+-------+-----+\n",
       "|  0.0  |    0.0    |   0.0   | 0.0  |    0     |  0  |   0.0    |   0   |  0  |\n",
       "|  0.0  |    0.0    |   0.0   | 1.0  |    0     |  0  |   0.0    |   0   |  0  |\n",
       "|  0.0  |    0.0    |   0.0   | 0.0  |    0     |  0  |   0.0    |   0   |  0  |\n",
       "|  1.0  |    0.0    |   0.0   | 0.0  |    0     |  0  |   0.0    |   0   |  0  |\n",
       "|  1.0  |    0.0    |   0.0   | 0.0  |    0     |  0  |   0.0    |   0   |  0  |\n",
       "|  0.0  |    0.0    |   0.0   | 1.0  |    0     |  0  |   0.0    |   0   |  0  |\n",
       "|  0.0  |    0.0    |   0.0   | 1.0  |    0     |  0  |   0.0    |   0   |  0  |\n",
       "|  0.0  |    0.0    |   0.0   | 1.0  |    0     |  0  |   0.0    |   0   |  0  |\n",
       "|  0.0  |    0.0    |   0.0   | 0.0  |    0     |  0  |   0.0    |   0   |  0  |\n",
       "|  0.0  |    0.0    |   0.0   | 2.0  |    0     |  0  |   0.0    |   0   |  0  |\n",
       "+-------+-----------+---------+------+----------+-----+----------+-------+-----+\n",
       "+------+\n",
       "| hate |\n",
       "+------+\n",
       "|  0   |\n",
       "|  0   |\n",
       "|  0   |\n",
       "|  0   |\n",
       "|  0   |\n",
       "|  0   |\n",
       "|  0   |\n",
       "|  0   |\n",
       "|  0   |\n",
       "|  0   |\n",
       "+------+\n",
       "[298 rows x 17 columns]\n",
       "Note: Only the head of the SFrame is printed.\n",
       "You can use print_rows(num_rows=m, num_columns=n) to print more rows and columns."
      ]
     },
     "execution_count": 230,
     "metadata": {},
     "output_type": "execute_result"
    }
   ],
   "source": [
    "diaper_champ_reviews"
   ]
  },
  {
   "cell_type": "code",
   "execution_count": 251,
   "metadata": {},
   "outputs": [
    {
     "data": {
      "text/plain": [
       "{'name': 'Baby Trend Diaper Champ',\n",
       " 'review': \"I read a review below that can explain exactly what we experienced. We've had it for 16 months and it has worked wonderful for us. No smells, change it out once a week, easy to clean. Then a diaper snagged this foam material in the head part, so I pulled the rest of the foam out. Big mistake!!! Now it can no loner retain the stinkiness and we're looking for a replacement. Be careful of overloading and never take out that foam piece that is cushioned between pieces. I have figured out that it is key to keeping the stink out.\",\n",
       " 'rating': 4.0,\n",
       " 'word_count': {'key': 1.0,\n",
       "  'have': 1.0,\n",
       "  'pieces': 1.0,\n",
       "  'between': 1.0,\n",
       "  'cushioned': 1.0,\n",
       "  'piece': 1.0,\n",
       "  'take': 1.0,\n",
       "  'overloading': 1.0,\n",
       "  'be': 1.0,\n",
       "  'looking': 1.0,\n",
       "  're': 1.0,\n",
       "  'stinkiness': 1.0,\n",
       "  'retain': 1.0,\n",
       "  'now': 1.0,\n",
       "  'wonderful': 1.0,\n",
       "  'worked': 1.0,\n",
       "  '16': 1.0,\n",
       "  'and': 3.0,\n",
       "  'months': 1.0,\n",
       "  've': 1.0,\n",
       "  'in': 1.0,\n",
       "  'i': 3.0,\n",
       "  'experienced': 1.0,\n",
       "  'read': 1.0,\n",
       "  'easy': 1.0,\n",
       "  'for': 3.0,\n",
       "  'to': 2.0,\n",
       "  'has': 1.0,\n",
       "  'review': 1.0,\n",
       "  'keeping': 1.0,\n",
       "  'replacement': 1.0,\n",
       "  'out': 5.0,\n",
       "  'loner': 1.0,\n",
       "  'clean': 1.0,\n",
       "  'we': 3.0,\n",
       "  'a': 4.0,\n",
       "  'mistake': 1.0,\n",
       "  'big': 1.0,\n",
       "  'pulled': 1.0,\n",
       "  'it': 5.0,\n",
       "  'this': 1.0,\n",
       "  'is': 2.0,\n",
       "  'explain': 1.0,\n",
       "  'material': 1.0,\n",
       "  'exactly': 1.0,\n",
       "  'that': 4.0,\n",
       "  'had': 1.0,\n",
       "  'what': 1.0,\n",
       "  'part': 1.0,\n",
       "  'us': 1.0,\n",
       "  'no': 2.0,\n",
       "  'smells': 1.0,\n",
       "  'can': 2.0,\n",
       "  'change': 1.0,\n",
       "  'figured': 1.0,\n",
       "  'week': 1.0,\n",
       "  'then': 1.0,\n",
       "  'snagged': 1.0,\n",
       "  'diaper': 1.0,\n",
       "  'careful': 1.0,\n",
       "  'the': 5.0,\n",
       "  'never': 1.0,\n",
       "  'foam': 3.0,\n",
       "  'head': 1.0,\n",
       "  'so': 1.0,\n",
       "  'below': 1.0,\n",
       "  'rest': 1.0,\n",
       "  'stink': 1.0,\n",
       "  'once': 1.0,\n",
       "  'of': 2.0},\n",
       " 'sentiment': 1,\n",
       " 'predicted_sentiment': 0.9999999999895941,\n",
       " 'awesome': 0.0,\n",
       " 'great': 0.0,\n",
       " 'fantastic': 0.0,\n",
       " 'amazing': 0.0,\n",
       " 'love': 0.0,\n",
       " 'horrible': 0,\n",
       " 'bad': 0,\n",
       " 'terrible': 0.0,\n",
       " 'awful': 0,\n",
       " 'wow': 0,\n",
       " 'hate': 0}"
      ]
     },
     "execution_count": 251,
     "metadata": {},
     "output_type": "execute_result"
    }
   ],
   "source": [
    "diaper_champ_reviews[0]"
   ]
  },
  {
   "cell_type": "code",
   "execution_count": 250,
   "metadata": {
    "collapsed": true
   },
   "outputs": [
    {
     "data": {
      "text/plain": [
       "dtype: float\n",
       "Rows: 1\n",
       "[0.8052829774352794]"
      ]
     },
     "execution_count": 250,
     "metadata": {},
     "output_type": "execute_result"
    }
   ],
   "source": [
    "selected_words_model.predict(diaper_champ_reviews[0:1])\n"
   ]
  },
  {
   "cell_type": "code",
   "execution_count": 248,
   "metadata": {
    "collapsed": true
   },
   "outputs": [
    {
     "data": {
      "text/html": [
       "<div style=\"max-height:1000px;max-width:1500px;overflow:auto;\"><table frame=\"box\" rules=\"cols\">\n",
       "    <tr>\n",
       "        <th style=\"padding-left: 1em; padding-right: 1em; text-align: center\">name</th>\n",
       "        <th style=\"padding-left: 1em; padding-right: 1em; text-align: center\">review</th>\n",
       "        <th style=\"padding-left: 1em; padding-right: 1em; text-align: center\">rating</th>\n",
       "        <th style=\"padding-left: 1em; padding-right: 1em; text-align: center\">word_count</th>\n",
       "        <th style=\"padding-left: 1em; padding-right: 1em; text-align: center\">sentiment</th>\n",
       "    </tr>\n",
       "    <tr>\n",
       "        <td style=\"padding-left: 1em; padding-right: 1em; text-align: center; vertical-align: top\">Baby Trend Diaper Champ</td>\n",
       "        <td style=\"padding-left: 1em; padding-right: 1em; text-align: center; vertical-align: top\">I read a review below<br>that can explain exactly ...</td>\n",
       "        <td style=\"padding-left: 1em; padding-right: 1em; text-align: center; vertical-align: top\">4.0</td>\n",
       "        <td style=\"padding-left: 1em; padding-right: 1em; text-align: center; vertical-align: top\">{&#x27;key&#x27;: 1.0, &#x27;have&#x27;: 1.0,<br>&#x27;pieces&#x27;: 1.0, &#x27;betwe ...</td>\n",
       "        <td style=\"padding-left: 1em; padding-right: 1em; text-align: center; vertical-align: top\">1</td>\n",
       "    </tr>\n",
       "    <tr>\n",
       "        <td style=\"padding-left: 1em; padding-right: 1em; text-align: center; vertical-align: top\">Baby Trend Diaper Champ</td>\n",
       "        <td style=\"padding-left: 1em; padding-right: 1em; text-align: center; vertical-align: top\">I have never written a<br>review for Amazon but I ...</td>\n",
       "        <td style=\"padding-left: 1em; padding-right: 1em; text-align: center; vertical-align: top\">5.0</td>\n",
       "        <td style=\"padding-left: 1em; padding-right: 1em; text-align: center; vertical-align: top\">{&#x27;priceless&#x27;: 1.0,<br>&#x27;knows&#x27;: 1.0, &#x27;parent&#x27;: ...</td>\n",
       "        <td style=\"padding-left: 1em; padding-right: 1em; text-align: center; vertical-align: top\">1</td>\n",
       "    </tr>\n",
       "    <tr>\n",
       "        <td style=\"padding-left: 1em; padding-right: 1em; text-align: center; vertical-align: top\">Baby Trend Diaper Champ</td>\n",
       "        <td style=\"padding-left: 1em; padding-right: 1em; text-align: center; vertical-align: top\">I originally put this<br>item on my baby registry ...</td>\n",
       "        <td style=\"padding-left: 1em; padding-right: 1em; text-align: center; vertical-align: top\">5.0</td>\n",
       "        <td style=\"padding-left: 1em; padding-right: 1em; text-align: center; vertical-align: top\">{&#x27;price&#x27;: 1.0,<br>&#x27;suggestions&#x27;: 1.0, ...</td>\n",
       "        <td style=\"padding-left: 1em; padding-right: 1em; text-align: center; vertical-align: top\">1</td>\n",
       "    </tr>\n",
       "    <tr>\n",
       "        <td style=\"padding-left: 1em; padding-right: 1em; text-align: center; vertical-align: top\">Baby Trend Diaper Champ</td>\n",
       "        <td style=\"padding-left: 1em; padding-right: 1em; text-align: center; vertical-align: top\">Baby Luke can turn a<br>clean diaper to a dirty ...</td>\n",
       "        <td style=\"padding-left: 1em; padding-right: 1em; text-align: center; vertical-align: top\">5.0</td>\n",
       "        <td style=\"padding-left: 1em; padding-right: 1em; text-align: center; vertical-align: top\">{&#x27;around&#x27;: 1.0, &#x27;any&#x27;:<br>1.0, &#x27;t&#x27;: 1.0, &#x27;isn&#x27;: ...</td>\n",
       "        <td style=\"padding-left: 1em; padding-right: 1em; text-align: center; vertical-align: top\">1</td>\n",
       "    </tr>\n",
       "    <tr>\n",
       "        <td style=\"padding-left: 1em; padding-right: 1em; text-align: center; vertical-align: top\">Baby Trend Diaper Champ</td>\n",
       "        <td style=\"padding-left: 1em; padding-right: 1em; text-align: center; vertical-align: top\">Diaper Champ or Diaper<br>Genie? That was my ...</td>\n",
       "        <td style=\"padding-left: 1em; padding-right: 1em; text-align: center; vertical-align: top\">5.0</td>\n",
       "        <td style=\"padding-left: 1em; padding-right: 1em; text-align: center; vertical-align: top\">{&#x27;either&#x27;: 1.0, &#x27;be&#x27;:<br>1.0, &#x27;t&#x27;: 1.0, &#x27;not&#x27;: ...</td>\n",
       "        <td style=\"padding-left: 1em; padding-right: 1em; text-align: center; vertical-align: top\">1</td>\n",
       "    </tr>\n",
       "    <tr>\n",
       "        <td style=\"padding-left: 1em; padding-right: 1em; text-align: center; vertical-align: top\">Baby Trend Diaper Champ</td>\n",
       "        <td style=\"padding-left: 1em; padding-right: 1em; text-align: center; vertical-align: top\">I am one of those super-<br>critical shoppers who ...</td>\n",
       "        <td style=\"padding-left: 1em; padding-right: 1em; text-align: center; vertical-align: top\">5.0</td>\n",
       "        <td style=\"padding-left: 1em; padding-right: 1em; text-align: center; vertical-align: top\">{&#x27;hope&#x27;: 1.0, &#x27;make&#x27;:<br>1.0, &#x27;slower&#x27;: 1.0, ...</td>\n",
       "        <td style=\"padding-left: 1em; padding-right: 1em; text-align: center; vertical-align: top\">1</td>\n",
       "    </tr>\n",
       "    <tr>\n",
       "        <td style=\"padding-left: 1em; padding-right: 1em; text-align: center; vertical-align: top\">Baby Trend Diaper Champ</td>\n",
       "        <td style=\"padding-left: 1em; padding-right: 1em; text-align: center; vertical-align: top\">I LOOOVE this diaper<br>pail!  Its the easies ...</td>\n",
       "        <td style=\"padding-left: 1em; padding-right: 1em; text-align: center; vertical-align: top\">5.0</td>\n",
       "        <td style=\"padding-left: 1em; padding-right: 1em; text-align: center; vertical-align: top\">{&#x27;buy&#x27;: 1.0, &#x27;product&#x27;:<br>1.0, &#x27;recommend&#x27;: 1.0, ...</td>\n",
       "        <td style=\"padding-left: 1em; padding-right: 1em; text-align: center; vertical-align: top\">1</td>\n",
       "    </tr>\n",
       "    <tr>\n",
       "        <td style=\"padding-left: 1em; padding-right: 1em; text-align: center; vertical-align: top\">Baby Trend Diaper Champ</td>\n",
       "        <td style=\"padding-left: 1em; padding-right: 1em; text-align: center; vertical-align: top\">As a first time mother, I<br>wanted to get the best ...</td>\n",
       "        <td style=\"padding-left: 1em; padding-right: 1em; text-align: center; vertical-align: top\">5.0</td>\n",
       "        <td style=\"padding-left: 1em; padding-right: 1em; text-align: center; vertical-align: top\">{&#x27;ll&#x27;: 1.0, &#x27;baby&#x27;: 1.0,<br>&#x27;recommended&#x27;: 1.0, &#x27; ...</td>\n",
       "        <td style=\"padding-left: 1em; padding-right: 1em; text-align: center; vertical-align: top\">1</td>\n",
       "    </tr>\n",
       "    <tr>\n",
       "        <td style=\"padding-left: 1em; padding-right: 1em; text-align: center; vertical-align: top\">Baby Trend Diaper Champ</td>\n",
       "        <td style=\"padding-left: 1em; padding-right: 1em; text-align: center; vertical-align: top\">I see that there are<br>complaints of stinkiness ...</td>\n",
       "        <td style=\"padding-left: 1em; padding-right: 1em; text-align: center; vertical-align: top\">5.0</td>\n",
       "        <td style=\"padding-left: 1em; padding-right: 1em; text-align: center; vertical-align: top\">{&#x27;very&#x27;: 1.0, &#x27;told&#x27;:<br>1.0, &#x27;all&#x27;: 1.0, ...</td>\n",
       "        <td style=\"padding-left: 1em; padding-right: 1em; text-align: center; vertical-align: top\">1</td>\n",
       "    </tr>\n",
       "    <tr>\n",
       "        <td style=\"padding-left: 1em; padding-right: 1em; text-align: center; vertical-align: top\">Baby Trend Diaper Champ</td>\n",
       "        <td style=\"padding-left: 1em; padding-right: 1em; text-align: center; vertical-align: top\">I have a 10 year old<br>daughter and an 8 month ...</td>\n",
       "        <td style=\"padding-left: 1em; padding-right: 1em; text-align: center; vertical-align: top\">5.0</td>\n",
       "        <td style=\"padding-left: 1em; padding-right: 1em; text-align: center; vertical-align: top\">{&#x27;sorry&#x27;: 1.0, &#x27;be&#x27;: 1.0,<br>&#x27;you&#x27;: 2.0, &#x27;sell&#x27;: 1.0, ...</td>\n",
       "        <td style=\"padding-left: 1em; padding-right: 1em; text-align: center; vertical-align: top\">1</td>\n",
       "    </tr>\n",
       "</table>\n",
       "<table frame=\"box\" rules=\"cols\">\n",
       "    <tr>\n",
       "        <th style=\"padding-left: 1em; padding-right: 1em; text-align: center\">predicted_sentiment</th>\n",
       "        <th style=\"padding-left: 1em; padding-right: 1em; text-align: center\">awesome</th>\n",
       "        <th style=\"padding-left: 1em; padding-right: 1em; text-align: center\">great</th>\n",
       "        <th style=\"padding-left: 1em; padding-right: 1em; text-align: center\">fantastic</th>\n",
       "        <th style=\"padding-left: 1em; padding-right: 1em; text-align: center\">amazing</th>\n",
       "        <th style=\"padding-left: 1em; padding-right: 1em; text-align: center\">love</th>\n",
       "        <th style=\"padding-left: 1em; padding-right: 1em; text-align: center\">horrible</th>\n",
       "        <th style=\"padding-left: 1em; padding-right: 1em; text-align: center\">bad</th>\n",
       "        <th style=\"padding-left: 1em; padding-right: 1em; text-align: center\">terrible</th>\n",
       "        <th style=\"padding-left: 1em; padding-right: 1em; text-align: center\">awful</th>\n",
       "        <th style=\"padding-left: 1em; padding-right: 1em; text-align: center\">wow</th>\n",
       "        <th style=\"padding-left: 1em; padding-right: 1em; text-align: center\">hate</th>\n",
       "    </tr>\n",
       "    <tr>\n",
       "        <td style=\"padding-left: 1em; padding-right: 1em; text-align: center; vertical-align: top\">0.9999999999895941</td>\n",
       "        <td style=\"padding-left: 1em; padding-right: 1em; text-align: center; vertical-align: top\">0.0</td>\n",
       "        <td style=\"padding-left: 1em; padding-right: 1em; text-align: center; vertical-align: top\">0.0</td>\n",
       "        <td style=\"padding-left: 1em; padding-right: 1em; text-align: center; vertical-align: top\">0.0</td>\n",
       "        <td style=\"padding-left: 1em; padding-right: 1em; text-align: center; vertical-align: top\">0.0</td>\n",
       "        <td style=\"padding-left: 1em; padding-right: 1em; text-align: center; vertical-align: top\">0.0</td>\n",
       "        <td style=\"padding-left: 1em; padding-right: 1em; text-align: center; vertical-align: top\">0</td>\n",
       "        <td style=\"padding-left: 1em; padding-right: 1em; text-align: center; vertical-align: top\">0</td>\n",
       "        <td style=\"padding-left: 1em; padding-right: 1em; text-align: center; vertical-align: top\">0.0</td>\n",
       "        <td style=\"padding-left: 1em; padding-right: 1em; text-align: center; vertical-align: top\">0</td>\n",
       "        <td style=\"padding-left: 1em; padding-right: 1em; text-align: center; vertical-align: top\">0</td>\n",
       "        <td style=\"padding-left: 1em; padding-right: 1em; text-align: center; vertical-align: top\">0</td>\n",
       "    </tr>\n",
       "    <tr>\n",
       "        <td style=\"padding-left: 1em; padding-right: 1em; text-align: center; vertical-align: top\">0.9999999999868131</td>\n",
       "        <td style=\"padding-left: 1em; padding-right: 1em; text-align: center; vertical-align: top\">0.0</td>\n",
       "        <td style=\"padding-left: 1em; padding-right: 1em; text-align: center; vertical-align: top\">0.0</td>\n",
       "        <td style=\"padding-left: 1em; padding-right: 1em; text-align: center; vertical-align: top\">0.0</td>\n",
       "        <td style=\"padding-left: 1em; padding-right: 1em; text-align: center; vertical-align: top\">0.0</td>\n",
       "        <td style=\"padding-left: 1em; padding-right: 1em; text-align: center; vertical-align: top\">1.0</td>\n",
       "        <td style=\"padding-left: 1em; padding-right: 1em; text-align: center; vertical-align: top\">0</td>\n",
       "        <td style=\"padding-left: 1em; padding-right: 1em; text-align: center; vertical-align: top\">0</td>\n",
       "        <td style=\"padding-left: 1em; padding-right: 1em; text-align: center; vertical-align: top\">0.0</td>\n",
       "        <td style=\"padding-left: 1em; padding-right: 1em; text-align: center; vertical-align: top\">0</td>\n",
       "        <td style=\"padding-left: 1em; padding-right: 1em; text-align: center; vertical-align: top\">0</td>\n",
       "        <td style=\"padding-left: 1em; padding-right: 1em; text-align: center; vertical-align: top\">0</td>\n",
       "    </tr>\n",
       "    <tr>\n",
       "        <td style=\"padding-left: 1em; padding-right: 1em; text-align: center; vertical-align: top\">0.9999999999465673</td>\n",
       "        <td style=\"padding-left: 1em; padding-right: 1em; text-align: center; vertical-align: top\">0.0</td>\n",
       "        <td style=\"padding-left: 1em; padding-right: 1em; text-align: center; vertical-align: top\">0.0</td>\n",
       "        <td style=\"padding-left: 1em; padding-right: 1em; text-align: center; vertical-align: top\">0.0</td>\n",
       "        <td style=\"padding-left: 1em; padding-right: 1em; text-align: center; vertical-align: top\">0.0</td>\n",
       "        <td style=\"padding-left: 1em; padding-right: 1em; text-align: center; vertical-align: top\">0.0</td>\n",
       "        <td style=\"padding-left: 1em; padding-right: 1em; text-align: center; vertical-align: top\">0</td>\n",
       "        <td style=\"padding-left: 1em; padding-right: 1em; text-align: center; vertical-align: top\">0</td>\n",
       "        <td style=\"padding-left: 1em; padding-right: 1em; text-align: center; vertical-align: top\">0.0</td>\n",
       "        <td style=\"padding-left: 1em; padding-right: 1em; text-align: center; vertical-align: top\">0</td>\n",
       "        <td style=\"padding-left: 1em; padding-right: 1em; text-align: center; vertical-align: top\">0</td>\n",
       "        <td style=\"padding-left: 1em; padding-right: 1em; text-align: center; vertical-align: top\">0</td>\n",
       "    </tr>\n",
       "    <tr>\n",
       "        <td style=\"padding-left: 1em; padding-right: 1em; text-align: center; vertical-align: top\">0.9999999999302822</td>\n",
       "        <td style=\"padding-left: 1em; padding-right: 1em; text-align: center; vertical-align: top\">0.0</td>\n",
       "        <td style=\"padding-left: 1em; padding-right: 1em; text-align: center; vertical-align: top\">1.0</td>\n",
       "        <td style=\"padding-left: 1em; padding-right: 1em; text-align: center; vertical-align: top\">0.0</td>\n",
       "        <td style=\"padding-left: 1em; padding-right: 1em; text-align: center; vertical-align: top\">0.0</td>\n",
       "        <td style=\"padding-left: 1em; padding-right: 1em; text-align: center; vertical-align: top\">0.0</td>\n",
       "        <td style=\"padding-left: 1em; padding-right: 1em; text-align: center; vertical-align: top\">0</td>\n",
       "        <td style=\"padding-left: 1em; padding-right: 1em; text-align: center; vertical-align: top\">0</td>\n",
       "        <td style=\"padding-left: 1em; padding-right: 1em; text-align: center; vertical-align: top\">0.0</td>\n",
       "        <td style=\"padding-left: 1em; padding-right: 1em; text-align: center; vertical-align: top\">0</td>\n",
       "        <td style=\"padding-left: 1em; padding-right: 1em; text-align: center; vertical-align: top\">0</td>\n",
       "        <td style=\"padding-left: 1em; padding-right: 1em; text-align: center; vertical-align: top\">0</td>\n",
       "    </tr>\n",
       "    <tr>\n",
       "        <td style=\"padding-left: 1em; padding-right: 1em; text-align: center; vertical-align: top\">0.9999999999174133</td>\n",
       "        <td style=\"padding-left: 1em; padding-right: 1em; text-align: center; vertical-align: top\">0.0</td>\n",
       "        <td style=\"padding-left: 1em; padding-right: 1em; text-align: center; vertical-align: top\">1.0</td>\n",
       "        <td style=\"padding-left: 1em; padding-right: 1em; text-align: center; vertical-align: top\">0.0</td>\n",
       "        <td style=\"padding-left: 1em; padding-right: 1em; text-align: center; vertical-align: top\">0.0</td>\n",
       "        <td style=\"padding-left: 1em; padding-right: 1em; text-align: center; vertical-align: top\">0.0</td>\n",
       "        <td style=\"padding-left: 1em; padding-right: 1em; text-align: center; vertical-align: top\">0</td>\n",
       "        <td style=\"padding-left: 1em; padding-right: 1em; text-align: center; vertical-align: top\">0</td>\n",
       "        <td style=\"padding-left: 1em; padding-right: 1em; text-align: center; vertical-align: top\">0.0</td>\n",
       "        <td style=\"padding-left: 1em; padding-right: 1em; text-align: center; vertical-align: top\">0</td>\n",
       "        <td style=\"padding-left: 1em; padding-right: 1em; text-align: center; vertical-align: top\">0</td>\n",
       "        <td style=\"padding-left: 1em; padding-right: 1em; text-align: center; vertical-align: top\">0</td>\n",
       "    </tr>\n",
       "    <tr>\n",
       "        <td style=\"padding-left: 1em; padding-right: 1em; text-align: center; vertical-align: top\">0.9999999998430963</td>\n",
       "        <td style=\"padding-left: 1em; padding-right: 1em; text-align: center; vertical-align: top\">0.0</td>\n",
       "        <td style=\"padding-left: 1em; padding-right: 1em; text-align: center; vertical-align: top\">0.0</td>\n",
       "        <td style=\"padding-left: 1em; padding-right: 1em; text-align: center; vertical-align: top\">0.0</td>\n",
       "        <td style=\"padding-left: 1em; padding-right: 1em; text-align: center; vertical-align: top\">0.0</td>\n",
       "        <td style=\"padding-left: 1em; padding-right: 1em; text-align: center; vertical-align: top\">1.0</td>\n",
       "        <td style=\"padding-left: 1em; padding-right: 1em; text-align: center; vertical-align: top\">0</td>\n",
       "        <td style=\"padding-left: 1em; padding-right: 1em; text-align: center; vertical-align: top\">0</td>\n",
       "        <td style=\"padding-left: 1em; padding-right: 1em; text-align: center; vertical-align: top\">0.0</td>\n",
       "        <td style=\"padding-left: 1em; padding-right: 1em; text-align: center; vertical-align: top\">0</td>\n",
       "        <td style=\"padding-left: 1em; padding-right: 1em; text-align: center; vertical-align: top\">0</td>\n",
       "        <td style=\"padding-left: 1em; padding-right: 1em; text-align: center; vertical-align: top\">0</td>\n",
       "    </tr>\n",
       "    <tr>\n",
       "        <td style=\"padding-left: 1em; padding-right: 1em; text-align: center; vertical-align: top\">0.9999999997360196</td>\n",
       "        <td style=\"padding-left: 1em; padding-right: 1em; text-align: center; vertical-align: top\">0.0</td>\n",
       "        <td style=\"padding-left: 1em; padding-right: 1em; text-align: center; vertical-align: top\">0.0</td>\n",
       "        <td style=\"padding-left: 1em; padding-right: 1em; text-align: center; vertical-align: top\">0.0</td>\n",
       "        <td style=\"padding-left: 1em; padding-right: 1em; text-align: center; vertical-align: top\">0.0</td>\n",
       "        <td style=\"padding-left: 1em; padding-right: 1em; text-align: center; vertical-align: top\">1.0</td>\n",
       "        <td style=\"padding-left: 1em; padding-right: 1em; text-align: center; vertical-align: top\">0</td>\n",
       "        <td style=\"padding-left: 1em; padding-right: 1em; text-align: center; vertical-align: top\">0</td>\n",
       "        <td style=\"padding-left: 1em; padding-right: 1em; text-align: center; vertical-align: top\">0.0</td>\n",
       "        <td style=\"padding-left: 1em; padding-right: 1em; text-align: center; vertical-align: top\">0</td>\n",
       "        <td style=\"padding-left: 1em; padding-right: 1em; text-align: center; vertical-align: top\">0</td>\n",
       "        <td style=\"padding-left: 1em; padding-right: 1em; text-align: center; vertical-align: top\">0</td>\n",
       "    </tr>\n",
       "    <tr>\n",
       "        <td style=\"padding-left: 1em; padding-right: 1em; text-align: center; vertical-align: top\">0.9999999995664315</td>\n",
       "        <td style=\"padding-left: 1em; padding-right: 1em; text-align: center; vertical-align: top\">0.0</td>\n",
       "        <td style=\"padding-left: 1em; padding-right: 1em; text-align: center; vertical-align: top\">0.0</td>\n",
       "        <td style=\"padding-left: 1em; padding-right: 1em; text-align: center; vertical-align: top\">0.0</td>\n",
       "        <td style=\"padding-left: 1em; padding-right: 1em; text-align: center; vertical-align: top\">0.0</td>\n",
       "        <td style=\"padding-left: 1em; padding-right: 1em; text-align: center; vertical-align: top\">1.0</td>\n",
       "        <td style=\"padding-left: 1em; padding-right: 1em; text-align: center; vertical-align: top\">0</td>\n",
       "        <td style=\"padding-left: 1em; padding-right: 1em; text-align: center; vertical-align: top\">0</td>\n",
       "        <td style=\"padding-left: 1em; padding-right: 1em; text-align: center; vertical-align: top\">0.0</td>\n",
       "        <td style=\"padding-left: 1em; padding-right: 1em; text-align: center; vertical-align: top\">0</td>\n",
       "        <td style=\"padding-left: 1em; padding-right: 1em; text-align: center; vertical-align: top\">0</td>\n",
       "        <td style=\"padding-left: 1em; padding-right: 1em; text-align: center; vertical-align: top\">0</td>\n",
       "    </tr>\n",
       "    <tr>\n",
       "        <td style=\"padding-left: 1em; padding-right: 1em; text-align: center; vertical-align: top\">0.9999999985015902</td>\n",
       "        <td style=\"padding-left: 1em; padding-right: 1em; text-align: center; vertical-align: top\">0.0</td>\n",
       "        <td style=\"padding-left: 1em; padding-right: 1em; text-align: center; vertical-align: top\">0.0</td>\n",
       "        <td style=\"padding-left: 1em; padding-right: 1em; text-align: center; vertical-align: top\">0.0</td>\n",
       "        <td style=\"padding-left: 1em; padding-right: 1em; text-align: center; vertical-align: top\">0.0</td>\n",
       "        <td style=\"padding-left: 1em; padding-right: 1em; text-align: center; vertical-align: top\">0.0</td>\n",
       "        <td style=\"padding-left: 1em; padding-right: 1em; text-align: center; vertical-align: top\">0</td>\n",
       "        <td style=\"padding-left: 1em; padding-right: 1em; text-align: center; vertical-align: top\">0</td>\n",
       "        <td style=\"padding-left: 1em; padding-right: 1em; text-align: center; vertical-align: top\">0.0</td>\n",
       "        <td style=\"padding-left: 1em; padding-right: 1em; text-align: center; vertical-align: top\">0</td>\n",
       "        <td style=\"padding-left: 1em; padding-right: 1em; text-align: center; vertical-align: top\">0</td>\n",
       "        <td style=\"padding-left: 1em; padding-right: 1em; text-align: center; vertical-align: top\">0</td>\n",
       "    </tr>\n",
       "    <tr>\n",
       "        <td style=\"padding-left: 1em; padding-right: 1em; text-align: center; vertical-align: top\">0.999999998056851</td>\n",
       "        <td style=\"padding-left: 1em; padding-right: 1em; text-align: center; vertical-align: top\">0.0</td>\n",
       "        <td style=\"padding-left: 1em; padding-right: 1em; text-align: center; vertical-align: top\">0.0</td>\n",
       "        <td style=\"padding-left: 1em; padding-right: 1em; text-align: center; vertical-align: top\">0.0</td>\n",
       "        <td style=\"padding-left: 1em; padding-right: 1em; text-align: center; vertical-align: top\">0.0</td>\n",
       "        <td style=\"padding-left: 1em; padding-right: 1em; text-align: center; vertical-align: top\">2.0</td>\n",
       "        <td style=\"padding-left: 1em; padding-right: 1em; text-align: center; vertical-align: top\">0</td>\n",
       "        <td style=\"padding-left: 1em; padding-right: 1em; text-align: center; vertical-align: top\">0</td>\n",
       "        <td style=\"padding-left: 1em; padding-right: 1em; text-align: center; vertical-align: top\">0.0</td>\n",
       "        <td style=\"padding-left: 1em; padding-right: 1em; text-align: center; vertical-align: top\">0</td>\n",
       "        <td style=\"padding-left: 1em; padding-right: 1em; text-align: center; vertical-align: top\">0</td>\n",
       "        <td style=\"padding-left: 1em; padding-right: 1em; text-align: center; vertical-align: top\">0</td>\n",
       "    </tr>\n",
       "</table>\n",
       "[298 rows x 17 columns]<br/>Note: Only the head of the SFrame is printed.<br/>You can use print_rows(num_rows=m, num_columns=n) to print more rows and columns.\n",
       "</div>"
      ],
      "text/plain": [
       "Columns:\n",
       "\tname\tstr\n",
       "\treview\tstr\n",
       "\trating\tfloat\n",
       "\tword_count\tdict\n",
       "\tsentiment\tint\n",
       "\tpredicted_sentiment\tfloat\n",
       "\tawesome\tfloat\n",
       "\tgreat\tfloat\n",
       "\tfantastic\tfloat\n",
       "\tamazing\tfloat\n",
       "\tlove\tfloat\n",
       "\thorrible\tint\n",
       "\tbad\tint\n",
       "\tterrible\tfloat\n",
       "\tawful\tint\n",
       "\twow\tint\n",
       "\thate\tint\n",
       "\n",
       "Rows: 298\n",
       "\n",
       "Data:\n",
       "+-------------------------+-------------------------------+--------+\n",
       "|           name          |             review            | rating |\n",
       "+-------------------------+-------------------------------+--------+\n",
       "| Baby Trend Diaper Champ | I read a review below that... |  4.0   |\n",
       "| Baby Trend Diaper Champ | I have never written a rev... |  5.0   |\n",
       "| Baby Trend Diaper Champ | I originally put this item... |  5.0   |\n",
       "| Baby Trend Diaper Champ | Baby Luke can turn a clean... |  5.0   |\n",
       "| Baby Trend Diaper Champ | Diaper Champ or Diaper Gen... |  5.0   |\n",
       "| Baby Trend Diaper Champ | I am one of those super-cr... |  5.0   |\n",
       "| Baby Trend Diaper Champ | I LOOOVE this diaper pail!... |  5.0   |\n",
       "| Baby Trend Diaper Champ | As a first time mother, I ... |  5.0   |\n",
       "| Baby Trend Diaper Champ | I see that there are compl... |  5.0   |\n",
       "| Baby Trend Diaper Champ | I have a 10 year old daugh... |  5.0   |\n",
       "+-------------------------+-------------------------------+--------+\n",
       "+-------------------------------+-----------+---------------------+---------+\n",
       "|           word_count          | sentiment | predicted_sentiment | awesome |\n",
       "+-------------------------------+-----------+---------------------+---------+\n",
       "| {'key': 1.0, 'have': 1.0, ... |     1     |  0.9999999999895941 |   0.0   |\n",
       "| {'priceless': 1.0, 'knows'... |     1     |  0.9999999999868131 |   0.0   |\n",
       "| {'price': 1.0, 'suggestion... |     1     |  0.9999999999465673 |   0.0   |\n",
       "| {'around': 1.0, 'any': 1.0... |     1     |  0.9999999999302822 |   0.0   |\n",
       "| {'either': 1.0, 'be': 1.0,... |     1     |  0.9999999999174133 |   0.0   |\n",
       "| {'hope': 1.0, 'make': 1.0,... |     1     |  0.9999999998430963 |   0.0   |\n",
       "| {'buy': 1.0, 'product': 1.... |     1     |  0.9999999997360196 |   0.0   |\n",
       "| {'ll': 1.0, 'baby': 1.0, '... |     1     |  0.9999999995664315 |   0.0   |\n",
       "| {'very': 1.0, 'told': 1.0,... |     1     |  0.9999999985015902 |   0.0   |\n",
       "| {'sorry': 1.0, 'be': 1.0, ... |     1     |  0.999999998056851  |   0.0   |\n",
       "+-------------------------------+-----------+---------------------+---------+\n",
       "+-------+-----------+---------+------+----------+-----+----------+-------+-----+\n",
       "| great | fantastic | amazing | love | horrible | bad | terrible | awful | wow |\n",
       "+-------+-----------+---------+------+----------+-----+----------+-------+-----+\n",
       "|  0.0  |    0.0    |   0.0   | 0.0  |    0     |  0  |   0.0    |   0   |  0  |\n",
       "|  0.0  |    0.0    |   0.0   | 1.0  |    0     |  0  |   0.0    |   0   |  0  |\n",
       "|  0.0  |    0.0    |   0.0   | 0.0  |    0     |  0  |   0.0    |   0   |  0  |\n",
       "|  1.0  |    0.0    |   0.0   | 0.0  |    0     |  0  |   0.0    |   0   |  0  |\n",
       "|  1.0  |    0.0    |   0.0   | 0.0  |    0     |  0  |   0.0    |   0   |  0  |\n",
       "|  0.0  |    0.0    |   0.0   | 1.0  |    0     |  0  |   0.0    |   0   |  0  |\n",
       "|  0.0  |    0.0    |   0.0   | 1.0  |    0     |  0  |   0.0    |   0   |  0  |\n",
       "|  0.0  |    0.0    |   0.0   | 1.0  |    0     |  0  |   0.0    |   0   |  0  |\n",
       "|  0.0  |    0.0    |   0.0   | 0.0  |    0     |  0  |   0.0    |   0   |  0  |\n",
       "|  0.0  |    0.0    |   0.0   | 2.0  |    0     |  0  |   0.0    |   0   |  0  |\n",
       "+-------+-----------+---------+------+----------+-----+----------+-------+-----+\n",
       "+------+\n",
       "| hate |\n",
       "+------+\n",
       "|  0   |\n",
       "|  0   |\n",
       "|  0   |\n",
       "|  0   |\n",
       "|  0   |\n",
       "|  0   |\n",
       "|  0   |\n",
       "|  0   |\n",
       "|  0   |\n",
       "|  0   |\n",
       "+------+\n",
       "[298 rows x 17 columns]\n",
       "Note: Only the head of the SFrame is printed.\n",
       "You can use print_rows(num_rows=m, num_columns=n) to print more rows and columns."
      ]
     },
     "execution_count": 248,
     "metadata": {},
     "output_type": "execute_result"
    }
   ],
   "source": [
    "diaper_champ_reviews"
   ]
  },
  {
   "cell_type": "markdown",
   "metadata": {},
   "source": [
    "# Week 4\n"
   ]
  },
  {
   "cell_type": "code",
   "execution_count": 1,
   "metadata": {},
   "outputs": [],
   "source": [
    "import turicreate"
   ]
  },
  {
   "cell_type": "code",
   "execution_count": 2,
   "metadata": {},
   "outputs": [],
   "source": [
    "people = turicreate.SFrame('FND04_wiki.sframe')"
   ]
  },
  {
   "cell_type": "code",
   "execution_count": 3,
   "metadata": {},
   "outputs": [
    {
     "data": {
      "text/html": [
       "<div style=\"max-height:1000px;max-width:1500px;overflow:auto;\"><table frame=\"box\" rules=\"cols\">\n",
       "    <tr>\n",
       "        <th style=\"padding-left: 1em; padding-right: 1em; text-align: center\">URI</th>\n",
       "        <th style=\"padding-left: 1em; padding-right: 1em; text-align: center\">name</th>\n",
       "        <th style=\"padding-left: 1em; padding-right: 1em; text-align: center\">text</th>\n",
       "    </tr>\n",
       "    <tr>\n",
       "        <td style=\"padding-left: 1em; padding-right: 1em; text-align: center; vertical-align: top\">&lt;http://dbpedia.org/resou<br>rce/Digby_Morrell&gt; ...</td>\n",
       "        <td style=\"padding-left: 1em; padding-right: 1em; text-align: center; vertical-align: top\">Digby Morrell</td>\n",
       "        <td style=\"padding-left: 1em; padding-right: 1em; text-align: center; vertical-align: top\">digby morrell born 10<br>october 1979 is a former ...</td>\n",
       "    </tr>\n",
       "    <tr>\n",
       "        <td style=\"padding-left: 1em; padding-right: 1em; text-align: center; vertical-align: top\">&lt;http://dbpedia.org/resou<br>rce/Alfred_J._Lewy&gt; ...</td>\n",
       "        <td style=\"padding-left: 1em; padding-right: 1em; text-align: center; vertical-align: top\">Alfred J. Lewy</td>\n",
       "        <td style=\"padding-left: 1em; padding-right: 1em; text-align: center; vertical-align: top\">alfred j lewy aka sandy<br>lewy graduated from ...</td>\n",
       "    </tr>\n",
       "    <tr>\n",
       "        <td style=\"padding-left: 1em; padding-right: 1em; text-align: center; vertical-align: top\">&lt;http://dbpedia.org/resou<br>rce/Harpdog_Brown&gt; ...</td>\n",
       "        <td style=\"padding-left: 1em; padding-right: 1em; text-align: center; vertical-align: top\">Harpdog Brown</td>\n",
       "        <td style=\"padding-left: 1em; padding-right: 1em; text-align: center; vertical-align: top\">harpdog brown is a singer<br>and harmonica player who ...</td>\n",
       "    </tr>\n",
       "    <tr>\n",
       "        <td style=\"padding-left: 1em; padding-right: 1em; text-align: center; vertical-align: top\">&lt;http://dbpedia.org/resou<br>rce/Franz_Rottensteiner&gt; ...</td>\n",
       "        <td style=\"padding-left: 1em; padding-right: 1em; text-align: center; vertical-align: top\">Franz Rottensteiner</td>\n",
       "        <td style=\"padding-left: 1em; padding-right: 1em; text-align: center; vertical-align: top\">franz rottensteiner born<br>in waidmannsfeld lower ...</td>\n",
       "    </tr>\n",
       "    <tr>\n",
       "        <td style=\"padding-left: 1em; padding-right: 1em; text-align: center; vertical-align: top\">&lt;http://dbpedia.org/resou<br>rce/G-Enka&gt; ...</td>\n",
       "        <td style=\"padding-left: 1em; padding-right: 1em; text-align: center; vertical-align: top\">G-Enka</td>\n",
       "        <td style=\"padding-left: 1em; padding-right: 1em; text-align: center; vertical-align: top\">henry krvits born 30<br>december 1974 in tallinn ...</td>\n",
       "    </tr>\n",
       "    <tr>\n",
       "        <td style=\"padding-left: 1em; padding-right: 1em; text-align: center; vertical-align: top\">&lt;http://dbpedia.org/resou<br>rce/Sam_Henderson&gt; ...</td>\n",
       "        <td style=\"padding-left: 1em; padding-right: 1em; text-align: center; vertical-align: top\">Sam Henderson</td>\n",
       "        <td style=\"padding-left: 1em; padding-right: 1em; text-align: center; vertical-align: top\">sam henderson born<br>october 18 1969 is an ...</td>\n",
       "    </tr>\n",
       "    <tr>\n",
       "        <td style=\"padding-left: 1em; padding-right: 1em; text-align: center; vertical-align: top\">&lt;http://dbpedia.org/resou<br>rce/Aaron_LaCrate&gt; ...</td>\n",
       "        <td style=\"padding-left: 1em; padding-right: 1em; text-align: center; vertical-align: top\">Aaron LaCrate</td>\n",
       "        <td style=\"padding-left: 1em; padding-right: 1em; text-align: center; vertical-align: top\">aaron lacrate is an<br>american music producer ...</td>\n",
       "    </tr>\n",
       "    <tr>\n",
       "        <td style=\"padding-left: 1em; padding-right: 1em; text-align: center; vertical-align: top\">&lt;http://dbpedia.org/resou<br>rce/Trevor_Ferguson&gt; ...</td>\n",
       "        <td style=\"padding-left: 1em; padding-right: 1em; text-align: center; vertical-align: top\">Trevor Ferguson</td>\n",
       "        <td style=\"padding-left: 1em; padding-right: 1em; text-align: center; vertical-align: top\">trevor ferguson aka john<br>farrow born 11 november ...</td>\n",
       "    </tr>\n",
       "    <tr>\n",
       "        <td style=\"padding-left: 1em; padding-right: 1em; text-align: center; vertical-align: top\">&lt;http://dbpedia.org/resou<br>rce/Grant_Nelson&gt; ...</td>\n",
       "        <td style=\"padding-left: 1em; padding-right: 1em; text-align: center; vertical-align: top\">Grant Nelson</td>\n",
       "        <td style=\"padding-left: 1em; padding-right: 1em; text-align: center; vertical-align: top\">grant nelson born 27<br>april 1971 in london  ...</td>\n",
       "    </tr>\n",
       "    <tr>\n",
       "        <td style=\"padding-left: 1em; padding-right: 1em; text-align: center; vertical-align: top\">&lt;http://dbpedia.org/resou<br>rce/Cathy_Caruth&gt; ...</td>\n",
       "        <td style=\"padding-left: 1em; padding-right: 1em; text-align: center; vertical-align: top\">Cathy Caruth</td>\n",
       "        <td style=\"padding-left: 1em; padding-right: 1em; text-align: center; vertical-align: top\">cathy caruth born 1955 is<br>frank h t rhodes ...</td>\n",
       "    </tr>\n",
       "</table>\n",
       "[59071 rows x 3 columns]<br/>Note: Only the head of the SFrame is printed.<br/>You can use print_rows(num_rows=m, num_columns=n) to print more rows and columns.\n",
       "</div>"
      ],
      "text/plain": [
       "Columns:\n",
       "\tURI\tstr\n",
       "\tname\tstr\n",
       "\ttext\tstr\n",
       "\n",
       "Rows: 59071\n",
       "\n",
       "Data:\n",
       "+-------------------------------+---------------------+\n",
       "|              URI              |         name        |\n",
       "+-------------------------------+---------------------+\n",
       "| <http://dbpedia.org/resour... |    Digby Morrell    |\n",
       "| <http://dbpedia.org/resour... |    Alfred J. Lewy   |\n",
       "| <http://dbpedia.org/resour... |    Harpdog Brown    |\n",
       "| <http://dbpedia.org/resour... | Franz Rottensteiner |\n",
       "| <http://dbpedia.org/resour... |        G-Enka       |\n",
       "| <http://dbpedia.org/resour... |    Sam Henderson    |\n",
       "| <http://dbpedia.org/resour... |    Aaron LaCrate    |\n",
       "| <http://dbpedia.org/resour... |   Trevor Ferguson   |\n",
       "| <http://dbpedia.org/resour... |     Grant Nelson    |\n",
       "| <http://dbpedia.org/resour... |     Cathy Caruth    |\n",
       "+-------------------------------+---------------------+\n",
       "+-------------------------------+\n",
       "|              text             |\n",
       "+-------------------------------+\n",
       "| digby morrell born 10 octo... |\n",
       "| alfred j lewy aka sandy le... |\n",
       "| harpdog brown is a singer ... |\n",
       "| franz rottensteiner born i... |\n",
       "| henry krvits born 30 decem... |\n",
       "| sam henderson born october... |\n",
       "| aaron lacrate is an americ... |\n",
       "| trevor ferguson aka john f... |\n",
       "| grant nelson born 27 april... |\n",
       "| cathy caruth born 1955 is ... |\n",
       "+-------------------------------+\n",
       "[59071 rows x 3 columns]\n",
       "Note: Only the head of the SFrame is printed.\n",
       "You can use print_rows(num_rows=m, num_columns=n) to print more rows and columns."
      ]
     },
     "execution_count": 3,
     "metadata": {},
     "output_type": "execute_result"
    }
   ],
   "source": [
    "people"
   ]
  },
  {
   "cell_type": "markdown",
   "metadata": {},
   "source": [
    "# Explore data\n",
    "# Taking a look at the entry for president obama "
   ]
  },
  {
   "cell_type": "code",
   "execution_count": 4,
   "metadata": {},
   "outputs": [],
   "source": [
    "obama = people[people['name']=='Barack Obama']"
   ]
  },
  {
   "cell_type": "code",
   "execution_count": 5,
   "metadata": {},
   "outputs": [
    {
     "data": {
      "text/html": [
       "<div style=\"max-height:1000px;max-width:1500px;overflow:auto;\"><table frame=\"box\" rules=\"cols\">\n",
       "    <tr>\n",
       "        <th style=\"padding-left: 1em; padding-right: 1em; text-align: center\">URI</th>\n",
       "        <th style=\"padding-left: 1em; padding-right: 1em; text-align: center\">name</th>\n",
       "        <th style=\"padding-left: 1em; padding-right: 1em; text-align: center\">text</th>\n",
       "    </tr>\n",
       "    <tr>\n",
       "        <td style=\"padding-left: 1em; padding-right: 1em; text-align: center; vertical-align: top\">&lt;http://dbpedia.org/resou<br>rce/Barack_Obama&gt; ...</td>\n",
       "        <td style=\"padding-left: 1em; padding-right: 1em; text-align: center; vertical-align: top\">Barack Obama</td>\n",
       "        <td style=\"padding-left: 1em; padding-right: 1em; text-align: center; vertical-align: top\">barack hussein obama ii<br>brk husen bm born august ...</td>\n",
       "    </tr>\n",
       "</table>\n",
       "[? rows x 3 columns]<br/>Note: Only the head of the SFrame is printed. This SFrame is lazily evaluated.<br/>You can use sf.materialize() to force materialization.\n",
       "</div>"
      ],
      "text/plain": [
       "Columns:\n",
       "\tURI\tstr\n",
       "\tname\tstr\n",
       "\ttext\tstr\n",
       "\n",
       "Rows: Unknown\n",
       "\n",
       "Data:\n",
       "+-------------------------------+--------------+-------------------------------+\n",
       "|              URI              |     name     |              text             |\n",
       "+-------------------------------+--------------+-------------------------------+\n",
       "| <http://dbpedia.org/resour... | Barack Obama | barack hussein obama ii br... |\n",
       "+-------------------------------+--------------+-------------------------------+\n",
       "[? rows x 3 columns]\n",
       "Note: Only the head of the SFrame is printed. This SFrame is lazily evaluated.\n",
       "You can use sf.materialize() to force materialization."
      ]
     },
     "execution_count": 5,
     "metadata": {},
     "output_type": "execute_result"
    }
   ],
   "source": [
    "obama"
   ]
  },
  {
   "cell_type": "code",
   "execution_count": 6,
   "metadata": {},
   "outputs": [
    {
     "data": {
      "text/plain": [
       "dtype: str\n",
       "Rows: ?\n",
       "['barack hussein obama ii brk husen bm born august 4 1961 is the 44th and current president of the united states and the first african american to hold the office born in honolulu hawaii obama is a graduate of columbia university and harvard law school where he served as president of the harvard law review he was a community organizer in chicago before earning his law degree he worked as a civil rights attorney and taught constitutional law at the university of chicago law school from 1992 to 2004 he served three terms representing the 13th district in the illinois senate from 1997 to 2004 running unsuccessfully for the united states house of representatives in 2000in 2004 obama received national attention during his campaign to represent illinois in the united states senate with his victory in the march democratic party primary his keynote address at the democratic national convention in july and his election to the senate in november he began his presidential campaign in 2007 and after a close primary campaign against hillary rodham clinton in 2008 he won sufficient delegates in the democratic party primaries to receive the presidential nomination he then defeated republican nominee john mccain in the general election and was inaugurated as president on january 20 2009 nine months after his election obama was named the 2009 nobel peace prize laureateduring his first two years in office obama signed into law economic stimulus legislation in response to the great recession in the form of the american recovery and reinvestment act of 2009 and the tax relief unemployment insurance reauthorization and job creation act of 2010 other major domestic initiatives in his first term included the patient protection and affordable care act often referred to as obamacare the doddfrank wall street reform and consumer protection act and the dont ask dont tell repeal act of 2010 in foreign policy obama ended us military involvement in the iraq war increased us troop levels in afghanistan signed the new start arms control treaty with russia ordered us military involvement in libya and ordered the military operation that resulted in the death of osama bin laden in january 2011 the republicans regained control of the house of representatives as the democratic party lost a total of 63 seats and after a lengthy debate over federal spending and whether or not to raise the nations debt limit obama signed the budget control act of 2011 and the american taxpayer relief act of 2012obama was reelected president in november 2012 defeating republican nominee mitt romney and was sworn in for a second term on january 20 2013 during his second term obama has promoted domestic policies related to gun control in response to the sandy hook elementary school shooting and has called for full equality for lgbt americans while his administration has filed briefs which urged the supreme court to strike down the defense of marriage act of 1996 and californias proposition 8 as unconstitutional in foreign policy obama ordered us military involvement in iraq in response to gains made by the islamic state in iraq after the 2011 withdrawal from iraq continued the process of ending us combat operations in afghanistan and has sought to normalize us relations with cuba', ... ]"
      ]
     },
     "execution_count": 6,
     "metadata": {},
     "output_type": "execute_result"
    }
   ],
   "source": [
    "obama['text']"
   ]
  },
  {
   "cell_type": "markdown",
   "metadata": {},
   "source": [
    "# Explore the entry for actor George Clooney"
   ]
  },
  {
   "cell_type": "code",
   "execution_count": 7,
   "metadata": {},
   "outputs": [],
   "source": [
    "clooney = people[people['name']== 'George Clooney']"
   ]
  },
  {
   "cell_type": "code",
   "execution_count": 8,
   "metadata": {},
   "outputs": [
    {
     "data": {
      "text/html": [
       "<div style=\"max-height:1000px;max-width:1500px;overflow:auto;\"><table frame=\"box\" rules=\"cols\">\n",
       "    <tr>\n",
       "        <th style=\"padding-left: 1em; padding-right: 1em; text-align: center\">URI</th>\n",
       "        <th style=\"padding-left: 1em; padding-right: 1em; text-align: center\">name</th>\n",
       "        <th style=\"padding-left: 1em; padding-right: 1em; text-align: center\">text</th>\n",
       "    </tr>\n",
       "    <tr>\n",
       "        <td style=\"padding-left: 1em; padding-right: 1em; text-align: center; vertical-align: top\">&lt;http://dbpedia.org/resou<br>rce/George_Clooney&gt; ...</td>\n",
       "        <td style=\"padding-left: 1em; padding-right: 1em; text-align: center; vertical-align: top\">George Clooney</td>\n",
       "        <td style=\"padding-left: 1em; padding-right: 1em; text-align: center; vertical-align: top\">george timothy clooney<br>born may 6 1961 is an ...</td>\n",
       "    </tr>\n",
       "</table>\n",
       "[? rows x 3 columns]<br/>Note: Only the head of the SFrame is printed. This SFrame is lazily evaluated.<br/>You can use sf.materialize() to force materialization.\n",
       "</div>"
      ],
      "text/plain": [
       "Columns:\n",
       "\tURI\tstr\n",
       "\tname\tstr\n",
       "\ttext\tstr\n",
       "\n",
       "Rows: Unknown\n",
       "\n",
       "Data:\n",
       "+-------------------------------+----------------+\n",
       "|              URI              |      name      |\n",
       "+-------------------------------+----------------+\n",
       "| <http://dbpedia.org/resour... | George Clooney |\n",
       "+-------------------------------+----------------+\n",
       "+-------------------------------+\n",
       "|              text             |\n",
       "+-------------------------------+\n",
       "| george timothy clooney bor... |\n",
       "+-------------------------------+\n",
       "[? rows x 3 columns]\n",
       "Note: Only the head of the SFrame is printed. This SFrame is lazily evaluated.\n",
       "You can use sf.materialize() to force materialization."
      ]
     },
     "execution_count": 8,
     "metadata": {},
     "output_type": "execute_result"
    }
   ],
   "source": [
    "clooney"
   ]
  },
  {
   "cell_type": "code",
   "execution_count": 9,
   "metadata": {},
   "outputs": [
    {
     "data": {
      "text/plain": [
       "dtype: str\n",
       "Rows: ?\n",
       "['george timothy clooney born may 6 1961 is an american actor writer producer director and activist he has received three golden globe awards for his work as an actor and two academy awards one for acting and the other for producingclooney made his acting debut on television in 1978 and later gained wide recognition in his role as dr doug ross on the longrunning medical drama er from 1994 to 1999 for which he received two emmy award nominations while working on er he began attracting a variety of leading roles in films including the superhero film batman robin 1997 and the crime comedy out of sight 1998 in which he first worked with a director who would become a longtime collaborator steven soderbergh in 1999 clooney took the lead role in three kings a wellreceived war satire set during the gulf warin 2001 clooneys fame widened with the release of his biggest commercial success the heist comedy oceans eleven the first of the film trilogy a remake of the 1960 film with frank sinatra as danny ocean he made his directorial debut a year later with the biographical thriller confessions of a dangerous mind and has since directed the drama good night and good luck 2005 the sports comedy leatherheads 2008 the political drama the ides of march 2011 and the comedydrama war film the monuments men 2014he won an academy award for best supporting actor for the middle east thriller syriana 2005 and subsequently earned best actor nominations for the legal thriller michael clayton 2007 the comedydrama up in the air 2009 and the drama the descendants 2011 in 2013 he received the academy award for best picture for producing the political thriller argo alongside ben affleck and grant heslov he is the only person ever to be nominated for academy awards in six categoriesclooney is sometimes described as one of the most handsome men in the world in 2005 tv guide ranked clooney no 1 on its 50 sexiest stars of all time list in 2009 he was included in times annual time 100 as one of the most influential people in the world clooney is also noted for his political activism and has served as one of the united nations messengers of peace since january 31 2008 his humanitarian work includes his advocacy of finding a resolution for the darfur conflict raising funds for the 2010 haiti earthquake 2004 tsunami and 911 victims and creating documentaries such as sand and sorrow to raise awareness about international crises he is also a member of the council on foreign relations', ... ]"
      ]
     },
     "execution_count": 9,
     "metadata": {},
     "output_type": "execute_result"
    }
   ],
   "source": [
    "clooney['text']"
   ]
  },
  {
   "cell_type": "markdown",
   "metadata": {},
   "source": [
    "# Word counts for Obama article"
   ]
  },
  {
   "cell_type": "code",
   "execution_count": 10,
   "metadata": {},
   "outputs": [],
   "source": [
    "obama['word_count'] = turicreate.text_analytics.count_words(obama['text'])"
   ]
  },
  {
   "cell_type": "code",
   "execution_count": 11,
   "metadata": {},
   "outputs": [
    {
     "data": {
      "text/html": [
       "<div style=\"max-height:1000px;max-width:1500px;overflow:auto;\"><table frame=\"box\" rules=\"cols\">\n",
       "    <tr>\n",
       "        <th style=\"padding-left: 1em; padding-right: 1em; text-align: center\">URI</th>\n",
       "        <th style=\"padding-left: 1em; padding-right: 1em; text-align: center\">name</th>\n",
       "        <th style=\"padding-left: 1em; padding-right: 1em; text-align: center\">text</th>\n",
       "        <th style=\"padding-left: 1em; padding-right: 1em; text-align: center\">word_count</th>\n",
       "    </tr>\n",
       "    <tr>\n",
       "        <td style=\"padding-left: 1em; padding-right: 1em; text-align: center; vertical-align: top\">&lt;http://dbpedia.org/resou<br>rce/Barack_Obama&gt; ...</td>\n",
       "        <td style=\"padding-left: 1em; padding-right: 1em; text-align: center; vertical-align: top\">Barack Obama</td>\n",
       "        <td style=\"padding-left: 1em; padding-right: 1em; text-align: center; vertical-align: top\">barack hussein obama ii<br>brk husen bm born august ...</td>\n",
       "        <td style=\"padding-left: 1em; padding-right: 1em; text-align: center; vertical-align: top\">{&#x27;normalize&#x27;: 1.0,<br>&#x27;sought&#x27;: 1.0, &#x27;combat&#x27;: ...</td>\n",
       "    </tr>\n",
       "</table>\n",
       "[1 rows x 4 columns]<br/>\n",
       "</div>"
      ],
      "text/plain": [
       "Columns:\n",
       "\tURI\tstr\n",
       "\tname\tstr\n",
       "\ttext\tstr\n",
       "\tword_count\tdict\n",
       "\n",
       "Rows: 1\n",
       "\n",
       "Data:\n",
       "+-------------------------------+--------------+-------------------------------+\n",
       "|              URI              |     name     |              text             |\n",
       "+-------------------------------+--------------+-------------------------------+\n",
       "| <http://dbpedia.org/resour... | Barack Obama | barack hussein obama ii br... |\n",
       "+-------------------------------+--------------+-------------------------------+\n",
       "+-------------------------------+\n",
       "|           word_count          |\n",
       "+-------------------------------+\n",
       "| {'normalize': 1.0, 'sought... |\n",
       "+-------------------------------+\n",
       "[1 rows x 4 columns]"
      ]
     },
     "execution_count": 11,
     "metadata": {},
     "output_type": "execute_result"
    }
   ],
   "source": [
    "obama"
   ]
  },
  {
   "cell_type": "code",
   "execution_count": 12,
   "metadata": {},
   "outputs": [
    {
     "data": {
      "text/plain": [
       "dtype: dict\n",
       "Rows: 1\n",
       "[{'normalize': 1.0, 'sought': 1.0, 'combat': 1.0, 'continued': 1.0, 'unconstitutional': 1.0, '8': 1.0, 'californias': 1.0, '1996': 1.0, 'marriage': 1.0, 'defense': 1.0, 'down': 1.0, 'proposition': 1.0, 'court': 1.0, 'supreme': 1.0, 'urged': 1.0, 'which': 1.0, 'briefs': 1.0, 'administration': 1.0, 'while': 1.0, 'americans': 1.0, 'called': 1.0, 'cuba': 1.0, 'gun': 1.0, 'related': 1.0, 'policies': 1.0, 'promoted': 1.0, '2013': 1.0, 'second': 2.0, 'romney': 1.0, 'filed': 1.0, '2012': 1.0, 'reelected': 1.0, 'taxpayer': 1.0, 'budget': 1.0, 'nations': 1.0, 'raise': 1.0, 'spending': 1.0, 'over': 1.0, 'lengthy': 1.0, 'gains': 1.0, 'seats': 1.0, '63': 1.0, 'total': 1.0, 'lost': 1.0, 'regained': 1.0, 'republicans': 1.0, 'whether': 1.0, 'close': 1.0, 'patient': 1.0, 'by': 1.0, 'sandy': 1.0, 'after': 4.0, 'presidential': 2.0, 'november': 2.0, 'obama': 9.0, 'election': 3.0, 'august': 1.0, 'mccain': 1.0, 'primary': 2.0, 'he': 7.0, 'united': 3.0, 'with': 3.0, 'current': 1.0, 'campaign': 3.0, 'degree': 1.0, 'obamacare': 1.0, 'convention': 1.0, 'house': 2.0, 'during': 2.0, 'victory': 1.0, 'worked': 1.0, 'troop': 1.0, 'senate': 3.0, 'islamic': 1.0, 'law': 6.0, 'district': 1.0, '13th': 1.0, 'national': 2.0, 'sworn': 1.0, 'representing': 1.0, 'democratic': 4.0, '20': 2.0, 'that': 1.0, 'process': 1.0, 'the': 40.0, '1961': 1.0, '2004': 3.0, 'debate': 1.0, 'from': 3.0, 'three': 1.0, 'into': 1.0, 'at': 2.0, 'is': 2.0, 'rights': 1.0, 'withdrawal': 1.0, 'often': 1.0, 'attorney': 1.0, 'civil': 1.0, 'taught': 1.0, 'represent': 1.0, 'january': 3.0, 'laureateduring': 1.0, 'running': 1.0, 'unsuccessfully': 1.0, 'president': 4.0, 'july': 1.0, 'and': 21.0, 'arms': 1.0, 'hussein': 1.0, '2010': 2.0, 'african': 1.0, 'operations': 1.0, 'two': 1.0, 'won': 1.0, 'has': 4.0, 'representatives': 2.0, '44th': 1.0, 'his': 11.0, 'first': 3.0, 'death': 1.0, 'received': 1.0, '1997': 1.0, 'us': 6.0, '2012obama': 1.0, 'limit': 1.0, 'barack': 1.0, '2007': 1.0, 'receive': 1.0, 'elementary': 1.0, 'brk': 1.0, 'born': 2.0, 'shooting': 1.0, 'mitt': 1.0, 'consumer': 1.0, 'earning': 1.0, 'initiatives': 1.0, '1992': 1.0, 'constitutional': 1.0, 'where': 1.0, 'organizer': 1.0, 'debt': 1.0, 'american': 3.0, 'was': 5.0, 'named': 1.0, 'prize': 1.0, 'office': 2.0, 'school': 3.0, 'bm': 1.0, 'honolulu': 1.0, 'hawaii': 1.0, 'as': 6.0, 'hold': 1.0, 'nominee': 2.0, 'a': 7.0, 'party': 3.0, 'reform': 1.0, 'columbia': 1.0, 'years': 1.0, 'for': 4.0, 'john': 1.0, 'ending': 1.0, 'served': 2.0, 'began': 1.0, 'husen': 1.0, '2011': 3.0, 'lgbt': 1.0, 'against': 1.0, 'job': 1.0, 'in': 30.0, 'illinois': 2.0, 'hook': 1.0, 'harvard': 2.0, 'months': 1.0, 'community': 1.0, 'term': 3.0, 'nobel': 1.0, 'defeating': 1.0, '4': 1.0, 'chicago': 2.0, 'before': 1.0, 'foreign': 2.0, 'hillary': 1.0, 'unemployment': 1.0, 'to': 14.0, 'rodham': 1.0, 'clinton': 1.0, 'libya': 1.0, '2008': 1.0, 'relations': 1.0, 'sufficient': 1.0, 'delegates': 1.0, 'primaries': 1.0, 'repeal': 1.0, 'new': 1.0, 'nomination': 1.0, '2009': 3.0, 'form': 1.0, 'made': 1.0, 'peace': 1.0, 'defeated': 1.0, 'military': 4.0, 'republican': 2.0, 'doddfrank': 1.0, 'address': 1.0, 'general': 1.0, 'inaugurated': 1.0, 'on': 2.0, 'nine': 1.0, 'signed': 3.0, 'ii': 1.0, 'economic': 1.0, 'included': 1.0, 'levels': 1.0, 'review': 1.0, 'legislation': 1.0, 'ask': 1.0, 'resulted': 1.0, 'graduate': 1.0, 'response': 3.0, 'great': 1.0, 'full': 1.0, 'recession': 1.0, '2000in': 1.0, 'recovery': 1.0, 'reinvestment': 1.0, 'act': 8.0, 'tax': 1.0, 'relief': 2.0, 'major': 1.0, 'affordable': 1.0, 'reauthorization': 1.0, 'insurance': 1.0, 'creation': 1.0, 'state': 1.0, 'attention': 1.0, 'keynote': 1.0, 'other': 1.0, 'domestic': 2.0, 'equality': 1.0, 'of': 18.0, 'protection': 2.0, 'march': 1.0, 'start': 1.0, 'care': 1.0, 'afghanistan': 2.0, 'university': 2.0, 'laden': 1.0, 'russia': 1.0, 'wall': 1.0, 'referred': 1.0, 'street': 1.0, 'then': 1.0, 'dont': 2.0, 'tell': 1.0, 'policy': 2.0, 'ended': 1.0, 'involvement': 3.0, 'federal': 1.0, 'iraq': 4.0, 'terms': 1.0, 'war': 1.0, 'or': 1.0, 'treaty': 1.0, 'strike': 1.0, 'not': 1.0, 'increased': 1.0, 'control': 4.0, 'ordered': 3.0, 'states': 3.0, 'operation': 1.0, 'osama': 1.0, 'stimulus': 1.0, 'bin': 1.0}]"
      ]
     },
     "execution_count": 12,
     "metadata": {},
     "output_type": "execute_result"
    }
   ],
   "source": [
    "obama['word_count']"
   ]
  },
  {
   "cell_type": "markdown",
   "metadata": {},
   "source": [
    "# Find most common words in Obama article"
   ]
  },
  {
   "cell_type": "code",
   "execution_count": 15,
   "metadata": {},
   "outputs": [
    {
     "data": {
      "text/html": [
       "<div style=\"max-height:1000px;max-width:1500px;overflow:auto;\"><table frame=\"box\" rules=\"cols\">\n",
       "    <tr>\n",
       "        <th style=\"padding-left: 1em; padding-right: 1em; text-align: center\">URI</th>\n",
       "        <th style=\"padding-left: 1em; padding-right: 1em; text-align: center\">name</th>\n",
       "        <th style=\"padding-left: 1em; padding-right: 1em; text-align: center\">text</th>\n",
       "        <th style=\"padding-left: 1em; padding-right: 1em; text-align: center\">word</th>\n",
       "        <th style=\"padding-left: 1em; padding-right: 1em; text-align: center\">count</th>\n",
       "    </tr>\n",
       "    <tr>\n",
       "        <td style=\"padding-left: 1em; padding-right: 1em; text-align: center; vertical-align: top\">&lt;http://dbpedia.org/resou<br>rce/Barack_Obama&gt; ...</td>\n",
       "        <td style=\"padding-left: 1em; padding-right: 1em; text-align: center; vertical-align: top\">Barack Obama</td>\n",
       "        <td style=\"padding-left: 1em; padding-right: 1em; text-align: center; vertical-align: top\">barack hussein obama ii<br>brk husen bm born august ...</td>\n",
       "        <td style=\"padding-left: 1em; padding-right: 1em; text-align: center; vertical-align: top\">normalize</td>\n",
       "        <td style=\"padding-left: 1em; padding-right: 1em; text-align: center; vertical-align: top\">1.0</td>\n",
       "    </tr>\n",
       "    <tr>\n",
       "        <td style=\"padding-left: 1em; padding-right: 1em; text-align: center; vertical-align: top\">&lt;http://dbpedia.org/resou<br>rce/Barack_Obama&gt; ...</td>\n",
       "        <td style=\"padding-left: 1em; padding-right: 1em; text-align: center; vertical-align: top\">Barack Obama</td>\n",
       "        <td style=\"padding-left: 1em; padding-right: 1em; text-align: center; vertical-align: top\">barack hussein obama ii<br>brk husen bm born august ...</td>\n",
       "        <td style=\"padding-left: 1em; padding-right: 1em; text-align: center; vertical-align: top\">sought</td>\n",
       "        <td style=\"padding-left: 1em; padding-right: 1em; text-align: center; vertical-align: top\">1.0</td>\n",
       "    </tr>\n",
       "    <tr>\n",
       "        <td style=\"padding-left: 1em; padding-right: 1em; text-align: center; vertical-align: top\">&lt;http://dbpedia.org/resou<br>rce/Barack_Obama&gt; ...</td>\n",
       "        <td style=\"padding-left: 1em; padding-right: 1em; text-align: center; vertical-align: top\">Barack Obama</td>\n",
       "        <td style=\"padding-left: 1em; padding-right: 1em; text-align: center; vertical-align: top\">barack hussein obama ii<br>brk husen bm born august ...</td>\n",
       "        <td style=\"padding-left: 1em; padding-right: 1em; text-align: center; vertical-align: top\">combat</td>\n",
       "        <td style=\"padding-left: 1em; padding-right: 1em; text-align: center; vertical-align: top\">1.0</td>\n",
       "    </tr>\n",
       "    <tr>\n",
       "        <td style=\"padding-left: 1em; padding-right: 1em; text-align: center; vertical-align: top\">&lt;http://dbpedia.org/resou<br>rce/Barack_Obama&gt; ...</td>\n",
       "        <td style=\"padding-left: 1em; padding-right: 1em; text-align: center; vertical-align: top\">Barack Obama</td>\n",
       "        <td style=\"padding-left: 1em; padding-right: 1em; text-align: center; vertical-align: top\">barack hussein obama ii<br>brk husen bm born august ...</td>\n",
       "        <td style=\"padding-left: 1em; padding-right: 1em; text-align: center; vertical-align: top\">continued</td>\n",
       "        <td style=\"padding-left: 1em; padding-right: 1em; text-align: center; vertical-align: top\">1.0</td>\n",
       "    </tr>\n",
       "    <tr>\n",
       "        <td style=\"padding-left: 1em; padding-right: 1em; text-align: center; vertical-align: top\">&lt;http://dbpedia.org/resou<br>rce/Barack_Obama&gt; ...</td>\n",
       "        <td style=\"padding-left: 1em; padding-right: 1em; text-align: center; vertical-align: top\">Barack Obama</td>\n",
       "        <td style=\"padding-left: 1em; padding-right: 1em; text-align: center; vertical-align: top\">barack hussein obama ii<br>brk husen bm born august ...</td>\n",
       "        <td style=\"padding-left: 1em; padding-right: 1em; text-align: center; vertical-align: top\">unconstitutional</td>\n",
       "        <td style=\"padding-left: 1em; padding-right: 1em; text-align: center; vertical-align: top\">1.0</td>\n",
       "    </tr>\n",
       "    <tr>\n",
       "        <td style=\"padding-left: 1em; padding-right: 1em; text-align: center; vertical-align: top\">&lt;http://dbpedia.org/resou<br>rce/Barack_Obama&gt; ...</td>\n",
       "        <td style=\"padding-left: 1em; padding-right: 1em; text-align: center; vertical-align: top\">Barack Obama</td>\n",
       "        <td style=\"padding-left: 1em; padding-right: 1em; text-align: center; vertical-align: top\">barack hussein obama ii<br>brk husen bm born august ...</td>\n",
       "        <td style=\"padding-left: 1em; padding-right: 1em; text-align: center; vertical-align: top\">8</td>\n",
       "        <td style=\"padding-left: 1em; padding-right: 1em; text-align: center; vertical-align: top\">1.0</td>\n",
       "    </tr>\n",
       "    <tr>\n",
       "        <td style=\"padding-left: 1em; padding-right: 1em; text-align: center; vertical-align: top\">&lt;http://dbpedia.org/resou<br>rce/Barack_Obama&gt; ...</td>\n",
       "        <td style=\"padding-left: 1em; padding-right: 1em; text-align: center; vertical-align: top\">Barack Obama</td>\n",
       "        <td style=\"padding-left: 1em; padding-right: 1em; text-align: center; vertical-align: top\">barack hussein obama ii<br>brk husen bm born august ...</td>\n",
       "        <td style=\"padding-left: 1em; padding-right: 1em; text-align: center; vertical-align: top\">californias</td>\n",
       "        <td style=\"padding-left: 1em; padding-right: 1em; text-align: center; vertical-align: top\">1.0</td>\n",
       "    </tr>\n",
       "    <tr>\n",
       "        <td style=\"padding-left: 1em; padding-right: 1em; text-align: center; vertical-align: top\">&lt;http://dbpedia.org/resou<br>rce/Barack_Obama&gt; ...</td>\n",
       "        <td style=\"padding-left: 1em; padding-right: 1em; text-align: center; vertical-align: top\">Barack Obama</td>\n",
       "        <td style=\"padding-left: 1em; padding-right: 1em; text-align: center; vertical-align: top\">barack hussein obama ii<br>brk husen bm born august ...</td>\n",
       "        <td style=\"padding-left: 1em; padding-right: 1em; text-align: center; vertical-align: top\">1996</td>\n",
       "        <td style=\"padding-left: 1em; padding-right: 1em; text-align: center; vertical-align: top\">1.0</td>\n",
       "    </tr>\n",
       "    <tr>\n",
       "        <td style=\"padding-left: 1em; padding-right: 1em; text-align: center; vertical-align: top\">&lt;http://dbpedia.org/resou<br>rce/Barack_Obama&gt; ...</td>\n",
       "        <td style=\"padding-left: 1em; padding-right: 1em; text-align: center; vertical-align: top\">Barack Obama</td>\n",
       "        <td style=\"padding-left: 1em; padding-right: 1em; text-align: center; vertical-align: top\">barack hussein obama ii<br>brk husen bm born august ...</td>\n",
       "        <td style=\"padding-left: 1em; padding-right: 1em; text-align: center; vertical-align: top\">marriage</td>\n",
       "        <td style=\"padding-left: 1em; padding-right: 1em; text-align: center; vertical-align: top\">1.0</td>\n",
       "    </tr>\n",
       "    <tr>\n",
       "        <td style=\"padding-left: 1em; padding-right: 1em; text-align: center; vertical-align: top\">&lt;http://dbpedia.org/resou<br>rce/Barack_Obama&gt; ...</td>\n",
       "        <td style=\"padding-left: 1em; padding-right: 1em; text-align: center; vertical-align: top\">Barack Obama</td>\n",
       "        <td style=\"padding-left: 1em; padding-right: 1em; text-align: center; vertical-align: top\">barack hussein obama ii<br>brk husen bm born august ...</td>\n",
       "        <td style=\"padding-left: 1em; padding-right: 1em; text-align: center; vertical-align: top\">defense</td>\n",
       "        <td style=\"padding-left: 1em; padding-right: 1em; text-align: center; vertical-align: top\">1.0</td>\n",
       "    </tr>\n",
       "</table>\n",
       "[273 rows x 5 columns]<br/>Note: Only the head of the SFrame is printed.<br/>You can use print_rows(num_rows=m, num_columns=n) to print more rows and columns.\n",
       "</div>"
      ],
      "text/plain": [
       "Columns:\n",
       "\tURI\tstr\n",
       "\tname\tstr\n",
       "\ttext\tstr\n",
       "\tword\tstr\n",
       "\tcount\tfloat\n",
       "\n",
       "Rows: 273\n",
       "\n",
       "Data:\n",
       "+-------------------------------+--------------+-------------------------------+\n",
       "|              URI              |     name     |              text             |\n",
       "+-------------------------------+--------------+-------------------------------+\n",
       "| <http://dbpedia.org/resour... | Barack Obama | barack hussein obama ii br... |\n",
       "| <http://dbpedia.org/resour... | Barack Obama | barack hussein obama ii br... |\n",
       "| <http://dbpedia.org/resour... | Barack Obama | barack hussein obama ii br... |\n",
       "| <http://dbpedia.org/resour... | Barack Obama | barack hussein obama ii br... |\n",
       "| <http://dbpedia.org/resour... | Barack Obama | barack hussein obama ii br... |\n",
       "| <http://dbpedia.org/resour... | Barack Obama | barack hussein obama ii br... |\n",
       "| <http://dbpedia.org/resour... | Barack Obama | barack hussein obama ii br... |\n",
       "| <http://dbpedia.org/resour... | Barack Obama | barack hussein obama ii br... |\n",
       "| <http://dbpedia.org/resour... | Barack Obama | barack hussein obama ii br... |\n",
       "| <http://dbpedia.org/resour... | Barack Obama | barack hussein obama ii br... |\n",
       "+-------------------------------+--------------+-------------------------------+\n",
       "+------------------+-------+\n",
       "|       word       | count |\n",
       "+------------------+-------+\n",
       "|    normalize     |  1.0  |\n",
       "|      sought      |  1.0  |\n",
       "|      combat      |  1.0  |\n",
       "|    continued     |  1.0  |\n",
       "| unconstitutional |  1.0  |\n",
       "|        8         |  1.0  |\n",
       "|   californias    |  1.0  |\n",
       "|       1996       |  1.0  |\n",
       "|     marriage     |  1.0  |\n",
       "|     defense      |  1.0  |\n",
       "+------------------+-------+\n",
       "[273 rows x 5 columns]\n",
       "Note: Only the head of the SFrame is printed.\n",
       "You can use print_rows(num_rows=m, num_columns=n) to print more rows and columns."
      ]
     },
     "execution_count": 15,
     "metadata": {},
     "output_type": "execute_result"
    }
   ],
   "source": [
    "obama.stack('word_count',new_column_name=['word','count'])"
   ]
  },
  {
   "cell_type": "code",
   "execution_count": 16,
   "metadata": {},
   "outputs": [],
   "source": [
    "obama_word_count_table = obama[['word_count']].stack('word_count', new_column_name=['word','count'])"
   ]
  },
  {
   "cell_type": "code",
   "execution_count": 17,
   "metadata": {},
   "outputs": [
    {
     "data": {
      "text/html": [
       "<div style=\"max-height:1000px;max-width:1500px;overflow:auto;\"><table frame=\"box\" rules=\"cols\">\n",
       "    <tr>\n",
       "        <th style=\"padding-left: 1em; padding-right: 1em; text-align: center\">word</th>\n",
       "        <th style=\"padding-left: 1em; padding-right: 1em; text-align: center\">count</th>\n",
       "    </tr>\n",
       "    <tr>\n",
       "        <td style=\"padding-left: 1em; padding-right: 1em; text-align: center; vertical-align: top\">normalize</td>\n",
       "        <td style=\"padding-left: 1em; padding-right: 1em; text-align: center; vertical-align: top\">1.0</td>\n",
       "    </tr>\n",
       "    <tr>\n",
       "        <td style=\"padding-left: 1em; padding-right: 1em; text-align: center; vertical-align: top\">sought</td>\n",
       "        <td style=\"padding-left: 1em; padding-right: 1em; text-align: center; vertical-align: top\">1.0</td>\n",
       "    </tr>\n",
       "    <tr>\n",
       "        <td style=\"padding-left: 1em; padding-right: 1em; text-align: center; vertical-align: top\">combat</td>\n",
       "        <td style=\"padding-left: 1em; padding-right: 1em; text-align: center; vertical-align: top\">1.0</td>\n",
       "    </tr>\n",
       "    <tr>\n",
       "        <td style=\"padding-left: 1em; padding-right: 1em; text-align: center; vertical-align: top\">continued</td>\n",
       "        <td style=\"padding-left: 1em; padding-right: 1em; text-align: center; vertical-align: top\">1.0</td>\n",
       "    </tr>\n",
       "    <tr>\n",
       "        <td style=\"padding-left: 1em; padding-right: 1em; text-align: center; vertical-align: top\">unconstitutional</td>\n",
       "        <td style=\"padding-left: 1em; padding-right: 1em; text-align: center; vertical-align: top\">1.0</td>\n",
       "    </tr>\n",
       "    <tr>\n",
       "        <td style=\"padding-left: 1em; padding-right: 1em; text-align: center; vertical-align: top\">8</td>\n",
       "        <td style=\"padding-left: 1em; padding-right: 1em; text-align: center; vertical-align: top\">1.0</td>\n",
       "    </tr>\n",
       "    <tr>\n",
       "        <td style=\"padding-left: 1em; padding-right: 1em; text-align: center; vertical-align: top\">californias</td>\n",
       "        <td style=\"padding-left: 1em; padding-right: 1em; text-align: center; vertical-align: top\">1.0</td>\n",
       "    </tr>\n",
       "    <tr>\n",
       "        <td style=\"padding-left: 1em; padding-right: 1em; text-align: center; vertical-align: top\">1996</td>\n",
       "        <td style=\"padding-left: 1em; padding-right: 1em; text-align: center; vertical-align: top\">1.0</td>\n",
       "    </tr>\n",
       "    <tr>\n",
       "        <td style=\"padding-left: 1em; padding-right: 1em; text-align: center; vertical-align: top\">marriage</td>\n",
       "        <td style=\"padding-left: 1em; padding-right: 1em; text-align: center; vertical-align: top\">1.0</td>\n",
       "    </tr>\n",
       "    <tr>\n",
       "        <td style=\"padding-left: 1em; padding-right: 1em; text-align: center; vertical-align: top\">defense</td>\n",
       "        <td style=\"padding-left: 1em; padding-right: 1em; text-align: center; vertical-align: top\">1.0</td>\n",
       "    </tr>\n",
       "</table>\n",
       "[273 rows x 2 columns]<br/>Note: Only the head of the SFrame is printed.<br/>You can use print_rows(num_rows=m, num_columns=n) to print more rows and columns.\n",
       "</div>"
      ],
      "text/plain": [
       "Columns:\n",
       "\tword\tstr\n",
       "\tcount\tfloat\n",
       "\n",
       "Rows: 273\n",
       "\n",
       "Data:\n",
       "+------------------+-------+\n",
       "|       word       | count |\n",
       "+------------------+-------+\n",
       "|    normalize     |  1.0  |\n",
       "|      sought      |  1.0  |\n",
       "|      combat      |  1.0  |\n",
       "|    continued     |  1.0  |\n",
       "| unconstitutional |  1.0  |\n",
       "|        8         |  1.0  |\n",
       "|   californias    |  1.0  |\n",
       "|       1996       |  1.0  |\n",
       "|     marriage     |  1.0  |\n",
       "|     defense      |  1.0  |\n",
       "+------------------+-------+\n",
       "[273 rows x 2 columns]\n",
       "Note: Only the head of the SFrame is printed.\n",
       "You can use print_rows(num_rows=m, num_columns=n) to print more rows and columns."
      ]
     },
     "execution_count": 17,
     "metadata": {},
     "output_type": "execute_result"
    }
   ],
   "source": [
    "obama_word_count_table"
   ]
  },
  {
   "cell_type": "code",
   "execution_count": 18,
   "metadata": {},
   "outputs": [
    {
     "data": {
      "text/html": [
       "<div style=\"max-height:1000px;max-width:1500px;overflow:auto;\"><table frame=\"box\" rules=\"cols\">\n",
       "    <tr>\n",
       "        <th style=\"padding-left: 1em; padding-right: 1em; text-align: center\">word</th>\n",
       "        <th style=\"padding-left: 1em; padding-right: 1em; text-align: center\">count</th>\n",
       "    </tr>\n",
       "    <tr>\n",
       "        <td style=\"padding-left: 1em; padding-right: 1em; text-align: center; vertical-align: top\">the</td>\n",
       "        <td style=\"padding-left: 1em; padding-right: 1em; text-align: center; vertical-align: top\">40.0</td>\n",
       "    </tr>\n",
       "    <tr>\n",
       "        <td style=\"padding-left: 1em; padding-right: 1em; text-align: center; vertical-align: top\">in</td>\n",
       "        <td style=\"padding-left: 1em; padding-right: 1em; text-align: center; vertical-align: top\">30.0</td>\n",
       "    </tr>\n",
       "    <tr>\n",
       "        <td style=\"padding-left: 1em; padding-right: 1em; text-align: center; vertical-align: top\">and</td>\n",
       "        <td style=\"padding-left: 1em; padding-right: 1em; text-align: center; vertical-align: top\">21.0</td>\n",
       "    </tr>\n",
       "    <tr>\n",
       "        <td style=\"padding-left: 1em; padding-right: 1em; text-align: center; vertical-align: top\">of</td>\n",
       "        <td style=\"padding-left: 1em; padding-right: 1em; text-align: center; vertical-align: top\">18.0</td>\n",
       "    </tr>\n",
       "    <tr>\n",
       "        <td style=\"padding-left: 1em; padding-right: 1em; text-align: center; vertical-align: top\">to</td>\n",
       "        <td style=\"padding-left: 1em; padding-right: 1em; text-align: center; vertical-align: top\">14.0</td>\n",
       "    </tr>\n",
       "    <tr>\n",
       "        <td style=\"padding-left: 1em; padding-right: 1em; text-align: center; vertical-align: top\">his</td>\n",
       "        <td style=\"padding-left: 1em; padding-right: 1em; text-align: center; vertical-align: top\">11.0</td>\n",
       "    </tr>\n",
       "    <tr>\n",
       "        <td style=\"padding-left: 1em; padding-right: 1em; text-align: center; vertical-align: top\">obama</td>\n",
       "        <td style=\"padding-left: 1em; padding-right: 1em; text-align: center; vertical-align: top\">9.0</td>\n",
       "    </tr>\n",
       "    <tr>\n",
       "        <td style=\"padding-left: 1em; padding-right: 1em; text-align: center; vertical-align: top\">act</td>\n",
       "        <td style=\"padding-left: 1em; padding-right: 1em; text-align: center; vertical-align: top\">8.0</td>\n",
       "    </tr>\n",
       "    <tr>\n",
       "        <td style=\"padding-left: 1em; padding-right: 1em; text-align: center; vertical-align: top\">a</td>\n",
       "        <td style=\"padding-left: 1em; padding-right: 1em; text-align: center; vertical-align: top\">7.0</td>\n",
       "    </tr>\n",
       "    <tr>\n",
       "        <td style=\"padding-left: 1em; padding-right: 1em; text-align: center; vertical-align: top\">he</td>\n",
       "        <td style=\"padding-left: 1em; padding-right: 1em; text-align: center; vertical-align: top\">7.0</td>\n",
       "    </tr>\n",
       "</table>\n",
       "[273 rows x 2 columns]<br/>Note: Only the head of the SFrame is printed.<br/>You can use print_rows(num_rows=m, num_columns=n) to print more rows and columns.\n",
       "</div>"
      ],
      "text/plain": [
       "Columns:\n",
       "\tword\tstr\n",
       "\tcount\tfloat\n",
       "\n",
       "Rows: 273\n",
       "\n",
       "Data:\n",
       "+-------+-------+\n",
       "|  word | count |\n",
       "+-------+-------+\n",
       "|  the  |  40.0 |\n",
       "|   in  |  30.0 |\n",
       "|  and  |  21.0 |\n",
       "|   of  |  18.0 |\n",
       "|   to  |  14.0 |\n",
       "|  his  |  11.0 |\n",
       "| obama |  9.0  |\n",
       "|  act  |  8.0  |\n",
       "|   a   |  7.0  |\n",
       "|   he  |  7.0  |\n",
       "+-------+-------+\n",
       "[273 rows x 2 columns]\n",
       "Note: Only the head of the SFrame is printed.\n",
       "You can use print_rows(num_rows=m, num_columns=n) to print more rows and columns."
      ]
     },
     "execution_count": 18,
     "metadata": {},
     "output_type": "execute_result"
    }
   ],
   "source": [
    "obama_word_count_table.sort('count',ascending=False)"
   ]
  },
  {
   "cell_type": "markdown",
   "metadata": {},
   "source": [
    "# Compute TF-IDF for the entire corpus of articles"
   ]
  },
  {
   "cell_type": "code",
   "execution_count": 19,
   "metadata": {},
   "outputs": [],
   "source": [
    "people['word_count'] = turicreate.text_analytics.count_words(people['text'])"
   ]
  },
  {
   "cell_type": "code",
   "execution_count": 20,
   "metadata": {},
   "outputs": [
    {
     "data": {
      "text/html": [
       "<div style=\"max-height:1000px;max-width:1500px;overflow:auto;\"><table frame=\"box\" rules=\"cols\">\n",
       "    <tr>\n",
       "        <th style=\"padding-left: 1em; padding-right: 1em; text-align: center\">URI</th>\n",
       "        <th style=\"padding-left: 1em; padding-right: 1em; text-align: center\">name</th>\n",
       "        <th style=\"padding-left: 1em; padding-right: 1em; text-align: center\">text</th>\n",
       "        <th style=\"padding-left: 1em; padding-right: 1em; text-align: center\">word_count</th>\n",
       "    </tr>\n",
       "    <tr>\n",
       "        <td style=\"padding-left: 1em; padding-right: 1em; text-align: center; vertical-align: top\">&lt;http://dbpedia.org/resou<br>rce/Digby_Morrell&gt; ...</td>\n",
       "        <td style=\"padding-left: 1em; padding-right: 1em; text-align: center; vertical-align: top\">Digby Morrell</td>\n",
       "        <td style=\"padding-left: 1em; padding-right: 1em; text-align: center; vertical-align: top\">digby morrell born 10<br>october 1979 is a former ...</td>\n",
       "        <td style=\"padding-left: 1em; padding-right: 1em; text-align: center; vertical-align: top\">{&#x27;melbourne&#x27;: 1.0,<br>&#x27;parade&#x27;: 1.0, ...</td>\n",
       "    </tr>\n",
       "    <tr>\n",
       "        <td style=\"padding-left: 1em; padding-right: 1em; text-align: center; vertical-align: top\">&lt;http://dbpedia.org/resou<br>rce/Alfred_J._Lewy&gt; ...</td>\n",
       "        <td style=\"padding-left: 1em; padding-right: 1em; text-align: center; vertical-align: top\">Alfred J. Lewy</td>\n",
       "        <td style=\"padding-left: 1em; padding-right: 1em; text-align: center; vertical-align: top\">alfred j lewy aka sandy<br>lewy graduated from ...</td>\n",
       "        <td style=\"padding-left: 1em; padding-right: 1em; text-align: center; vertical-align: top\">{&#x27;time&#x27;: 1.0, &#x27;each&#x27;:<br>1.0, &#x27;hour&#x27;: 1.0, ...</td>\n",
       "    </tr>\n",
       "    <tr>\n",
       "        <td style=\"padding-left: 1em; padding-right: 1em; text-align: center; vertical-align: top\">&lt;http://dbpedia.org/resou<br>rce/Harpdog_Brown&gt; ...</td>\n",
       "        <td style=\"padding-left: 1em; padding-right: 1em; text-align: center; vertical-align: top\">Harpdog Brown</td>\n",
       "        <td style=\"padding-left: 1em; padding-right: 1em; text-align: center; vertical-align: top\">harpdog brown is a singer<br>and harmonica player who ...</td>\n",
       "        <td style=\"padding-left: 1em; padding-right: 1em; text-align: center; vertical-align: top\">{&#x27;society&#x27;: 1.0,<br>&#x27;hamilton&#x27;: 1.0, &#x27;to&#x27;: ...</td>\n",
       "    </tr>\n",
       "    <tr>\n",
       "        <td style=\"padding-left: 1em; padding-right: 1em; text-align: center; vertical-align: top\">&lt;http://dbpedia.org/resou<br>rce/Franz_Rottensteiner&gt; ...</td>\n",
       "        <td style=\"padding-left: 1em; padding-right: 1em; text-align: center; vertical-align: top\">Franz Rottensteiner</td>\n",
       "        <td style=\"padding-left: 1em; padding-right: 1em; text-align: center; vertical-align: top\">franz rottensteiner born<br>in waidmannsfeld lower ...</td>\n",
       "        <td style=\"padding-left: 1em; padding-right: 1em; text-align: center; vertical-align: top\">{&#x27;kurdlawitzpreis&#x27;: 1.0,<br>&#x27;awarded&#x27;: 1.0, &#x27;2004&#x27;: ...</td>\n",
       "    </tr>\n",
       "    <tr>\n",
       "        <td style=\"padding-left: 1em; padding-right: 1em; text-align: center; vertical-align: top\">&lt;http://dbpedia.org/resou<br>rce/G-Enka&gt; ...</td>\n",
       "        <td style=\"padding-left: 1em; padding-right: 1em; text-align: center; vertical-align: top\">G-Enka</td>\n",
       "        <td style=\"padding-left: 1em; padding-right: 1em; text-align: center; vertical-align: top\">henry krvits born 30<br>december 1974 in tallinn ...</td>\n",
       "        <td style=\"padding-left: 1em; padding-right: 1em; text-align: center; vertical-align: top\">{&#x27;curtis&#x27;: 1.0, &#x27;2007&#x27;:<br>1.0, &#x27;cent&#x27;: 1.0, ...</td>\n",
       "    </tr>\n",
       "    <tr>\n",
       "        <td style=\"padding-left: 1em; padding-right: 1em; text-align: center; vertical-align: top\">&lt;http://dbpedia.org/resou<br>rce/Sam_Henderson&gt; ...</td>\n",
       "        <td style=\"padding-left: 1em; padding-right: 1em; text-align: center; vertical-align: top\">Sam Henderson</td>\n",
       "        <td style=\"padding-left: 1em; padding-right: 1em; text-align: center; vertical-align: top\">sam henderson born<br>october 18 1969 is an ...</td>\n",
       "        <td style=\"padding-left: 1em; padding-right: 1em; text-align: center; vertical-align: top\">{&#x27;asses&#x27;: 1.0, &#x27;sic&#x27;:<br>1.0, &#x27;toilets&#x27;: 1.0, ...</td>\n",
       "    </tr>\n",
       "    <tr>\n",
       "        <td style=\"padding-left: 1em; padding-right: 1em; text-align: center; vertical-align: top\">&lt;http://dbpedia.org/resou<br>rce/Aaron_LaCrate&gt; ...</td>\n",
       "        <td style=\"padding-left: 1em; padding-right: 1em; text-align: center; vertical-align: top\">Aaron LaCrate</td>\n",
       "        <td style=\"padding-left: 1em; padding-right: 1em; text-align: center; vertical-align: top\">aaron lacrate is an<br>american music producer ...</td>\n",
       "        <td style=\"padding-left: 1em; padding-right: 1em; text-align: center; vertical-align: top\">{&#x27;streamz&#x27;: 1.0,<br>&#x27;including&#x27;: 1.0, ...</td>\n",
       "    </tr>\n",
       "    <tr>\n",
       "        <td style=\"padding-left: 1em; padding-right: 1em; text-align: center; vertical-align: top\">&lt;http://dbpedia.org/resou<br>rce/Trevor_Ferguson&gt; ...</td>\n",
       "        <td style=\"padding-left: 1em; padding-right: 1em; text-align: center; vertical-align: top\">Trevor Ferguson</td>\n",
       "        <td style=\"padding-left: 1em; padding-right: 1em; text-align: center; vertical-align: top\">trevor ferguson aka john<br>farrow born 11 november ...</td>\n",
       "        <td style=\"padding-left: 1em; padding-right: 1em; text-align: center; vertical-align: top\">{&#x27;concordia&#x27;: 1.0,<br>&#x27;creative&#x27;: 1.0, ...</td>\n",
       "    </tr>\n",
       "    <tr>\n",
       "        <td style=\"padding-left: 1em; padding-right: 1em; text-align: center; vertical-align: top\">&lt;http://dbpedia.org/resou<br>rce/Grant_Nelson&gt; ...</td>\n",
       "        <td style=\"padding-left: 1em; padding-right: 1em; text-align: center; vertical-align: top\">Grant Nelson</td>\n",
       "        <td style=\"padding-left: 1em; padding-right: 1em; text-align: center; vertical-align: top\">grant nelson born 27<br>april 1971 in london  ...</td>\n",
       "        <td style=\"padding-left: 1em; padding-right: 1em; text-align: center; vertical-align: top\">{&#x27;heavies&#x27;: 1.0, &#x27;new&#x27;:<br>1.0, &#x27;brand&#x27;: 1.0, ...</td>\n",
       "    </tr>\n",
       "    <tr>\n",
       "        <td style=\"padding-left: 1em; padding-right: 1em; text-align: center; vertical-align: top\">&lt;http://dbpedia.org/resou<br>rce/Cathy_Caruth&gt; ...</td>\n",
       "        <td style=\"padding-left: 1em; padding-right: 1em; text-align: center; vertical-align: top\">Cathy Caruth</td>\n",
       "        <td style=\"padding-left: 1em; padding-right: 1em; text-align: center; vertical-align: top\">cathy caruth born 1955 is<br>frank h t rhodes ...</td>\n",
       "        <td style=\"padding-left: 1em; padding-right: 1em; text-align: center; vertical-align: top\">{&#x27;2002&#x27;: 1.0, &#x27;harvard&#x27;:<br>1.0, &#x27;twentieth&#x27;: 1.0, ...</td>\n",
       "    </tr>\n",
       "</table>\n",
       "[59071 rows x 4 columns]<br/>Note: Only the head of the SFrame is printed.<br/>You can use print_rows(num_rows=m, num_columns=n) to print more rows and columns.\n",
       "</div>"
      ],
      "text/plain": [
       "Columns:\n",
       "\tURI\tstr\n",
       "\tname\tstr\n",
       "\ttext\tstr\n",
       "\tword_count\tdict\n",
       "\n",
       "Rows: 59071\n",
       "\n",
       "Data:\n",
       "+-------------------------------+---------------------+\n",
       "|              URI              |         name        |\n",
       "+-------------------------------+---------------------+\n",
       "| <http://dbpedia.org/resour... |    Digby Morrell    |\n",
       "| <http://dbpedia.org/resour... |    Alfred J. Lewy   |\n",
       "| <http://dbpedia.org/resour... |    Harpdog Brown    |\n",
       "| <http://dbpedia.org/resour... | Franz Rottensteiner |\n",
       "| <http://dbpedia.org/resour... |        G-Enka       |\n",
       "| <http://dbpedia.org/resour... |    Sam Henderson    |\n",
       "| <http://dbpedia.org/resour... |    Aaron LaCrate    |\n",
       "| <http://dbpedia.org/resour... |   Trevor Ferguson   |\n",
       "| <http://dbpedia.org/resour... |     Grant Nelson    |\n",
       "| <http://dbpedia.org/resour... |     Cathy Caruth    |\n",
       "+-------------------------------+---------------------+\n",
       "+-------------------------------+-------------------------------+\n",
       "|              text             |           word_count          |\n",
       "+-------------------------------+-------------------------------+\n",
       "| digby morrell born 10 octo... | {'melbourne': 1.0, 'parade... |\n",
       "| alfred j lewy aka sandy le... | {'time': 1.0, 'each': 1.0,... |\n",
       "| harpdog brown is a singer ... | {'society': 1.0, 'hamilton... |\n",
       "| franz rottensteiner born i... | {'kurdlawitzpreis': 1.0, '... |\n",
       "| henry krvits born 30 decem... | {'curtis': 1.0, '2007': 1.... |\n",
       "| sam henderson born october... | {'asses': 1.0, 'sic': 1.0,... |\n",
       "| aaron lacrate is an americ... | {'streamz': 1.0, 'includin... |\n",
       "| trevor ferguson aka john f... | {'concordia': 1.0, 'creati... |\n",
       "| grant nelson born 27 april... | {'heavies': 1.0, 'new': 1.... |\n",
       "| cathy caruth born 1955 is ... | {'2002': 1.0, 'harvard': 1... |\n",
       "+-------------------------------+-------------------------------+\n",
       "[59071 rows x 4 columns]\n",
       "Note: Only the head of the SFrame is printed.\n",
       "You can use print_rows(num_rows=m, num_columns=n) to print more rows and columns."
      ]
     },
     "execution_count": 20,
     "metadata": {},
     "output_type": "execute_result"
    }
   ],
   "source": [
    "people"
   ]
  },
  {
   "cell_type": "code",
   "execution_count": 21,
   "metadata": {},
   "outputs": [],
   "source": [
    "people['tfidf'] = turicreate.text_analytics.tf_idf(people['text'])"
   ]
  },
  {
   "cell_type": "code",
   "execution_count": 22,
   "metadata": {},
   "outputs": [
    {
     "data": {
      "text/html": [
       "<div style=\"max-height:1000px;max-width:1500px;overflow:auto;\"><table frame=\"box\" rules=\"cols\">\n",
       "    <tr>\n",
       "        <th style=\"padding-left: 1em; padding-right: 1em; text-align: center\">URI</th>\n",
       "        <th style=\"padding-left: 1em; padding-right: 1em; text-align: center\">name</th>\n",
       "        <th style=\"padding-left: 1em; padding-right: 1em; text-align: center\">text</th>\n",
       "        <th style=\"padding-left: 1em; padding-right: 1em; text-align: center\">word_count</th>\n",
       "    </tr>\n",
       "    <tr>\n",
       "        <td style=\"padding-left: 1em; padding-right: 1em; text-align: center; vertical-align: top\">&lt;http://dbpedia.org/resou<br>rce/Digby_Morrell&gt; ...</td>\n",
       "        <td style=\"padding-left: 1em; padding-right: 1em; text-align: center; vertical-align: top\">Digby Morrell</td>\n",
       "        <td style=\"padding-left: 1em; padding-right: 1em; text-align: center; vertical-align: top\">digby morrell born 10<br>october 1979 is a former ...</td>\n",
       "        <td style=\"padding-left: 1em; padding-right: 1em; text-align: center; vertical-align: top\">{&#x27;melbourne&#x27;: 1.0,<br>&#x27;parade&#x27;: 1.0, ...</td>\n",
       "    </tr>\n",
       "    <tr>\n",
       "        <td style=\"padding-left: 1em; padding-right: 1em; text-align: center; vertical-align: top\">&lt;http://dbpedia.org/resou<br>rce/Alfred_J._Lewy&gt; ...</td>\n",
       "        <td style=\"padding-left: 1em; padding-right: 1em; text-align: center; vertical-align: top\">Alfred J. Lewy</td>\n",
       "        <td style=\"padding-left: 1em; padding-right: 1em; text-align: center; vertical-align: top\">alfred j lewy aka sandy<br>lewy graduated from ...</td>\n",
       "        <td style=\"padding-left: 1em; padding-right: 1em; text-align: center; vertical-align: top\">{&#x27;time&#x27;: 1.0, &#x27;each&#x27;:<br>1.0, &#x27;hour&#x27;: 1.0, ...</td>\n",
       "    </tr>\n",
       "    <tr>\n",
       "        <td style=\"padding-left: 1em; padding-right: 1em; text-align: center; vertical-align: top\">&lt;http://dbpedia.org/resou<br>rce/Harpdog_Brown&gt; ...</td>\n",
       "        <td style=\"padding-left: 1em; padding-right: 1em; text-align: center; vertical-align: top\">Harpdog Brown</td>\n",
       "        <td style=\"padding-left: 1em; padding-right: 1em; text-align: center; vertical-align: top\">harpdog brown is a singer<br>and harmonica player who ...</td>\n",
       "        <td style=\"padding-left: 1em; padding-right: 1em; text-align: center; vertical-align: top\">{&#x27;society&#x27;: 1.0,<br>&#x27;hamilton&#x27;: 1.0, &#x27;to&#x27;: ...</td>\n",
       "    </tr>\n",
       "    <tr>\n",
       "        <td style=\"padding-left: 1em; padding-right: 1em; text-align: center; vertical-align: top\">&lt;http://dbpedia.org/resou<br>rce/Franz_Rottensteiner&gt; ...</td>\n",
       "        <td style=\"padding-left: 1em; padding-right: 1em; text-align: center; vertical-align: top\">Franz Rottensteiner</td>\n",
       "        <td style=\"padding-left: 1em; padding-right: 1em; text-align: center; vertical-align: top\">franz rottensteiner born<br>in waidmannsfeld lower ...</td>\n",
       "        <td style=\"padding-left: 1em; padding-right: 1em; text-align: center; vertical-align: top\">{&#x27;kurdlawitzpreis&#x27;: 1.0,<br>&#x27;awarded&#x27;: 1.0, &#x27;2004&#x27;: ...</td>\n",
       "    </tr>\n",
       "    <tr>\n",
       "        <td style=\"padding-left: 1em; padding-right: 1em; text-align: center; vertical-align: top\">&lt;http://dbpedia.org/resou<br>rce/G-Enka&gt; ...</td>\n",
       "        <td style=\"padding-left: 1em; padding-right: 1em; text-align: center; vertical-align: top\">G-Enka</td>\n",
       "        <td style=\"padding-left: 1em; padding-right: 1em; text-align: center; vertical-align: top\">henry krvits born 30<br>december 1974 in tallinn ...</td>\n",
       "        <td style=\"padding-left: 1em; padding-right: 1em; text-align: center; vertical-align: top\">{&#x27;curtis&#x27;: 1.0, &#x27;2007&#x27;:<br>1.0, &#x27;cent&#x27;: 1.0, ...</td>\n",
       "    </tr>\n",
       "    <tr>\n",
       "        <td style=\"padding-left: 1em; padding-right: 1em; text-align: center; vertical-align: top\">&lt;http://dbpedia.org/resou<br>rce/Sam_Henderson&gt; ...</td>\n",
       "        <td style=\"padding-left: 1em; padding-right: 1em; text-align: center; vertical-align: top\">Sam Henderson</td>\n",
       "        <td style=\"padding-left: 1em; padding-right: 1em; text-align: center; vertical-align: top\">sam henderson born<br>october 18 1969 is an ...</td>\n",
       "        <td style=\"padding-left: 1em; padding-right: 1em; text-align: center; vertical-align: top\">{&#x27;asses&#x27;: 1.0, &#x27;sic&#x27;:<br>1.0, &#x27;toilets&#x27;: 1.0, ...</td>\n",
       "    </tr>\n",
       "    <tr>\n",
       "        <td style=\"padding-left: 1em; padding-right: 1em; text-align: center; vertical-align: top\">&lt;http://dbpedia.org/resou<br>rce/Aaron_LaCrate&gt; ...</td>\n",
       "        <td style=\"padding-left: 1em; padding-right: 1em; text-align: center; vertical-align: top\">Aaron LaCrate</td>\n",
       "        <td style=\"padding-left: 1em; padding-right: 1em; text-align: center; vertical-align: top\">aaron lacrate is an<br>american music producer ...</td>\n",
       "        <td style=\"padding-left: 1em; padding-right: 1em; text-align: center; vertical-align: top\">{&#x27;streamz&#x27;: 1.0,<br>&#x27;including&#x27;: 1.0, ...</td>\n",
       "    </tr>\n",
       "    <tr>\n",
       "        <td style=\"padding-left: 1em; padding-right: 1em; text-align: center; vertical-align: top\">&lt;http://dbpedia.org/resou<br>rce/Trevor_Ferguson&gt; ...</td>\n",
       "        <td style=\"padding-left: 1em; padding-right: 1em; text-align: center; vertical-align: top\">Trevor Ferguson</td>\n",
       "        <td style=\"padding-left: 1em; padding-right: 1em; text-align: center; vertical-align: top\">trevor ferguson aka john<br>farrow born 11 november ...</td>\n",
       "        <td style=\"padding-left: 1em; padding-right: 1em; text-align: center; vertical-align: top\">{&#x27;concordia&#x27;: 1.0,<br>&#x27;creative&#x27;: 1.0, ...</td>\n",
       "    </tr>\n",
       "    <tr>\n",
       "        <td style=\"padding-left: 1em; padding-right: 1em; text-align: center; vertical-align: top\">&lt;http://dbpedia.org/resou<br>rce/Grant_Nelson&gt; ...</td>\n",
       "        <td style=\"padding-left: 1em; padding-right: 1em; text-align: center; vertical-align: top\">Grant Nelson</td>\n",
       "        <td style=\"padding-left: 1em; padding-right: 1em; text-align: center; vertical-align: top\">grant nelson born 27<br>april 1971 in london  ...</td>\n",
       "        <td style=\"padding-left: 1em; padding-right: 1em; text-align: center; vertical-align: top\">{&#x27;heavies&#x27;: 1.0, &#x27;new&#x27;:<br>1.0, &#x27;brand&#x27;: 1.0, ...</td>\n",
       "    </tr>\n",
       "    <tr>\n",
       "        <td style=\"padding-left: 1em; padding-right: 1em; text-align: center; vertical-align: top\">&lt;http://dbpedia.org/resou<br>rce/Cathy_Caruth&gt; ...</td>\n",
       "        <td style=\"padding-left: 1em; padding-right: 1em; text-align: center; vertical-align: top\">Cathy Caruth</td>\n",
       "        <td style=\"padding-left: 1em; padding-right: 1em; text-align: center; vertical-align: top\">cathy caruth born 1955 is<br>frank h t rhodes ...</td>\n",
       "        <td style=\"padding-left: 1em; padding-right: 1em; text-align: center; vertical-align: top\">{&#x27;2002&#x27;: 1.0, &#x27;harvard&#x27;:<br>1.0, &#x27;twentieth&#x27;: 1.0, ...</td>\n",
       "    </tr>\n",
       "</table>\n",
       "<table frame=\"box\" rules=\"cols\">\n",
       "    <tr>\n",
       "        <th style=\"padding-left: 1em; padding-right: 1em; text-align: center\">tfidf</th>\n",
       "    </tr>\n",
       "    <tr>\n",
       "        <td style=\"padding-left: 1em; padding-right: 1em; text-align: center; vertical-align: top\">{&#x27;melbourne&#x27;:<br>3.8914310119380633, ...</td>\n",
       "    </tr>\n",
       "    <tr>\n",
       "        <td style=\"padding-left: 1em; padding-right: 1em; text-align: center; vertical-align: top\">{&#x27;time&#x27;:<br>1.3253342074200498, ...</td>\n",
       "    </tr>\n",
       "    <tr>\n",
       "        <td style=\"padding-left: 1em; padding-right: 1em; text-align: center; vertical-align: top\">{&#x27;society&#x27;:<br>2.4448047262085693, ...</td>\n",
       "    </tr>\n",
       "    <tr>\n",
       "        <td style=\"padding-left: 1em; padding-right: 1em; text-align: center; vertical-align: top\">{&#x27;kurdlawitzpreis&#x27;:<br>10.986495389225194, ...</td>\n",
       "    </tr>\n",
       "    <tr>\n",
       "        <td style=\"padding-left: 1em; padding-right: 1em; text-align: center; vertical-align: top\">{&#x27;curtis&#x27;:<br>5.299520032885375, ...</td>\n",
       "    </tr>\n",
       "    <tr>\n",
       "        <td style=\"padding-left: 1em; padding-right: 1em; text-align: center; vertical-align: top\">{&#x27;asses&#x27;:<br>9.600201028105303, &#x27;s ...</td>\n",
       "    </tr>\n",
       "    <tr>\n",
       "        <td style=\"padding-left: 1em; padding-right: 1em; text-align: center; vertical-align: top\">{&#x27;streamz&#x27;:<br>10.986495389225194, ...</td>\n",
       "    </tr>\n",
       "    <tr>\n",
       "        <td style=\"padding-left: 1em; padding-right: 1em; text-align: center; vertical-align: top\">{&#x27;concordia&#x27;:<br>6.250296940830698, ...</td>\n",
       "    </tr>\n",
       "    <tr>\n",
       "        <td style=\"padding-left: 1em; padding-right: 1em; text-align: center; vertical-align: top\">{&#x27;heavies&#x27;:<br>8.907053847545358, &#x27;n ...</td>\n",
       "    </tr>\n",
       "    <tr>\n",
       "        <td style=\"padding-left: 1em; padding-right: 1em; text-align: center; vertical-align: top\">{&#x27;2002&#x27;:<br>1.8753125887822302, ...</td>\n",
       "    </tr>\n",
       "</table>\n",
       "[59071 rows x 5 columns]<br/>Note: Only the head of the SFrame is printed.<br/>You can use print_rows(num_rows=m, num_columns=n) to print more rows and columns.\n",
       "</div>"
      ],
      "text/plain": [
       "Columns:\n",
       "\tURI\tstr\n",
       "\tname\tstr\n",
       "\ttext\tstr\n",
       "\tword_count\tdict\n",
       "\ttfidf\tdict\n",
       "\n",
       "Rows: 59071\n",
       "\n",
       "Data:\n",
       "+-------------------------------+---------------------+\n",
       "|              URI              |         name        |\n",
       "+-------------------------------+---------------------+\n",
       "| <http://dbpedia.org/resour... |    Digby Morrell    |\n",
       "| <http://dbpedia.org/resour... |    Alfred J. Lewy   |\n",
       "| <http://dbpedia.org/resour... |    Harpdog Brown    |\n",
       "| <http://dbpedia.org/resour... | Franz Rottensteiner |\n",
       "| <http://dbpedia.org/resour... |        G-Enka       |\n",
       "| <http://dbpedia.org/resour... |    Sam Henderson    |\n",
       "| <http://dbpedia.org/resour... |    Aaron LaCrate    |\n",
       "| <http://dbpedia.org/resour... |   Trevor Ferguson   |\n",
       "| <http://dbpedia.org/resour... |     Grant Nelson    |\n",
       "| <http://dbpedia.org/resour... |     Cathy Caruth    |\n",
       "+-------------------------------+---------------------+\n",
       "+-------------------------------+-------------------------------+\n",
       "|              text             |           word_count          |\n",
       "+-------------------------------+-------------------------------+\n",
       "| digby morrell born 10 octo... | {'melbourne': 1.0, 'parade... |\n",
       "| alfred j lewy aka sandy le... | {'time': 1.0, 'each': 1.0,... |\n",
       "| harpdog brown is a singer ... | {'society': 1.0, 'hamilton... |\n",
       "| franz rottensteiner born i... | {'kurdlawitzpreis': 1.0, '... |\n",
       "| henry krvits born 30 decem... | {'curtis': 1.0, '2007': 1.... |\n",
       "| sam henderson born october... | {'asses': 1.0, 'sic': 1.0,... |\n",
       "| aaron lacrate is an americ... | {'streamz': 1.0, 'includin... |\n",
       "| trevor ferguson aka john f... | {'concordia': 1.0, 'creati... |\n",
       "| grant nelson born 27 april... | {'heavies': 1.0, 'new': 1.... |\n",
       "| cathy caruth born 1955 is ... | {'2002': 1.0, 'harvard': 1... |\n",
       "+-------------------------------+-------------------------------+\n",
       "+-------------------------------+\n",
       "|             tfidf             |\n",
       "+-------------------------------+\n",
       "| {'melbourne': 3.8914310119... |\n",
       "| {'time': 1.325334207420049... |\n",
       "| {'society': 2.444804726208... |\n",
       "| {'kurdlawitzpreis': 10.986... |\n",
       "| {'curtis': 5.2995200328853... |\n",
       "| {'asses': 9.60020102810530... |\n",
       "| {'streamz': 10.98649538922... |\n",
       "| {'concordia': 6.2502969408... |\n",
       "| {'heavies': 8.907053847545... |\n",
       "| {'2002': 1.875312588782230... |\n",
       "+-------------------------------+\n",
       "[59071 rows x 5 columns]\n",
       "Note: Only the head of the SFrame is printed.\n",
       "You can use print_rows(num_rows=m, num_columns=n) to print more rows and columns."
      ]
     },
     "execution_count": 22,
     "metadata": {},
     "output_type": "execute_result"
    }
   ],
   "source": [
    "people"
   ]
  },
  {
   "cell_type": "markdown",
   "metadata": {},
   "source": [
    "# Examine the TF-IDF for the Obama article"
   ]
  },
  {
   "cell_type": "code",
   "execution_count": 24,
   "metadata": {},
   "outputs": [
    {
     "data": {
      "text/html": [
       "<div style=\"max-height:1000px;max-width:1500px;overflow:auto;\"><table frame=\"box\" rules=\"cols\">\n",
       "    <tr>\n",
       "        <th style=\"padding-left: 1em; padding-right: 1em; text-align: center\">word</th>\n",
       "        <th style=\"padding-left: 1em; padding-right: 1em; text-align: center\">tfidf</th>\n",
       "    </tr>\n",
       "    <tr>\n",
       "        <td style=\"padding-left: 1em; padding-right: 1em; text-align: center; vertical-align: top\">obama</td>\n",
       "        <td style=\"padding-left: 1em; padding-right: 1em; text-align: center; vertical-align: top\">43.2956530720749</td>\n",
       "    </tr>\n",
       "    <tr>\n",
       "        <td style=\"padding-left: 1em; padding-right: 1em; text-align: center; vertical-align: top\">act</td>\n",
       "        <td style=\"padding-left: 1em; padding-right: 1em; text-align: center; vertical-align: top\">27.67822262297991</td>\n",
       "    </tr>\n",
       "    <tr>\n",
       "        <td style=\"padding-left: 1em; padding-right: 1em; text-align: center; vertical-align: top\">iraq</td>\n",
       "        <td style=\"padding-left: 1em; padding-right: 1em; text-align: center; vertical-align: top\">17.747378587965535</td>\n",
       "    </tr>\n",
       "    <tr>\n",
       "        <td style=\"padding-left: 1em; padding-right: 1em; text-align: center; vertical-align: top\">control</td>\n",
       "        <td style=\"padding-left: 1em; padding-right: 1em; text-align: center; vertical-align: top\">14.887060845181308</td>\n",
       "    </tr>\n",
       "    <tr>\n",
       "        <td style=\"padding-left: 1em; padding-right: 1em; text-align: center; vertical-align: top\">law</td>\n",
       "        <td style=\"padding-left: 1em; padding-right: 1em; text-align: center; vertical-align: top\">14.722935761763422</td>\n",
       "    </tr>\n",
       "    <tr>\n",
       "        <td style=\"padding-left: 1em; padding-right: 1em; text-align: center; vertical-align: top\">ordered</td>\n",
       "        <td style=\"padding-left: 1em; padding-right: 1em; text-align: center; vertical-align: top\">14.533373950913514</td>\n",
       "    </tr>\n",
       "    <tr>\n",
       "        <td style=\"padding-left: 1em; padding-right: 1em; text-align: center; vertical-align: top\">military</td>\n",
       "        <td style=\"padding-left: 1em; padding-right: 1em; text-align: center; vertical-align: top\">13.115932778499415</td>\n",
       "    </tr>\n",
       "    <tr>\n",
       "        <td style=\"padding-left: 1em; padding-right: 1em; text-align: center; vertical-align: top\">involvement</td>\n",
       "        <td style=\"padding-left: 1em; padding-right: 1em; text-align: center; vertical-align: top\">12.784385241175055</td>\n",
       "    </tr>\n",
       "    <tr>\n",
       "        <td style=\"padding-left: 1em; padding-right: 1em; text-align: center; vertical-align: top\">response</td>\n",
       "        <td style=\"padding-left: 1em; padding-right: 1em; text-align: center; vertical-align: top\">12.784385241175055</td>\n",
       "    </tr>\n",
       "    <tr>\n",
       "        <td style=\"padding-left: 1em; padding-right: 1em; text-align: center; vertical-align: top\">democratic</td>\n",
       "        <td style=\"padding-left: 1em; padding-right: 1em; text-align: center; vertical-align: top\">12.410688697332166</td>\n",
       "    </tr>\n",
       "</table>\n",
       "[273 rows x 2 columns]<br/>Note: Only the head of the SFrame is printed.<br/>You can use print_rows(num_rows=m, num_columns=n) to print more rows and columns.\n",
       "</div>"
      ],
      "text/plain": [
       "Columns:\n",
       "\tword\tstr\n",
       "\ttfidf\tfloat\n",
       "\n",
       "Rows: 273\n",
       "\n",
       "Data:\n",
       "+-------------+--------------------+\n",
       "|     word    |       tfidf        |\n",
       "+-------------+--------------------+\n",
       "|    obama    |  43.2956530720749  |\n",
       "|     act     | 27.67822262297991  |\n",
       "|     iraq    | 17.747378587965535 |\n",
       "|   control   | 14.887060845181308 |\n",
       "|     law     | 14.722935761763422 |\n",
       "|   ordered   | 14.533373950913514 |\n",
       "|   military  | 13.115932778499415 |\n",
       "| involvement | 12.784385241175055 |\n",
       "|   response  | 12.784385241175055 |\n",
       "|  democratic | 12.410688697332166 |\n",
       "+-------------+--------------------+\n",
       "[273 rows x 2 columns]\n",
       "Note: Only the head of the SFrame is printed.\n",
       "You can use print_rows(num_rows=m, num_columns=n) to print more rows and columns."
      ]
     },
     "execution_count": 24,
     "metadata": {},
     "output_type": "execute_result"
    }
   ],
   "source": [
    "obama = people[people['name']=='Barack Obama']\n",
    "obama[['tfidf']].stack('tfidf',new_column_name=['word','tfidf']).sort('tfidf',ascending=False)"
   ]
  },
  {
   "cell_type": "markdown",
   "metadata": {},
   "source": [
    "# Examine the TF-IDF for clooney"
   ]
  },
  {
   "cell_type": "code",
   "execution_count": 25,
   "metadata": {},
   "outputs": [
    {
     "data": {
      "text/html": [
       "<div style=\"max-height:1000px;max-width:1500px;overflow:auto;\"><table frame=\"box\" rules=\"cols\">\n",
       "    <tr>\n",
       "        <th style=\"padding-left: 1em; padding-right: 1em; text-align: center\">word</th>\n",
       "        <th style=\"padding-left: 1em; padding-right: 1em; text-align: center\">tfidf</th>\n",
       "    </tr>\n",
       "    <tr>\n",
       "        <td style=\"padding-left: 1em; padding-right: 1em; text-align: center; vertical-align: top\">clooney</td>\n",
       "        <td style=\"padding-left: 1em; padding-right: 1em; text-align: center; vertical-align: top\">30.47679823695488</td>\n",
       "    </tr>\n",
       "    <tr>\n",
       "        <td style=\"padding-left: 1em; padding-right: 1em; text-align: center; vertical-align: top\">thriller</td>\n",
       "        <td style=\"padding-left: 1em; padding-right: 1em; text-align: center; vertical-align: top\">19.64459743254604</td>\n",
       "    </tr>\n",
       "    <tr>\n",
       "        <td style=\"padding-left: 1em; padding-right: 1em; text-align: center; vertical-align: top\">drama</td>\n",
       "        <td style=\"padding-left: 1em; padding-right: 1em; text-align: center; vertical-align: top\">13.544372218899177</td>\n",
       "    </tr>\n",
       "    <tr>\n",
       "        <td style=\"padding-left: 1em; padding-right: 1em; text-align: center; vertical-align: top\">comedydrama</td>\n",
       "        <td style=\"padding-left: 1em; padding-right: 1em; text-align: center; vertical-align: top\">12.973371437789858</td>\n",
       "    </tr>\n",
       "    <tr>\n",
       "        <td style=\"padding-left: 1em; padding-right: 1em; text-align: center; vertical-align: top\">er</td>\n",
       "        <td style=\"padding-left: 1em; padding-right: 1em; text-align: center; vertical-align: top\">12.782751078181208</td>\n",
       "    </tr>\n",
       "    <tr>\n",
       "        <td style=\"padding-left: 1em; padding-right: 1em; text-align: center; vertical-align: top\">actor</td>\n",
       "        <td style=\"padding-left: 1em; padding-right: 1em; text-align: center; vertical-align: top\">11.832160900443771</td>\n",
       "    </tr>\n",
       "    <tr>\n",
       "        <td style=\"padding-left: 1em; padding-right: 1em; text-align: center; vertical-align: top\">categoriesclooney</td>\n",
       "        <td style=\"padding-left: 1em; padding-right: 1em; text-align: center; vertical-align: top\">10.986495389225194</td>\n",
       "    </tr>\n",
       "    <tr>\n",
       "        <td style=\"padding-left: 1em; padding-right: 1em; text-align: center; vertical-align: top\">heslov</td>\n",
       "        <td style=\"padding-left: 1em; padding-right: 1em; text-align: center; vertical-align: top\">10.986495389225194</td>\n",
       "    </tr>\n",
       "    <tr>\n",
       "        <td style=\"padding-left: 1em; padding-right: 1em; text-align: center; vertical-align: top\">producingclooney</td>\n",
       "        <td style=\"padding-left: 1em; padding-right: 1em; text-align: center; vertical-align: top\">10.986495389225194</td>\n",
       "    </tr>\n",
       "    <tr>\n",
       "        <td style=\"padding-left: 1em; padding-right: 1em; text-align: center; vertical-align: top\">comedy</td>\n",
       "        <td style=\"padding-left: 1em; padding-right: 1em; text-align: center; vertical-align: top\">10.481205264908446</td>\n",
       "    </tr>\n",
       "</table>\n",
       "[239 rows x 2 columns]<br/>Note: Only the head of the SFrame is printed.<br/>You can use print_rows(num_rows=m, num_columns=n) to print more rows and columns.\n",
       "</div>"
      ],
      "text/plain": [
       "Columns:\n",
       "\tword\tstr\n",
       "\ttfidf\tfloat\n",
       "\n",
       "Rows: 239\n",
       "\n",
       "Data:\n",
       "+-------------------+--------------------+\n",
       "|        word       |       tfidf        |\n",
       "+-------------------+--------------------+\n",
       "|      clooney      | 30.47679823695488  |\n",
       "|      thriller     | 19.64459743254604  |\n",
       "|       drama       | 13.544372218899177 |\n",
       "|    comedydrama    | 12.973371437789858 |\n",
       "|         er        | 12.782751078181208 |\n",
       "|       actor       | 11.832160900443771 |\n",
       "| categoriesclooney | 10.986495389225194 |\n",
       "|       heslov      | 10.986495389225194 |\n",
       "|  producingclooney | 10.986495389225194 |\n",
       "|       comedy      | 10.481205264908446 |\n",
       "+-------------------+--------------------+\n",
       "[239 rows x 2 columns]\n",
       "Note: Only the head of the SFrame is printed.\n",
       "You can use print_rows(num_rows=m, num_columns=n) to print more rows and columns."
      ]
     },
     "execution_count": 25,
     "metadata": {},
     "output_type": "execute_result"
    }
   ],
   "source": [
    "clooney = people[people['name']=='George Clooney']\n",
    "clooney[['tfidf']].stack('tfidf',new_column_name=['word','tfidf']).sort('tfidf',ascending = False)"
   ]
  },
  {
   "cell_type": "markdown",
   "metadata": {},
   "source": [
    "# Manually evaluate the distance between certain people's articles "
   ]
  },
  {
   "cell_type": "code",
   "execution_count": 32,
   "metadata": {},
   "outputs": [],
   "source": [
    "clinton = people[people['name']== 'Bill Clinton']\n",
    "beckham = people[people['name']== 'David Beckham']"
   ]
  },
  {
   "cell_type": "markdown",
   "metadata": {},
   "source": [
    "# Is Obama closer to Clinton or to Beckham"
   ]
  },
  {
   "cell_type": "code",
   "execution_count": 29,
   "metadata": {
    "collapsed": true
   },
   "outputs": [
    {
     "data": {
      "text/plain": [
       "{'normalize': 10.293348208665249,\n",
       " 'sought': 4.327201469541557,\n",
       " 'combat': 4.932056042955824,\n",
       " 'continued': 2.720588055069447,\n",
       " 'unconstitutional': 6.8276123058655225,\n",
       " '8': 2.7572509724892824,\n",
       " 'californias': 5.923900356198227,\n",
       " '1996': 2.135691193468776,\n",
       " 'marriage': 4.115404094614648,\n",
       " 'defense': 3.794313330511949,\n",
       " 'down': 2.9476606314374463,\n",
       " 'proposition': 6.926052378678775,\n",
       " 'court': 2.896399606044235,\n",
       " 'supreme': 3.9140734886878232,\n",
       " 'urged': 6.199003646443148,\n",
       " 'which': 0.7674309670437692,\n",
       " 'briefs': 7.460134864609033,\n",
       " 'administration': 3.2952952917023315,\n",
       " 'while': 1.8364359481339414,\n",
       " 'americans': 4.761936959949835,\n",
       " 'called': 2.0784770664403074,\n",
       " 'cuba': 5.005081177970713,\n",
       " 'gun': 5.269467687818973,\n",
       " 'related': 3.723866788250953,\n",
       " 'policies': 4.660345916070095,\n",
       " 'promoted': 3.5191243223076345,\n",
       " '2013': 1.9545642372230505,\n",
       " 'second': 3.344851662973069,\n",
       " 'romney': 6.843360662833661,\n",
       " 'filed': 4.70797396505935,\n",
       " '2012': 1.7938099524877322,\n",
       " 'reelected': 3.68265216394749,\n",
       " 'taxpayer': 7.431147327735781,\n",
       " 'budget': 4.523465932304524,\n",
       " 'nations': 3.361876403065796,\n",
       " 'raise': 4.67476058007228,\n",
       " 'spending': 4.176352939110058,\n",
       " 'over': 1.4878231559557336,\n",
       " 'lengthy': 5.862531409821935,\n",
       " 'gains': 6.7238155121838785,\n",
       " 'seats': 5.000043383940756,\n",
       " '63': 5.22130428644035,\n",
       " 'total': 3.2767385247710297,\n",
       " 'lost': 2.731706463076469,\n",
       " 'regained': 5.583818007352915,\n",
       " 'republicans': 5.592867842872833,\n",
       " 'whether': 4.744272123770029,\n",
       " 'close': 3.5416621153330006,\n",
       " 'patient': 5.6393878585077255,\n",
       " 'by': 0.37455341206197373,\n",
       " 'sandy': 5.493433945884646,\n",
       " 'after': 3.7773337680052257,\n",
       " 'presidential': 7.386955418904825,\n",
       " 'november': 3.9453132752336004,\n",
       " 'obama': 43.2956530720749,\n",
       " 'election': 7.712676160711769,\n",
       " 'august': 2.000173951599175,\n",
       " 'mccain': 6.766987684049088,\n",
       " 'primary': 6.710127449296579,\n",
       " 'he': 1.493579903611068,\n",
       " 'united': 4.703766236011668,\n",
       " 'with': 0.6074059275661821,\n",
       " 'current': 2.8308461188591933,\n",
       " 'campaign': 9.077468342511231,\n",
       " 'degree': 2.0206498944742566,\n",
       " 'obamacare': 9.04058524016988,\n",
       " 'convention': 4.417013968810898,\n",
       " 'house': 4.651096468328522,\n",
       " 'during': 2.634930295807099,\n",
       " 'victory': 3.384593429350028,\n",
       " 'worked': 1.553891853362109,\n",
       " 'troop': 7.248825770941826,\n",
       " 'senate': 10.164288179703693,\n",
       " 'islamic': 4.785986215182504,\n",
       " 'law': 14.722935761763422,\n",
       " 'district': 2.774469584601757,\n",
       " '13th': 4.9534091674263925,\n",
       " 'national': 2.3721863295447827,\n",
       " 'sworn': 4.96062941539988,\n",
       " 'representing': 3.535253704237518,\n",
       " 'democratic': 12.410688697332166,\n",
       " '20': 4.88376320446593,\n",
       " 'that': 0.6614069466714981,\n",
       " 'process': 3.7451291059028766,\n",
       " 'the': 0.004063113702956533,\n",
       " '1961': 3.3207419573634955,\n",
       " '2004': 5.071033082507702,\n",
       " 'debate': 4.783959872037272,\n",
       " 'from': 0.8812660139569034,\n",
       " 'three': 1.4915025293575952,\n",
       " 'into': 1.6050629424066056,\n",
       " 'at': 0.43063857330825733,\n",
       " 'is': 0.05523250095103998,\n",
       " 'rights': 3.06677562830062,\n",
       " 'withdrawal': 6.27696518791286,\n",
       " 'often': 2.862641126119281,\n",
       " 'attorney': 3.6593720969659014,\n",
       " 'civil': 3.3244978303233013,\n",
       " 'taught': 2.8485149347730556,\n",
       " 'represent': 4.184100625900883,\n",
       " 'january': 5.656236009557883,\n",
       " 'laureateduring': 10.986495389225194,\n",
       " 'running': 3.3516747114796512,\n",
       " 'unsuccessfully': 4.831637295208776,\n",
       " 'president': 7.226869291326606,\n",
       " 'july': 1.9428000946579587,\n",
       " 'and': 0.01564802185902329,\n",
       " 'arms': 5.030658019760364,\n",
       " 'hussein': 6.126682984863522,\n",
       " '2010': 3.185667920243947,\n",
       " 'african': 3.582216271187926,\n",
       " 'operations': 3.811771079388818,\n",
       " 'two': 1.0988831858473562,\n",
       " 'won': 1.3836400683164753,\n",
       " 'has': 1.713990158976156,\n",
       " 'representatives': 7.484535747243688,\n",
       " '44th': 7.0744723837970485,\n",
       " 'his': 2.8887260073502303,\n",
       " 'first': 2.0868146141979307,\n",
       " 'death': 3.1568650000750016,\n",
       " 'received': 1.5396609815666638,\n",
       " '1997': 2.1298344522079455,\n",
       " 'us': 11.591942692842837,\n",
       " '2012obama': 10.986495389225194,\n",
       " 'limit': 5.355283607403829,\n",
       " 'barack': 5.067601534952048,\n",
       " '2007': 1.4879730697555795,\n",
       " 'receive': 4.448355565457525,\n",
       " 'elementary': 4.96062941539988,\n",
       " 'brk': 10.293348208665249,\n",
       " 'born': 0.53639254752953,\n",
       " 'shooting': 4.682046586803213,\n",
       " 'mitt': 6.812108119329557,\n",
       " 'consumer': 4.7540473726746715,\n",
       " 'earning': 3.857197840295821,\n",
       " 'initiatives': 4.895185507147496,\n",
       " '1992': 2.278351314316948,\n",
       " 'constitutional': 4.529725733653031,\n",
       " 'where': 1.089076212090673,\n",
       " 'organizer': 5.501698455734539,\n",
       " 'debt': 5.6158573610975315,\n",
       " 'american': 3.3821333532750204,\n",
       " 'was': 0.3968289280609173,\n",
       " 'named': 2.0300155412252816,\n",
       " 'prize': 2.7453192387302345,\n",
       " 'office': 5.2481728232196465,\n",
       " 'school': 3.6683618376520553,\n",
       " 'bm': 7.202305755306933,\n",
       " 'honolulu': 5.880549915324614,\n",
       " 'hawaii': 4.806478735572622,\n",
       " 'as': 0.7630171320744707,\n",
       " 'hold': 4.144879912747602,\n",
       " 'nominee': 9.43101391473379,\n",
       " 'a': 0.039334291308082026,\n",
       " 'party': 7.0620334604226676,\n",
       " 'reform': 4.092839034622559,\n",
       " 'columbia': 3.232442750189437,\n",
       " 'years': 1.0752380994247055,\n",
       " 'for': 0.29145011737314763,\n",
       " 'john': 1.9913303989140443,\n",
       " 'ending': 4.547145018125096,\n",
       " 'served': 3.0725446998610506,\n",
       " 'began': 1.727460095710253,\n",
       " 'husen': 10.986495389225194,\n",
       " '2011': 5.107041270312876,\n",
       " 'lgbt': 5.5883326877074415,\n",
       " 'against': 2.0079609791418744,\n",
       " 'job': 3.446936559924164,\n",
       " 'in': 0.028962190503643476,\n",
       " 'illinois': 7.480254618245467,\n",
       " 'hook': 6.2951475069960505,\n",
       " 'harvard': 6.634000276435001,\n",
       " 'months': 3.0427126967665687,\n",
       " 'community': 2.693196030513871,\n",
       " 'term': 9.319341564760851,\n",
       " 'nobel': 5.075698745184667,\n",
       " 'defeating': 4.285764279677384,\n",
       " '4': 2.437803530749586,\n",
       " 'chicago': 5.858235801334405,\n",
       " 'before': 1.4967823726683713,\n",
       " 'foreign': 6.3816977057812005,\n",
       " 'hillary': 6.002888767516858,\n",
       " 'unemployment': 6.642689967371511,\n",
       " 'to': 0.6572291275451891,\n",
       " 'rodham': 7.690658523220865,\n",
       " 'clinton': 4.542364132524754,\n",
       " 'libya': 6.332535039067671,\n",
       " '2008': 1.5093391374786154,\n",
       " 'relations': 3.445873860568042,\n",
       " 'sufficient': 6.432618497624653,\n",
       " 'delegates': 6.142308302766603,\n",
       " 'primaries': 6.669007275688884,\n",
       " 'repeal': 7.297615935111258,\n",
       " 'new': 0.8871532656125274,\n",
       " 'nomination': 3.7697859025157365,\n",
       " '2009': 4.693309450812809,\n",
       " 'form': 3.233730580373866,\n",
       " 'made': 1.519886215502974,\n",
       " 'peace': 3.7928095708300824,\n",
       " 'defeated': 3.4068165661347387,\n",
       " 'military': 13.115932778499415,\n",
       " 'republican': 7.207497878972565,\n",
       " 'doddfrank': 9.887883100557085,\n",
       " 'address': 4.8023464982877115,\n",
       " 'general': 2.220724845237937,\n",
       " 'inaugurated': 6.27696518791286,\n",
       " 'on': 0.36882550670120073,\n",
       " 'nine': 3.2624907325491286,\n",
       " 'signed': 7.552957376250012,\n",
       " 'ii': 3.3077063910260405,\n",
       " 'economic': 3.2704801225826072,\n",
       " 'included': 2.4446095852185854,\n",
       " 'levels': 4.647901311022012,\n",
       " 'review': 3.227734845067532,\n",
       " 'legislation': 4.687546142369252,\n",
       " 'ask': 5.510031837293684,\n",
       " 'resulted': 4.015765311081669,\n",
       " 'graduate': 2.6750971107885535,\n",
       " 'response': 12.784385241175055,\n",
       " 'great': 2.7682474625394486,\n",
       " 'full': 3.003055326218652,\n",
       " 'recession': 6.642689967371511,\n",
       " '2000in': 6.250296940830698,\n",
       " 'recovery': 5.103173000736915,\n",
       " 'reinvestment': 8.421546031763658,\n",
       " 'act': 27.67822262297991,\n",
       " 'tax': 4.545548848592274,\n",
       " 'relief': 8.842460838379667,\n",
       " 'major': 2.0581201293715634,\n",
       " 'affordable': 6.134465125305577,\n",
       " 'reauthorization': 8.907053847545358,\n",
       " 'insurance': 4.594578275832593,\n",
       " 'creation': 4.03568062078261,\n",
       " 'state': 1.7090572737165175,\n",
       " 'attention': 3.4269358932174945,\n",
       " 'keynote': 5.433535804303577,\n",
       " 'other': 1.4424007566948476,\n",
       " 'domestic': 8.967410686619141,\n",
       " 'equality': 5.341048491581956,\n",
       " 'of': 0.07481117158400744,\n",
       " 'protection': 8.698474715881474,\n",
       " 'march': 1.9573172463231197,\n",
       " 'start': 3.281232914358869,\n",
       " 'care': 3.916621260766622,\n",
       " 'afghanistan': 9.4197037997671,\n",
       " 'university': 1.6946860096423695,\n",
       " 'laden': 6.709829270209139,\n",
       " 'russia': 4.025199343315028,\n",
       " 'wall': 4.021415043623787,\n",
       " 'referred': 4.255477288743111,\n",
       " 'street': 3.250188292676909,\n",
       " 'then': 1.4309354361561304,\n",
       " 'dont': 8.28123102792229,\n",
       " 'tell': 4.804410482508563,\n",
       " 'policy': 6.095386282141427,\n",
       " 'ended': 3.3430124821479934,\n",
       " 'involvement': 12.784385241175055,\n",
       " 'federal': 3.0888272384982884,\n",
       " 'iraq': 17.747378587965535,\n",
       " 'terms': 3.8240978918694766,\n",
       " 'war': 2.809822617276739,\n",
       " 'or': 1.9128915408224825,\n",
       " 'treaty': 5.89889905399281,\n",
       " 'strike': 5.025490049601921,\n",
       " 'not': 1.5880170751336171,\n",
       " 'increased': 4.75012579902149,\n",
       " 'control': 14.887060845181308,\n",
       " 'ordered': 14.533373950913514,\n",
       " 'states': 5.473200989631017,\n",
       " 'operation': 4.3584540130456615,\n",
       " 'osama': 6.604468754551313,\n",
       " 'stimulus': 7.654290879049991,\n",
       " 'bin': 5.6158573610975315}"
      ]
     },
     "execution_count": 29,
     "metadata": {},
     "output_type": "execute_result"
    }
   ],
   "source": [
    "obama['tfidf'][0]"
   ]
  },
  {
   "cell_type": "code",
   "execution_count": 30,
   "metadata": {},
   "outputs": [
    {
     "data": {
      "text/plain": [
       "0.8339854936884277"
      ]
     },
     "execution_count": 30,
     "metadata": {},
     "output_type": "execute_result"
    }
   ],
   "source": [
    "turicreate.distances.cosine(obama['tfidf'][0],clinton['tfidf'][0])"
   ]
  },
  {
   "cell_type": "code",
   "execution_count": 33,
   "metadata": {},
   "outputs": [
    {
     "data": {
      "text/plain": [
       "0.9791305844747478"
      ]
     },
     "execution_count": 33,
     "metadata": {},
     "output_type": "execute_result"
    }
   ],
   "source": [
    "turicreate.distances.cosine(obama['tfidf'][0],beckham['tfidf'][0])"
   ]
  },
  {
   "cell_type": "markdown",
   "metadata": {},
   "source": [
    "# Apply nearest neighbors for retrieval of Wikipedia articles"
   ]
  },
  {
   "cell_type": "markdown",
   "metadata": {},
   "source": [
    "## Build the NN model"
   ]
  },
  {
   "cell_type": "code",
   "execution_count": 34,
   "metadata": {},
   "outputs": [
    {
     "data": {
      "text/html": [
       "<pre>Starting brute force nearest neighbors model training.</pre>"
      ],
      "text/plain": [
       "Starting brute force nearest neighbors model training."
      ]
     },
     "metadata": {},
     "output_type": "display_data"
    },
    {
     "data": {
      "text/html": [
       "<pre>Validating distance components.</pre>"
      ],
      "text/plain": [
       "Validating distance components."
      ]
     },
     "metadata": {},
     "output_type": "display_data"
    },
    {
     "data": {
      "text/html": [
       "<pre>Initializing model data.</pre>"
      ],
      "text/plain": [
       "Initializing model data."
      ]
     },
     "metadata": {},
     "output_type": "display_data"
    },
    {
     "data": {
      "text/html": [
       "<pre>Initializing distances.</pre>"
      ],
      "text/plain": [
       "Initializing distances."
      ]
     },
     "metadata": {},
     "output_type": "display_data"
    },
    {
     "data": {
      "text/html": [
       "<pre>Done.</pre>"
      ],
      "text/plain": [
       "Done."
      ]
     },
     "metadata": {},
     "output_type": "display_data"
    }
   ],
   "source": [
    "knn_model = turicreate.nearest_neighbors.create(people,features=['tfidf'],label='name')"
   ]
  },
  {
   "cell_type": "code",
   "execution_count": 35,
   "metadata": {},
   "outputs": [
    {
     "data": {
      "text/html": [
       "<pre>Starting pairwise querying.</pre>"
      ],
      "text/plain": [
       "Starting pairwise querying."
      ]
     },
     "metadata": {},
     "output_type": "display_data"
    },
    {
     "data": {
      "text/html": [
       "<pre>+--------------+---------+-------------+--------------+</pre>"
      ],
      "text/plain": [
       "+--------------+---------+-------------+--------------+"
      ]
     },
     "metadata": {},
     "output_type": "display_data"
    },
    {
     "data": {
      "text/html": [
       "<pre>| Query points | # Pairs | % Complete. | Elapsed Time |</pre>"
      ],
      "text/plain": [
       "| Query points | # Pairs | % Complete. | Elapsed Time |"
      ]
     },
     "metadata": {},
     "output_type": "display_data"
    },
    {
     "data": {
      "text/html": [
       "<pre>+--------------+---------+-------------+--------------+</pre>"
      ],
      "text/plain": [
       "+--------------+---------+-------------+--------------+"
      ]
     },
     "metadata": {},
     "output_type": "display_data"
    },
    {
     "data": {
      "text/html": [
       "<pre>| 0            | 1       | 0.00169288  | 12.03ms      |</pre>"
      ],
      "text/plain": [
       "| 0            | 1       | 0.00169288  | 12.03ms      |"
      ]
     },
     "metadata": {},
     "output_type": "display_data"
    },
    {
     "data": {
      "text/html": [
       "<pre>| Done         |         | 100         | 137.378ms    |</pre>"
      ],
      "text/plain": [
       "| Done         |         | 100         | 137.378ms    |"
      ]
     },
     "metadata": {},
     "output_type": "display_data"
    },
    {
     "data": {
      "text/html": [
       "<pre>+--------------+---------+-------------+--------------+</pre>"
      ],
      "text/plain": [
       "+--------------+---------+-------------+--------------+"
      ]
     },
     "metadata": {},
     "output_type": "display_data"
    },
    {
     "data": {
      "text/html": [
       "<div style=\"max-height:1000px;max-width:1500px;overflow:auto;\"><table frame=\"box\" rules=\"cols\">\n",
       "    <tr>\n",
       "        <th style=\"padding-left: 1em; padding-right: 1em; text-align: center\">query_label</th>\n",
       "        <th style=\"padding-left: 1em; padding-right: 1em; text-align: center\">reference_label</th>\n",
       "        <th style=\"padding-left: 1em; padding-right: 1em; text-align: center\">distance</th>\n",
       "        <th style=\"padding-left: 1em; padding-right: 1em; text-align: center\">rank</th>\n",
       "    </tr>\n",
       "    <tr>\n",
       "        <td style=\"padding-left: 1em; padding-right: 1em; text-align: center; vertical-align: top\">0</td>\n",
       "        <td style=\"padding-left: 1em; padding-right: 1em; text-align: center; vertical-align: top\">Barack Obama</td>\n",
       "        <td style=\"padding-left: 1em; padding-right: 1em; text-align: center; vertical-align: top\">0.0</td>\n",
       "        <td style=\"padding-left: 1em; padding-right: 1em; text-align: center; vertical-align: top\">1</td>\n",
       "    </tr>\n",
       "    <tr>\n",
       "        <td style=\"padding-left: 1em; padding-right: 1em; text-align: center; vertical-align: top\">0</td>\n",
       "        <td style=\"padding-left: 1em; padding-right: 1em; text-align: center; vertical-align: top\">Joe Biden</td>\n",
       "        <td style=\"padding-left: 1em; padding-right: 1em; text-align: center; vertical-align: top\">0.7941176470588236</td>\n",
       "        <td style=\"padding-left: 1em; padding-right: 1em; text-align: center; vertical-align: top\">2</td>\n",
       "    </tr>\n",
       "    <tr>\n",
       "        <td style=\"padding-left: 1em; padding-right: 1em; text-align: center; vertical-align: top\">0</td>\n",
       "        <td style=\"padding-left: 1em; padding-right: 1em; text-align: center; vertical-align: top\">Joe Lieberman</td>\n",
       "        <td style=\"padding-left: 1em; padding-right: 1em; text-align: center; vertical-align: top\">0.7946859903381642</td>\n",
       "        <td style=\"padding-left: 1em; padding-right: 1em; text-align: center; vertical-align: top\">3</td>\n",
       "    </tr>\n",
       "    <tr>\n",
       "        <td style=\"padding-left: 1em; padding-right: 1em; text-align: center; vertical-align: top\">0</td>\n",
       "        <td style=\"padding-left: 1em; padding-right: 1em; text-align: center; vertical-align: top\">Kelly Ayotte</td>\n",
       "        <td style=\"padding-left: 1em; padding-right: 1em; text-align: center; vertical-align: top\">0.8119891008174387</td>\n",
       "        <td style=\"padding-left: 1em; padding-right: 1em; text-align: center; vertical-align: top\">4</td>\n",
       "    </tr>\n",
       "    <tr>\n",
       "        <td style=\"padding-left: 1em; padding-right: 1em; text-align: center; vertical-align: top\">0</td>\n",
       "        <td style=\"padding-left: 1em; padding-right: 1em; text-align: center; vertical-align: top\">Bill Clinton</td>\n",
       "        <td style=\"padding-left: 1em; padding-right: 1em; text-align: center; vertical-align: top\">0.8138528138528138</td>\n",
       "        <td style=\"padding-left: 1em; padding-right: 1em; text-align: center; vertical-align: top\">5</td>\n",
       "    </tr>\n",
       "</table>\n",
       "[5 rows x 4 columns]<br/>\n",
       "</div>"
      ],
      "text/plain": [
       "Columns:\n",
       "\tquery_label\tint\n",
       "\treference_label\tstr\n",
       "\tdistance\tfloat\n",
       "\trank\tint\n",
       "\n",
       "Rows: 5\n",
       "\n",
       "Data:\n",
       "+-------------+-----------------+--------------------+------+\n",
       "| query_label | reference_label |      distance      | rank |\n",
       "+-------------+-----------------+--------------------+------+\n",
       "|      0      |   Barack Obama  |        0.0         |  1   |\n",
       "|      0      |    Joe Biden    | 0.7941176470588236 |  2   |\n",
       "|      0      |  Joe Lieberman  | 0.7946859903381642 |  3   |\n",
       "|      0      |   Kelly Ayotte  | 0.8119891008174387 |  4   |\n",
       "|      0      |   Bill Clinton  | 0.8138528138528138 |  5   |\n",
       "+-------------+-----------------+--------------------+------+\n",
       "[5 rows x 4 columns]"
      ]
     },
     "execution_count": 35,
     "metadata": {},
     "output_type": "execute_result"
    }
   ],
   "source": [
    "knn_model.query(obama)"
   ]
  },
  {
   "cell_type": "code",
   "execution_count": 36,
   "metadata": {},
   "outputs": [],
   "source": [
    "swift = people[people['name'] == 'Taylor Swift']"
   ]
  },
  {
   "cell_type": "code",
   "execution_count": 37,
   "metadata": {},
   "outputs": [
    {
     "data": {
      "text/html": [
       "<pre>Starting pairwise querying.</pre>"
      ],
      "text/plain": [
       "Starting pairwise querying."
      ]
     },
     "metadata": {},
     "output_type": "display_data"
    },
    {
     "data": {
      "text/html": [
       "<pre>+--------------+---------+-------------+--------------+</pre>"
      ],
      "text/plain": [
       "+--------------+---------+-------------+--------------+"
      ]
     },
     "metadata": {},
     "output_type": "display_data"
    },
    {
     "data": {
      "text/html": [
       "<pre>| Query points | # Pairs | % Complete. | Elapsed Time |</pre>"
      ],
      "text/plain": [
       "| Query points | # Pairs | % Complete. | Elapsed Time |"
      ]
     },
     "metadata": {},
     "output_type": "display_data"
    },
    {
     "data": {
      "text/html": [
       "<pre>+--------------+---------+-------------+--------------+</pre>"
      ],
      "text/plain": [
       "+--------------+---------+-------------+--------------+"
      ]
     },
     "metadata": {},
     "output_type": "display_data"
    },
    {
     "data": {
      "text/html": [
       "<pre>| 0            | 1       | 0.00169288  | 10.719ms     |</pre>"
      ],
      "text/plain": [
       "| 0            | 1       | 0.00169288  | 10.719ms     |"
      ]
     },
     "metadata": {},
     "output_type": "display_data"
    },
    {
     "data": {
      "text/html": [
       "<pre>| Done         |         | 100         | 162.535ms    |</pre>"
      ],
      "text/plain": [
       "| Done         |         | 100         | 162.535ms    |"
      ]
     },
     "metadata": {},
     "output_type": "display_data"
    },
    {
     "data": {
      "text/html": [
       "<pre>+--------------+---------+-------------+--------------+</pre>"
      ],
      "text/plain": [
       "+--------------+---------+-------------+--------------+"
      ]
     },
     "metadata": {},
     "output_type": "display_data"
    },
    {
     "data": {
      "text/html": [
       "<div style=\"max-height:1000px;max-width:1500px;overflow:auto;\"><table frame=\"box\" rules=\"cols\">\n",
       "    <tr>\n",
       "        <th style=\"padding-left: 1em; padding-right: 1em; text-align: center\">query_label</th>\n",
       "        <th style=\"padding-left: 1em; padding-right: 1em; text-align: center\">reference_label</th>\n",
       "        <th style=\"padding-left: 1em; padding-right: 1em; text-align: center\">distance</th>\n",
       "        <th style=\"padding-left: 1em; padding-right: 1em; text-align: center\">rank</th>\n",
       "    </tr>\n",
       "    <tr>\n",
       "        <td style=\"padding-left: 1em; padding-right: 1em; text-align: center; vertical-align: top\">0</td>\n",
       "        <td style=\"padding-left: 1em; padding-right: 1em; text-align: center; vertical-align: top\">Taylor Swift</td>\n",
       "        <td style=\"padding-left: 1em; padding-right: 1em; text-align: center; vertical-align: top\">0.0</td>\n",
       "        <td style=\"padding-left: 1em; padding-right: 1em; text-align: center; vertical-align: top\">1</td>\n",
       "    </tr>\n",
       "    <tr>\n",
       "        <td style=\"padding-left: 1em; padding-right: 1em; text-align: center; vertical-align: top\">0</td>\n",
       "        <td style=\"padding-left: 1em; padding-right: 1em; text-align: center; vertical-align: top\">Carrie Underwood</td>\n",
       "        <td style=\"padding-left: 1em; padding-right: 1em; text-align: center; vertical-align: top\">0.7623188405797101</td>\n",
       "        <td style=\"padding-left: 1em; padding-right: 1em; text-align: center; vertical-align: top\">2</td>\n",
       "    </tr>\n",
       "    <tr>\n",
       "        <td style=\"padding-left: 1em; padding-right: 1em; text-align: center; vertical-align: top\">0</td>\n",
       "        <td style=\"padding-left: 1em; padding-right: 1em; text-align: center; vertical-align: top\">Alicia Keys</td>\n",
       "        <td style=\"padding-left: 1em; padding-right: 1em; text-align: center; vertical-align: top\">0.7647058823529411</td>\n",
       "        <td style=\"padding-left: 1em; padding-right: 1em; text-align: center; vertical-align: top\">3</td>\n",
       "    </tr>\n",
       "    <tr>\n",
       "        <td style=\"padding-left: 1em; padding-right: 1em; text-align: center; vertical-align: top\">0</td>\n",
       "        <td style=\"padding-left: 1em; padding-right: 1em; text-align: center; vertical-align: top\">Jordin Sparks</td>\n",
       "        <td style=\"padding-left: 1em; padding-right: 1em; text-align: center; vertical-align: top\">0.7696335078534031</td>\n",
       "        <td style=\"padding-left: 1em; padding-right: 1em; text-align: center; vertical-align: top\">4</td>\n",
       "    </tr>\n",
       "    <tr>\n",
       "        <td style=\"padding-left: 1em; padding-right: 1em; text-align: center; vertical-align: top\">0</td>\n",
       "        <td style=\"padding-left: 1em; padding-right: 1em; text-align: center; vertical-align: top\">Leona Lewis</td>\n",
       "        <td style=\"padding-left: 1em; padding-right: 1em; text-align: center; vertical-align: top\">0.7761194029850746</td>\n",
       "        <td style=\"padding-left: 1em; padding-right: 1em; text-align: center; vertical-align: top\">5</td>\n",
       "    </tr>\n",
       "</table>\n",
       "[5 rows x 4 columns]<br/>\n",
       "</div>"
      ],
      "text/plain": [
       "Columns:\n",
       "\tquery_label\tint\n",
       "\treference_label\tstr\n",
       "\tdistance\tfloat\n",
       "\trank\tint\n",
       "\n",
       "Rows: 5\n",
       "\n",
       "Data:\n",
       "+-------------+------------------+--------------------+------+\n",
       "| query_label | reference_label  |      distance      | rank |\n",
       "+-------------+------------------+--------------------+------+\n",
       "|      0      |   Taylor Swift   |        0.0         |  1   |\n",
       "|      0      | Carrie Underwood | 0.7623188405797101 |  2   |\n",
       "|      0      |   Alicia Keys    | 0.7647058823529411 |  3   |\n",
       "|      0      |  Jordin Sparks   | 0.7696335078534031 |  4   |\n",
       "|      0      |   Leona Lewis    | 0.7761194029850746 |  5   |\n",
       "+-------------+------------------+--------------------+------+\n",
       "[5 rows x 4 columns]"
      ]
     },
     "execution_count": 37,
     "metadata": {},
     "output_type": "execute_result"
    }
   ],
   "source": [
    "knn_model.query(swift)"
   ]
  },
  {
   "cell_type": "code",
   "execution_count": 38,
   "metadata": {},
   "outputs": [],
   "source": [
    "jolie = people[people['name']=='Angelina Jolie']"
   ]
  },
  {
   "cell_type": "code",
   "execution_count": 39,
   "metadata": {},
   "outputs": [
    {
     "data": {
      "text/html": [
       "<pre>Starting pairwise querying.</pre>"
      ],
      "text/plain": [
       "Starting pairwise querying."
      ]
     },
     "metadata": {},
     "output_type": "display_data"
    },
    {
     "data": {
      "text/html": [
       "<pre>+--------------+---------+-------------+--------------+</pre>"
      ],
      "text/plain": [
       "+--------------+---------+-------------+--------------+"
      ]
     },
     "metadata": {},
     "output_type": "display_data"
    },
    {
     "data": {
      "text/html": [
       "<pre>| Query points | # Pairs | % Complete. | Elapsed Time |</pre>"
      ],
      "text/plain": [
       "| Query points | # Pairs | % Complete. | Elapsed Time |"
      ]
     },
     "metadata": {},
     "output_type": "display_data"
    },
    {
     "data": {
      "text/html": [
       "<pre>+--------------+---------+-------------+--------------+</pre>"
      ],
      "text/plain": [
       "+--------------+---------+-------------+--------------+"
      ]
     },
     "metadata": {},
     "output_type": "display_data"
    },
    {
     "data": {
      "text/html": [
       "<pre>| 0            | 1       | 0.00169288  | 6.869ms      |</pre>"
      ],
      "text/plain": [
       "| 0            | 1       | 0.00169288  | 6.869ms      |"
      ]
     },
     "metadata": {},
     "output_type": "display_data"
    },
    {
     "data": {
      "text/html": [
       "<pre>| Done         |         | 100         | 133.234ms    |</pre>"
      ],
      "text/plain": [
       "| Done         |         | 100         | 133.234ms    |"
      ]
     },
     "metadata": {},
     "output_type": "display_data"
    },
    {
     "data": {
      "text/html": [
       "<pre>+--------------+---------+-------------+--------------+</pre>"
      ],
      "text/plain": [
       "+--------------+---------+-------------+--------------+"
      ]
     },
     "metadata": {},
     "output_type": "display_data"
    },
    {
     "data": {
      "text/html": [
       "<div style=\"max-height:1000px;max-width:1500px;overflow:auto;\"><table frame=\"box\" rules=\"cols\">\n",
       "    <tr>\n",
       "        <th style=\"padding-left: 1em; padding-right: 1em; text-align: center\">query_label</th>\n",
       "        <th style=\"padding-left: 1em; padding-right: 1em; text-align: center\">reference_label</th>\n",
       "        <th style=\"padding-left: 1em; padding-right: 1em; text-align: center\">distance</th>\n",
       "        <th style=\"padding-left: 1em; padding-right: 1em; text-align: center\">rank</th>\n",
       "    </tr>\n",
       "    <tr>\n",
       "        <td style=\"padding-left: 1em; padding-right: 1em; text-align: center; vertical-align: top\">0</td>\n",
       "        <td style=\"padding-left: 1em; padding-right: 1em; text-align: center; vertical-align: top\">Angelina Jolie</td>\n",
       "        <td style=\"padding-left: 1em; padding-right: 1em; text-align: center; vertical-align: top\">0.0</td>\n",
       "        <td style=\"padding-left: 1em; padding-right: 1em; text-align: center; vertical-align: top\">1</td>\n",
       "    </tr>\n",
       "    <tr>\n",
       "        <td style=\"padding-left: 1em; padding-right: 1em; text-align: center; vertical-align: top\">0</td>\n",
       "        <td style=\"padding-left: 1em; padding-right: 1em; text-align: center; vertical-align: top\">Brad Pitt</td>\n",
       "        <td style=\"padding-left: 1em; padding-right: 1em; text-align: center; vertical-align: top\">0.7840236686390533</td>\n",
       "        <td style=\"padding-left: 1em; padding-right: 1em; text-align: center; vertical-align: top\">2</td>\n",
       "    </tr>\n",
       "    <tr>\n",
       "        <td style=\"padding-left: 1em; padding-right: 1em; text-align: center; vertical-align: top\">0</td>\n",
       "        <td style=\"padding-left: 1em; padding-right: 1em; text-align: center; vertical-align: top\">Julianne Moore</td>\n",
       "        <td style=\"padding-left: 1em; padding-right: 1em; text-align: center; vertical-align: top\">0.7958579881656804</td>\n",
       "        <td style=\"padding-left: 1em; padding-right: 1em; text-align: center; vertical-align: top\">3</td>\n",
       "    </tr>\n",
       "    <tr>\n",
       "        <td style=\"padding-left: 1em; padding-right: 1em; text-align: center; vertical-align: top\">0</td>\n",
       "        <td style=\"padding-left: 1em; padding-right: 1em; text-align: center; vertical-align: top\">Billy Bob Thornton</td>\n",
       "        <td style=\"padding-left: 1em; padding-right: 1em; text-align: center; vertical-align: top\">0.80306905370844</td>\n",
       "        <td style=\"padding-left: 1em; padding-right: 1em; text-align: center; vertical-align: top\">4</td>\n",
       "    </tr>\n",
       "    <tr>\n",
       "        <td style=\"padding-left: 1em; padding-right: 1em; text-align: center; vertical-align: top\">0</td>\n",
       "        <td style=\"padding-left: 1em; padding-right: 1em; text-align: center; vertical-align: top\">George Clooney</td>\n",
       "        <td style=\"padding-left: 1em; padding-right: 1em; text-align: center; vertical-align: top\">0.8046875</td>\n",
       "        <td style=\"padding-left: 1em; padding-right: 1em; text-align: center; vertical-align: top\">5</td>\n",
       "    </tr>\n",
       "</table>\n",
       "[5 rows x 4 columns]<br/>\n",
       "</div>"
      ],
      "text/plain": [
       "Columns:\n",
       "\tquery_label\tint\n",
       "\treference_label\tstr\n",
       "\tdistance\tfloat\n",
       "\trank\tint\n",
       "\n",
       "Rows: 5\n",
       "\n",
       "Data:\n",
       "+-------------+--------------------+--------------------+------+\n",
       "| query_label |  reference_label   |      distance      | rank |\n",
       "+-------------+--------------------+--------------------+------+\n",
       "|      0      |   Angelina Jolie   |        0.0         |  1   |\n",
       "|      0      |     Brad Pitt      | 0.7840236686390533 |  2   |\n",
       "|      0      |   Julianne Moore   | 0.7958579881656804 |  3   |\n",
       "|      0      | Billy Bob Thornton |  0.80306905370844  |  4   |\n",
       "|      0      |   George Clooney   |     0.8046875      |  5   |\n",
       "+-------------+--------------------+--------------------+------+\n",
       "[5 rows x 4 columns]"
      ]
     },
     "execution_count": 39,
     "metadata": {},
     "output_type": "execute_result"
    }
   ],
   "source": [
    "knn_model.query(jolie)"
   ]
  },
  {
   "cell_type": "code",
   "execution_count": 40,
   "metadata": {},
   "outputs": [],
   "source": [
    "arnold = people[people['name'] == 'Arnold Schwarzenegger']"
   ]
  },
  {
   "cell_type": "code",
   "execution_count": 41,
   "metadata": {},
   "outputs": [
    {
     "data": {
      "text/html": [
       "<pre>Starting pairwise querying.</pre>"
      ],
      "text/plain": [
       "Starting pairwise querying."
      ]
     },
     "metadata": {},
     "output_type": "display_data"
    },
    {
     "data": {
      "text/html": [
       "<pre>+--------------+---------+-------------+--------------+</pre>"
      ],
      "text/plain": [
       "+--------------+---------+-------------+--------------+"
      ]
     },
     "metadata": {},
     "output_type": "display_data"
    },
    {
     "data": {
      "text/html": [
       "<pre>| Query points | # Pairs | % Complete. | Elapsed Time |</pre>"
      ],
      "text/plain": [
       "| Query points | # Pairs | % Complete. | Elapsed Time |"
      ]
     },
     "metadata": {},
     "output_type": "display_data"
    },
    {
     "data": {
      "text/html": [
       "<pre>+--------------+---------+-------------+--------------+</pre>"
      ],
      "text/plain": [
       "+--------------+---------+-------------+--------------+"
      ]
     },
     "metadata": {},
     "output_type": "display_data"
    },
    {
     "data": {
      "text/html": [
       "<pre>| 0            | 1       | 0.00169288  | 7.654ms      |</pre>"
      ],
      "text/plain": [
       "| 0            | 1       | 0.00169288  | 7.654ms      |"
      ]
     },
     "metadata": {},
     "output_type": "display_data"
    },
    {
     "data": {
      "text/html": [
       "<pre>| Done         |         | 100         | 124.498ms    |</pre>"
      ],
      "text/plain": [
       "| Done         |         | 100         | 124.498ms    |"
      ]
     },
     "metadata": {},
     "output_type": "display_data"
    },
    {
     "data": {
      "text/html": [
       "<pre>+--------------+---------+-------------+--------------+</pre>"
      ],
      "text/plain": [
       "+--------------+---------+-------------+--------------+"
      ]
     },
     "metadata": {},
     "output_type": "display_data"
    },
    {
     "data": {
      "text/html": [
       "<div style=\"max-height:1000px;max-width:1500px;overflow:auto;\"><table frame=\"box\" rules=\"cols\">\n",
       "    <tr>\n",
       "        <th style=\"padding-left: 1em; padding-right: 1em; text-align: center\">query_label</th>\n",
       "        <th style=\"padding-left: 1em; padding-right: 1em; text-align: center\">reference_label</th>\n",
       "        <th style=\"padding-left: 1em; padding-right: 1em; text-align: center\">distance</th>\n",
       "        <th style=\"padding-left: 1em; padding-right: 1em; text-align: center\">rank</th>\n",
       "    </tr>\n",
       "    <tr>\n",
       "        <td style=\"padding-left: 1em; padding-right: 1em; text-align: center; vertical-align: top\">0</td>\n",
       "        <td style=\"padding-left: 1em; padding-right: 1em; text-align: center; vertical-align: top\">Arnold Schwarzenegger</td>\n",
       "        <td style=\"padding-left: 1em; padding-right: 1em; text-align: center; vertical-align: top\">0.0</td>\n",
       "        <td style=\"padding-left: 1em; padding-right: 1em; text-align: center; vertical-align: top\">1</td>\n",
       "    </tr>\n",
       "    <tr>\n",
       "        <td style=\"padding-left: 1em; padding-right: 1em; text-align: center; vertical-align: top\">0</td>\n",
       "        <td style=\"padding-left: 1em; padding-right: 1em; text-align: center; vertical-align: top\">Jesse Ventura</td>\n",
       "        <td style=\"padding-left: 1em; padding-right: 1em; text-align: center; vertical-align: top\">0.8189189189189189</td>\n",
       "        <td style=\"padding-left: 1em; padding-right: 1em; text-align: center; vertical-align: top\">2</td>\n",
       "    </tr>\n",
       "    <tr>\n",
       "        <td style=\"padding-left: 1em; padding-right: 1em; text-align: center; vertical-align: top\">0</td>\n",
       "        <td style=\"padding-left: 1em; padding-right: 1em; text-align: center; vertical-align: top\">John Kitzhaber</td>\n",
       "        <td style=\"padding-left: 1em; padding-right: 1em; text-align: center; vertical-align: top\">0.8246153846153846</td>\n",
       "        <td style=\"padding-left: 1em; padding-right: 1em; text-align: center; vertical-align: top\">3</td>\n",
       "    </tr>\n",
       "    <tr>\n",
       "        <td style=\"padding-left: 1em; padding-right: 1em; text-align: center; vertical-align: top\">0</td>\n",
       "        <td style=\"padding-left: 1em; padding-right: 1em; text-align: center; vertical-align: top\">Lincoln Chafee</td>\n",
       "        <td style=\"padding-left: 1em; padding-right: 1em; text-align: center; vertical-align: top\">0.8338762214983714</td>\n",
       "        <td style=\"padding-left: 1em; padding-right: 1em; text-align: center; vertical-align: top\">4</td>\n",
       "    </tr>\n",
       "    <tr>\n",
       "        <td style=\"padding-left: 1em; padding-right: 1em; text-align: center; vertical-align: top\">0</td>\n",
       "        <td style=\"padding-left: 1em; padding-right: 1em; text-align: center; vertical-align: top\">Anthony Foxx</td>\n",
       "        <td style=\"padding-left: 1em; padding-right: 1em; text-align: center; vertical-align: top\">0.8339100346020761</td>\n",
       "        <td style=\"padding-left: 1em; padding-right: 1em; text-align: center; vertical-align: top\">5</td>\n",
       "    </tr>\n",
       "</table>\n",
       "[5 rows x 4 columns]<br/>\n",
       "</div>"
      ],
      "text/plain": [
       "Columns:\n",
       "\tquery_label\tint\n",
       "\treference_label\tstr\n",
       "\tdistance\tfloat\n",
       "\trank\tint\n",
       "\n",
       "Rows: 5\n",
       "\n",
       "Data:\n",
       "+-------------+-----------------------+--------------------+------+\n",
       "| query_label |    reference_label    |      distance      | rank |\n",
       "+-------------+-----------------------+--------------------+------+\n",
       "|      0      | Arnold Schwarzenegger |        0.0         |  1   |\n",
       "|      0      |     Jesse Ventura     | 0.8189189189189189 |  2   |\n",
       "|      0      |     John Kitzhaber    | 0.8246153846153846 |  3   |\n",
       "|      0      |     Lincoln Chafee    | 0.8338762214983714 |  4   |\n",
       "|      0      |      Anthony Foxx     | 0.8339100346020761 |  5   |\n",
       "+-------------+-----------------------+--------------------+------+\n",
       "[5 rows x 4 columns]"
      ]
     },
     "execution_count": 41,
     "metadata": {},
     "output_type": "execute_result"
    }
   ],
   "source": [
    "knn_model.query(arnold)"
   ]
  },
  {
   "cell_type": "markdown",
   "metadata": {},
   "source": [
    "# Week4 Assignment"
   ]
  },
  {
   "cell_type": "code",
   "execution_count": 42,
   "metadata": {},
   "outputs": [],
   "source": [
    "john = people[people['name'] == 'Elton John']"
   ]
  },
  {
   "cell_type": "code",
   "execution_count": 43,
   "metadata": {},
   "outputs": [
    {
     "data": {
      "text/html": [
       "<div style=\"max-height:1000px;max-width:1500px;overflow:auto;\"><table frame=\"box\" rules=\"cols\">\n",
       "    <tr>\n",
       "        <th style=\"padding-left: 1em; padding-right: 1em; text-align: center\">URI</th>\n",
       "        <th style=\"padding-left: 1em; padding-right: 1em; text-align: center\">name</th>\n",
       "        <th style=\"padding-left: 1em; padding-right: 1em; text-align: center\">text</th>\n",
       "        <th style=\"padding-left: 1em; padding-right: 1em; text-align: center\">word_count</th>\n",
       "        <th style=\"padding-left: 1em; padding-right: 1em; text-align: center\">tfidf</th>\n",
       "    </tr>\n",
       "    <tr>\n",
       "        <td style=\"padding-left: 1em; padding-right: 1em; text-align: center; vertical-align: top\">&lt;http://dbpedia.org/resou<br>rce/Elton_John&gt; ...</td>\n",
       "        <td style=\"padding-left: 1em; padding-right: 1em; text-align: center; vertical-align: top\">Elton John</td>\n",
       "        <td style=\"padding-left: 1em; padding-right: 1em; text-align: center; vertical-align: top\">sir elton hercules john<br>cbe born reginald ken ...</td>\n",
       "        <td style=\"padding-left: 1em; padding-right: 1em; text-align: center; vertical-align: top\">{&#x27;movements&#x27;: 1.0,<br>&#x27;social&#x27;: 1.0, ...</td>\n",
       "        <td style=\"padding-left: 1em; padding-right: 1em; text-align: center; vertical-align: top\">{&#x27;movements&#x27;:<br>5.030658019760364, ...</td>\n",
       "    </tr>\n",
       "</table>\n",
       "[? rows x 5 columns]<br/>Note: Only the head of the SFrame is printed. This SFrame is lazily evaluated.<br/>You can use sf.materialize() to force materialization.\n",
       "</div>"
      ],
      "text/plain": [
       "Columns:\n",
       "\tURI\tstr\n",
       "\tname\tstr\n",
       "\ttext\tstr\n",
       "\tword_count\tdict\n",
       "\ttfidf\tdict\n",
       "\n",
       "Rows: Unknown\n",
       "\n",
       "Data:\n",
       "+-------------------------------+------------+-------------------------------+\n",
       "|              URI              |    name    |              text             |\n",
       "+-------------------------------+------------+-------------------------------+\n",
       "| <http://dbpedia.org/resour... | Elton John | sir elton hercules john cb... |\n",
       "+-------------------------------+------------+-------------------------------+\n",
       "+-------------------------------+-------------------------------+\n",
       "|           word_count          |             tfidf             |\n",
       "+-------------------------------+-------------------------------+\n",
       "| {'movements': 1.0, 'social... | {'movements': 5.0306580197... |\n",
       "+-------------------------------+-------------------------------+\n",
       "[? rows x 5 columns]\n",
       "Note: Only the head of the SFrame is printed. This SFrame is lazily evaluated.\n",
       "You can use sf.materialize() to force materialization."
      ]
     },
     "execution_count": 43,
     "metadata": {},
     "output_type": "execute_result"
    }
   ],
   "source": [
    "john"
   ]
  },
  {
   "cell_type": "code",
   "execution_count": 46,
   "metadata": {},
   "outputs": [],
   "source": [
    "john_table = john.stack('word_count',new_column_name=['word','count']).sort('count',ascending=False)"
   ]
  },
  {
   "cell_type": "code",
   "execution_count": 47,
   "metadata": {},
   "outputs": [
    {
     "data": {
      "text/html": [
       "<div style=\"max-height:1000px;max-width:1500px;overflow:auto;\"><table frame=\"box\" rules=\"cols\">\n",
       "    <tr>\n",
       "        <th style=\"padding-left: 1em; padding-right: 1em; text-align: center\">URI</th>\n",
       "        <th style=\"padding-left: 1em; padding-right: 1em; text-align: center\">name</th>\n",
       "        <th style=\"padding-left: 1em; padding-right: 1em; text-align: center\">text</th>\n",
       "        <th style=\"padding-left: 1em; padding-right: 1em; text-align: center\">tfidf</th>\n",
       "        <th style=\"padding-left: 1em; padding-right: 1em; text-align: center\">word</th>\n",
       "        <th style=\"padding-left: 1em; padding-right: 1em; text-align: center\">count</th>\n",
       "    </tr>\n",
       "    <tr>\n",
       "        <td style=\"padding-left: 1em; padding-right: 1em; text-align: center; vertical-align: top\">&lt;http://dbpedia.org/resou<br>rce/Elton_John&gt; ...</td>\n",
       "        <td style=\"padding-left: 1em; padding-right: 1em; text-align: center; vertical-align: top\">Elton John</td>\n",
       "        <td style=\"padding-left: 1em; padding-right: 1em; text-align: center; vertical-align: top\">sir elton hercules john<br>cbe born reginald ken ...</td>\n",
       "        <td style=\"padding-left: 1em; padding-right: 1em; text-align: center; vertical-align: top\">{&#x27;movements&#x27;:<br>5.030658019760364, ...</td>\n",
       "        <td style=\"padding-left: 1em; padding-right: 1em; text-align: center; vertical-align: top\">the</td>\n",
       "        <td style=\"padding-left: 1em; padding-right: 1em; text-align: center; vertical-align: top\">27.0</td>\n",
       "    </tr>\n",
       "    <tr>\n",
       "        <td style=\"padding-left: 1em; padding-right: 1em; text-align: center; vertical-align: top\">&lt;http://dbpedia.org/resou<br>rce/Elton_John&gt; ...</td>\n",
       "        <td style=\"padding-left: 1em; padding-right: 1em; text-align: center; vertical-align: top\">Elton John</td>\n",
       "        <td style=\"padding-left: 1em; padding-right: 1em; text-align: center; vertical-align: top\">sir elton hercules john<br>cbe born reginald ken ...</td>\n",
       "        <td style=\"padding-left: 1em; padding-right: 1em; text-align: center; vertical-align: top\">{&#x27;movements&#x27;:<br>5.030658019760364, ...</td>\n",
       "        <td style=\"padding-left: 1em; padding-right: 1em; text-align: center; vertical-align: top\">in</td>\n",
       "        <td style=\"padding-left: 1em; padding-right: 1em; text-align: center; vertical-align: top\">18.0</td>\n",
       "    </tr>\n",
       "    <tr>\n",
       "        <td style=\"padding-left: 1em; padding-right: 1em; text-align: center; vertical-align: top\">&lt;http://dbpedia.org/resou<br>rce/Elton_John&gt; ...</td>\n",
       "        <td style=\"padding-left: 1em; padding-right: 1em; text-align: center; vertical-align: top\">Elton John</td>\n",
       "        <td style=\"padding-left: 1em; padding-right: 1em; text-align: center; vertical-align: top\">sir elton hercules john<br>cbe born reginald ken ...</td>\n",
       "        <td style=\"padding-left: 1em; padding-right: 1em; text-align: center; vertical-align: top\">{&#x27;movements&#x27;:<br>5.030658019760364, ...</td>\n",
       "        <td style=\"padding-left: 1em; padding-right: 1em; text-align: center; vertical-align: top\">and</td>\n",
       "        <td style=\"padding-left: 1em; padding-right: 1em; text-align: center; vertical-align: top\">15.0</td>\n",
       "    </tr>\n",
       "    <tr>\n",
       "        <td style=\"padding-left: 1em; padding-right: 1em; text-align: center; vertical-align: top\">&lt;http://dbpedia.org/resou<br>rce/Elton_John&gt; ...</td>\n",
       "        <td style=\"padding-left: 1em; padding-right: 1em; text-align: center; vertical-align: top\">Elton John</td>\n",
       "        <td style=\"padding-left: 1em; padding-right: 1em; text-align: center; vertical-align: top\">sir elton hercules john<br>cbe born reginald ken ...</td>\n",
       "        <td style=\"padding-left: 1em; padding-right: 1em; text-align: center; vertical-align: top\">{&#x27;movements&#x27;:<br>5.030658019760364, ...</td>\n",
       "        <td style=\"padding-left: 1em; padding-right: 1em; text-align: center; vertical-align: top\">of</td>\n",
       "        <td style=\"padding-left: 1em; padding-right: 1em; text-align: center; vertical-align: top\">13.0</td>\n",
       "    </tr>\n",
       "    <tr>\n",
       "        <td style=\"padding-left: 1em; padding-right: 1em; text-align: center; vertical-align: top\">&lt;http://dbpedia.org/resou<br>rce/Elton_John&gt; ...</td>\n",
       "        <td style=\"padding-left: 1em; padding-right: 1em; text-align: center; vertical-align: top\">Elton John</td>\n",
       "        <td style=\"padding-left: 1em; padding-right: 1em; text-align: center; vertical-align: top\">sir elton hercules john<br>cbe born reginald ken ...</td>\n",
       "        <td style=\"padding-left: 1em; padding-right: 1em; text-align: center; vertical-align: top\">{&#x27;movements&#x27;:<br>5.030658019760364, ...</td>\n",
       "        <td style=\"padding-left: 1em; padding-right: 1em; text-align: center; vertical-align: top\">a</td>\n",
       "        <td style=\"padding-left: 1em; padding-right: 1em; text-align: center; vertical-align: top\">10.0</td>\n",
       "    </tr>\n",
       "    <tr>\n",
       "        <td style=\"padding-left: 1em; padding-right: 1em; text-align: center; vertical-align: top\">&lt;http://dbpedia.org/resou<br>rce/Elton_John&gt; ...</td>\n",
       "        <td style=\"padding-left: 1em; padding-right: 1em; text-align: center; vertical-align: top\">Elton John</td>\n",
       "        <td style=\"padding-left: 1em; padding-right: 1em; text-align: center; vertical-align: top\">sir elton hercules john<br>cbe born reginald ken ...</td>\n",
       "        <td style=\"padding-left: 1em; padding-right: 1em; text-align: center; vertical-align: top\">{&#x27;movements&#x27;:<br>5.030658019760364, ...</td>\n",
       "        <td style=\"padding-left: 1em; padding-right: 1em; text-align: center; vertical-align: top\">has</td>\n",
       "        <td style=\"padding-left: 1em; padding-right: 1em; text-align: center; vertical-align: top\">9.0</td>\n",
       "    </tr>\n",
       "    <tr>\n",
       "        <td style=\"padding-left: 1em; padding-right: 1em; text-align: center; vertical-align: top\">&lt;http://dbpedia.org/resou<br>rce/Elton_John&gt; ...</td>\n",
       "        <td style=\"padding-left: 1em; padding-right: 1em; text-align: center; vertical-align: top\">Elton John</td>\n",
       "        <td style=\"padding-left: 1em; padding-right: 1em; text-align: center; vertical-align: top\">sir elton hercules john<br>cbe born reginald ken ...</td>\n",
       "        <td style=\"padding-left: 1em; padding-right: 1em; text-align: center; vertical-align: top\">{&#x27;movements&#x27;:<br>5.030658019760364, ...</td>\n",
       "        <td style=\"padding-left: 1em; padding-right: 1em; text-align: center; vertical-align: top\">he</td>\n",
       "        <td style=\"padding-left: 1em; padding-right: 1em; text-align: center; vertical-align: top\">7.0</td>\n",
       "    </tr>\n",
       "    <tr>\n",
       "        <td style=\"padding-left: 1em; padding-right: 1em; text-align: center; vertical-align: top\">&lt;http://dbpedia.org/resou<br>rce/Elton_John&gt; ...</td>\n",
       "        <td style=\"padding-left: 1em; padding-right: 1em; text-align: center; vertical-align: top\">Elton John</td>\n",
       "        <td style=\"padding-left: 1em; padding-right: 1em; text-align: center; vertical-align: top\">sir elton hercules john<br>cbe born reginald ken ...</td>\n",
       "        <td style=\"padding-left: 1em; padding-right: 1em; text-align: center; vertical-align: top\">{&#x27;movements&#x27;:<br>5.030658019760364, ...</td>\n",
       "        <td style=\"padding-left: 1em; padding-right: 1em; text-align: center; vertical-align: top\">john</td>\n",
       "        <td style=\"padding-left: 1em; padding-right: 1em; text-align: center; vertical-align: top\">7.0</td>\n",
       "    </tr>\n",
       "    <tr>\n",
       "        <td style=\"padding-left: 1em; padding-right: 1em; text-align: center; vertical-align: top\">&lt;http://dbpedia.org/resou<br>rce/Elton_John&gt; ...</td>\n",
       "        <td style=\"padding-left: 1em; padding-right: 1em; text-align: center; vertical-align: top\">Elton John</td>\n",
       "        <td style=\"padding-left: 1em; padding-right: 1em; text-align: center; vertical-align: top\">sir elton hercules john<br>cbe born reginald ken ...</td>\n",
       "        <td style=\"padding-left: 1em; padding-right: 1em; text-align: center; vertical-align: top\">{&#x27;movements&#x27;:<br>5.030658019760364, ...</td>\n",
       "        <td style=\"padding-left: 1em; padding-right: 1em; text-align: center; vertical-align: top\">on</td>\n",
       "        <td style=\"padding-left: 1em; padding-right: 1em; text-align: center; vertical-align: top\">6.0</td>\n",
       "    </tr>\n",
       "    <tr>\n",
       "        <td style=\"padding-left: 1em; padding-right: 1em; text-align: center; vertical-align: top\">&lt;http://dbpedia.org/resou<br>rce/Elton_John&gt; ...</td>\n",
       "        <td style=\"padding-left: 1em; padding-right: 1em; text-align: center; vertical-align: top\">Elton John</td>\n",
       "        <td style=\"padding-left: 1em; padding-right: 1em; text-align: center; vertical-align: top\">sir elton hercules john<br>cbe born reginald ken ...</td>\n",
       "        <td style=\"padding-left: 1em; padding-right: 1em; text-align: center; vertical-align: top\">{&#x27;movements&#x27;:<br>5.030658019760364, ...</td>\n",
       "        <td style=\"padding-left: 1em; padding-right: 1em; text-align: center; vertical-align: top\">since</td>\n",
       "        <td style=\"padding-left: 1em; padding-right: 1em; text-align: center; vertical-align: top\">5.0</td>\n",
       "    </tr>\n",
       "</table>\n",
       "[255 rows x 6 columns]<br/>Note: Only the head of the SFrame is printed.<br/>You can use print_rows(num_rows=m, num_columns=n) to print more rows and columns.\n",
       "</div>"
      ],
      "text/plain": [
       "Columns:\n",
       "\tURI\tstr\n",
       "\tname\tstr\n",
       "\ttext\tstr\n",
       "\ttfidf\tdict\n",
       "\tword\tstr\n",
       "\tcount\tfloat\n",
       "\n",
       "Rows: 255\n",
       "\n",
       "Data:\n",
       "+-------------------------------+------------+-------------------------------+\n",
       "|              URI              |    name    |              text             |\n",
       "+-------------------------------+------------+-------------------------------+\n",
       "| <http://dbpedia.org/resour... | Elton John | sir elton hercules john cb... |\n",
       "| <http://dbpedia.org/resour... | Elton John | sir elton hercules john cb... |\n",
       "| <http://dbpedia.org/resour... | Elton John | sir elton hercules john cb... |\n",
       "| <http://dbpedia.org/resour... | Elton John | sir elton hercules john cb... |\n",
       "| <http://dbpedia.org/resour... | Elton John | sir elton hercules john cb... |\n",
       "| <http://dbpedia.org/resour... | Elton John | sir elton hercules john cb... |\n",
       "| <http://dbpedia.org/resour... | Elton John | sir elton hercules john cb... |\n",
       "| <http://dbpedia.org/resour... | Elton John | sir elton hercules john cb... |\n",
       "| <http://dbpedia.org/resour... | Elton John | sir elton hercules john cb... |\n",
       "| <http://dbpedia.org/resour... | Elton John | sir elton hercules john cb... |\n",
       "+-------------------------------+------------+-------------------------------+\n",
       "+-------------------------------+-------+-------+\n",
       "|             tfidf             |  word | count |\n",
       "+-------------------------------+-------+-------+\n",
       "| {'movements': 5.0306580197... |  the  |  27.0 |\n",
       "| {'movements': 5.0306580197... |   in  |  18.0 |\n",
       "| {'movements': 5.0306580197... |  and  |  15.0 |\n",
       "| {'movements': 5.0306580197... |   of  |  13.0 |\n",
       "| {'movements': 5.0306580197... |   a   |  10.0 |\n",
       "| {'movements': 5.0306580197... |  has  |  9.0  |\n",
       "| {'movements': 5.0306580197... |   he  |  7.0  |\n",
       "| {'movements': 5.0306580197... |  john |  7.0  |\n",
       "| {'movements': 5.0306580197... |   on  |  6.0  |\n",
       "| {'movements': 5.0306580197... | since |  5.0  |\n",
       "+-------------------------------+-------+-------+\n",
       "[255 rows x 6 columns]\n",
       "Note: Only the head of the SFrame is printed.\n",
       "You can use print_rows(num_rows=m, num_columns=n) to print more rows and columns."
      ]
     },
     "execution_count": 47,
     "metadata": {},
     "output_type": "execute_result"
    }
   ],
   "source": [
    "john_table"
   ]
  },
  {
   "cell_type": "code",
   "execution_count": 49,
   "metadata": {},
   "outputs": [],
   "source": [
    "john_table = john.stack('tfidf',new_column_name=['word','tfidf']).sort('tfidf',ascending=False)"
   ]
  },
  {
   "cell_type": "code",
   "execution_count": 50,
   "metadata": {
    "collapsed": true
   },
   "outputs": [
    {
     "data": {
      "text/html": [
       "<div style=\"max-height:1000px;max-width:1500px;overflow:auto;\"><table frame=\"box\" rules=\"cols\">\n",
       "    <tr>\n",
       "        <th style=\"padding-left: 1em; padding-right: 1em; text-align: center\">URI</th>\n",
       "        <th style=\"padding-left: 1em; padding-right: 1em; text-align: center\">name</th>\n",
       "        <th style=\"padding-left: 1em; padding-right: 1em; text-align: center\">text</th>\n",
       "        <th style=\"padding-left: 1em; padding-right: 1em; text-align: center\">word_count</th>\n",
       "        <th style=\"padding-left: 1em; padding-right: 1em; text-align: center\">word</th>\n",
       "    </tr>\n",
       "    <tr>\n",
       "        <td style=\"padding-left: 1em; padding-right: 1em; text-align: center; vertical-align: top\">&lt;http://dbpedia.org/resou<br>rce/Elton_John&gt; ...</td>\n",
       "        <td style=\"padding-left: 1em; padding-right: 1em; text-align: center; vertical-align: top\">Elton John</td>\n",
       "        <td style=\"padding-left: 1em; padding-right: 1em; text-align: center; vertical-align: top\">sir elton hercules john<br>cbe born reginald ken ...</td>\n",
       "        <td style=\"padding-left: 1em; padding-right: 1em; text-align: center; vertical-align: top\">{&#x27;movements&#x27;: 1.0,<br>&#x27;social&#x27;: 1.0, ...</td>\n",
       "        <td style=\"padding-left: 1em; padding-right: 1em; text-align: center; vertical-align: top\">furnish</td>\n",
       "    </tr>\n",
       "    <tr>\n",
       "        <td style=\"padding-left: 1em; padding-right: 1em; text-align: center; vertical-align: top\">&lt;http://dbpedia.org/resou<br>rce/Elton_John&gt; ...</td>\n",
       "        <td style=\"padding-left: 1em; padding-right: 1em; text-align: center; vertical-align: top\">Elton John</td>\n",
       "        <td style=\"padding-left: 1em; padding-right: 1em; text-align: center; vertical-align: top\">sir elton hercules john<br>cbe born reginald ken ...</td>\n",
       "        <td style=\"padding-left: 1em; padding-right: 1em; text-align: center; vertical-align: top\">{&#x27;movements&#x27;: 1.0,<br>&#x27;social&#x27;: 1.0, ...</td>\n",
       "        <td style=\"padding-left: 1em; padding-right: 1em; text-align: center; vertical-align: top\">elton</td>\n",
       "    </tr>\n",
       "    <tr>\n",
       "        <td style=\"padding-left: 1em; padding-right: 1em; text-align: center; vertical-align: top\">&lt;http://dbpedia.org/resou<br>rce/Elton_John&gt; ...</td>\n",
       "        <td style=\"padding-left: 1em; padding-right: 1em; text-align: center; vertical-align: top\">Elton John</td>\n",
       "        <td style=\"padding-left: 1em; padding-right: 1em; text-align: center; vertical-align: top\">sir elton hercules john<br>cbe born reginald ken ...</td>\n",
       "        <td style=\"padding-left: 1em; padding-right: 1em; text-align: center; vertical-align: top\">{&#x27;movements&#x27;: 1.0,<br>&#x27;social&#x27;: 1.0, ...</td>\n",
       "        <td style=\"padding-left: 1em; padding-right: 1em; text-align: center; vertical-align: top\">billboard</td>\n",
       "    </tr>\n",
       "    <tr>\n",
       "        <td style=\"padding-left: 1em; padding-right: 1em; text-align: center; vertical-align: top\">&lt;http://dbpedia.org/resou<br>rce/Elton_John&gt; ...</td>\n",
       "        <td style=\"padding-left: 1em; padding-right: 1em; text-align: center; vertical-align: top\">Elton John</td>\n",
       "        <td style=\"padding-left: 1em; padding-right: 1em; text-align: center; vertical-align: top\">sir elton hercules john<br>cbe born reginald ken ...</td>\n",
       "        <td style=\"padding-left: 1em; padding-right: 1em; text-align: center; vertical-align: top\">{&#x27;movements&#x27;: 1.0,<br>&#x27;social&#x27;: 1.0, ...</td>\n",
       "        <td style=\"padding-left: 1em; padding-right: 1em; text-align: center; vertical-align: top\">john</td>\n",
       "    </tr>\n",
       "    <tr>\n",
       "        <td style=\"padding-left: 1em; padding-right: 1em; text-align: center; vertical-align: top\">&lt;http://dbpedia.org/resou<br>rce/Elton_John&gt; ...</td>\n",
       "        <td style=\"padding-left: 1em; padding-right: 1em; text-align: center; vertical-align: top\">Elton John</td>\n",
       "        <td style=\"padding-left: 1em; padding-right: 1em; text-align: center; vertical-align: top\">sir elton hercules john<br>cbe born reginald ken ...</td>\n",
       "        <td style=\"padding-left: 1em; padding-right: 1em; text-align: center; vertical-align: top\">{&#x27;movements&#x27;: 1.0,<br>&#x27;social&#x27;: 1.0, ...</td>\n",
       "        <td style=\"padding-left: 1em; padding-right: 1em; text-align: center; vertical-align: top\">songwriters</td>\n",
       "    </tr>\n",
       "    <tr>\n",
       "        <td style=\"padding-left: 1em; padding-right: 1em; text-align: center; vertical-align: top\">&lt;http://dbpedia.org/resou<br>rce/Elton_John&gt; ...</td>\n",
       "        <td style=\"padding-left: 1em; padding-right: 1em; text-align: center; vertical-align: top\">Elton John</td>\n",
       "        <td style=\"padding-left: 1em; padding-right: 1em; text-align: center; vertical-align: top\">sir elton hercules john<br>cbe born reginald ken ...</td>\n",
       "        <td style=\"padding-left: 1em; padding-right: 1em; text-align: center; vertical-align: top\">{&#x27;movements&#x27;: 1.0,<br>&#x27;social&#x27;: 1.0, ...</td>\n",
       "        <td style=\"padding-left: 1em; padding-right: 1em; text-align: center; vertical-align: top\">overallelton</td>\n",
       "    </tr>\n",
       "    <tr>\n",
       "        <td style=\"padding-left: 1em; padding-right: 1em; text-align: center; vertical-align: top\">&lt;http://dbpedia.org/resou<br>rce/Elton_John&gt; ...</td>\n",
       "        <td style=\"padding-left: 1em; padding-right: 1em; text-align: center; vertical-align: top\">Elton John</td>\n",
       "        <td style=\"padding-left: 1em; padding-right: 1em; text-align: center; vertical-align: top\">sir elton hercules john<br>cbe born reginald ken ...</td>\n",
       "        <td style=\"padding-left: 1em; padding-right: 1em; text-align: center; vertical-align: top\">{&#x27;movements&#x27;: 1.0,<br>&#x27;social&#x27;: 1.0, ...</td>\n",
       "        <td style=\"padding-left: 1em; padding-right: 1em; text-align: center; vertical-align: top\">tonightcandle</td>\n",
       "    </tr>\n",
       "    <tr>\n",
       "        <td style=\"padding-left: 1em; padding-right: 1em; text-align: center; vertical-align: top\">&lt;http://dbpedia.org/resou<br>rce/Elton_John&gt; ...</td>\n",
       "        <td style=\"padding-left: 1em; padding-right: 1em; text-align: center; vertical-align: top\">Elton John</td>\n",
       "        <td style=\"padding-left: 1em; padding-right: 1em; text-align: center; vertical-align: top\">sir elton hercules john<br>cbe born reginald ken ...</td>\n",
       "        <td style=\"padding-left: 1em; padding-right: 1em; text-align: center; vertical-align: top\">{&#x27;movements&#x27;: 1.0,<br>&#x27;social&#x27;: 1.0, ...</td>\n",
       "        <td style=\"padding-left: 1em; padding-right: 1em; text-align: center; vertical-align: top\">19702000</td>\n",
       "    </tr>\n",
       "    <tr>\n",
       "        <td style=\"padding-left: 1em; padding-right: 1em; text-align: center; vertical-align: top\">&lt;http://dbpedia.org/resou<br>rce/Elton_John&gt; ...</td>\n",
       "        <td style=\"padding-left: 1em; padding-right: 1em; text-align: center; vertical-align: top\">Elton John</td>\n",
       "        <td style=\"padding-left: 1em; padding-right: 1em; text-align: center; vertical-align: top\">sir elton hercules john<br>cbe born reginald ken ...</td>\n",
       "        <td style=\"padding-left: 1em; padding-right: 1em; text-align: center; vertical-align: top\">{&#x27;movements&#x27;: 1.0,<br>&#x27;social&#x27;: 1.0, ...</td>\n",
       "        <td style=\"padding-left: 1em; padding-right: 1em; text-align: center; vertical-align: top\">fivedecade</td>\n",
       "    </tr>\n",
       "    <tr>\n",
       "        <td style=\"padding-left: 1em; padding-right: 1em; text-align: center; vertical-align: top\">&lt;http://dbpedia.org/resou<br>rce/Elton_John&gt; ...</td>\n",
       "        <td style=\"padding-left: 1em; padding-right: 1em; text-align: center; vertical-align: top\">Elton John</td>\n",
       "        <td style=\"padding-left: 1em; padding-right: 1em; text-align: center; vertical-align: top\">sir elton hercules john<br>cbe born reginald ken ...</td>\n",
       "        <td style=\"padding-left: 1em; padding-right: 1em; text-align: center; vertical-align: top\">{&#x27;movements&#x27;: 1.0,<br>&#x27;social&#x27;: 1.0, ...</td>\n",
       "        <td style=\"padding-left: 1em; padding-right: 1em; text-align: center; vertical-align: top\">aids</td>\n",
       "    </tr>\n",
       "</table>\n",
       "<table frame=\"box\" rules=\"cols\">\n",
       "    <tr>\n",
       "        <th style=\"padding-left: 1em; padding-right: 1em; text-align: center\">tfidf</th>\n",
       "    </tr>\n",
       "    <tr>\n",
       "        <td style=\"padding-left: 1em; padding-right: 1em; text-align: center; vertical-align: top\">18.38947183999428</td>\n",
       "    </tr>\n",
       "    <tr>\n",
       "        <td style=\"padding-left: 1em; padding-right: 1em; text-align: center; vertical-align: top\">17.482320270031995</td>\n",
       "    </tr>\n",
       "    <tr>\n",
       "        <td style=\"padding-left: 1em; padding-right: 1em; text-align: center; vertical-align: top\">17.30368095754203</td>\n",
       "    </tr>\n",
       "    <tr>\n",
       "        <td style=\"padding-left: 1em; padding-right: 1em; text-align: center; vertical-align: top\">13.93931279239831</td>\n",
       "    </tr>\n",
       "    <tr>\n",
       "        <td style=\"padding-left: 1em; padding-right: 1em; text-align: center; vertical-align: top\">11.250406447031539</td>\n",
       "    </tr>\n",
       "    <tr>\n",
       "        <td style=\"padding-left: 1em; padding-right: 1em; text-align: center; vertical-align: top\">10.986495389225194</td>\n",
       "    </tr>\n",
       "    <tr>\n",
       "        <td style=\"padding-left: 1em; padding-right: 1em; text-align: center; vertical-align: top\">10.986495389225194</td>\n",
       "    </tr>\n",
       "    <tr>\n",
       "        <td style=\"padding-left: 1em; padding-right: 1em; text-align: center; vertical-align: top\">10.293348208665249</td>\n",
       "    </tr>\n",
       "    <tr>\n",
       "        <td style=\"padding-left: 1em; padding-right: 1em; text-align: center; vertical-align: top\">10.293348208665249</td>\n",
       "    </tr>\n",
       "    <tr>\n",
       "        <td style=\"padding-left: 1em; padding-right: 1em; text-align: center; vertical-align: top\">10.262846934045534</td>\n",
       "    </tr>\n",
       "</table>\n",
       "[255 rows x 6 columns]<br/>Note: Only the head of the SFrame is printed.<br/>You can use print_rows(num_rows=m, num_columns=n) to print more rows and columns.\n",
       "</div>"
      ],
      "text/plain": [
       "Columns:\n",
       "\tURI\tstr\n",
       "\tname\tstr\n",
       "\ttext\tstr\n",
       "\tword_count\tdict\n",
       "\tword\tstr\n",
       "\ttfidf\tfloat\n",
       "\n",
       "Rows: 255\n",
       "\n",
       "Data:\n",
       "+-------------------------------+------------+-------------------------------+\n",
       "|              URI              |    name    |              text             |\n",
       "+-------------------------------+------------+-------------------------------+\n",
       "| <http://dbpedia.org/resour... | Elton John | sir elton hercules john cb... |\n",
       "| <http://dbpedia.org/resour... | Elton John | sir elton hercules john cb... |\n",
       "| <http://dbpedia.org/resour... | Elton John | sir elton hercules john cb... |\n",
       "| <http://dbpedia.org/resour... | Elton John | sir elton hercules john cb... |\n",
       "| <http://dbpedia.org/resour... | Elton John | sir elton hercules john cb... |\n",
       "| <http://dbpedia.org/resour... | Elton John | sir elton hercules john cb... |\n",
       "| <http://dbpedia.org/resour... | Elton John | sir elton hercules john cb... |\n",
       "| <http://dbpedia.org/resour... | Elton John | sir elton hercules john cb... |\n",
       "| <http://dbpedia.org/resour... | Elton John | sir elton hercules john cb... |\n",
       "| <http://dbpedia.org/resour... | Elton John | sir elton hercules john cb... |\n",
       "+-------------------------------+------------+-------------------------------+\n",
       "+-------------------------------+---------------+--------------------+\n",
       "|           word_count          |      word     |       tfidf        |\n",
       "+-------------------------------+---------------+--------------------+\n",
       "| {'movements': 1.0, 'social... |    furnish    | 18.38947183999428  |\n",
       "| {'movements': 1.0, 'social... |     elton     | 17.482320270031995 |\n",
       "| {'movements': 1.0, 'social... |   billboard   | 17.30368095754203  |\n",
       "| {'movements': 1.0, 'social... |      john     | 13.93931279239831  |\n",
       "| {'movements': 1.0, 'social... |  songwriters  | 11.250406447031539 |\n",
       "| {'movements': 1.0, 'social... |  overallelton | 10.986495389225194 |\n",
       "| {'movements': 1.0, 'social... | tonightcandle | 10.986495389225194 |\n",
       "| {'movements': 1.0, 'social... |    19702000   | 10.293348208665249 |\n",
       "| {'movements': 1.0, 'social... |   fivedecade  | 10.293348208665249 |\n",
       "| {'movements': 1.0, 'social... |      aids     | 10.262846934045534 |\n",
       "+-------------------------------+---------------+--------------------+\n",
       "[255 rows x 6 columns]\n",
       "Note: Only the head of the SFrame is printed.\n",
       "You can use print_rows(num_rows=m, num_columns=n) to print more rows and columns."
      ]
     },
     "execution_count": 50,
     "metadata": {},
     "output_type": "execute_result"
    }
   ],
   "source": [
    "john_table"
   ]
  },
  {
   "cell_type": "code",
   "execution_count": 52,
   "metadata": {},
   "outputs": [],
   "source": [
    "victoria = people[people['name']== 'Victoria Beckham']\n",
    "paul = people[people['name']== 'Paul McCartney']"
   ]
  },
  {
   "cell_type": "code",
   "execution_count": 55,
   "metadata": {},
   "outputs": [
    {
     "name": "stdout",
     "output_type": "stream",
     "text": [
      "0.9567006376655429\n",
      "0.8250310029221779\n"
     ]
    }
   ],
   "source": [
    "print(turicreate.distances.cosine(john['tfidf'][0],victoria['tfidf'][0]))\n",
    "print(turicreate.distances.cosine(john['tfidf'][0],paul['tfidf'][0]))"
   ]
  },
  {
   "cell_type": "code",
   "execution_count": 56,
   "metadata": {},
   "outputs": [
    {
     "data": {
      "text/html": [
       "<pre>Starting brute force nearest neighbors model training.</pre>"
      ],
      "text/plain": [
       "Starting brute force nearest neighbors model training."
      ]
     },
     "metadata": {},
     "output_type": "display_data"
    },
    {
     "data": {
      "text/html": [
       "<pre>Validating distance components.</pre>"
      ],
      "text/plain": [
       "Validating distance components."
      ]
     },
     "metadata": {},
     "output_type": "display_data"
    },
    {
     "data": {
      "text/html": [
       "<pre>Initializing model data.</pre>"
      ],
      "text/plain": [
       "Initializing model data."
      ]
     },
     "metadata": {},
     "output_type": "display_data"
    },
    {
     "data": {
      "text/html": [
       "<pre>Initializing distances.</pre>"
      ],
      "text/plain": [
       "Initializing distances."
      ]
     },
     "metadata": {},
     "output_type": "display_data"
    },
    {
     "data": {
      "text/html": [
       "<pre>Done.</pre>"
      ],
      "text/plain": [
       "Done."
      ]
     },
     "metadata": {},
     "output_type": "display_data"
    }
   ],
   "source": [
    "knn_word_count_model  = turicreate.nearest_neighbors.create(people,features=['word_count'],label='name',distance='cosine')"
   ]
  },
  {
   "cell_type": "code",
   "execution_count": 57,
   "metadata": {},
   "outputs": [
    {
     "data": {
      "text/html": [
       "<pre>Starting brute force nearest neighbors model training.</pre>"
      ],
      "text/plain": [
       "Starting brute force nearest neighbors model training."
      ]
     },
     "metadata": {},
     "output_type": "display_data"
    },
    {
     "data": {
      "text/html": [
       "<pre>Validating distance components.</pre>"
      ],
      "text/plain": [
       "Validating distance components."
      ]
     },
     "metadata": {},
     "output_type": "display_data"
    },
    {
     "data": {
      "text/html": [
       "<pre>Initializing model data.</pre>"
      ],
      "text/plain": [
       "Initializing model data."
      ]
     },
     "metadata": {},
     "output_type": "display_data"
    },
    {
     "data": {
      "text/html": [
       "<pre>Initializing distances.</pre>"
      ],
      "text/plain": [
       "Initializing distances."
      ]
     },
     "metadata": {},
     "output_type": "display_data"
    },
    {
     "data": {
      "text/html": [
       "<pre>Done.</pre>"
      ],
      "text/plain": [
       "Done."
      ]
     },
     "metadata": {},
     "output_type": "display_data"
    }
   ],
   "source": [
    "knn_tfidf_model  = turicreate.nearest_neighbors.create(people,features=['tfidf'],label='name',distance='cosine')"
   ]
  },
  {
   "cell_type": "code",
   "execution_count": 58,
   "metadata": {},
   "outputs": [
    {
     "data": {
      "text/html": [
       "<pre>Starting pairwise querying.</pre>"
      ],
      "text/plain": [
       "Starting pairwise querying."
      ]
     },
     "metadata": {},
     "output_type": "display_data"
    },
    {
     "data": {
      "text/html": [
       "<pre>+--------------+---------+-------------+--------------+</pre>"
      ],
      "text/plain": [
       "+--------------+---------+-------------+--------------+"
      ]
     },
     "metadata": {},
     "output_type": "display_data"
    },
    {
     "data": {
      "text/html": [
       "<pre>| Query points | # Pairs | % Complete. | Elapsed Time |</pre>"
      ],
      "text/plain": [
       "| Query points | # Pairs | % Complete. | Elapsed Time |"
      ]
     },
     "metadata": {},
     "output_type": "display_data"
    },
    {
     "data": {
      "text/html": [
       "<pre>+--------------+---------+-------------+--------------+</pre>"
      ],
      "text/plain": [
       "+--------------+---------+-------------+--------------+"
      ]
     },
     "metadata": {},
     "output_type": "display_data"
    },
    {
     "data": {
      "text/html": [
       "<pre>| 0            | 1       | 0.00169288  | 16.125ms     |</pre>"
      ],
      "text/plain": [
       "| 0            | 1       | 0.00169288  | 16.125ms     |"
      ]
     },
     "metadata": {},
     "output_type": "display_data"
    },
    {
     "data": {
      "text/html": [
       "<pre>| Done         |         | 100         | 270.211ms    |</pre>"
      ],
      "text/plain": [
       "| Done         |         | 100         | 270.211ms    |"
      ]
     },
     "metadata": {},
     "output_type": "display_data"
    },
    {
     "data": {
      "text/html": [
       "<pre>+--------------+---------+-------------+--------------+</pre>"
      ],
      "text/plain": [
       "+--------------+---------+-------------+--------------+"
      ]
     },
     "metadata": {},
     "output_type": "display_data"
    },
    {
     "data": {
      "text/html": [
       "<div style=\"max-height:1000px;max-width:1500px;overflow:auto;\"><table frame=\"box\" rules=\"cols\">\n",
       "    <tr>\n",
       "        <th style=\"padding-left: 1em; padding-right: 1em; text-align: center\">query_label</th>\n",
       "        <th style=\"padding-left: 1em; padding-right: 1em; text-align: center\">reference_label</th>\n",
       "        <th style=\"padding-left: 1em; padding-right: 1em; text-align: center\">distance</th>\n",
       "        <th style=\"padding-left: 1em; padding-right: 1em; text-align: center\">rank</th>\n",
       "    </tr>\n",
       "    <tr>\n",
       "        <td style=\"padding-left: 1em; padding-right: 1em; text-align: center; vertical-align: top\">0</td>\n",
       "        <td style=\"padding-left: 1em; padding-right: 1em; text-align: center; vertical-align: top\">Elton John</td>\n",
       "        <td style=\"padding-left: 1em; padding-right: 1em; text-align: center; vertical-align: top\">2.220446049250313e-16</td>\n",
       "        <td style=\"padding-left: 1em; padding-right: 1em; text-align: center; vertical-align: top\">1</td>\n",
       "    </tr>\n",
       "    <tr>\n",
       "        <td style=\"padding-left: 1em; padding-right: 1em; text-align: center; vertical-align: top\">0</td>\n",
       "        <td style=\"padding-left: 1em; padding-right: 1em; text-align: center; vertical-align: top\">Cliff Richard</td>\n",
       "        <td style=\"padding-left: 1em; padding-right: 1em; text-align: center; vertical-align: top\">0.16142415258967036</td>\n",
       "        <td style=\"padding-left: 1em; padding-right: 1em; text-align: center; vertical-align: top\">2</td>\n",
       "    </tr>\n",
       "    <tr>\n",
       "        <td style=\"padding-left: 1em; padding-right: 1em; text-align: center; vertical-align: top\">0</td>\n",
       "        <td style=\"padding-left: 1em; padding-right: 1em; text-align: center; vertical-align: top\">Sandro Petrone</td>\n",
       "        <td style=\"padding-left: 1em; padding-right: 1em; text-align: center; vertical-align: top\">0.16822542751041114</td>\n",
       "        <td style=\"padding-left: 1em; padding-right: 1em; text-align: center; vertical-align: top\">3</td>\n",
       "    </tr>\n",
       "    <tr>\n",
       "        <td style=\"padding-left: 1em; padding-right: 1em; text-align: center; vertical-align: top\">0</td>\n",
       "        <td style=\"padding-left: 1em; padding-right: 1em; text-align: center; vertical-align: top\">Rod Stewart</td>\n",
       "        <td style=\"padding-left: 1em; padding-right: 1em; text-align: center; vertical-align: top\">0.16832716558706107</td>\n",
       "        <td style=\"padding-left: 1em; padding-right: 1em; text-align: center; vertical-align: top\">4</td>\n",
       "    </tr>\n",
       "    <tr>\n",
       "        <td style=\"padding-left: 1em; padding-right: 1em; text-align: center; vertical-align: top\">0</td>\n",
       "        <td style=\"padding-left: 1em; padding-right: 1em; text-align: center; vertical-align: top\">Malachi O&#x27;Doherty</td>\n",
       "        <td style=\"padding-left: 1em; padding-right: 1em; text-align: center; vertical-align: top\">0.177315545978884</td>\n",
       "        <td style=\"padding-left: 1em; padding-right: 1em; text-align: center; vertical-align: top\">5</td>\n",
       "    </tr>\n",
       "</table>\n",
       "[5 rows x 4 columns]<br/>\n",
       "</div>"
      ],
      "text/plain": [
       "Columns:\n",
       "\tquery_label\tint\n",
       "\treference_label\tstr\n",
       "\tdistance\tfloat\n",
       "\trank\tint\n",
       "\n",
       "Rows: 5\n",
       "\n",
       "Data:\n",
       "+-------------+-------------------+-----------------------+------+\n",
       "| query_label |  reference_label  |        distance       | rank |\n",
       "+-------------+-------------------+-----------------------+------+\n",
       "|      0      |     Elton John    | 2.220446049250313e-16 |  1   |\n",
       "|      0      |   Cliff Richard   |  0.16142415258967036  |  2   |\n",
       "|      0      |   Sandro Petrone  |  0.16822542751041114  |  3   |\n",
       "|      0      |    Rod Stewart    |  0.16832716558706107  |  4   |\n",
       "|      0      | Malachi O'Doherty |   0.177315545978884   |  5   |\n",
       "+-------------+-------------------+-----------------------+------+\n",
       "[5 rows x 4 columns]"
      ]
     },
     "execution_count": 58,
     "metadata": {},
     "output_type": "execute_result"
    }
   ],
   "source": [
    "knn_word_count_model.query(john)"
   ]
  },
  {
   "cell_type": "code",
   "execution_count": 59,
   "metadata": {},
   "outputs": [
    {
     "data": {
      "text/html": [
       "<pre>Starting pairwise querying.</pre>"
      ],
      "text/plain": [
       "Starting pairwise querying."
      ]
     },
     "metadata": {},
     "output_type": "display_data"
    },
    {
     "data": {
      "text/html": [
       "<pre>+--------------+---------+-------------+--------------+</pre>"
      ],
      "text/plain": [
       "+--------------+---------+-------------+--------------+"
      ]
     },
     "metadata": {},
     "output_type": "display_data"
    },
    {
     "data": {
      "text/html": [
       "<pre>| Query points | # Pairs | % Complete. | Elapsed Time |</pre>"
      ],
      "text/plain": [
       "| Query points | # Pairs | % Complete. | Elapsed Time |"
      ]
     },
     "metadata": {},
     "output_type": "display_data"
    },
    {
     "data": {
      "text/html": [
       "<pre>+--------------+---------+-------------+--------------+</pre>"
      ],
      "text/plain": [
       "+--------------+---------+-------------+--------------+"
      ]
     },
     "metadata": {},
     "output_type": "display_data"
    },
    {
     "data": {
      "text/html": [
       "<pre>| 0            | 1       | 0.00169288  | 8.739ms      |</pre>"
      ],
      "text/plain": [
       "| 0            | 1       | 0.00169288  | 8.739ms      |"
      ]
     },
     "metadata": {},
     "output_type": "display_data"
    },
    {
     "data": {
      "text/html": [
       "<pre>| Done         |         | 100         | 231.366ms    |</pre>"
      ],
      "text/plain": [
       "| Done         |         | 100         | 231.366ms    |"
      ]
     },
     "metadata": {},
     "output_type": "display_data"
    },
    {
     "data": {
      "text/html": [
       "<pre>+--------------+---------+-------------+--------------+</pre>"
      ],
      "text/plain": [
       "+--------------+---------+-------------+--------------+"
      ]
     },
     "metadata": {},
     "output_type": "display_data"
    },
    {
     "data": {
      "text/html": [
       "<div style=\"max-height:1000px;max-width:1500px;overflow:auto;\"><table frame=\"box\" rules=\"cols\">\n",
       "    <tr>\n",
       "        <th style=\"padding-left: 1em; padding-right: 1em; text-align: center\">query_label</th>\n",
       "        <th style=\"padding-left: 1em; padding-right: 1em; text-align: center\">reference_label</th>\n",
       "        <th style=\"padding-left: 1em; padding-right: 1em; text-align: center\">distance</th>\n",
       "        <th style=\"padding-left: 1em; padding-right: 1em; text-align: center\">rank</th>\n",
       "    </tr>\n",
       "    <tr>\n",
       "        <td style=\"padding-left: 1em; padding-right: 1em; text-align: center; vertical-align: top\">0</td>\n",
       "        <td style=\"padding-left: 1em; padding-right: 1em; text-align: center; vertical-align: top\">Elton John</td>\n",
       "        <td style=\"padding-left: 1em; padding-right: 1em; text-align: center; vertical-align: top\">-2.220446049250313e-16</td>\n",
       "        <td style=\"padding-left: 1em; padding-right: 1em; text-align: center; vertical-align: top\">1</td>\n",
       "    </tr>\n",
       "    <tr>\n",
       "        <td style=\"padding-left: 1em; padding-right: 1em; text-align: center; vertical-align: top\">0</td>\n",
       "        <td style=\"padding-left: 1em; padding-right: 1em; text-align: center; vertical-align: top\">Rod Stewart</td>\n",
       "        <td style=\"padding-left: 1em; padding-right: 1em; text-align: center; vertical-align: top\">0.7172196678927374</td>\n",
       "        <td style=\"padding-left: 1em; padding-right: 1em; text-align: center; vertical-align: top\">2</td>\n",
       "    </tr>\n",
       "    <tr>\n",
       "        <td style=\"padding-left: 1em; padding-right: 1em; text-align: center; vertical-align: top\">0</td>\n",
       "        <td style=\"padding-left: 1em; padding-right: 1em; text-align: center; vertical-align: top\">George Michael</td>\n",
       "        <td style=\"padding-left: 1em; padding-right: 1em; text-align: center; vertical-align: top\">0.7476009989692848</td>\n",
       "        <td style=\"padding-left: 1em; padding-right: 1em; text-align: center; vertical-align: top\">3</td>\n",
       "    </tr>\n",
       "    <tr>\n",
       "        <td style=\"padding-left: 1em; padding-right: 1em; text-align: center; vertical-align: top\">0</td>\n",
       "        <td style=\"padding-left: 1em; padding-right: 1em; text-align: center; vertical-align: top\">Sting (musician)</td>\n",
       "        <td style=\"padding-left: 1em; padding-right: 1em; text-align: center; vertical-align: top\">0.7476719544306141</td>\n",
       "        <td style=\"padding-left: 1em; padding-right: 1em; text-align: center; vertical-align: top\">4</td>\n",
       "    </tr>\n",
       "    <tr>\n",
       "        <td style=\"padding-left: 1em; padding-right: 1em; text-align: center; vertical-align: top\">0</td>\n",
       "        <td style=\"padding-left: 1em; padding-right: 1em; text-align: center; vertical-align: top\">Phil Collins</td>\n",
       "        <td style=\"padding-left: 1em; padding-right: 1em; text-align: center; vertical-align: top\">0.7511932487904706</td>\n",
       "        <td style=\"padding-left: 1em; padding-right: 1em; text-align: center; vertical-align: top\">5</td>\n",
       "    </tr>\n",
       "</table>\n",
       "[5 rows x 4 columns]<br/>\n",
       "</div>"
      ],
      "text/plain": [
       "Columns:\n",
       "\tquery_label\tint\n",
       "\treference_label\tstr\n",
       "\tdistance\tfloat\n",
       "\trank\tint\n",
       "\n",
       "Rows: 5\n",
       "\n",
       "Data:\n",
       "+-------------+------------------+------------------------+------+\n",
       "| query_label | reference_label  |        distance        | rank |\n",
       "+-------------+------------------+------------------------+------+\n",
       "|      0      |    Elton John    | -2.220446049250313e-16 |  1   |\n",
       "|      0      |   Rod Stewart    |   0.7172196678927374   |  2   |\n",
       "|      0      |  George Michael  |   0.7476009989692848   |  3   |\n",
       "|      0      | Sting (musician) |   0.7476719544306141   |  4   |\n",
       "|      0      |   Phil Collins   |   0.7511932487904706   |  5   |\n",
       "+-------------+------------------+------------------------+------+\n",
       "[5 rows x 4 columns]"
      ]
     },
     "execution_count": 59,
     "metadata": {},
     "output_type": "execute_result"
    }
   ],
   "source": [
    "knn_tfidf_model.query(john)"
   ]
  },
  {
   "cell_type": "code",
   "execution_count": 60,
   "metadata": {},
   "outputs": [
    {
     "data": {
      "text/html": [
       "<pre>Starting pairwise querying.</pre>"
      ],
      "text/plain": [
       "Starting pairwise querying."
      ]
     },
     "metadata": {},
     "output_type": "display_data"
    },
    {
     "data": {
      "text/html": [
       "<pre>+--------------+---------+-------------+--------------+</pre>"
      ],
      "text/plain": [
       "+--------------+---------+-------------+--------------+"
      ]
     },
     "metadata": {},
     "output_type": "display_data"
    },
    {
     "data": {
      "text/html": [
       "<pre>| Query points | # Pairs | % Complete. | Elapsed Time |</pre>"
      ],
      "text/plain": [
       "| Query points | # Pairs | % Complete. | Elapsed Time |"
      ]
     },
     "metadata": {},
     "output_type": "display_data"
    },
    {
     "data": {
      "text/html": [
       "<pre>+--------------+---------+-------------+--------------+</pre>"
      ],
      "text/plain": [
       "+--------------+---------+-------------+--------------+"
      ]
     },
     "metadata": {},
     "output_type": "display_data"
    },
    {
     "data": {
      "text/html": [
       "<pre>| 0            | 1       | 0.00169288  | 17.455ms     |</pre>"
      ],
      "text/plain": [
       "| 0            | 1       | 0.00169288  | 17.455ms     |"
      ]
     },
     "metadata": {},
     "output_type": "display_data"
    },
    {
     "data": {
      "text/html": [
       "<pre>| Done         |         | 100         | 217.267ms    |</pre>"
      ],
      "text/plain": [
       "| Done         |         | 100         | 217.267ms    |"
      ]
     },
     "metadata": {},
     "output_type": "display_data"
    },
    {
     "data": {
      "text/html": [
       "<pre>+--------------+---------+-------------+--------------+</pre>"
      ],
      "text/plain": [
       "+--------------+---------+-------------+--------------+"
      ]
     },
     "metadata": {},
     "output_type": "display_data"
    },
    {
     "data": {
      "text/html": [
       "<div style=\"max-height:1000px;max-width:1500px;overflow:auto;\"><table frame=\"box\" rules=\"cols\">\n",
       "    <tr>\n",
       "        <th style=\"padding-left: 1em; padding-right: 1em; text-align: center\">query_label</th>\n",
       "        <th style=\"padding-left: 1em; padding-right: 1em; text-align: center\">reference_label</th>\n",
       "        <th style=\"padding-left: 1em; padding-right: 1em; text-align: center\">distance</th>\n",
       "        <th style=\"padding-left: 1em; padding-right: 1em; text-align: center\">rank</th>\n",
       "    </tr>\n",
       "    <tr>\n",
       "        <td style=\"padding-left: 1em; padding-right: 1em; text-align: center; vertical-align: top\">0</td>\n",
       "        <td style=\"padding-left: 1em; padding-right: 1em; text-align: center; vertical-align: top\">Victoria Beckham</td>\n",
       "        <td style=\"padding-left: 1em; padding-right: 1em; text-align: center; vertical-align: top\">-2.220446049250313e-16</td>\n",
       "        <td style=\"padding-left: 1em; padding-right: 1em; text-align: center; vertical-align: top\">1</td>\n",
       "    </tr>\n",
       "    <tr>\n",
       "        <td style=\"padding-left: 1em; padding-right: 1em; text-align: center; vertical-align: top\">0</td>\n",
       "        <td style=\"padding-left: 1em; padding-right: 1em; text-align: center; vertical-align: top\">Mary Fitzgerald (artist)</td>\n",
       "        <td style=\"padding-left: 1em; padding-right: 1em; text-align: center; vertical-align: top\">0.20730703611504997</td>\n",
       "        <td style=\"padding-left: 1em; padding-right: 1em; text-align: center; vertical-align: top\">2</td>\n",
       "    </tr>\n",
       "    <tr>\n",
       "        <td style=\"padding-left: 1em; padding-right: 1em; text-align: center; vertical-align: top\">0</td>\n",
       "        <td style=\"padding-left: 1em; padding-right: 1em; text-align: center; vertical-align: top\">Adrienne Corri</td>\n",
       "        <td style=\"padding-left: 1em; padding-right: 1em; text-align: center; vertical-align: top\">0.21450978278754795</td>\n",
       "        <td style=\"padding-left: 1em; padding-right: 1em; text-align: center; vertical-align: top\">3</td>\n",
       "    </tr>\n",
       "    <tr>\n",
       "        <td style=\"padding-left: 1em; padding-right: 1em; text-align: center; vertical-align: top\">0</td>\n",
       "        <td style=\"padding-left: 1em; padding-right: 1em; text-align: center; vertical-align: top\">Beverly Jane Fry</td>\n",
       "        <td style=\"padding-left: 1em; padding-right: 1em; text-align: center; vertical-align: top\">0.21746646874079278</td>\n",
       "        <td style=\"padding-left: 1em; padding-right: 1em; text-align: center; vertical-align: top\">4</td>\n",
       "    </tr>\n",
       "    <tr>\n",
       "        <td style=\"padding-left: 1em; padding-right: 1em; text-align: center; vertical-align: top\">0</td>\n",
       "        <td style=\"padding-left: 1em; padding-right: 1em; text-align: center; vertical-align: top\">Raman Mundair</td>\n",
       "        <td style=\"padding-left: 1em; padding-right: 1em; text-align: center; vertical-align: top\">0.21769547499150488</td>\n",
       "        <td style=\"padding-left: 1em; padding-right: 1em; text-align: center; vertical-align: top\">5</td>\n",
       "    </tr>\n",
       "</table>\n",
       "[5 rows x 4 columns]<br/>\n",
       "</div>"
      ],
      "text/plain": [
       "Columns:\n",
       "\tquery_label\tint\n",
       "\treference_label\tstr\n",
       "\tdistance\tfloat\n",
       "\trank\tint\n",
       "\n",
       "Rows: 5\n",
       "\n",
       "Data:\n",
       "+-------------+--------------------------+------------------------+------+\n",
       "| query_label |     reference_label      |        distance        | rank |\n",
       "+-------------+--------------------------+------------------------+------+\n",
       "|      0      |     Victoria Beckham     | -2.220446049250313e-16 |  1   |\n",
       "|      0      | Mary Fitzgerald (artist) |  0.20730703611504997   |  2   |\n",
       "|      0      |      Adrienne Corri      |  0.21450978278754795   |  3   |\n",
       "|      0      |     Beverly Jane Fry     |  0.21746646874079278   |  4   |\n",
       "|      0      |      Raman Mundair       |  0.21769547499150488   |  5   |\n",
       "+-------------+--------------------------+------------------------+------+\n",
       "[5 rows x 4 columns]"
      ]
     },
     "execution_count": 60,
     "metadata": {},
     "output_type": "execute_result"
    }
   ],
   "source": [
    "knn_word_count_model.query(victoria)"
   ]
  },
  {
   "cell_type": "code",
   "execution_count": 61,
   "metadata": {},
   "outputs": [
    {
     "data": {
      "text/html": [
       "<pre>Starting pairwise querying.</pre>"
      ],
      "text/plain": [
       "Starting pairwise querying."
      ]
     },
     "metadata": {},
     "output_type": "display_data"
    },
    {
     "data": {
      "text/html": [
       "<pre>+--------------+---------+-------------+--------------+</pre>"
      ],
      "text/plain": [
       "+--------------+---------+-------------+--------------+"
      ]
     },
     "metadata": {},
     "output_type": "display_data"
    },
    {
     "data": {
      "text/html": [
       "<pre>| Query points | # Pairs | % Complete. | Elapsed Time |</pre>"
      ],
      "text/plain": [
       "| Query points | # Pairs | % Complete. | Elapsed Time |"
      ]
     },
     "metadata": {},
     "output_type": "display_data"
    },
    {
     "data": {
      "text/html": [
       "<pre>+--------------+---------+-------------+--------------+</pre>"
      ],
      "text/plain": [
       "+--------------+---------+-------------+--------------+"
      ]
     },
     "metadata": {},
     "output_type": "display_data"
    },
    {
     "data": {
      "text/html": [
       "<pre>| 0            | 1       | 0.00169288  | 7.27ms       |</pre>"
      ],
      "text/plain": [
       "| 0            | 1       | 0.00169288  | 7.27ms       |"
      ]
     },
     "metadata": {},
     "output_type": "display_data"
    },
    {
     "data": {
      "text/html": [
       "<pre>| Done         |         | 100         | 226.873ms    |</pre>"
      ],
      "text/plain": [
       "| Done         |         | 100         | 226.873ms    |"
      ]
     },
     "metadata": {},
     "output_type": "display_data"
    },
    {
     "data": {
      "text/html": [
       "<pre>+--------------+---------+-------------+--------------+</pre>"
      ],
      "text/plain": [
       "+--------------+---------+-------------+--------------+"
      ]
     },
     "metadata": {},
     "output_type": "display_data"
    },
    {
     "data": {
      "text/html": [
       "<div style=\"max-height:1000px;max-width:1500px;overflow:auto;\"><table frame=\"box\" rules=\"cols\">\n",
       "    <tr>\n",
       "        <th style=\"padding-left: 1em; padding-right: 1em; text-align: center\">query_label</th>\n",
       "        <th style=\"padding-left: 1em; padding-right: 1em; text-align: center\">reference_label</th>\n",
       "        <th style=\"padding-left: 1em; padding-right: 1em; text-align: center\">distance</th>\n",
       "        <th style=\"padding-left: 1em; padding-right: 1em; text-align: center\">rank</th>\n",
       "    </tr>\n",
       "    <tr>\n",
       "        <td style=\"padding-left: 1em; padding-right: 1em; text-align: center; vertical-align: top\">0</td>\n",
       "        <td style=\"padding-left: 1em; padding-right: 1em; text-align: center; vertical-align: top\">Victoria Beckham</td>\n",
       "        <td style=\"padding-left: 1em; padding-right: 1em; text-align: center; vertical-align: top\">1.1102230246251565e-16</td>\n",
       "        <td style=\"padding-left: 1em; padding-right: 1em; text-align: center; vertical-align: top\">1</td>\n",
       "    </tr>\n",
       "    <tr>\n",
       "        <td style=\"padding-left: 1em; padding-right: 1em; text-align: center; vertical-align: top\">0</td>\n",
       "        <td style=\"padding-left: 1em; padding-right: 1em; text-align: center; vertical-align: top\">David Beckham</td>\n",
       "        <td style=\"padding-left: 1em; padding-right: 1em; text-align: center; vertical-align: top\">0.5481696102632145</td>\n",
       "        <td style=\"padding-left: 1em; padding-right: 1em; text-align: center; vertical-align: top\">2</td>\n",
       "    </tr>\n",
       "    <tr>\n",
       "        <td style=\"padding-left: 1em; padding-right: 1em; text-align: center; vertical-align: top\">0</td>\n",
       "        <td style=\"padding-left: 1em; padding-right: 1em; text-align: center; vertical-align: top\">Stephen Dow Beckham</td>\n",
       "        <td style=\"padding-left: 1em; padding-right: 1em; text-align: center; vertical-align: top\">0.7849867068283364</td>\n",
       "        <td style=\"padding-left: 1em; padding-right: 1em; text-align: center; vertical-align: top\">3</td>\n",
       "    </tr>\n",
       "    <tr>\n",
       "        <td style=\"padding-left: 1em; padding-right: 1em; text-align: center; vertical-align: top\">0</td>\n",
       "        <td style=\"padding-left: 1em; padding-right: 1em; text-align: center; vertical-align: top\">Mel B</td>\n",
       "        <td style=\"padding-left: 1em; padding-right: 1em; text-align: center; vertical-align: top\">0.8095855234085036</td>\n",
       "        <td style=\"padding-left: 1em; padding-right: 1em; text-align: center; vertical-align: top\">4</td>\n",
       "    </tr>\n",
       "    <tr>\n",
       "        <td style=\"padding-left: 1em; padding-right: 1em; text-align: center; vertical-align: top\">0</td>\n",
       "        <td style=\"padding-left: 1em; padding-right: 1em; text-align: center; vertical-align: top\">Caroline Rush</td>\n",
       "        <td style=\"padding-left: 1em; padding-right: 1em; text-align: center; vertical-align: top\">0.81982642291868</td>\n",
       "        <td style=\"padding-left: 1em; padding-right: 1em; text-align: center; vertical-align: top\">5</td>\n",
       "    </tr>\n",
       "</table>\n",
       "[5 rows x 4 columns]<br/>\n",
       "</div>"
      ],
      "text/plain": [
       "Columns:\n",
       "\tquery_label\tint\n",
       "\treference_label\tstr\n",
       "\tdistance\tfloat\n",
       "\trank\tint\n",
       "\n",
       "Rows: 5\n",
       "\n",
       "Data:\n",
       "+-------------+---------------------+------------------------+------+\n",
       "| query_label |   reference_label   |        distance        | rank |\n",
       "+-------------+---------------------+------------------------+------+\n",
       "|      0      |   Victoria Beckham  | 1.1102230246251565e-16 |  1   |\n",
       "|      0      |    David Beckham    |   0.5481696102632145   |  2   |\n",
       "|      0      | Stephen Dow Beckham |   0.7849867068283364   |  3   |\n",
       "|      0      |        Mel B        |   0.8095855234085036   |  4   |\n",
       "|      0      |    Caroline Rush    |    0.81982642291868    |  5   |\n",
       "+-------------+---------------------+------------------------+------+\n",
       "[5 rows x 4 columns]"
      ]
     },
     "execution_count": 61,
     "metadata": {},
     "output_type": "execute_result"
    }
   ],
   "source": [
    "knn_tfidf_model.query(victoria)"
   ]
  },
  {
   "cell_type": "code",
   "execution_count": null,
   "metadata": {},
   "outputs": [],
   "source": []
  }
 ],
 "metadata": {
  "kernelspec": {
   "display_name": "Python 3",
   "language": "python",
   "name": "python3"
  },
  "language_info": {
   "codemirror_mode": {
    "name": "ipython",
    "version": 3
   },
   "file_extension": ".py",
   "mimetype": "text/x-python",
   "name": "python",
   "nbconvert_exporter": "python",
   "pygments_lexer": "ipython3",
   "version": "3.8.2"
  }
 },
 "nbformat": 4,
 "nbformat_minor": 4
}
